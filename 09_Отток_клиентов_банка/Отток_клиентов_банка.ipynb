{
 "cells": [
  {
   "cell_type": "markdown",
   "metadata": {},
   "source": [
    "# Содержание <a id=\"содержание\"></a>"
   ]
  },
  {
   "cell_type": "markdown",
   "metadata": {
    "ExecuteTime": {
     "end_time": "2021-07-30T15:47:56.438855Z",
     "start_time": "2021-07-30T15:47:56.420069Z"
    }
   },
   "source": [
    "- [1 Отток клиентов](#1)\n",
    " - [1.1 Задание](#1_1)\n",
    " - [1.2 Описание данных](#1_2)\n",
    "- [2 Подготовка данных](#2)\n",
    " - [2.1 Загрузка данных](#2_1)\n",
    " - [2.2 Предобработка данных](#2_2)\n",
    " - [2.3 Масштабирование и кодирование признаков](#2_3)\n",
    "- [3 Исследование задачи](#3)\n",
    " - [3.1 Формирование обучающей, валидационной и тестовой выборок](#3_1)\n",
    " - [3.2 Случайный лес](#3_2)\n",
    " - [3.3  Логистическая регрессия](#3_3)\n",
    " - [3.4 Вывод](#3_4)\n",
    "- [4 Борьба с дисбалансом](#4)\n",
    " - [4.1 Случайный лес](#4_1)\n",
    " - [4.2 Логистическая регрессия](#4_2)\n",
    " - [4.3 Вывод](#4_3)\n",
    "- [5 Тестирование модели](#5)\n",
    "- [6 Вывод](#6)\n",
    "- [7 Чек-лист готовности модели](#7)"
   ]
  },
  {
   "cell_type": "markdown",
   "metadata": {},
   "source": [
    "# 1 Отток клиентов [▲](#содержание) <a id=\"1\"></a>"
   ]
  },
  {
   "cell_type": "markdown",
   "metadata": {},
   "source": [
    "## 1.1 Задание [▲](#содержание) <a id=\"1_1\"></a>"
   ]
  },
  {
   "cell_type": "markdown",
   "metadata": {},
   "source": [
    "Из «Бета-Банка» стали уходить клиенты. Каждый месяц. Немного, но заметно. Банковские маркетологи посчитали: сохранять текущих клиентов дешевле, чем привлекать новых.\n",
    "\n",
    "Нужно спрогнозировать, уйдёт клиент из банка в ближайшее время или нет. Вам предоставлены исторические данные о поведении клиентов и расторжении договоров с банком. \n",
    "\n",
    "Постройте модель с предельно большим значением *F1*-меры. Чтобы сдать проект успешно, нужно довести метрику до 0.59. Проверьте *F1*-меру на тестовой выборке самостоятельно.\n",
    "\n",
    "Дополнительно измеряйте *AUC-ROC*, сравнивайте её значение с *F1*-мерой.\n",
    "\n",
    "Источник данных: [https://www.kaggle.com/barelydedicated/bank-customer-churn-modeling](https://www.kaggle.com/barelydedicated/bank-customer-churn-modeling)"
   ]
  },
  {
   "cell_type": "markdown",
   "metadata": {
    "ExecuteTime": {
     "end_time": "2021-08-01T13:41:06.670638Z",
     "start_time": "2021-08-01T13:41:06.651770Z"
    }
   },
   "source": [
    "## 1.2 Описание данных [▲](#содержание) <a id=\"1_2\"></a>"
   ]
  },
  {
   "cell_type": "markdown",
   "metadata": {},
   "source": [
    "Признаки:\n",
    "- RowNumber — индекс строки в данных\n",
    "- CustomerId — уникальный идентификатор клиента\n",
    "- Surname — фамилия\n",
    "- CreditScore — кредитный рейтинг\n",
    "- Geography — страна проживания\n",
    "- Gender — пол\n",
    "- Age — возраст\n",
    "- Tenure — сколько лет человек является клиентом банка\n",
    "- Balance — баланс на счёте\n",
    "- NumOfProducts — количество продуктов банка, используемых клиентом\n",
    "- HasCrCard — наличие кредитной карты\n",
    "- IsActiveMember — активность клиента\n",
    "- EstimatedSalary — предполагаемая зарплата\n",
    "\n",
    "Целевой признак:\n",
    "- Exited — факт ухода клиента"
   ]
  },
  {
   "cell_type": "markdown",
   "metadata": {},
   "source": [
    "## 2 Подготовка данных [▲](#содержание) <a id=\"2\"></a>"
   ]
  },
  {
   "cell_type": "markdown",
   "metadata": {},
   "source": [
    "### 2.1 Загрузка данных [▲](#содержание) <a id=\"2_1\"></a>"
   ]
  },
  {
   "cell_type": "markdown",
   "metadata": {
    "ExecuteTime": {
     "end_time": "2021-08-01T16:51:10.163181Z",
     "start_time": "2021-08-01T16:51:10.140822Z"
    }
   },
   "source": [
    "Подключим модули языка Python."
   ]
  },
  {
   "cell_type": "code",
   "execution_count": 1,
   "metadata": {
    "ExecuteTime": {
     "end_time": "2021-10-16T10:57:05.663255Z",
     "start_time": "2021-10-16T10:57:00.623380Z"
    }
   },
   "outputs": [],
   "source": [
    "# Подключение модулей\n",
    "\n",
    "import pandas as pd\n",
    "import numpy as np\n",
    "import matplotlib.pyplot as plt\n",
    "from sklearn.model_selection import train_test_split\n",
    "from sklearn.preprocessing import StandardScaler \n",
    "from sklearn.ensemble import RandomForestClassifier\n",
    "from sklearn.linear_model import LogisticRegression\n",
    "from sklearn.metrics import f1_score\n",
    "from sklearn.utils import shuffle\n",
    "from sklearn.metrics import roc_curve\n",
    "from sklearn.metrics import roc_auc_score\n",
    "pd.options.mode.chained_assignment = None\n",
    "\n",
    "%precision %.2f\n",
    "pd.options.display.float_format = '{:,.2f}'.format"
   ]
  },
  {
   "cell_type": "code",
   "execution_count": 2,
   "metadata": {
    "ExecuteTime": {
     "end_time": "2021-10-16T10:57:05.678924Z",
     "start_time": "2021-10-16T10:57:05.664242Z"
    }
   },
   "outputs": [],
   "source": [
    "def df_info(data_frame, nulls_percent_round=1, deep_memory_usage=False):\n",
    "    '''\n",
    "    Функция для вывода общей информации о таблице\n",
    "    '''\n",
    "    t = pd.concat(\n",
    "        [\n",
    "         \n",
    "            data_frame.isna().sum().to_frame('nulls_count'),\n",
    "            (100 * data_frame.isna().sum() / len(data_frame)).round(nulls_percent_round).to_frame('nulls_percent'),\n",
    "            data_frame.dtypes.to_frame('dtype')\n",
    "        ],\n",
    "        axis=1\n",
    "    )\n",
    "    s = 'dtypes:'\n",
    "    c = data_frame.dtypes.value_counts()\n",
    "    for i in c.index:\n",
    "        s += ' {0}({1})'.format(i, c[i])\n",
    "    m = data_frame.memory_usage(deep=deep_memory_usage).sum()\n",
    "    if int(m / 1024 ** 3):\n",
    "        d, b = 1024 ** 3, 'GB'\n",
    "    elif int(m / 1024 ** 2):\n",
    "        d, b = 1024 ** 2, 'MB'\n",
    "    else:\n",
    "        d, b = 1024, 'KB'\n",
    "    print(t)\n",
    "    print('columns: ', data_frame.shape[1], ', rows: ', data_frame.shape[0], sep='')\n",
    "    print(s)\n",
    "    print('memory_usage: ', round(m / d, 1), '+ ' if not deep_memory_usage else ' ', b, sep='')\n",
    "\n",
    "def upsample(features, target, repeat, positive=True):\n",
    "    '''\n",
    "    Функция увеличения выборки\n",
    "    '''\n",
    "    # Разделение выборок на объекты по классам\n",
    "    features_zeros = features[target == 0]\n",
    "    features_ones = features[target == 1]\n",
    "    target_zeros = target[target == 0]\n",
    "    target_ones = target[target == 1]\n",
    "    # Увеличение количества положительных или отрицательных объектов в зависимости от параметра\n",
    "    if positive:\n",
    "        features_upsampled = pd.concat([features_zeros] + [features_ones] * repeat)\n",
    "        target_upsampled = pd.concat([target_zeros] + [target_ones] * repeat)\n",
    "    else:\n",
    "        features_upsampled = pd.concat([features_zeros] * repeat + [features_ones])\n",
    "        target_upsampled = pd.concat([target_zeros] * repeat + [target_ones])\n",
    "    # Перетасовка выборок\n",
    "    features_upsampled, target_upsampled =\\\n",
    "        shuffle(features_upsampled, target_upsampled, random_state=12345)\n",
    "    return features_upsampled, target_upsampled\n",
    "\n",
    "def downsample(features, target, fraction, positive=True):\n",
    "    '''\n",
    "    Функция уменьшения выборки\n",
    "    '''\n",
    "    # Разделение выборок на объекты по классам\n",
    "    features_zeros = features[target == 0]\n",
    "    features_ones = features[target == 1]\n",
    "    target_zeros = target[target == 0]\n",
    "    target_ones = target[target == 1]\n",
    "    # Уменьшение количества положительных или отрицательных объектов в зависимости от параметра\n",
    "    if positive:\n",
    "        features_downsampled = pd.concat([features_zeros] + [features_ones.sample(frac=fraction, random_state=12345)])\n",
    "        target_downsampled = pd.concat([target_zeros] + [target_ones.sample(frac=fraction, random_state=12345)])\n",
    "    else: \n",
    "        features_downsampled = pd.concat([features_zeros.sample(frac=fraction, random_state=12345)] + [features_ones])\n",
    "        target_downsampled = pd.concat([target_zeros.sample(frac=fraction, random_state=12345)] + [target_ones])\n",
    "    features_downsampled, target_downsampled =\\\n",
    "        shuffle(features_downsampled, target_downsampled, random_state=12345)\n",
    "    return features_downsampled, target_downsampled"
   ]
  },
  {
   "cell_type": "markdown",
   "metadata": {},
   "source": [
    "Загрузим таблицу исходных данных о клиентах \"Бета-Банка\"."
   ]
  },
  {
   "cell_type": "code",
   "execution_count": 3,
   "metadata": {
    "ExecuteTime": {
     "end_time": "2021-10-16T10:57:06.083065Z",
     "start_time": "2021-10-16T10:57:05.680523Z"
    }
   },
   "outputs": [
    {
     "name": "stdout",
     "output_type": "stream",
     "text": [
      "Таблица data из файла https://code.s3.yandex.net/datasets/Churn.csv загружена в переменную data\n"
     ]
    }
   ],
   "source": [
    "# Загрузка данных (код из одного из предыдущих проектов)\n",
    "\n",
    "# Возможные пути расположения файлов\n",
    "filepaths = {\n",
    "    'data': ['/datasets/Churn.csv', './Churn.csv', 'https://code.s3.yandex.net/datasets/Churn.csv']\n",
    "}\n",
    "\n",
    "# Загрузка данных по первому валидному пути\n",
    "for k in filepaths.keys():\n",
    "    for filepath in filepaths[k]:\n",
    "        try:\n",
    "            dfvarname = k\n",
    "            exec(dfvarname + ' = pd.read_csv(filepath)')\n",
    "            print('Таблица ' + k + ' из файла ' + filepath + ' загружена в переменную ' + dfvarname)\n",
    "            break\n",
    "        except Exception:\n",
    "            continue\n",
    "    else:\n",
    "        raise SystemExit('Файл с таблицей ' + k + ' не найден ни по одному из путей в списке filepaths')"
   ]
  },
  {
   "cell_type": "markdown",
   "metadata": {},
   "source": [
    "### 2.2 Предобработка данных [▲](#содержание) <a id=\"2_2\"></a>"
   ]
  },
  {
   "cell_type": "markdown",
   "metadata": {},
   "source": [
    "Выведем начало таблицы."
   ]
  },
  {
   "cell_type": "code",
   "execution_count": 4,
   "metadata": {
    "ExecuteTime": {
     "end_time": "2021-10-16T10:57:06.114082Z",
     "start_time": "2021-10-16T10:57:06.084979Z"
    }
   },
   "outputs": [
    {
     "data": {
      "text/html": [
       "<div>\n",
       "<style scoped>\n",
       "    .dataframe tbody tr th:only-of-type {\n",
       "        vertical-align: middle;\n",
       "    }\n",
       "\n",
       "    .dataframe tbody tr th {\n",
       "        vertical-align: top;\n",
       "    }\n",
       "\n",
       "    .dataframe thead th {\n",
       "        text-align: right;\n",
       "    }\n",
       "</style>\n",
       "<table border=\"1\" class=\"dataframe\">\n",
       "  <thead>\n",
       "    <tr style=\"text-align: right;\">\n",
       "      <th></th>\n",
       "      <th>RowNumber</th>\n",
       "      <th>CustomerId</th>\n",
       "      <th>Surname</th>\n",
       "      <th>CreditScore</th>\n",
       "      <th>Geography</th>\n",
       "      <th>Gender</th>\n",
       "      <th>Age</th>\n",
       "      <th>Tenure</th>\n",
       "      <th>Balance</th>\n",
       "      <th>NumOfProducts</th>\n",
       "      <th>HasCrCard</th>\n",
       "      <th>IsActiveMember</th>\n",
       "      <th>EstimatedSalary</th>\n",
       "      <th>Exited</th>\n",
       "    </tr>\n",
       "  </thead>\n",
       "  <tbody>\n",
       "    <tr>\n",
       "      <th>0</th>\n",
       "      <td>1</td>\n",
       "      <td>15634602</td>\n",
       "      <td>Hargrave</td>\n",
       "      <td>619</td>\n",
       "      <td>France</td>\n",
       "      <td>Female</td>\n",
       "      <td>42</td>\n",
       "      <td>2.00</td>\n",
       "      <td>0.00</td>\n",
       "      <td>1</td>\n",
       "      <td>1</td>\n",
       "      <td>1</td>\n",
       "      <td>101,348.88</td>\n",
       "      <td>1</td>\n",
       "    </tr>\n",
       "    <tr>\n",
       "      <th>1</th>\n",
       "      <td>2</td>\n",
       "      <td>15647311</td>\n",
       "      <td>Hill</td>\n",
       "      <td>608</td>\n",
       "      <td>Spain</td>\n",
       "      <td>Female</td>\n",
       "      <td>41</td>\n",
       "      <td>1.00</td>\n",
       "      <td>83,807.86</td>\n",
       "      <td>1</td>\n",
       "      <td>0</td>\n",
       "      <td>1</td>\n",
       "      <td>112,542.58</td>\n",
       "      <td>0</td>\n",
       "    </tr>\n",
       "    <tr>\n",
       "      <th>2</th>\n",
       "      <td>3</td>\n",
       "      <td>15619304</td>\n",
       "      <td>Onio</td>\n",
       "      <td>502</td>\n",
       "      <td>France</td>\n",
       "      <td>Female</td>\n",
       "      <td>42</td>\n",
       "      <td>8.00</td>\n",
       "      <td>159,660.80</td>\n",
       "      <td>3</td>\n",
       "      <td>1</td>\n",
       "      <td>0</td>\n",
       "      <td>113,931.57</td>\n",
       "      <td>1</td>\n",
       "    </tr>\n",
       "    <tr>\n",
       "      <th>3</th>\n",
       "      <td>4</td>\n",
       "      <td>15701354</td>\n",
       "      <td>Boni</td>\n",
       "      <td>699</td>\n",
       "      <td>France</td>\n",
       "      <td>Female</td>\n",
       "      <td>39</td>\n",
       "      <td>1.00</td>\n",
       "      <td>0.00</td>\n",
       "      <td>2</td>\n",
       "      <td>0</td>\n",
       "      <td>0</td>\n",
       "      <td>93,826.63</td>\n",
       "      <td>0</td>\n",
       "    </tr>\n",
       "    <tr>\n",
       "      <th>4</th>\n",
       "      <td>5</td>\n",
       "      <td>15737888</td>\n",
       "      <td>Mitchell</td>\n",
       "      <td>850</td>\n",
       "      <td>Spain</td>\n",
       "      <td>Female</td>\n",
       "      <td>43</td>\n",
       "      <td>2.00</td>\n",
       "      <td>125,510.82</td>\n",
       "      <td>1</td>\n",
       "      <td>1</td>\n",
       "      <td>1</td>\n",
       "      <td>79,084.10</td>\n",
       "      <td>0</td>\n",
       "    </tr>\n",
       "  </tbody>\n",
       "</table>\n",
       "</div>"
      ],
      "text/plain": [
       "   RowNumber  CustomerId   Surname  CreditScore Geography  Gender  Age  \\\n",
       "0          1    15634602  Hargrave          619    France  Female   42   \n",
       "1          2    15647311      Hill          608     Spain  Female   41   \n",
       "2          3    15619304      Onio          502    France  Female   42   \n",
       "3          4    15701354      Boni          699    France  Female   39   \n",
       "4          5    15737888  Mitchell          850     Spain  Female   43   \n",
       "\n",
       "   Tenure    Balance  NumOfProducts  HasCrCard  IsActiveMember  \\\n",
       "0    2.00       0.00              1          1               1   \n",
       "1    1.00  83,807.86              1          0               1   \n",
       "2    8.00 159,660.80              3          1               0   \n",
       "3    1.00       0.00              2          0               0   \n",
       "4    2.00 125,510.82              1          1               1   \n",
       "\n",
       "   EstimatedSalary  Exited  \n",
       "0       101,348.88       1  \n",
       "1       112,542.58       0  \n",
       "2       113,931.57       1  \n",
       "3        93,826.63       0  \n",
       "4        79,084.10       0  "
      ]
     },
     "execution_count": 4,
     "metadata": {},
     "output_type": "execute_result"
    }
   ],
   "source": [
    "data.head()"
   ]
  },
  {
   "cell_type": "markdown",
   "metadata": {},
   "source": [
    "Также выведем общую информацию о таблице."
   ]
  },
  {
   "cell_type": "code",
   "execution_count": 5,
   "metadata": {
    "ExecuteTime": {
     "end_time": "2021-10-16T10:57:06.175012Z",
     "start_time": "2021-10-16T10:57:06.116090Z"
    }
   },
   "outputs": [
    {
     "name": "stdout",
     "output_type": "stream",
     "text": [
      "                 nulls_count  nulls_percent    dtype\n",
      "RowNumber                  0           0.00    int64\n",
      "CustomerId                 0           0.00    int64\n",
      "Surname                    0           0.00   object\n",
      "CreditScore                0           0.00    int64\n",
      "Geography                  0           0.00   object\n",
      "Gender                     0           0.00   object\n",
      "Age                        0           0.00    int64\n",
      "Tenure                   909           9.10  float64\n",
      "Balance                    0           0.00  float64\n",
      "NumOfProducts              0           0.00    int64\n",
      "HasCrCard                  0           0.00    int64\n",
      "IsActiveMember             0           0.00    int64\n",
      "EstimatedSalary            0           0.00  float64\n",
      "Exited                     0           0.00    int64\n",
      "columns: 14, rows: 10000\n",
      "dtypes: int64(8) object(3) float64(3)\n",
      "memory_usage: 1.1+ MB\n"
     ]
    }
   ],
   "source": [
    "df_info(data)"
   ]
  },
  {
   "cell_type": "markdown",
   "metadata": {},
   "source": [
    "В наборе признаков, по которым будет осуществляться обучение моделей, явно лишними являются порядковый номер строки RowNumber и персональные данные клиента CustomerId и Surname. Во-первых, бессмысленно само целеполагание, во-вторых, с такими значениями на этапе кодирования переменных OHE устроит нам \"большой взрыв\". ) Удалим эти столбцы из таблицы."
   ]
  },
  {
   "cell_type": "code",
   "execution_count": 6,
   "metadata": {
    "ExecuteTime": {
     "end_time": "2021-10-16T10:57:06.208216Z",
     "start_time": "2021-10-16T10:57:06.177408Z"
    }
   },
   "outputs": [
    {
     "data": {
      "text/html": [
       "<div>\n",
       "<style scoped>\n",
       "    .dataframe tbody tr th:only-of-type {\n",
       "        vertical-align: middle;\n",
       "    }\n",
       "\n",
       "    .dataframe tbody tr th {\n",
       "        vertical-align: top;\n",
       "    }\n",
       "\n",
       "    .dataframe thead th {\n",
       "        text-align: right;\n",
       "    }\n",
       "</style>\n",
       "<table border=\"1\" class=\"dataframe\">\n",
       "  <thead>\n",
       "    <tr style=\"text-align: right;\">\n",
       "      <th></th>\n",
       "      <th>CreditScore</th>\n",
       "      <th>Geography</th>\n",
       "      <th>Gender</th>\n",
       "      <th>Age</th>\n",
       "      <th>Tenure</th>\n",
       "      <th>Balance</th>\n",
       "      <th>NumOfProducts</th>\n",
       "      <th>HasCrCard</th>\n",
       "      <th>IsActiveMember</th>\n",
       "      <th>EstimatedSalary</th>\n",
       "      <th>Exited</th>\n",
       "    </tr>\n",
       "  </thead>\n",
       "  <tbody>\n",
       "    <tr>\n",
       "      <th>0</th>\n",
       "      <td>619</td>\n",
       "      <td>France</td>\n",
       "      <td>Female</td>\n",
       "      <td>42</td>\n",
       "      <td>2.00</td>\n",
       "      <td>0.00</td>\n",
       "      <td>1</td>\n",
       "      <td>1</td>\n",
       "      <td>1</td>\n",
       "      <td>101,348.88</td>\n",
       "      <td>1</td>\n",
       "    </tr>\n",
       "    <tr>\n",
       "      <th>1</th>\n",
       "      <td>608</td>\n",
       "      <td>Spain</td>\n",
       "      <td>Female</td>\n",
       "      <td>41</td>\n",
       "      <td>1.00</td>\n",
       "      <td>83,807.86</td>\n",
       "      <td>1</td>\n",
       "      <td>0</td>\n",
       "      <td>1</td>\n",
       "      <td>112,542.58</td>\n",
       "      <td>0</td>\n",
       "    </tr>\n",
       "    <tr>\n",
       "      <th>2</th>\n",
       "      <td>502</td>\n",
       "      <td>France</td>\n",
       "      <td>Female</td>\n",
       "      <td>42</td>\n",
       "      <td>8.00</td>\n",
       "      <td>159,660.80</td>\n",
       "      <td>3</td>\n",
       "      <td>1</td>\n",
       "      <td>0</td>\n",
       "      <td>113,931.57</td>\n",
       "      <td>1</td>\n",
       "    </tr>\n",
       "    <tr>\n",
       "      <th>3</th>\n",
       "      <td>699</td>\n",
       "      <td>France</td>\n",
       "      <td>Female</td>\n",
       "      <td>39</td>\n",
       "      <td>1.00</td>\n",
       "      <td>0.00</td>\n",
       "      <td>2</td>\n",
       "      <td>0</td>\n",
       "      <td>0</td>\n",
       "      <td>93,826.63</td>\n",
       "      <td>0</td>\n",
       "    </tr>\n",
       "    <tr>\n",
       "      <th>4</th>\n",
       "      <td>850</td>\n",
       "      <td>Spain</td>\n",
       "      <td>Female</td>\n",
       "      <td>43</td>\n",
       "      <td>2.00</td>\n",
       "      <td>125,510.82</td>\n",
       "      <td>1</td>\n",
       "      <td>1</td>\n",
       "      <td>1</td>\n",
       "      <td>79,084.10</td>\n",
       "      <td>0</td>\n",
       "    </tr>\n",
       "  </tbody>\n",
       "</table>\n",
       "</div>"
      ],
      "text/plain": [
       "   CreditScore Geography  Gender  Age  Tenure    Balance  NumOfProducts  \\\n",
       "0          619    France  Female   42    2.00       0.00              1   \n",
       "1          608     Spain  Female   41    1.00  83,807.86              1   \n",
       "2          502    France  Female   42    8.00 159,660.80              3   \n",
       "3          699    France  Female   39    1.00       0.00              2   \n",
       "4          850     Spain  Female   43    2.00 125,510.82              1   \n",
       "\n",
       "   HasCrCard  IsActiveMember  EstimatedSalary  Exited  \n",
       "0          1               1       101,348.88       1  \n",
       "1          0               1       112,542.58       0  \n",
       "2          1               0       113,931.57       1  \n",
       "3          0               0        93,826.63       0  \n",
       "4          1               1        79,084.10       0  "
      ]
     },
     "execution_count": 6,
     "metadata": {},
     "output_type": "execute_result"
    }
   ],
   "source": [
    "data.drop(['RowNumber', 'CustomerId', 'Surname'], axis=1, inplace=True)\n",
    "data.head()"
   ]
  },
  {
   "cell_type": "markdown",
   "metadata": {},
   "source": [
    "Таблица содержит пропуски, все они имеют место в столбце Tenure, содержащем информацию о том, сколько лет человек является клиентом банка. Рассмотрим этот столбец последним.\n",
    "\n",
    "Проанализируем категориальный столбец Geography. Выведем его уникальные значения."
   ]
  },
  {
   "cell_type": "code",
   "execution_count": 7,
   "metadata": {
    "ExecuteTime": {
     "end_time": "2021-10-16T10:57:06.223648Z",
     "start_time": "2021-10-16T10:57:06.209689Z"
    }
   },
   "outputs": [
    {
     "data": {
      "text/plain": [
       "France     5014\n",
       "Germany    2509\n",
       "Spain      2477\n",
       "Name: Geography, dtype: int64"
      ]
     },
     "execution_count": 7,
     "metadata": {},
     "output_type": "execute_result"
    }
   ],
   "source": [
    "data.Geography.value_counts()"
   ]
  },
  {
   "cell_type": "markdown",
   "metadata": {},
   "source": [
    "Все хорошо, дубликатов нет.\n",
    "\n",
    "На всякий случай ознакомимся с количеством полов в столбце Gender. Хоть бы 2, а не 48, 76 или сколько их там сейчас..."
   ]
  },
  {
   "cell_type": "code",
   "execution_count": 8,
   "metadata": {
    "ExecuteTime": {
     "end_time": "2021-10-16T10:57:06.239691Z",
     "start_time": "2021-10-16T10:57:06.224644Z"
    }
   },
   "outputs": [
    {
     "data": {
      "text/plain": [
       "Male      5457\n",
       "Female    4543\n",
       "Name: Gender, dtype: int64"
      ]
     },
     "execution_count": 8,
     "metadata": {},
     "output_type": "execute_result"
    }
   ],
   "source": [
    "data.Gender.value_counts()"
   ]
  },
  {
   "cell_type": "markdown",
   "metadata": {
    "ExecuteTime": {
     "end_time": "2021-08-01T16:37:18.749583Z",
     "start_time": "2021-08-01T16:37:18.735917Z"
    }
   },
   "source": [
    "Обошлось. Только дяденьки и тетеньки.\n",
    "\n",
    "Столбец Age."
   ]
  },
  {
   "cell_type": "code",
   "execution_count": 9,
   "metadata": {
    "ExecuteTime": {
     "end_time": "2021-10-16T10:57:06.255126Z",
     "start_time": "2021-10-16T10:57:06.242229Z"
    }
   },
   "outputs": [
    {
     "data": {
      "text/plain": [
       "count   10,000.00\n",
       "mean        38.92\n",
       "std         10.49\n",
       "min         18.00\n",
       "25%         32.00\n",
       "50%         37.00\n",
       "75%         44.00\n",
       "max         92.00\n",
       "Name: Age, dtype: float64"
      ]
     },
     "execution_count": 9,
     "metadata": {},
     "output_type": "execute_result"
    }
   ],
   "source": [
    "data.Age.describe()"
   ]
  },
  {
   "cell_type": "markdown",
   "metadata": {},
   "source": [
    "Без аномалий. Клиенты банка &mdash; люди в возрасте от 18 до 92 лет. Средний и медианный возрасты &mdash; 38.92 года и 37 лет, соответственно.\n",
    "\n",
    "Столбец NumOfProducts с количеством продуктов банка, используемых клиентом."
   ]
  },
  {
   "cell_type": "code",
   "execution_count": 10,
   "metadata": {
    "ExecuteTime": {
     "end_time": "2021-10-16T10:57:06.270417Z",
     "start_time": "2021-10-16T10:57:06.255620Z"
    }
   },
   "outputs": [
    {
     "data": {
      "text/plain": [
       "1    5084\n",
       "2    4590\n",
       "3     266\n",
       "4      60\n",
       "Name: NumOfProducts, dtype: int64"
      ]
     },
     "execution_count": 10,
     "metadata": {},
     "output_type": "execute_result"
    }
   ],
   "source": [
    "data.NumOfProducts.value_counts()"
   ]
  },
  {
   "cell_type": "markdown",
   "metadata": {},
   "source": [
    "Минимальное количество продуктов банка 1, максимальное &mdash; 4.\n",
    "\n",
    "Категориальные столбцы HasCrCard и IsActiveMembe."
   ]
  },
  {
   "cell_type": "code",
   "execution_count": 11,
   "metadata": {
    "ExecuteTime": {
     "end_time": "2021-10-16T10:57:06.285995Z",
     "start_time": "2021-10-16T10:57:06.271406Z"
    }
   },
   "outputs": [
    {
     "data": {
      "text/plain": [
       "1    7055\n",
       "0    2945\n",
       "Name: HasCrCard, dtype: int64"
      ]
     },
     "execution_count": 11,
     "metadata": {},
     "output_type": "execute_result"
    }
   ],
   "source": [
    "data.HasCrCard.value_counts()"
   ]
  },
  {
   "cell_type": "code",
   "execution_count": 12,
   "metadata": {
    "ExecuteTime": {
     "end_time": "2021-10-16T10:57:06.301655Z",
     "start_time": "2021-10-16T10:57:06.286843Z"
    }
   },
   "outputs": [
    {
     "data": {
      "text/plain": [
       "1    5151\n",
       "0    4849\n",
       "Name: IsActiveMember, dtype: int64"
      ]
     },
     "execution_count": 12,
     "metadata": {},
     "output_type": "execute_result"
    }
   ],
   "source": [
    "data.IsActiveMember.value_counts()"
   ]
  },
  {
   "cell_type": "markdown",
   "metadata": {},
   "source": [
    "Здесь также все впорядке.\n",
    "\n",
    "Количественные столбцы Balance и EstimatedSalary."
   ]
  },
  {
   "cell_type": "code",
   "execution_count": 13,
   "metadata": {
    "ExecuteTime": {
     "end_time": "2021-10-16T10:57:06.317031Z",
     "start_time": "2021-10-16T10:57:06.302640Z"
    }
   },
   "outputs": [
    {
     "data": {
      "text/html": [
       "<div>\n",
       "<style scoped>\n",
       "    .dataframe tbody tr th:only-of-type {\n",
       "        vertical-align: middle;\n",
       "    }\n",
       "\n",
       "    .dataframe tbody tr th {\n",
       "        vertical-align: top;\n",
       "    }\n",
       "\n",
       "    .dataframe thead th {\n",
       "        text-align: right;\n",
       "    }\n",
       "</style>\n",
       "<table border=\"1\" class=\"dataframe\">\n",
       "  <thead>\n",
       "    <tr style=\"text-align: right;\">\n",
       "      <th></th>\n",
       "      <th>Balance</th>\n",
       "      <th>EstimatedSalary</th>\n",
       "    </tr>\n",
       "  </thead>\n",
       "  <tbody>\n",
       "    <tr>\n",
       "      <th>count</th>\n",
       "      <td>10,000.00</td>\n",
       "      <td>10,000.00</td>\n",
       "    </tr>\n",
       "    <tr>\n",
       "      <th>mean</th>\n",
       "      <td>76,485.89</td>\n",
       "      <td>100,090.24</td>\n",
       "    </tr>\n",
       "    <tr>\n",
       "      <th>std</th>\n",
       "      <td>62,397.41</td>\n",
       "      <td>57,510.49</td>\n",
       "    </tr>\n",
       "    <tr>\n",
       "      <th>min</th>\n",
       "      <td>0.00</td>\n",
       "      <td>11.58</td>\n",
       "    </tr>\n",
       "    <tr>\n",
       "      <th>25%</th>\n",
       "      <td>0.00</td>\n",
       "      <td>51,002.11</td>\n",
       "    </tr>\n",
       "    <tr>\n",
       "      <th>50%</th>\n",
       "      <td>97,198.54</td>\n",
       "      <td>100,193.91</td>\n",
       "    </tr>\n",
       "    <tr>\n",
       "      <th>75%</th>\n",
       "      <td>127,644.24</td>\n",
       "      <td>149,388.25</td>\n",
       "    </tr>\n",
       "    <tr>\n",
       "      <th>max</th>\n",
       "      <td>250,898.09</td>\n",
       "      <td>199,992.48</td>\n",
       "    </tr>\n",
       "  </tbody>\n",
       "</table>\n",
       "</div>"
      ],
      "text/plain": [
       "         Balance  EstimatedSalary\n",
       "count  10,000.00        10,000.00\n",
       "mean   76,485.89       100,090.24\n",
       "std    62,397.41        57,510.49\n",
       "min         0.00            11.58\n",
       "25%         0.00        51,002.11\n",
       "50%    97,198.54       100,193.91\n",
       "75%   127,644.24       149,388.25\n",
       "max   250,898.09       199,992.48"
      ]
     },
     "execution_count": 13,
     "metadata": {},
     "output_type": "execute_result"
    }
   ],
   "source": [
    "data[['Balance', 'EstimatedSalary']].describe()"
   ]
  },
  {
   "cell_type": "markdown",
   "metadata": {},
   "source": [
    "Как минимум у четверти клиентов на счету 0 &#8381;. Заемщики? Оценочная зарплата 11.58 &#8381; также вызывает некоторые вопросы. Выведем несколько ее минимальных значений."
   ]
  },
  {
   "cell_type": "code",
   "execution_count": 14,
   "metadata": {
    "ExecuteTime": {
     "end_time": "2021-10-16T10:57:06.332195Z",
     "start_time": "2021-10-16T10:57:06.318005Z"
    }
   },
   "outputs": [
    {
     "data": {
      "text/plain": [
       "2362    11.58\n",
       "9647    90.07\n",
       "9010    91.75\n",
       "5548    96.27\n",
       "4989   106.67\n",
       "Name: EstimatedSalary, dtype: float64"
      ]
     },
     "execution_count": 14,
     "metadata": {},
     "output_type": "execute_result"
    }
   ],
   "source": [
    "data.EstimatedSalary.sort_values().head()"
   ]
  },
  {
   "cell_type": "markdown",
   "metadata": {},
   "source": [
    "Странно все это. С другой стороны, возможно, так зарплату оценивает какой-нибудь алгоритм по косвенным данным. Не каждый же клиент берет в этом банке кредит, для чего предоставляет справку о доходах. Оставим данные значения.\n",
    "\n",
    "Убедимся, что столбец Exited с целевым признаком не содержит мусора."
   ]
  },
  {
   "cell_type": "code",
   "execution_count": 15,
   "metadata": {
    "ExecuteTime": {
     "end_time": "2021-10-16T10:57:06.347829Z",
     "start_time": "2021-10-16T10:57:06.333165Z"
    }
   },
   "outputs": [
    {
     "data": {
      "text/plain": [
       "0    7963\n",
       "1    2037\n",
       "Name: Exited, dtype: int64"
      ]
     },
     "execution_count": 15,
     "metadata": {},
     "output_type": "execute_result"
    }
   ],
   "source": [
    "data.Exited.value_counts()"
   ]
  },
  {
   "cell_type": "markdown",
   "metadata": {},
   "source": [
    "Наблюдается дисбаланс классов. Вычислим доли классов целевого признака в процентах."
   ]
  },
  {
   "cell_type": "code",
   "execution_count": 16,
   "metadata": {
    "ExecuteTime": {
     "end_time": "2021-10-16T10:57:06.363211Z",
     "start_time": "2021-10-16T10:57:06.348804Z"
    }
   },
   "outputs": [
    {
     "data": {
      "text/html": [
       "<div>\n",
       "<style scoped>\n",
       "    .dataframe tbody tr th:only-of-type {\n",
       "        vertical-align: middle;\n",
       "    }\n",
       "\n",
       "    .dataframe tbody tr th {\n",
       "        vertical-align: top;\n",
       "    }\n",
       "\n",
       "    .dataframe thead th {\n",
       "        text-align: right;\n",
       "    }\n",
       "</style>\n",
       "<table border=\"1\" class=\"dataframe\">\n",
       "  <thead>\n",
       "    <tr style=\"text-align: right;\">\n",
       "      <th></th>\n",
       "      <th>Доля классов, %</th>\n",
       "    </tr>\n",
       "  </thead>\n",
       "  <tbody>\n",
       "    <tr>\n",
       "      <th>0</th>\n",
       "      <td>79.63</td>\n",
       "    </tr>\n",
       "    <tr>\n",
       "      <th>1</th>\n",
       "      <td>20.37</td>\n",
       "    </tr>\n",
       "  </tbody>\n",
       "</table>\n",
       "</div>"
      ],
      "text/plain": [
       "   Доля классов, %\n",
       "0            79.63\n",
       "1            20.37"
      ]
     },
     "execution_count": 16,
     "metadata": {},
     "output_type": "execute_result"
    }
   ],
   "source": [
    "(100 * data.Exited.value_counts() / len(data)).to_frame('Доля классов, %')"
   ]
  },
  {
   "cell_type": "markdown",
   "metadata": {},
   "source": [
    "Рассмотрим припасенный на последок столбец Tenure, содержащий пропуски."
   ]
  },
  {
   "cell_type": "code",
   "execution_count": 17,
   "metadata": {
    "ExecuteTime": {
     "end_time": "2021-10-16T10:57:06.378984Z",
     "start_time": "2021-10-16T10:57:06.364190Z"
    },
    "scrolled": true
   },
   "outputs": [
    {
     "data": {
      "text/plain": [
       "array([ 2.,  1.,  8.,  7.,  4.,  6.,  3., 10.,  5.,  9.,  0., nan])"
      ]
     },
     "execution_count": 17,
     "metadata": {},
     "output_type": "execute_result"
    }
   ],
   "source": [
    "data.Tenure.unique()"
   ]
  },
  {
   "cell_type": "markdown",
   "metadata": {},
   "source": [
    "Доля пропусков 9.1%. Природа появления пропусков в данном столбце неясна, поэтому предпочтительнее будет удалить их, а не заменять, например, на характерные значения. Исследуем, как повлияет удаление объектов с пропусками в столбце Tenure на баланс классов целевого признака."
   ]
  },
  {
   "cell_type": "code",
   "execution_count": 18,
   "metadata": {
    "ExecuteTime": {
     "end_time": "2021-10-16T10:57:06.394337Z",
     "start_time": "2021-10-16T10:57:06.379997Z"
    }
   },
   "outputs": [
    {
     "data": {
      "text/html": [
       "<div>\n",
       "<style scoped>\n",
       "    .dataframe tbody tr th:only-of-type {\n",
       "        vertical-align: middle;\n",
       "    }\n",
       "\n",
       "    .dataframe tbody tr th {\n",
       "        vertical-align: top;\n",
       "    }\n",
       "\n",
       "    .dataframe thead th {\n",
       "        text-align: right;\n",
       "    }\n",
       "</style>\n",
       "<table border=\"1\" class=\"dataframe\">\n",
       "  <thead>\n",
       "    <tr style=\"text-align: right;\">\n",
       "      <th></th>\n",
       "      <th>Доля классов, %</th>\n",
       "    </tr>\n",
       "  </thead>\n",
       "  <tbody>\n",
       "    <tr>\n",
       "      <th>0</th>\n",
       "      <td>79.61</td>\n",
       "    </tr>\n",
       "    <tr>\n",
       "      <th>1</th>\n",
       "      <td>20.39</td>\n",
       "    </tr>\n",
       "  </tbody>\n",
       "</table>\n",
       "</div>"
      ],
      "text/plain": [
       "   Доля классов, %\n",
       "0            79.61\n",
       "1            20.39"
      ]
     },
     "execution_count": 18,
     "metadata": {},
     "output_type": "execute_result"
    }
   ],
   "source": [
    "(100 * data[data.Tenure.notna()].Exited.value_counts() / len(data[data.Tenure.notna()])).to_frame('Доля классов, %')"
   ]
  },
  {
   "cell_type": "markdown",
   "metadata": {},
   "source": [
    "Баланс классов в целевом признаке практически не изменился. Удалим объекты с пропусками."
   ]
  },
  {
   "cell_type": "code",
   "execution_count": 19,
   "metadata": {
    "ExecuteTime": {
     "end_time": "2021-10-16T10:57:06.424977Z",
     "start_time": "2021-10-16T10:57:06.395321Z"
    }
   },
   "outputs": [
    {
     "data": {
      "text/html": [
       "<div>\n",
       "<style scoped>\n",
       "    .dataframe tbody tr th:only-of-type {\n",
       "        vertical-align: middle;\n",
       "    }\n",
       "\n",
       "    .dataframe tbody tr th {\n",
       "        vertical-align: top;\n",
       "    }\n",
       "\n",
       "    .dataframe thead th {\n",
       "        text-align: right;\n",
       "    }\n",
       "</style>\n",
       "<table border=\"1\" class=\"dataframe\">\n",
       "  <thead>\n",
       "    <tr style=\"text-align: right;\">\n",
       "      <th></th>\n",
       "      <th>CreditScore</th>\n",
       "      <th>Geography</th>\n",
       "      <th>Gender</th>\n",
       "      <th>Age</th>\n",
       "      <th>Tenure</th>\n",
       "      <th>Balance</th>\n",
       "      <th>NumOfProducts</th>\n",
       "      <th>HasCrCard</th>\n",
       "      <th>IsActiveMember</th>\n",
       "      <th>EstimatedSalary</th>\n",
       "      <th>Exited</th>\n",
       "    </tr>\n",
       "  </thead>\n",
       "  <tbody>\n",
       "    <tr>\n",
       "      <th>9086</th>\n",
       "      <td>800</td>\n",
       "      <td>France</td>\n",
       "      <td>Female</td>\n",
       "      <td>29</td>\n",
       "      <td>2.00</td>\n",
       "      <td>0.00</td>\n",
       "      <td>2</td>\n",
       "      <td>0</td>\n",
       "      <td>0</td>\n",
       "      <td>167,773.55</td>\n",
       "      <td>0</td>\n",
       "    </tr>\n",
       "    <tr>\n",
       "      <th>9087</th>\n",
       "      <td>771</td>\n",
       "      <td>France</td>\n",
       "      <td>Male</td>\n",
       "      <td>39</td>\n",
       "      <td>5.00</td>\n",
       "      <td>0.00</td>\n",
       "      <td>2</td>\n",
       "      <td>1</td>\n",
       "      <td>0</td>\n",
       "      <td>96,270.64</td>\n",
       "      <td>0</td>\n",
       "    </tr>\n",
       "    <tr>\n",
       "      <th>9088</th>\n",
       "      <td>516</td>\n",
       "      <td>France</td>\n",
       "      <td>Male</td>\n",
       "      <td>35</td>\n",
       "      <td>10.00</td>\n",
       "      <td>57,369.61</td>\n",
       "      <td>1</td>\n",
       "      <td>1</td>\n",
       "      <td>1</td>\n",
       "      <td>101,699.77</td>\n",
       "      <td>0</td>\n",
       "    </tr>\n",
       "    <tr>\n",
       "      <th>9089</th>\n",
       "      <td>709</td>\n",
       "      <td>France</td>\n",
       "      <td>Female</td>\n",
       "      <td>36</td>\n",
       "      <td>7.00</td>\n",
       "      <td>0.00</td>\n",
       "      <td>1</td>\n",
       "      <td>0</td>\n",
       "      <td>1</td>\n",
       "      <td>42,085.58</td>\n",
       "      <td>1</td>\n",
       "    </tr>\n",
       "    <tr>\n",
       "      <th>9090</th>\n",
       "      <td>772</td>\n",
       "      <td>Germany</td>\n",
       "      <td>Male</td>\n",
       "      <td>42</td>\n",
       "      <td>3.00</td>\n",
       "      <td>75,075.31</td>\n",
       "      <td>2</td>\n",
       "      <td>1</td>\n",
       "      <td>0</td>\n",
       "      <td>92,888.52</td>\n",
       "      <td>1</td>\n",
       "    </tr>\n",
       "  </tbody>\n",
       "</table>\n",
       "</div>"
      ],
      "text/plain": [
       "      CreditScore Geography  Gender  Age  Tenure   Balance  NumOfProducts  \\\n",
       "9086          800    France  Female   29    2.00      0.00              2   \n",
       "9087          771    France    Male   39    5.00      0.00              2   \n",
       "9088          516    France    Male   35   10.00 57,369.61              1   \n",
       "9089          709    France  Female   36    7.00      0.00              1   \n",
       "9090          772   Germany    Male   42    3.00 75,075.31              2   \n",
       "\n",
       "      HasCrCard  IsActiveMember  EstimatedSalary  Exited  \n",
       "9086          0               0       167,773.55       0  \n",
       "9087          1               0        96,270.64       0  \n",
       "9088          1               1       101,699.77       0  \n",
       "9089          0               1        42,085.58       1  \n",
       "9090          1               0        92,888.52       1  "
      ]
     },
     "execution_count": 19,
     "metadata": {},
     "output_type": "execute_result"
    }
   ],
   "source": [
    "data = data.dropna().reset_index(drop=True)\n",
    "data.tail()"
   ]
  },
  {
   "cell_type": "markdown",
   "metadata": {},
   "source": [
    "### 2.3 Масштабирование и кодирование признаков [▲](#содержание) <a id=\"2_3\"></a>"
   ]
  },
  {
   "cell_type": "markdown",
   "metadata": {},
   "source": [
    "Выделим столбцы с количественными признаками и проанализируем их описательную статистику."
   ]
  },
  {
   "cell_type": "code",
   "execution_count": 20,
   "metadata": {
    "ExecuteTime": {
     "end_time": "2021-10-16T10:57:06.455649Z",
     "start_time": "2021-10-16T10:57:06.426812Z"
    }
   },
   "outputs": [
    {
     "data": {
      "text/html": [
       "<div>\n",
       "<style scoped>\n",
       "    .dataframe tbody tr th:only-of-type {\n",
       "        vertical-align: middle;\n",
       "    }\n",
       "\n",
       "    .dataframe tbody tr th {\n",
       "        vertical-align: top;\n",
       "    }\n",
       "\n",
       "    .dataframe thead th {\n",
       "        text-align: right;\n",
       "    }\n",
       "</style>\n",
       "<table border=\"1\" class=\"dataframe\">\n",
       "  <thead>\n",
       "    <tr style=\"text-align: right;\">\n",
       "      <th></th>\n",
       "      <th>CreditScore</th>\n",
       "      <th>Age</th>\n",
       "      <th>Tenure</th>\n",
       "      <th>Balance</th>\n",
       "      <th>NumOfProducts</th>\n",
       "      <th>EstimatedSalary</th>\n",
       "    </tr>\n",
       "  </thead>\n",
       "  <tbody>\n",
       "    <tr>\n",
       "      <th>count</th>\n",
       "      <td>9,091.00</td>\n",
       "      <td>9,091.00</td>\n",
       "      <td>9,091.00</td>\n",
       "      <td>9,091.00</td>\n",
       "      <td>9,091.00</td>\n",
       "      <td>9,091.00</td>\n",
       "    </tr>\n",
       "    <tr>\n",
       "      <th>mean</th>\n",
       "      <td>650.74</td>\n",
       "      <td>38.95</td>\n",
       "      <td>5.00</td>\n",
       "      <td>76,522.74</td>\n",
       "      <td>1.53</td>\n",
       "      <td>100,181.21</td>\n",
       "    </tr>\n",
       "    <tr>\n",
       "      <th>std</th>\n",
       "      <td>96.41</td>\n",
       "      <td>10.56</td>\n",
       "      <td>2.89</td>\n",
       "      <td>62,329.53</td>\n",
       "      <td>0.58</td>\n",
       "      <td>57,624.76</td>\n",
       "    </tr>\n",
       "    <tr>\n",
       "      <th>min</th>\n",
       "      <td>350.00</td>\n",
       "      <td>18.00</td>\n",
       "      <td>0.00</td>\n",
       "      <td>0.00</td>\n",
       "      <td>1.00</td>\n",
       "      <td>11.58</td>\n",
       "    </tr>\n",
       "    <tr>\n",
       "      <th>25%</th>\n",
       "      <td>584.00</td>\n",
       "      <td>32.00</td>\n",
       "      <td>2.00</td>\n",
       "      <td>0.00</td>\n",
       "      <td>1.00</td>\n",
       "      <td>51,227.74</td>\n",
       "    </tr>\n",
       "    <tr>\n",
       "      <th>50%</th>\n",
       "      <td>652.00</td>\n",
       "      <td>37.00</td>\n",
       "      <td>5.00</td>\n",
       "      <td>97,318.25</td>\n",
       "      <td>1.00</td>\n",
       "      <td>100,240.20</td>\n",
       "    </tr>\n",
       "    <tr>\n",
       "      <th>75%</th>\n",
       "      <td>717.00</td>\n",
       "      <td>44.00</td>\n",
       "      <td>7.00</td>\n",
       "      <td>127,561.89</td>\n",
       "      <td>2.00</td>\n",
       "      <td>149,567.21</td>\n",
       "    </tr>\n",
       "    <tr>\n",
       "      <th>max</th>\n",
       "      <td>850.00</td>\n",
       "      <td>92.00</td>\n",
       "      <td>10.00</td>\n",
       "      <td>250,898.09</td>\n",
       "      <td>4.00</td>\n",
       "      <td>199,992.48</td>\n",
       "    </tr>\n",
       "  </tbody>\n",
       "</table>\n",
       "</div>"
      ],
      "text/plain": [
       "       CreditScore      Age   Tenure    Balance  NumOfProducts  \\\n",
       "count     9,091.00 9,091.00 9,091.00   9,091.00       9,091.00   \n",
       "mean        650.74    38.95     5.00  76,522.74           1.53   \n",
       "std          96.41    10.56     2.89  62,329.53           0.58   \n",
       "min         350.00    18.00     0.00       0.00           1.00   \n",
       "25%         584.00    32.00     2.00       0.00           1.00   \n",
       "50%         652.00    37.00     5.00  97,318.25           1.00   \n",
       "75%         717.00    44.00     7.00 127,561.89           2.00   \n",
       "max         850.00    92.00    10.00 250,898.09           4.00   \n",
       "\n",
       "       EstimatedSalary  \n",
       "count         9,091.00  \n",
       "mean        100,181.21  \n",
       "std          57,624.76  \n",
       "min              11.58  \n",
       "25%          51,227.74  \n",
       "50%         100,240.20  \n",
       "75%         149,567.21  \n",
       "max         199,992.48  "
      ]
     },
     "execution_count": 20,
     "metadata": {},
     "output_type": "execute_result"
    }
   ],
   "source": [
    "numeric = ['CreditScore', 'Age', 'Tenure', 'Balance', 'NumOfProducts', 'EstimatedSalary']\n",
    "data[numeric].describe()"
   ]
  },
  {
   "cell_type": "markdown",
   "metadata": {},
   "source": [
    "Количественные признаки существенно различающиеся по среднему значению и разбросу. Чтобы модель не отдавала предпочтение признакам определенной величины и разброса, осуществим их стандартизацию. Выведем начало измененной таблицы."
   ]
  },
  {
   "cell_type": "code",
   "execution_count": 21,
   "metadata": {
    "ExecuteTime": {
     "end_time": "2021-10-16T10:57:06.488428Z",
     "start_time": "2021-10-16T10:57:06.457136Z"
    }
   },
   "outputs": [
    {
     "data": {
      "text/html": [
       "<div>\n",
       "<style scoped>\n",
       "    .dataframe tbody tr th:only-of-type {\n",
       "        vertical-align: middle;\n",
       "    }\n",
       "\n",
       "    .dataframe tbody tr th {\n",
       "        vertical-align: top;\n",
       "    }\n",
       "\n",
       "    .dataframe thead th {\n",
       "        text-align: right;\n",
       "    }\n",
       "</style>\n",
       "<table border=\"1\" class=\"dataframe\">\n",
       "  <thead>\n",
       "    <tr style=\"text-align: right;\">\n",
       "      <th></th>\n",
       "      <th>CreditScore</th>\n",
       "      <th>Geography</th>\n",
       "      <th>Gender</th>\n",
       "      <th>Age</th>\n",
       "      <th>Tenure</th>\n",
       "      <th>Balance</th>\n",
       "      <th>NumOfProducts</th>\n",
       "      <th>HasCrCard</th>\n",
       "      <th>IsActiveMember</th>\n",
       "      <th>EstimatedSalary</th>\n",
       "      <th>Exited</th>\n",
       "    </tr>\n",
       "  </thead>\n",
       "  <tbody>\n",
       "    <tr>\n",
       "      <th>0</th>\n",
       "      <td>-0.33</td>\n",
       "      <td>France</td>\n",
       "      <td>Female</td>\n",
       "      <td>0.29</td>\n",
       "      <td>-1.04</td>\n",
       "      <td>-1.23</td>\n",
       "      <td>-0.91</td>\n",
       "      <td>1</td>\n",
       "      <td>1</td>\n",
       "      <td>0.02</td>\n",
       "      <td>1</td>\n",
       "    </tr>\n",
       "    <tr>\n",
       "      <th>1</th>\n",
       "      <td>-0.44</td>\n",
       "      <td>Spain</td>\n",
       "      <td>Female</td>\n",
       "      <td>0.19</td>\n",
       "      <td>-1.38</td>\n",
       "      <td>0.12</td>\n",
       "      <td>-0.91</td>\n",
       "      <td>0</td>\n",
       "      <td>1</td>\n",
       "      <td>0.21</td>\n",
       "      <td>0</td>\n",
       "    </tr>\n",
       "    <tr>\n",
       "      <th>2</th>\n",
       "      <td>-1.54</td>\n",
       "      <td>France</td>\n",
       "      <td>Female</td>\n",
       "      <td>0.29</td>\n",
       "      <td>1.04</td>\n",
       "      <td>1.33</td>\n",
       "      <td>2.53</td>\n",
       "      <td>1</td>\n",
       "      <td>0</td>\n",
       "      <td>0.24</td>\n",
       "      <td>1</td>\n",
       "    </tr>\n",
       "    <tr>\n",
       "      <th>3</th>\n",
       "      <td>0.50</td>\n",
       "      <td>France</td>\n",
       "      <td>Female</td>\n",
       "      <td>0.00</td>\n",
       "      <td>-1.38</td>\n",
       "      <td>-1.23</td>\n",
       "      <td>0.81</td>\n",
       "      <td>0</td>\n",
       "      <td>0</td>\n",
       "      <td>-0.11</td>\n",
       "      <td>0</td>\n",
       "    </tr>\n",
       "    <tr>\n",
       "      <th>4</th>\n",
       "      <td>2.07</td>\n",
       "      <td>Spain</td>\n",
       "      <td>Female</td>\n",
       "      <td>0.38</td>\n",
       "      <td>-1.04</td>\n",
       "      <td>0.79</td>\n",
       "      <td>-0.91</td>\n",
       "      <td>1</td>\n",
       "      <td>1</td>\n",
       "      <td>-0.37</td>\n",
       "      <td>0</td>\n",
       "    </tr>\n",
       "  </tbody>\n",
       "</table>\n",
       "</div>"
      ],
      "text/plain": [
       "   CreditScore Geography  Gender  Age  Tenure  Balance  NumOfProducts  \\\n",
       "0        -0.33    France  Female 0.29   -1.04    -1.23          -0.91   \n",
       "1        -0.44     Spain  Female 0.19   -1.38     0.12          -0.91   \n",
       "2        -1.54    France  Female 0.29    1.04     1.33           2.53   \n",
       "3         0.50    France  Female 0.00   -1.38    -1.23           0.81   \n",
       "4         2.07     Spain  Female 0.38   -1.04     0.79          -0.91   \n",
       "\n",
       "   HasCrCard  IsActiveMember  EstimatedSalary  Exited  \n",
       "0          1               1             0.02       1  \n",
       "1          0               1             0.21       0  \n",
       "2          1               0             0.24       1  \n",
       "3          0               0            -0.11       0  \n",
       "4          1               1            -0.37       0  "
      ]
     },
     "execution_count": 21,
     "metadata": {},
     "output_type": "execute_result"
    }
   ],
   "source": [
    "# Обучение преобразователя масштаба\n",
    "scaler = StandardScaler()\n",
    "scaler.fit(data[numeric])\n",
    "\n",
    "# Масштабирование количественных признаков\n",
    "data[numeric] = scaler.transform(data[numeric])\n",
    "\n",
    "data.head()"
   ]
  },
  {
   "cell_type": "markdown",
   "metadata": {},
   "source": [
    "Так как модели машинного обучения работают с числовыми признаками, необходимо закодировать строковые категориальные данные. Будем использовать технику прямого кодирования (One-Hot Encoding), как более универсальную: работает с логистической регрессией в отличие от техники порядкового кодирования (Ordinal Encoding)."
   ]
  },
  {
   "cell_type": "code",
   "execution_count": 22,
   "metadata": {
    "ExecuteTime": {
     "end_time": "2021-10-16T10:57:06.519221Z",
     "start_time": "2021-10-16T10:57:06.491663Z"
    },
    "scrolled": true
   },
   "outputs": [
    {
     "data": {
      "text/html": [
       "<div>\n",
       "<style scoped>\n",
       "    .dataframe tbody tr th:only-of-type {\n",
       "        vertical-align: middle;\n",
       "    }\n",
       "\n",
       "    .dataframe tbody tr th {\n",
       "        vertical-align: top;\n",
       "    }\n",
       "\n",
       "    .dataframe thead th {\n",
       "        text-align: right;\n",
       "    }\n",
       "</style>\n",
       "<table border=\"1\" class=\"dataframe\">\n",
       "  <thead>\n",
       "    <tr style=\"text-align: right;\">\n",
       "      <th></th>\n",
       "      <th>CreditScore</th>\n",
       "      <th>Age</th>\n",
       "      <th>Tenure</th>\n",
       "      <th>Balance</th>\n",
       "      <th>NumOfProducts</th>\n",
       "      <th>HasCrCard</th>\n",
       "      <th>IsActiveMember</th>\n",
       "      <th>EstimatedSalary</th>\n",
       "      <th>Exited</th>\n",
       "      <th>Geography_Germany</th>\n",
       "      <th>Geography_Spain</th>\n",
       "      <th>Gender_Male</th>\n",
       "    </tr>\n",
       "  </thead>\n",
       "  <tbody>\n",
       "    <tr>\n",
       "      <th>0</th>\n",
       "      <td>-0.33</td>\n",
       "      <td>0.29</td>\n",
       "      <td>-1.04</td>\n",
       "      <td>-1.23</td>\n",
       "      <td>-0.91</td>\n",
       "      <td>1</td>\n",
       "      <td>1</td>\n",
       "      <td>0.02</td>\n",
       "      <td>1</td>\n",
       "      <td>0</td>\n",
       "      <td>0</td>\n",
       "      <td>0</td>\n",
       "    </tr>\n",
       "    <tr>\n",
       "      <th>1</th>\n",
       "      <td>-0.44</td>\n",
       "      <td>0.19</td>\n",
       "      <td>-1.38</td>\n",
       "      <td>0.12</td>\n",
       "      <td>-0.91</td>\n",
       "      <td>0</td>\n",
       "      <td>1</td>\n",
       "      <td>0.21</td>\n",
       "      <td>0</td>\n",
       "      <td>0</td>\n",
       "      <td>1</td>\n",
       "      <td>0</td>\n",
       "    </tr>\n",
       "    <tr>\n",
       "      <th>2</th>\n",
       "      <td>-1.54</td>\n",
       "      <td>0.29</td>\n",
       "      <td>1.04</td>\n",
       "      <td>1.33</td>\n",
       "      <td>2.53</td>\n",
       "      <td>1</td>\n",
       "      <td>0</td>\n",
       "      <td>0.24</td>\n",
       "      <td>1</td>\n",
       "      <td>0</td>\n",
       "      <td>0</td>\n",
       "      <td>0</td>\n",
       "    </tr>\n",
       "    <tr>\n",
       "      <th>3</th>\n",
       "      <td>0.50</td>\n",
       "      <td>0.00</td>\n",
       "      <td>-1.38</td>\n",
       "      <td>-1.23</td>\n",
       "      <td>0.81</td>\n",
       "      <td>0</td>\n",
       "      <td>0</td>\n",
       "      <td>-0.11</td>\n",
       "      <td>0</td>\n",
       "      <td>0</td>\n",
       "      <td>0</td>\n",
       "      <td>0</td>\n",
       "    </tr>\n",
       "    <tr>\n",
       "      <th>4</th>\n",
       "      <td>2.07</td>\n",
       "      <td>0.38</td>\n",
       "      <td>-1.04</td>\n",
       "      <td>0.79</td>\n",
       "      <td>-0.91</td>\n",
       "      <td>1</td>\n",
       "      <td>1</td>\n",
       "      <td>-0.37</td>\n",
       "      <td>0</td>\n",
       "      <td>0</td>\n",
       "      <td>1</td>\n",
       "      <td>0</td>\n",
       "    </tr>\n",
       "  </tbody>\n",
       "</table>\n",
       "</div>"
      ],
      "text/plain": [
       "   CreditScore  Age  Tenure  Balance  NumOfProducts  HasCrCard  \\\n",
       "0        -0.33 0.29   -1.04    -1.23          -0.91          1   \n",
       "1        -0.44 0.19   -1.38     0.12          -0.91          0   \n",
       "2        -1.54 0.29    1.04     1.33           2.53          1   \n",
       "3         0.50 0.00   -1.38    -1.23           0.81          0   \n",
       "4         2.07 0.38   -1.04     0.79          -0.91          1   \n",
       "\n",
       "   IsActiveMember  EstimatedSalary  Exited  Geography_Germany  \\\n",
       "0               1             0.02       1                  0   \n",
       "1               1             0.21       0                  0   \n",
       "2               0             0.24       1                  0   \n",
       "3               0            -0.11       0                  0   \n",
       "4               1            -0.37       0                  0   \n",
       "\n",
       "   Geography_Spain  Gender_Male  \n",
       "0                0            0  \n",
       "1                1            0  \n",
       "2                0            0  \n",
       "3                0            0  \n",
       "4                1            0  "
      ]
     },
     "execution_count": 22,
     "metadata": {},
     "output_type": "execute_result"
    }
   ],
   "source": [
    "data = pd.get_dummies(data, drop_first=True)\n",
    "data.head()"
   ]
  },
  {
   "cell_type": "markdown",
   "metadata": {},
   "source": [
    "## 3 Исследование задачи [▲](#содержание) <a id=\"3\"></a>"
   ]
  },
  {
   "cell_type": "markdown",
   "metadata": {},
   "source": [
    "### 3.1 Формирование обучающей, валидационной и тестовой выборок  [▲](#содержание)  <a id=\"3_1\"></a>"
   ]
  },
  {
   "cell_type": "markdown",
   "metadata": {},
   "source": [
    "Разделим исходный набор данных на нецелевые и целевые признаки объектов."
   ]
  },
  {
   "cell_type": "code",
   "execution_count": 23,
   "metadata": {
    "ExecuteTime": {
     "end_time": "2021-10-16T10:57:06.535057Z",
     "start_time": "2021-10-16T10:57:06.523326Z"
    }
   },
   "outputs": [],
   "source": [
    "features, target = data.drop(columns='Exited'), data.Exited"
   ]
  },
  {
   "cell_type": "markdown",
   "metadata": {},
   "source": [
    "Полученные данные разделим на обучающую, валидационную и тестовую выборки в соотношении 3:1:1. Для равномерного распределения классов в результирующих выборках зададим соответствующим образом параметр стратификации."
   ]
  },
  {
   "cell_type": "code",
   "execution_count": 24,
   "metadata": {
    "ExecuteTime": {
     "end_time": "2021-10-16T10:57:06.567121Z",
     "start_time": "2021-10-16T10:57:06.536050Z"
    }
   },
   "outputs": [],
   "source": [
    "features_train_and_valid, features_test, target_train_and_valid, target_test = train_test_split(\n",
    "    features,\n",
    "    target,\n",
    "    test_size=0.2,\n",
    "    random_state=12345,\n",
    "    stratify=target)\n",
    "\n",
    "features_train, features_valid, target_train, target_valid = train_test_split(\n",
    "    features_train_and_valid,\n",
    "    target_train_and_valid,\n",
    "    test_size=0.25,\n",
    "    random_state=12345,\n",
    "    stratify=target_train_and_valid)"
   ]
  },
  {
   "cell_type": "markdown",
   "metadata": {},
   "source": [
    "Оценим дисбаланс классов в обучающей выборке. Выведем их доли в процентах."
   ]
  },
  {
   "cell_type": "code",
   "execution_count": 25,
   "metadata": {
    "ExecuteTime": {
     "end_time": "2021-10-16T10:57:06.583144Z",
     "start_time": "2021-10-16T10:57:06.568104Z"
    }
   },
   "outputs": [
    {
     "data": {
      "text/html": [
       "<div>\n",
       "<style scoped>\n",
       "    .dataframe tbody tr th:only-of-type {\n",
       "        vertical-align: middle;\n",
       "    }\n",
       "\n",
       "    .dataframe tbody tr th {\n",
       "        vertical-align: top;\n",
       "    }\n",
       "\n",
       "    .dataframe thead th {\n",
       "        text-align: right;\n",
       "    }\n",
       "</style>\n",
       "<table border=\"1\" class=\"dataframe\">\n",
       "  <thead>\n",
       "    <tr style=\"text-align: right;\">\n",
       "      <th></th>\n",
       "      <th>Доля классов, %</th>\n",
       "    </tr>\n",
       "  </thead>\n",
       "  <tbody>\n",
       "    <tr>\n",
       "      <th>0</th>\n",
       "      <td>79.61</td>\n",
       "    </tr>\n",
       "    <tr>\n",
       "      <th>1</th>\n",
       "      <td>20.39</td>\n",
       "    </tr>\n",
       "  </tbody>\n",
       "</table>\n",
       "</div>"
      ],
      "text/plain": [
       "   Доля классов, %\n",
       "0            79.61\n",
       "1            20.39"
      ]
     },
     "execution_count": 25,
     "metadata": {},
     "output_type": "execute_result"
    }
   ],
   "source": [
    "(100 * target_train.value_counts() / len(target_train)).to_frame('Доля классов, %')"
   ]
  },
  {
   "cell_type": "markdown",
   "metadata": {
    "ExecuteTime": {
     "end_time": "2021-08-02T18:53:45.581079Z",
     "start_time": "2021-08-02T18:53:45.567391Z"
    }
   },
   "source": [
    "Отношение положительного и отрицательного классов примерно к 1:4, что свидетельствует об их дисбалансе.\n",
    "\n",
    "Попробуем получить удовлетворительное качество классификации с помощью случайного леса и логистической регрессии, обученных на несбалансированной выборке. В качестве метрики оценки качества будем использовать F1-меру. Качество распознавания будем считать удовлетворительным, если значение F1-меры на тестовой выборке будет равно или превысит 0.59."
   ]
  },
  {
   "cell_type": "markdown",
   "metadata": {},
   "source": [
    "### 3.2 Случайный лес [▲](#содержание) <a id=\"3_2\"></a>"
   ]
  },
  {
   "cell_type": "markdown",
   "metadata": {
    "ExecuteTime": {
     "end_time": "2021-08-02T18:53:45.581079Z",
     "start_time": "2021-08-02T18:53:45.567391Z"
    }
   },
   "source": [
    "Сперва обучим модель случайного леса. Попробуем различные значения таких гиперпараметров как число деревьев и максимальная глубина обучения каждого дерева."
   ]
  },
  {
   "cell_type": "code",
   "execution_count": 26,
   "metadata": {
    "ExecuteTime": {
     "end_time": "2021-10-16T10:57:53.202803Z",
     "start_time": "2021-10-16T10:57:06.584134Z"
    }
   },
   "outputs": [
    {
     "name": "stdout",
     "output_type": "stream",
     "text": [
      "Случайный лес с лучшим результатом на валидационной выборке\n",
      "Модель:           RandomForestClassifier(max_depth=12, n_estimators=20, random_state=12345)\n",
      "Значение F1-меры: 0.5792\n"
     ]
    }
   ],
   "source": [
    "%timeit\n",
    "best_rf_model, best_rf_score = None, 0\n",
    "for depth in range(2, 22, 2):\n",
    "    for n_est in range(20, 220, 20):\n",
    "        model = RandomForestClassifier(random_state=12345, n_estimators=n_est, max_depth=depth).\\\n",
    "            fit(features_train, target_train)\n",
    "        predicted_valid = model.predict(features_valid)\n",
    "        score = f1_score(target_valid, predicted_valid)\n",
    "        if score > best_rf_score:\n",
    "            best_rf_n_est, best_rf_max_depth, best_rf_model, best_rf_score = n_est, depth, model, score\n",
    "print('Случайный лес с лучшим результатом на валидационной выборке')\n",
    "print('Модель:          ', best_rf_model)\n",
    "print('Значение F1-меры:', round(best_rf_score, 4))"
   ]
  },
  {
   "cell_type": "markdown",
   "metadata": {},
   "source": [
    "Значение F1-меры не дотягивает до требуемого. Попытаемся улучшить ее значение подбором порога классификации."
   ]
  },
  {
   "cell_type": "code",
   "execution_count": 27,
   "metadata": {
    "ExecuteTime": {
     "end_time": "2021-10-16T10:57:53.342575Z",
     "start_time": "2021-10-16T10:57:53.205078Z"
    }
   },
   "outputs": [
    {
     "name": "stdout",
     "output_type": "stream",
     "text": [
      "Порог = 0.29, F1-мера = 0.6118\n"
     ]
    }
   ],
   "source": [
    "probabilities_one_valid = best_rf_model.predict_proba(features_valid)[:, 1]\n",
    "best_rf_score, best_rf_threshold = 0, 0\n",
    "for threshold in np.arange(0, 1, 0.01):\n",
    "    predicted_valid = probabilities_one_valid > threshold\n",
    "    score = f1_score(target_valid, predicted_valid)\n",
    "    if score > best_rf_score:\n",
    "        best_rf_score = score\n",
    "        best_rf_threshold = threshold\n",
    "print(\"Порог = {:.2f}, F1-мера = {:.4f}\".format(best_rf_threshold, best_rf_score))"
   ]
  },
  {
   "cell_type": "markdown",
   "metadata": {},
   "source": [
    "Сохраним финальное значение модели случайного леса и порога в соответствующих переменных. Будем перезаписывать их значения, если далее удастся улучшить качество модели."
   ]
  },
  {
   "cell_type": "code",
   "execution_count": 28,
   "metadata": {
    "ExecuteTime": {
     "end_time": "2021-10-16T10:57:53.358065Z",
     "start_time": "2021-10-16T10:57:53.343566Z"
    }
   },
   "outputs": [],
   "source": [
    "final_rf_model = best_rf_model\n",
    "final_rf_threshold = best_rf_threshold"
   ]
  },
  {
   "cell_type": "markdown",
   "metadata": {},
   "source": [
    "### 3.3 Логистическая регрессия [▲](#содержание) <a id=\"3_3\"></a>"
   ]
  },
  {
   "cell_type": "markdown",
   "metadata": {},
   "source": [
    "Также обучим модель логистической регресии для разных значений максимального количества итераций, необходимых для схождения решателей."
   ]
  },
  {
   "cell_type": "code",
   "execution_count": 29,
   "metadata": {
    "ExecuteTime": {
     "end_time": "2021-10-16T10:57:53.481068Z",
     "start_time": "2021-10-16T10:57:53.359069Z"
    },
    "code_folding": [],
    "scrolled": true
   },
   "outputs": [
    {
     "name": "stdout",
     "output_type": "stream",
     "text": [
      "Логистическая регрессия с лучшим результатом на валидационной выборке\n",
      "Лучшая модель:    LogisticRegression(max_iter=50, random_state=12345, solver='liblinear')\n",
      "Значение F1-меры: 0.2828\n"
     ]
    }
   ],
   "source": [
    "%timeit\n",
    "best_lr_model, best_lr_score = None, 0\n",
    "for max_iter in range(50, 550, 50):\n",
    "    model = LogisticRegression(random_state=12345, solver='liblinear', max_iter=max_iter).\\\n",
    "        fit(features_train, target_train)\n",
    "    predicted_valid = model.predict(features_valid)\n",
    "    score = f1_score(target_valid, predicted_valid)\n",
    "    if score > best_lr_score:\n",
    "        best_lr_max_iter, best_lr_model, best_lr_score = max_iter, model, score\n",
    "print('Логистическая регрессия с лучшим результатом на валидационной выборке')\n",
    "print('Лучшая модель:   ', best_lr_model)\n",
    "print('Значение F1-меры:', round(best_lr_score, 4))"
   ]
  },
  {
   "cell_type": "markdown",
   "metadata": {},
   "source": [
    "Значение F1-меры значительно уступает требуему. Также попробуем подобрать оптимальное значение порога классификации."
   ]
  },
  {
   "cell_type": "code",
   "execution_count": 30,
   "metadata": {
    "ExecuteTime": {
     "end_time": "2021-10-16T10:57:53.606247Z",
     "start_time": "2021-10-16T10:57:53.483055Z"
    }
   },
   "outputs": [
    {
     "name": "stdout",
     "output_type": "stream",
     "text": [
      "Порог = 0.22, F1-мера = 0.4945\n"
     ]
    }
   ],
   "source": [
    "probabilities_one_valid = best_lr_model.predict_proba(features_valid)[:, 1]\n",
    "best_lr_score, best_lr_threshold = 0, 0\n",
    "for threshold in np.arange(0, 1, 0.01):\n",
    "    predicted_valid = probabilities_one_valid > threshold\n",
    "    score = f1_score(target_valid, predicted_valid)\n",
    "    if score > best_lr_score:\n",
    "        best_lr_score = score\n",
    "        best_lr_threshold = threshold\n",
    "print(\"Порог = {:.2f}, F1-мера = {:.4f}\".format(best_lr_threshold, best_lr_score))"
   ]
  },
  {
   "cell_type": "code",
   "execution_count": 31,
   "metadata": {
    "ExecuteTime": {
     "end_time": "2021-10-16T10:57:53.621921Z",
     "start_time": "2021-10-16T10:57:53.608124Z"
    }
   },
   "outputs": [],
   "source": [
    "final_lr_model = best_lr_model\n",
    "final_lr_threshold = best_lr_threshold"
   ]
  },
  {
   "cell_type": "markdown",
   "metadata": {},
   "source": [
    "### 3.4 Вывод [▲](#содержание) <a id=\"3_4\"></a>"
   ]
  },
  {
   "cell_type": "markdown",
   "metadata": {},
   "source": [
    "Обучение случайного леса и логистической регрессии проводилось на несбалансированной выборке. При этом на валидационной выборке удалось довести значение F1-меры до отвечающего требованию только для случайного леса с 20 деревьями и максимальной глубиной обучения 12 при использовании порога классификации 0.29. Достигнутое значение F1-меры составило 0.6118."
   ]
  },
  {
   "cell_type": "markdown",
   "metadata": {},
   "source": [
    "## 4 Борьба с дисбалансом [▲](#содержание) <a id=\"4\"></a>"
   ]
  },
  {
   "cell_type": "markdown",
   "metadata": {
    "ExecuteTime": {
     "end_time": "2021-08-03T18:40:48.615662Z",
     "start_time": "2021-08-03T18:40:48.598124Z"
    }
   },
   "source": [
    "### 4.1 Случайный лес [▲](#содержание) <a id=\"4_1\"></a>"
   ]
  },
  {
   "cell_type": "markdown",
   "metadata": {},
   "source": [
    "Попробуем нивелировать эффект от дисбаланса классов их взвешиванием на этапе обучения модели. Обучим случайный лес, перебирая те же значения гиперпараметров, что и в предыдущих случаях, но уже со взвешиванием классов. Подберем оптимальный порог классификации."
   ]
  },
  {
   "cell_type": "code",
   "execution_count": 32,
   "metadata": {
    "ExecuteTime": {
     "end_time": "2021-10-16T10:58:38.853163Z",
     "start_time": "2021-10-16T10:57:53.623374Z"
    }
   },
   "outputs": [
    {
     "name": "stdout",
     "output_type": "stream",
     "text": [
      "Случайный лес с лучшим результатом на валидационной выборке\n",
      "Модель:           RandomForestClassifier(class_weight='balanced', max_depth=10, n_estimators=120,\n",
      "                       random_state=12345)\n",
      "Значение F1-меры: 0.6119\n"
     ]
    }
   ],
   "source": [
    "%timeit\n",
    "best_rf_model, best_rf_score = None, 0\n",
    "for depth in range(2, 22, 2):\n",
    "    for n_est in range(20, 220, 20):\n",
    "        model = RandomForestClassifier(random_state=12345, n_estimators=n_est, max_depth=depth, class_weight='balanced').\\\n",
    "            fit(features_train, target_train)\n",
    "        predicted_valid = model.predict(features_valid)\n",
    "        score = f1_score(target_valid, predicted_valid)\n",
    "        if score > best_rf_score:\n",
    "            best_rf_n_est, best_rf_max_depth, best_rf_model, best_rf_score = n_est, depth, model, score\n",
    "print('Случайный лес с лучшим результатом на валидационной выборке')\n",
    "print('Модель:          ', best_rf_model)\n",
    "print('Значение F1-меры:', round(best_rf_score, 4))"
   ]
  },
  {
   "cell_type": "code",
   "execution_count": 33,
   "metadata": {
    "ExecuteTime": {
     "end_time": "2021-10-16T10:58:39.040696Z",
     "start_time": "2021-10-16T10:58:38.855324Z"
    }
   },
   "outputs": [
    {
     "name": "stdout",
     "output_type": "stream",
     "text": [
      "Порог = 0.53, F1-мера = 0.6134\n"
     ]
    }
   ],
   "source": [
    "probabilities_one_valid = best_rf_model.predict_proba(features_valid)[:, 1]\n",
    "best_rf_score, best_rf_threshold = 0, 0\n",
    "for threshold in np.arange(0, 1, 0.01):\n",
    "    predicted_valid = probabilities_one_valid > threshold\n",
    "    score = f1_score(target_valid, predicted_valid)\n",
    "    if score > best_rf_score:\n",
    "        best_rf_score = score\n",
    "        best_rf_threshold = threshold\n",
    "print(\"Порог = {:.2f}, F1-мера = {:.4f}\".format(best_rf_threshold, best_rf_score))"
   ]
  },
  {
   "cell_type": "markdown",
   "metadata": {
    "ExecuteTime": {
     "end_time": "2021-08-02T23:08:06.997965Z",
     "start_time": "2021-08-02T23:08:06.990339Z"
    }
   },
   "source": [
    "Значение F1-меры на валидационной выборке для случайного леса превысило предыдущий лучший результат. Сохраним полученные модель и порог классификации. Исследуем, возможно ли дальнейшее улучшение модели случайного леса с помощью балансировки классов увеличением количества объектов меньшего класса или, наоборот, отбрасыванием части объектов большего класса в обучающей выборке."
   ]
  },
  {
   "cell_type": "code",
   "execution_count": 34,
   "metadata": {
    "ExecuteTime": {
     "end_time": "2021-10-16T10:58:39.056476Z",
     "start_time": "2021-10-16T10:58:39.041683Z"
    }
   },
   "outputs": [],
   "source": [
    "final_rf_model = best_rf_model\n",
    "final_rf_threshold = best_rf_threshold"
   ]
  },
  {
   "cell_type": "markdown",
   "metadata": {
    "ExecuteTime": {
     "end_time": "2021-08-02T23:08:06.997965Z",
     "start_time": "2021-08-02T23:08:06.990339Z"
    }
   },
   "source": [
    "В обучающей выборке больший (преобладающий) класс &mdash; отрицательный, его доля близка к 80%, доля положительного класса, соответственно, к 20%. Продублируем объекты меньшего положительного класса так, чтобы доли обоих классов сравнялись. Отобразим новый баланс классов."
   ]
  },
  {
   "cell_type": "code",
   "execution_count": 35,
   "metadata": {
    "ExecuteTime": {
     "end_time": "2021-10-16T10:58:39.087707Z",
     "start_time": "2021-10-16T10:58:39.058311Z"
    }
   },
   "outputs": [
    {
     "data": {
      "text/html": [
       "<div>\n",
       "<style scoped>\n",
       "    .dataframe tbody tr th:only-of-type {\n",
       "        vertical-align: middle;\n",
       "    }\n",
       "\n",
       "    .dataframe tbody tr th {\n",
       "        vertical-align: top;\n",
       "    }\n",
       "\n",
       "    .dataframe thead th {\n",
       "        text-align: right;\n",
       "    }\n",
       "</style>\n",
       "<table border=\"1\" class=\"dataframe\">\n",
       "  <thead>\n",
       "    <tr style=\"text-align: right;\">\n",
       "      <th></th>\n",
       "      <th>Доля классов, %</th>\n",
       "    </tr>\n",
       "  </thead>\n",
       "  <tbody>\n",
       "    <tr>\n",
       "      <th>1</th>\n",
       "      <td>50.60</td>\n",
       "    </tr>\n",
       "    <tr>\n",
       "      <th>0</th>\n",
       "      <td>49.40</td>\n",
       "    </tr>\n",
       "  </tbody>\n",
       "</table>\n",
       "</div>"
      ],
      "text/plain": [
       "   Доля классов, %\n",
       "1            50.60\n",
       "0            49.40"
      ]
     },
     "execution_count": 35,
     "metadata": {},
     "output_type": "execute_result"
    }
   ],
   "source": [
    "features_train_upsampled, target_train_upsampled = upsample(features_train, target_train, 4)\n",
    "(100 * target_train_upsampled.value_counts() / len(target_train_upsampled)).to_frame('Доля классов, %')"
   ]
  },
  {
   "cell_type": "markdown",
   "metadata": {},
   "source": [
    "Почти поровну. Выведем размеры исходной и увеличенной обучающих выборок."
   ]
  },
  {
   "cell_type": "code",
   "execution_count": 36,
   "metadata": {
    "ExecuteTime": {
     "end_time": "2021-10-16T10:58:39.103343Z",
     "start_time": "2021-10-16T10:58:39.089523Z"
    }
   },
   "outputs": [
    {
     "data": {
      "text/plain": [
       "(5454, 8790)"
      ]
     },
     "execution_count": 36,
     "metadata": {},
     "output_type": "execute_result"
    }
   ],
   "source": [
    "len(target_train), len(target_train_upsampled)"
   ]
  },
  {
   "cell_type": "markdown",
   "metadata": {},
   "source": [
    "Обучим случайный лес. Так как дисбаланса классов нет, уберем взвешивание классов."
   ]
  },
  {
   "cell_type": "code",
   "execution_count": 37,
   "metadata": {
    "ExecuteTime": {
     "end_time": "2021-10-16T10:59:41.898102Z",
     "start_time": "2021-10-16T10:58:39.105260Z"
    }
   },
   "outputs": [
    {
     "name": "stdout",
     "output_type": "stream",
     "text": [
      "Случайный лес с лучшим результатом на валидационной выборке\n",
      "Модель:           RandomForestClassifier(max_depth=12, n_estimators=60, random_state=12345)\n",
      "Значение F1-меры: 0.6088\n"
     ]
    }
   ],
   "source": [
    "%timeit\n",
    "best_rf_model, best_rf_score = None, 0\n",
    "for depth in range(2, 22, 2):\n",
    "    for n_est in range(20, 220, 20):\n",
    "        model = RandomForestClassifier(random_state=12345, n_estimators=n_est, max_depth=depth).\\\n",
    "            fit(features_train_upsampled, target_train_upsampled)\n",
    "        predicted_valid = model.predict(features_valid)\n",
    "        score = f1_score(target_valid, predicted_valid)\n",
    "        if score > best_rf_score:\n",
    "            best_rf_n_est, best_rf_max_depth, best_rf_model, best_rf_score = n_est, depth, model, score\n",
    "print('Случайный лес с лучшим результатом на валидационной выборке')\n",
    "print('Модель:          ', best_rf_model)\n",
    "print('Значение F1-меры:', round(best_rf_score, 4))"
   ]
  },
  {
   "cell_type": "markdown",
   "metadata": {},
   "source": [
    "Стало хуже, вернем взвешивание обратно. ^^"
   ]
  },
  {
   "cell_type": "code",
   "execution_count": 38,
   "metadata": {
    "ExecuteTime": {
     "end_time": "2021-10-16T11:00:42.651466Z",
     "start_time": "2021-10-16T10:59:41.899091Z"
    }
   },
   "outputs": [
    {
     "name": "stdout",
     "output_type": "stream",
     "text": [
      "Случайный лес с лучшим результатом на валидационной выборке\n",
      "Модель:           RandomForestClassifier(class_weight='balanced', max_depth=12, n_estimators=120,\n",
      "                       random_state=12345)\n",
      "Значение F1-меры: 0.6156\n"
     ]
    }
   ],
   "source": [
    "%timeit\n",
    "best_rf_model, best_rf_score = None, 0\n",
    "for depth in range(2, 22, 2):\n",
    "    for n_est in range(20, 220, 20):\n",
    "        model = RandomForestClassifier(random_state=12345, n_estimators=n_est, max_depth=depth, class_weight='balanced').\\\n",
    "            fit(features_train_upsampled, target_train_upsampled)\n",
    "        predicted_valid = model.predict(features_valid)\n",
    "        score = f1_score(target_valid, predicted_valid)\n",
    "        if score > best_rf_score:\n",
    "            best_rf_n_est, best_rf_max_depth, best_rf_model, best_rf_score = n_est, depth, model, score\n",
    "print('Случайный лес с лучшим результатом на валидационной выборке')\n",
    "print('Модель:          ', best_rf_model)\n",
    "print('Значение F1-меры:', round(best_rf_score, 4))"
   ]
  },
  {
   "cell_type": "markdown",
   "metadata": {},
   "source": [
    "Удалось еще незначительно улучшить значение F1-меры по сравнению с предыдущим лучшим результатом. Будем считать, что на данном этапе оптимальные параметры обучения случайного леса найдены. Как и в случае с обучением на несбалансированной выборке, попробуем улучшить качество классификации подбором оптимального значения порога классификации."
   ]
  },
  {
   "cell_type": "code",
   "execution_count": 39,
   "metadata": {
    "ExecuteTime": {
     "end_time": "2021-10-16T11:00:42.791446Z",
     "start_time": "2021-10-16T11:00:42.653323Z"
    }
   },
   "outputs": [
    {
     "name": "stdout",
     "output_type": "stream",
     "text": [
      "Порог = 0.50, F1-мера = 0.6156\n"
     ]
    }
   ],
   "source": [
    "probabilities_one_valid = best_rf_model.predict_proba(features_valid)[:, 1]\n",
    "best_rf_score, best_rf_threshold = 0, 0\n",
    "for threshold in np.arange(0, 1, 0.01):\n",
    "    predicted_valid = probabilities_one_valid > threshold\n",
    "    score = f1_score(target_valid, predicted_valid)\n",
    "    if score > best_rf_score:\n",
    "        best_rf_score = score\n",
    "        best_rf_threshold = threshold\n",
    "print(\"Порог = {:.2f}, F1-мера = {:.4f}\".format(best_rf_threshold, best_rf_score))"
   ]
  },
  {
   "cell_type": "markdown",
   "metadata": {},
   "source": [
    "Оптимальный порог &mdash; порог по умолчанию. Сохраним модель и порог классификации."
   ]
  },
  {
   "cell_type": "code",
   "execution_count": 40,
   "metadata": {
    "ExecuteTime": {
     "end_time": "2021-10-16T11:00:42.807462Z",
     "start_time": "2021-10-16T11:00:42.792755Z"
    }
   },
   "outputs": [],
   "source": [
    "final_rf_model = best_rf_model\n",
    "final_rf_threshold = best_rf_threshold"
   ]
  },
  {
   "cell_type": "markdown",
   "metadata": {},
   "source": [
    "Проверим ради интереса, как на качество обучения модели повлияет достижение баланса классов с помощью уменьшения количества объектов большего (в нашем случае отрицательного) класса. Ввыведем новые значений долей классов."
   ]
  },
  {
   "cell_type": "code",
   "execution_count": 41,
   "metadata": {
    "ExecuteTime": {
     "end_time": "2021-10-16T11:00:42.838686Z",
     "start_time": "2021-10-16T11:00:42.809462Z"
    }
   },
   "outputs": [
    {
     "data": {
      "text/html": [
       "<div>\n",
       "<style scoped>\n",
       "    .dataframe tbody tr th:only-of-type {\n",
       "        vertical-align: middle;\n",
       "    }\n",
       "\n",
       "    .dataframe tbody tr th {\n",
       "        vertical-align: top;\n",
       "    }\n",
       "\n",
       "    .dataframe thead th {\n",
       "        text-align: right;\n",
       "    }\n",
       "</style>\n",
       "<table border=\"1\" class=\"dataframe\">\n",
       "  <thead>\n",
       "    <tr style=\"text-align: right;\">\n",
       "      <th></th>\n",
       "      <th>Доля классов, %</th>\n",
       "    </tr>\n",
       "  </thead>\n",
       "  <tbody>\n",
       "    <tr>\n",
       "      <th>1</th>\n",
       "      <td>50.59</td>\n",
       "    </tr>\n",
       "    <tr>\n",
       "      <th>0</th>\n",
       "      <td>49.41</td>\n",
       "    </tr>\n",
       "  </tbody>\n",
       "</table>\n",
       "</div>"
      ],
      "text/plain": [
       "   Доля классов, %\n",
       "1            50.59\n",
       "0            49.41"
      ]
     },
     "execution_count": 41,
     "metadata": {},
     "output_type": "execute_result"
    }
   ],
   "source": [
    "features_train_downsampled, target_train_downsampled = downsample(features_train, target_train, 0.25, positive=False)\n",
    "(100 * target_train_downsampled.value_counts() / len(target_train_downsampled)).to_frame('Доля классов, %')"
   ]
  },
  {
   "cell_type": "markdown",
   "metadata": {},
   "source": [
    "Значения долей очень близки.\n",
    "\n",
    "Выведем размеры исходной и уменьшенной тренировочных выборок. Можно предположить, что удаление части объектов из обучающей выборки негативно скажется на качестве модели."
   ]
  },
  {
   "cell_type": "code",
   "execution_count": 42,
   "metadata": {
    "ExecuteTime": {
     "end_time": "2021-10-16T11:00:42.855046Z",
     "start_time": "2021-10-16T11:00:42.838686Z"
    }
   },
   "outputs": [
    {
     "data": {
      "text/plain": [
       "(5454, 2198)"
      ]
     },
     "execution_count": 42,
     "metadata": {},
     "output_type": "execute_result"
    }
   ],
   "source": [
    "len(target_train), len(target_train_downsampled)"
   ]
  },
  {
   "cell_type": "markdown",
   "metadata": {},
   "source": [
    "Снова обучим случайный лес. На этот раз не будем убирать взвешивание классов."
   ]
  },
  {
   "cell_type": "code",
   "execution_count": 43,
   "metadata": {
    "ExecuteTime": {
     "end_time": "2021-10-16T11:01:07.301751Z",
     "start_time": "2021-10-16T11:00:42.856782Z"
    }
   },
   "outputs": [
    {
     "name": "stdout",
     "output_type": "stream",
     "text": [
      "Случайный лес с лучшим результатом на валидационной выборке\n",
      "Модель:           RandomForestClassifier(class_weight='balanced', max_depth=10, n_estimators=140,\n",
      "                       random_state=12345)\n",
      "Значение F1-меры: 0.5894\n"
     ]
    }
   ],
   "source": [
    "%timeit\n",
    "best_rf_model, best_rf_score = None, 0\n",
    "for depth in range(2, 22, 2):\n",
    "    for n_est in range(20, 220, 20):\n",
    "        model = RandomForestClassifier(random_state=12345, n_estimators=n_est, max_depth=depth, class_weight='balanced').\\\n",
    "            fit(features_train_downsampled, target_train_downsampled)\n",
    "        predicted_valid = model.predict(features_valid)\n",
    "        score = f1_score(target_valid, predicted_valid)\n",
    "        if score > best_rf_score:\n",
    "            best_rf_n_est, best_rf_max_depth, best_rf_model, best_rf_score = n_est, depth, model, score\n",
    "print('Случайный лес с лучшим результатом на валидационной выборке')\n",
    "print('Модель:          ', best_rf_model)\n",
    "print('Значение F1-меры:', round(best_rf_score, 4))"
   ]
  },
  {
   "cell_type": "markdown",
   "metadata": {},
   "source": [
    "Подберем порог классификации."
   ]
  },
  {
   "cell_type": "code",
   "execution_count": 44,
   "metadata": {
    "ExecuteTime": {
     "end_time": "2021-10-16T11:01:07.444292Z",
     "start_time": "2021-10-16T11:01:07.302968Z"
    }
   },
   "outputs": [
    {
     "name": "stdout",
     "output_type": "stream",
     "text": [
      "Порог = 0.69, F1-мера = 0.6009\n"
     ]
    }
   ],
   "source": [
    "probabilities_one_valid = best_rf_model.predict_proba(features_valid)[:, 1]\n",
    "best_rf_score, best_rf_threshold = 0, 0\n",
    "for threshold in np.arange(0, 1, 0.01):\n",
    "    predicted_valid = probabilities_one_valid > threshold\n",
    "    score = f1_score(target_valid, predicted_valid)\n",
    "    if score > best_rf_score:\n",
    "        best_rf_score = score\n",
    "        best_rf_threshold = threshold\n",
    "print(\"Порог = {:.2f}, F1-мера = {:.4f}\".format(best_rf_threshold, best_rf_score))"
   ]
  },
  {
   "cell_type": "markdown",
   "metadata": {},
   "source": [
    "Качество модели случайного леса по сравнению с предыдущим лучшим результатом улучшить не удалось.\n",
    "\n",
    "Подведем итог. На данный момент лучшее значение F1-меры, равное 0.6156, демонстрирует случайный лес с количеством деревьев 120, максимальной глубиной обучения 12, обученный со взвешиванием классов на тренировочной выборке, сбалансированной увеличением (копированием) количества объектов меньшего класса."
   ]
  },
  {
   "cell_type": "markdown",
   "metadata": {},
   "source": [
    "### 4.2 Логистическая регрессия [▲](#содержание) <a id=\"4_2\"></a>"
   ]
  },
  {
   "cell_type": "markdown",
   "metadata": {},
   "source": [
    "Проведем аналогичное исследование влияния сбалансированности обучающей выборки на качество модели логистической регрессии. Сперва обучим логистическую регрессию на исходной выборке со взвешиванием классов."
   ]
  },
  {
   "cell_type": "code",
   "execution_count": 45,
   "metadata": {
    "ExecuteTime": {
     "end_time": "2021-10-16T11:01:07.572068Z",
     "start_time": "2021-10-16T11:01:07.445278Z"
    }
   },
   "outputs": [
    {
     "name": "stdout",
     "output_type": "stream",
     "text": [
      "Логистическая регрессия с лучшим результатом на валидационной выборке\n",
      "Лучшая модель:    LogisticRegression(class_weight='balanced', max_iter=50, random_state=12345,\n",
      "                   solver='liblinear')\n",
      "Значение F1-меры: 0.4957\n"
     ]
    }
   ],
   "source": [
    "%timeit\n",
    "best_lr_model, best_lr_score = None, 0\n",
    "for max_iter in range(50, 550, 50):\n",
    "    model = LogisticRegression(random_state=12345, solver='liblinear', max_iter=max_iter, class_weight='balanced').\\\n",
    "        fit(features_train, target_train)\n",
    "    predicted_valid = model.predict(features_valid)\n",
    "    score = f1_score(target_valid, predicted_valid)\n",
    "    if score > best_lr_score:\n",
    "        best_lr_max_iter, best_lr_model, best_lr_score = max_iter, model, score\n",
    "print('Логистическая регрессия с лучшим результатом на валидационной выборке')\n",
    "print('Лучшая модель:   ', best_lr_model)\n",
    "print('Значение F1-меры:', round(best_lr_score, 4))"
   ]
  },
  {
   "cell_type": "code",
   "execution_count": 46,
   "metadata": {
    "ExecuteTime": {
     "end_time": "2021-10-16T11:01:07.733287Z",
     "start_time": "2021-10-16T11:01:07.574258Z"
    },
    "scrolled": true
   },
   "outputs": [
    {
     "name": "stdout",
     "output_type": "stream",
     "text": [
      "Порог = 0.50, F1-мера = 0.4957\n"
     ]
    }
   ],
   "source": [
    "probabilities_one_valid = best_lr_model.predict_proba(features_valid)[:, 1]\n",
    "best_lr_score, best_lr_threshold = 0, 0\n",
    "for threshold in np.arange(0, 1, 0.01):\n",
    "    predicted_valid = probabilities_one_valid > threshold\n",
    "    score = f1_score(target_valid, predicted_valid)\n",
    "    if score > best_lr_score:\n",
    "        best_lr_score = score\n",
    "        best_lr_threshold = threshold\n",
    "print(\"Порог = {:.2f}, F1-мера = {:.4f}\".format(best_lr_threshold, best_lr_score))"
   ]
  },
  {
   "cell_type": "code",
   "execution_count": 47,
   "metadata": {
    "ExecuteTime": {
     "end_time": "2021-10-16T11:01:07.748401Z",
     "start_time": "2021-10-16T11:01:07.735571Z"
    }
   },
   "outputs": [],
   "source": [
    "final_lr_score = best_lr_score\n",
    "final_lr_threshold = best_lr_threshold"
   ]
  },
  {
   "cell_type": "markdown",
   "metadata": {},
   "source": [
    "Наблюдается незначительное улучшение качества модели по сравнение с обучением без взвешивания, при этом последующая коррекция с помощью порога классификации не привела к росту значения F1-меры по сравнению с его значением по умолчанию.\n",
    "\n",
    "Обучим модель логистической регрессии на увеличенной сбалансированной выборке, используемой ранее для обучения случайного леса,  со взвешиванием. Подберем оптимальный порог классификации."
   ]
  },
  {
   "cell_type": "code",
   "execution_count": 48,
   "metadata": {
    "ExecuteTime": {
     "end_time": "2021-10-16T11:01:07.921853Z",
     "start_time": "2021-10-16T11:01:07.751522Z"
    }
   },
   "outputs": [
    {
     "name": "stdout",
     "output_type": "stream",
     "text": [
      "Логистическая регрессия с лучшим результатом на валидационной выборке\n",
      "Лучшая модель:    LogisticRegression(class_weight='balanced', max_iter=50, random_state=12345,\n",
      "                   solver='liblinear')\n",
      "Значение F1-меры: 0.4957\n"
     ]
    }
   ],
   "source": [
    "%timeit\n",
    "best_lr_model, best_lr_score = None, 0\n",
    "for max_iter in range(50, 550, 50):\n",
    "    model = LogisticRegression(random_state=12345, solver='liblinear', max_iter=max_iter, class_weight='balanced').\\\n",
    "        fit(features_train_upsampled, target_train_upsampled)\n",
    "    predicted_valid = model.predict(features_valid)\n",
    "    score = f1_score(target_valid, predicted_valid)\n",
    "    if score > best_lr_score:\n",
    "        best_lr_max_iter, best_lr_model, best_lr_score = max_iter, model, score\n",
    "print('Логистическая регрессия с лучшим результатом на валидационной выборке')\n",
    "print('Лучшая модель:   ', best_lr_model)\n",
    "print('Значение F1-меры:', round(best_lr_score, 4))"
   ]
  },
  {
   "cell_type": "code",
   "execution_count": 49,
   "metadata": {
    "ExecuteTime": {
     "end_time": "2021-10-16T11:01:08.092627Z",
     "start_time": "2021-10-16T11:01:07.922846Z"
    }
   },
   "outputs": [
    {
     "name": "stdout",
     "output_type": "stream",
     "text": [
      "Порог = 0.50, F1-мера = 0.4957\n"
     ]
    }
   ],
   "source": [
    "probabilities_one_valid = best_lr_model.predict_proba(features_valid)[:, 1]\n",
    "best_lr_score, best_lr_threshold = 0, 0\n",
    "for threshold in np.arange(0, 1, 0.01):\n",
    "    predicted_valid = probabilities_one_valid > threshold\n",
    "    score = f1_score(target_valid, predicted_valid)\n",
    "    if score > best_lr_score:\n",
    "        best_lr_score = score\n",
    "        best_lr_threshold = threshold\n",
    "print(\"Порог = {:.2f}, F1-мера = {:.4f}\".format(best_lr_threshold, best_lr_score))"
   ]
  },
  {
   "cell_type": "markdown",
   "metadata": {},
   "source": [
    "Повторим для уменьшенной обучающей выборки, также используемой ранее для обучения случайного леса."
   ]
  },
  {
   "cell_type": "code",
   "execution_count": 50,
   "metadata": {
    "ExecuteTime": {
     "end_time": "2021-10-16T11:01:08.170739Z",
     "start_time": "2021-10-16T11:01:08.093618Z"
    }
   },
   "outputs": [
    {
     "name": "stdout",
     "output_type": "stream",
     "text": [
      "Логистическая регрессия с лучшим результатом на валидационной выборке\n",
      "Лучшая модель:    LogisticRegression(class_weight='balanced', max_iter=50, random_state=12345,\n",
      "                   solver='liblinear')\n",
      "Значение F1-меры: 0.4851\n"
     ]
    }
   ],
   "source": [
    "%timeit\n",
    "best_lr_model, best_lr_score = None, 0\n",
    "for max_iter in range(50, 550, 50):\n",
    "    model = LogisticRegression(random_state=12345, solver='liblinear', max_iter=max_iter, class_weight='balanced').\\\n",
    "        fit(features_train_downsampled, target_train_downsampled)\n",
    "    predicted_valid = model.predict(features_valid)\n",
    "    score = f1_score(target_valid, predicted_valid)\n",
    "    if score > best_lr_score:\n",
    "        best_lr_max_iter, best_lr_model, best_lr_score = max_iter, model, score\n",
    "print('Логистическая регрессия с лучшим результатом на валидационной выборке')\n",
    "print('Лучшая модель:   ', best_lr_model)\n",
    "print('Значение F1-меры:', round(best_lr_score, 4))"
   ]
  },
  {
   "cell_type": "code",
   "execution_count": 51,
   "metadata": {
    "ExecuteTime": {
     "end_time": "2021-10-16T11:01:08.295811Z",
     "start_time": "2021-10-16T11:01:08.171732Z"
    }
   },
   "outputs": [
    {
     "name": "stdout",
     "output_type": "stream",
     "text": [
      "Порог = 0.53, F1-мера = 0.4969\n"
     ]
    }
   ],
   "source": [
    "probabilities_one_valid = best_lr_model.predict_proba(features_valid)[:, 1]\n",
    "best_lr_score, best_lr_threshold = 0, 0\n",
    "for threshold in np.arange(0, 1, 0.01):\n",
    "    predicted_valid = probabilities_one_valid > threshold\n",
    "    score = f1_score(target_valid, predicted_valid)\n",
    "    if score > best_lr_score:\n",
    "        best_lr_score = score\n",
    "        best_lr_threshold = threshold\n",
    "print(\"Порог = {:.2f}, F1-мера = {:.4f}\".format(best_lr_threshold, best_lr_score))"
   ]
  },
  {
   "cell_type": "markdown",
   "metadata": {},
   "source": [
    "Обучение логистической регрессии на выборках, сбалансированных копированием объектов меньшего класса и отбрасыванием объектов большего класса, с использованием взвешивания классов на этапе обучения, не позволило довести значения F1-меры до требуемого."
   ]
  },
  {
   "cell_type": "markdown",
   "metadata": {},
   "source": [
    "### 4.3 Вывод [▲](#содержание) <a id=\"4_3\"></a>"
   ]
  },
  {
   "cell_type": "markdown",
   "metadata": {},
   "source": [
    "В случае со случайным лесом положительно на качестве классификации повлияли обучение со взвешиванием классов и обучение на выборке, сбалансированной путем увеличения количества объектов меньшего класса. Одновременно оба эти фактора позволили получить максимальное значение F1-меры 0.6156. При этом коррекция порога классификации не понадобилась. Приведенное значение F1-меры достигалось при стандартном значении порога классификации 0.5.\n",
    "\n",
    "В отличие от случайного леса, на качество логистической регрессии взвешивание классов исходной обучающей выборки не привело к увеличению F1-меры. Использование сбалансированной увеличенной выборки и последующая коррекция порога классификации до 0.53 хоть привели к росту значения F1-меры, но не позволили достичь порогового значения."
   ]
  },
  {
   "cell_type": "markdown",
   "metadata": {},
   "source": [
    "## 5 Тестирование модели [▲](#содержание) <a id=\"5\"></a>"
   ]
  },
  {
   "cell_type": "markdown",
   "metadata": {},
   "source": [
    "Протестируем лучшую модель случайного леса на тестовой выборке. Вычислим значение метрики AUC-ROC и построим ROC-кривую."
   ]
  },
  {
   "cell_type": "code",
   "execution_count": 52,
   "metadata": {
    "ExecuteTime": {
     "end_time": "2021-10-16T11:01:08.421186Z",
     "start_time": "2021-10-16T11:01:08.298139Z"
    }
   },
   "outputs": [
    {
     "name": "stdout",
     "output_type": "stream",
     "text": [
      "Лучшая модель случайного леса на тестовой выборке\n",
      "Значение F1-меры: 0.614\n",
      "Значение AUC ROC: 0.8539\n"
     ]
    }
   ],
   "source": [
    "predicted_test = final_rf_model.predict(features_test)\n",
    "probabilities_one_test = final_rf_model.predict_proba(features_test)[:, 1]\n",
    "print('Лучшая модель случайного леса на тестовой выборке')\n",
    "print('Значение F1-меры:', round(f1_score(target_test, predicted_test), 4))\n",
    "print('Значение AUC ROC:', round(roc_auc_score(target_test, probabilities_one_test), 4))"
   ]
  },
  {
   "cell_type": "code",
   "execution_count": 53,
   "metadata": {
    "ExecuteTime": {
     "end_time": "2021-10-16T11:01:08.596934Z",
     "start_time": "2021-10-16T11:01:08.422173Z"
    }
   },
   "outputs": [
    {
     "data": {
      "image/png": "[encoded data removed]",
      "text/plain": [
       "<Figure size 432x288 with 1 Axes>"
      ]
     },
     "metadata": {
      "needs_background": "light"
     },
     "output_type": "display_data"
    }
   ],
   "source": [
    "fpr, tpr, thresholds = roc_curve(target_test, probabilities_one_test)\n",
    "plt.figure()\n",
    "plt.plot(fpr, tpr)\n",
    "plt.plot([0, 1], [0, 1], linestyle='--') # ROC-кривая случайной модели\n",
    "plt.xlim([0, 1])\n",
    "plt.ylim([0, 1])\n",
    "plt.xlabel('False Positive Rate'),\n",
    "plt.ylabel('True Positive Rate')\n",
    "plt.title('ROC-кривая')\n",
    "plt.show()"
   ]
  },
  {
   "cell_type": "markdown",
   "metadata": {},
   "source": [
    "Переобучим эту же модель на сумме обучающей и валидационной выборок, после чего испытаем ее на тестовой выборке. Также вычислим  значение метрики AUC-ROC и построим ROC-кривую."
   ]
  },
  {
   "cell_type": "code",
   "execution_count": 54,
   "metadata": {
    "ExecuteTime": {
     "end_time": "2021-10-16T11:01:09.347734Z",
     "start_time": "2021-10-16T11:01:08.598401Z"
    },
    "scrolled": true
   },
   "outputs": [
    {
     "name": "stdout",
     "output_type": "stream",
     "text": [
      "Лучшая модель случайного леса, обученная на сумме обучающей и валидационной выборок, на тестовой выборке\n",
      "Значение F1-меры: 0.6299\n",
      "Значение AUC ROC: 0.8596\n"
     ]
    }
   ],
   "source": [
    "final_rf_model_fully_trained =\\\n",
    "    RandomForestClassifier(class_weight='balanced', max_depth=12, n_estimators=120, random_state=12345).\\\n",
    "        fit(features_train_and_valid, target_train_and_valid)\n",
    "predicted_test = final_rf_model_fully_trained.predict(features_test)\n",
    "probabilities_one_test = final_rf_model_fully_trained.predict_proba(features_test)[:, 1]\n",
    "print('Лучшая модель случайного леса, обученная на сумме обучающей и валидационной выборок, на тестовой выборке')\n",
    "print('Значение F1-меры:', round(f1_score(target_test, predicted_test), 4))\n",
    "print('Значение AUC ROC:', round(roc_auc_score(target_test, probabilities_one_test), 4))"
   ]
  },
  {
   "cell_type": "code",
   "execution_count": 55,
   "metadata": {
    "ExecuteTime": {
     "end_time": "2021-10-16T11:01:09.502764Z",
     "start_time": "2021-10-16T11:01:09.349652Z"
    }
   },
   "outputs": [
    {
     "data": {
      "image/png": "[encoded data removed]",
      "text/plain": [
       "<Figure size 432x288 with 1 Axes>"
      ]
     },
     "metadata": {
      "needs_background": "light"
     },
     "output_type": "display_data"
    }
   ],
   "source": [
    "fpr, tpr, thresholds = roc_curve(target_test, probabilities_one_test) # < напишите код здесь >\n",
    "plt.plot(fpr, tpr)\n",
    "plt.plot([0, 1], [0, 1], linestyle='--') # ROC-кривая случайной модели\n",
    "plt.xlim([0, 1])\n",
    "plt.ylim([0, 1])\n",
    "plt.xlabel('False Positive Rate'),\n",
    "plt.ylabel('True Positive Rate')\n",
    "plt.title('ROC-кривая')\n",
    "plt.show()"
   ]
  },
  {
   "cell_type": "markdown",
   "metadata": {},
   "source": [
    "В обоих случаях на тестовой выборке значение F1-меры превышает заданное. Значение AUC-ROC превышает 0.5, что означает, что модель работает эффективней случайной модели. ROC-кривая проходит достаточно высоко над пунктирной прямой случайного классификатора."
   ]
  },
  {
   "cell_type": "markdown",
   "metadata": {},
   "source": [
    "## 6 Вывод [▲](#содержание) <a id=\"6\"></a>"
   ]
  },
  {
   "cell_type": "markdown",
   "metadata": {},
   "source": [
    "Проведено исследование качества классификации случайного леса и логистической регрессии на данных клиентов \"Бета-банка\". Целевым признаком являлся факт ухода клиента из банка в столбце Exited.\n",
    "\n",
    "Перед обучением и тестированием моделей данные были предобработаны:\n",
    " - удалены столбцы RowNumber, CustomerId, Surname, хранящие данные, не являющиеся признаками;\n",
    " - удалены 909 объектов, имеющие пропуски в столбце Tenure.\n",
    "\n",
    "Удаление объектов с пропусками не оказало значительного влияния на объем таблицы и на значения долей классов целевого признака.\n",
    "\n",
    "Так как рассматриваемые алгоритмы машинного обучения работают с числовым представлением входных признаков, было осуществлено кодирование строковых категориальных переменных. Использовалась методика прямого кодирования One-Hot Encoding, как наиболее универсальная.\n",
    "\n",
    "После предобработки данные были разбиты на нецелевые и целевой признаки. Из каждой таблицы были сформированы обучающая, валидационная и тренировочная выборки в соотношении 3:1:1.\n",
    "\n",
    "Было установлено, что обучающая выборка имеет значительный дисбаланс классов: большим классом оказался отрицательный класс с долей приблизительно 80%, меньшим &mdash; положительный класс с долей приблизительно 20%.\n",
    "\n",
    "Первоначально обучение проходило на несбалансированной выборке. Проверялись разные значения гиперпараметров: для случайного леса &mdash; число деревьев и максимальная глубина обучения, для логистической регрессии &mdash; максимальное количество итераций, необходимое для схождения решателя.\n",
    "\n",
    "В результате на валидационной выборке только случайный лес смог продемонстрировать значение F1-меры свыше требуемого (0.59), оно составило 0.6156. В то время как лучшее значение F1-меры для логистической регрессии составило 0.4851.\n",
    "\n",
    "Для балансировки обучающей выборки были применены взвешивание классов обучающей выборки, увеличение обучающей выборки дублированием объектов меньшего класса и уменьшение обучающей выборки отбрасыванием объектов большего класса.\n",
    "\n",
    "Взвешивание на этапе обучения оказало значительный эффект только на случайный лес, в то время как для логистической регрессии значение F1-меры не изменилось. В обоих случаях небольшой положительный эффект оказало увеличение количества объектов меньшего класса в обучающей выборке.\n",
    "\n",
    "Случайный лес и логистическая регрессия, обученные на сбалансированной выборке, показали на валидационной выборке лучшие значения F1-меры 0.6156 и 0.4969 соответственно.\n",
    "\n",
    "На тестовой выборке проверялся только случайный лес. Также для него было рассчитано значение метрики AUC-ROC и построена ROC-кривая:\n",
    " - значение F1-меры составило 0.614;\n",
    " - значение AUC ROC метрики составило 0.8539.\n",
    "ROC-кривая прошла значительно выше линии случайного классификатор.\n",
    "\n",
    "Случайный лес с аналогичными параметрами был обучен на сумме обучающей и валидационной выборок, проверен на тестовой выборке:\n",
    " - значение F1-меры составило 0.6299;\n",
    " - значение AUC ROC метрики составило 0.8596.\n",
    "\n",
    "\n",
    "Удалось еще незначительно улучшить качество классификации. ROC-кривая зрительно почти не отличалась от ROC-кривой для случайного леса, обученного только на обучающей выборке."
   ]
  },
  {
   "cell_type": "markdown",
   "metadata": {},
   "source": [
    "## 7 Чек-лист готовности проекта [▲](#содержание) <a id=\"7\"></a>"
   ]
  },
  {
   "cell_type": "markdown",
   "metadata": {},
   "source": [
    "Поставьте 'x' в выполненных пунктах. Далее нажмите Shift+Enter."
   ]
  },
  {
   "cell_type": "markdown",
   "metadata": {},
   "source": [
    "- [x]  Jupyter Notebook открыт\n",
    "- [x]  Весь код выполняется без ошибок\n",
    "- [x]  Ячейки с кодом расположены в порядке исполнения\n",
    "- [x]  Выполнен шаг 1: данные подготовлены\n",
    "- [x]  Выполнен шаг 2: задача исследована\n",
    "    - [x]  Исследован баланс классов\n",
    "    - [x]  Изучены модели без учёта дисбаланса\n",
    "    - [x]  Написаны выводы по результатам исследования\n",
    "- [x]  Выполнен шаг 3: учтён дисбаланс\n",
    "    - [x]  Применено несколько способов борьбы с дисбалансом\n",
    "    - [x]  Написаны выводы по результатам исследования\n",
    "- [x]  Выполнен шаг 4: проведено тестирование\n",
    "- [x]  Удалось достичь *F1*-меры не менее 0.59\n",
    "- [x]  Исследована метрика *AUC-ROC*"
   ]
  }
 ],
 "metadata": {
  "ExecuteTimeLog": [
   {
    "duration": 1569,
    "start_time": "2021-08-04T05:44:59.850Z"
   },
   {
    "duration": 17,
    "start_time": "2021-08-04T05:45:01.422Z"
   },
   {
    "duration": 54,
    "start_time": "2021-08-04T05:45:01.443Z"
   },
   {
    "duration": 21,
    "start_time": "2021-08-04T05:45:01.500Z"
   },
   {
    "duration": 33,
    "start_time": "2021-08-04T05:45:01.524Z"
   },
   {
    "duration": 24,
    "start_time": "2021-08-04T05:45:01.563Z"
   },
   {
    "duration": 22,
    "start_time": "2021-08-04T05:45:01.591Z"
   },
   {
    "duration": 19,
    "start_time": "2021-08-04T05:45:01.618Z"
   },
   {
    "duration": 31,
    "start_time": "2021-08-04T05:45:01.642Z"
   },
   {
    "duration": 11,
    "start_time": "2021-08-04T05:45:01.676Z"
   },
   {
    "duration": 19,
    "start_time": "2021-08-04T05:45:01.690Z"
   },
   {
    "duration": 33,
    "start_time": "2021-08-04T05:45:01.712Z"
   },
   {
    "duration": 30,
    "start_time": "2021-08-04T05:45:01.748Z"
   },
   {
    "duration": 8,
    "start_time": "2021-08-04T05:45:01.780Z"
   },
   {
    "duration": 27,
    "start_time": "2021-08-04T05:45:01.791Z"
   },
   {
    "duration": 43,
    "start_time": "2021-08-04T05:45:01.820Z"
   },
   {
    "duration": 29,
    "start_time": "2021-08-04T05:45:01.865Z"
   },
   {
    "duration": 36,
    "start_time": "2021-08-04T05:45:01.897Z"
   },
   {
    "duration": 67,
    "start_time": "2021-08-04T05:45:01.935Z"
   },
   {
    "duration": 43,
    "start_time": "2021-08-04T05:45:02.005Z"
   },
   {
    "duration": 64,
    "start_time": "2021-08-04T05:45:02.050Z"
   },
   {
    "duration": 41,
    "start_time": "2021-08-04T05:45:02.117Z"
   },
   {
    "duration": 7,
    "start_time": "2021-08-04T05:45:02.165Z"
   },
   {
    "duration": 31,
    "start_time": "2021-08-04T05:45:02.175Z"
   },
   {
    "duration": 30,
    "start_time": "2021-08-04T05:45:02.208Z"
   },
   {
    "duration": 80670,
    "start_time": "2021-08-04T05:45:02.241Z"
   },
   {
    "duration": 222,
    "start_time": "2021-08-04T05:46:22.914Z"
   },
   {
    "duration": 4,
    "start_time": "2021-08-04T05:46:23.138Z"
   },
   {
    "duration": 1838,
    "start_time": "2021-08-04T05:46:23.144Z"
   },
   {
    "duration": 476,
    "start_time": "2021-08-04T05:46:25.064Z"
   },
   {
    "duration": 4,
    "start_time": "2021-08-04T05:46:25.542Z"
   },
   {
    "duration": 78627,
    "start_time": "2021-08-04T05:46:25.548Z"
   },
   {
    "duration": 277,
    "start_time": "2021-08-04T05:47:44.178Z"
   },
   {
    "duration": 4,
    "start_time": "2021-08-04T05:47:44.463Z"
   },
   {
    "duration": 26,
    "start_time": "2021-08-04T05:47:44.470Z"
   },
   {
    "duration": 7,
    "start_time": "2021-08-04T05:47:44.499Z"
   },
   {
    "duration": 114935,
    "start_time": "2021-08-04T05:47:44.509Z"
   },
   {
    "duration": 115654,
    "start_time": "2021-08-04T05:49:39.446Z"
   },
   {
    "duration": 251,
    "start_time": "2021-08-04T05:51:35.102Z"
   },
   {
    "duration": 3,
    "start_time": "2021-08-04T05:51:35.363Z"
   },
   {
    "duration": 44,
    "start_time": "2021-08-04T05:51:35.368Z"
   },
   {
    "duration": 10,
    "start_time": "2021-08-04T05:51:35.414Z"
   },
   {
    "duration": 44483,
    "start_time": "2021-08-04T05:51:35.426Z"
   },
   {
    "duration": 257,
    "start_time": "2021-08-04T05:52:19.912Z"
   },
   {
    "duration": 1811,
    "start_time": "2021-08-04T05:52:20.172Z"
   },
   {
    "duration": 498,
    "start_time": "2021-08-04T05:52:22.064Z"
   },
   {
    "duration": 5,
    "start_time": "2021-08-04T05:52:22.565Z"
   },
   {
    "duration": 1890,
    "start_time": "2021-08-04T05:52:22.573Z"
   },
   {
    "duration": 587,
    "start_time": "2021-08-04T05:52:24.467Z"
   },
   {
    "duration": 1404,
    "start_time": "2021-08-04T05:52:25.061Z"
   },
   {
    "duration": 481,
    "start_time": "2021-08-04T05:52:26.469Z"
   },
   {
    "duration": 76,
    "start_time": "2021-08-04T05:52:26.952Z"
   },
   {
    "duration": 291,
    "start_time": "2021-08-04T05:52:27.031Z"
   },
   {
    "duration": 1261,
    "start_time": "2021-08-04T05:52:27.325Z"
   },
   {
    "duration": 281,
    "start_time": "2021-08-04T05:52:28.589Z"
   },
   {
    "duration": 1299,
    "start_time": "2021-08-04T06:18:57.570Z"
   }
  ],
  "hide_input": false,
  "kernelspec": {
   "display_name": "Python 3",
   "language": "python",
   "name": "python3"
  },
  "language_info": {
   "codemirror_mode": {
    "name": "ipython",
    "version": 3
   },
   "file_extension": ".py",
   "mimetype": "text/x-python",
   "name": "python",
   "nbconvert_exporter": "python",
   "pygments_lexer": "ipython3",
   "version": "3.8.8"
  },
  "toc": {
   "base_numbering": 1,
   "nav_menu": {},
   "number_sections": false,
   "sideBar": true,
   "skip_h1_title": true,
   "title_cell": "Содержание",
   "title_sidebar": "Contents",
   "toc_cell": false,
   "toc_position": {},
   "toc_section_display": true,
   "toc_window_display": false
  }
 },
 "nbformat": 4,
 "nbformat_minor": 2
}
