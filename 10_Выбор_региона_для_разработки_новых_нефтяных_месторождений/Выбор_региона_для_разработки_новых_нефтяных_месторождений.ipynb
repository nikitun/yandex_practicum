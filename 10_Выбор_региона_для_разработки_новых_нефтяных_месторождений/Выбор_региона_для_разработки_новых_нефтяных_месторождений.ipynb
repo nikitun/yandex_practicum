{
 "cells": [
  {
   "cell_type": "markdown",
   "metadata": {},
   "source": [
    "# Содержание <a id=\"0\"></a>"
   ]
  },
  {
   "cell_type": "markdown",
   "metadata": {
    "ExecuteTime": {
     "end_time": "2021-08-16T20:24:02.427773Z",
     "start_time": "2021-08-16T20:24:02.416677Z"
    }
   },
   "source": [
    "- [1 Выбор локации для скважины](#1)\n",
    " - [1.1 Описание проекта](#1_1)\n",
    " - [1.2 Описание данных](#1_2)\n",
    "- [2 Загрузка и подготовка данных](#2)\n",
    " - [2.1 Загрузка данных](#2_1)\n",
    " - [2.2 Предобработка данных](#2_2)\n",
    "- [3 Обучение и проверка модели](#3)\n",
    "- [4 Подготовка к расчёту прибыли](#4)\n",
    "- [5 Расчёт прибыли и рисков](#5)\n",
    "- [6 Вывод](#6)\n",
    "- [7 Чек-лист готовности модели](#7)"
   ]
  },
  {
   "cell_type": "markdown",
   "metadata": {},
   "source": [
    "# 1 Выбор локации для скважины [▲](#0) <a id=\"1\"></a>"
   ]
  },
  {
   "cell_type": "markdown",
   "metadata": {},
   "source": [
    "## 1.1 Описание проекта [▲](#0) <a id=\"1_1\"></a>"
   ]
  },
  {
   "cell_type": "markdown",
   "metadata": {},
   "source": [
    "Допустим, вы работаете в добывающей компании «ГлавРосГосНефть». Нужно решить, где бурить новую скважину.\n",
    "\n",
    "Вам предоставлены пробы нефти в трёх регионах: в каждом 10 000 месторождений, где измерили качество нефти и объём её запасов. Постройте модель машинного обучения, которая поможет определить регион, где добыча принесёт наибольшую прибыль. Проанализируйте возможную прибыль и риски техникой *Bootstrap.*\n",
    "\n",
    "Шаги для выбора локации:\n",
    "\n",
    "- В избранном регионе ищут месторождения, для каждого определяют значения признаков;\n",
    "- Строят модель и оценивают объём запасов;\n",
    "- Выбирают месторождения с самым высокими оценками значений. Количество месторождений зависит от бюджета компании и стоимости разработки одной скважины;\n",
    "- Прибыль равна суммарной прибыли отобранных месторождений."
   ]
  },
  {
   "cell_type": "markdown",
   "metadata": {},
   "source": [
    "## 1.2 Описание данных [▲](#0) <a id=\"1_2\"></a>"
   ]
  },
  {
   "cell_type": "markdown",
   "metadata": {
    "ExecuteTime": {
     "end_time": "2021-08-16T20:26:37.060338Z",
     "start_time": "2021-08-16T20:26:37.046890Z"
    }
   },
   "source": [
    "Данные геологоразведки трёх регионов:\n",
    "- id &mdash; уникальный идентификатор скважины;\n",
    "- f0, f1, f2 &mdash; признаки точек;\n",
    "- product &mdash; объём запасов в скважине (тыс. баррелей)."
   ]
  },
  {
   "cell_type": "markdown",
   "metadata": {},
   "source": [
    "## 2 Загрузка и подготовка данных [▲](#0) <a id=\"2\"></a>"
   ]
  },
  {
   "cell_type": "markdown",
   "metadata": {},
   "source": [
    "### 2.1 Загрузка данных [▲](#0) <a id=\"2_1\"></a>"
   ]
  },
  {
   "cell_type": "markdown",
   "metadata": {
    "ExecuteTime": {
     "end_time": "2021-08-15T10:40:51.595447Z",
     "start_time": "2021-08-15T10:40:51.588912Z"
    }
   },
   "source": [
    "Подключим модули языка Python."
   ]
  },
  {
   "cell_type": "code",
   "execution_count": 1,
   "metadata": {
    "ExecuteTime": {
     "end_time": "2021-10-15T21:14:55.051535Z",
     "start_time": "2021-10-15T21:14:40.592697Z"
    }
   },
   "outputs": [],
   "source": [
    "from IPython.core.display import display, HTML\n",
    "import html\n",
    "import pandas as pd\n",
    "import numpy as np\n",
    "import matplotlib.pyplot as plt\n",
    "import matplotlib.ticker as mticker\n",
    "import seaborn as sns\n",
    "from sklearn.model_selection import train_test_split\n",
    "from sklearn.preprocessing import StandardScaler \n",
    "from sklearn.linear_model import LinearRegression\n",
    "from sklearn.metrics import r2_score\n",
    "from sklearn.metrics import mean_squared_error\n",
    "from sklearn.model_selection import cross_val_score\n",
    "pd.options.mode.chained_assignment = None\n",
    "\n",
    "%precision %.2f\n",
    "pd.options.display.float_format = '{:,.2f}'.format"
   ]
  },
  {
   "cell_type": "code",
   "execution_count": 2,
   "metadata": {
    "ExecuteTime": {
     "end_time": "2021-10-15T21:14:55.067905Z",
     "start_time": "2021-10-15T21:14:55.053511Z"
    }
   },
   "outputs": [],
   "source": [
    "def df_info(data_frame, nulls_percent_round=1, deep_memory_usage=False):\n",
    "    '''\n",
    "    Функция для вывода общей информации о таблице\n",
    "    '''\n",
    "    t = pd.concat(\n",
    "        [\n",
    "         \n",
    "            data_frame.isna().sum().to_frame('nulls_count'),\n",
    "            (100 * data_frame.isna().sum() / len(data_frame)).round(nulls_percent_round).to_frame('nulls_percent'),\n",
    "            data_frame.dtypes.to_frame('dtype')\n",
    "        ],\n",
    "        axis=1\n",
    "    )\n",
    "    s = 'dtypes:'\n",
    "    c = data_frame.dtypes.value_counts()\n",
    "    for i in c.index:\n",
    "        s += ' {0}({1})'.format(i, c[i])\n",
    "    m = data_frame.memory_usage(deep=deep_memory_usage).sum()\n",
    "    if int(m / 1024 ** 3):\n",
    "        d, b = 1024 ** 3, 'GB'\n",
    "    elif int(m / 1024 ** 2):\n",
    "        d, b = 1024 ** 2, 'MB'\n",
    "    else:\n",
    "        d, b = 1024, 'KB'\n",
    "    print(t)\n",
    "    print('columns: ', data_frame.shape[1], ', rows: ', data_frame.shape[0], sep='')\n",
    "    print(s)\n",
    "    print('memory_usage: ', round(m / d, 1), '+ ' if not deep_memory_usage else ' ', b, sep='')"
   ]
  },
  {
   "cell_type": "markdown",
   "metadata": {},
   "source": [
    "Загрузим таблицы исходных данных с характеристиками скважин."
   ]
  },
  {
   "cell_type": "code",
   "execution_count": 3,
   "metadata": {
    "ExecuteTime": {
     "end_time": "2021-10-15T21:14:55.601436Z",
     "start_time": "2021-10-15T21:14:55.068756Z"
    }
   },
   "outputs": [
    {
     "name": "stdout",
     "output_type": "stream",
     "text": [
      "Таблица data_0 из файла ./geo_data_0.csv загружена в переменную data_0\n",
      "Таблица data_1 из файла ./geo_data_1.csv загружена в переменную data_1\n",
      "Таблица data_2 из файла ./geo_data_2.csv загружена в переменную data_2\n"
     ]
    }
   ],
   "source": [
    "# Загрузка данных\n",
    "\n",
    "# Возможные пути расположения файлов\n",
    "filepaths = {\n",
    "    'data_0': ['/datasets/geo_data_0.csv', './geo_data_0.csv', 'https://code.s3.yandex.net/datasets/geo_data_0.csv'],\n",
    "    'data_1': ['/datasets/geo_data_1.csv', './geo_data_1.csv', 'https://code.s3.yandex.net/datasets/geo_data_1.csv'],\n",
    "    'data_2': ['/datasets/geo_data_2.csv', './geo_data_2.csv', 'https://code.s3.yandex.net/datasets/geo_data_2.csv']\n",
    "}\n",
    "\n",
    "# Загрузка данных по первому существующему пути\n",
    "for dfname in filepaths.keys():\n",
    "    for filepath in filepaths[dfname]:\n",
    "        try:\n",
    "            exec(dfname + ' = pd.read_csv(filepath)')\n",
    "            exec(dfname + f'.name = \"{dfname}\"')\n",
    "            print('Таблица ' + dfname + ' из файла ' + filepath + ' загружена в переменную ' + dfname)\n",
    "            break\n",
    "        except Exception:\n",
    "            continue\n",
    "    else:\n",
    "        raise SystemExit('Файл с таблицей ' + dfname + ' не найден ни по одному из путей в списке filepaths')"
   ]
  },
  {
   "cell_type": "markdown",
   "metadata": {},
   "source": [
    "Для ознакомления с загруженными данными выведем начало каждой таблицы."
   ]
  },
  {
   "cell_type": "code",
   "execution_count": 4,
   "metadata": {
    "ExecuteTime": {
     "end_time": "2021-10-15T21:14:55.648538Z",
     "start_time": "2021-10-15T21:14:55.602439Z"
    }
   },
   "outputs": [
    {
     "name": "stdout",
     "output_type": "stream",
     "text": [
      "--------------------------------------------------------------------------------\n",
      "data_0:\n"
     ]
    },
    {
     "data": {
      "text/html": [
       "<div>\n",
       "<style scoped>\n",
       "    .dataframe tbody tr th:only-of-type {\n",
       "        vertical-align: middle;\n",
       "    }\n",
       "\n",
       "    .dataframe tbody tr th {\n",
       "        vertical-align: top;\n",
       "    }\n",
       "\n",
       "    .dataframe thead th {\n",
       "        text-align: right;\n",
       "    }\n",
       "</style>\n",
       "<table border=\"1\" class=\"dataframe\">\n",
       "  <thead>\n",
       "    <tr style=\"text-align: right;\">\n",
       "      <th></th>\n",
       "      <th>id</th>\n",
       "      <th>f0</th>\n",
       "      <th>f1</th>\n",
       "      <th>f2</th>\n",
       "      <th>product</th>\n",
       "    </tr>\n",
       "  </thead>\n",
       "  <tbody>\n",
       "    <tr>\n",
       "      <th>0</th>\n",
       "      <td>txEyH</td>\n",
       "      <td>0.71</td>\n",
       "      <td>-0.50</td>\n",
       "      <td>1.22</td>\n",
       "      <td>105.28</td>\n",
       "    </tr>\n",
       "    <tr>\n",
       "      <th>1</th>\n",
       "      <td>2acmU</td>\n",
       "      <td>1.33</td>\n",
       "      <td>-0.34</td>\n",
       "      <td>4.37</td>\n",
       "      <td>73.04</td>\n",
       "    </tr>\n",
       "    <tr>\n",
       "      <th>2</th>\n",
       "      <td>409Wp</td>\n",
       "      <td>1.02</td>\n",
       "      <td>0.15</td>\n",
       "      <td>1.42</td>\n",
       "      <td>85.27</td>\n",
       "    </tr>\n",
       "    <tr>\n",
       "      <th>3</th>\n",
       "      <td>iJLyR</td>\n",
       "      <td>-0.03</td>\n",
       "      <td>0.14</td>\n",
       "      <td>2.98</td>\n",
       "      <td>168.62</td>\n",
       "    </tr>\n",
       "    <tr>\n",
       "      <th>4</th>\n",
       "      <td>Xdl7t</td>\n",
       "      <td>1.99</td>\n",
       "      <td>0.16</td>\n",
       "      <td>4.75</td>\n",
       "      <td>154.04</td>\n",
       "    </tr>\n",
       "  </tbody>\n",
       "</table>\n",
       "</div>"
      ],
      "text/plain": [
       "      id    f0    f1   f2  product\n",
       "0  txEyH  0.71 -0.50 1.22   105.28\n",
       "1  2acmU  1.33 -0.34 4.37    73.04\n",
       "2  409Wp  1.02  0.15 1.42    85.27\n",
       "3  iJLyR -0.03  0.14 2.98   168.62\n",
       "4  Xdl7t  1.99  0.16 4.75   154.04"
      ]
     },
     "metadata": {},
     "output_type": "display_data"
    },
    {
     "name": "stdout",
     "output_type": "stream",
     "text": [
      "--------------------------------------------------------------------------------\n",
      "data_1:\n"
     ]
    },
    {
     "data": {
      "text/html": [
       "<div>\n",
       "<style scoped>\n",
       "    .dataframe tbody tr th:only-of-type {\n",
       "        vertical-align: middle;\n",
       "    }\n",
       "\n",
       "    .dataframe tbody tr th {\n",
       "        vertical-align: top;\n",
       "    }\n",
       "\n",
       "    .dataframe thead th {\n",
       "        text-align: right;\n",
       "    }\n",
       "</style>\n",
       "<table border=\"1\" class=\"dataframe\">\n",
       "  <thead>\n",
       "    <tr style=\"text-align: right;\">\n",
       "      <th></th>\n",
       "      <th>id</th>\n",
       "      <th>f0</th>\n",
       "      <th>f1</th>\n",
       "      <th>f2</th>\n",
       "      <th>product</th>\n",
       "    </tr>\n",
       "  </thead>\n",
       "  <tbody>\n",
       "    <tr>\n",
       "      <th>0</th>\n",
       "      <td>kBEdx</td>\n",
       "      <td>-15.00</td>\n",
       "      <td>-8.28</td>\n",
       "      <td>-0.01</td>\n",
       "      <td>3.18</td>\n",
       "    </tr>\n",
       "    <tr>\n",
       "      <th>1</th>\n",
       "      <td>62mP7</td>\n",
       "      <td>14.27</td>\n",
       "      <td>-3.48</td>\n",
       "      <td>1.00</td>\n",
       "      <td>26.95</td>\n",
       "    </tr>\n",
       "    <tr>\n",
       "      <th>2</th>\n",
       "      <td>vyE1P</td>\n",
       "      <td>6.26</td>\n",
       "      <td>-5.95</td>\n",
       "      <td>5.00</td>\n",
       "      <td>134.77</td>\n",
       "    </tr>\n",
       "    <tr>\n",
       "      <th>3</th>\n",
       "      <td>KcrkZ</td>\n",
       "      <td>-13.08</td>\n",
       "      <td>-11.51</td>\n",
       "      <td>5.00</td>\n",
       "      <td>137.95</td>\n",
       "    </tr>\n",
       "    <tr>\n",
       "      <th>4</th>\n",
       "      <td>AHL4O</td>\n",
       "      <td>12.70</td>\n",
       "      <td>-8.15</td>\n",
       "      <td>5.00</td>\n",
       "      <td>134.77</td>\n",
       "    </tr>\n",
       "  </tbody>\n",
       "</table>\n",
       "</div>"
      ],
      "text/plain": [
       "      id     f0     f1    f2  product\n",
       "0  kBEdx -15.00  -8.28 -0.01     3.18\n",
       "1  62mP7  14.27  -3.48  1.00    26.95\n",
       "2  vyE1P   6.26  -5.95  5.00   134.77\n",
       "3  KcrkZ -13.08 -11.51  5.00   137.95\n",
       "4  AHL4O  12.70  -8.15  5.00   134.77"
      ]
     },
     "metadata": {},
     "output_type": "display_data"
    },
    {
     "name": "stdout",
     "output_type": "stream",
     "text": [
      "--------------------------------------------------------------------------------\n",
      "data_2:\n"
     ]
    },
    {
     "data": {
      "text/html": [
       "<div>\n",
       "<style scoped>\n",
       "    .dataframe tbody tr th:only-of-type {\n",
       "        vertical-align: middle;\n",
       "    }\n",
       "\n",
       "    .dataframe tbody tr th {\n",
       "        vertical-align: top;\n",
       "    }\n",
       "\n",
       "    .dataframe thead th {\n",
       "        text-align: right;\n",
       "    }\n",
       "</style>\n",
       "<table border=\"1\" class=\"dataframe\">\n",
       "  <thead>\n",
       "    <tr style=\"text-align: right;\">\n",
       "      <th></th>\n",
       "      <th>id</th>\n",
       "      <th>f0</th>\n",
       "      <th>f1</th>\n",
       "      <th>f2</th>\n",
       "      <th>product</th>\n",
       "    </tr>\n",
       "  </thead>\n",
       "  <tbody>\n",
       "    <tr>\n",
       "      <th>0</th>\n",
       "      <td>fwXo0</td>\n",
       "      <td>-1.15</td>\n",
       "      <td>0.96</td>\n",
       "      <td>-0.83</td>\n",
       "      <td>27.76</td>\n",
       "    </tr>\n",
       "    <tr>\n",
       "      <th>1</th>\n",
       "      <td>WJtFt</td>\n",
       "      <td>0.26</td>\n",
       "      <td>0.27</td>\n",
       "      <td>-2.53</td>\n",
       "      <td>56.07</td>\n",
       "    </tr>\n",
       "    <tr>\n",
       "      <th>2</th>\n",
       "      <td>ovLUW</td>\n",
       "      <td>0.19</td>\n",
       "      <td>0.29</td>\n",
       "      <td>-5.59</td>\n",
       "      <td>62.87</td>\n",
       "    </tr>\n",
       "    <tr>\n",
       "      <th>3</th>\n",
       "      <td>q6cA6</td>\n",
       "      <td>2.24</td>\n",
       "      <td>-0.55</td>\n",
       "      <td>0.93</td>\n",
       "      <td>114.57</td>\n",
       "    </tr>\n",
       "    <tr>\n",
       "      <th>4</th>\n",
       "      <td>WPMUX</td>\n",
       "      <td>-0.52</td>\n",
       "      <td>1.72</td>\n",
       "      <td>5.90</td>\n",
       "      <td>149.60</td>\n",
       "    </tr>\n",
       "  </tbody>\n",
       "</table>\n",
       "</div>"
      ],
      "text/plain": [
       "      id    f0    f1    f2  product\n",
       "0  fwXo0 -1.15  0.96 -0.83    27.76\n",
       "1  WJtFt  0.26  0.27 -2.53    56.07\n",
       "2  ovLUW  0.19  0.29 -5.59    62.87\n",
       "3  q6cA6  2.24 -0.55  0.93   114.57\n",
       "4  WPMUX -0.52  1.72  5.90   149.60"
      ]
     },
     "metadata": {},
     "output_type": "display_data"
    }
   ],
   "source": [
    "for d in data_0, data_1, data_2: print('-'*80), print(f'{d.name}:'), display(d.head())"
   ]
  },
  {
   "cell_type": "markdown",
   "metadata": {},
   "source": [
    "Соберем таблицы в список для удобства дальнейшей работы с ними."
   ]
  },
  {
   "cell_type": "code",
   "execution_count": 5,
   "metadata": {
    "ExecuteTime": {
     "end_time": "2021-10-15T21:14:55.663755Z",
     "start_time": "2021-10-15T21:14:55.650023Z"
    }
   },
   "outputs": [],
   "source": [
    "data_list = [data_0, data_1, data_2]"
   ]
  },
  {
   "cell_type": "markdown",
   "metadata": {
    "ExecuteTime": {
     "end_time": "2021-08-15T15:44:39.719029Z",
     "start_time": "2021-08-15T15:44:39.710244Z"
    }
   },
   "source": [
    "Название столбца **product** совпадает с именем функции библиотеки `pandas`, что не позволяет для обращения к нему использовать точечную нотацию. Переименуем столбцы **product** в **products**."
   ]
  },
  {
   "cell_type": "code",
   "execution_count": 6,
   "metadata": {
    "ExecuteTime": {
     "end_time": "2021-10-15T21:14:55.679122Z",
     "start_time": "2021-10-15T21:14:55.665032Z"
    }
   },
   "outputs": [],
   "source": [
    "for i in range(len(data_list)):\n",
    "    data_list[i].rename(columns={'product':'products'}, inplace=True)"
   ]
  },
  {
   "cell_type": "markdown",
   "metadata": {},
   "source": [
    "Также сохраним названия столбцов нецелевых и целевого признаков в соответствующих переменных."
   ]
  },
  {
   "cell_type": "code",
   "execution_count": 7,
   "metadata": {
    "ExecuteTime": {
     "end_time": "2021-10-15T21:14:55.694379Z",
     "start_time": "2021-10-15T21:14:55.680558Z"
    }
   },
   "outputs": [],
   "source": [
    "features_columns = ['f0', 'f1', 'f2']\n",
    "target_column = 'products'\n",
    "features_and_target_columns = features_columns + [target_column]"
   ]
  },
  {
   "cell_type": "markdown",
   "metadata": {},
   "source": [
    "Необходимо проверить, требуется ли предобработка исходных данных."
   ]
  },
  {
   "cell_type": "markdown",
   "metadata": {},
   "source": [
    "### 2.2 Предобработка данных [▲](#0) <a id=\"2_2\"></a>"
   ]
  },
  {
   "cell_type": "markdown",
   "metadata": {},
   "source": [
    "Выведем информацию о пропусках в таблицах."
   ]
  },
  {
   "cell_type": "code",
   "execution_count": 8,
   "metadata": {
    "ExecuteTime": {
     "end_time": "2021-10-15T21:14:55.851427Z",
     "start_time": "2021-10-15T21:14:55.696047Z"
    }
   },
   "outputs": [
    {
     "name": "stdout",
     "output_type": "stream",
     "text": [
      "--------------------------------------------------------------------------------\n",
      "data_0:\n",
      "          nulls_count  nulls_percent    dtype\n",
      "id                  0           0.00   object\n",
      "f0                  0           0.00  float64\n",
      "f1                  0           0.00  float64\n",
      "f2                  0           0.00  float64\n",
      "products            0           0.00  float64\n",
      "columns: 5, rows: 100000\n",
      "dtypes: float64(4) object(1)\n",
      "memory_usage: 3.8+ MB\n",
      "--------------------------------------------------------------------------------\n",
      "data_1:\n",
      "          nulls_count  nulls_percent    dtype\n",
      "id                  0           0.00   object\n",
      "f0                  0           0.00  float64\n",
      "f1                  0           0.00  float64\n",
      "f2                  0           0.00  float64\n",
      "products            0           0.00  float64\n",
      "columns: 5, rows: 100000\n",
      "dtypes: float64(4) object(1)\n",
      "memory_usage: 3.8+ MB\n",
      "--------------------------------------------------------------------------------\n",
      "data_2:\n",
      "          nulls_count  nulls_percent    dtype\n",
      "id                  0           0.00   object\n",
      "f0                  0           0.00  float64\n",
      "f1                  0           0.00  float64\n",
      "f2                  0           0.00  float64\n",
      "products            0           0.00  float64\n",
      "columns: 5, rows: 100000\n",
      "dtypes: float64(4) object(1)\n",
      "memory_usage: 3.8+ MB\n"
     ]
    }
   ],
   "source": [
    "for d in data_0, data_1, data_2: print('-'*80), print(f'{d.name}:'), df_info(d)"
   ]
  },
  {
   "cell_type": "markdown",
   "metadata": {},
   "source": [
    "Каждая таблица содержит по 10000 строк. Данные не содержат пропусков. Во всех таблицах признаковые столбцы **f0**, **f1**, **f2** и **product** имеют тип числа с плавающей запятой. Столбцы **id** имеют строковый тип и содержат уникальные идентификаторы скважин. \n",
    "\n",
    "---\n",
    "\n",
    "Проверим значения в столбце **id** на наличие дубликатов. Выведем их количество для каждой таблицы."
   ]
  },
  {
   "cell_type": "code",
   "execution_count": 9,
   "metadata": {
    "ExecuteTime": {
     "end_time": "2021-10-15T21:14:55.917582Z",
     "start_time": "2021-10-15T21:14:55.853259Z"
    }
   },
   "outputs": [
    {
     "data": {
      "text/html": [
       "<div>\n",
       "<style scoped>\n",
       "    .dataframe tbody tr th:only-of-type {\n",
       "        vertical-align: middle;\n",
       "    }\n",
       "\n",
       "    .dataframe tbody tr th {\n",
       "        vertical-align: top;\n",
       "    }\n",
       "\n",
       "    .dataframe thead th {\n",
       "        text-align: right;\n",
       "    }\n",
       "</style>\n",
       "<table border=\"1\" class=\"dataframe\">\n",
       "  <thead>\n",
       "    <tr style=\"text-align: right;\">\n",
       "      <th></th>\n",
       "      <th>data_0</th>\n",
       "      <th>data_1</th>\n",
       "      <th>data_2</th>\n",
       "    </tr>\n",
       "  </thead>\n",
       "  <tbody>\n",
       "    <tr>\n",
       "      <th>duplicates_number</th>\n",
       "      <td>10</td>\n",
       "      <td>4</td>\n",
       "      <td>4</td>\n",
       "    </tr>\n",
       "  </tbody>\n",
       "</table>\n",
       "</div>"
      ],
      "text/plain": [
       "                   data_0  data_1  data_2\n",
       "duplicates_number      10       4       4"
      ]
     },
     "execution_count": 9,
     "metadata": {},
     "output_type": "execute_result"
    }
   ],
   "source": [
    "pd.DataFrame({d.name: [d.id.duplicated().sum()] for d in data_list}, index=['duplicates_number'])"
   ]
  },
  {
   "cell_type": "markdown",
   "metadata": {},
   "source": [
    "Выведем дублируемые и дублирующие значения для одной из таблиц."
   ]
  },
  {
   "cell_type": "code",
   "execution_count": 10,
   "metadata": {
    "ExecuteTime": {
     "end_time": "2021-10-15T21:14:55.965372Z",
     "start_time": "2021-10-15T21:14:55.920461Z"
    },
    "scrolled": true
   },
   "outputs": [
    {
     "data": {
      "text/html": [
       "<div>\n",
       "<style scoped>\n",
       "    .dataframe tbody tr th:only-of-type {\n",
       "        vertical-align: middle;\n",
       "    }\n",
       "\n",
       "    .dataframe tbody tr th {\n",
       "        vertical-align: top;\n",
       "    }\n",
       "\n",
       "    .dataframe thead th {\n",
       "        text-align: right;\n",
       "    }\n",
       "</style>\n",
       "<table border=\"1\" class=\"dataframe\">\n",
       "  <thead>\n",
       "    <tr style=\"text-align: right;\">\n",
       "      <th></th>\n",
       "      <th>id</th>\n",
       "      <th>f0</th>\n",
       "      <th>f1</th>\n",
       "      <th>f2</th>\n",
       "      <th>products</th>\n",
       "    </tr>\n",
       "  </thead>\n",
       "  <tbody>\n",
       "    <tr>\n",
       "      <th>5849</th>\n",
       "      <td>5ltQ6</td>\n",
       "      <td>-3.44</td>\n",
       "      <td>-12.30</td>\n",
       "      <td>2.00</td>\n",
       "      <td>57.09</td>\n",
       "    </tr>\n",
       "    <tr>\n",
       "      <th>84461</th>\n",
       "      <td>5ltQ6</td>\n",
       "      <td>18.21</td>\n",
       "      <td>2.19</td>\n",
       "      <td>3.99</td>\n",
       "      <td>107.81</td>\n",
       "    </tr>\n",
       "    <tr>\n",
       "      <th>1305</th>\n",
       "      <td>LHZR0</td>\n",
       "      <td>11.17</td>\n",
       "      <td>-1.95</td>\n",
       "      <td>3.00</td>\n",
       "      <td>80.86</td>\n",
       "    </tr>\n",
       "    <tr>\n",
       "      <th>41906</th>\n",
       "      <td>LHZR0</td>\n",
       "      <td>-8.99</td>\n",
       "      <td>-4.29</td>\n",
       "      <td>2.01</td>\n",
       "      <td>57.09</td>\n",
       "    </tr>\n",
       "    <tr>\n",
       "      <th>2721</th>\n",
       "      <td>bfPNe</td>\n",
       "      <td>-9.49</td>\n",
       "      <td>-5.46</td>\n",
       "      <td>4.01</td>\n",
       "      <td>110.99</td>\n",
       "    </tr>\n",
       "    <tr>\n",
       "      <th>82178</th>\n",
       "      <td>bfPNe</td>\n",
       "      <td>-6.20</td>\n",
       "      <td>-4.82</td>\n",
       "      <td>3.00</td>\n",
       "      <td>84.04</td>\n",
       "    </tr>\n",
       "    <tr>\n",
       "      <th>47591</th>\n",
       "      <td>wt4Uk</td>\n",
       "      <td>-9.09</td>\n",
       "      <td>-8.11</td>\n",
       "      <td>-0.00</td>\n",
       "      <td>3.18</td>\n",
       "    </tr>\n",
       "    <tr>\n",
       "      <th>82873</th>\n",
       "      <td>wt4Uk</td>\n",
       "      <td>10.26</td>\n",
       "      <td>-9.38</td>\n",
       "      <td>4.99</td>\n",
       "      <td>134.77</td>\n",
       "    </tr>\n",
       "  </tbody>\n",
       "</table>\n",
       "</div>"
      ],
      "text/plain": [
       "          id    f0     f1    f2  products\n",
       "5849   5ltQ6 -3.44 -12.30  2.00     57.09\n",
       "84461  5ltQ6 18.21   2.19  3.99    107.81\n",
       "1305   LHZR0 11.17  -1.95  3.00     80.86\n",
       "41906  LHZR0 -8.99  -4.29  2.01     57.09\n",
       "2721   bfPNe -9.49  -5.46  4.01    110.99\n",
       "82178  bfPNe -6.20  -4.82  3.00     84.04\n",
       "47591  wt4Uk -9.09  -8.11 -0.00      3.18\n",
       "82873  wt4Uk 10.26  -9.38  4.99    134.77"
      ]
     },
     "execution_count": 10,
     "metadata": {},
     "output_type": "execute_result"
    }
   ],
   "source": [
    "data_1[data_1.duplicated(subset='id', keep=False)].sort_values(by='id')"
   ]
  },
  {
   "cell_type": "markdown",
   "metadata": {},
   "source": [
    "Дублируемые идентификаторы имеют по одному дубликату (в остальных таблицах так же). Можно было бы удалить дубликаты, но за неимением дополнительной информации непонятно, какое значение достоверное, а какое ошибочное и может быть отброшено. Так как общее количество дубликатов в каждой таблице достаточно мало, удалим и дублируемые, и дублирующие значения. "
   ]
  },
  {
   "cell_type": "code",
   "execution_count": 11,
   "metadata": {
    "ExecuteTime": {
     "end_time": "2021-10-15T21:14:56.044370Z",
     "start_time": "2021-10-15T21:14:55.966442Z"
    }
   },
   "outputs": [],
   "source": [
    "for i in range(len(data_list)): data_list[i].drop_duplicates(subset='id', keep=False, inplace=True)"
   ]
  },
  {
   "cell_type": "markdown",
   "metadata": {},
   "source": [
    "Проверим, как изменились размеры таблиц."
   ]
  },
  {
   "cell_type": "code",
   "execution_count": 12,
   "metadata": {
    "ExecuteTime": {
     "end_time": "2021-10-15T21:14:56.060221Z",
     "start_time": "2021-10-15T21:14:56.045782Z"
    }
   },
   "outputs": [
    {
     "data": {
      "text/html": [
       "<div>\n",
       "<style scoped>\n",
       "    .dataframe tbody tr th:only-of-type {\n",
       "        vertical-align: middle;\n",
       "    }\n",
       "\n",
       "    .dataframe tbody tr th {\n",
       "        vertical-align: top;\n",
       "    }\n",
       "\n",
       "    .dataframe thead th {\n",
       "        text-align: right;\n",
       "    }\n",
       "</style>\n",
       "<table border=\"1\" class=\"dataframe\">\n",
       "  <thead>\n",
       "    <tr style=\"text-align: right;\">\n",
       "      <th></th>\n",
       "      <th>data_0</th>\n",
       "      <th>data_1</th>\n",
       "      <th>data_2</th>\n",
       "    </tr>\n",
       "  </thead>\n",
       "  <tbody>\n",
       "    <tr>\n",
       "      <th>rows</th>\n",
       "      <td>99980</td>\n",
       "      <td>99992</td>\n",
       "      <td>99992</td>\n",
       "    </tr>\n",
       "  </tbody>\n",
       "</table>\n",
       "</div>"
      ],
      "text/plain": [
       "      data_0  data_1  data_2\n",
       "rows   99980   99992   99992"
      ]
     },
     "execution_count": 12,
     "metadata": {},
     "output_type": "execute_result"
    }
   ],
   "source": [
    "pd.DataFrame({d.name: [len(d)] for d in data_list}, index=['rows'])"
   ]
  },
  {
   "cell_type": "markdown",
   "metadata": {},
   "source": [
    "Из из первой таблицы удалены 20 объектов, из остальных &mdash; по 8. Изменения размеров таблиц пренебрежительно малы.\n",
    "\n",
    "---\n",
    "\n",
    "Проанализируем значения признаков в столбцах **f0**, **f1**, **f2**. Отобразим для них описательную статистику, а также построим диаграммы размаха."
   ]
  },
  {
   "cell_type": "code",
   "execution_count": 13,
   "metadata": {
    "ExecuteTime": {
     "end_time": "2021-10-15T21:14:56.140730Z",
     "start_time": "2021-10-15T21:14:56.061481Z"
    }
   },
   "outputs": [
    {
     "data": {
      "text/html": [
       "<div>\n",
       "<style scoped>\n",
       "    .dataframe tbody tr th:only-of-type {\n",
       "        vertical-align: middle;\n",
       "    }\n",
       "\n",
       "    .dataframe tbody tr th {\n",
       "        vertical-align: top;\n",
       "    }\n",
       "\n",
       "    .dataframe thead tr th {\n",
       "        text-align: left;\n",
       "    }\n",
       "</style>\n",
       "<table border=\"1\" class=\"dataframe\">\n",
       "  <thead>\n",
       "    <tr>\n",
       "      <th>table</th>\n",
       "      <th colspan=\"3\" halign=\"left\">data_0</th>\n",
       "      <th colspan=\"3\" halign=\"left\">data_1</th>\n",
       "      <th colspan=\"3\" halign=\"left\">data_2</th>\n",
       "    </tr>\n",
       "    <tr>\n",
       "      <th>feature</th>\n",
       "      <th>f0</th>\n",
       "      <th>f1</th>\n",
       "      <th>f2</th>\n",
       "      <th>f0</th>\n",
       "      <th>f1</th>\n",
       "      <th>f2</th>\n",
       "      <th>f0</th>\n",
       "      <th>f1</th>\n",
       "      <th>f2</th>\n",
       "    </tr>\n",
       "  </thead>\n",
       "  <tbody>\n",
       "    <tr>\n",
       "      <th>count</th>\n",
       "      <td>99,980.00</td>\n",
       "      <td>99,980.00</td>\n",
       "      <td>99,980.00</td>\n",
       "      <td>99,992.00</td>\n",
       "      <td>99,992.00</td>\n",
       "      <td>99,992.00</td>\n",
       "      <td>99,992.00</td>\n",
       "      <td>99,992.00</td>\n",
       "      <td>99,992.00</td>\n",
       "    </tr>\n",
       "    <tr>\n",
       "      <th>mean</th>\n",
       "      <td>0.50</td>\n",
       "      <td>0.25</td>\n",
       "      <td>2.50</td>\n",
       "      <td>1.14</td>\n",
       "      <td>-4.80</td>\n",
       "      <td>2.49</td>\n",
       "      <td>0.00</td>\n",
       "      <td>-0.00</td>\n",
       "      <td>2.50</td>\n",
       "    </tr>\n",
       "    <tr>\n",
       "      <th>std</th>\n",
       "      <td>0.87</td>\n",
       "      <td>0.50</td>\n",
       "      <td>3.25</td>\n",
       "      <td>8.97</td>\n",
       "      <td>5.12</td>\n",
       "      <td>1.70</td>\n",
       "      <td>1.73</td>\n",
       "      <td>1.73</td>\n",
       "      <td>3.47</td>\n",
       "    </tr>\n",
       "    <tr>\n",
       "      <th>min</th>\n",
       "      <td>-1.41</td>\n",
       "      <td>-0.85</td>\n",
       "      <td>-12.09</td>\n",
       "      <td>-31.61</td>\n",
       "      <td>-26.36</td>\n",
       "      <td>-0.02</td>\n",
       "      <td>-8.76</td>\n",
       "      <td>-7.08</td>\n",
       "      <td>-11.97</td>\n",
       "    </tr>\n",
       "    <tr>\n",
       "      <th>25%</th>\n",
       "      <td>-0.07</td>\n",
       "      <td>-0.20</td>\n",
       "      <td>0.29</td>\n",
       "      <td>-6.30</td>\n",
       "      <td>-8.27</td>\n",
       "      <td>1.00</td>\n",
       "      <td>-1.16</td>\n",
       "      <td>-1.17</td>\n",
       "      <td>0.13</td>\n",
       "    </tr>\n",
       "    <tr>\n",
       "      <th>50%</th>\n",
       "      <td>0.50</td>\n",
       "      <td>0.25</td>\n",
       "      <td>2.52</td>\n",
       "      <td>1.15</td>\n",
       "      <td>-4.81</td>\n",
       "      <td>2.01</td>\n",
       "      <td>0.01</td>\n",
       "      <td>-0.01</td>\n",
       "      <td>2.48</td>\n",
       "    </tr>\n",
       "    <tr>\n",
       "      <th>75%</th>\n",
       "      <td>1.07</td>\n",
       "      <td>0.70</td>\n",
       "      <td>4.71</td>\n",
       "      <td>8.62</td>\n",
       "      <td>-1.33</td>\n",
       "      <td>4.00</td>\n",
       "      <td>1.16</td>\n",
       "      <td>1.16</td>\n",
       "      <td>4.86</td>\n",
       "    </tr>\n",
       "    <tr>\n",
       "      <th>max</th>\n",
       "      <td>2.36</td>\n",
       "      <td>1.34</td>\n",
       "      <td>16.00</td>\n",
       "      <td>29.42</td>\n",
       "      <td>18.73</td>\n",
       "      <td>5.02</td>\n",
       "      <td>7.24</td>\n",
       "      <td>7.84</td>\n",
       "      <td>16.74</td>\n",
       "    </tr>\n",
       "  </tbody>\n",
       "</table>\n",
       "</div>"
      ],
      "text/plain": [
       "table      data_0                        data_1                        data_2  \\\n",
       "feature        f0        f1        f2        f0        f1        f2        f0   \n",
       "count   99,980.00 99,980.00 99,980.00 99,992.00 99,992.00 99,992.00 99,992.00   \n",
       "mean         0.50      0.25      2.50      1.14     -4.80      2.49      0.00   \n",
       "std          0.87      0.50      3.25      8.97      5.12      1.70      1.73   \n",
       "min         -1.41     -0.85    -12.09    -31.61    -26.36     -0.02     -8.76   \n",
       "25%         -0.07     -0.20      0.29     -6.30     -8.27      1.00     -1.16   \n",
       "50%          0.50      0.25      2.52      1.15     -4.81      2.01      0.01   \n",
       "75%          1.07      0.70      4.71      8.62     -1.33      4.00      1.16   \n",
       "max          2.36      1.34     16.00     29.42     18.73      5.02      7.24   \n",
       "\n",
       "table                        \n",
       "feature        f1        f2  \n",
       "count   99,992.00 99,992.00  \n",
       "mean        -0.00      2.50  \n",
       "std          1.73      3.47  \n",
       "min         -7.08    -11.97  \n",
       "25%         -1.17      0.13  \n",
       "50%         -0.01      2.48  \n",
       "75%          1.16      4.86  \n",
       "max          7.84     16.74  "
      ]
     },
     "metadata": {},
     "output_type": "display_data"
    }
   ],
   "source": [
    "data_describe = pd.concat(\n",
    "    [d[features_columns].describe() for d in data_list], axis=1\n",
    ")\n",
    "data_describe.columns = pd.MultiIndex.from_product(\n",
    "    [[d.name for d in data_list], features_columns], names=['table', 'feature']\n",
    ")\n",
    "display(data_describe)\n",
    "del data_describe"
   ]
  },
  {
   "cell_type": "code",
   "execution_count": 14,
   "metadata": {
    "ExecuteTime": {
     "end_time": "2021-10-15T21:14:56.818062Z",
     "start_time": "2021-10-15T21:14:56.142093Z"
    }
   },
   "outputs": [
    {
     "data": {
      "image/png": "[encoded data removed]",
      "text/plain": [
       "<Figure size 1152x288 with 3 Axes>"
      ]
     },
     "metadata": {},
     "output_type": "display_data"
    }
   ],
   "source": [
    "sns.set_theme(style='darkgrid')\n",
    "_, axs = plt.subplots(1, 3, figsize=(16,4))\n",
    "for i, d in enumerate(data_list):\n",
    "    sns.boxplot(x='variable', y='value', data=pd.melt(d[features_columns]), ax=axs[i]).set_title(d.name)"
   ]
  },
  {
   "cell_type": "markdown",
   "metadata": {},
   "source": [
    "Признаки заметно различаются как по среднему значению, так и по величине разброса. Проведем стандартизацию данных."
   ]
  },
  {
   "cell_type": "code",
   "execution_count": 15,
   "metadata": {
    "ExecuteTime": {
     "end_time": "2021-10-15T21:14:56.956736Z",
     "start_time": "2021-10-15T21:14:56.819029Z"
    }
   },
   "outputs": [],
   "source": [
    "# Преобразователь масштаба\n",
    "scaler = StandardScaler()\n",
    "for i in range(len(data_list)):\n",
    "    # Обучение преобразователя масштаба и масштабирование количественных признаков\n",
    "    scaler.fit(data_list[i][features_columns]) \n",
    "    data_list[i][features_columns] = scaler.transform(data_list[i][features_columns])"
   ]
  },
  {
   "cell_type": "markdown",
   "metadata": {},
   "source": [
    "Проверим результат на диаграммах разброса."
   ]
  },
  {
   "cell_type": "code",
   "execution_count": 16,
   "metadata": {
    "ExecuteTime": {
     "end_time": "2021-10-15T21:14:57.518647Z",
     "start_time": "2021-10-15T21:14:56.957724Z"
    }
   },
   "outputs": [
    {
     "data": {
      "image/png": "[encoded data removed]",
      "text/plain": [
       "<Figure size 1152x288 with 3 Axes>"
      ]
     },
     "metadata": {},
     "output_type": "display_data"
    }
   ],
   "source": [
    "sns.set_theme(style='darkgrid')\n",
    "_, axs = plt.subplots(1, 3, figsize=(16,4))\n",
    "for i, d in enumerate(data_list):\n",
    "    sns.boxplot(x='variable', y='value', data=pd.melt(d[features_columns]), ax=axs[i]).set_title(d.name)"
   ]
  },
  {
   "cell_type": "markdown",
   "metadata": {},
   "source": [
    "Стандартизированные данные имеют заметно более близкие значения статистических параметров.\n",
    "\n",
    "---\n",
    "\n",
    "Необходимо убедиться, что ни в одной из таблиц нет сильно коррелирующих признаков. Для этого построим корреляционную матрицу для каждой из таблиц."
   ]
  },
  {
   "cell_type": "code",
   "execution_count": 17,
   "metadata": {
    "ExecuteTime": {
     "end_time": "2021-10-15T21:14:58.147175Z",
     "start_time": "2021-10-15T21:14:57.518647Z"
    }
   },
   "outputs": [
    {
     "data": {
      "image/png": "[encoded data removed]",
      "text/plain": [
       "<Figure size 1152x288 with 6 Axes>"
      ]
     },
     "metadata": {},
     "output_type": "display_data"
    }
   ],
   "source": [
    "sns.set_style('whitegrid')\n",
    "_, axs = plt.subplots(1, 3, figsize=(16, 4))\n",
    "for i, d in enumerate(data_list):\n",
    "    corr = data_list[i][features_and_target_columns].corr()\n",
    "    mask = np.triu(np.ones_like(corr, dtype=bool))\n",
    "    cmap = sns.diverging_palette(230, 20, as_cmap=True)\n",
    "    sns.heatmap(\n",
    "        corr, mask=mask, cmap=cmap, annot=True, vmin=-1, vmax=1,\n",
    "        square=True, linewidths=0.5, cbar_kws={'shrink': 0.75}, ax=axs[i], fmt='.3g'\n",
    "    ).set_title(data_list[i].name)"
   ]
  },
  {
   "cell_type": "markdown",
   "metadata": {},
   "source": [
    "Линейные коэффициенты корреляции для большинства пар нецелевых признаков составляют сотые и тысячные, что говорит об ее отсутствии. На общем фоне выделяются два значения: 0.18 для **f0** и **f1** в таблице **data_1** (очень слабая положительная корреляция) и -0.44 для **f0** и **f1** в таблице **data_0** (слабая отрицательная корреляция). Таким образом говорить о значительной линейной статистической зависимости между нецелевыми признаками внутри одной таблицы не приходится.\n",
    "\n",
    "В таблице **data_1** признак **f2** имеет корреляцию с целевым признаком близкую к 1."
   ]
  },
  {
   "cell_type": "markdown",
   "metadata": {},
   "source": [
    "## 3 Обучение и проверка модели [▲](#0) <a id=\"3\"></a>"
   ]
  },
  {
   "cell_type": "markdown",
   "metadata": {},
   "source": [
    "Разделим исходные наборы данных для каждого региона на нецелевые и целевые признаки."
   ]
  },
  {
   "cell_type": "code",
   "execution_count": 18,
   "metadata": {
    "ExecuteTime": {
     "end_time": "2021-10-15T21:14:58.161819Z",
     "start_time": "2021-10-15T21:14:58.149031Z"
    }
   },
   "outputs": [],
   "source": [
    "features_list, target_list = [], []\n",
    "for i in range(len(data_list)):\n",
    "    features, target = data_list[i].drop(columns=['id', 'products']), data_list[i].products\n",
    "    features_list.append(features)\n",
    "    target_list.append(target)\n",
    "del features, target"
   ]
  },
  {
   "cell_type": "markdown",
   "metadata": {},
   "source": [
    "Полученные данные разобъем на обучающую и валидационную выборки в соотношении 75:25."
   ]
  },
  {
   "cell_type": "code",
   "execution_count": 19,
   "metadata": {
    "ExecuteTime": {
     "end_time": "2021-10-15T21:14:58.207734Z",
     "start_time": "2021-10-15T21:14:58.162737Z"
    }
   },
   "outputs": [],
   "source": [
    "features_train_list, features_valid_list, target_train_list, target_valid_list = [], [], [], []\n",
    "for i in range(len(data_list)):\n",
    "    features_train, features_valid, target_train, target_valid = train_test_split(\n",
    "        features_list[i],\n",
    "        target_list[i],\n",
    "        test_size=0.25,\n",
    "        random_state=12345\n",
    "    )\n",
    "    features_train_list.append(features_train)\n",
    "    features_valid_list.append(features_valid)\n",
    "    target_train_list.append(target_train)\n",
    "    target_valid_list.append(target_valid)\n",
    "del features_train, features_valid, target_train, target_valid"
   ]
  },
  {
   "cell_type": "markdown",
   "metadata": {},
   "source": [
    "Обучим модели линейной регрессии для каждого региона на обучающих выборках и вычислим предсказания для валидационных выборок."
   ]
  },
  {
   "cell_type": "code",
   "execution_count": 20,
   "metadata": {
    "ExecuteTime": {
     "end_time": "2021-10-15T21:14:58.254513Z",
     "start_time": "2021-10-15T21:14:58.209371Z"
    }
   },
   "outputs": [],
   "source": [
    "model_list = []\n",
    "predictions_list = []\n",
    "for i in range(len(data_list)):\n",
    "    model_list.append(LinearRegression().fit(features_train_list[i], target_train_list[i]))\n",
    "    predictions_list.append(model_list[i].predict(features_valid_list[i]))"
   ]
  },
  {
   "cell_type": "markdown",
   "metadata": {},
   "source": [
    "Вычислим значения метрик для оценки качества предсказания моделей. В качестве метрик выберем коэффициент детерминации **R2** и среднеквадратическое отклонение **RMSE**. Выведем средний запас предсказанного сырья."
   ]
  },
  {
   "cell_type": "code",
   "execution_count": 21,
   "metadata": {
    "ExecuteTime": {
     "end_time": "2021-10-15T21:14:58.270341Z",
     "start_time": "2021-10-15T21:14:58.255375Z"
    }
   },
   "outputs": [
    {
     "data": {
      "text/html": [
       "<div>\n",
       "<style scoped>\n",
       "    .dataframe tbody tr th:only-of-type {\n",
       "        vertical-align: middle;\n",
       "    }\n",
       "\n",
       "    .dataframe tbody tr th {\n",
       "        vertical-align: top;\n",
       "    }\n",
       "\n",
       "    .dataframe thead th {\n",
       "        text-align: right;\n",
       "    }\n",
       "</style>\n",
       "<table border=\"1\" class=\"dataframe\">\n",
       "  <thead>\n",
       "    <tr style=\"text-align: right;\">\n",
       "      <th></th>\n",
       "      <th>mean</th>\n",
       "      <th>RMSE</th>\n",
       "      <th>R2</th>\n",
       "    </tr>\n",
       "  </thead>\n",
       "  <tbody>\n",
       "    <tr>\n",
       "      <th>data_0</th>\n",
       "      <td>92.42</td>\n",
       "      <td>37.72</td>\n",
       "      <td>0.28</td>\n",
       "    </tr>\n",
       "    <tr>\n",
       "      <th>data_1</th>\n",
       "      <td>68.98</td>\n",
       "      <td>0.89</td>\n",
       "      <td>1.00</td>\n",
       "    </tr>\n",
       "    <tr>\n",
       "      <th>data_2</th>\n",
       "      <td>95.12</td>\n",
       "      <td>39.98</td>\n",
       "      <td>0.20</td>\n",
       "    </tr>\n",
       "  </tbody>\n",
       "</table>\n",
       "</div>"
      ],
      "text/plain": [
       "        mean  RMSE   R2\n",
       "data_0 92.42 37.72 0.28\n",
       "data_1 68.98  0.89 1.00\n",
       "data_2 95.12 39.98 0.20"
      ]
     },
     "execution_count": 21,
     "metadata": {},
     "output_type": "execute_result"
    }
   ],
   "source": [
    "# Метрика R2 является метрикой по умолчанию для линейной регрессии, но для красоты и подобия воспользуюсь отдельной функцией\n",
    "pd.DataFrame({\n",
    "    data_list[i].name: [\n",
    "        pd.Series(predictions_list[i]).mean(),\n",
    "        mean_squared_error(target_valid_list[i], predictions_list[i]) ** 0.5,\n",
    "        r2_score(target_valid_list[i], predictions_list[i])] for i in range(len(data_list))\n",
    "    },\n",
    "    index=['mean', 'RMSE', 'R2']\n",
    ").T"
   ]
  },
  {
   "cell_type": "markdown",
   "metadata": {},
   "source": [
    "Феноменальные значения метрик для региона **data_1** объясняются тем, что один из признаков, как это было показано ранее, имеет близкий к 1 линейный коэффициент корреляции с целевым признаком. Значения **R2** для регионов **data_0** и **data_2** больше 0, что означает, что модели предсказывают лучше среднего.\n",
    "\n",
    "Сравним полученные значения метрик со значениями этих же метрик, вычисленными с использованием кросс-валидации. Будем использовать прежние пропорции разбиения."
   ]
  },
  {
   "cell_type": "code",
   "execution_count": 22,
   "metadata": {
    "ExecuteTime": {
     "end_time": "2021-10-15T21:14:58.531857Z",
     "start_time": "2021-10-15T21:14:58.272366Z"
    }
   },
   "outputs": [
    {
     "data": {
      "text/html": [
       "<div>\n",
       "<style scoped>\n",
       "    .dataframe tbody tr th:only-of-type {\n",
       "        vertical-align: middle;\n",
       "    }\n",
       "\n",
       "    .dataframe tbody tr th {\n",
       "        vertical-align: top;\n",
       "    }\n",
       "\n",
       "    .dataframe thead th {\n",
       "        text-align: right;\n",
       "    }\n",
       "</style>\n",
       "<table border=\"1\" class=\"dataframe\">\n",
       "  <thead>\n",
       "    <tr style=\"text-align: right;\">\n",
       "      <th></th>\n",
       "      <th>RMSE_min</th>\n",
       "      <th>RMSE_mean</th>\n",
       "      <th>RMSE_max</th>\n",
       "      <th>R2_min</th>\n",
       "      <th>R2_mean</th>\n",
       "      <th>R2_max</th>\n",
       "    </tr>\n",
       "  </thead>\n",
       "  <tbody>\n",
       "    <tr>\n",
       "      <th>data_0</th>\n",
       "      <td>37.54</td>\n",
       "      <td>37.70</td>\n",
       "      <td>37.92</td>\n",
       "      <td>0.27</td>\n",
       "      <td>0.28</td>\n",
       "      <td>0.28</td>\n",
       "    </tr>\n",
       "    <tr>\n",
       "      <th>data_1</th>\n",
       "      <td>0.88</td>\n",
       "      <td>0.89</td>\n",
       "      <td>0.90</td>\n",
       "      <td>1.00</td>\n",
       "      <td>1.00</td>\n",
       "      <td>1.00</td>\n",
       "    </tr>\n",
       "    <tr>\n",
       "      <th>data_2</th>\n",
       "      <td>39.96</td>\n",
       "      <td>40.05</td>\n",
       "      <td>40.30</td>\n",
       "      <td>0.19</td>\n",
       "      <td>0.20</td>\n",
       "      <td>0.20</td>\n",
       "    </tr>\n",
       "  </tbody>\n",
       "</table>\n",
       "</div>"
      ],
      "text/plain": [
       "        RMSE_min  RMSE_mean  RMSE_max  R2_min  R2_mean  R2_max\n",
       "data_0     37.54      37.70     37.92    0.27     0.28    0.28\n",
       "data_1      0.88       0.89      0.90    1.00     1.00    1.00\n",
       "data_2     39.96      40.05     40.30    0.19     0.20    0.20"
      ]
     },
     "execution_count": 22,
     "metadata": {},
     "output_type": "execute_result"
    }
   ],
   "source": [
    "cv_scores_rmse_list, cv_scores_r2_list = [], []\n",
    "for i in range(len(data_list)):\n",
    "    cv_scores_rmse_list.append(\n",
    "        pd.Series(\n",
    "            -1 * cross_val_score(\n",
    "                model_list[i], features_list[i], target_list[i], scoring='neg_root_mean_squared_error', cv=4\n",
    "            )\n",
    "        )\n",
    "    )\n",
    "    cv_scores_r2_list.append(\n",
    "        pd.Series(\n",
    "            cross_val_score(\n",
    "                model_list[i], features_list[i], target_list[i], scoring='r2', cv=4\n",
    "            )\n",
    "        )\n",
    "    )\n",
    "pd.DataFrame({\n",
    "    data_list[i].name: [\n",
    "        cv_scores_rmse_list[i].min(),\n",
    "        cv_scores_rmse_list[i].mean(),\n",
    "        cv_scores_rmse_list[i].max(),\n",
    "        cv_scores_r2_list[i].min(),\n",
    "        cv_scores_r2_list[i].mean(),\n",
    "        cv_scores_r2_list[i].max()] for i in range(len(data_list))\n",
    "    },\n",
    "    index=['RMSE_min', 'RMSE_mean', 'RMSE_max', 'R2_min', 'R2_mean', 'R2_max']\n",
    ").T"
   ]
  },
  {
   "cell_type": "markdown",
   "metadata": {},
   "source": [
    "Опасения по поводу того, что минимальные значения метрик, полученные при кросс-валидации, могут оказаться существенно ниже, чем значения, полученные для разбиения выборки на обучающую и валидационную, осуществленое выше с помощью функции `train_test_split`, не оправдались."
   ]
  },
  {
   "cell_type": "markdown",
   "metadata": {},
   "source": [
    "## 4 Подготовка к расчёту прибыли [▲](#0) <a id=\"4\"></a>"
   ]
  },
  {
   "cell_type": "markdown",
   "metadata": {},
   "source": [
    "Сохраним ключевые значения для расчета прибыли в переменных."
   ]
  },
  {
   "cell_type": "code",
   "execution_count": 23,
   "metadata": {
    "ExecuteTime": {
     "end_time": "2021-10-15T21:14:58.547426Z",
     "start_time": "2021-10-15T21:14:58.532814Z"
    }
   },
   "outputs": [],
   "source": [
    "# Количество выборок для техники Бутстреп\n",
    "samples = 1000\n",
    "\n",
    "# Количество разведываемых месторождений в регионе\n",
    "oilwells_sample = 500\n",
    "\n",
    "# Количество лучших месторождений, отбираемых для разработки\n",
    "oilwells_top = 200\n",
    "\n",
    "# Бюджет на разработку скважин в регионе\n",
    "budget = 10e9\n",
    "\n",
    "# Цена тысячи баррелей в рублях\n",
    "kilobarrel_price = 450e3\n",
    "\n",
    "# Пороговое значение, ниже которого должна быть вероятность убытков в регионе\n",
    "losses_probability = 0.025"
   ]
  },
  {
   "cell_type": "markdown",
   "metadata": {},
   "source": [
    "Рассчитаем достаточный объем сырья в тысячах баррелей для безубыточной разработки новой скважины &mdash; точку окупаемости."
   ]
  },
  {
   "cell_type": "code",
   "execution_count": 24,
   "metadata": {
    "ExecuteTime": {
     "end_time": "2021-10-15T21:14:58.563033Z",
     "start_time": "2021-10-15T21:14:58.549374Z"
    }
   },
   "outputs": [],
   "source": [
    "cvp = budget / kilobarrel_price / oilwells_top"
   ]
  },
  {
   "cell_type": "markdown",
   "metadata": {},
   "source": [
    "Полученное значение &mdash; это такой объем сырья в каждой новой разрабатываемой скважине, который гаратированно обеспечит окупаемость разработки 200 новых скважин в регионе.\n",
    "\n",
    "Сравним средний реальный запас сырья в скважине для каждго региона с точкой окупаемости. Для этого отобразим отношение срденего запаса к точке окупаемости в процентах."
   ]
  },
  {
   "cell_type": "code",
   "execution_count": 25,
   "metadata": {
    "ExecuteTime": {
     "end_time": "2021-10-15T21:14:58.578700Z",
     "start_time": "2021-10-15T21:14:58.563979Z"
    },
    "code_folding": []
   },
   "outputs": [
    {
     "data": {
      "text/html": [
       "<div>\n",
       "<style scoped>\n",
       "    .dataframe tbody tr th:only-of-type {\n",
       "        vertical-align: middle;\n",
       "    }\n",
       "\n",
       "    .dataframe tbody tr th {\n",
       "        vertical-align: top;\n",
       "    }\n",
       "\n",
       "    .dataframe thead th {\n",
       "        text-align: right;\n",
       "    }\n",
       "</style>\n",
       "<table border=\"1\" class=\"dataframe\">\n",
       "  <thead>\n",
       "    <tr style=\"text-align: right;\">\n",
       "      <th></th>\n",
       "      <th>mean</th>\n",
       "      <th>percentage_mean_to_cvp</th>\n",
       "    </tr>\n",
       "  </thead>\n",
       "  <tbody>\n",
       "    <tr>\n",
       "      <th>data_0</th>\n",
       "      <td>92.50</td>\n",
       "      <td>83.25</td>\n",
       "    </tr>\n",
       "    <tr>\n",
       "      <th>data_1</th>\n",
       "      <td>68.82</td>\n",
       "      <td>61.94</td>\n",
       "    </tr>\n",
       "    <tr>\n",
       "      <th>data_2</th>\n",
       "      <td>95.00</td>\n",
       "      <td>85.50</td>\n",
       "    </tr>\n",
       "  </tbody>\n",
       "</table>\n",
       "</div>"
      ],
      "text/plain": [
       "        mean  percentage_mean_to_cvp\n",
       "data_0 92.50                   83.25\n",
       "data_1 68.82                   61.94\n",
       "data_2 95.00                   85.50"
      ]
     },
     "execution_count": 25,
     "metadata": {},
     "output_type": "execute_result"
    }
   ],
   "source": [
    "pd.DataFrame({\n",
    "    data_list[i].name: [\n",
    "        pd.Series(data_list[i].products).mean(),\n",
    "        100 * pd.Series(data_list[i].products).mean() / cvp] for i in range(len(data_list))\n",
    "    },\n",
    "    index=['mean', 'percentage_mean_to_cvp']\n",
    ").T"
   ]
  },
  {
   "cell_type": "markdown",
   "metadata": {},
   "source": [
    "Средний запас сырья в скважине не дотягивает до точки окупаемости ни в одном из регионов. Следовательно, разработка 200 скважин, выбранных случайным образом, скорее всего приедет к убыткам. Применим обученную модель для отбора 200 скважин с самым большим запасом сырья, чтобы свести риски убытков к минимуму. А также определим эти риски с помощью техники бутстреп."
   ]
  },
  {
   "cell_type": "markdown",
   "metadata": {},
   "source": [
    "## 5 Расчёт прибыли и рисков  [▲](#0) <a id=\"5\"></a>"
   ]
  },
  {
   "cell_type": "markdown",
   "metadata": {},
   "source": [
    "Напишем функцию для расчёта реальной выручки заданного количества скважин с самыми большими, согласно предсказаниям модели, запасами сырья."
   ]
  },
  {
   "cell_type": "code",
   "execution_count": 26,
   "metadata": {
    "ExecuteTime": {
     "end_time": "2021-10-15T21:14:58.594431Z",
     "start_time": "2021-10-15T21:14:58.579597Z"
    }
   },
   "outputs": [],
   "source": [
    "def top_oilwells_revenue(model, features, target, kbarrel_price, top):\n",
    "    '''\n",
    "    Функция вычисляет реальную выручку для top скважин из таблицы\n",
    "    features, с самыми большими предсказаными моделью объемами сырья\n",
    "    '''\n",
    "    # Проверка входных данных\n",
    "    assert features.index.equals(target.index), 'Индексы входных таблиц должны совпадать'\n",
    "    assert len(features) >= top, f'Размеры features и target должны быть равны либо превышать top={top}'\n",
    "    # top самых больших значений объема сырья по предсказаниям модели\n",
    "    top_predictions =\\\n",
    "        pd.Series(model.predict(features), index=features.index).sort_values(ascending=False).head(top)\n",
    "    # Суммарная реальная выручка top скважин по предсказанному объему сырья\n",
    "    return target.loc[top_predictions.index].head(top).sum() * kbarrel_price"
   ]
  },
  {
   "cell_type": "markdown",
   "metadata": {},
   "source": [
    "Вычислим с помощью методики бутстреп для каждого региона среднюю прибыль от 200 скважин, имеющих, согласно предсказаниям модели, самый большой объем сырья. Также вычислим границы 95% доверительного интервала прибыли и долю скважин, приносящих убыток (риски)."
   ]
  },
  {
   "cell_type": "code",
   "execution_count": 27,
   "metadata": {
    "ExecuteTime": {
     "end_time": "2021-10-15T21:15:03.655719Z",
     "start_time": "2021-10-15T21:14:58.596553Z"
    }
   },
   "outputs": [],
   "source": [
    "state = np.random.RandomState(12345)\n",
    "\n",
    "profit_list, mean_list, upper_list, lower_list, risk_list  = [], [], [], [], []\n",
    "\n",
    "# По всем 3 регионам\n",
    "for i in range(len(data_list)):\n",
    "    # По всей 1000 чертей!\n",
    "    profit = []\n",
    "    for _ in range(samples):\n",
    "        # Выборки целевых и нецелевых признаков для расчета прибыли\n",
    "        subsample_target =\\\n",
    "            target_valid_list[i].sample(oilwells_sample, replace=True, random_state=state)\n",
    "        subsample_features =\\\n",
    "            features_list[i].loc[subsample_target.index]\n",
    "        # Выручка\n",
    "        revenue = top_oilwells_revenue(\n",
    "            model_list[i], subsample_features, subsample_target, kilobarrel_price, oilwells_top\n",
    "        )\n",
    "        # Прибыль\n",
    "        profit.append(revenue - budget)\n",
    "    # Преобразование списка значений прибыли в pd.Series для всяких плюшек\n",
    "    profit_list.append(pd.Series(profit))\n",
    "    # Среднее прибыли\n",
    "    mean_list.append(profit_list[i].mean())\n",
    "    # Границы 95% доверительного интервала\n",
    "    upper_list.append(profit_list[i].quantile(0.025))\n",
    "    lower_list.append(profit_list[i].quantile(0.975))\n",
    "    # Доля убыточных скважин\n",
    "    risk_list.append((profit_list[i] < 0).mean())"
   ]
  },
  {
   "cell_type": "markdown",
   "metadata": {},
   "source": [
    "Отобразим полученные результаты."
   ]
  },
  {
   "cell_type": "code",
   "execution_count": 28,
   "metadata": {
    "ExecuteTime": {
     "end_time": "2021-10-15T21:15:03.671032Z",
     "start_time": "2021-10-15T21:15:03.656852Z"
    }
   },
   "outputs": [
    {
     "data": {
      "text/html": [
       "<div>\n",
       "<style scoped>\n",
       "    .dataframe tbody tr th:only-of-type {\n",
       "        vertical-align: middle;\n",
       "    }\n",
       "\n",
       "    .dataframe tbody tr th {\n",
       "        vertical-align: top;\n",
       "    }\n",
       "\n",
       "    .dataframe thead th {\n",
       "        text-align: right;\n",
       "    }\n",
       "</style>\n",
       "<table border=\"1\" class=\"dataframe\">\n",
       "  <thead>\n",
       "    <tr style=\"text-align: right;\">\n",
       "      <th></th>\n",
       "      <th>mean_profit</th>\n",
       "      <th>ci_upper_border</th>\n",
       "      <th>ci_lower_border</th>\n",
       "      <th>percentage_risk</th>\n",
       "    </tr>\n",
       "  </thead>\n",
       "  <tbody>\n",
       "    <tr>\n",
       "      <th>data_0</th>\n",
       "      <td>459,085,613.41</td>\n",
       "      <td>-90,234,067.10</td>\n",
       "      <td>987,953,883.11</td>\n",
       "      <td>4.70</td>\n",
       "    </tr>\n",
       "    <tr>\n",
       "      <th>data_1</th>\n",
       "      <td>523,579,383.23</td>\n",
       "      <td>133,791,191.23</td>\n",
       "      <td>961,450,161.04</td>\n",
       "      <td>0.60</td>\n",
       "    </tr>\n",
       "    <tr>\n",
       "      <th>data_2</th>\n",
       "      <td>341,472,005.26</td>\n",
       "      <td>-198,355,934.11</td>\n",
       "      <td>852,708,580.77</td>\n",
       "      <td>11.60</td>\n",
       "    </tr>\n",
       "  </tbody>\n",
       "</table>\n",
       "</div>"
      ],
      "text/plain": [
       "          mean_profit  ci_upper_border  ci_lower_border  percentage_risk\n",
       "data_0 459,085,613.41   -90,234,067.10   987,953,883.11             4.70\n",
       "data_1 523,579,383.23   133,791,191.23   961,450,161.04             0.60\n",
       "data_2 341,472,005.26  -198,355,934.11   852,708,580.77            11.60"
      ]
     },
     "execution_count": 28,
     "metadata": {},
     "output_type": "execute_result"
    }
   ],
   "source": [
    "pd.DataFrame({\n",
    "    data_list[i].name: [\n",
    "        mean_list[i],\n",
    "        upper_list[i],\n",
    "        lower_list[i],\n",
    "        100*risk_list[i]] for i in range(len(data_list))\n",
    "    },\n",
    "    index=['mean_profit', 'ci_upper_border', 'ci_lower_border', 'percentage_risk']\n",
    ").T"
   ]
  },
  {
   "cell_type": "code",
   "execution_count": 29,
   "metadata": {
    "ExecuteTime": {
     "end_time": "2021-10-15T21:15:03.910256Z",
     "start_time": "2021-10-15T21:15:03.672072Z"
    },
    "scrolled": false
   },
   "outputs": [
    {
     "data": {
      "image/png": "[encoded data removed]",
      "text/plain": [
       "<Figure size 1152x576 with 1 Axes>"
      ]
     },
     "metadata": {},
     "output_type": "display_data"
    }
   ],
   "source": [
    "profits = pd.concat([profit_list[i].to_frame(data_list[i].name) for i in range(len(data_list))], axis=1)\n",
    "sns.set_theme(style='darkgrid')\n",
    "_, ax = plt.subplots(figsize=(16, 8))\n",
    "pp = sns.pointplot(data=profits, ci=95, join=False)\n",
    "pp.set_title('Средние значения и границы 95% доверительного \\\n",
    "    интервала прибыли от 200 лучших скважин\\n из 500 случайно выбранных для каждого региона', fontsize=16)\n",
    "pp.set_ylabel('Прибыль, млн ' + html.unescape('&#8381;'), fontsize=14)\n",
    "ax.yaxis.set_major_locator(mticker.FixedLocator(ax.get_yticks().tolist()))\n",
    "pp.set_yticklabels(['{:.0f}'.format(y) for y in pp.get_yticks()/1e6])\n",
    "del profits\n",
    "plt.show();"
   ]
  },
  {
   "cell_type": "markdown",
   "metadata": {},
   "source": [
    "## 6 Вывод [▲](#0) <a id=\"6\"></a>"
   ]
  },
  {
   "cell_type": "markdown",
   "metadata": {},
   "source": [
    "Значения прибыли от 200 скважин с самым большим запасом сырья по оценке модели из 500 случайно отобранных скважин для 1, 2 и 3 регионов с 95% вероятностью будут лежать в интервалах 55.0 &mdash; 1284.9 млн &#8381;, 200.0 &mdash; 1201.2 млн &#8381; и -75.9 &mdash; 1137.5 млн &#8381; соответственно. При этом среднее значение прибыли, вычисленное усреднением 1000 предсказаний прибыли, составит 632.9 млн &#8381;, 671.7 млн &#8381; и 519.7 млн &#8381;.\n",
    "\n",
    "При этом регион 3 (таблица **data_2**) демонстрирует риски выше заданного порога 2.5%: в 5% из 1000 смоделированных случаев разработка скважин, отобранных с помощью настоящей методики, приводила к убыткам.\n",
    "\n",
    "Регионы 1 и 2 имеют риски ниже установленного порога: 2% и 0.3% соответственно.\n",
    "\n",
    "Согласно проведенному анализу второй регион (таблица **data_1**) может быть предложен для разработки скважин как наименее рискованный."
   ]
  },
  {
   "cell_type": "markdown",
   "metadata": {},
   "source": [
    "## 7 Чек-лист готовности проекта [▲](#0) <a id=\"7\"></a>"
   ]
  },
  {
   "cell_type": "markdown",
   "metadata": {},
   "source": [
    "Поставьте 'x' в выполненных пунктах. Далее нажмите Shift+Enter."
   ]
  },
  {
   "cell_type": "markdown",
   "metadata": {},
   "source": [
    "- [x]  Jupyter Notebook открыт\n",
    "- [x]  Весь код выполняется без ошибок\n",
    "- [x]  Ячейки с кодом расположены в порядке исполнения\n",
    "- [x]  Выполнен шаг 1: данные подготовлены\n",
    "- [x]  Выполнен шаг 2: модели обучены и проверены\n",
    "    - [x]  Данные корректно разбиты на обучающую и валидационную выборки\n",
    "    - [x]  Модели обучены, предсказания сделаны\n",
    "    - [x]  Предсказания и правильные ответы на валидационной выборке сохранены\n",
    "    - [x]  На экране напечатаны результаты\n",
    "    - [x]  Сделаны выводы\n",
    "- [x]  Выполнен шаг 3: проведена подготовка к расчёту прибыли\n",
    "    - [x]  Для всех ключевых значений созданы константы Python\n",
    "    - [x]  Посчитано минимальное среднее количество продукта в месторождениях региона, достаточное для разработки\n",
    "    - [x]  По предыдущему пункту сделаны выводы\n",
    "    - [x]  Написана функция расчёта прибыли\n",
    "- [x]  Выполнен шаг 4: посчитаны риски и прибыль\n",
    "    - [x]  Проведена процедура *Bootstrap*\n",
    "    - [x]  Все параметры бутстрепа соответствуют условию\n",
    "    - [x]  Найдены все нужные величины\n",
    "    - [x]  Предложен регион для разработки месторождения\n",
    "    - [x]  Выбор региона обоснован"
   ]
  }
 ],
 "metadata": {
  "hide_input": false,
  "kernelspec": {
   "display_name": "Python 3",
   "language": "python",
   "name": "python3"
  },
  "language_info": {
   "codemirror_mode": {
    "name": "ipython",
    "version": 3
   },
   "file_extension": ".py",
   "mimetype": "text/x-python",
   "name": "python",
   "nbconvert_exporter": "python",
   "pygments_lexer": "ipython3",
   "version": "3.8.8"
  },
  "toc": {
   "base_numbering": 1,
   "nav_menu": {},
   "number_sections": false,
   "sideBar": true,
   "skip_h1_title": true,
   "title_cell": "Table of Contents",
   "title_sidebar": "Contents",
   "toc_cell": false,
   "toc_position": {},
   "toc_section_display": true,
   "toc_window_display": false
  }
 },
 "nbformat": 4,
 "nbformat_minor": 2
}
