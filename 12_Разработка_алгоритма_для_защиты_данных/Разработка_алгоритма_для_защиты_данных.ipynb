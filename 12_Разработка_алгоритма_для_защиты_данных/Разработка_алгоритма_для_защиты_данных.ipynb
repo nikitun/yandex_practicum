{
 "cells": [
  {
   "cell_type": "markdown",
   "metadata": {
    "toc": true
   },
   "source": [
    "<h1>Содержание<span class=\"tocSkip\"></span></h1>\n",
    "<div class=\"toc\"><ul class=\"toc-item\"><li><span><a href=\"#Загрузка-данных\" data-toc-modified-id=\"Загрузка-данных-1\"><span class=\"toc-item-num\">1&nbsp;&nbsp;</span>Загрузка данных</a></span></li><li><span><a href=\"#Умножение-матриц\" data-toc-modified-id=\"Умножение-матриц-2\"><span class=\"toc-item-num\">2&nbsp;&nbsp;</span>Умножение матриц</a></span></li><li><span><a href=\"#Алгоритм-преобразования\" data-toc-modified-id=\"Алгоритм-преобразования-3\"><span class=\"toc-item-num\">3&nbsp;&nbsp;</span>Алгоритм преобразования</a></span></li><li><span><a href=\"#Проверка-алгоритма\" data-toc-modified-id=\"Проверка-алгоритма-4\"><span class=\"toc-item-num\">4&nbsp;&nbsp;</span>Проверка алгоритма</a></span><ul class=\"toc-item\"><li><span><a href=\"#Обучение-линейной-регрессии-на-исходных-данных\" data-toc-modified-id=\"Обучение-линейной-регрессии-на-исходных-данных-4.1\"><span class=\"toc-item-num\">4.1&nbsp;&nbsp;</span>Обучение линейной регрессии на исходных данных</a></span></li><li><span><a href=\"#Обучение-линейной-регрессии-на-преобразованных-данных\" data-toc-modified-id=\"Обучение-линейной-регрессии-на-преобразованных-данных-4.2\"><span class=\"toc-item-num\">4.2&nbsp;&nbsp;</span>Обучение линейной регрессии на преобразованных данных</a></span></li><li><span><a href=\"#Проверка-на-большом-количестве-повторений\" data-toc-modified-id=\"Проверка-на-большом-количестве-повторений-4.3\"><span class=\"toc-item-num\">4.3&nbsp;&nbsp;</span>Проверка на большом количестве повторений</a></span></li></ul></li><li><span><a href=\"#Чек-лист-проверки\" data-toc-modified-id=\"Чек-лист-проверки-5\"><span class=\"toc-item-num\">5&nbsp;&nbsp;</span>Чек-лист проверки</a></span></li></ul></div>"
   ]
  },
  {
   "cell_type": "markdown",
   "metadata": {},
   "source": [
    "# Защита персональных данных клиентов"
   ]
  },
  {
   "cell_type": "markdown",
   "metadata": {},
   "source": [
    "Вам нужно защитить данные клиентов страховой компании «Хоть потоп». Разработайте такой метод преобразования данных, чтобы по ним было сложно восстановить персональную информацию. Обоснуйте корректность его работы.\n",
    "\n",
    "Нужно защитить данные, чтобы при преобразовании качество моделей машинного обучения не ухудшилось. Подбирать наилучшую модель не требуется."
   ]
  },
  {
   "cell_type": "markdown",
   "metadata": {},
   "source": [
    "Описание данных:\n",
    "- **Признаки**: пол, возраст и зарплата застрахованного, количество членов его семьи.\n",
    "- **Целевой признак**: количество страховых выплат клиенту за последние 5 лет."
   ]
  },
  {
   "cell_type": "markdown",
   "metadata": {},
   "source": [
    "## Загрузка данных"
   ]
  },
  {
   "cell_type": "code",
   "execution_count": 1,
   "metadata": {
    "ExecuteTime": {
     "end_time": "2021-10-17T00:58:55.481831Z",
     "start_time": "2021-10-17T00:58:29.117658Z"
    }
   },
   "outputs": [
    {
     "name": "stdout",
     "output_type": "stream",
     "text": [
      "Collecting scikit-learn==0.24.2\n",
      "  Using cached scikit_learn-0.24.2-cp38-cp38-win_amd64.whl (6.9 MB)\n",
      "Requirement already satisfied: joblib>=0.11 in c:\\users\\nikit\\anaconda3\\lib\\site-packages (from scikit-learn==0.24.2) (1.0.1)\n",
      "Requirement already satisfied: numpy>=1.13.3 in c:\\users\\nikit\\anaconda3\\lib\\site-packages (from scikit-learn==0.24.2) (1.20.1)\n",
      "Requirement already satisfied: scipy>=0.19.1 in c:\\users\\nikit\\anaconda3\\lib\\site-packages (from scikit-learn==0.24.2) (1.6.2)\n",
      "Requirement already satisfied: threadpoolctl>=2.0.0 in c:\\users\\nikit\\anaconda3\\lib\\site-packages (from scikit-learn==0.24.2) (2.1.0)\n",
      "Installing collected packages: scikit-learn\n",
      "  Attempting uninstall: scikit-learn\n",
      "    Found existing installation: scikit-learn 0.24.1\n",
      "    Uninstalling scikit-learn-0.24.1:\n",
      "      Successfully uninstalled scikit-learn-0.24.1\n",
      "Successfully installed scikit-learn-0.24.2\n",
      "Collecting pandas==1.3.2\n",
      "  Using cached pandas-1.3.2-cp38-cp38-win_amd64.whl (10.2 MB)\n",
      "Requirement already satisfied: numpy>=1.17.3 in c:\\users\\nikit\\anaconda3\\lib\\site-packages (from pandas==1.3.2) (1.20.1)\n",
      "Requirement already satisfied: python-dateutil>=2.7.3 in c:\\users\\nikit\\anaconda3\\lib\\site-packages (from pandas==1.3.2) (2.8.1)\n",
      "Requirement already satisfied: pytz>=2017.3 in c:\\users\\nikit\\anaconda3\\lib\\site-packages (from pandas==1.3.2) (2021.1)\n",
      "Requirement already satisfied: six>=1.5 in c:\\users\\nikit\\anaconda3\\lib\\site-packages (from python-dateutil>=2.7.3->pandas==1.3.2) (1.15.0)\n",
      "Installing collected packages: pandas\n",
      "  Attempting uninstall: pandas\n",
      "    Found existing installation: pandas 1.2.4\n",
      "    Uninstalling pandas-1.2.4:\n",
      "      Successfully uninstalled pandas-1.2.4\n",
      "Successfully installed pandas-1.3.2\n"
     ]
    },
    {
     "name": "stderr",
     "output_type": "stream",
     "text": [
      "ERROR: pip's dependency resolver does not currently take into account all the packages that are installed. This behaviour is the source of the following dependency conflicts.\n",
      "catboost 0.26.1 requires graphviz, which is not installed.\n",
      "ERROR: pip's dependency resolver does not currently take into account all the packages that are installed. This behaviour is the source of the following dependency conflicts.\n",
      "catboost 0.26.1 requires graphviz, which is not installed.\n"
     ]
    },
    {
     "name": "stdout",
     "output_type": "stream",
     "text": [
      "Collecting numpy==1.20.3\n",
      "  Using cached numpy-1.20.3-cp38-cp38-win_amd64.whl (13.7 MB)\n",
      "Installing collected packages: numpy\n",
      "  Attempting uninstall: numpy\n",
      "    Found existing installation: numpy 1.20.1\n",
      "    Uninstalling numpy-1.20.1:\n",
      "      Successfully uninstalled numpy-1.20.1\n",
      "Successfully installed numpy-1.20.3\n",
      "Collecting sklearn\n",
      "  Using cached sklearn-0.0-py2.py3-none-any.whl\n",
      "Requirement already satisfied: scikit-learn in c:\\users\\nikit\\anaconda3\\lib\\site-packages (from sklearn) (0.24.2)\n",
      "Requirement already satisfied: joblib>=0.11 in c:\\users\\nikit\\anaconda3\\lib\\site-packages (from scikit-learn->sklearn) (1.0.1)\n",
      "Requirement already satisfied: numpy>=1.13.3 in c:\\users\\nikit\\anaconda3\\lib\\site-packages (from scikit-learn->sklearn) (1.20.3)\n",
      "Requirement already satisfied: threadpoolctl>=2.0.0 in c:\\users\\nikit\\anaconda3\\lib\\site-packages (from scikit-learn->sklearn) (2.1.0)\n",
      "Requirement already satisfied: scipy>=0.19.1 in c:\\users\\nikit\\anaconda3\\lib\\site-packages (from scikit-learn->sklearn) (1.6.2)\n",
      "Installing collected packages: sklearn\n",
      "Successfully installed sklearn-0.0\n"
     ]
    }
   ],
   "source": [
    "!pip install scikit-learn==0.24.2\n",
    "!pip install pandas==1.3.2\n",
    "!pip install numpy==1.20.3\n",
    "\n",
    "import warnings\n",
    "warnings.filterwarnings(\"ignore\")\n",
    "from IPython.core.display import display, HTML\n",
    "import html\n",
    "\n",
    "import numpy as np\n",
    "import pandas as pd\n",
    "pd.options.mode.chained_assignment = None\n",
    "pd.options.display.max_rows = None\n",
    "pd.options.display.max_columns = None\n",
    "\n",
    "pd.options.display.width = None\n",
    "!pip install -U sklearn\n",
    "from sklearn.linear_model import LinearRegression\n",
    "from sklearn.model_selection import GridSearchCV\n"
   ]
  },
  {
   "cell_type": "code",
   "execution_count": 2,
   "metadata": {
    "ExecuteTime": {
     "end_time": "2021-10-17T00:58:55.497189Z",
     "start_time": "2021-10-17T00:58:55.481831Z"
    }
   },
   "outputs": [],
   "source": [
    "def df_info(data_frame, nulls_percentage_round=1, deep_memory_usage=False):\n",
    "    '''\n",
    "    Выводит на экран общую информацию о таблице\n",
    "    Входные параметры:\n",
    "        data_frame             — таблица типа pd.DataFrame;\n",
    "        nulls_percentage_round — знак, до которого происходит округление в столбце nulls_percentage отображаемой таблицы;\n",
    "        deep_memory_usage      — глубокий анализ используемой памяти\n",
    "    '''\n",
    "    assert isinstance(data_frame, pd.DataFrame), 'Аргумент data_frame должен иметь тип pd.DataFrame'\n",
    "    t = pd.concat(\n",
    "        [\n",
    "         \n",
    "            data_frame.isna().sum().to_frame('nulls_count'),\n",
    "            (100 * data_frame.isna().sum() / len(data_frame)).round(nulls_percentage_round).to_frame('nulls_percentage'),\n",
    "            data_frame.dtypes.to_frame('dtype')\n",
    "        ],\n",
    "        axis=1\n",
    "    )\n",
    "    s = 'dtypes:'\n",
    "    c = data_frame.dtypes.value_counts()\n",
    "    for i in c.index:\n",
    "        s += ' {0}({1})'.format(i, c[i])\n",
    "    m = data_frame.memory_usage(deep=deep_memory_usage).sum()\n",
    "    if int(m / 1024 ** 3):\n",
    "        d, b = 1024 ** 3, 'GB'\n",
    "    elif int(m / 1024 ** 2):\n",
    "        d, b = 1024 ** 2, 'MB'\n",
    "    else:\n",
    "        d, b = 1024, 'KB'\n",
    "    print(t)\n",
    "    print('columns: ', data_frame.shape[1], ', rows: ', data_frame.shape[0], sep='')\n",
    "    print(s)\n",
    "    print('memory_usage: ', round(m / d, 1), '+ ' if not deep_memory_usage else ' ', b, sep='')"
   ]
  },
  {
   "cell_type": "code",
   "execution_count": 3,
   "metadata": {
    "ExecuteTime": {
     "end_time": "2021-10-17T00:58:55.705430Z",
     "start_time": "2021-10-17T00:58:55.499191Z"
    }
   },
   "outputs": [
    {
     "name": "stdout",
     "output_type": "stream",
     "text": [
      "Таблица insurance из файла https://code.s3.yandex.net/datasets/insurance.csv загружена в переменную insurance\n"
     ]
    }
   ],
   "source": [
    "# Загрузка данных\n",
    "\n",
    "# Возможные пути расположения файлов\n",
    "filepaths = {\n",
    "    'insurance': ['/datasets/insurance.csv', './insurance.csv', 'https://code.s3.yandex.net/datasets/insurance.csv']\n",
    "}\n",
    "\n",
    "# Загрузка данных по первому существующему пути\n",
    "data_list = []\n",
    "for dfname in filepaths.keys():\n",
    "    for filepath in filepaths[dfname]:\n",
    "        try:\n",
    "            exec(dfname + ' = pd.read_csv(filepath)')\n",
    "            exec(dfname + f'.name = \"{dfname}\"')\n",
    "            exec(f'data_list.append({dfname})')\n",
    "            print('Таблица ' + dfname + ' из файла ' + filepath + ' загружена в переменную ' + dfname)\n",
    "            break\n",
    "        except Exception:\n",
    "            continue\n",
    "    else:\n",
    "        raise SystemExit('Файл с таблицей ' + dfname + ' не найден ни по одному из путей в списке filepaths')"
   ]
  },
  {
   "cell_type": "markdown",
   "metadata": {},
   "source": [
    "Ознакомимся с загруженными данными."
   ]
  },
  {
   "cell_type": "code",
   "execution_count": 4,
   "metadata": {
    "ExecuteTime": {
     "end_time": "2021-10-17T00:58:55.735714Z",
     "start_time": "2021-10-17T00:58:55.707264Z"
    }
   },
   "outputs": [
    {
     "data": {
      "text/html": [
       "<div>\n",
       "<style scoped>\n",
       "    .dataframe tbody tr th:only-of-type {\n",
       "        vertical-align: middle;\n",
       "    }\n",
       "\n",
       "    .dataframe tbody tr th {\n",
       "        vertical-align: top;\n",
       "    }\n",
       "\n",
       "    .dataframe thead th {\n",
       "        text-align: right;\n",
       "    }\n",
       "</style>\n",
       "<table border=\"1\" class=\"dataframe\">\n",
       "  <thead>\n",
       "    <tr style=\"text-align: right;\">\n",
       "      <th></th>\n",
       "      <th>Пол</th>\n",
       "      <th>Возраст</th>\n",
       "      <th>Зарплата</th>\n",
       "      <th>Члены семьи</th>\n",
       "      <th>Страховые выплаты</th>\n",
       "    </tr>\n",
       "  </thead>\n",
       "  <tbody>\n",
       "    <tr>\n",
       "      <th>0</th>\n",
       "      <td>1</td>\n",
       "      <td>41.0</td>\n",
       "      <td>49600.0</td>\n",
       "      <td>1</td>\n",
       "      <td>0</td>\n",
       "    </tr>\n",
       "    <tr>\n",
       "      <th>1</th>\n",
       "      <td>0</td>\n",
       "      <td>46.0</td>\n",
       "      <td>38000.0</td>\n",
       "      <td>1</td>\n",
       "      <td>1</td>\n",
       "    </tr>\n",
       "    <tr>\n",
       "      <th>2</th>\n",
       "      <td>0</td>\n",
       "      <td>29.0</td>\n",
       "      <td>21000.0</td>\n",
       "      <td>0</td>\n",
       "      <td>0</td>\n",
       "    </tr>\n",
       "    <tr>\n",
       "      <th>3</th>\n",
       "      <td>0</td>\n",
       "      <td>21.0</td>\n",
       "      <td>41700.0</td>\n",
       "      <td>2</td>\n",
       "      <td>0</td>\n",
       "    </tr>\n",
       "    <tr>\n",
       "      <th>4</th>\n",
       "      <td>1</td>\n",
       "      <td>28.0</td>\n",
       "      <td>26100.0</td>\n",
       "      <td>0</td>\n",
       "      <td>0</td>\n",
       "    </tr>\n",
       "  </tbody>\n",
       "</table>\n",
       "</div>"
      ],
      "text/plain": [
       "   Пол  Возраст  Зарплата  Члены семьи  Страховые выплаты\n",
       "0    1     41.0   49600.0            1                  0\n",
       "1    0     46.0   38000.0            1                  1\n",
       "2    0     29.0   21000.0            0                  0\n",
       "3    0     21.0   41700.0            2                  0\n",
       "4    1     28.0   26100.0            0                  0"
      ]
     },
     "execution_count": 4,
     "metadata": {},
     "output_type": "execute_result"
    }
   ],
   "source": [
    "insurance.head(5)"
   ]
  },
  {
   "cell_type": "code",
   "execution_count": 5,
   "metadata": {
    "ExecuteTime": {
     "end_time": "2021-10-17T00:58:55.750354Z",
     "start_time": "2021-10-17T00:58:55.736589Z"
    }
   },
   "outputs": [
    {
     "name": "stdout",
     "output_type": "stream",
     "text": [
      "                   nulls_count  nulls_percentage    dtype\n",
      "Пол                          0               0.0    int64\n",
      "Возраст                      0               0.0  float64\n",
      "Зарплата                     0               0.0  float64\n",
      "Члены семьи                  0               0.0    int64\n",
      "Страховые выплаты            0               0.0    int64\n",
      "columns: 5, rows: 5000\n",
      "dtypes: int64(3) float64(2)\n",
      "memory_usage: 195.4+ KB\n"
     ]
    }
   ],
   "source": [
    "df_info(insurance)"
   ]
  },
  {
   "cell_type": "markdown",
   "metadata": {
    "ExecuteTime": {
     "end_time": "2021-09-09T12:35:07.989924Z",
     "start_time": "2021-09-09T12:35:07.976843Z"
    }
   },
   "source": [
    "Таблица содержит категориальные и количественные признаки, имеющие числовой формат. Таблица не имеет пропусков."
   ]
  },
  {
   "cell_type": "markdown",
   "metadata": {},
   "source": [
    "## Умножение матриц"
   ]
  },
  {
   "cell_type": "markdown",
   "metadata": {},
   "source": [
    "Обозначения:\n",
    "\n",
    "- $X$ — матрица признаков (нулевой столбец состоит из единиц)\n",
    "\n",
    "- $y$ — вектор целевого признака\n",
    "\n",
    "- $P$ — матрица, на которую умножаются признаки\n",
    "\n",
    "- $w$ — вектор весов линейной регрессии (нулевой элемент равен сдвигу)"
   ]
  },
  {
   "cell_type": "markdown",
   "metadata": {},
   "source": [
    "Предсказания:\n",
    "\n",
    "$$\n",
    "a = Xw\n",
    "$$\n",
    "\n",
    "Задача обучения:\n",
    "\n",
    "$$\n",
    "w = \\arg\\min_w MSE(Xw, y)\n",
    "$$\n",
    "\n",
    "Формула обучения:\n",
    "\n",
    "$$\n",
    "w = (X^T X)^{-1} X^T y\n",
    "$$"
   ]
  },
  {
   "cell_type": "markdown",
   "metadata": {},
   "source": [
    "**Ответ:** Если матрцу признаков объектов $X$ умножить на обратимую матрицу $P$, то после переобучения модели линейной регресии, ее предсказания для $XP$ не будут отличаться от предсказаний для $X$ до переобучения.\n",
    "\n",
    "**Обоснование:**\n",
    "\n",
    "Запишем формулу обучения линейной регрессии для преобразованной матрицы признаков:\n",
    "\n",
    "$$\n",
    "w_P = \\Big((X P)^T (X P)\\Big)^{-1} (X P)^T y,\n",
    "$$\n",
    "где $w_P$ &mdash; преобразованный вектор весов линейной регресси.\n",
    "\n",
    "\n",
    "Воспользуемся свойством транспонированных матриц $(A B)^T = A^T B^T$:\n",
    "\n",
    "$$\n",
    "w_P = \\Big((X P)^T (X P)\\Big)^{-1} (X P)^T y = \\Big(P^T X^T X P\\Big)^{-1} P^T X^T y.\n",
    "$$\n",
    "\n",
    "В полученном выражении произведение $X^T X$ дает квадратную матрицу. При этом, если матрица $X$ не содержит линейно-зависимых строк (коллинеарных признаков) или стролбцов, матрица $X^T X$ обратима. В этом случае, согласно свойству обратных матриц $(A B C)^{-1} = C^{-1} B^{-1} A^{-1}$, формулу обучения можно записать следюущим образом:\n",
    "\n",
    "$$\n",
    "w_P = \\Big(P^T X^T X P\\Big)^{-1} P^T X^T y = P^{-1} (X^T X)^{-1} (P^T)^{-1} P^T X^T y.\n",
    "$$\n",
    "\n",
    "Произведение $(P^T)^{-1} P^T = I$, где $I$ &mdash; единичная матрица. Упростим выражение для вычисления $w_P$:\n",
    "\n",
    "$$\n",
    "w_P = P^{-1} (X^T X)^{-1} X^T y = P^{-1} w.\n",
    "$$\n",
    "\n",
    "Вычислим вектор предсказаний $a_P$ для измененных признаков:\n",
    "\n",
    "$$\n",
    "a_P = X P w_P = X P P^{-1} w = X w.\n",
    "$$\n",
    "\n",
    "Ч.т.д.\n",
    "\n",
    "---\n",
    "\n",
    "Произведение $X P$ можно интерпретировать как разложение (проекцию) векторов-строк матрицы $X$ по базису пространства, образованного системой строк (столбцов) матрицы $P$. Если матрица $P$ является ортогональной ($P^T = P^{-1}$), такое произведение означает разложение векторов-строк матрицы $X$ по ортонормированному базису (с сохранением длины &mdash; поворот). В общем случае при умножении на обратимую матрицу преобразованный векторы признаков свою длину не сохраняют.\n",
    "\n",
    "Данное умножение может бить использовано для простого шифрования-дешифрования данных с ключом-матрицей $P$. Однако, учитывая сказанное выше, на матрицу $P$ должны накладываться некоторые требования:\n",
    "- модуль определителя матрицы не должен быть слишком мал;\n",
    "- матрица не должна всего лишь переставлять признаки местами или просто менять их знак;\n",
    "- матрица не должна существенно изменять масштаб признаков.\n",
    "\n",
    "Представление матрицы, модуль определителя которой очень близок к 0, в формате с плавающей запятой и вычислительные операции с такой матрицей могут привести к накоплению значительных вычислительных ошибок.\n",
    "\n",
    "Перестановка признаков в векторе $X$ без изменения их значений может достигаться с помощью некоторых матриц, состоящих только из 0 и +/-1. Например, следующая матрица имеет ненулевой определитель:\n",
    "\n",
    "$$\n",
    "P = \\left(\\begin{array}{cccc} 0 & 1 & 0\\\\-1 & 0 & 0\\\\0 & 0 & 1 \\end{array}\\right), det P = 1.\n",
    "$$\n",
    "\n",
    "Но произведение $X P$ (в данном примере n объектов с 3 признаками) не обеспечит сокрытия данных:\n",
    "\n",
    "$$\n",
    "\\left(\\begin{array}{cccc} -f_{01} & f_{00} & f_{02} \\\\ -f_{11} & f_{10} & f_{12} \\\\ & \\vdots & \\\\ -f_{n1} & f_{n0} & f_{n2} \\end{array}\\right)\n",
    "=\n",
    "\\left(\\begin{array}{cccc} f_{00} & f_{01} & f_{02} \\\\ f_{10} & f_{11} & f_{12} \\\\ & \\vdots & \\\\ f_{n0} & f_{n1} & f_{n2} \\end{array}\\right)\n",
    "\\left(\\begin{array}{cccc} 0 & 1 & 0\\\\-1 & 0 & 0\\\\0 & 0 & 1 \\end{array}\\right).\n",
    "$$\n",
    "\n",
    "Значительное изменение масштаба признаков также может снизить качество предсказания модели машинного обучения."
   ]
  },
  {
   "cell_type": "markdown",
   "metadata": {},
   "source": [
    "## Алгоритм преобразования"
   ]
  },
  {
   "cell_type": "markdown",
   "metadata": {
    "ExecuteTime": {
     "end_time": "2021-09-13T15:18:12.711268Z",
     "start_time": "2021-09-13T15:18:12.702560Z"
    }
   },
   "source": [
    "Для генерации квадратной обратимой матрицы воспользуемся генератором случайных чисел. Если каждый элемент сгенерированной матрицы будет представлять собой случайную нормально распределенную величину с математическим ожиданием 0 и дисперсией 1, то такая матрица с большой вероятностью будет обратимой, а также будет отвечать установленным в предыдущем пункте требованиям. Для проверки обратимости будем сверять ранг сгенерированной матрицы с ее размером."
   ]
  },
  {
   "cell_type": "code",
   "execution_count": 6,
   "metadata": {
    "ExecuteTime": {
     "end_time": "2021-10-17T00:58:55.765681Z",
     "start_time": "2021-10-17T00:58:55.751260Z"
    }
   },
   "outputs": [
    {
     "data": {
      "text/plain": [
       "array([[ 0.3069638 ,  0.94220943, -1.19773787,  0.16241642],\n",
       "       [ 0.32341305, -1.9065062 ,  1.13115815,  0.1787571 ],\n",
       "       [-2.0111262 , -0.11455209, -0.70833639, -1.03360455],\n",
       "       [ 0.06767799,  0.27176493,  0.8920773 ,  0.65277017]])"
      ]
     },
     "execution_count": 6,
     "metadata": {},
     "output_type": "execute_result"
    }
   ],
   "source": [
    "np.random.normal(size=(4, 4))"
   ]
  },
  {
   "cell_type": "code",
   "execution_count": 7,
   "metadata": {
    "ExecuteTime": {
     "end_time": "2021-10-17T00:58:55.781494Z",
     "start_time": "2021-10-17T00:58:55.766444Z"
    }
   },
   "outputs": [],
   "source": [
    "def invertible_square_matrix(ds):\n",
    "    '''\n",
    "    Функция возвращает квадратную инвертируемую матрицу размером ds\n",
    "    '''\n",
    "    assert ds > 0, 'Выходнй размер диагонали матрицы ds должен быть больше 0'\n",
    "    r = 0\n",
    "    while r < ds:\n",
    "        m = np.random.normal(0, 1, size=(ds, ds))\n",
    "        r = np.linalg.matrix_rank(m)\n",
    "    return m\n",
    "\n",
    "def features_transform(df, m):\n",
    "    '''\n",
    "    Функция возвращает копию таблицы df, каждый объект которой умножен на матрицу m\n",
    "    '''\n",
    "    return pd.DataFrame(data=df.values @ m, index=df.index, columns=df.columns)"
   ]
  },
  {
   "cell_type": "markdown",
   "metadata": {},
   "source": [
    "## Проверка алгоритма"
   ]
  },
  {
   "cell_type": "markdown",
   "metadata": {},
   "source": [
    "### Обучение линейной регрессии на исходных данных"
   ]
  },
  {
   "cell_type": "markdown",
   "metadata": {},
   "source": [
    "Обучим модель линейной регрессии на исходной выборке данных. Проверим качество ее предсказания с помощью R2 метрики."
   ]
  },
  {
   "cell_type": "code",
   "execution_count": 8,
   "metadata": {
    "ExecuteTime": {
     "end_time": "2021-10-17T00:58:55.809704Z",
     "start_time": "2021-10-17T00:58:55.782645Z"
    }
   },
   "outputs": [],
   "source": [
    "TARGET = 'Страховые выплаты'\n",
    "FEATURES = insurance.columns.values[insurance.columns.values != TARGET]"
   ]
  },
  {
   "cell_type": "code",
   "execution_count": 9,
   "metadata": {
    "ExecuteTime": {
     "end_time": "2021-10-17T00:58:55.988539Z",
     "start_time": "2021-10-17T00:58:55.809704Z"
    }
   },
   "outputs": [
    {
     "name": "stdout",
     "output_type": "stream",
     "text": [
      "Fitting 5 folds for each of 1 candidates, totalling 5 fits\n",
      "[CV 1/5] END ..................................., score=0.401 total time=   0.0s\n",
      "[CV 2/5] END ..................................., score=0.447 total time=   0.0s\n",
      "[CV 3/5] END ..................................., score=0.416 total time=   0.0s\n",
      "[CV 4/5] END ..................................., score=0.415 total time=   0.0s\n",
      "[CV 5/5] END ..................................., score=0.437 total time=   0.0s\n"
     ]
    },
    {
     "data": {
      "text/plain": [
       "GridSearchCV(estimator=LinearRegression(), param_grid={}, scoring='r2',\n",
       "             verbose=3)"
      ]
     },
     "execution_count": 9,
     "metadata": {},
     "output_type": "execute_result"
    }
   ],
   "source": [
    "lr_gs = GridSearchCV(\n",
    "    estimator=LinearRegression(),\n",
    "    param_grid={},\n",
    "    scoring='r2',\n",
    "    refit=True,\n",
    "    verbose=3\n",
    ")\n",
    "lr_gs.fit(insurance[FEATURES], insurance[TARGET])"
   ]
  },
  {
   "cell_type": "code",
   "execution_count": 10,
   "metadata": {
    "ExecuteTime": {
     "end_time": "2021-10-17T00:58:56.004463Z",
     "start_time": "2021-10-17T00:58:55.990022Z"
    }
   },
   "outputs": [
    {
     "data": {
      "text/plain": [
       "{'mean_fit_time': array([0.02943025]),\n",
       " 'std_fit_time': array([0.05218358]),\n",
       " 'mean_score_time': array([0.00053463]),\n",
       " 'std_score_time': array([0.00065812]),\n",
       " 'params': [{}],\n",
       " 'split0_test_score': array([0.40104201]),\n",
       " 'split1_test_score': array([0.44663077]),\n",
       " 'split2_test_score': array([0.41583058]),\n",
       " 'split3_test_score': array([0.41470783]),\n",
       " 'split4_test_score': array([0.43735766]),\n",
       " 'mean_test_score': array([0.42311377]),\n",
       " 'std_test_score': array([0.01653363]),\n",
       " 'rank_test_score': array([1])}"
      ]
     },
     "execution_count": 10,
     "metadata": {},
     "output_type": "execute_result"
    }
   ],
   "source": [
    "lr_gs.cv_results_"
   ]
  },
  {
   "cell_type": "markdown",
   "metadata": {},
   "source": [
    "R2 метрика."
   ]
  },
  {
   "cell_type": "code",
   "execution_count": 11,
   "metadata": {
    "ExecuteTime": {
     "end_time": "2021-10-17T00:58:56.020227Z",
     "start_time": "2021-10-17T00:58:56.005371Z"
    }
   },
   "outputs": [
    {
     "data": {
      "text/plain": [
       "0.42494550286668"
      ]
     },
     "execution_count": 11,
     "metadata": {},
     "output_type": "execute_result"
    }
   ],
   "source": [
    "r2_score = lr_gs.score(insurance[FEATURES], insurance[TARGET])\n",
    "r2_score"
   ]
  },
  {
   "cell_type": "markdown",
   "metadata": {},
   "source": [
    "### Обучение линейной регрессии на преобразованных данных"
   ]
  },
  {
   "cell_type": "markdown",
   "metadata": {},
   "source": [
    "Обучим модель линейной регрессии на преобразованных признаках объектов."
   ]
  },
  {
   "cell_type": "code",
   "execution_count": 12,
   "metadata": {
    "ExecuteTime": {
     "end_time": "2021-10-17T00:58:56.035997Z",
     "start_time": "2021-10-17T00:58:56.021175Z"
    }
   },
   "outputs": [
    {
     "name": "stdout",
     "output_type": "stream",
     "text": [
      "Матрица:\n",
      "[[-0.71502482  0.75074423  0.72316315 -0.71587805]\n",
      " [-1.93004211 -0.33862879  0.11873514  0.38658227]\n",
      " [-0.72529852 -1.45040158  0.83059646  1.32962524]\n",
      " [ 0.63066492 -0.65898511  0.10502839  1.24213351]]\n",
      "\n",
      "Определитель:\n",
      "2.022003877500541\n",
      "\n",
      "Преобразованные признаки:\n"
     ]
    },
    {
     "data": {
      "text/html": [
       "<div>\n",
       "<style scoped>\n",
       "    .dataframe tbody tr th:only-of-type {\n",
       "        vertical-align: middle;\n",
       "    }\n",
       "\n",
       "    .dataframe tbody tr th {\n",
       "        vertical-align: top;\n",
       "    }\n",
       "\n",
       "    .dataframe thead th {\n",
       "        text-align: right;\n",
       "    }\n",
       "</style>\n",
       "<table border=\"1\" class=\"dataframe\">\n",
       "  <thead>\n",
       "    <tr style=\"text-align: right;\">\n",
       "      <th></th>\n",
       "      <th>Пол</th>\n",
       "      <th>Возраст</th>\n",
       "      <th>Зарплата</th>\n",
       "      <th>Члены семьи</th>\n",
       "    </tr>\n",
       "  </thead>\n",
       "  <tbody>\n",
       "    <tr>\n",
       "      <th>0</th>\n",
       "      <td>-36054.022899</td>\n",
       "      <td>-71953.710240</td>\n",
       "      <td>41203.280529</td>\n",
       "      <td>65965.788045</td>\n",
       "    </tr>\n",
       "    <tr>\n",
       "      <th>1</th>\n",
       "      <td>-27649.495201</td>\n",
       "      <td>-55131.495835</td>\n",
       "      <td>31568.232156</td>\n",
       "      <td>50544.784047</td>\n",
       "    </tr>\n",
       "    <tr>\n",
       "      <th>2</th>\n",
       "      <td>-15287.240235</td>\n",
       "      <td>-30468.253352</td>\n",
       "      <td>17445.968886</td>\n",
       "      <td>27933.340931</td>\n",
       "    </tr>\n",
       "    <tr>\n",
       "      <th>3</th>\n",
       "      <td>-30284.218024</td>\n",
       "      <td>-60490.174935</td>\n",
       "      <td>34638.575692</td>\n",
       "      <td>55455.975013</td>\n",
       "    </tr>\n",
       "    <tr>\n",
       "      <th>4</th>\n",
       "      <td>-18985.047692</td>\n",
       "      <td>-37864.212021</td>\n",
       "      <td>21682.615237</td>\n",
       "      <td>34713.327196</td>\n",
       "    </tr>\n",
       "  </tbody>\n",
       "</table>\n",
       "</div>"
      ],
      "text/plain": [
       "            Пол       Возраст      Зарплата   Члены семьи\n",
       "0 -36054.022899 -71953.710240  41203.280529  65965.788045\n",
       "1 -27649.495201 -55131.495835  31568.232156  50544.784047\n",
       "2 -15287.240235 -30468.253352  17445.968886  27933.340931\n",
       "3 -30284.218024 -60490.174935  34638.575692  55455.975013\n",
       "4 -18985.047692 -37864.212021  21682.615237  34713.327196"
      ]
     },
     "execution_count": 12,
     "metadata": {},
     "output_type": "execute_result"
    }
   ],
   "source": [
    "m = invertible_square_matrix(insurance.values.shape[1]-1)\n",
    "print('Матрица:')\n",
    "print(m)\n",
    "print('\\nОпределитель:')\n",
    "print(np.linalg.det(m))\n",
    "insurance_transformed_features = features_transform(insurance[FEATURES], m)\n",
    "print('\\nПреобразованные признаки:')\n",
    "insurance_transformed_features.head()"
   ]
  },
  {
   "cell_type": "code",
   "execution_count": 13,
   "metadata": {
    "ExecuteTime": {
     "end_time": "2021-10-17T00:58:56.083271Z",
     "start_time": "2021-10-17T00:58:56.036615Z"
    }
   },
   "outputs": [
    {
     "name": "stdout",
     "output_type": "stream",
     "text": [
      "Fitting 5 folds for each of 1 candidates, totalling 5 fits\n",
      "[CV 1/5] END ..................................., score=0.401 total time=   0.0s\n",
      "[CV 2/5] END ..................................., score=0.447 total time=   0.0s\n",
      "[CV 3/5] END ..................................., score=0.416 total time=   0.0s\n",
      "[CV 4/5] END ..................................., score=0.415 total time=   0.0s\n",
      "[CV 5/5] END ..................................., score=0.437 total time=   0.0s\n"
     ]
    },
    {
     "data": {
      "text/plain": [
       "GridSearchCV(estimator=LinearRegression(), param_grid={}, scoring='r2',\n",
       "             verbose=3)"
      ]
     },
     "execution_count": 13,
     "metadata": {},
     "output_type": "execute_result"
    }
   ],
   "source": [
    "lr_gs_2 = GridSearchCV(\n",
    "    estimator=LinearRegression(),\n",
    "    param_grid={},\n",
    "    scoring='r2',\n",
    "    refit=True,\n",
    "    verbose=3\n",
    ")\n",
    "lr_gs_2.fit(insurance_transformed_features, insurance[TARGET])"
   ]
  },
  {
   "cell_type": "code",
   "execution_count": 14,
   "metadata": {
    "ExecuteTime": {
     "end_time": "2021-10-17T00:58:56.099265Z",
     "start_time": "2021-10-17T00:58:56.084202Z"
    }
   },
   "outputs": [
    {
     "data": {
      "text/plain": [
       "{'mean_fit_time': array([0.00368977]),\n",
       " 'std_fit_time': array([0.00055347]),\n",
       " 'mean_score_time': array([0.00039201]),\n",
       " 'std_score_time': array([0.00048166]),\n",
       " 'params': [{}],\n",
       " 'split0_test_score': array([0.40104201]),\n",
       " 'split1_test_score': array([0.44663077]),\n",
       " 'split2_test_score': array([0.41583058]),\n",
       " 'split3_test_score': array([0.41470783]),\n",
       " 'split4_test_score': array([0.43735766]),\n",
       " 'mean_test_score': array([0.42311377]),\n",
       " 'std_test_score': array([0.01653363]),\n",
       " 'rank_test_score': array([1])}"
      ]
     },
     "execution_count": 14,
     "metadata": {},
     "output_type": "execute_result"
    }
   ],
   "source": [
    "lr_gs_2.cv_results_"
   ]
  },
  {
   "cell_type": "markdown",
   "metadata": {
    "ExecuteTime": {
     "end_time": "2021-09-13T18:07:55.456964Z",
     "start_time": "2021-09-13T18:07:55.446297Z"
    }
   },
   "source": [
    "R2 метрика."
   ]
  },
  {
   "cell_type": "code",
   "execution_count": 15,
   "metadata": {
    "ExecuteTime": {
     "end_time": "2021-10-17T00:58:56.114945Z",
     "start_time": "2021-10-17T00:58:56.101054Z"
    }
   },
   "outputs": [
    {
     "data": {
      "text/plain": [
       "0.42494550286667876"
      ]
     },
     "execution_count": 15,
     "metadata": {},
     "output_type": "execute_result"
    }
   ],
   "source": [
    "r2_score_2 = lr_gs_2.score(insurance_transformed_features, insurance[TARGET])\n",
    "r2_score_2"
   ]
  },
  {
   "cell_type": "markdown",
   "metadata": {},
   "source": [
    "Модуль разницы между R2 для моделей линейной регрессии, обученных на исходных и преобразованных признаках."
   ]
  },
  {
   "cell_type": "code",
   "execution_count": 16,
   "metadata": {
    "ExecuteTime": {
     "end_time": "2021-10-17T00:58:56.130543Z",
     "start_time": "2021-10-17T00:58:56.117041Z"
    }
   },
   "outputs": [
    {
     "data": {
      "text/plain": [
       "1.2212453270876722e-15"
      ]
     },
     "execution_count": 16,
     "metadata": {},
     "output_type": "execute_result"
    }
   ],
   "source": [
    "abs(r2_score - r2_score_2)"
   ]
  },
  {
   "cell_type": "markdown",
   "metadata": {},
   "source": [
    "Полученная разница находится на уровне накопленной ошибки вычисления."
   ]
  },
  {
   "cell_type": "markdown",
   "metadata": {},
   "source": [
    "### Проверка на большом количестве повторений"
   ]
  },
  {
   "cell_type": "markdown",
   "metadata": {},
   "source": [
    "Проанализируем разброс ошибки &mdash; модуля разности значения R2 для модели линейной регресии, обученной на исходных признаках, и R2 для модели линейной регрессии, обученной на преобразованных признаках с использованием 1000 различных матриц преобразования."
   ]
  },
  {
   "cell_type": "code",
   "execution_count": 17,
   "metadata": {
    "ExecuteTime": {
     "end_time": "2021-10-17T00:59:20.474964Z",
     "start_time": "2021-10-17T00:58:56.131611Z"
    }
   },
   "outputs": [],
   "source": [
    "det_3 = []\n",
    "error_3 = []\n",
    "\n",
    "n = 1000\n",
    "for _ in range(n):\n",
    "    # Преобразование признаков\n",
    "    m = invertible_square_matrix(insurance.values.shape[1]-1)\n",
    "    det_3.append(np.linalg.det(m))\n",
    "    insurance_transformed_features = features_transform(insurance[FEATURES], m)\n",
    "    # Обучение модели и вычисление метрики качества\n",
    "    lr_gs_3 = GridSearchCV(\n",
    "        estimator=LinearRegression(),\n",
    "        param_grid={},\n",
    "        scoring='r2',\n",
    "        refit=True,\n",
    "        verbose=0\n",
    "    )\n",
    "    lr_gs_3.fit(insurance_transformed_features, insurance[TARGET])\n",
    "    r2_score_3 = lr_gs_3.score(insurance_transformed_features, insurance[TARGET])\n",
    "    error_3.append(abs(r2_score_3 - r2_score_2))\n",
    "\n",
    "error_3 = pd.Series(error_3)\n",
    "det_3 = pd.Series(det_3)"
   ]
  },
  {
   "cell_type": "code",
   "execution_count": 18,
   "metadata": {
    "ExecuteTime": {
     "end_time": "2021-10-17T00:59:20.490122Z",
     "start_time": "2021-10-17T00:59:20.474964Z"
    }
   },
   "outputs": [
    {
     "data": {
      "text/plain": [
       "count    1.000000e+03\n",
       "mean     3.283829e-14\n",
       "std      6.128069e-13\n",
       "min      0.000000e+00\n",
       "25%      1.443290e-15\n",
       "50%      3.996803e-15\n",
       "75%      1.043610e-14\n",
       "max      1.934441e-11\n",
       "dtype: float64"
      ]
     },
     "execution_count": 18,
     "metadata": {},
     "output_type": "execute_result"
    }
   ],
   "source": [
    "error_3.describe()"
   ]
  },
  {
   "cell_type": "markdown",
   "metadata": {},
   "source": [
    "Максимальное значение ошибки не превышает 1e-9, что по-прежнему лежит на уровне накопленной ошибки вычисления.\n",
    "\n",
    "Исследуем зависимость вычисленных ошибок от определителя матрицы преобразования."
   ]
  },
  {
   "cell_type": "code",
   "execution_count": 19,
   "metadata": {
    "ExecuteTime": {
     "end_time": "2021-10-17T00:59:20.930413Z",
     "start_time": "2021-10-17T00:59:20.491087Z"
    },
    "code_folding": [],
    "scrolled": false
   },
   "outputs": [
    {
     "data": {
      "image/png": "[encoded data removed]",
      "text/plain": [
       "<Figure size 1152x576 with 1 Axes>"
      ]
     },
     "metadata": {
      "needs_background": "light"
     },
     "output_type": "display_data"
    }
   ],
   "source": [
    "xlabel = 'det(M)'\n",
    "ylabel = 'Разность между R2 для исходных и преобразованных признаков'\n",
    "pd.concat(\n",
    "    [\n",
    "        det_3.to_frame(xlabel),\n",
    "        error_3.to_frame(ylabel)\n",
    "    ],\n",
    "    axis=1\n",
    ").plot.scatter(\n",
    "    x=xlabel,\n",
    "    y=ylabel,\n",
    "    figsize=(16,8),\n",
    "    grid='on'\n",
    ");"
   ]
  },
  {
   "cell_type": "markdown",
   "metadata": {},
   "source": [
    "На построенной диаграмме разброса видно, что значение ошибки практически не зависит от значения определителя матрицы преобразования. За редким исключением ошибки постоянны и близки к 0.\n",
    "\n",
    "Только для значений определителя матрицы преобразования в окрестностях нуля наблюдается незначительный рост ошибок. Это также объясняется потерей точности при представлении малых чисел в формате с плавающей запятой и, как следствие, накоплением ошибки вычисления."
   ]
  },
  {
   "cell_type": "markdown",
   "metadata": {},
   "source": [
    "## Чек-лист проверки"
   ]
  },
  {
   "cell_type": "markdown",
   "metadata": {},
   "source": [
    "Поставьте 'x' в выполненных пунктах. Далее нажмите Shift+Enter."
   ]
  },
  {
   "cell_type": "markdown",
   "metadata": {},
   "source": [
    "- [x]  Jupyter Notebook открыт\n",
    "- [x]  Весь код выполняется без ошибок\n",
    "- [x]  Ячейки с кодом расположены в порядке исполнения\n",
    "- [x]  Выполнен шаг 1: данные загружены\n",
    "- [x]  Выполнен шаг 2: получен ответ на вопрос об умножении матриц\n",
    "    - [x]  Указан правильный вариант ответа\n",
    "    - [x]  Вариант обоснован\n",
    "- [x]  Выполнен шаг 3: предложен алгоритм преобразования\n",
    "    - [x]  Алгоритм описан\n",
    "    - [x]  Алгоритм обоснован\n",
    "- [x]  Выполнен шаг 4: алгоритм проверен\n",
    "    - [x]  Алгоритм реализован\n",
    "    - [x]  Проведено сравнение качества моделей до и после преобразования"
   ]
  }
 ],
 "metadata": {
  "ExecuteTimeLog": [
   {
    "duration": 1252,
    "start_time": "2021-09-13T19:03:54.636Z"
   },
   {
    "duration": -170,
    "start_time": "2021-09-13T19:03:56.062Z"
   },
   {
    "duration": -174,
    "start_time": "2021-09-13T19:03:56.067Z"
   },
   {
    "duration": -178,
    "start_time": "2021-09-13T19:03:56.072Z"
   },
   {
    "duration": -179,
    "start_time": "2021-09-13T19:03:56.075Z"
   },
   {
    "duration": -180,
    "start_time": "2021-09-13T19:03:56.077Z"
   },
   {
    "duration": -180,
    "start_time": "2021-09-13T19:03:56.079Z"
   },
   {
    "duration": -181,
    "start_time": "2021-09-13T19:03:56.081Z"
   },
   {
    "duration": -180,
    "start_time": "2021-09-13T19:03:56.082Z"
   },
   {
    "duration": -185,
    "start_time": "2021-09-13T19:03:56.088Z"
   },
   {
    "duration": -186,
    "start_time": "2021-09-13T19:03:56.090Z"
   },
   {
    "duration": -186,
    "start_time": "2021-09-13T19:03:56.092Z"
   },
   {
    "duration": -187,
    "start_time": "2021-09-13T19:03:56.094Z"
   },
   {
    "duration": -187,
    "start_time": "2021-09-13T19:03:56.096Z"
   },
   {
    "duration": -188,
    "start_time": "2021-09-13T19:03:56.098Z"
   },
   {
    "duration": -188,
    "start_time": "2021-09-13T19:03:56.100Z"
   },
   {
    "duration": -189,
    "start_time": "2021-09-13T19:03:56.102Z"
   },
   {
    "duration": -190,
    "start_time": "2021-09-13T19:03:56.104Z"
   },
   {
    "duration": -190,
    "start_time": "2021-09-13T19:03:56.106Z"
   },
   {
    "duration": 1202,
    "start_time": "2021-09-13T19:05:32.544Z"
   },
   {
    "duration": -158,
    "start_time": "2021-09-13T19:05:33.907Z"
   },
   {
    "duration": -159,
    "start_time": "2021-09-13T19:05:33.910Z"
   },
   {
    "duration": -160,
    "start_time": "2021-09-13T19:05:33.912Z"
   },
   {
    "duration": -161,
    "start_time": "2021-09-13T19:05:33.914Z"
   },
   {
    "duration": -162,
    "start_time": "2021-09-13T19:05:33.916Z"
   },
   {
    "duration": -167,
    "start_time": "2021-09-13T19:05:33.923Z"
   },
   {
    "duration": -168,
    "start_time": "2021-09-13T19:05:33.925Z"
   },
   {
    "duration": -168,
    "start_time": "2021-09-13T19:05:33.927Z"
   },
   {
    "duration": -169,
    "start_time": "2021-09-13T19:05:33.929Z"
   },
   {
    "duration": -172,
    "start_time": "2021-09-13T19:05:33.933Z"
   },
   {
    "duration": -172,
    "start_time": "2021-09-13T19:05:33.935Z"
   },
   {
    "duration": -172,
    "start_time": "2021-09-13T19:05:33.936Z"
   },
   {
    "duration": -173,
    "start_time": "2021-09-13T19:05:33.938Z"
   },
   {
    "duration": -173,
    "start_time": "2021-09-13T19:05:33.940Z"
   },
   {
    "duration": -186,
    "start_time": "2021-09-13T19:05:33.954Z"
   },
   {
    "duration": -188,
    "start_time": "2021-09-13T19:05:33.958Z"
   },
   {
    "duration": -189,
    "start_time": "2021-09-13T19:05:33.960Z"
   },
   {
    "duration": -190,
    "start_time": "2021-09-13T19:05:33.962Z"
   },
   {
    "duration": 504,
    "start_time": "2021-09-13T19:05:59.391Z"
   },
   {
    "duration": 604,
    "start_time": "2021-09-13T19:06:13.624Z"
   },
   {
    "duration": 5,
    "start_time": "2021-09-13T19:06:23.428Z"
   },
   {
    "duration": 5,
    "start_time": "2021-09-13T19:06:25.076Z"
   },
   {
    "duration": 5,
    "start_time": "2021-09-13T19:06:26.420Z"
   },
   {
    "duration": 414,
    "start_time": "2021-09-13T19:06:28.052Z"
   },
   {
    "duration": 5,
    "start_time": "2021-09-13T19:06:30.808Z"
   },
   {
    "duration": 1352,
    "start_time": "2021-09-13T19:06:37.977Z"
   },
   {
    "duration": 10,
    "start_time": "2021-09-13T19:06:39.331Z"
   },
   {
    "duration": 33,
    "start_time": "2021-09-13T19:06:39.344Z"
   },
   {
    "duration": 43,
    "start_time": "2021-09-13T19:06:39.379Z"
   },
   {
    "duration": 20,
    "start_time": "2021-09-13T19:06:39.424Z"
   },
   {
    "duration": 6,
    "start_time": "2021-09-13T19:06:39.447Z"
   },
   {
    "duration": 13,
    "start_time": "2021-09-13T19:06:39.455Z"
   },
   {
    "duration": 44,
    "start_time": "2021-09-13T19:06:39.472Z"
   },
   {
    "duration": 47,
    "start_time": "2021-09-13T19:06:39.519Z"
   },
   {
    "duration": 9,
    "start_time": "2021-09-13T19:06:39.569Z"
   },
   {
    "duration": 44,
    "start_time": "2021-09-13T19:06:39.580Z"
   },
   {
    "duration": 206,
    "start_time": "2021-09-13T19:06:39.628Z"
   },
   {
    "duration": 30,
    "start_time": "2021-09-13T19:06:39.836Z"
   },
   {
    "duration": 47,
    "start_time": "2021-09-13T19:06:39.869Z"
   },
   {
    "duration": 16,
    "start_time": "2021-09-13T19:06:39.919Z"
   },
   {
    "duration": 99,
    "start_time": "2021-09-13T19:06:40.019Z"
   },
   {
    "duration": 130271,
    "start_time": "2021-09-13T19:06:40.120Z"
   },
   {
    "duration": -401,
    "start_time": "2021-09-13T19:08:50.795Z"
   },
   {
    "duration": -403,
    "start_time": "2021-09-13T19:08:50.798Z"
   },
   {
    "duration": 12132,
    "start_time": "2021-09-13T19:08:55.042Z"
   },
   {
    "duration": 10,
    "start_time": "2021-09-13T19:09:07.177Z"
   },
   {
    "duration": 34,
    "start_time": "2021-09-13T19:09:07.190Z"
   },
   {
    "duration": 27,
    "start_time": "2021-09-13T19:09:07.228Z"
   },
   {
    "duration": 64,
    "start_time": "2021-09-13T19:09:07.259Z"
   },
   {
    "duration": 9,
    "start_time": "2021-09-13T19:09:07.326Z"
   },
   {
    "duration": 8,
    "start_time": "2021-09-13T19:09:07.338Z"
   },
   {
    "duration": 5,
    "start_time": "2021-09-13T19:09:07.352Z"
   },
   {
    "duration": 87,
    "start_time": "2021-09-13T19:09:07.359Z"
   },
   {
    "duration": 7,
    "start_time": "2021-09-13T19:09:07.449Z"
   },
   {
    "duration": 65,
    "start_time": "2021-09-13T19:09:07.458Z"
   },
   {
    "duration": 33,
    "start_time": "2021-09-13T19:09:07.616Z"
   },
   {
    "duration": 67,
    "start_time": "2021-09-13T19:09:07.651Z"
   },
   {
    "duration": 8,
    "start_time": "2021-09-13T19:09:07.720Z"
   },
   {
    "duration": 22,
    "start_time": "2021-09-13T19:09:07.730Z"
   },
   {
    "duration": 99,
    "start_time": "2021-09-13T19:09:07.819Z"
   },
   {
    "duration": 94438,
    "start_time": "2021-09-13T19:09:07.921Z"
   },
   {
    "duration": -141,
    "start_time": "2021-09-13T19:10:42.502Z"
   },
   {
    "duration": -155,
    "start_time": "2021-09-13T19:10:42.518Z"
   },
   {
    "duration": 3656,
    "start_time": "2021-09-13T19:13:29.104Z"
   },
   {
    "duration": 5165,
    "start_time": "2021-09-13T19:13:52.847Z"
   },
   {
    "duration": 2395,
    "start_time": "2021-09-13T19:14:13.090Z"
   },
   {
    "duration": 2553,
    "start_time": "2021-09-13T19:14:19.111Z"
   },
   {
    "duration": 3774,
    "start_time": "2021-09-13T19:18:15.410Z"
   },
   {
    "duration": 20472,
    "start_time": "2021-09-13T19:19:24.514Z"
   },
   {
    "duration": 32197,
    "start_time": "2021-09-13T19:19:45.289Z"
   },
   {
    "duration": 4139,
    "start_time": "2021-09-13T19:20:19.434Z"
   },
   {
    "duration": 5692,
    "start_time": "2021-09-13T19:20:26.889Z"
   },
   {
    "duration": 11,
    "start_time": "2021-09-13T19:20:32.584Z"
   },
   {
    "duration": 39,
    "start_time": "2021-09-13T19:20:32.599Z"
   },
   {
    "duration": 36,
    "start_time": "2021-09-13T19:20:32.641Z"
   },
   {
    "duration": 21,
    "start_time": "2021-09-13T19:20:32.680Z"
   },
   {
    "duration": 6,
    "start_time": "2021-09-13T19:20:32.717Z"
   },
   {
    "duration": 6,
    "start_time": "2021-09-13T19:20:32.726Z"
   },
   {
    "duration": 4,
    "start_time": "2021-09-13T19:20:32.736Z"
   },
   {
    "duration": 79,
    "start_time": "2021-09-13T19:20:32.743Z"
   },
   {
    "duration": 8,
    "start_time": "2021-09-13T19:20:32.825Z"
   },
   {
    "duration": 84,
    "start_time": "2021-09-13T19:20:32.835Z"
   },
   {
    "duration": 144,
    "start_time": "2021-09-13T19:20:32.923Z"
   },
   {
    "duration": 47,
    "start_time": "2021-09-13T19:20:33.069Z"
   },
   {
    "duration": 8,
    "start_time": "2021-09-13T19:20:33.118Z"
   },
   {
    "duration": 10,
    "start_time": "2021-09-13T19:20:33.129Z"
   },
   {
    "duration": 8,
    "start_time": "2021-09-13T19:20:33.219Z"
   },
   {
    "duration": 200014,
    "start_time": "2021-09-13T19:20:33.230Z"
   },
   {
    "duration": 171,
    "start_time": "2021-09-13T19:23:53.247Z"
   },
   {
    "duration": 732,
    "start_time": "2021-09-13T19:23:53.420Z"
   },
   {
    "duration": 5136,
    "start_time": "2021-09-13T19:25:41.199Z"
   },
   {
    "duration": 12,
    "start_time": "2021-09-13T19:25:46.338Z"
   },
   {
    "duration": 48,
    "start_time": "2021-09-13T19:25:46.353Z"
   },
   {
    "duration": 39,
    "start_time": "2021-09-13T19:25:46.404Z"
   },
   {
    "duration": 21,
    "start_time": "2021-09-13T19:25:46.446Z"
   },
   {
    "duration": 11,
    "start_time": "2021-09-13T19:25:46.470Z"
   },
   {
    "duration": 17,
    "start_time": "2021-09-13T19:25:46.483Z"
   },
   {
    "duration": 15,
    "start_time": "2021-09-13T19:25:46.504Z"
   },
   {
    "duration": 50,
    "start_time": "2021-09-13T19:25:46.522Z"
   },
   {
    "duration": 7,
    "start_time": "2021-09-13T19:25:46.574Z"
   },
   {
    "duration": 39,
    "start_time": "2021-09-13T19:25:46.583Z"
   },
   {
    "duration": 213,
    "start_time": "2021-09-13T19:25:46.626Z"
   },
   {
    "duration": 31,
    "start_time": "2021-09-13T19:25:46.841Z"
   },
   {
    "duration": 45,
    "start_time": "2021-09-13T19:25:46.874Z"
   },
   {
    "duration": 20,
    "start_time": "2021-09-13T19:25:46.921Z"
   },
   {
    "duration": 77,
    "start_time": "2021-09-13T19:25:46.944Z"
   },
   {
    "duration": 199920,
    "start_time": "2021-09-13T19:25:47.023Z"
   },
   {
    "duration": 174,
    "start_time": "2021-09-13T19:29:06.947Z"
   },
   {
    "duration": 862,
    "start_time": "2021-09-13T19:29:07.124Z"
   },
   {
    "duration": 10257,
    "start_time": "2021-09-14T19:54:56.280Z"
   },
   {
    "duration": 13455,
    "start_time": "2021-09-14T19:55:06.836Z"
   },
   {
    "duration": 9629,
    "start_time": "2021-09-14T19:55:25.897Z"
   },
   {
    "duration": 9,
    "start_time": "2021-09-14T19:55:35.529Z"
   },
   {
    "duration": 29,
    "start_time": "2021-09-14T19:55:35.543Z"
   },
   {
    "duration": 23,
    "start_time": "2021-09-14T19:55:35.575Z"
   },
   {
    "duration": 33,
    "start_time": "2021-09-14T19:55:35.600Z"
   },
   {
    "duration": 6,
    "start_time": "2021-09-14T19:55:35.635Z"
   },
   {
    "duration": 7,
    "start_time": "2021-09-14T19:55:35.643Z"
   },
   {
    "duration": 4,
    "start_time": "2021-09-14T19:55:35.654Z"
   },
   {
    "duration": 94,
    "start_time": "2021-09-14T19:55:35.660Z"
   },
   {
    "duration": 8,
    "start_time": "2021-09-14T19:55:35.756Z"
   },
   {
    "duration": 53,
    "start_time": "2021-09-14T19:55:35.766Z"
   },
   {
    "duration": 124,
    "start_time": "2021-09-14T19:55:35.825Z"
   },
   {
    "duration": 83,
    "start_time": "2021-09-14T19:55:35.951Z"
   },
   {
    "duration": 8,
    "start_time": "2021-09-14T19:55:36.036Z"
   },
   {
    "duration": 71,
    "start_time": "2021-09-14T19:55:36.046Z"
   },
   {
    "duration": 98,
    "start_time": "2021-09-14T19:55:36.121Z"
   },
   {
    "duration": 202495,
    "start_time": "2021-09-14T19:55:36.222Z"
   },
   {
    "duration": 104,
    "start_time": "2021-09-14T19:58:58.720Z"
   },
   {
    "duration": 688,
    "start_time": "2021-09-14T19:58:58.826Z"
   },
   {
    "duration": 9066,
    "start_time": "2021-09-14T20:03:58.435Z"
   },
   {
    "duration": 10,
    "start_time": "2021-09-14T20:04:07.504Z"
   },
   {
    "duration": 31,
    "start_time": "2021-09-14T20:04:07.516Z"
   },
   {
    "duration": 24,
    "start_time": "2021-09-14T20:04:07.549Z"
   },
   {
    "duration": 26,
    "start_time": "2021-09-14T20:04:07.575Z"
   },
   {
    "duration": 15,
    "start_time": "2021-09-14T20:04:07.603Z"
   },
   {
    "duration": 6,
    "start_time": "2021-09-14T20:04:07.621Z"
   },
   {
    "duration": 4,
    "start_time": "2021-09-14T20:04:07.631Z"
   },
   {
    "duration": 97,
    "start_time": "2021-09-14T20:04:07.638Z"
   },
   {
    "duration": 9,
    "start_time": "2021-09-14T20:04:07.738Z"
   },
   {
    "duration": 69,
    "start_time": "2021-09-14T20:04:07.749Z"
   },
   {
    "duration": 126,
    "start_time": "2021-09-14T20:04:07.822Z"
   },
   {
    "duration": 83,
    "start_time": "2021-09-14T20:04:07.950Z"
   },
   {
    "duration": 8,
    "start_time": "2021-09-14T20:04:08.035Z"
   },
   {
    "duration": 14,
    "start_time": "2021-09-14T20:04:08.046Z"
   },
   {
    "duration": 8,
    "start_time": "2021-09-14T20:04:08.117Z"
   },
   {
    "duration": 201400,
    "start_time": "2021-09-14T20:04:08.217Z"
   },
   {
    "duration": 100,
    "start_time": "2021-09-14T20:07:29.620Z"
   },
   {
    "duration": 731,
    "start_time": "2021-09-14T20:07:29.722Z"
   },
   {
    "duration": 23925,
    "start_time": "2021-09-14T20:21:21.827Z"
   },
   {
    "duration": 10,
    "start_time": "2021-09-14T20:21:45.755Z"
   },
   {
    "duration": 31,
    "start_time": "2021-09-14T20:21:45.768Z"
   },
   {
    "duration": 26,
    "start_time": "2021-09-14T20:21:45.802Z"
   },
   {
    "duration": 19,
    "start_time": "2021-09-14T20:21:45.832Z"
   },
   {
    "duration": 6,
    "start_time": "2021-09-14T20:21:45.854Z"
   },
   {
    "duration": 7,
    "start_time": "2021-09-14T20:21:45.863Z"
   },
   {
    "duration": 47,
    "start_time": "2021-09-14T20:21:45.872Z"
   },
   {
    "duration": 58,
    "start_time": "2021-09-14T20:21:45.924Z"
   },
   {
    "duration": 31,
    "start_time": "2021-09-14T20:21:45.985Z"
   },
   {
    "duration": 16,
    "start_time": "2021-09-14T20:21:46.021Z"
   },
   {
    "duration": 206,
    "start_time": "2021-09-14T20:21:46.043Z"
   },
   {
    "duration": 73,
    "start_time": "2021-09-14T20:21:46.252Z"
   },
   {
    "duration": 11,
    "start_time": "2021-09-14T20:21:46.329Z"
   },
   {
    "duration": 75,
    "start_time": "2021-09-14T20:21:46.343Z"
   },
   {
    "duration": 8,
    "start_time": "2021-09-14T20:21:46.422Z"
   },
   {
    "duration": 206248,
    "start_time": "2021-09-14T20:21:46.433Z"
   },
   {
    "duration": 16,
    "start_time": "2021-09-14T20:25:12.718Z"
   },
   {
    "duration": 1086,
    "start_time": "2021-09-14T20:25:12.739Z"
   },
   {
    "duration": 5498,
    "start_time": "2021-09-14T23:10:31.870Z"
   },
   {
    "duration": 9,
    "start_time": "2021-09-14T23:10:37.371Z"
   },
   {
    "duration": 51,
    "start_time": "2021-09-14T23:10:37.386Z"
   },
   {
    "duration": 21,
    "start_time": "2021-09-14T23:10:37.439Z"
   },
   {
    "duration": 20,
    "start_time": "2021-09-14T23:10:37.463Z"
   },
   {
    "duration": 6,
    "start_time": "2021-09-14T23:10:37.485Z"
   },
   {
    "duration": 26,
    "start_time": "2021-09-14T23:10:37.494Z"
   },
   {
    "duration": 12,
    "start_time": "2021-09-14T23:10:37.523Z"
   },
   {
    "duration": 56,
    "start_time": "2021-09-14T23:10:37.537Z"
   },
   {
    "duration": 8,
    "start_time": "2021-09-14T23:10:37.615Z"
   },
   {
    "duration": 97,
    "start_time": "2021-09-14T23:10:37.625Z"
   },
   {
    "duration": 103,
    "start_time": "2021-09-14T23:10:37.725Z"
   },
   {
    "duration": 114,
    "start_time": "2021-09-14T23:10:37.831Z"
   },
   {
    "duration": 9,
    "start_time": "2021-09-14T23:10:37.947Z"
   },
   {
    "duration": 64,
    "start_time": "2021-09-14T23:10:37.958Z"
   },
   {
    "duration": 94,
    "start_time": "2021-09-14T23:10:38.025Z"
   },
   {
    "duration": 23429,
    "start_time": "2021-09-14T23:10:38.122Z"
   },
   {
    "duration": -46,
    "start_time": "2021-09-14T23:11:01.600Z"
   },
   {
    "duration": -49,
    "start_time": "2021-09-14T23:11:01.604Z"
   },
   {
    "duration": -50,
    "start_time": "2021-09-14T23:11:01.607Z"
   },
   {
    "duration": 5450,
    "start_time": "2021-09-14T23:11:08.130Z"
   },
   {
    "duration": 10,
    "start_time": "2021-09-14T23:11:13.582Z"
   },
   {
    "duration": 31,
    "start_time": "2021-09-14T23:11:13.595Z"
   },
   {
    "duration": 21,
    "start_time": "2021-09-14T23:11:13.629Z"
   },
   {
    "duration": 22,
    "start_time": "2021-09-14T23:11:13.653Z"
   },
   {
    "duration": 5,
    "start_time": "2021-09-14T23:11:13.678Z"
   },
   {
    "duration": 6,
    "start_time": "2021-09-14T23:11:13.686Z"
   },
   {
    "duration": 4,
    "start_time": "2021-09-14T23:11:13.696Z"
   },
   {
    "duration": 55,
    "start_time": "2021-09-14T23:11:13.702Z"
   },
   {
    "duration": 8,
    "start_time": "2021-09-14T23:11:13.759Z"
   },
   {
    "duration": 49,
    "start_time": "2021-09-14T23:11:13.769Z"
   },
   {
    "duration": 108,
    "start_time": "2021-09-14T23:11:13.822Z"
   },
   {
    "duration": 46,
    "start_time": "2021-09-14T23:11:13.933Z"
   },
   {
    "duration": 8,
    "start_time": "2021-09-14T23:11:13.981Z"
   },
   {
    "duration": 31,
    "start_time": "2021-09-14T23:11:13.991Z"
   },
   {
    "duration": 96,
    "start_time": "2021-09-14T23:11:14.026Z"
   },
   {
    "duration": 199920,
    "start_time": "2021-09-14T23:11:14.126Z"
   },
   {
    "duration": 99,
    "start_time": "2021-09-14T23:14:34.119Z"
   },
   {
    "duration": 973,
    "start_time": "2021-09-14T23:14:34.220Z"
   }
  ],
  "hide_input": false,
  "kernelspec": {
   "display_name": "Python 3",
   "language": "python",
   "name": "python3"
  },
  "language_info": {
   "codemirror_mode": {
    "name": "ipython",
    "version": 3
   },
   "file_extension": ".py",
   "mimetype": "text/x-python",
   "name": "python",
   "nbconvert_exporter": "python",
   "pygments_lexer": "ipython3",
   "version": "3.8.8"
  },
  "toc": {
   "base_numbering": 1,
   "nav_menu": {},
   "number_sections": true,
   "sideBar": true,
   "skip_h1_title": true,
   "title_cell": "Содержание",
   "title_sidebar": "Contents",
   "toc_cell": true,
   "toc_position": {},
   "toc_section_display": true,
   "toc_window_display": false
  }
 },
 "nbformat": 4,
 "nbformat_minor": 2
}
