{
 "cells": [
  {
   "cell_type": "markdown",
   "metadata": {
    "toc": true
   },
   "source": [
    "<h1>Содержание<span class=\"tocSkip\"></span></h1>\n",
    "<div class=\"toc\"><ul class=\"toc-item\"><li><span><a href=\"#Описание-проекта\" data-toc-modified-id=\"Описание-проекта-1\"><span class=\"toc-item-num\">1&nbsp;&nbsp;</span>Описание проекта</a></span></li><li><span><a href=\"#Описание-данных\" data-toc-modified-id=\"Описание-данных-2\"><span class=\"toc-item-num\">2&nbsp;&nbsp;</span>Описание данных</a></span></li><li><span><a href=\"#Загрузка-и-подготовка-данных\" data-toc-modified-id=\"Загрузка-и-подготовка-данных-3\"><span class=\"toc-item-num\">3&nbsp;&nbsp;</span>Загрузка и подготовка данных</a></span><ul class=\"toc-item\"><li><span><a href=\"#Загрузка-данных\" data-toc-modified-id=\"Загрузка-данных-3.1\"><span class=\"toc-item-num\">3.1&nbsp;&nbsp;</span>Загрузка данных</a></span></li><li><span><a href=\"#Предобработка-данных\" data-toc-modified-id=\"Предобработка-данных-3.2\"><span class=\"toc-item-num\">3.2&nbsp;&nbsp;</span>Предобработка данных</a></span><ul class=\"toc-item\"><li><span><a href=\"#Целевой-признак-Price\" data-toc-modified-id=\"Целевой-признак-Price-3.2.1\"><span class=\"toc-item-num\">3.2.1&nbsp;&nbsp;</span>Целевой признак Price</a></span></li><li><span><a href=\"#Признаки-DateCrawled,-DateCreated,-LastSeen\" data-toc-modified-id=\"Признаки-DateCrawled,-DateCreated,-LastSeen-3.2.2\"><span class=\"toc-item-num\">3.2.2&nbsp;&nbsp;</span>Признаки DateCrawled, DateCreated, LastSeen</a></span></li><li><span><a href=\"#Признаки-RegistrationYear,-RegistrationMonth\" data-toc-modified-id=\"Признаки-RegistrationYear,-RegistrationMonth-3.2.3\"><span class=\"toc-item-num\">3.2.3&nbsp;&nbsp;</span>Признаки RegistrationYear, RegistrationMonth</a></span></li><li><span><a href=\"#Признак-VehicleType,-Brand,-Model\" data-toc-modified-id=\"Признак-VehicleType,-Brand,-Model-3.2.4\"><span class=\"toc-item-num\">3.2.4&nbsp;&nbsp;</span>Признак VehicleType, Brand, Model</a></span></li><li><span><a href=\"#Признаки-Gearbox,-FuelType,-Power\" data-toc-modified-id=\"Признаки-Gearbox,-FuelType,-Power-3.2.5\"><span class=\"toc-item-num\">3.2.5&nbsp;&nbsp;</span>Признаки Gearbox, FuelType, Power</a></span></li><li><span><a href=\"#Признаки-Kilometer,-NotRepaired\" data-toc-modified-id=\"Признаки-Kilometer,-NotRepaired-3.2.6\"><span class=\"toc-item-num\">3.2.6&nbsp;&nbsp;</span>Признаки Kilometer, NotRepaired</a></span></li><li><span><a href=\"#Признаки-NumberOfPictures,-PostalCode\" data-toc-modified-id=\"Признаки-NumberOfPictures,-PostalCode-3.2.7\"><span class=\"toc-item-num\">3.2.7&nbsp;&nbsp;</span>Признаки NumberOfPictures, PostalCode</a></span></li><li><span><a href=\"#Проверка-признаков-на-мультиколлинеарность\" data-toc-modified-id=\"Проверка-признаков-на-мультиколлинеарность-3.2.8\"><span class=\"toc-item-num\">3.2.8&nbsp;&nbsp;</span>Проверка признаков на мультиколлинеарность</a></span></li><li><span><a href=\"#Кодирование-признаков\" data-toc-modified-id=\"Кодирование-признаков-3.2.9\"><span class=\"toc-item-num\">3.2.9&nbsp;&nbsp;</span>Кодирование признаков</a></span></li><li><span><a href=\"#Обучающая-и-тестовая-выборки\" data-toc-modified-id=\"Обучающая-и-тестовая-выборки-3.2.10\"><span class=\"toc-item-num\">3.2.10&nbsp;&nbsp;</span>Обучающая и тестовая выборки</a></span></li><li><span><a href=\"#Масштабирование-признаков\" data-toc-modified-id=\"Масштабирование-признаков-3.2.11\"><span class=\"toc-item-num\">3.2.11&nbsp;&nbsp;</span>Масштабирование признаков</a></span></li></ul></li></ul></li><li><span><a href=\"#Обучение-моделей\" data-toc-modified-id=\"Обучение-моделей-4\"><span class=\"toc-item-num\">4&nbsp;&nbsp;</span>Обучение моделей</a></span><ul class=\"toc-item\"><li><span><a href=\"#Регрессор-на-основе-случайного-леса-RandomForestRegressor\" data-toc-modified-id=\"Регрессор-на-основе-случайного-леса-RandomForestRegressor-4.1\"><span class=\"toc-item-num\">4.1&nbsp;&nbsp;</span>Регрессор на основе случайного леса RandomForestRegressor</a></span></li><li><span><a href=\"#Линейная-регрессия-LinearRegression-на-преобразованных-признаках\" data-toc-modified-id=\"Линейная-регрессия-LinearRegression-на-преобразованных-признаках-4.2\"><span class=\"toc-item-num\">4.2&nbsp;&nbsp;</span>Линейная регрессия LinearRegression на преобразованных признаках</a></span></li><li><span><a href=\"#Регрессионная-модель-с-L2-регуляризацией-Ridge-на-преобразованных-признаках\" data-toc-modified-id=\"Регрессионная-модель-с-L2-регуляризацией-Ridge-на-преобразованных-признаках-4.3\"><span class=\"toc-item-num\">4.3&nbsp;&nbsp;</span>Регрессионная модель с L2-регуляризацией Ridge на преобразованных признаках</a></span></li><li><span><a href=\"#Градиентный-бустинг-LGBMRegressor-на-преобразованных-признаках\" data-toc-modified-id=\"Градиентный-бустинг-LGBMRegressor-на-преобразованных-признаках-4.4\"><span class=\"toc-item-num\">4.4&nbsp;&nbsp;</span>Градиентный бустинг LGBMRegressor на преобразованных признаках</a></span></li><li><span><a href=\"#Градиентный-бустинг-LGBMRegressor-на-непреобразованных-данных\" data-toc-modified-id=\"Градиентный-бустинг-LGBMRegressor-на-непреобразованных-данных-4.5\"><span class=\"toc-item-num\">4.5&nbsp;&nbsp;</span>Градиентный бустинг LGBMRegressor на непреобразованных данных</a></span></li><li><span><a href=\"#Градиентный-бустинг-CatBoostRegressor-на-непреобразованных-данных\" data-toc-modified-id=\"Градиентный-бустинг-CatBoostRegressor-на-непреобразованных-данных-4.6\"><span class=\"toc-item-num\">4.6&nbsp;&nbsp;</span>Градиентный бустинг CatBoostRegressor на непреобразованных данных</a></span></li><li><span><a href=\"#Примитивный-регрессор-DummyRegressor\" data-toc-modified-id=\"Примитивный-регрессор-DummyRegressor-4.7\"><span class=\"toc-item-num\">4.7&nbsp;&nbsp;</span>Примитивный регрессор DummyRegressor</a></span></li></ul></li><li><span><a href=\"#Анализ-моделей\" data-toc-modified-id=\"Анализ-моделей-5\"><span class=\"toc-item-num\">5&nbsp;&nbsp;</span>Анализ моделей</a></span></li><li><span><a href=\"#Вывод\" data-toc-modified-id=\"Вывод-6\"><span class=\"toc-item-num\">6&nbsp;&nbsp;</span>Вывод</a></span></li><li><span><a href=\"#Чек-лист-проверки\" data-toc-modified-id=\"Чек-лист-проверки-7\"><span class=\"toc-item-num\">7&nbsp;&nbsp;</span>Чек-лист проверки</a></span></li></ul></div>"
   ]
  },
  {
   "cell_type": "markdown",
   "metadata": {},
   "source": [
    "# Определение стоимости автомобилей"
   ]
  },
  {
   "cell_type": "markdown",
   "metadata": {},
   "source": [
    "## Описание проекта"
   ]
  },
  {
   "cell_type": "markdown",
   "metadata": {},
   "source": [
    "Сервис по продаже автомобилей с пробегом «Не бит, не крашен» разрабатывает приложение для привлечения новых клиентов. В нём можно быстро узнать рыночную стоимость своего автомобиля. В вашем распоряжении исторические данные: технические характеристики, комплектации и цены автомобилей. Вам нужно построить модель для определения стоимости. \n",
    "\n",
    "Заказчику важны:\n",
    "\n",
    "- качество предсказания;\n",
    "- скорость предсказания;\n",
    "- время обучения."
   ]
  },
  {
   "cell_type": "markdown",
   "metadata": {
    "ExecuteTime": {
     "end_time": "2021-09-26T12:00:03.439228Z",
     "start_time": "2021-09-26T12:00:03.420870Z"
    }
   },
   "source": [
    "## Описание данных"
   ]
  },
  {
   "cell_type": "markdown",
   "metadata": {},
   "source": [
    "Признаки:\n",
    "- **DateCrawled** — дата скачивания анкеты из базы;\n",
    "- **VehicleType** — тип автомобильного кузова;\n",
    "- **RegistrationYear** — год регистрации автомобиля;\n",
    "- **Gearbox** — тип коробки передач;\n",
    "- **Power** — мощность (л. с.);\n",
    "- **Model** — модель автомобиля;\n",
    "- **Kilometer** — пробег (км);\n",
    "- **RegistrationMonth** — месяц регистрации автомобиля;\n",
    "- **FuelType** — тип топлива;\n",
    "- **Brand** — марка автомобиля;\n",
    "- **NotRepaired** — была машина в ремонте или нет;\n",
    "- **DateCreated** — дата создания анкеты;\n",
    "- **NumberOfPictures** — количество фотографий автомобиля;\n",
    "- **PostalCode** — почтовый индекс владельца анкеты (пользователя);\n",
    "- **LastSeen** — дата последней активности пользователя.\n",
    "\n",
    "Целевой признак:\n",
    "- **Price** — цена (евро)."
   ]
  },
  {
   "cell_type": "markdown",
   "metadata": {},
   "source": [
    "## Загрузка и подготовка данных"
   ]
  },
  {
   "cell_type": "markdown",
   "metadata": {},
   "source": [
    "### Загрузка данных"
   ]
  },
  {
   "cell_type": "code",
   "execution_count": 1,
   "metadata": {
    "ExecuteTime": {
     "end_time": "2021-10-16T13:31:14.411677Z",
     "start_time": "2021-10-16T13:31:12.338719Z"
    }
   },
   "outputs": [],
   "source": [
    "#!pip install scikit-learn==0.24.2\n",
    "#!pip install pandas==1.3.2\n",
    "#!pip install numpy==1.20.3\n",
    "#!pip install matplotlib==3.4.2\n",
    "#!pip install seaborn==0.11.2\n",
    "\n",
    "import warnings\n",
    "warnings.filterwarnings(\"ignore\")\n",
    "from IPython.core.display import display, HTML\n",
    "import html\n",
    "\n",
    "import timeit\n",
    "\n",
    "import matplotlib.pyplot as plt\n",
    "import matplotlib.ticker as mticker\n",
    "import seaborn as sns\n",
    "\n",
    "import numpy as np\n",
    "import pandas as pd\n",
    "pd.options.mode.chained_assignment = None\n",
    "pd.options.display.max_rows = None\n",
    "pd.options.display.max_columns = None\n",
    "\n",
    "from sklearn.model_selection import train_test_split\n",
    "from sklearn.preprocessing import StandardScaler\n",
    "from sklearn.preprocessing import OrdinalEncoder\n",
    "from sklearn.model_selection import GridSearchCV\n",
    "from sklearn.dummy import DummyRegressor\n",
    "from sklearn.ensemble import RandomForestRegressor\n",
    "from sklearn.linear_model import LinearRegression\n",
    "from sklearn.linear_model import Ridge\n",
    "from sklearn.metrics import mean_squared_error\n",
    "\n",
    "from lightgbm import LGBMRegressor\n",
    "\n",
    "from catboost import CatBoostRegressor"
   ]
  },
  {
   "cell_type": "code",
   "execution_count": 2,
   "metadata": {
    "ExecuteTime": {
     "end_time": "2021-10-16T13:31:14.431192Z",
     "start_time": "2021-10-16T13:31:14.412659Z"
    }
   },
   "outputs": [],
   "source": [
    "def df_info(data_frame, nulls_percentage_round=1, deep_memory_usage=False):\n",
    "    '''\n",
    "    Выводит на экран общую информацию о таблице\n",
    "    Входные параметры:\n",
    "        data_frame             — таблица типа pd.DataFrame;\n",
    "        nulls_percentage_round — знак, до которого происходит округление в столбце nulls_percentage отображаемой таблицы;\n",
    "        deep_memory_usage      — глубокий анализ используемой памяти\n",
    "    '''\n",
    "    assert isinstance(data_frame, pd.DataFrame), 'Аргумент data_frame должен иметь тип pd.DataFrame'\n",
    "    t = pd.concat(\n",
    "        [\n",
    "         \n",
    "            data_frame.isna().sum().to_frame('nulls_count'),\n",
    "            (100 * data_frame.isna().sum() / len(data_frame)).round(nulls_percentage_round).to_frame('nulls_percentage'),\n",
    "            data_frame.dtypes.to_frame('dtype')\n",
    "        ],\n",
    "        axis=1\n",
    "    )\n",
    "    s = 'dtypes:'\n",
    "    c = data_frame.dtypes.value_counts()\n",
    "    for i in c.index:\n",
    "        s += ' {0}({1})'.format(i, c[i])\n",
    "    m = data_frame.memory_usage(deep=deep_memory_usage).sum()\n",
    "    if int(m / 1024 ** 3):\n",
    "        d, b = 1024 ** 3, 'GB'\n",
    "    elif int(m / 1024 ** 2):\n",
    "        d, b = 1024 ** 2, 'MB'\n",
    "    else:\n",
    "        d, b = 1024, 'KB'\n",
    "    print(t)\n",
    "    print('columns: ', data_frame.shape[1], ', rows: ', data_frame.shape[0], sep='')\n",
    "    print(s)\n",
    "    print('memory_usage: ', round(m / d, 1), '+ ' if not deep_memory_usage else ' ', b, sep='')"
   ]
  },
  {
   "cell_type": "code",
   "execution_count": 3,
   "metadata": {
    "ExecuteTime": {
     "end_time": "2021-10-16T13:31:17.166655Z",
     "start_time": "2021-10-16T13:31:14.434824Z"
    }
   },
   "outputs": [
    {
     "name": "stdout",
     "output_type": "stream",
     "text": [
      "Таблица autos из файла https://code.s3.yandex.net/datasets/autos.csv загружена в переменную autos\n"
     ]
    }
   ],
   "source": [
    "# Загрузка данных\n",
    "\n",
    "# Возможные пути расположения файлов\n",
    "filepaths = {\n",
    "    'autos': ['/datasets/autos.csv', './autos.csv', 'https://code.s3.yandex.net/datasets/autos.csv']\n",
    "}\n",
    "\n",
    "# Загрузка данных по первому существующему пути\n",
    "data_list = []\n",
    "for dfname in filepaths.keys():\n",
    "    for filepath in filepaths[dfname]:\n",
    "        try:\n",
    "            exec(dfname + ' = pd.read_csv(filepath)')\n",
    "            exec(dfname + f'.name = \"{dfname}\"')\n",
    "            exec(f'data_list.append({dfname})')\n",
    "            print('Таблица ' + dfname + ' из файла ' + filepath + ' загружена в переменную ' + dfname)\n",
    "            break\n",
    "        except Exception:\n",
    "            continue\n",
    "    else:\n",
    "        raise SystemExit('Файл с таблицей ' + dfname + ' не найден ни по одному из путей в списке filepaths')"
   ]
  },
  {
   "cell_type": "markdown",
   "metadata": {
    "ExecuteTime": {
     "end_time": "2021-09-26T12:42:37.067801Z",
     "start_time": "2021-09-26T12:42:37.052444Z"
    }
   },
   "source": [
    "Ознакомимся с загруженными данными.\n",
    "\n",
    "Выведем количество строк и столбцов (признаков) загруженной таблицы."
   ]
  },
  {
   "cell_type": "code",
   "execution_count": 4,
   "metadata": {
    "ExecuteTime": {
     "end_time": "2021-10-16T13:31:17.182225Z",
     "start_time": "2021-10-16T13:31:17.169020Z"
    }
   },
   "outputs": [
    {
     "data": {
      "text/plain": [
       "(354369, 16)"
      ]
     },
     "execution_count": 4,
     "metadata": {},
     "output_type": "execute_result"
    }
   ],
   "source": [
    "autos.shape"
   ]
  },
  {
   "cell_type": "markdown",
   "metadata": {},
   "source": [
    "Отобразим первые 5 строк."
   ]
  },
  {
   "cell_type": "code",
   "execution_count": 5,
   "metadata": {
    "ExecuteTime": {
     "end_time": "2021-10-16T13:31:17.214402Z",
     "start_time": "2021-10-16T13:31:17.183227Z"
    }
   },
   "outputs": [
    {
     "data": {
      "text/html": [
       "<div>\n",
       "<style scoped>\n",
       "    .dataframe tbody tr th:only-of-type {\n",
       "        vertical-align: middle;\n",
       "    }\n",
       "\n",
       "    .dataframe tbody tr th {\n",
       "        vertical-align: top;\n",
       "    }\n",
       "\n",
       "    .dataframe thead th {\n",
       "        text-align: right;\n",
       "    }\n",
       "</style>\n",
       "<table border=\"1\" class=\"dataframe\">\n",
       "  <thead>\n",
       "    <tr style=\"text-align: right;\">\n",
       "      <th></th>\n",
       "      <th>DateCrawled</th>\n",
       "      <th>Price</th>\n",
       "      <th>VehicleType</th>\n",
       "      <th>RegistrationYear</th>\n",
       "      <th>Gearbox</th>\n",
       "      <th>Power</th>\n",
       "      <th>Model</th>\n",
       "      <th>Kilometer</th>\n",
       "      <th>RegistrationMonth</th>\n",
       "      <th>FuelType</th>\n",
       "      <th>Brand</th>\n",
       "      <th>NotRepaired</th>\n",
       "      <th>DateCreated</th>\n",
       "      <th>NumberOfPictures</th>\n",
       "      <th>PostalCode</th>\n",
       "      <th>LastSeen</th>\n",
       "    </tr>\n",
       "  </thead>\n",
       "  <tbody>\n",
       "    <tr>\n",
       "      <th>0</th>\n",
       "      <td>2016-03-24 11:52:17</td>\n",
       "      <td>480</td>\n",
       "      <td>NaN</td>\n",
       "      <td>1993</td>\n",
       "      <td>manual</td>\n",
       "      <td>0</td>\n",
       "      <td>golf</td>\n",
       "      <td>150000</td>\n",
       "      <td>0</td>\n",
       "      <td>petrol</td>\n",
       "      <td>volkswagen</td>\n",
       "      <td>NaN</td>\n",
       "      <td>2016-03-24 00:00:00</td>\n",
       "      <td>0</td>\n",
       "      <td>70435</td>\n",
       "      <td>2016-04-07 03:16:57</td>\n",
       "    </tr>\n",
       "    <tr>\n",
       "      <th>1</th>\n",
       "      <td>2016-03-24 10:58:45</td>\n",
       "      <td>18300</td>\n",
       "      <td>coupe</td>\n",
       "      <td>2011</td>\n",
       "      <td>manual</td>\n",
       "      <td>190</td>\n",
       "      <td>NaN</td>\n",
       "      <td>125000</td>\n",
       "      <td>5</td>\n",
       "      <td>gasoline</td>\n",
       "      <td>audi</td>\n",
       "      <td>yes</td>\n",
       "      <td>2016-03-24 00:00:00</td>\n",
       "      <td>0</td>\n",
       "      <td>66954</td>\n",
       "      <td>2016-04-07 01:46:50</td>\n",
       "    </tr>\n",
       "    <tr>\n",
       "      <th>2</th>\n",
       "      <td>2016-03-14 12:52:21</td>\n",
       "      <td>9800</td>\n",
       "      <td>suv</td>\n",
       "      <td>2004</td>\n",
       "      <td>auto</td>\n",
       "      <td>163</td>\n",
       "      <td>grand</td>\n",
       "      <td>125000</td>\n",
       "      <td>8</td>\n",
       "      <td>gasoline</td>\n",
       "      <td>jeep</td>\n",
       "      <td>NaN</td>\n",
       "      <td>2016-03-14 00:00:00</td>\n",
       "      <td>0</td>\n",
       "      <td>90480</td>\n",
       "      <td>2016-04-05 12:47:46</td>\n",
       "    </tr>\n",
       "    <tr>\n",
       "      <th>3</th>\n",
       "      <td>2016-03-17 16:54:04</td>\n",
       "      <td>1500</td>\n",
       "      <td>small</td>\n",
       "      <td>2001</td>\n",
       "      <td>manual</td>\n",
       "      <td>75</td>\n",
       "      <td>golf</td>\n",
       "      <td>150000</td>\n",
       "      <td>6</td>\n",
       "      <td>petrol</td>\n",
       "      <td>volkswagen</td>\n",
       "      <td>no</td>\n",
       "      <td>2016-03-17 00:00:00</td>\n",
       "      <td>0</td>\n",
       "      <td>91074</td>\n",
       "      <td>2016-03-17 17:40:17</td>\n",
       "    </tr>\n",
       "    <tr>\n",
       "      <th>4</th>\n",
       "      <td>2016-03-31 17:25:20</td>\n",
       "      <td>3600</td>\n",
       "      <td>small</td>\n",
       "      <td>2008</td>\n",
       "      <td>manual</td>\n",
       "      <td>69</td>\n",
       "      <td>fabia</td>\n",
       "      <td>90000</td>\n",
       "      <td>7</td>\n",
       "      <td>gasoline</td>\n",
       "      <td>skoda</td>\n",
       "      <td>no</td>\n",
       "      <td>2016-03-31 00:00:00</td>\n",
       "      <td>0</td>\n",
       "      <td>60437</td>\n",
       "      <td>2016-04-06 10:17:21</td>\n",
       "    </tr>\n",
       "  </tbody>\n",
       "</table>\n",
       "</div>"
      ],
      "text/plain": [
       "           DateCrawled  Price VehicleType  RegistrationYear Gearbox  Power  \\\n",
       "0  2016-03-24 11:52:17    480         NaN              1993  manual      0   \n",
       "1  2016-03-24 10:58:45  18300       coupe              2011  manual    190   \n",
       "2  2016-03-14 12:52:21   9800         suv              2004    auto    163   \n",
       "3  2016-03-17 16:54:04   1500       small              2001  manual     75   \n",
       "4  2016-03-31 17:25:20   3600       small              2008  manual     69   \n",
       "\n",
       "   Model  Kilometer  RegistrationMonth  FuelType       Brand NotRepaired  \\\n",
       "0   golf     150000                  0    petrol  volkswagen         NaN   \n",
       "1    NaN     125000                  5  gasoline        audi         yes   \n",
       "2  grand     125000                  8  gasoline        jeep         NaN   \n",
       "3   golf     150000                  6    petrol  volkswagen          no   \n",
       "4  fabia      90000                  7  gasoline       skoda          no   \n",
       "\n",
       "           DateCreated  NumberOfPictures  PostalCode             LastSeen  \n",
       "0  2016-03-24 00:00:00                 0       70435  2016-04-07 03:16:57  \n",
       "1  2016-03-24 00:00:00                 0       66954  2016-04-07 01:46:50  \n",
       "2  2016-03-14 00:00:00                 0       90480  2016-04-05 12:47:46  \n",
       "3  2016-03-17 00:00:00                 0       91074  2016-03-17 17:40:17  \n",
       "4  2016-03-31 00:00:00                 0       60437  2016-04-06 10:17:21  "
      ]
     },
     "execution_count": 5,
     "metadata": {},
     "output_type": "execute_result"
    }
   ],
   "source": [
    "autos.head(5)"
   ]
  },
  {
   "cell_type": "markdown",
   "metadata": {
    "ExecuteTime": {
     "end_time": "2021-09-26T13:17:07.042427Z",
     "start_time": "2021-09-26T13:17:07.023606Z"
    }
   },
   "source": [
    "Подсчитаем количество и долю пропусков для разных признаков и изучим их типы данных."
   ]
  },
  {
   "cell_type": "code",
   "execution_count": 6,
   "metadata": {
    "ExecuteTime": {
     "end_time": "2021-10-16T13:31:17.486709Z",
     "start_time": "2021-10-16T13:31:17.216371Z"
    }
   },
   "outputs": [
    {
     "name": "stdout",
     "output_type": "stream",
     "text": [
      "                   nulls_count  nulls_percentage   dtype\n",
      "DateCrawled                  0               0.0  object\n",
      "Price                        0               0.0   int64\n",
      "VehicleType              37490              10.6  object\n",
      "RegistrationYear             0               0.0   int64\n",
      "Gearbox                  19833               5.6  object\n",
      "Power                        0               0.0   int64\n",
      "Model                    19705               5.6  object\n",
      "Kilometer                    0               0.0   int64\n",
      "RegistrationMonth            0               0.0   int64\n",
      "FuelType                 32895               9.3  object\n",
      "Brand                        0               0.0  object\n",
      "NotRepaired              71154              20.1  object\n",
      "DateCreated                  0               0.0  object\n",
      "NumberOfPictures             0               0.0   int64\n",
      "PostalCode                   0               0.0   int64\n",
      "LastSeen                     0               0.0  object\n",
      "columns: 16, rows: 354369\n",
      "dtypes: object(9) int64(7)\n",
      "memory_usage: 43.3+ MB\n"
     ]
    }
   ],
   "source": [
    "df_info(autos)"
   ]
  },
  {
   "cell_type": "markdown",
   "metadata": {},
   "source": [
    "### Предобработка данных"
   ]
  },
  {
   "cell_type": "markdown",
   "metadata": {},
   "source": [
    "#### Целевой признак Price"
   ]
  },
  {
   "cell_type": "markdown",
   "metadata": {},
   "source": [
    "Данный количественный признак не содержит пропусков. Выведем для него описательную статистику."
   ]
  },
  {
   "cell_type": "code",
   "execution_count": 7,
   "metadata": {
    "ExecuteTime": {
     "end_time": "2021-10-16T13:31:17.501636Z",
     "start_time": "2021-10-16T13:31:17.487647Z"
    }
   },
   "outputs": [
    {
     "data": {
      "text/plain": [
       "count    354369.000000\n",
       "mean       4416.656776\n",
       "std        4514.158514\n",
       "min           0.000000\n",
       "25%        1050.000000\n",
       "50%        2700.000000\n",
       "75%        6400.000000\n",
       "max       20000.000000\n",
       "Name: Price, dtype: float64"
      ]
     },
     "execution_count": 7,
     "metadata": {},
     "output_type": "execute_result"
    }
   ],
   "source": [
    "autos.Price.describe()"
   ]
  },
  {
   "cell_type": "markdown",
   "metadata": {
    "ExecuteTime": {
     "end_time": "2021-09-27T00:32:32.712012Z",
     "start_time": "2021-09-27T00:32:32.697318Z"
    }
   },
   "source": [
    "Минимальная цена равна 0 евро. Подсчитаем количество объявлений с такими ценам и их долю."
   ]
  },
  {
   "cell_type": "code",
   "execution_count": 8,
   "metadata": {
    "ExecuteTime": {
     "end_time": "2021-10-16T13:31:17.518529Z",
     "start_time": "2021-10-16T13:31:17.502707Z"
    }
   },
   "outputs": [
    {
     "data": {
      "text/plain": [
       "'10772 шт., 3.04%'"
      ]
     },
     "execution_count": 8,
     "metadata": {},
     "output_type": "execute_result"
    }
   ],
   "source": [
    "f'{(autos.Price == 0).sum()} шт., {(autos.Price == 0).sum() / len(autos):.2%}'"
   ]
  },
  {
   "cell_type": "markdown",
   "metadata": {},
   "source": [
    "Построим и проанализируем гистограмму значений цены."
   ]
  },
  {
   "cell_type": "code",
   "execution_count": 9,
   "metadata": {
    "ExecuteTime": {
     "end_time": "2021-10-16T13:31:17.866719Z",
     "start_time": "2021-10-16T13:31:17.519163Z"
    }
   },
   "outputs": [
    {
     "data": {
      "image/png": "[encoded data removed]",
      "text/plain": [
       "<Figure size 1152x288 with 1 Axes>"
      ]
     },
     "metadata": {
      "needs_background": "light"
     },
     "output_type": "display_data"
    }
   ],
   "source": [
    "ax = autos.Price.plot.hist(bins=100, grid=True, figsize=(16,4), title='Распределение цены на автомобиль');\n",
    "ax.set_xlabel('Цена, евро');\n",
    "ax.set_ylabel('Количество объявлений');"
   ]
  },
  {
   "cell_type": "markdown",
   "metadata": {},
   "source": [
    "Гистограмма имеет странную периодическую структуру, причина которой не ясна. Признак содержит много нулевых и околонулевых значений.\n",
    "\n",
    "Построим аналогичное распределение для диапазона цен от 0 до 100 евро."
   ]
  },
  {
   "cell_type": "code",
   "execution_count": 10,
   "metadata": {
    "ExecuteTime": {
     "end_time": "2021-10-16T13:31:18.014832Z",
     "start_time": "2021-10-16T13:31:17.866719Z"
    }
   },
   "outputs": [
    {
     "data": {
      "image/png": "[encoded data removed]",
      "text/plain": [
       "<Figure size 1152x288 with 1 Axes>"
      ]
     },
     "metadata": {
      "needs_background": "light"
     },
     "output_type": "display_data"
    }
   ],
   "source": [
    "ax = autos[autos.Price <= 100].Price.plot.hist(\\\n",
    "    bins=10, grid=True, figsize=(16,4), title='Распределение цены на автомобиль');\n",
    "ax.set_xlabel('Цена, евро');\n",
    "ax.set_ylabel('Количество объявлений');"
   ]
  },
  {
   "cell_type": "markdown",
   "metadata": {},
   "source": [
    "Можно предположить, что нулевые значений цены объясняются незаполнением графы \"стоимость\" при оформлении объявления. С другой стороны, это могут быть разбитые/сгоревшие/утопленные машины, которые владелец готов отдать даром при оплате транспортных расходов. Но тогда что-то их слишком много... Малые значения цен могу объясняться тем, что пользователь указал цену в тысячах евро. Важность подобных объектов необходимо дополнительно обсудить с заказчиком."
   ]
  },
  {
   "cell_type": "markdown",
   "metadata": {},
   "source": [
    "#### Признаки DateCrawled, DateCreated, LastSeen"
   ]
  },
  {
   "cell_type": "markdown",
   "metadata": {
    "ExecuteTime": {
     "end_time": "2021-09-26T15:41:55.832169Z",
     "start_time": "2021-09-26T15:41:55.818692Z"
    }
   },
   "source": [
    "Столбец **DateCrawled** содержит дату скачивания анкеты автомобиля из базы в строковом формате и не имеет пропусков. Выведем самую раннюю и самую позднюю даты в этом столбце."
   ]
  },
  {
   "cell_type": "code",
   "execution_count": 11,
   "metadata": {
    "ExecuteTime": {
     "end_time": "2021-10-16T13:31:18.254952Z",
     "start_time": "2021-10-16T13:31:18.014832Z"
    }
   },
   "outputs": [
    {
     "data": {
      "text/plain": [
       "(Timestamp('2016-03-05 14:06:22'), Timestamp('2016-04-07 14:36:58'))"
      ]
     },
     "execution_count": 11,
     "metadata": {},
     "output_type": "execute_result"
    }
   ],
   "source": [
    "autos['DateCrawled'] = pd.to_datetime(autos.DateCrawled, format='%Y-%m-%d %H:%M:%S')\n",
    "autos['DateCrawled'].min(), autos['DateCrawled'].max()"
   ]
  },
  {
   "cell_type": "markdown",
   "metadata": {
    "ExecuteTime": {
     "end_time": "2021-09-27T00:24:19.776833Z",
     "start_time": "2021-09-27T00:24:19.763102Z"
    }
   },
   "source": [
    "Набор данных был сформирован в 2016 году. Признак **DateCrawled** не относится к признакам, влияющим на цену автомобиля. Удалим его из набор данных."
   ]
  },
  {
   "cell_type": "code",
   "execution_count": 12,
   "metadata": {
    "ExecuteTime": {
     "end_time": "2021-10-16T13:31:18.270812Z",
     "start_time": "2021-10-16T13:31:18.256036Z"
    }
   },
   "outputs": [],
   "source": [
    "del autos['DateCrawled']"
   ]
  },
  {
   "cell_type": "markdown",
   "metadata": {},
   "source": [
    "Дата и время создания анкеты пользователем **DateCreated** и последней его активности **LastSeen** могут коррелировать с ценой. Данные признаки не содержат пропусков и имеют строковый тип.\n",
    "\n",
    "Введем новый признак \"период активности пользователя с момента создания анкеты в днях\" **ActivityDays**, вычисляемый как разность **LastSeen** и **DateCreated**. Признак **LastSeen** удалим."
   ]
  },
  {
   "cell_type": "code",
   "execution_count": 13,
   "metadata": {
    "ExecuteTime": {
     "end_time": "2021-10-16T13:31:18.570715Z",
     "start_time": "2021-10-16T13:31:18.270812Z"
    },
    "code_folding": []
   },
   "outputs": [],
   "source": [
    "autos['ActivityDays'] = (pd.to_datetime(autos.LastSeen, format='%Y-%m-%d %H:%M:%S')\\\n",
    "    - pd.to_datetime(autos.DateCreated, format='%Y-%m-%d %H:%M:%S')).dt.days\n",
    "del autos['LastSeen']"
   ]
  },
  {
   "cell_type": "markdown",
   "metadata": {},
   "source": [
    "Описательная статистика для **ActivityDays**."
   ]
  },
  {
   "cell_type": "code",
   "execution_count": 14,
   "metadata": {
    "ExecuteTime": {
     "end_time": "2021-10-16T13:31:18.586057Z",
     "start_time": "2021-10-16T13:31:18.571619Z"
    }
   },
   "outputs": [
    {
     "data": {
      "text/plain": [
       "count    354369.000000\n",
       "mean          8.677974\n",
       "std           8.639404\n",
       "min           0.000000\n",
       "25%           2.000000\n",
       "50%           6.000000\n",
       "75%          13.000000\n",
       "max         759.000000\n",
       "Name: ActivityDays, dtype: float64"
      ]
     },
     "execution_count": 14,
     "metadata": {},
     "output_type": "execute_result"
    }
   ],
   "source": [
    "autos.ActivityDays.describe()"
   ]
  },
  {
   "cell_type": "markdown",
   "metadata": {},
   "source": [
    "Отрицательных значений нет. А кто-то продавал (продает) машину больше года.\n",
    "\n",
    "Преобразуем тип признака **DateCreated** в тип данных для хранения даты datetime.date."
   ]
  },
  {
   "cell_type": "code",
   "execution_count": 15,
   "metadata": {
    "ExecuteTime": {
     "end_time": "2021-10-16T13:31:18.733681Z",
     "start_time": "2021-10-16T13:31:18.586559Z"
    }
   },
   "outputs": [],
   "source": [
    "autos.DateCreated = pd.to_datetime(autos.DateCreated, format='%Y-%m-%d %H:%M:%S').dt.date"
   ]
  },
  {
   "cell_type": "markdown",
   "metadata": {},
   "source": [
    "#### Признаки RegistrationYear, RegistrationMonth"
   ]
  },
  {
   "cell_type": "markdown",
   "metadata": {},
   "source": [
    "Признаки имеют целочисленный тип и не содержат пропусков. Выведем уникальные значения для **RegistrationYear**."
   ]
  },
  {
   "cell_type": "code",
   "execution_count": 16,
   "metadata": {
    "ExecuteTime": {
     "end_time": "2021-10-16T13:31:18.750712Z",
     "start_time": "2021-10-16T13:31:18.734714Z"
    }
   },
   "outputs": [
    {
     "data": {
      "text/plain": [
       "array([1993, 2011, 2004, 2001, 2008, 1995, 1980, 2014, 1998, 2005, 1910,\n",
       "       2016, 2007, 2009, 2002, 2018, 1997, 1990, 2017, 1981, 2003, 1994,\n",
       "       1991, 1984, 2006, 1999, 2012, 2010, 2000, 1992, 2013, 1996, 1985,\n",
       "       1989, 2015, 1982, 1976, 1983, 1973, 1111, 1969, 1971, 1987, 1986,\n",
       "       1988, 1970, 1965, 1945, 1925, 1974, 1979, 1955, 1978, 1972, 1968,\n",
       "       1977, 1961, 1960, 1966, 1975, 1963, 1964, 5000, 1954, 1958, 1967,\n",
       "       1959, 9999, 1956, 3200, 1000, 1941, 8888, 1500, 2200, 4100, 1962,\n",
       "       1929, 1957, 1940, 3000, 2066, 1949, 2019, 1937, 1951, 1800, 1953,\n",
       "       1234, 8000, 5300, 9000, 2900, 6000, 5900, 5911, 1933, 1400, 1950,\n",
       "       4000, 1948, 1952, 1200, 8500, 1932, 1255, 3700, 3800, 4800, 1942,\n",
       "       7000, 1935, 1936, 6500, 1923, 2290, 2500, 1930, 1001, 9450, 1944,\n",
       "       1943, 1934, 1938, 1688, 2800, 1253, 1928, 1919, 5555, 5600, 1600,\n",
       "       2222, 1039, 9996, 1300, 8455, 1931, 1915, 4500, 1920, 1602, 7800,\n",
       "       9229, 1947, 1927, 7100, 8200, 1946, 7500, 3500], dtype=int64)"
      ]
     },
     "execution_count": 16,
     "metadata": {},
     "output_type": "execute_result"
    }
   ],
   "source": [
    "autos.RegistrationYear.unique()"
   ]
  },
  {
   "cell_type": "markdown",
   "metadata": {},
   "source": [
    "Сохраним копию набора данных."
   ]
  },
  {
   "cell_type": "code",
   "execution_count": 17,
   "metadata": {
    "ExecuteTime": {
     "end_time": "2021-10-16T13:31:18.766787Z",
     "start_time": "2021-10-16T13:31:18.750712Z"
    }
   },
   "outputs": [],
   "source": [
    "autos_copy = autos.copy()"
   ]
  },
  {
   "cell_type": "markdown",
   "metadata": {},
   "source": [
    "Год регистрации авто имеет аномальные значения. Построим диаграмму распределения количества анкет по годам за последние 100 лет."
   ]
  },
  {
   "cell_type": "code",
   "execution_count": 18,
   "metadata": {
    "ExecuteTime": {
     "end_time": "2021-10-16T13:31:22.378934Z",
     "start_time": "2021-10-16T13:31:18.766787Z"
    }
   },
   "outputs": [
    {
     "data": {
      "image/png": "[encoded data removed]",
      "text/plain": [
       "<Figure size 1152x576 with 2 Axes>"
      ]
     },
     "metadata": {
      "needs_background": "light"
     },
     "output_type": "display_data"
    }
   ],
   "source": [
    "fig, (ax1, ax2) = plt.subplots(2, 1, figsize=(16, 8))\n",
    "autos.RegistrationYear[(autos.RegistrationYear >= 1920) & (autos.RegistrationYear <= 2020)]\\\n",
    "    .value_counts().sort_index()\\\n",
    "    .plot.bar(ax=ax1, x='index', grid='on', title='Распределение количества анкет по годам');\n",
    "ax1.set_xlabel('Год');\n",
    "ax1.set_ylabel('Количество объявлений');\n",
    "ax2 = autos.RegistrationYear[(autos.RegistrationYear >= 1920) & (autos.RegistrationYear <= 2020)]\\\n",
    "    .value_counts().sort_index()\\\n",
    "    .plot.bar(x='index', grid='on', logy=True, title='Распределение количества анкет по годам (логарифмический масштаб)');\n",
    "ax2.set_xlabel('Год');\n",
    "ax2.set_ylabel('Количество объявлений');\n",
    "fig.tight_layout()"
   ]
  },
  {
   "cell_type": "markdown",
   "metadata": {
    "ExecuteTime": {
     "end_time": "2021-09-27T15:01:47.376524Z",
     "start_time": "2021-09-27T15:01:47.347384Z"
    }
   },
   "source": [
    "На первой гистограмме можно заметить, что для машин с годом регистрации от 1990-го начинается заметный прирост количества объявлений. Вычислим количество автомобилей с годом регистрации с 1920 по 1990 годы."
   ]
  },
  {
   "cell_type": "code",
   "execution_count": 19,
   "metadata": {
    "ExecuteTime": {
     "end_time": "2021-10-16T13:31:22.409418Z",
     "start_time": "2021-10-16T13:31:22.379911Z"
    }
   },
   "outputs": [
    {
     "data": {
      "text/plain": [
       "9500"
      ]
     },
     "execution_count": 19,
     "metadata": {},
     "output_type": "execute_result"
    }
   ],
   "source": [
    "len(autos[(autos.RegistrationYear >= 1920) & (autos.RegistrationYear < 1990)])"
   ]
  },
  {
   "cell_type": "markdown",
   "metadata": {},
   "source": [
    "Вычислим количеств объявлений с годом регистрации, выходящим за пределы периода с 1920 по 2020 годы."
   ]
  },
  {
   "cell_type": "code",
   "execution_count": 20,
   "metadata": {
    "ExecuteTime": {
     "end_time": "2021-10-16T13:31:22.429868Z",
     "start_time": "2021-10-16T13:31:22.410691Z"
    }
   },
   "outputs": [
    {
     "data": {
      "text/plain": [
       "274"
      ]
     },
     "execution_count": 20,
     "metadata": {},
     "output_type": "execute_result"
    }
   ],
   "source": [
    "len(autos[(autos.RegistrationYear < 1920) | (autos.RegistrationYear > 2020)])"
   ]
  },
  {
   "cell_type": "markdown",
   "metadata": {},
   "source": [
    "Количество объявлений с годом регистрации с 1990 по 2020."
   ]
  },
  {
   "cell_type": "code",
   "execution_count": 21,
   "metadata": {
    "ExecuteTime": {
     "end_time": "2021-10-16T13:31:22.493624Z",
     "start_time": "2021-10-16T13:31:22.430709Z"
    }
   },
   "outputs": [
    {
     "data": {
      "text/plain": [
       "344595"
      ]
     },
     "execution_count": 21,
     "metadata": {},
     "output_type": "execute_result"
    }
   ],
   "source": [
    "len(autos[(autos.RegistrationYear >= 1990) & (autos.RegistrationYear <= 2020)])"
   ]
  },
  {
   "cell_type": "markdown",
   "metadata": {
    "ExecuteTime": {
     "end_time": "2021-09-27T15:09:41.099930Z",
     "start_time": "2021-09-27T15:09:41.090386Z"
    }
   },
   "source": [
    "Точная причина возникновения аномальных значений не ясна. Так как, скорее всего, разрабатываемый алгоритм будет предсказывать цены для на подержаные автомобили массового сегмента (раритетные и коллекционный образцы слишком редки для формирования обучающей выборки). Удалим из выборки все объявления с годом регистрации, лежащим за пределами диапазона [1990, 2020]."
   ]
  },
  {
   "cell_type": "code",
   "execution_count": 22,
   "metadata": {
    "ExecuteTime": {
     "end_time": "2021-10-16T13:31:22.562699Z",
     "start_time": "2021-10-16T13:31:22.495244Z"
    }
   },
   "outputs": [],
   "source": [
    "autos.drop(autos[(autos.RegistrationYear < 1920) | (autos.RegistrationYear > 2020)].index, inplace=True)"
   ]
  },
  {
   "cell_type": "markdown",
   "metadata": {
    "ExecuteTime": {
     "end_time": "2021-09-27T22:08:47.736403Z",
     "start_time": "2021-09-27T22:08:47.726414Z"
    }
   },
   "source": [
    "Рассмотрим уникальные значения признака **RegistrationMonth**."
   ]
  },
  {
   "cell_type": "code",
   "execution_count": 23,
   "metadata": {
    "ExecuteTime": {
     "end_time": "2021-10-16T13:31:22.578703Z",
     "start_time": "2021-10-16T13:31:22.566085Z"
    }
   },
   "outputs": [
    {
     "data": {
      "text/plain": [
       "array([ 0,  5,  8,  6,  7, 10, 12, 11,  2,  3,  1,  4,  9], dtype=int64)"
      ]
     },
     "execution_count": 23,
     "metadata": {},
     "output_type": "execute_result"
    }
   ],
   "source": [
    "autos.RegistrationMonth.unique()"
   ]
  },
  {
   "cell_type": "markdown",
   "metadata": {},
   "source": [
    "Настораживает 0-й месяц. Можно предположить, что такое значение признак принимает при незаполнении пользователем соответствующего поля формы анкеты. Подсчитаем количество таких значений и их долю."
   ]
  },
  {
   "cell_type": "code",
   "execution_count": 24,
   "metadata": {
    "ExecuteTime": {
     "end_time": "2021-10-16T13:31:22.596932Z",
     "start_time": "2021-10-16T13:31:22.578703Z"
    }
   },
   "outputs": [
    {
     "data": {
      "text/plain": [
       "'37144 шт., 10.49%'"
      ]
     },
     "execution_count": 24,
     "metadata": {},
     "output_type": "execute_result"
    }
   ],
   "source": [
    "f'{(autos.RegistrationMonth == 0).sum()} шт., {(autos.RegistrationMonth == 0).sum() / len(autos):.2%}'"
   ]
  },
  {
   "cell_type": "markdown",
   "metadata": {},
   "source": [
    "Процент 0 значений **RegistrationMonth** достаточно велик. Добавим в набор данных признак \"Период владения автомобилем в днях\" **UsageDays**, вычисляемый как разница между сроком создания анкеты **DateCreated** и датой регистрации авто. За неимением данных будем считать 0-й месяц эквивалентом регистрации автомобиля в самом начале года."
   ]
  },
  {
   "cell_type": "code",
   "execution_count": 25,
   "metadata": {
    "ExecuteTime": {
     "end_time": "2021-10-16T13:32:28.502434Z",
     "start_time": "2021-10-16T13:31:22.598721Z"
    },
    "scrolled": true
   },
   "outputs": [],
   "source": [
    "def calculateUsageDays(x):\n",
    "    if x.RegistrationMonth == 0:\n",
    "        return\\\n",
    "            (\n",
    "                pd.to_datetime(x.DateCreated, format='%Y-%m-%d %H:%M:%S', errors='ignore')\\\n",
    "                - pd.to_datetime(x.RegistrationYear, format='%Y', errors='ignore')\n",
    "            ).days\n",
    "    return\\\n",
    "        (\n",
    "            pd.to_datetime(x.DateCreated, format='%Y%m%d %H:%M:%S', errors='ignore')\\\n",
    "            - pd.to_datetime(str(x.RegistrationYear) + '-' + str(x.RegistrationMonth), format='%Y-%m', errors='ignore')\n",
    "        ).days\n",
    "\n",
    "autos['UsageDays'] = autos.apply(calculateUsageDays, axis=1)\n",
    "\n",
    "del calculateUsageDays"
   ]
  },
  {
   "cell_type": "markdown",
   "metadata": {},
   "source": [
    "Проанализируем вычисленные значения."
   ]
  },
  {
   "cell_type": "code",
   "execution_count": 26,
   "metadata": {
    "ExecuteTime": {
     "end_time": "2021-10-16T13:32:28.517711Z",
     "start_time": "2021-10-16T13:32:28.503433Z"
    }
   },
   "outputs": [
    {
     "data": {
      "text/plain": [
       "count    354095.000000\n",
       "mean       4640.713882\n",
       "std        2698.262136\n",
       "min       -1344.000000\n",
       "25%        2994.000000\n",
       "50%        4659.000000\n",
       "75%        6186.000000\n",
       "max       35134.000000\n",
       "Name: UsageDays, dtype: float64"
      ]
     },
     "execution_count": 26,
     "metadata": {},
     "output_type": "execute_result"
    }
   ],
   "source": [
    "autos['UsageDays'].describe()"
   ]
  },
  {
   "cell_type": "code",
   "execution_count": 27,
   "metadata": {
    "ExecuteTime": {
     "end_time": "2021-10-16T13:32:28.532838Z",
     "start_time": "2021-10-16T13:32:28.519071Z"
    }
   },
   "outputs": [
    {
     "data": {
      "text/plain": [
       "19655"
      ]
     },
     "execution_count": 27,
     "metadata": {},
     "output_type": "execute_result"
    }
   ],
   "source": [
    "(autos['UsageDays'] < 0).sum()"
   ]
  },
  {
   "cell_type": "markdown",
   "metadata": {},
   "source": [
    "Вычисленный признак **UsageDays** имеет много непонятных отрицательных значений."
   ]
  },
  {
   "cell_type": "code",
   "execution_count": 28,
   "metadata": {
    "ExecuteTime": {
     "end_time": "2021-10-16T13:32:28.597984Z",
     "start_time": "2021-10-16T13:32:28.534427Z"
    }
   },
   "outputs": [
    {
     "data": {
      "text/html": [
       "<div>\n",
       "<style scoped>\n",
       "    .dataframe tbody tr th:only-of-type {\n",
       "        vertical-align: middle;\n",
       "    }\n",
       "\n",
       "    .dataframe tbody tr th {\n",
       "        vertical-align: top;\n",
       "    }\n",
       "\n",
       "    .dataframe thead th {\n",
       "        text-align: right;\n",
       "    }\n",
       "</style>\n",
       "<table border=\"1\" class=\"dataframe\">\n",
       "  <thead>\n",
       "    <tr style=\"text-align: right;\">\n",
       "      <th></th>\n",
       "      <th>Price</th>\n",
       "      <th>VehicleType</th>\n",
       "      <th>RegistrationYear</th>\n",
       "      <th>Gearbox</th>\n",
       "      <th>Power</th>\n",
       "      <th>Model</th>\n",
       "      <th>Kilometer</th>\n",
       "      <th>RegistrationMonth</th>\n",
       "      <th>FuelType</th>\n",
       "      <th>Brand</th>\n",
       "      <th>NotRepaired</th>\n",
       "      <th>DateCreated</th>\n",
       "      <th>NumberOfPictures</th>\n",
       "      <th>PostalCode</th>\n",
       "      <th>ActivityDays</th>\n",
       "      <th>UsageDays</th>\n",
       "    </tr>\n",
       "  </thead>\n",
       "  <tbody>\n",
       "    <tr>\n",
       "      <th>22</th>\n",
       "      <td>2900</td>\n",
       "      <td>NaN</td>\n",
       "      <td>2018</td>\n",
       "      <td>manual</td>\n",
       "      <td>90</td>\n",
       "      <td>meriva</td>\n",
       "      <td>150000</td>\n",
       "      <td>5</td>\n",
       "      <td>petrol</td>\n",
       "      <td>opel</td>\n",
       "      <td>no</td>\n",
       "      <td>2016-03-23</td>\n",
       "      <td>0</td>\n",
       "      <td>49716</td>\n",
       "      <td>8</td>\n",
       "      <td>-769</td>\n",
       "    </tr>\n",
       "    <tr>\n",
       "      <th>26</th>\n",
       "      <td>5555</td>\n",
       "      <td>NaN</td>\n",
       "      <td>2017</td>\n",
       "      <td>manual</td>\n",
       "      <td>125</td>\n",
       "      <td>c4</td>\n",
       "      <td>125000</td>\n",
       "      <td>4</td>\n",
       "      <td>NaN</td>\n",
       "      <td>citroen</td>\n",
       "      <td>no</td>\n",
       "      <td>2016-03-10</td>\n",
       "      <td>0</td>\n",
       "      <td>31139</td>\n",
       "      <td>6</td>\n",
       "      <td>-387</td>\n",
       "    </tr>\n",
       "    <tr>\n",
       "      <th>31</th>\n",
       "      <td>899</td>\n",
       "      <td>NaN</td>\n",
       "      <td>2016</td>\n",
       "      <td>manual</td>\n",
       "      <td>60</td>\n",
       "      <td>clio</td>\n",
       "      <td>150000</td>\n",
       "      <td>6</td>\n",
       "      <td>petrol</td>\n",
       "      <td>renault</td>\n",
       "      <td>NaN</td>\n",
       "      <td>2016-03-29</td>\n",
       "      <td>0</td>\n",
       "      <td>37075</td>\n",
       "      <td>0</td>\n",
       "      <td>-64</td>\n",
       "    </tr>\n",
       "    <tr>\n",
       "      <th>35</th>\n",
       "      <td>350</td>\n",
       "      <td>NaN</td>\n",
       "      <td>2016</td>\n",
       "      <td>manual</td>\n",
       "      <td>75</td>\n",
       "      <td>golf</td>\n",
       "      <td>150000</td>\n",
       "      <td>4</td>\n",
       "      <td>petrol</td>\n",
       "      <td>volkswagen</td>\n",
       "      <td>no</td>\n",
       "      <td>2016-03-08</td>\n",
       "      <td>0</td>\n",
       "      <td>19386</td>\n",
       "      <td>0</td>\n",
       "      <td>-24</td>\n",
       "    </tr>\n",
       "    <tr>\n",
       "      <th>48</th>\n",
       "      <td>7750</td>\n",
       "      <td>NaN</td>\n",
       "      <td>2017</td>\n",
       "      <td>manual</td>\n",
       "      <td>80</td>\n",
       "      <td>golf</td>\n",
       "      <td>100000</td>\n",
       "      <td>1</td>\n",
       "      <td>petrol</td>\n",
       "      <td>volkswagen</td>\n",
       "      <td>NaN</td>\n",
       "      <td>2016-03-25</td>\n",
       "      <td>0</td>\n",
       "      <td>48499</td>\n",
       "      <td>6</td>\n",
       "      <td>-282</td>\n",
       "    </tr>\n",
       "  </tbody>\n",
       "</table>\n",
       "</div>"
      ],
      "text/plain": [
       "    Price VehicleType  RegistrationYear Gearbox  Power   Model  Kilometer  \\\n",
       "22   2900         NaN              2018  manual     90  meriva     150000   \n",
       "26   5555         NaN              2017  manual    125      c4     125000   \n",
       "31    899         NaN              2016  manual     60    clio     150000   \n",
       "35    350         NaN              2016  manual     75    golf     150000   \n",
       "48   7750         NaN              2017  manual     80    golf     100000   \n",
       "\n",
       "    RegistrationMonth FuelType       Brand NotRepaired DateCreated  \\\n",
       "22                  5   petrol        opel          no  2016-03-23   \n",
       "26                  4      NaN     citroen          no  2016-03-10   \n",
       "31                  6   petrol     renault         NaN  2016-03-29   \n",
       "35                  4   petrol  volkswagen          no  2016-03-08   \n",
       "48                  1   petrol  volkswagen         NaN  2016-03-25   \n",
       "\n",
       "    NumberOfPictures  PostalCode  ActivityDays  UsageDays  \n",
       "22                 0       49716             8       -769  \n",
       "26                 0       31139             6       -387  \n",
       "31                 0       37075             0        -64  \n",
       "35                 0       19386             0        -24  \n",
       "48                 0       48499             6       -282  "
      ]
     },
     "execution_count": 28,
     "metadata": {},
     "output_type": "execute_result"
    }
   ],
   "source": [
    "autos[autos['UsageDays'] < 0].head()"
   ]
  },
  {
   "cell_type": "markdown",
   "metadata": {
    "ExecuteTime": {
     "end_time": "2021-09-27T18:54:45.582527Z",
     "start_time": "2021-09-27T18:54:45.563842Z"
    }
   },
   "source": [
    "Короче,факир был пьян, фокус не удался."
   ]
  },
  {
   "cell_type": "code",
   "execution_count": 29,
   "metadata": {
    "ExecuteTime": {
     "end_time": "2021-10-16T13:32:28.645952Z",
     "start_time": "2021-10-16T13:32:28.599132Z"
    }
   },
   "outputs": [],
   "source": [
    "autos = autos_copy.copy()\n",
    "del autos_copy\n",
    "del autos['DateCreated']"
   ]
  },
  {
   "cell_type": "markdown",
   "metadata": {},
   "source": [
    "Для обучения моделей будем использовать только год регистрации автомобиля **RegistrationYear**."
   ]
  },
  {
   "cell_type": "code",
   "execution_count": 30,
   "metadata": {
    "ExecuteTime": {
     "end_time": "2021-10-16T13:32:28.661529Z",
     "start_time": "2021-10-16T13:32:28.647834Z"
    }
   },
   "outputs": [],
   "source": [
    "del autos['RegistrationMonth']"
   ]
  },
  {
   "cell_type": "code",
   "execution_count": 31,
   "metadata": {
    "ExecuteTime": {
     "end_time": "2021-10-16T13:32:28.676782Z",
     "start_time": "2021-10-16T13:32:28.663283Z"
    }
   },
   "outputs": [
    {
     "data": {
      "text/html": [
       "<div>\n",
       "<style scoped>\n",
       "    .dataframe tbody tr th:only-of-type {\n",
       "        vertical-align: middle;\n",
       "    }\n",
       "\n",
       "    .dataframe tbody tr th {\n",
       "        vertical-align: top;\n",
       "    }\n",
       "\n",
       "    .dataframe thead th {\n",
       "        text-align: right;\n",
       "    }\n",
       "</style>\n",
       "<table border=\"1\" class=\"dataframe\">\n",
       "  <thead>\n",
       "    <tr style=\"text-align: right;\">\n",
       "      <th></th>\n",
       "      <th>Price</th>\n",
       "      <th>VehicleType</th>\n",
       "      <th>RegistrationYear</th>\n",
       "      <th>Gearbox</th>\n",
       "      <th>Power</th>\n",
       "      <th>Model</th>\n",
       "      <th>Kilometer</th>\n",
       "      <th>FuelType</th>\n",
       "      <th>Brand</th>\n",
       "      <th>NotRepaired</th>\n",
       "      <th>NumberOfPictures</th>\n",
       "      <th>PostalCode</th>\n",
       "      <th>ActivityDays</th>\n",
       "    </tr>\n",
       "  </thead>\n",
       "  <tbody>\n",
       "    <tr>\n",
       "      <th>0</th>\n",
       "      <td>480</td>\n",
       "      <td>NaN</td>\n",
       "      <td>1993</td>\n",
       "      <td>manual</td>\n",
       "      <td>0</td>\n",
       "      <td>golf</td>\n",
       "      <td>150000</td>\n",
       "      <td>petrol</td>\n",
       "      <td>volkswagen</td>\n",
       "      <td>NaN</td>\n",
       "      <td>0</td>\n",
       "      <td>70435</td>\n",
       "      <td>14</td>\n",
       "    </tr>\n",
       "    <tr>\n",
       "      <th>1</th>\n",
       "      <td>18300</td>\n",
       "      <td>coupe</td>\n",
       "      <td>2011</td>\n",
       "      <td>manual</td>\n",
       "      <td>190</td>\n",
       "      <td>NaN</td>\n",
       "      <td>125000</td>\n",
       "      <td>gasoline</td>\n",
       "      <td>audi</td>\n",
       "      <td>yes</td>\n",
       "      <td>0</td>\n",
       "      <td>66954</td>\n",
       "      <td>14</td>\n",
       "    </tr>\n",
       "    <tr>\n",
       "      <th>2</th>\n",
       "      <td>9800</td>\n",
       "      <td>suv</td>\n",
       "      <td>2004</td>\n",
       "      <td>auto</td>\n",
       "      <td>163</td>\n",
       "      <td>grand</td>\n",
       "      <td>125000</td>\n",
       "      <td>gasoline</td>\n",
       "      <td>jeep</td>\n",
       "      <td>NaN</td>\n",
       "      <td>0</td>\n",
       "      <td>90480</td>\n",
       "      <td>22</td>\n",
       "    </tr>\n",
       "    <tr>\n",
       "      <th>3</th>\n",
       "      <td>1500</td>\n",
       "      <td>small</td>\n",
       "      <td>2001</td>\n",
       "      <td>manual</td>\n",
       "      <td>75</td>\n",
       "      <td>golf</td>\n",
       "      <td>150000</td>\n",
       "      <td>petrol</td>\n",
       "      <td>volkswagen</td>\n",
       "      <td>no</td>\n",
       "      <td>0</td>\n",
       "      <td>91074</td>\n",
       "      <td>0</td>\n",
       "    </tr>\n",
       "    <tr>\n",
       "      <th>4</th>\n",
       "      <td>3600</td>\n",
       "      <td>small</td>\n",
       "      <td>2008</td>\n",
       "      <td>manual</td>\n",
       "      <td>69</td>\n",
       "      <td>fabia</td>\n",
       "      <td>90000</td>\n",
       "      <td>gasoline</td>\n",
       "      <td>skoda</td>\n",
       "      <td>no</td>\n",
       "      <td>0</td>\n",
       "      <td>60437</td>\n",
       "      <td>6</td>\n",
       "    </tr>\n",
       "  </tbody>\n",
       "</table>\n",
       "</div>"
      ],
      "text/plain": [
       "   Price VehicleType  RegistrationYear Gearbox  Power  Model  Kilometer  \\\n",
       "0    480         NaN              1993  manual      0   golf     150000   \n",
       "1  18300       coupe              2011  manual    190    NaN     125000   \n",
       "2   9800         suv              2004    auto    163  grand     125000   \n",
       "3   1500       small              2001  manual     75   golf     150000   \n",
       "4   3600       small              2008  manual     69  fabia      90000   \n",
       "\n",
       "   FuelType       Brand NotRepaired  NumberOfPictures  PostalCode  \\\n",
       "0    petrol  volkswagen         NaN                 0       70435   \n",
       "1  gasoline        audi         yes                 0       66954   \n",
       "2  gasoline        jeep         NaN                 0       90480   \n",
       "3    petrol  volkswagen          no                 0       91074   \n",
       "4  gasoline       skoda          no                 0       60437   \n",
       "\n",
       "   ActivityDays  \n",
       "0            14  \n",
       "1            14  \n",
       "2            22  \n",
       "3             0  \n",
       "4             6  "
      ]
     },
     "execution_count": 31,
     "metadata": {},
     "output_type": "execute_result"
    }
   ],
   "source": [
    "autos.head()"
   ]
  },
  {
   "cell_type": "markdown",
   "metadata": {},
   "source": [
    "Данные заметно похорошели."
   ]
  },
  {
   "cell_type": "markdown",
   "metadata": {},
   "source": [
    "#### Признак VehicleType, Brand, Model"
   ]
  },
  {
   "cell_type": "markdown",
   "metadata": {},
   "source": [
    "Категориальный **VehicleType** признак содержит 37490 (10.6%) пропусков. Выведем его уникальные значения."
   ]
  },
  {
   "cell_type": "code",
   "execution_count": 32,
   "metadata": {
    "ExecuteTime": {
     "end_time": "2021-10-16T13:32:28.740667Z",
     "start_time": "2021-10-16T13:32:28.678283Z"
    },
    "scrolled": true
   },
   "outputs": [
    {
     "data": {
      "text/plain": [
       "sedan          91457\n",
       "small          79831\n",
       "wagon          65166\n",
       "NaN            37490\n",
       "bus            28775\n",
       "convertible    20203\n",
       "coupe          16163\n",
       "suv            11996\n",
       "other           3288\n",
       "Name: VehicleType, dtype: int64"
      ]
     },
     "execution_count": 32,
     "metadata": {},
     "output_type": "execute_result"
    }
   ],
   "source": [
    "autos.VehicleType.value_counts(dropna=False)"
   ]
  },
  {
   "cell_type": "markdown",
   "metadata": {
    "ExecuteTime": {
     "end_time": "2021-09-26T19:28:55.137646Z",
     "start_time": "2021-09-26T19:28:55.107546Z"
    }
   },
   "source": [
    "Введем категорию 'unknown' для пропусков в данном столбце."
   ]
  },
  {
   "cell_type": "code",
   "execution_count": 33,
   "metadata": {
    "ExecuteTime": {
     "end_time": "2021-10-16T13:32:28.772037Z",
     "start_time": "2021-10-16T13:32:28.741663Z"
    }
   },
   "outputs": [],
   "source": [
    "autos.VehicleType.fillna(value='unknown', inplace=True)"
   ]
  },
  {
   "cell_type": "markdown",
   "metadata": {},
   "source": [
    "Категориальный признак **Brand** не содержит пропусков. Подсчитаем количество уникальных марок автомобилей."
   ]
  },
  {
   "cell_type": "code",
   "execution_count": 34,
   "metadata": {
    "ExecuteTime": {
     "end_time": "2021-10-16T13:32:28.818311Z",
     "start_time": "2021-10-16T13:32:28.773021Z"
    }
   },
   "outputs": [
    {
     "data": {
      "text/plain": [
       "40"
      ]
     },
     "execution_count": 34,
     "metadata": {},
     "output_type": "execute_result"
    }
   ],
   "source": [
    "len(autos.Brand.value_counts())"
   ]
  },
  {
   "cell_type": "markdown",
   "metadata": {},
   "source": [
    "Отобразим их в виде списка."
   ]
  },
  {
   "cell_type": "code",
   "execution_count": 35,
   "metadata": {
    "ExecuteTime": {
     "end_time": "2021-10-16T13:32:28.882445Z",
     "start_time": "2021-10-16T13:32:28.818596Z"
    }
   },
   "outputs": [
    {
     "data": {
      "text/plain": [
       "alfa_romeo         2314\n",
       "audi              29456\n",
       "bmw               36914\n",
       "chevrolet          1754\n",
       "chrysler           1439\n",
       "citroen            5148\n",
       "dacia               900\n",
       "daewoo              542\n",
       "daihatsu            806\n",
       "fiat               9643\n",
       "ford              25179\n",
       "honda              2817\n",
       "hyundai            3587\n",
       "jaguar              505\n",
       "jeep                677\n",
       "kia                2465\n",
       "lada                225\n",
       "lancia              471\n",
       "land_rover          545\n",
       "mazda              5615\n",
       "mercedes_benz     32046\n",
       "mini               3202\n",
       "mitsubishi         3022\n",
       "nissan             4941\n",
       "opel              39931\n",
       "peugeot           10998\n",
       "porsche             758\n",
       "renault           17927\n",
       "rover               486\n",
       "saab                526\n",
       "seat               6907\n",
       "skoda              5500\n",
       "smart              5246\n",
       "sonstige_autos     3374\n",
       "subaru              762\n",
       "suzuki             2323\n",
       "toyota             4606\n",
       "trabant             589\n",
       "volkswagen        77013\n",
       "volvo              3210\n",
       "Name: Brand, dtype: int64"
      ]
     },
     "execution_count": 35,
     "metadata": {},
     "output_type": "execute_result"
    }
   ],
   "source": [
    "autos.Brand.value_counts().sort_index()"
   ]
  },
  {
   "cell_type": "markdown",
   "metadata": {},
   "source": [
    "Дубликатов нет.\n",
    " \n",
    "Категориальный признак **Model** содержит 19705 (5.6%) пропусков. Количество его уникальных значений."
   ]
  },
  {
   "cell_type": "code",
   "execution_count": 36,
   "metadata": {
    "ExecuteTime": {
     "end_time": "2021-10-16T13:32:28.934026Z",
     "start_time": "2021-10-16T13:32:28.884542Z"
    },
    "scrolled": true
   },
   "outputs": [
    {
     "data": {
      "text/plain": [
       "251"
      ]
     },
     "execution_count": 36,
     "metadata": {},
     "output_type": "execute_result"
    }
   ],
   "source": [
    "len(autos.Model.value_counts(dropna=False))"
   ]
  },
  {
   "cell_type": "markdown",
   "metadata": {},
   "source": [
    "Заменим пропуски на категорию 'unknown'."
   ]
  },
  {
   "cell_type": "code",
   "execution_count": 37,
   "metadata": {
    "ExecuteTime": {
     "end_time": "2021-10-16T13:32:28.966543Z",
     "start_time": "2021-10-16T13:32:28.936028Z"
    }
   },
   "outputs": [],
   "source": [
    "autos.Model.fillna('unknown', inplace=True)"
   ]
  },
  {
   "cell_type": "markdown",
   "metadata": {},
   "source": [
    "#### Признаки Gearbox, FuelType, Power "
   ]
  },
  {
   "cell_type": "markdown",
   "metadata": {},
   "source": [
    "Категориальный признак **Gearbox** имеет строковый тип. Выведем его уникальные значения."
   ]
  },
  {
   "cell_type": "code",
   "execution_count": 38,
   "metadata": {
    "ExecuteTime": {
     "end_time": "2021-10-16T13:32:28.997809Z",
     "start_time": "2021-10-16T13:32:28.966543Z"
    }
   },
   "outputs": [
    {
     "data": {
      "text/plain": [
       "array(['manual', 'auto', nan], dtype=object)"
      ]
     },
     "execution_count": 38,
     "metadata": {},
     "output_type": "execute_result"
    }
   ],
   "source": [
    "autos.Gearbox.unique()"
   ]
  },
  {
   "cell_type": "markdown",
   "metadata": {
    "ExecuteTime": {
     "end_time": "2021-09-27T20:57:09.172091Z",
     "start_time": "2021-09-27T20:57:09.167200Z"
    }
   },
   "source": [
    "Заменим пропуски на категорию 'unknown'."
   ]
  },
  {
   "cell_type": "code",
   "execution_count": 39,
   "metadata": {
    "ExecuteTime": {
     "end_time": "2021-10-16T13:32:29.028964Z",
     "start_time": "2021-10-16T13:32:28.998310Z"
    }
   },
   "outputs": [],
   "source": [
    "autos.Gearbox.fillna( 'unknown', inplace=True)"
   ]
  },
  {
   "cell_type": "markdown",
   "metadata": {
    "ExecuteTime": {
     "end_time": "2021-09-27T21:00:17.071470Z",
     "start_time": "2021-09-27T21:00:17.064587Z"
    }
   },
   "source": [
    "Проанализируем аналогичным образом категориальный признак **FuelType**."
   ]
  },
  {
   "cell_type": "code",
   "execution_count": 40,
   "metadata": {
    "ExecuteTime": {
     "end_time": "2021-10-16T13:32:29.062771Z",
     "start_time": "2021-10-16T13:32:29.030033Z"
    }
   },
   "outputs": [
    {
     "data": {
      "text/plain": [
       "array(['petrol', 'gasoline', nan, 'lpg', 'other', 'hybrid', 'cng',\n",
       "       'electric'], dtype=object)"
      ]
     },
     "execution_count": 40,
     "metadata": {},
     "output_type": "execute_result"
    }
   ],
   "source": [
    "autos.FuelType.unique()"
   ]
  },
  {
   "cell_type": "code",
   "execution_count": 41,
   "metadata": {
    "ExecuteTime": {
     "end_time": "2021-10-16T13:32:29.094727Z",
     "start_time": "2021-10-16T13:32:29.062771Z"
    }
   },
   "outputs": [],
   "source": [
    "autos.FuelType.fillna('unknown', inplace=True)"
   ]
  },
  {
   "cell_type": "markdown",
   "metadata": {},
   "source": [
    "Кроме того, виды топлива \"petrol\" и \"gasoline\" являются британским и американским названиями бензина. Заменим эти значения значением \"gas\"."
   ]
  },
  {
   "cell_type": "code",
   "execution_count": 42,
   "metadata": {
    "ExecuteTime": {
     "end_time": "2021-10-16T13:32:29.142150Z",
     "start_time": "2021-10-16T13:32:29.094727Z"
    }
   },
   "outputs": [
    {
     "data": {
      "text/plain": [
       "array(['gas', 'unknown', 'lpg', 'other', 'hybrid', 'cng', 'electric'],\n",
       "      dtype=object)"
      ]
     },
     "execution_count": 42,
     "metadata": {},
     "output_type": "execute_result"
    }
   ],
   "source": [
    "autos['FuelType'] = autos['FuelType'].where(~autos['FuelType'].isin(['petrol','gasoline']), 'gas')\n",
    "autos['FuelType'].unique()"
   ]
  },
  {
   "cell_type": "markdown",
   "metadata": {
    "ExecuteTime": {
     "end_time": "2021-09-27T21:36:10.334286Z",
     "start_time": "2021-09-27T21:36:10.326359Z"
    }
   },
   "source": [
    "Выведем описательную статистику для количественного признака **Power** и построим гистограмму."
   ]
  },
  {
   "cell_type": "code",
   "execution_count": 43,
   "metadata": {
    "ExecuteTime": {
     "end_time": "2021-10-16T13:32:29.158595Z",
     "start_time": "2021-10-16T13:32:29.142771Z"
    }
   },
   "outputs": [
    {
     "data": {
      "text/plain": [
       "count    354369.000000\n",
       "mean        110.094337\n",
       "std         189.850405\n",
       "min           0.000000\n",
       "25%          69.000000\n",
       "50%         105.000000\n",
       "75%         143.000000\n",
       "max       20000.000000\n",
       "Name: Power, dtype: float64"
      ]
     },
     "execution_count": 43,
     "metadata": {},
     "output_type": "execute_result"
    }
   ],
   "source": [
    "autos.Power.describe()"
   ]
  },
  {
   "cell_type": "code",
   "execution_count": 44,
   "metadata": {
    "ExecuteTime": {
     "end_time": "2021-10-16T13:32:29.777123Z",
     "start_time": "2021-10-16T13:32:29.158595Z"
    }
   },
   "outputs": [
    {
     "data": {
      "image/png": "[encoded data removed]",
      "text/plain": [
       "<Figure size 1152x288 with 1 Axes>"
      ]
     },
     "metadata": {
      "needs_background": "light"
     },
     "output_type": "display_data"
    }
   ],
   "source": [
    "ax = autos.Power.plot.hist(bins=100, logy=True, grid='on', title='Распределение мощности двигателя', figsize=(16,4));\n",
    "ax.set_xlabel('Мощность');\n",
    "ax.set_ylabel('Количество объявлений');"
   ]
  },
  {
   "cell_type": "markdown",
   "metadata": {
    "ExecuteTime": {
     "end_time": "2021-09-27T22:25:47.653926Z",
     "start_time": "2021-09-27T22:25:47.640244Z"
    }
   },
   "source": [
    "Подсчитаем количество объявлений с мощностью двигателя 0 л.с."
   ]
  },
  {
   "cell_type": "code",
   "execution_count": 45,
   "metadata": {
    "ExecuteTime": {
     "end_time": "2021-10-16T13:32:29.792675Z",
     "start_time": "2021-10-16T13:32:29.777892Z"
    }
   },
   "outputs": [
    {
     "data": {
      "text/plain": [
       "40225"
      ]
     },
     "execution_count": 45,
     "metadata": {},
     "output_type": "execute_result"
    }
   ],
   "source": [
    "(autos.Power == 0).sum()"
   ]
  },
  {
   "cell_type": "markdown",
   "metadata": {
    "ExecuteTime": {
     "end_time": "2021-09-27T22:30:22.726944Z",
     "start_time": "2021-09-27T22:30:22.711259Z"
    }
   },
   "source": [
    "Вероятно, это ошибки заполнения формы. К какому типу транспортного средства относятся эти объекты?"
   ]
  },
  {
   "cell_type": "code",
   "execution_count": 46,
   "metadata": {
    "ExecuteTime": {
     "end_time": "2021-10-16T13:32:29.823638Z",
     "start_time": "2021-10-16T13:32:29.793647Z"
    }
   },
   "outputs": [
    {
     "data": {
      "text/plain": [
       "array(['unknown', 'small', 'sedan', 'wagon', 'coupe', 'bus',\n",
       "       'convertible', 'other', 'suv'], dtype=object)"
      ]
     },
     "execution_count": 46,
     "metadata": {},
     "output_type": "execute_result"
    }
   ],
   "source": [
    "autos[autos.Power == 0].VehicleType.unique()"
   ]
  },
  {
   "cell_type": "markdown",
   "metadata": {},
   "source": [
    "Непонятно, встречаются ли на этом сайте прицепы, но седаны, купе, кабриолеты, автобусы и SUV не могут иметь 0 мощность."
   ]
  },
  {
   "cell_type": "markdown",
   "metadata": {},
   "source": [
    "Подсчитаем количество объявлений с мощностью двигателя больше 1000 л.с."
   ]
  },
  {
   "cell_type": "code",
   "execution_count": 47,
   "metadata": {
    "ExecuteTime": {
     "end_time": "2021-10-16T13:32:29.842793Z",
     "start_time": "2021-10-16T13:32:29.823638Z"
    }
   },
   "outputs": [
    {
     "data": {
      "text/plain": [
       "302"
      ]
     },
     "execution_count": 47,
     "metadata": {},
     "output_type": "execute_result"
    }
   ],
   "source": [
    "(autos.Power > 1000).sum()"
   ]
  },
  {
   "cell_type": "markdown",
   "metadata": {},
   "source": [
    "Типы траспортных средств с такой мощностью."
   ]
  },
  {
   "cell_type": "code",
   "execution_count": 48,
   "metadata": {
    "ExecuteTime": {
     "end_time": "2021-10-16T13:32:29.858634Z",
     "start_time": "2021-10-16T13:32:29.842793Z"
    }
   },
   "outputs": [
    {
     "data": {
      "text/plain": [
       "array(['small', 'sedan', 'wagon', 'unknown', 'bus', 'convertible', 'suv',\n",
       "       'other', 'coupe'], dtype=object)"
      ]
     },
     "execution_count": 48,
     "metadata": {},
     "output_type": "execute_result"
    }
   ],
   "source": [
    "autos[autos.Power > 1000].VehicleType.unique()"
   ]
  },
  {
   "cell_type": "markdown",
   "metadata": {
    "ExecuteTime": {
     "end_time": "2021-09-27T21:49:05.835452Z",
     "start_time": "2021-09-27T21:49:05.816362Z"
    }
   },
   "source": [
    "Автомобильные марки."
   ]
  },
  {
   "cell_type": "code",
   "execution_count": 49,
   "metadata": {
    "ExecuteTime": {
     "end_time": "2021-10-16T13:32:29.874334Z",
     "start_time": "2021-10-16T13:32:29.860967Z"
    }
   },
   "outputs": [
    {
     "data": {
      "text/plain": [
       "array(['toyota', 'opel', 'volkswagen', 'honda', 'ford', 'fiat', 'seat',\n",
       "       'bmw', 'nissan', 'mercedes_benz', 'citroen', 'lancia', 'volvo',\n",
       "       'chevrolet', 'mitsubishi', 'peugeot', 'smart', 'kia', 'audi',\n",
       "       'renault', 'chrysler', 'mazda', 'suzuki', 'sonstige_autos',\n",
       "       'skoda', 'mini', 'alfa_romeo', 'daewoo'], dtype=object)"
      ]
     },
     "execution_count": 49,
     "metadata": {},
     "output_type": "execute_result"
    }
   ],
   "source": [
    "autos[autos.Power > 1000].Brand.unique()"
   ]
  },
  {
   "cell_type": "markdown",
   "metadata": {
    "ExecuteTime": {
     "end_time": "2021-09-27T21:49:45.749096Z",
     "start_time": "2021-09-27T21:49:45.739256Z"
    }
   },
   "source": [
    "Типы топлива."
   ]
  },
  {
   "cell_type": "code",
   "execution_count": 50,
   "metadata": {
    "ExecuteTime": {
     "end_time": "2021-10-16T13:32:29.890164Z",
     "start_time": "2021-10-16T13:32:29.876347Z"
    }
   },
   "outputs": [
    {
     "data": {
      "text/plain": [
       "array(['gas', 'unknown', 'cng', 'lpg', 'other'], dtype=object)"
      ]
     },
     "execution_count": 50,
     "metadata": {},
     "output_type": "execute_result"
    }
   ],
   "source": [
    "autos[autos.Power > 1000].FuelType.unique()"
   ]
  },
  {
   "cell_type": "markdown",
   "metadata": {
    "ExecuteTime": {
     "end_time": "2021-09-27T21:50:45.036875Z",
     "start_time": "2021-09-27T21:50:45.026981Z"
    }
   },
   "source": [
    "Какое-то безумие.\n",
    "\n",
    "У редких гиперкаров мощность двигателя внутреннего сгорания превышает 800 л.с. И это точно не детища таких марок как Kia, Lancia, Toyota, Skoda... Некоторые экспериментальные электроавтомобили приближаются по своим мощностным показателям к 2000 л.с., но это тоже не массовый сегмент. Допустим, среди объявлений продаются редкие проекты с аппаратной и программной доработками мотора. Но это тоже выбросы. Удалим объекты с мощностью двигателя 0 л.с. и свыше 1000 л.с. как ошибки. "
   ]
  },
  {
   "cell_type": "code",
   "execution_count": 51,
   "metadata": {
    "ExecuteTime": {
     "end_time": "2021-10-16T13:32:29.938727Z",
     "start_time": "2021-10-16T13:32:29.891968Z"
    }
   },
   "outputs": [],
   "source": [
    "autos = autos[(autos.Power != 0) & (autos.Power <= 1000)]"
   ]
  },
  {
   "cell_type": "markdown",
   "metadata": {},
   "source": [
    "#### Признаки Kilometer, NotRepaired"
   ]
  },
  {
   "cell_type": "markdown",
   "metadata": {},
   "source": [
    "Количественный признак **Kilometer** не содержит пропусков. Его описательная статистика."
   ]
  },
  {
   "cell_type": "code",
   "execution_count": 52,
   "metadata": {
    "ExecuteTime": {
     "end_time": "2021-10-16T13:32:29.953962Z",
     "start_time": "2021-10-16T13:32:29.938727Z"
    }
   },
   "outputs": [
    {
     "data": {
      "text/plain": [
       "count    313842.000000\n",
       "mean     128492.027836\n",
       "std       36825.930366\n",
       "min        5000.000000\n",
       "25%      125000.000000\n",
       "50%      150000.000000\n",
       "75%      150000.000000\n",
       "max      150000.000000\n",
       "Name: Kilometer, dtype: float64"
      ]
     },
     "execution_count": 52,
     "metadata": {},
     "output_type": "execute_result"
    }
   ],
   "source": [
    "autos.Kilometer.describe()"
   ]
  },
  {
   "cell_type": "markdown",
   "metadata": {},
   "source": [
    "Пробег дан с шагом в 5000 км."
   ]
  },
  {
   "cell_type": "code",
   "execution_count": 53,
   "metadata": {
    "ExecuteTime": {
     "end_time": "2021-10-16T13:32:29.970832Z",
     "start_time": "2021-10-16T13:32:29.954323Z"
    }
   },
   "outputs": [
    {
     "data": {
      "text/plain": [
       "5000        3459\n",
       "10000        986\n",
       "20000       3463\n",
       "30000       4063\n",
       "40000       4627\n",
       "50000       5850\n",
       "60000       7011\n",
       "70000       8055\n",
       "80000       9385\n",
       "90000      10715\n",
       "100000     13389\n",
       "125000     33364\n",
       "150000    209475\n",
       "Name: Kilometer, dtype: int64"
      ]
     },
     "execution_count": 53,
     "metadata": {},
     "output_type": "execute_result"
    }
   ],
   "source": [
    "autos.Kilometer.value_counts(dropna=False).sort_index()"
   ]
  },
  {
   "cell_type": "markdown",
   "metadata": {
    "ExecuteTime": {
     "end_time": "2021-09-27T23:21:48.071520Z",
     "start_time": "2021-09-27T23:21:48.056900Z"
    }
   },
   "source": [
    "Аномалий нет."
   ]
  },
  {
   "cell_type": "markdown",
   "metadata": {},
   "source": [
    "Категориальный признак **NotRepaired** имеет самое большое количество пропусков, равное 71154 (20.1%)."
   ]
  },
  {
   "cell_type": "code",
   "execution_count": 54,
   "metadata": {
    "ExecuteTime": {
     "end_time": "2021-10-16T13:32:30.016174Z",
     "start_time": "2021-10-16T13:32:29.970832Z"
    }
   },
   "outputs": [
    {
     "data": {
      "text/plain": [
       "no     232974\n",
       "NaN     49633\n",
       "yes     31235\n",
       "Name: NotRepaired, dtype: int64"
      ]
     },
     "execution_count": 54,
     "metadata": {},
     "output_type": "execute_result"
    }
   ],
   "source": [
    "autos.NotRepaired.value_counts(dropna=False)"
   ]
  },
  {
   "cell_type": "markdown",
   "metadata": {},
   "source": [
    "Заменим пропуски на категорию 'unknown'."
   ]
  },
  {
   "cell_type": "code",
   "execution_count": 55,
   "metadata": {
    "ExecuteTime": {
     "end_time": "2021-10-16T13:32:30.047429Z",
     "start_time": "2021-10-16T13:32:30.017111Z"
    }
   },
   "outputs": [],
   "source": [
    "autos.NotRepaired.fillna('unknown', inplace=True)"
   ]
  },
  {
   "cell_type": "markdown",
   "metadata": {},
   "source": [
    "#### Признаки NumberOfPictures, PostalCode"
   ]
  },
  {
   "cell_type": "markdown",
   "metadata": {
    "ExecuteTime": {
     "end_time": "2021-09-27T23:30:35.462479Z",
     "start_time": "2021-09-27T23:30:35.448076Z"
    }
   },
   "source": [
    "Количественный признак **NumberOfPictures** не содержит пропусков. Выведем его описательную статистику. "
   ]
  },
  {
   "cell_type": "code",
   "execution_count": 56,
   "metadata": {
    "ExecuteTime": {
     "end_time": "2021-10-16T13:32:30.062806Z",
     "start_time": "2021-10-16T13:32:30.048412Z"
    }
   },
   "outputs": [
    {
     "data": {
      "text/plain": [
       "count    313842.0\n",
       "mean          0.0\n",
       "std           0.0\n",
       "min           0.0\n",
       "25%           0.0\n",
       "50%           0.0\n",
       "75%           0.0\n",
       "max           0.0\n",
       "Name: NumberOfPictures, dtype: float64"
      ]
     },
     "execution_count": 56,
     "metadata": {},
     "output_type": "execute_result"
    }
   ],
   "source": [
    "autos.NumberOfPictures.describe()"
   ]
  },
  {
   "cell_type": "markdown",
   "metadata": {
    "ExecuteTime": {
     "end_time": "2021-09-27T23:30:55.873494Z",
     "start_time": "2021-09-27T23:30:55.867630Z"
    }
   },
   "source": [
    "Все значения **NumberOfPictures** равны 0. Данный признак бесполезен и может быть удален."
   ]
  },
  {
   "cell_type": "code",
   "execution_count": 57,
   "metadata": {
    "ExecuteTime": {
     "end_time": "2021-10-16T13:32:30.078596Z",
     "start_time": "2021-10-16T13:32:30.063788Z"
    }
   },
   "outputs": [],
   "source": [
    "del autos['NumberOfPictures']"
   ]
  },
  {
   "cell_type": "markdown",
   "metadata": {},
   "source": [
    "Признак **PostalCode** является категориальным и имеет целочисленный формат. **PostalCode** насчитывает следующее количество уникальных значений."
   ]
  },
  {
   "cell_type": "code",
   "execution_count": 58,
   "metadata": {
    "ExecuteTime": {
     "end_time": "2021-10-16T13:32:30.094212Z",
     "start_time": "2021-10-16T13:32:30.078596Z"
    }
   },
   "outputs": [
    {
     "data": {
      "text/plain": [
       "8123"
      ]
     },
     "execution_count": 58,
     "metadata": {},
     "output_type": "execute_result"
    }
   ],
   "source": [
    "len(autos.PostalCode.unique())"
   ]
  },
  {
   "cell_type": "markdown",
   "metadata": {},
   "source": [
    "Можно предположить, что существует связь между городом и стоимостью автомобиля, но мы ничего не знаем о том, объявления граждан/подданных какой страны (или стран) попали в датасет. Судя по тому, что в признаке **FuelType** одновременно присутствуют значения **Petrol** и **Gasoline**, можно предположить, что в датасете собраны анкеты пользователей из нескольких англоязычных стран.\n",
    "\n",
    "Поэтому непонятно, как правильно расшифровывать почтовый индекс. Если оставить этот признак как есть, то на этапе кодирования категориальных признаков количество столбцов непозволительно возрастет.\n",
    "\n",
    "Удалим признак **PostalCode**."
   ]
  },
  {
   "cell_type": "code",
   "execution_count": 59,
   "metadata": {
    "ExecuteTime": {
     "end_time": "2021-10-16T13:32:30.109400Z",
     "start_time": "2021-10-16T13:32:30.095199Z"
    }
   },
   "outputs": [],
   "source": [
    "del autos['PostalCode']"
   ]
  },
  {
   "cell_type": "markdown",
   "metadata": {},
   "source": [
    "После предобработки данных таблица приобрела следующий вид."
   ]
  },
  {
   "cell_type": "code",
   "execution_count": 60,
   "metadata": {
    "ExecuteTime": {
     "end_time": "2021-10-16T13:32:30.125070Z",
     "start_time": "2021-10-16T13:32:30.110692Z"
    },
    "scrolled": true
   },
   "outputs": [
    {
     "data": {
      "text/html": [
       "<div>\n",
       "<style scoped>\n",
       "    .dataframe tbody tr th:only-of-type {\n",
       "        vertical-align: middle;\n",
       "    }\n",
       "\n",
       "    .dataframe tbody tr th {\n",
       "        vertical-align: top;\n",
       "    }\n",
       "\n",
       "    .dataframe thead th {\n",
       "        text-align: right;\n",
       "    }\n",
       "</style>\n",
       "<table border=\"1\" class=\"dataframe\">\n",
       "  <thead>\n",
       "    <tr style=\"text-align: right;\">\n",
       "      <th></th>\n",
       "      <th>Price</th>\n",
       "      <th>VehicleType</th>\n",
       "      <th>RegistrationYear</th>\n",
       "      <th>Gearbox</th>\n",
       "      <th>Power</th>\n",
       "      <th>Model</th>\n",
       "      <th>Kilometer</th>\n",
       "      <th>FuelType</th>\n",
       "      <th>Brand</th>\n",
       "      <th>NotRepaired</th>\n",
       "      <th>ActivityDays</th>\n",
       "    </tr>\n",
       "  </thead>\n",
       "  <tbody>\n",
       "    <tr>\n",
       "      <th>0</th>\n",
       "      <td>18300</td>\n",
       "      <td>coupe</td>\n",
       "      <td>2011</td>\n",
       "      <td>manual</td>\n",
       "      <td>190</td>\n",
       "      <td>unknown</td>\n",
       "      <td>125000</td>\n",
       "      <td>gas</td>\n",
       "      <td>audi</td>\n",
       "      <td>yes</td>\n",
       "      <td>14</td>\n",
       "    </tr>\n",
       "    <tr>\n",
       "      <th>1</th>\n",
       "      <td>9800</td>\n",
       "      <td>suv</td>\n",
       "      <td>2004</td>\n",
       "      <td>auto</td>\n",
       "      <td>163</td>\n",
       "      <td>grand</td>\n",
       "      <td>125000</td>\n",
       "      <td>gas</td>\n",
       "      <td>jeep</td>\n",
       "      <td>unknown</td>\n",
       "      <td>22</td>\n",
       "    </tr>\n",
       "    <tr>\n",
       "      <th>2</th>\n",
       "      <td>1500</td>\n",
       "      <td>small</td>\n",
       "      <td>2001</td>\n",
       "      <td>manual</td>\n",
       "      <td>75</td>\n",
       "      <td>golf</td>\n",
       "      <td>150000</td>\n",
       "      <td>gas</td>\n",
       "      <td>volkswagen</td>\n",
       "      <td>no</td>\n",
       "      <td>0</td>\n",
       "    </tr>\n",
       "    <tr>\n",
       "      <th>3</th>\n",
       "      <td>3600</td>\n",
       "      <td>small</td>\n",
       "      <td>2008</td>\n",
       "      <td>manual</td>\n",
       "      <td>69</td>\n",
       "      <td>fabia</td>\n",
       "      <td>90000</td>\n",
       "      <td>gas</td>\n",
       "      <td>skoda</td>\n",
       "      <td>no</td>\n",
       "      <td>6</td>\n",
       "    </tr>\n",
       "    <tr>\n",
       "      <th>4</th>\n",
       "      <td>650</td>\n",
       "      <td>sedan</td>\n",
       "      <td>1995</td>\n",
       "      <td>manual</td>\n",
       "      <td>102</td>\n",
       "      <td>3er</td>\n",
       "      <td>150000</td>\n",
       "      <td>gas</td>\n",
       "      <td>bmw</td>\n",
       "      <td>yes</td>\n",
       "      <td>2</td>\n",
       "    </tr>\n",
       "  </tbody>\n",
       "</table>\n",
       "</div>"
      ],
      "text/plain": [
       "   Price VehicleType  RegistrationYear Gearbox  Power    Model  Kilometer  \\\n",
       "0  18300       coupe              2011  manual    190  unknown     125000   \n",
       "1   9800         suv              2004    auto    163    grand     125000   \n",
       "2   1500       small              2001  manual     75     golf     150000   \n",
       "3   3600       small              2008  manual     69    fabia      90000   \n",
       "4    650       sedan              1995  manual    102      3er     150000   \n",
       "\n",
       "  FuelType       Brand NotRepaired  ActivityDays  \n",
       "0      gas        audi         yes            14  \n",
       "1      gas        jeep     unknown            22  \n",
       "2      gas  volkswagen          no             0  \n",
       "3      gas       skoda          no             6  \n",
       "4      gas         bmw         yes             2  "
      ]
     },
     "execution_count": 60,
     "metadata": {},
     "output_type": "execute_result"
    }
   ],
   "source": [
    "autos.reset_index(drop=True, inplace=True)\n",
    "autos.head()"
   ]
  },
  {
   "cell_type": "code",
   "execution_count": 61,
   "metadata": {
    "ExecuteTime": {
     "end_time": "2021-10-16T13:32:30.282781Z",
     "start_time": "2021-10-16T13:32:30.125198Z"
    },
    "scrolled": true
   },
   "outputs": [
    {
     "name": "stdout",
     "output_type": "stream",
     "text": [
      "                  nulls_count  nulls_percentage   dtype\n",
      "Price                       0               0.0   int64\n",
      "VehicleType                 0               0.0  object\n",
      "RegistrationYear            0               0.0   int64\n",
      "Gearbox                     0               0.0  object\n",
      "Power                       0               0.0   int64\n",
      "Model                       0               0.0  object\n",
      "Kilometer                   0               0.0   int64\n",
      "FuelType                    0               0.0  object\n",
      "Brand                       0               0.0  object\n",
      "NotRepaired                 0               0.0  object\n",
      "ActivityDays                0               0.0   int64\n",
      "columns: 11, rows: 313842\n",
      "dtypes: object(6) int64(5)\n",
      "memory_usage: 26.3+ MB\n"
     ]
    }
   ],
   "source": [
    "df_info(autos)"
   ]
  },
  {
   "cell_type": "markdown",
   "metadata": {},
   "source": [
    "#### Проверка признаков на мультиколлинеарность"
   ]
  },
  {
   "cell_type": "markdown",
   "metadata": {},
   "source": [
    "Для удобства сохраним названия признаков в переменные."
   ]
  },
  {
   "cell_type": "code",
   "execution_count": 62,
   "metadata": {
    "ExecuteTime": {
     "end_time": "2021-10-16T13:32:30.299200Z",
     "start_time": "2021-10-16T13:32:30.283671Z"
    }
   },
   "outputs": [],
   "source": [
    "features_quantitative = [\n",
    "    'Power',\n",
    "    'Kilometer',\n",
    "    'ActivityDays'\n",
    "]\n",
    "\n",
    "target = ['Price']"
   ]
  },
  {
   "cell_type": "markdown",
   "metadata": {},
   "source": [
    "Построим матрицу разброса для количетвенных признаков."
   ]
  },
  {
   "cell_type": "code",
   "execution_count": 63,
   "metadata": {
    "ExecuteTime": {
     "end_time": "2021-10-16T13:32:40.942773Z",
     "start_time": "2021-10-16T13:32:30.301075Z"
    },
    "scrolled": false
   },
   "outputs": [
    {
     "data": {
      "image/png": "[encoded data removed]",
      "text/plain": [
       "<Figure size 432x432 with 16 Axes>"
      ]
     },
     "metadata": {},
     "output_type": "display_data"
    }
   ],
   "source": [
    "sns.set_style('whitegrid')\n",
    "pd.plotting.scatter_matrix(autos[features_quantitative + target], alpha=0.2, figsize=(6, 6));\n",
    "plt.suptitle('Разброс значений количественных признаков и таргета');"
   ]
  },
  {
   "cell_type": "markdown",
   "metadata": {
    "ExecuteTime": {
     "end_time": "2021-09-28T14:07:34.572589Z",
     "start_time": "2021-09-28T14:07:34.556797Z"
    }
   },
   "source": [
    "А также тепловую карту со значениями коэффициента корреляции."
   ]
  },
  {
   "cell_type": "code",
   "execution_count": 64,
   "metadata": {
    "ExecuteTime": {
     "end_time": "2021-10-16T13:32:41.169863Z",
     "start_time": "2021-10-16T13:32:40.942773Z"
    }
   },
   "outputs": [
    {
     "data": {
      "image/png": "[encoded data removed]",
      "text/plain": [
       "<Figure size 432x432 with 2 Axes>"
      ]
     },
     "metadata": {},
     "output_type": "display_data"
    }
   ],
   "source": [
    "sns.set_style('whitegrid')\n",
    "_, axs = plt.subplots(figsize=(6, 6))\n",
    "corr = autos[features_quantitative + target].corr()\n",
    "mask = np.triu(np.ones_like(corr, dtype=bool))\n",
    "cmap = sns.diverging_palette(230, 20, as_cmap=True)\n",
    "sns.heatmap(\n",
    "    corr, mask=mask, cmap=cmap, annot=True, vmin=-1, vmax=1,\n",
    "    square=True, linewidths=0.5, cbar_kws={'shrink': 0.75}, ax=axs, fmt='.3g'\n",
    ").set_title('Корреляция количественных признаков и таргета');"
   ]
  },
  {
   "cell_type": "markdown",
   "metadata": {},
   "source": [
    "Корреляция между количественными признаками практически отсутствует. **Power** и **Kilometer** демонстрируют более-менее заметную корреляцию с целевым признаком. Вычисленный признак **ActivityDays** слабее остальных количественных признаков коррелирует с таргетом, но эта корреляция заметно выше, чем с другими признаками."
   ]
  },
  {
   "cell_type": "markdown",
   "metadata": {},
   "source": [
    "#### Кодирование признаков"
   ]
  },
  {
   "cell_type": "markdown",
   "metadata": {},
   "source": [
    "Добавим в набор данных признаки **DateCreated_OE**, **Brand_OE**, **Model_OE** и **RegistrationYear_OE**, являющиеся копиями соответствующих признаков, преобразованных с помощью порядкового кодирования (ordinal encoding).\n",
    "\n",
    "Категориальные признаки **VehicleType**, **Gearbox**, **FuelType** и **NotRepaired** будем преобразовывать с помощью прямого кодирования OHE."
   ]
  },
  {
   "cell_type": "code",
   "execution_count": 65,
   "metadata": {
    "ExecuteTime": {
     "end_time": "2021-10-16T13:32:41.185990Z",
     "start_time": "2021-10-16T13:32:41.170861Z"
    }
   },
   "outputs": [],
   "source": [
    "features_categorical_ohe = [\n",
    "    'VehicleType',\n",
    "    'Gearbox',\n",
    "    'FuelType',\n",
    "    'NotRepaired'\n",
    "]\n",
    "\n",
    "features_categorical_oe = [\n",
    "    'Brand',\n",
    "    'Model',\n",
    "    'RegistrationYear'\n",
    "]\n",
    "\n",
    "features_categorical = features_categorical_ohe + features_categorical_oe"
   ]
  },
  {
   "cell_type": "markdown",
   "metadata": {},
   "source": [
    "Прямое кодирование с сохранением в наборе данных исходных признаков."
   ]
  },
  {
   "cell_type": "code",
   "execution_count": 66,
   "metadata": {
    "ExecuteTime": {
     "end_time": "2021-10-16T13:32:41.387429Z",
     "start_time": "2021-10-16T13:32:41.189996Z"
    }
   },
   "outputs": [
    {
     "data": {
      "text/html": [
       "<div>\n",
       "<style scoped>\n",
       "    .dataframe tbody tr th:only-of-type {\n",
       "        vertical-align: middle;\n",
       "    }\n",
       "\n",
       "    .dataframe tbody tr th {\n",
       "        vertical-align: top;\n",
       "    }\n",
       "\n",
       "    .dataframe thead th {\n",
       "        text-align: right;\n",
       "    }\n",
       "</style>\n",
       "<table border=\"1\" class=\"dataframe\">\n",
       "  <thead>\n",
       "    <tr style=\"text-align: right;\">\n",
       "      <th></th>\n",
       "      <th>Price</th>\n",
       "      <th>RegistrationYear</th>\n",
       "      <th>Power</th>\n",
       "      <th>Model</th>\n",
       "      <th>Kilometer</th>\n",
       "      <th>Brand</th>\n",
       "      <th>ActivityDays</th>\n",
       "      <th>VehicleType_convertible</th>\n",
       "      <th>VehicleType_coupe</th>\n",
       "      <th>VehicleType_other</th>\n",
       "      <th>VehicleType_sedan</th>\n",
       "      <th>VehicleType_small</th>\n",
       "      <th>VehicleType_suv</th>\n",
       "      <th>VehicleType_unknown</th>\n",
       "      <th>VehicleType_wagon</th>\n",
       "      <th>Gearbox_manual</th>\n",
       "      <th>Gearbox_unknown</th>\n",
       "      <th>FuelType_electric</th>\n",
       "      <th>FuelType_gas</th>\n",
       "      <th>FuelType_hybrid</th>\n",
       "      <th>FuelType_lpg</th>\n",
       "      <th>FuelType_other</th>\n",
       "      <th>FuelType_unknown</th>\n",
       "      <th>NotRepaired_unknown</th>\n",
       "      <th>NotRepaired_yes</th>\n",
       "      <th>VehicleType</th>\n",
       "      <th>Gearbox</th>\n",
       "      <th>FuelType</th>\n",
       "      <th>NotRepaired</th>\n",
       "    </tr>\n",
       "  </thead>\n",
       "  <tbody>\n",
       "    <tr>\n",
       "      <th>0</th>\n",
       "      <td>18300</td>\n",
       "      <td>2011</td>\n",
       "      <td>190</td>\n",
       "      <td>unknown</td>\n",
       "      <td>125000</td>\n",
       "      <td>audi</td>\n",
       "      <td>14</td>\n",
       "      <td>0</td>\n",
       "      <td>1</td>\n",
       "      <td>0</td>\n",
       "      <td>0</td>\n",
       "      <td>0</td>\n",
       "      <td>0</td>\n",
       "      <td>0</td>\n",
       "      <td>0</td>\n",
       "      <td>1</td>\n",
       "      <td>0</td>\n",
       "      <td>0</td>\n",
       "      <td>1</td>\n",
       "      <td>0</td>\n",
       "      <td>0</td>\n",
       "      <td>0</td>\n",
       "      <td>0</td>\n",
       "      <td>0</td>\n",
       "      <td>1</td>\n",
       "      <td>coupe</td>\n",
       "      <td>manual</td>\n",
       "      <td>gas</td>\n",
       "      <td>yes</td>\n",
       "    </tr>\n",
       "    <tr>\n",
       "      <th>1</th>\n",
       "      <td>9800</td>\n",
       "      <td>2004</td>\n",
       "      <td>163</td>\n",
       "      <td>grand</td>\n",
       "      <td>125000</td>\n",
       "      <td>jeep</td>\n",
       "      <td>22</td>\n",
       "      <td>0</td>\n",
       "      <td>0</td>\n",
       "      <td>0</td>\n",
       "      <td>0</td>\n",
       "      <td>0</td>\n",
       "      <td>1</td>\n",
       "      <td>0</td>\n",
       "      <td>0</td>\n",
       "      <td>0</td>\n",
       "      <td>0</td>\n",
       "      <td>0</td>\n",
       "      <td>1</td>\n",
       "      <td>0</td>\n",
       "      <td>0</td>\n",
       "      <td>0</td>\n",
       "      <td>0</td>\n",
       "      <td>1</td>\n",
       "      <td>0</td>\n",
       "      <td>suv</td>\n",
       "      <td>auto</td>\n",
       "      <td>gas</td>\n",
       "      <td>unknown</td>\n",
       "    </tr>\n",
       "    <tr>\n",
       "      <th>2</th>\n",
       "      <td>1500</td>\n",
       "      <td>2001</td>\n",
       "      <td>75</td>\n",
       "      <td>golf</td>\n",
       "      <td>150000</td>\n",
       "      <td>volkswagen</td>\n",
       "      <td>0</td>\n",
       "      <td>0</td>\n",
       "      <td>0</td>\n",
       "      <td>0</td>\n",
       "      <td>0</td>\n",
       "      <td>1</td>\n",
       "      <td>0</td>\n",
       "      <td>0</td>\n",
       "      <td>0</td>\n",
       "      <td>1</td>\n",
       "      <td>0</td>\n",
       "      <td>0</td>\n",
       "      <td>1</td>\n",
       "      <td>0</td>\n",
       "      <td>0</td>\n",
       "      <td>0</td>\n",
       "      <td>0</td>\n",
       "      <td>0</td>\n",
       "      <td>0</td>\n",
       "      <td>small</td>\n",
       "      <td>manual</td>\n",
       "      <td>gas</td>\n",
       "      <td>no</td>\n",
       "    </tr>\n",
       "    <tr>\n",
       "      <th>3</th>\n",
       "      <td>3600</td>\n",
       "      <td>2008</td>\n",
       "      <td>69</td>\n",
       "      <td>fabia</td>\n",
       "      <td>90000</td>\n",
       "      <td>skoda</td>\n",
       "      <td>6</td>\n",
       "      <td>0</td>\n",
       "      <td>0</td>\n",
       "      <td>0</td>\n",
       "      <td>0</td>\n",
       "      <td>1</td>\n",
       "      <td>0</td>\n",
       "      <td>0</td>\n",
       "      <td>0</td>\n",
       "      <td>1</td>\n",
       "      <td>0</td>\n",
       "      <td>0</td>\n",
       "      <td>1</td>\n",
       "      <td>0</td>\n",
       "      <td>0</td>\n",
       "      <td>0</td>\n",
       "      <td>0</td>\n",
       "      <td>0</td>\n",
       "      <td>0</td>\n",
       "      <td>small</td>\n",
       "      <td>manual</td>\n",
       "      <td>gas</td>\n",
       "      <td>no</td>\n",
       "    </tr>\n",
       "    <tr>\n",
       "      <th>4</th>\n",
       "      <td>650</td>\n",
       "      <td>1995</td>\n",
       "      <td>102</td>\n",
       "      <td>3er</td>\n",
       "      <td>150000</td>\n",
       "      <td>bmw</td>\n",
       "      <td>2</td>\n",
       "      <td>0</td>\n",
       "      <td>0</td>\n",
       "      <td>0</td>\n",
       "      <td>1</td>\n",
       "      <td>0</td>\n",
       "      <td>0</td>\n",
       "      <td>0</td>\n",
       "      <td>0</td>\n",
       "      <td>1</td>\n",
       "      <td>0</td>\n",
       "      <td>0</td>\n",
       "      <td>1</td>\n",
       "      <td>0</td>\n",
       "      <td>0</td>\n",
       "      <td>0</td>\n",
       "      <td>0</td>\n",
       "      <td>0</td>\n",
       "      <td>1</td>\n",
       "      <td>sedan</td>\n",
       "      <td>manual</td>\n",
       "      <td>gas</td>\n",
       "      <td>yes</td>\n",
       "    </tr>\n",
       "  </tbody>\n",
       "</table>\n",
       "</div>"
      ],
      "text/plain": [
       "   Price  RegistrationYear  Power    Model  Kilometer       Brand  \\\n",
       "0  18300              2011    190  unknown     125000        audi   \n",
       "1   9800              2004    163    grand     125000        jeep   \n",
       "2   1500              2001     75     golf     150000  volkswagen   \n",
       "3   3600              2008     69    fabia      90000       skoda   \n",
       "4    650              1995    102      3er     150000         bmw   \n",
       "\n",
       "   ActivityDays  VehicleType_convertible  VehicleType_coupe  \\\n",
       "0            14                        0                  1   \n",
       "1            22                        0                  0   \n",
       "2             0                        0                  0   \n",
       "3             6                        0                  0   \n",
       "4             2                        0                  0   \n",
       "\n",
       "   VehicleType_other  VehicleType_sedan  VehicleType_small  VehicleType_suv  \\\n",
       "0                  0                  0                  0                0   \n",
       "1                  0                  0                  0                1   \n",
       "2                  0                  0                  1                0   \n",
       "3                  0                  0                  1                0   \n",
       "4                  0                  1                  0                0   \n",
       "\n",
       "   VehicleType_unknown  VehicleType_wagon  Gearbox_manual  Gearbox_unknown  \\\n",
       "0                    0                  0               1                0   \n",
       "1                    0                  0               0                0   \n",
       "2                    0                  0               1                0   \n",
       "3                    0                  0               1                0   \n",
       "4                    0                  0               1                0   \n",
       "\n",
       "   FuelType_electric  FuelType_gas  FuelType_hybrid  FuelType_lpg  \\\n",
       "0                  0             1                0             0   \n",
       "1                  0             1                0             0   \n",
       "2                  0             1                0             0   \n",
       "3                  0             1                0             0   \n",
       "4                  0             1                0             0   \n",
       "\n",
       "   FuelType_other  FuelType_unknown  NotRepaired_unknown  NotRepaired_yes  \\\n",
       "0               0                 0                    0                1   \n",
       "1               0                 0                    1                0   \n",
       "2               0                 0                    0                0   \n",
       "3               0                 0                    0                0   \n",
       "4               0                 0                    0                1   \n",
       "\n",
       "  VehicleType Gearbox FuelType NotRepaired  \n",
       "0       coupe  manual      gas         yes  \n",
       "1         suv    auto      gas     unknown  \n",
       "2       small  manual      gas          no  \n",
       "3       small  manual      gas          no  \n",
       "4       sedan  manual      gas         yes  "
      ]
     },
     "execution_count": 66,
     "metadata": {},
     "output_type": "execute_result"
    }
   ],
   "source": [
    "autos = pd.get_dummies(autos, columns=features_categorical_ohe, drop_first=True).join(autos[features_categorical_ohe])\n",
    "autos.head()"
   ]
  },
  {
   "cell_type": "markdown",
   "metadata": {},
   "source": [
    "Порядковое кодирование. Исходные столбцы сохранены ранее."
   ]
  },
  {
   "cell_type": "code",
   "execution_count": 67,
   "metadata": {
    "ExecuteTime": {
     "end_time": "2021-10-16T13:32:41.662566Z",
     "start_time": "2021-10-16T13:32:41.387429Z"
    }
   },
   "outputs": [],
   "source": [
    "encoder = OrdinalEncoder()\n",
    "encoder.fit(autos[features_categorical_oe])\n",
    "autos[[f + '_OE' for f in features_categorical_oe]] =\\\n",
    "    pd.DataFrame(encoder.transform(autos[features_categorical_oe]), columns=autos[features_categorical_oe].columns)"
   ]
  },
  {
   "cell_type": "code",
   "execution_count": 68,
   "metadata": {
    "ExecuteTime": {
     "end_time": "2021-10-16T13:32:41.678345Z",
     "start_time": "2021-10-16T13:32:41.670345Z"
    }
   },
   "outputs": [
    {
     "name": "stdout",
     "output_type": "stream",
     "text": [
      "Price\n",
      "RegistrationYear\n",
      "Power\n",
      "Model\n",
      "Kilometer\n",
      "Brand\n",
      "ActivityDays\n",
      "VehicleType_convertible\n",
      "VehicleType_coupe\n",
      "VehicleType_other\n",
      "VehicleType_sedan\n",
      "VehicleType_small\n",
      "VehicleType_suv\n",
      "VehicleType_unknown\n",
      "VehicleType_wagon\n",
      "Gearbox_manual\n",
      "Gearbox_unknown\n",
      "FuelType_electric\n",
      "FuelType_gas\n",
      "FuelType_hybrid\n",
      "FuelType_lpg\n",
      "FuelType_other\n",
      "FuelType_unknown\n",
      "NotRepaired_unknown\n",
      "NotRepaired_yes\n",
      "VehicleType\n",
      "Gearbox\n",
      "FuelType\n",
      "NotRepaired\n",
      "Brand_OE\n",
      "Model_OE\n",
      "RegistrationYear_OE\n"
     ]
    }
   ],
   "source": [
    "for c in autos.columns: print(c)"
   ]
  },
  {
   "cell_type": "code",
   "execution_count": 69,
   "metadata": {
    "ExecuteTime": {
     "end_time": "2021-10-16T13:32:41.710406Z",
     "start_time": "2021-10-16T13:32:41.679337Z"
    }
   },
   "outputs": [
    {
     "data": {
      "text/plain": [
       "(313842, 32)"
      ]
     },
     "execution_count": 69,
     "metadata": {},
     "output_type": "execute_result"
    }
   ],
   "source": [
    "autos.shape"
   ]
  },
  {
   "cell_type": "markdown",
   "metadata": {},
   "source": [
    "После кодирования количество столбцов таблицы возрасло до 43.\n",
    "\n",
    "Создаем две переменные с именами признаков для обучения моделей на исходных данных **features_raw** и на данных, категориальные признаки которых были преобразованы прямым или порядковым кодированием **features_trf**."
   ]
  },
  {
   "cell_type": "code",
   "execution_count": 70,
   "metadata": {
    "ExecuteTime": {
     "end_time": "2021-10-16T13:32:41.725287Z",
     "start_time": "2021-10-16T13:32:41.712592Z"
    }
   },
   "outputs": [
    {
     "data": {
      "text/plain": [
       "['RegistrationYear',\n",
       " 'Power',\n",
       " 'Model',\n",
       " 'Kilometer',\n",
       " 'Brand',\n",
       " 'ActivityDays',\n",
       " 'VehicleType',\n",
       " 'Gearbox',\n",
       " 'FuelType',\n",
       " 'NotRepaired']"
      ]
     },
     "execution_count": 70,
     "metadata": {},
     "output_type": "execute_result"
    }
   ],
   "source": [
    "features_raw = [f for f in autos.columns.drop('Price') if '_' not in list(f)]\n",
    "#features_raw = [f for f in autos.columns.drop('Price') if '_' not in list(f) and f not in features_categorical_oe]\n",
    "#features_raw += [f + '_OE' for f in features_categorical_oe]\n",
    "features_raw"
   ]
  },
  {
   "cell_type": "code",
   "execution_count": 71,
   "metadata": {
    "ExecuteTime": {
     "end_time": "2021-10-16T13:32:41.756654Z",
     "start_time": "2021-10-16T13:32:41.728989Z"
    }
   },
   "outputs": [
    {
     "data": {
      "text/plain": [
       "['Power',\n",
       " 'Kilometer',\n",
       " 'ActivityDays',\n",
       " 'VehicleType_convertible',\n",
       " 'VehicleType_coupe',\n",
       " 'VehicleType_other',\n",
       " 'VehicleType_sedan',\n",
       " 'VehicleType_small',\n",
       " 'VehicleType_suv',\n",
       " 'VehicleType_unknown',\n",
       " 'VehicleType_wagon',\n",
       " 'Gearbox_manual',\n",
       " 'Gearbox_unknown',\n",
       " 'FuelType_electric',\n",
       " 'FuelType_gas',\n",
       " 'FuelType_hybrid',\n",
       " 'FuelType_lpg',\n",
       " 'FuelType_other',\n",
       " 'FuelType_unknown',\n",
       " 'NotRepaired_unknown',\n",
       " 'NotRepaired_yes',\n",
       " 'Brand_OE',\n",
       " 'Model_OE',\n",
       " 'RegistrationYear_OE']"
      ]
     },
     "execution_count": 71,
     "metadata": {},
     "output_type": "execute_result"
    }
   ],
   "source": [
    "features_trf =\\\n",
    "    [f for f in autos.columns.drop('Price')\\\n",
    "         if f not in features_categorical_ohe and f not in features_categorical_oe]\n",
    "features_trf"
   ]
  },
  {
   "cell_type": "markdown",
   "metadata": {},
   "source": [
    "#### Обучающая и тестовая выборки"
   ]
  },
  {
   "cell_type": "markdown",
   "metadata": {},
   "source": [
    "Разобьем данные на обучающую и тестовую выборки в соотношении 4:1."
   ]
  },
  {
   "cell_type": "code",
   "execution_count": 72,
   "metadata": {
    "ExecuteTime": {
     "end_time": "2021-10-16T13:32:42.124550Z",
     "start_time": "2021-10-16T13:32:41.758641Z"
    }
   },
   "outputs": [],
   "source": [
    "features_raw_train, features_raw_test, target_train, target_test = train_test_split(\n",
    "    autos[features_raw],\n",
    "    autos['Price'],\n",
    "    test_size=0.2,\n",
    "    random_state=12345,\n",
    "    shuffle=True)\n",
    "features_raw_train[features_categorical] = features_raw_train[features_categorical].astype('category').astype('category')\n",
    "features_raw_test[features_categorical] = features_raw_test[features_categorical].astype('category').astype('category')\n",
    "\n",
    "features_trf_train = autos.loc[features_raw_train.index, features_trf]\n",
    "features_trf_test = autos.loc[features_raw_test.index, features_trf]"
   ]
  },
  {
   "cell_type": "markdown",
   "metadata": {},
   "source": [
    "#### Масштабирование признаков"
   ]
  },
  {
   "cell_type": "markdown",
   "metadata": {},
   "source": [
    "Масштабируем количественные признаки только в **features_trf_train** и **features_trf_test**."
   ]
  },
  {
   "cell_type": "code",
   "execution_count": 73,
   "metadata": {
    "ExecuteTime": {
     "end_time": "2021-10-16T13:32:42.281823Z",
     "start_time": "2021-10-16T13:32:42.126595Z"
    }
   },
   "outputs": [],
   "source": [
    "# Количественные признаки\n",
    "features_quantitative = ['Power', 'Kilometer', 'ActivityDays']\n",
    "# Преобразователь масштаба\n",
    "scaler = StandardScaler()\n",
    "# Обучение преобразователя масштаба и масштабирование количественных признаков\n",
    "# Обучающая выборка\n",
    "scaler.fit(features_trf_train[features_quantitative]) \n",
    "features_trf_train[features_quantitative] = scaler.transform(features_trf_train[features_quantitative])\n",
    "# Тестовая выборка\n",
    "scaler.fit(features_trf_test[features_quantitative]) \n",
    "features_trf_test[features_quantitative] = scaler.transform(features_trf_test[features_quantitative])"
   ]
  },
  {
   "cell_type": "markdown",
   "metadata": {},
   "source": [
    "## Обучение моделей"
   ]
  },
  {
   "cell_type": "markdown",
   "metadata": {},
   "source": [
    "### Регрессор на основе случайного леса RandomForestRegressor"
   ]
  },
  {
   "cell_type": "markdown",
   "metadata": {},
   "source": [
    "Обучим модель регрессора на основе случайного леса **RandomForestRegressor** библиотеки **Scikit Learn**.\n",
    "\n",
    "Для оценки качества модели применим метрику **RMSE**. Обучение будем проводить со стандартной для **GridSearchCV** кросс-валидацией, при которой входная выборка разбивается на обучающую и валидную в соотношении 4:1. Выведем гиперпараметры лучшей модели, а также достигнутые значения метрики."
   ]
  },
  {
   "cell_type": "code",
   "execution_count": 74,
   "metadata": {
    "ExecuteTime": {
     "end_time": "2021-10-16T13:34:33.085999Z",
     "start_time": "2021-10-16T13:32:42.283693Z"
    }
   },
   "outputs": [
    {
     "name": "stdout",
     "output_type": "stream",
     "text": [
      "Fitting 5 folds for each of 4 candidates, totalling 20 fits\n",
      "[CV 1/5] END max_depth=1, n_estimators=10, random_state=12345; total time=   0.5s\n",
      "[CV 2/5] END max_depth=1, n_estimators=10, random_state=12345; total time=   0.5s\n",
      "[CV 3/5] END max_depth=1, n_estimators=10, random_state=12345; total time=   0.5s\n",
      "[CV 4/5] END max_depth=1, n_estimators=10, random_state=12345; total time=   0.4s\n",
      "[CV 5/5] END max_depth=1, n_estimators=10, random_state=12345; total time=   0.6s\n",
      "[CV 1/5] END max_depth=1, n_estimators=30, random_state=12345; total time=   1.4s\n",
      "[CV 2/5] END max_depth=1, n_estimators=30, random_state=12345; total time=   1.5s\n",
      "[CV 3/5] END max_depth=1, n_estimators=30, random_state=12345; total time=   1.5s\n",
      "[CV 4/5] END max_depth=1, n_estimators=30, random_state=12345; total time=   1.4s\n",
      "[CV 5/5] END max_depth=1, n_estimators=30, random_state=12345; total time=   1.3s\n",
      "[CV 1/5] END max_depth=10, n_estimators=10, random_state=12345; total time=   4.3s\n",
      "[CV 2/5] END max_depth=10, n_estimators=10, random_state=12345; total time=   5.2s\n",
      "[CV 3/5] END max_depth=10, n_estimators=10, random_state=12345; total time=   5.1s\n",
      "[CV 4/5] END max_depth=10, n_estimators=10, random_state=12345; total time=   4.6s\n",
      "[CV 5/5] END max_depth=10, n_estimators=10, random_state=12345; total time=   3.9s\n",
      "[CV 1/5] END max_depth=10, n_estimators=30, random_state=12345; total time=  11.9s\n",
      "[CV 2/5] END max_depth=10, n_estimators=30, random_state=12345; total time=  13.0s\n",
      "[CV 3/5] END max_depth=10, n_estimators=30, random_state=12345; total time=  12.6s\n",
      "[CV 4/5] END max_depth=10, n_estimators=30, random_state=12345; total time=  12.0s\n",
      "[CV 5/5] END max_depth=10, n_estimators=30, random_state=12345; total time=  11.4s\n"
     ]
    },
    {
     "data": {
      "text/plain": [
       "{'mean_fit_time': array([ 0.56901937,  1.48957863,  4.68925595, 12.16810017]),\n",
       " 'std_fit_time': array([0.04107939, 0.05653729, 0.48427469, 0.56510169]),\n",
       " 'mean_score_time': array([0.01263828, 0.02379379, 0.04248443, 0.1046524 ]),\n",
       " 'std_score_time': array([0.00143853, 0.00196519, 0.00732727, 0.00977643]),\n",
       " 'param_max_depth': masked_array(data=[1, 1, 10, 10],\n",
       "              mask=[False, False, False, False],\n",
       "        fill_value='?',\n",
       "             dtype=object),\n",
       " 'param_n_estimators': masked_array(data=[10, 30, 10, 30],\n",
       "              mask=[False, False, False, False],\n",
       "        fill_value='?',\n",
       "             dtype=object),\n",
       " 'param_random_state': masked_array(data=[12345, 12345, 12345, 12345],\n",
       "              mask=[False, False, False, False],\n",
       "        fill_value='?',\n",
       "             dtype=object),\n",
       " 'params': [{'max_depth': 1, 'n_estimators': 10, 'random_state': 12345},\n",
       "  {'max_depth': 1, 'n_estimators': 30, 'random_state': 12345},\n",
       "  {'max_depth': 10, 'n_estimators': 10, 'random_state': 12345},\n",
       "  {'max_depth': 10, 'n_estimators': 30, 'random_state': 12345}],\n",
       " 'split0_test_score': array([-3776.77421685, -3776.87781394, -2002.91995455, -1992.72647803]),\n",
       " 'split1_test_score': array([-3783.82028305, -3783.79384726, -1996.18529125, -1981.55405683]),\n",
       " 'split2_test_score': array([-3765.70117613, -3765.68853843, -1993.58177194, -1980.53656874]),\n",
       " 'split3_test_score': array([-3807.75278383, -3807.75041387, -2018.8396158 , -2002.56573128]),\n",
       " 'split4_test_score': array([-3775.85862815, -3775.85963856, -2005.06032248, -1991.90751716]),\n",
       " 'mean_test_score': array([-3781.9814176 , -3781.99405041, -2003.3173912 , -1989.85807041]),\n",
       " 'std_test_score': array([14.12228378, 14.11599187,  8.82931882,  8.12107966]),\n",
       " 'rank_test_score': array([3, 4, 2, 1])}"
      ]
     },
     "execution_count": 74,
     "metadata": {},
     "output_type": "execute_result"
    }
   ],
   "source": [
    "t0 = timeit.default_timer()\n",
    "param_grid = {\n",
    "    'n_estimators': [10, 30],\n",
    "    'max_depth': [1, 10],\n",
    "    'random_state': [12345]\n",
    "}\n",
    "rfr_gs = GridSearchCV(\n",
    "    estimator=RandomForestRegressor(),\n",
    "    param_grid=param_grid,\n",
    "    scoring='neg_root_mean_squared_error',\n",
    "    refit=True,\n",
    "    verbose=3\n",
    ")\n",
    "rfr_gs.fit(features_trf_train, target_train)\n",
    "rfr_gs_dt = timeit.default_timer() - t0\n",
    "rfr_gs.cv_results_"
   ]
  },
  {
   "cell_type": "markdown",
   "metadata": {},
   "source": [
    "**RSME** лучшей модели, умноженное на -1."
   ]
  },
  {
   "cell_type": "code",
   "execution_count": 75,
   "metadata": {
    "ExecuteTime": {
     "end_time": "2021-10-16T13:34:33.102856Z",
     "start_time": "2021-10-16T13:34:33.087244Z"
    }
   },
   "outputs": [
    {
     "data": {
      "text/plain": [
       "-1989.8580704075503"
      ]
     },
     "execution_count": 75,
     "metadata": {},
     "output_type": "execute_result"
    }
   ],
   "source": [
    "rfr_gs.best_score_"
   ]
  },
  {
   "cell_type": "markdown",
   "metadata": {},
   "source": [
    "Гиперпараметры лучшей модели."
   ]
  },
  {
   "cell_type": "code",
   "execution_count": 76,
   "metadata": {
    "ExecuteTime": {
     "end_time": "2021-10-16T13:34:33.118455Z",
     "start_time": "2021-10-16T13:34:33.104852Z"
    }
   },
   "outputs": [
    {
     "data": {
      "text/plain": [
       "{'max_depth': 10, 'n_estimators': 30, 'random_state': 12345}"
      ]
     },
     "execution_count": 76,
     "metadata": {},
     "output_type": "execute_result"
    }
   ],
   "source": [
    "rfr_gs.best_params_"
   ]
  },
  {
   "cell_type": "markdown",
   "metadata": {},
   "source": [
    "Среднее время обучения модели с лучшим набором гиперпараметров в секундах."
   ]
  },
  {
   "cell_type": "code",
   "execution_count": 77,
   "metadata": {
    "ExecuteTime": {
     "end_time": "2021-10-16T13:34:33.133217Z",
     "start_time": "2021-10-16T13:34:33.120344Z"
    }
   },
   "outputs": [
    {
     "data": {
      "text/plain": [
       "12.168100166320801"
      ]
     },
     "execution_count": 77,
     "metadata": {},
     "output_type": "execute_result"
    }
   ],
   "source": [
    "rfr_gs.cv_results_['mean_fit_time'][rfr_gs.best_index_ ]"
   ]
  },
  {
   "cell_type": "markdown",
   "metadata": {
    "ExecuteTime": {
     "end_time": "2021-09-28T20:06:19.753123Z",
     "start_time": "2021-09-28T20:06:19.737381Z"
    }
   },
   "source": [
    "Топ 10 самых важных признаков."
   ]
  },
  {
   "cell_type": "code",
   "execution_count": 78,
   "metadata": {
    "ExecuteTime": {
     "end_time": "2021-10-16T13:34:33.164365Z",
     "start_time": "2021-10-16T13:34:33.135096Z"
    },
    "scrolled": true
   },
   "outputs": [
    {
     "data": {
      "text/plain": [
       "RegistrationYear_OE        0.546341\n",
       "Power                      0.300071\n",
       "Kilometer                  0.063661\n",
       "VehicleType_unknown        0.027003\n",
       "Brand_OE                   0.018684\n",
       "VehicleType_convertible    0.012617\n",
       "Model_OE                   0.009426\n",
       "NotRepaired_yes            0.009088\n",
       "ActivityDays               0.005878\n",
       "VehicleType_suv            0.001890\n",
       "dtype: float64"
      ]
     },
     "execution_count": 78,
     "metadata": {},
     "output_type": "execute_result"
    }
   ],
   "source": [
    "rfr_fi = pd.Series(rfr_gs.best_estimator_.feature_importances_, index=features_trf)\n",
    "rfr_fi.sort_values(ascending=False, inplace=True)\n",
    "rfr_fi.head(10)"
   ]
  },
  {
   "cell_type": "code",
   "execution_count": 79,
   "metadata": {
    "ExecuteTime": {
     "end_time": "2021-10-16T13:34:33.382412Z",
     "start_time": "2021-10-16T13:34:33.166319Z"
    }
   },
   "outputs": [
    {
     "data": {
      "image/png": "[encoded data removed]",
      "text/plain": [
       "<Figure size 1152x576 with 1 Axes>"
      ]
     },
     "metadata": {},
     "output_type": "display_data"
    }
   ],
   "source": [
    "ax = rfr_fi.head(10).plot.barh(\\\n",
    "    figsize=(16, 8), title='Топ 10 наиболее важных признаков для RandomForestRegressor');\n",
    "ax.invert_yaxis()"
   ]
  },
  {
   "cell_type": "markdown",
   "metadata": {},
   "source": [
    "Год регистрации **RegistrationYear_OE**, мощность двигателя **Power** и пробег **Kilometer** &mdash; ключевые признаки, определяющие цену автомобиля для обученного  регрессора на основе случайного леса. Отрадно, что добавленный признак **ActivityDays** также вошел в 10 лучших. Аа-а-е-е! Это features engineering!\n",
    "\n",
    "**RMSE** на тестовой выборке."
   ]
  },
  {
   "cell_type": "code",
   "execution_count": 80,
   "metadata": {
    "ExecuteTime": {
     "end_time": "2021-10-16T13:34:33.522781Z",
     "start_time": "2021-10-16T13:34:33.382412Z"
    }
   },
   "outputs": [
    {
     "data": {
      "text/plain": [
       "2012.9711349564077"
      ]
     },
     "execution_count": 80,
     "metadata": {},
     "output_type": "execute_result"
    }
   ],
   "source": [
    "t0 = timeit.default_timer()\n",
    "rfr_predict = rfr_gs.best_estimator_.predict(features_trf_test)\n",
    "rfr_predict_dt = timeit.default_timer() - t0\n",
    "rfr_rmse_test = mean_squared_error(target_test, rfr_predict) ** 0.5\n",
    "rfr_rmse_test"
   ]
  },
  {
   "cell_type": "markdown",
   "metadata": {},
   "source": [
    "### Линейная регрессия LinearRegression на преобразованных признаках"
   ]
  },
  {
   "cell_type": "markdown",
   "metadata": {
    "ExecuteTime": {
     "end_time": "2021-09-28T20:07:38.498024Z",
     "start_time": "2021-09-28T20:07:38.477615Z"
    }
   },
   "source": [
    "Обучим модель линейной регрессии **LinearRegression** билиотеки **Scikit Learn**.\n",
    "\n",
    "Метрика и параметры кросс-валидации как и в предыдущем пункте."
   ]
  },
  {
   "cell_type": "code",
   "execution_count": 81,
   "metadata": {
    "ExecuteTime": {
     "end_time": "2021-10-16T13:34:34.877215Z",
     "start_time": "2021-10-16T13:34:33.523777Z"
    },
    "scrolled": false
   },
   "outputs": [
    {
     "name": "stdout",
     "output_type": "stream",
     "text": [
      "Fitting 5 folds for each of 2 candidates, totalling 10 fits\n",
      "[CV 1/5] END ................................normalize=False; total time=   0.0s\n",
      "[CV 2/5] END ................................normalize=False; total time=   0.0s\n",
      "[CV 3/5] END ................................normalize=False; total time=   0.0s\n",
      "[CV 4/5] END ................................normalize=False; total time=   0.0s\n",
      "[CV 5/5] END ................................normalize=False; total time=   0.0s\n",
      "[CV 1/5] END .................................normalize=True; total time=   0.0s\n",
      "[CV 2/5] END .................................normalize=True; total time=   0.0s\n",
      "[CV 3/5] END .................................normalize=True; total time=   0.0s\n",
      "[CV 4/5] END .................................normalize=True; total time=   0.0s\n",
      "[CV 5/5] END .................................normalize=True; total time=   0.1s\n"
     ]
    },
    {
     "data": {
      "text/plain": [
       "{'mean_fit_time': array([0.1041316 , 0.12777109]),\n",
       " 'std_fit_time': array([0.00862042, 0.0248952 ]),\n",
       " 'mean_score_time': array([0.0037117 , 0.00782442]),\n",
       " 'std_score_time': array([0.00253117, 0.00108225]),\n",
       " 'param_normalize': masked_array(data=[False, True],\n",
       "              mask=[False, False],\n",
       "        fill_value='?',\n",
       "             dtype=object),\n",
       " 'params': [{'normalize': False}, {'normalize': True}],\n",
       " 'split0_test_score': array([-2962.91254306, -2962.91254306]),\n",
       " 'split1_test_score': array([-3019.28687138, -3019.28687138]),\n",
       " 'split2_test_score': array([-2978.48934863, -2978.48934863]),\n",
       " 'split3_test_score': array([-3009.86981945, -3009.86981945]),\n",
       " 'split4_test_score': array([-2978.25637125, -2978.25637125]),\n",
       " 'mean_test_score': array([-2989.76299075, -2989.76299075]),\n",
       " 'std_test_score': array([21.24329507, 21.24329507]),\n",
       " 'rank_test_score': array([1, 1])}"
      ]
     },
     "execution_count": 81,
     "metadata": {},
     "output_type": "execute_result"
    }
   ],
   "source": [
    "t0 = timeit.default_timer()\n",
    "param_grid = {\n",
    "    'normalize': [False, True] # Данные стандартизированы, но все же попробуем\n",
    "}\n",
    "lr_gs = GridSearchCV(\n",
    "    estimator=LinearRegression(),\n",
    "    param_grid=param_grid,\n",
    "    scoring='neg_root_mean_squared_error',\n",
    "    refit=True,\n",
    "    verbose=3\n",
    ")\n",
    "lr_gs.fit(features_trf_train, target_train)\n",
    "lr_gs_dt = timeit.default_timer() - t0\n",
    "lr_gs.cv_results_"
   ]
  },
  {
   "cell_type": "markdown",
   "metadata": {},
   "source": [
    "Лучшее достигнутое значение **RSME**, умноженное на -1."
   ]
  },
  {
   "cell_type": "code",
   "execution_count": 82,
   "metadata": {
    "ExecuteTime": {
     "end_time": "2021-10-16T13:34:34.892109Z",
     "start_time": "2021-10-16T13:34:34.878104Z"
    }
   },
   "outputs": [
    {
     "data": {
      "text/plain": [
       "-2989.762990749655"
      ]
     },
     "execution_count": 82,
     "metadata": {},
     "output_type": "execute_result"
    }
   ],
   "source": [
    "lr_gs.best_score_"
   ]
  },
  {
   "cell_type": "markdown",
   "metadata": {},
   "source": [
    "Гиперпараметры лучшей модели."
   ]
  },
  {
   "cell_type": "code",
   "execution_count": 83,
   "metadata": {
    "ExecuteTime": {
     "end_time": "2021-10-16T13:34:34.923093Z",
     "start_time": "2021-10-16T13:34:34.894054Z"
    }
   },
   "outputs": [
    {
     "data": {
      "text/plain": [
       "{'normalize': False}"
      ]
     },
     "execution_count": 83,
     "metadata": {},
     "output_type": "execute_result"
    }
   ],
   "source": [
    "lr_gs.best_params_"
   ]
  },
  {
   "cell_type": "markdown",
   "metadata": {},
   "source": [
    "Среднее время обучения модели с лучшим набором гиперпараметров в секундах."
   ]
  },
  {
   "cell_type": "code",
   "execution_count": 84,
   "metadata": {
    "ExecuteTime": {
     "end_time": "2021-10-16T13:34:34.938733Z",
     "start_time": "2021-10-16T13:34:34.924005Z"
    }
   },
   "outputs": [
    {
     "data": {
      "text/plain": [
       "0.10413160324096679"
      ]
     },
     "execution_count": 84,
     "metadata": {},
     "output_type": "execute_result"
    }
   ],
   "source": [
    "lr_gs.cv_results_['mean_fit_time'][lr_gs.best_index_ ]"
   ]
  },
  {
   "cell_type": "markdown",
   "metadata": {
    "ExecuteTime": {
     "end_time": "2021-09-28T23:23:14.315940Z",
     "start_time": "2021-09-28T23:23:14.297392Z"
    }
   },
   "source": [
    "**LinearRegression** не имеет атрибута feature_importance_.\n",
    "\n",
    "**RMSE** на тестовой выборке."
   ]
  },
  {
   "cell_type": "code",
   "execution_count": 85,
   "metadata": {
    "ExecuteTime": {
     "end_time": "2021-10-16T13:34:34.969197Z",
     "start_time": "2021-10-16T13:34:34.939639Z"
    }
   },
   "outputs": [
    {
     "data": {
      "text/plain": [
       "3033.470968847696"
      ]
     },
     "execution_count": 85,
     "metadata": {},
     "output_type": "execute_result"
    }
   ],
   "source": [
    "t0 = timeit.default_timer()\n",
    "lr_predict = lr_gs.best_estimator_.predict(features_trf_test)\n",
    "lr_predict_dt = timeit.default_timer() - t0\n",
    "lr_rmse_test = mean_squared_error(target_test, lr_predict) ** 0.5\n",
    "lr_rmse_test"
   ]
  },
  {
   "cell_type": "markdown",
   "metadata": {
    "ExecuteTime": {
     "end_time": "2021-09-28T20:06:19.753123Z",
     "start_time": "2021-09-28T20:06:19.737381Z"
    }
   },
   "source": [
    "Попробуем обучить регрессионную модель, использующую регуляризацию весов в процессе обучения. Например, модель **Ridge** библиотеки **Scikit Learn** с L2-регуляризацией."
   ]
  },
  {
   "cell_type": "markdown",
   "metadata": {},
   "source": [
    "### Регрессионная модель с L2-регуляризацией Ridge на преобразованных признаках"
   ]
  },
  {
   "cell_type": "markdown",
   "metadata": {
    "ExecuteTime": {
     "end_time": "2021-09-28T22:41:55.441562Z",
     "start_time": "2021-09-28T22:41:55.433605Z"
    }
   },
   "source": [
    "Метрика и параметры кросс-валидации прежние."
   ]
  },
  {
   "cell_type": "code",
   "execution_count": 86,
   "metadata": {
    "ExecuteTime": {
     "end_time": "2021-10-16T13:34:37.905581Z",
     "start_time": "2021-10-16T13:34:34.970844Z"
    },
    "scrolled": true
   },
   "outputs": [
    {
     "name": "stdout",
     "output_type": "stream",
     "text": [
      "Fitting 5 folds for each of 6 candidates, totalling 30 fits\n",
      "[CV] END alpha=1, normalize=False, random_state=12345, solver=auto; total time=   0.0s\n",
      "[CV] END alpha=1, normalize=False, random_state=12345, solver=auto; total time=   0.0s\n",
      "[CV] END alpha=1, normalize=False, random_state=12345, solver=auto; total time=   0.0s\n",
      "[CV] END alpha=1, normalize=False, random_state=12345, solver=auto; total time=   0.0s\n",
      "[CV] END alpha=1, normalize=False, random_state=12345, solver=auto; total time=   0.0s\n",
      "[CV] END alpha=1, normalize=True, random_state=12345, solver=auto; total time=   0.0s\n",
      "[CV] END alpha=1, normalize=True, random_state=12345, solver=auto; total time=   0.0s\n",
      "[CV] END alpha=1, normalize=True, random_state=12345, solver=auto; total time=   0.0s\n",
      "[CV] END alpha=1, normalize=True, random_state=12345, solver=auto; total time=   0.0s\n",
      "[CV] END alpha=1, normalize=True, random_state=12345, solver=auto; total time=   0.0s\n",
      "[CV] END alpha=3, normalize=False, random_state=12345, solver=auto; total time=   0.0s\n",
      "[CV] END alpha=3, normalize=False, random_state=12345, solver=auto; total time=   0.0s\n",
      "[CV] END alpha=3, normalize=False, random_state=12345, solver=auto; total time=   0.0s\n",
      "[CV] END alpha=3, normalize=False, random_state=12345, solver=auto; total time=   0.0s\n",
      "[CV] END alpha=3, normalize=False, random_state=12345, solver=auto; total time=   0.0s\n",
      "[CV] END alpha=3, normalize=True, random_state=12345, solver=auto; total time=   0.0s\n",
      "[CV] END alpha=3, normalize=True, random_state=12345, solver=auto; total time=   0.0s\n",
      "[CV] END alpha=3, normalize=True, random_state=12345, solver=auto; total time=   0.0s\n",
      "[CV] END alpha=3, normalize=True, random_state=12345, solver=auto; total time=   0.0s\n",
      "[CV] END alpha=3, normalize=True, random_state=12345, solver=auto; total time=   0.0s\n",
      "[CV] END alpha=10, normalize=False, random_state=12345, solver=auto; total time=   0.0s\n",
      "[CV] END alpha=10, normalize=False, random_state=12345, solver=auto; total time=   0.0s\n",
      "[CV] END alpha=10, normalize=False, random_state=12345, solver=auto; total time=   0.0s\n",
      "[CV] END alpha=10, normalize=False, random_state=12345, solver=auto; total time=   0.0s\n",
      "[CV] END alpha=10, normalize=False, random_state=12345, solver=auto; total time=   0.0s\n",
      "[CV] END alpha=10, normalize=True, random_state=12345, solver=auto; total time=   0.0s\n",
      "[CV] END alpha=10, normalize=True, random_state=12345, solver=auto; total time=   0.0s\n",
      "[CV] END alpha=10, normalize=True, random_state=12345, solver=auto; total time=   0.0s\n",
      "[CV] END alpha=10, normalize=True, random_state=12345, solver=auto; total time=   0.0s\n",
      "[CV] END alpha=10, normalize=True, random_state=12345, solver=auto; total time=   0.0s\n"
     ]
    },
    {
     "data": {
      "text/plain": [
       "{'mean_fit_time': array([0.08087902, 0.09710269, 0.08065252, 0.10312018, 0.08044233,\n",
       "        0.08560371]),\n",
       " 'std_fit_time': array([0.00551328, 0.01470837, 0.00603366, 0.0113393 , 0.00804808,\n",
       "        0.00276414]),\n",
       " 'mean_score_time': array([0.00580959, 0.00622921, 0.00405869, 0.00618596, 0.00400472,\n",
       "        0.00487885]),\n",
       " 'std_score_time': array([1.80344026e-03, 1.97593330e-03, 1.40326022e-04, 1.68905795e-03,\n",
       "        7.97901179e-07, 1.09563122e-03]),\n",
       " 'param_alpha': masked_array(data=[1, 1, 3, 3, 10, 10],\n",
       "              mask=[False, False, False, False, False, False],\n",
       "        fill_value='?',\n",
       "             dtype=object),\n",
       " 'param_normalize': masked_array(data=[False, True, False, True, False, True],\n",
       "              mask=[False, False, False, False, False, False],\n",
       "        fill_value='?',\n",
       "             dtype=object),\n",
       " 'param_random_state': masked_array(data=[12345, 12345, 12345, 12345, 12345, 12345],\n",
       "              mask=[False, False, False, False, False, False],\n",
       "        fill_value='?',\n",
       "             dtype=object),\n",
       " 'param_solver': masked_array(data=['auto', 'auto', 'auto', 'auto', 'auto', 'auto'],\n",
       "              mask=[False, False, False, False, False, False],\n",
       "        fill_value='?',\n",
       "             dtype=object),\n",
       " 'params': [{'alpha': 1,\n",
       "   'normalize': False,\n",
       "   'random_state': 12345,\n",
       "   'solver': 'auto'},\n",
       "  {'alpha': 1, 'normalize': True, 'random_state': 12345, 'solver': 'auto'},\n",
       "  {'alpha': 3, 'normalize': False, 'random_state': 12345, 'solver': 'auto'},\n",
       "  {'alpha': 3, 'normalize': True, 'random_state': 12345, 'solver': 'auto'},\n",
       "  {'alpha': 10, 'normalize': False, 'random_state': 12345, 'solver': 'auto'},\n",
       "  {'alpha': 10, 'normalize': True, 'random_state': 12345, 'solver': 'auto'}],\n",
       " 'split0_test_score': array([-2962.91362118, -3326.0530726 , -2962.91600429, -3792.83406188,\n",
       "        -2962.92602697, -4236.3512808 ]),\n",
       " 'split1_test_score': array([-3019.28792919, -3354.30823761, -3019.29070439, -3822.43840022,\n",
       "        -3019.30528   , -4270.29732726]),\n",
       " 'split2_test_score': array([-2978.48408772, -3349.99937849, -2978.47445414, -3824.19754266,\n",
       "        -2978.44852297, -4271.87389799]),\n",
       " 'split3_test_score': array([-3009.86552454, -3375.18708343, -3009.85797619, -3847.03784594,\n",
       "        -3009.8402764 , -4293.64527053]),\n",
       " 'split4_test_score': array([-2978.25679705, -3342.20352929, -2978.25818098, -3814.50119613,\n",
       "        -2978.26671238, -4261.69725006]),\n",
       " 'mean_test_score': array([-2989.76159194, -3349.55026028, -2989.759464  , -3820.20180937,\n",
       "        -2989.75736374, -4266.77300533]),\n",
       " 'std_test_score': array([21.24301597, 16.03857252, 21.24262996, 17.45068295, 21.24263787,\n",
       "        18.50299004]),\n",
       " 'rank_test_score': array([3, 4, 2, 5, 1, 6])}"
      ]
     },
     "execution_count": 86,
     "metadata": {},
     "output_type": "execute_result"
    }
   ],
   "source": [
    "t0 = timeit.default_timer()\n",
    "param_grid = {\n",
    "    'solver' : ['auto'],\n",
    "    'alpha': [1, 3, 10],\n",
    "    'normalize': [False, True],\n",
    "    'random_state': [12345]\n",
    "}\n",
    "rg_gs = GridSearchCV(\n",
    "    estimator=Ridge (),\n",
    "    param_grid=param_grid,\n",
    "    scoring='neg_root_mean_squared_error',\n",
    "    refit=True,\n",
    "    verbose=2\n",
    ")\n",
    "rg_gs.fit(features_trf_train, target_train)\n",
    "rg_gs_dt = timeit.default_timer() - t0\n",
    "rg_gs.cv_results_"
   ]
  },
  {
   "cell_type": "markdown",
   "metadata": {},
   "source": [
    "**RSME** лучшей модели, умноженное на -1."
   ]
  },
  {
   "cell_type": "code",
   "execution_count": 87,
   "metadata": {
    "ExecuteTime": {
     "end_time": "2021-10-16T13:34:37.920801Z",
     "start_time": "2021-10-16T13:34:37.907477Z"
    }
   },
   "outputs": [
    {
     "data": {
      "text/plain": [
       "-2989.757363741992"
      ]
     },
     "execution_count": 87,
     "metadata": {},
     "output_type": "execute_result"
    }
   ],
   "source": [
    "rg_gs.best_score_"
   ]
  },
  {
   "cell_type": "markdown",
   "metadata": {},
   "source": [
    "Гиперпараметры лучшей модели."
   ]
  },
  {
   "cell_type": "code",
   "execution_count": 88,
   "metadata": {
    "ExecuteTime": {
     "end_time": "2021-10-16T13:34:37.936371Z",
     "start_time": "2021-10-16T13:34:37.921764Z"
    }
   },
   "outputs": [
    {
     "data": {
      "text/plain": [
       "{'alpha': 10, 'normalize': False, 'random_state': 12345, 'solver': 'auto'}"
      ]
     },
     "execution_count": 88,
     "metadata": {},
     "output_type": "execute_result"
    }
   ],
   "source": [
    "rg_gs.best_params_"
   ]
  },
  {
   "cell_type": "markdown",
   "metadata": {},
   "source": [
    "Среднее время обучения модели с лучшим набором гиперпараметров в секундах."
   ]
  },
  {
   "cell_type": "code",
   "execution_count": 89,
   "metadata": {
    "ExecuteTime": {
     "end_time": "2021-10-16T13:34:37.952478Z",
     "start_time": "2021-10-16T13:34:37.937731Z"
    }
   },
   "outputs": [
    {
     "data": {
      "text/plain": [
       "0.08044233322143554"
      ]
     },
     "execution_count": 89,
     "metadata": {},
     "output_type": "execute_result"
    }
   ],
   "source": [
    "rg_gs.cv_results_['mean_fit_time'][rg_gs.best_index_ ]"
   ]
  },
  {
   "cell_type": "markdown",
   "metadata": {
    "ExecuteTime": {
     "end_time": "2021-09-28T23:23:14.315940Z",
     "start_time": "2021-09-28T23:23:14.297392Z"
    }
   },
   "source": [
    "**Ridge** не имеет атрибута feature_importance_.\n",
    "\n",
    "**RMSE** на тестовой выборке."
   ]
  },
  {
   "cell_type": "code",
   "execution_count": 90,
   "metadata": {
    "ExecuteTime": {
     "end_time": "2021-10-16T13:34:37.967933Z",
     "start_time": "2021-10-16T13:34:37.952986Z"
    }
   },
   "outputs": [
    {
     "data": {
      "text/plain": [
       "3033.421642883657"
      ]
     },
     "execution_count": 90,
     "metadata": {},
     "output_type": "execute_result"
    }
   ],
   "source": [
    "t0 = timeit.default_timer()\n",
    "rg_predict = rg_gs.best_estimator_.predict(features_trf_test)\n",
    "rg_predict_dt = timeit.default_timer() - t0\n",
    "rg_rmse_test = mean_squared_error(target_test, rg_predict) ** 0.5\n",
    "rg_rmse_test"
   ]
  },
  {
   "cell_type": "markdown",
   "metadata": {},
   "source": [
    "### Градиентный бустинг LGBMRegressor на преобразованных признаках"
   ]
  },
  {
   "cell_type": "markdown",
   "metadata": {},
   "source": [
    "Обучим градиентный бустинговый регрессор **LGBMRegressor** билиотеки **LightGBM**.\n",
    "\n",
    "Метрика и параметры кросс-валидации прежние."
   ]
  },
  {
   "cell_type": "code",
   "execution_count": 91,
   "metadata": {
    "ExecuteTime": {
     "end_time": "2021-10-16T13:36:16.922380Z",
     "start_time": "2021-10-16T13:34:37.968798Z"
    },
    "scrolled": true
   },
   "outputs": [
    {
     "name": "stdout",
     "output_type": "stream",
     "text": [
      "Fitting 5 folds for each of 72 candidates, totalling 360 fits\n"
     ]
    },
    {
     "data": {
      "text/plain": [
       "{'mean_fit_time': array([0.23231287, 0.22380362, 0.21405048, 0.23646221, 0.25438666,\n",
       "        0.23921752, 0.22771797, 0.30882936, 0.36118469, 0.30030279,\n",
       "        0.46954894, 0.66647544, 0.23065553, 0.28228784, 0.35236506,\n",
       "        0.30705466, 0.4991653 , 0.74468226, 0.22069464, 0.23196573,\n",
       "        0.20952559, 0.25234628, 0.26120696, 0.27216187, 0.25280743,\n",
       "        0.30599256, 0.39626961, 0.32111373, 0.48906755, 0.67751946,\n",
       "        0.24584546, 0.29474549, 0.3594296 , 0.29123535, 0.4808063 ,\n",
       "        0.68641858, 0.18585448, 0.17959881, 0.20512767, 0.17345767,\n",
       "        0.18351154, 0.19136314, 0.16674933, 0.18254113, 0.19454236,\n",
       "        0.19389248, 0.18408985, 0.18091707, 0.17527232, 0.18653135,\n",
       "        0.17338886, 0.16599188, 0.1780261 , 0.18529916, 0.17142859,\n",
       "        0.17412524, 0.17259011, 0.17784166, 0.18607945, 0.19846187,\n",
       "        0.16649065, 0.17411036, 0.20514541, 0.18661857, 0.18269267,\n",
       "        0.17974553, 0.17524171, 0.164188  , 0.17146382, 0.18893189,\n",
       "        0.17070889, 0.17641816]),\n",
       " 'std_fit_time': array([0.02174417, 0.02104709, 0.01795435, 0.01098635, 0.01149688,\n",
       "        0.0131159 , 0.01501118, 0.01724164, 0.02091573, 0.01488325,\n",
       "        0.0187669 , 0.00974717, 0.01071351, 0.00796413, 0.01559167,\n",
       "        0.0188575 , 0.0304519 , 0.05196146, 0.00960568, 0.02247539,\n",
       "        0.0211021 , 0.02584825, 0.01102051, 0.01699379, 0.01819684,\n",
       "        0.01701125, 0.04595275, 0.02090477, 0.01310539, 0.01522042,\n",
       "        0.01740137, 0.02380573, 0.01774177, 0.01562863, 0.0146848 ,\n",
       "        0.03460103, 0.01036928, 0.01890632, 0.01280823, 0.01468446,\n",
       "        0.01379077, 0.02006771, 0.0106003 , 0.01905049, 0.02282037,\n",
       "        0.03842243, 0.00901888, 0.01353279, 0.01460537, 0.00980151,\n",
       "        0.01022426, 0.00516761, 0.02378541, 0.0150299 , 0.00525893,\n",
       "        0.00790558, 0.00433714, 0.00736058, 0.01436843, 0.03851101,\n",
       "        0.01402708, 0.0097618 , 0.00553654, 0.01274352, 0.00920892,\n",
       "        0.02324773, 0.00902729, 0.0083305 , 0.00766766, 0.01223271,\n",
       "        0.00814633, 0.00950379]),\n",
       " 'mean_score_time': array([0.0141809 , 0.01191082, 0.01105385, 0.01375961, 0.01347108,\n",
       "        0.01467605, 0.01128922, 0.01368222, 0.01505637, 0.01461911,\n",
       "        0.02286534, 0.02961683, 0.01439414, 0.01554961, 0.01520748,\n",
       "        0.01952472, 0.0251471 , 0.0264039 , 0.01273756, 0.01156044,\n",
       "        0.01193118, 0.01538482, 0.0163363 , 0.01538873, 0.00689974,\n",
       "        0.00798988, 0.01924148, 0.02040167, 0.02161551, 0.02441974,\n",
       "        0.01497707, 0.01264052, 0.01406441, 0.01540985, 0.02049046,\n",
       "        0.02294631, 0.        , 0.        , 0.        , 0.        ,\n",
       "        0.        , 0.        , 0.        , 0.        , 0.        ,\n",
       "        0.        , 0.        , 0.        , 0.        , 0.        ,\n",
       "        0.        , 0.        , 0.        , 0.        , 0.        ,\n",
       "        0.        , 0.        , 0.        , 0.        , 0.        ,\n",
       "        0.        , 0.        , 0.        , 0.        , 0.        ,\n",
       "        0.        , 0.        , 0.        , 0.        , 0.        ,\n",
       "        0.        , 0.        ]),\n",
       " 'std_score_time': array([0.00187388, 0.00137846, 0.00134457, 0.00233275, 0.00134727,\n",
       "        0.0009139 , 0.00092741, 0.00177938, 0.00228683, 0.00122675,\n",
       "        0.00119392, 0.0033148 , 0.00355512, 0.00236552, 0.00267992,\n",
       "        0.00315382, 0.00187167, 0.00255341, 0.00239062, 0.00083542,\n",
       "        0.00248674, 0.00366588, 0.00164882, 0.00355828, 0.00925978,\n",
       "        0.00654072, 0.00328052, 0.00249182, 0.00333582, 0.00209008,\n",
       "        0.00218906, 0.00127498, 0.00109951, 0.00082439, 0.00223979,\n",
       "        0.00352091, 0.        , 0.        , 0.        , 0.        ,\n",
       "        0.        , 0.        , 0.        , 0.        , 0.        ,\n",
       "        0.        , 0.        , 0.        , 0.        , 0.        ,\n",
       "        0.        , 0.        , 0.        , 0.        , 0.        ,\n",
       "        0.        , 0.        , 0.        , 0.        , 0.        ,\n",
       "        0.        , 0.        , 0.        , 0.        , 0.        ,\n",
       "        0.        , 0.        , 0.        , 0.        , 0.        ,\n",
       "        0.        , 0.        ]),\n",
       " 'param_boosting_type': masked_array(data=['gbdt', 'gbdt', 'gbdt', 'gbdt', 'gbdt', 'gbdt', 'gbdt',\n",
       "                    'gbdt', 'gbdt', 'gbdt', 'gbdt', 'gbdt', 'gbdt', 'gbdt',\n",
       "                    'gbdt', 'gbdt', 'gbdt', 'gbdt', 'gbdt', 'gbdt', 'gbdt',\n",
       "                    'gbdt', 'gbdt', 'gbdt', 'gbdt', 'gbdt', 'gbdt', 'gbdt',\n",
       "                    'gbdt', 'gbdt', 'gbdt', 'gbdt', 'gbdt', 'gbdt', 'gbdt',\n",
       "                    'gbdt', 'rf', 'rf', 'rf', 'rf', 'rf', 'rf', 'rf', 'rf',\n",
       "                    'rf', 'rf', 'rf', 'rf', 'rf', 'rf', 'rf', 'rf', 'rf',\n",
       "                    'rf', 'rf', 'rf', 'rf', 'rf', 'rf', 'rf', 'rf', 'rf',\n",
       "                    'rf', 'rf', 'rf', 'rf', 'rf', 'rf', 'rf', 'rf', 'rf',\n",
       "                    'rf'],\n",
       "              mask=[False, False, False, False, False, False, False, False,\n",
       "                    False, False, False, False, False, False, False, False,\n",
       "                    False, False, False, False, False, False, False, False,\n",
       "                    False, False, False, False, False, False, False, False,\n",
       "                    False, False, False, False, False, False, False, False,\n",
       "                    False, False, False, False, False, False, False, False,\n",
       "                    False, False, False, False, False, False, False, False,\n",
       "                    False, False, False, False, False, False, False, False,\n",
       "                    False, False, False, False, False, False, False, False],\n",
       "        fill_value='?',\n",
       "             dtype=object),\n",
       " 'param_learning_rate': masked_array(data=[0.1, 0.1, 0.1, 0.1, 0.1, 0.1, 0.1, 0.1, 0.1, 0.1, 0.1,\n",
       "                    0.1, 0.1, 0.1, 0.1, 0.1, 0.1, 0.1, 0.03, 0.03, 0.03,\n",
       "                    0.03, 0.03, 0.03, 0.03, 0.03, 0.03, 0.03, 0.03, 0.03,\n",
       "                    0.03, 0.03, 0.03, 0.03, 0.03, 0.03, 0.1, 0.1, 0.1, 0.1,\n",
       "                    0.1, 0.1, 0.1, 0.1, 0.1, 0.1, 0.1, 0.1, 0.1, 0.1, 0.1,\n",
       "                    0.1, 0.1, 0.1, 0.03, 0.03, 0.03, 0.03, 0.03, 0.03,\n",
       "                    0.03, 0.03, 0.03, 0.03, 0.03, 0.03, 0.03, 0.03, 0.03,\n",
       "                    0.03, 0.03, 0.03],\n",
       "              mask=[False, False, False, False, False, False, False, False,\n",
       "                    False, False, False, False, False, False, False, False,\n",
       "                    False, False, False, False, False, False, False, False,\n",
       "                    False, False, False, False, False, False, False, False,\n",
       "                    False, False, False, False, False, False, False, False,\n",
       "                    False, False, False, False, False, False, False, False,\n",
       "                    False, False, False, False, False, False, False, False,\n",
       "                    False, False, False, False, False, False, False, False,\n",
       "                    False, False, False, False, False, False, False, False],\n",
       "        fill_value='?',\n",
       "             dtype=object),\n",
       " 'param_max_depth': masked_array(data=[1, 1, 1, 1, 1, 1, 10, 10, 10, 10, 10, 10, -1, -1, -1,\n",
       "                    -1, -1, -1, 1, 1, 1, 1, 1, 1, 10, 10, 10, 10, 10, 10,\n",
       "                    -1, -1, -1, -1, -1, -1, 1, 1, 1, 1, 1, 1, 10, 10, 10,\n",
       "                    10, 10, 10, -1, -1, -1, -1, -1, -1, 1, 1, 1, 1, 1, 1,\n",
       "                    10, 10, 10, 10, 10, 10, -1, -1, -1, -1, -1, -1],\n",
       "              mask=[False, False, False, False, False, False, False, False,\n",
       "                    False, False, False, False, False, False, False, False,\n",
       "                    False, False, False, False, False, False, False, False,\n",
       "                    False, False, False, False, False, False, False, False,\n",
       "                    False, False, False, False, False, False, False, False,\n",
       "                    False, False, False, False, False, False, False, False,\n",
       "                    False, False, False, False, False, False, False, False,\n",
       "                    False, False, False, False, False, False, False, False,\n",
       "                    False, False, False, False, False, False, False, False],\n",
       "        fill_value='?',\n",
       "             dtype=object),\n",
       " 'param_n_estimators': masked_array(data=[10, 10, 10, 30, 30, 30, 10, 10, 10, 30, 30, 30, 10, 10,\n",
       "                    10, 30, 30, 30, 10, 10, 10, 30, 30, 30, 10, 10, 10, 30,\n",
       "                    30, 30, 10, 10, 10, 30, 30, 30, 10, 10, 10, 30, 30, 30,\n",
       "                    10, 10, 10, 30, 30, 30, 10, 10, 10, 30, 30, 30, 10, 10,\n",
       "                    10, 30, 30, 30, 10, 10, 10, 30, 30, 30, 10, 10, 10, 30,\n",
       "                    30, 30],\n",
       "              mask=[False, False, False, False, False, False, False, False,\n",
       "                    False, False, False, False, False, False, False, False,\n",
       "                    False, False, False, False, False, False, False, False,\n",
       "                    False, False, False, False, False, False, False, False,\n",
       "                    False, False, False, False, False, False, False, False,\n",
       "                    False, False, False, False, False, False, False, False,\n",
       "                    False, False, False, False, False, False, False, False,\n",
       "                    False, False, False, False, False, False, False, False,\n",
       "                    False, False, False, False, False, False, False, False],\n",
       "        fill_value='?',\n",
       "             dtype=object),\n",
       " 'param_num_leaves': masked_array(data=[7, 31, 60, 7, 31, 60, 7, 31, 60, 7, 31, 60, 7, 31, 60,\n",
       "                    7, 31, 60, 7, 31, 60, 7, 31, 60, 7, 31, 60, 7, 31, 60,\n",
       "                    7, 31, 60, 7, 31, 60, 7, 31, 60, 7, 31, 60, 7, 31, 60,\n",
       "                    7, 31, 60, 7, 31, 60, 7, 31, 60, 7, 31, 60, 7, 31, 60,\n",
       "                    7, 31, 60, 7, 31, 60, 7, 31, 60, 7, 31, 60],\n",
       "              mask=[False, False, False, False, False, False, False, False,\n",
       "                    False, False, False, False, False, False, False, False,\n",
       "                    False, False, False, False, False, False, False, False,\n",
       "                    False, False, False, False, False, False, False, False,\n",
       "                    False, False, False, False, False, False, False, False,\n",
       "                    False, False, False, False, False, False, False, False,\n",
       "                    False, False, False, False, False, False, False, False,\n",
       "                    False, False, False, False, False, False, False, False,\n",
       "                    False, False, False, False, False, False, False, False],\n",
       "        fill_value='?',\n",
       "             dtype=object),\n",
       " 'param_random_state': masked_array(data=[123456, 123456, 123456, 123456, 123456, 123456, 123456,\n",
       "                    123456, 123456, 123456, 123456, 123456, 123456, 123456,\n",
       "                    123456, 123456, 123456, 123456, 123456, 123456, 123456,\n",
       "                    123456, 123456, 123456, 123456, 123456, 123456, 123456,\n",
       "                    123456, 123456, 123456, 123456, 123456, 123456, 123456,\n",
       "                    123456, 123456, 123456, 123456, 123456, 123456, 123456,\n",
       "                    123456, 123456, 123456, 123456, 123456, 123456, 123456,\n",
       "                    123456, 123456, 123456, 123456, 123456, 123456, 123456,\n",
       "                    123456, 123456, 123456, 123456, 123456, 123456, 123456,\n",
       "                    123456, 123456, 123456, 123456, 123456, 123456, 123456,\n",
       "                    123456, 123456],\n",
       "              mask=[False, False, False, False, False, False, False, False,\n",
       "                    False, False, False, False, False, False, False, False,\n",
       "                    False, False, False, False, False, False, False, False,\n",
       "                    False, False, False, False, False, False, False, False,\n",
       "                    False, False, False, False, False, False, False, False,\n",
       "                    False, False, False, False, False, False, False, False,\n",
       "                    False, False, False, False, False, False, False, False,\n",
       "                    False, False, False, False, False, False, False, False,\n",
       "                    False, False, False, False, False, False, False, False],\n",
       "        fill_value='?',\n",
       "             dtype=object),\n",
       " 'params': [{'boosting_type': 'gbdt',\n",
       "   'learning_rate': 0.1,\n",
       "   'max_depth': 1,\n",
       "   'n_estimators': 10,\n",
       "   'num_leaves': 7,\n",
       "   'random_state': 123456},\n",
       "  {'boosting_type': 'gbdt',\n",
       "   'learning_rate': 0.1,\n",
       "   'max_depth': 1,\n",
       "   'n_estimators': 10,\n",
       "   'num_leaves': 31,\n",
       "   'random_state': 123456},\n",
       "  {'boosting_type': 'gbdt',\n",
       "   'learning_rate': 0.1,\n",
       "   'max_depth': 1,\n",
       "   'n_estimators': 10,\n",
       "   'num_leaves': 60,\n",
       "   'random_state': 123456},\n",
       "  {'boosting_type': 'gbdt',\n",
       "   'learning_rate': 0.1,\n",
       "   'max_depth': 1,\n",
       "   'n_estimators': 30,\n",
       "   'num_leaves': 7,\n",
       "   'random_state': 123456},\n",
       "  {'boosting_type': 'gbdt',\n",
       "   'learning_rate': 0.1,\n",
       "   'max_depth': 1,\n",
       "   'n_estimators': 30,\n",
       "   'num_leaves': 31,\n",
       "   'random_state': 123456},\n",
       "  {'boosting_type': 'gbdt',\n",
       "   'learning_rate': 0.1,\n",
       "   'max_depth': 1,\n",
       "   'n_estimators': 30,\n",
       "   'num_leaves': 60,\n",
       "   'random_state': 123456},\n",
       "  {'boosting_type': 'gbdt',\n",
       "   'learning_rate': 0.1,\n",
       "   'max_depth': 10,\n",
       "   'n_estimators': 10,\n",
       "   'num_leaves': 7,\n",
       "   'random_state': 123456},\n",
       "  {'boosting_type': 'gbdt',\n",
       "   'learning_rate': 0.1,\n",
       "   'max_depth': 10,\n",
       "   'n_estimators': 10,\n",
       "   'num_leaves': 31,\n",
       "   'random_state': 123456},\n",
       "  {'boosting_type': 'gbdt',\n",
       "   'learning_rate': 0.1,\n",
       "   'max_depth': 10,\n",
       "   'n_estimators': 10,\n",
       "   'num_leaves': 60,\n",
       "   'random_state': 123456},\n",
       "  {'boosting_type': 'gbdt',\n",
       "   'learning_rate': 0.1,\n",
       "   'max_depth': 10,\n",
       "   'n_estimators': 30,\n",
       "   'num_leaves': 7,\n",
       "   'random_state': 123456},\n",
       "  {'boosting_type': 'gbdt',\n",
       "   'learning_rate': 0.1,\n",
       "   'max_depth': 10,\n",
       "   'n_estimators': 30,\n",
       "   'num_leaves': 31,\n",
       "   'random_state': 123456},\n",
       "  {'boosting_type': 'gbdt',\n",
       "   'learning_rate': 0.1,\n",
       "   'max_depth': 10,\n",
       "   'n_estimators': 30,\n",
       "   'num_leaves': 60,\n",
       "   'random_state': 123456},\n",
       "  {'boosting_type': 'gbdt',\n",
       "   'learning_rate': 0.1,\n",
       "   'max_depth': -1,\n",
       "   'n_estimators': 10,\n",
       "   'num_leaves': 7,\n",
       "   'random_state': 123456},\n",
       "  {'boosting_type': 'gbdt',\n",
       "   'learning_rate': 0.1,\n",
       "   'max_depth': -1,\n",
       "   'n_estimators': 10,\n",
       "   'num_leaves': 31,\n",
       "   'random_state': 123456},\n",
       "  {'boosting_type': 'gbdt',\n",
       "   'learning_rate': 0.1,\n",
       "   'max_depth': -1,\n",
       "   'n_estimators': 10,\n",
       "   'num_leaves': 60,\n",
       "   'random_state': 123456},\n",
       "  {'boosting_type': 'gbdt',\n",
       "   'learning_rate': 0.1,\n",
       "   'max_depth': -1,\n",
       "   'n_estimators': 30,\n",
       "   'num_leaves': 7,\n",
       "   'random_state': 123456},\n",
       "  {'boosting_type': 'gbdt',\n",
       "   'learning_rate': 0.1,\n",
       "   'max_depth': -1,\n",
       "   'n_estimators': 30,\n",
       "   'num_leaves': 31,\n",
       "   'random_state': 123456},\n",
       "  {'boosting_type': 'gbdt',\n",
       "   'learning_rate': 0.1,\n",
       "   'max_depth': -1,\n",
       "   'n_estimators': 30,\n",
       "   'num_leaves': 60,\n",
       "   'random_state': 123456},\n",
       "  {'boosting_type': 'gbdt',\n",
       "   'learning_rate': 0.03,\n",
       "   'max_depth': 1,\n",
       "   'n_estimators': 10,\n",
       "   'num_leaves': 7,\n",
       "   'random_state': 123456},\n",
       "  {'boosting_type': 'gbdt',\n",
       "   'learning_rate': 0.03,\n",
       "   'max_depth': 1,\n",
       "   'n_estimators': 10,\n",
       "   'num_leaves': 31,\n",
       "   'random_state': 123456},\n",
       "  {'boosting_type': 'gbdt',\n",
       "   'learning_rate': 0.03,\n",
       "   'max_depth': 1,\n",
       "   'n_estimators': 10,\n",
       "   'num_leaves': 60,\n",
       "   'random_state': 123456},\n",
       "  {'boosting_type': 'gbdt',\n",
       "   'learning_rate': 0.03,\n",
       "   'max_depth': 1,\n",
       "   'n_estimators': 30,\n",
       "   'num_leaves': 7,\n",
       "   'random_state': 123456},\n",
       "  {'boosting_type': 'gbdt',\n",
       "   'learning_rate': 0.03,\n",
       "   'max_depth': 1,\n",
       "   'n_estimators': 30,\n",
       "   'num_leaves': 31,\n",
       "   'random_state': 123456},\n",
       "  {'boosting_type': 'gbdt',\n",
       "   'learning_rate': 0.03,\n",
       "   'max_depth': 1,\n",
       "   'n_estimators': 30,\n",
       "   'num_leaves': 60,\n",
       "   'random_state': 123456},\n",
       "  {'boosting_type': 'gbdt',\n",
       "   'learning_rate': 0.03,\n",
       "   'max_depth': 10,\n",
       "   'n_estimators': 10,\n",
       "   'num_leaves': 7,\n",
       "   'random_state': 123456},\n",
       "  {'boosting_type': 'gbdt',\n",
       "   'learning_rate': 0.03,\n",
       "   'max_depth': 10,\n",
       "   'n_estimators': 10,\n",
       "   'num_leaves': 31,\n",
       "   'random_state': 123456},\n",
       "  {'boosting_type': 'gbdt',\n",
       "   'learning_rate': 0.03,\n",
       "   'max_depth': 10,\n",
       "   'n_estimators': 10,\n",
       "   'num_leaves': 60,\n",
       "   'random_state': 123456},\n",
       "  {'boosting_type': 'gbdt',\n",
       "   'learning_rate': 0.03,\n",
       "   'max_depth': 10,\n",
       "   'n_estimators': 30,\n",
       "   'num_leaves': 7,\n",
       "   'random_state': 123456},\n",
       "  {'boosting_type': 'gbdt',\n",
       "   'learning_rate': 0.03,\n",
       "   'max_depth': 10,\n",
       "   'n_estimators': 30,\n",
       "   'num_leaves': 31,\n",
       "   'random_state': 123456},\n",
       "  {'boosting_type': 'gbdt',\n",
       "   'learning_rate': 0.03,\n",
       "   'max_depth': 10,\n",
       "   'n_estimators': 30,\n",
       "   'num_leaves': 60,\n",
       "   'random_state': 123456},\n",
       "  {'boosting_type': 'gbdt',\n",
       "   'learning_rate': 0.03,\n",
       "   'max_depth': -1,\n",
       "   'n_estimators': 10,\n",
       "   'num_leaves': 7,\n",
       "   'random_state': 123456},\n",
       "  {'boosting_type': 'gbdt',\n",
       "   'learning_rate': 0.03,\n",
       "   'max_depth': -1,\n",
       "   'n_estimators': 10,\n",
       "   'num_leaves': 31,\n",
       "   'random_state': 123456},\n",
       "  {'boosting_type': 'gbdt',\n",
       "   'learning_rate': 0.03,\n",
       "   'max_depth': -1,\n",
       "   'n_estimators': 10,\n",
       "   'num_leaves': 60,\n",
       "   'random_state': 123456},\n",
       "  {'boosting_type': 'gbdt',\n",
       "   'learning_rate': 0.03,\n",
       "   'max_depth': -1,\n",
       "   'n_estimators': 30,\n",
       "   'num_leaves': 7,\n",
       "   'random_state': 123456},\n",
       "  {'boosting_type': 'gbdt',\n",
       "   'learning_rate': 0.03,\n",
       "   'max_depth': -1,\n",
       "   'n_estimators': 30,\n",
       "   'num_leaves': 31,\n",
       "   'random_state': 123456},\n",
       "  {'boosting_type': 'gbdt',\n",
       "   'learning_rate': 0.03,\n",
       "   'max_depth': -1,\n",
       "   'n_estimators': 30,\n",
       "   'num_leaves': 60,\n",
       "   'random_state': 123456},\n",
       "  {'boosting_type': 'rf',\n",
       "   'learning_rate': 0.1,\n",
       "   'max_depth': 1,\n",
       "   'n_estimators': 10,\n",
       "   'num_leaves': 7,\n",
       "   'random_state': 123456},\n",
       "  {'boosting_type': 'rf',\n",
       "   'learning_rate': 0.1,\n",
       "   'max_depth': 1,\n",
       "   'n_estimators': 10,\n",
       "   'num_leaves': 31,\n",
       "   'random_state': 123456},\n",
       "  {'boosting_type': 'rf',\n",
       "   'learning_rate': 0.1,\n",
       "   'max_depth': 1,\n",
       "   'n_estimators': 10,\n",
       "   'num_leaves': 60,\n",
       "   'random_state': 123456},\n",
       "  {'boosting_type': 'rf',\n",
       "   'learning_rate': 0.1,\n",
       "   'max_depth': 1,\n",
       "   'n_estimators': 30,\n",
       "   'num_leaves': 7,\n",
       "   'random_state': 123456},\n",
       "  {'boosting_type': 'rf',\n",
       "   'learning_rate': 0.1,\n",
       "   'max_depth': 1,\n",
       "   'n_estimators': 30,\n",
       "   'num_leaves': 31,\n",
       "   'random_state': 123456},\n",
       "  {'boosting_type': 'rf',\n",
       "   'learning_rate': 0.1,\n",
       "   'max_depth': 1,\n",
       "   'n_estimators': 30,\n",
       "   'num_leaves': 60,\n",
       "   'random_state': 123456},\n",
       "  {'boosting_type': 'rf',\n",
       "   'learning_rate': 0.1,\n",
       "   'max_depth': 10,\n",
       "   'n_estimators': 10,\n",
       "   'num_leaves': 7,\n",
       "   'random_state': 123456},\n",
       "  {'boosting_type': 'rf',\n",
       "   'learning_rate': 0.1,\n",
       "   'max_depth': 10,\n",
       "   'n_estimators': 10,\n",
       "   'num_leaves': 31,\n",
       "   'random_state': 123456},\n",
       "  {'boosting_type': 'rf',\n",
       "   'learning_rate': 0.1,\n",
       "   'max_depth': 10,\n",
       "   'n_estimators': 10,\n",
       "   'num_leaves': 60,\n",
       "   'random_state': 123456},\n",
       "  {'boosting_type': 'rf',\n",
       "   'learning_rate': 0.1,\n",
       "   'max_depth': 10,\n",
       "   'n_estimators': 30,\n",
       "   'num_leaves': 7,\n",
       "   'random_state': 123456},\n",
       "  {'boosting_type': 'rf',\n",
       "   'learning_rate': 0.1,\n",
       "   'max_depth': 10,\n",
       "   'n_estimators': 30,\n",
       "   'num_leaves': 31,\n",
       "   'random_state': 123456},\n",
       "  {'boosting_type': 'rf',\n",
       "   'learning_rate': 0.1,\n",
       "   'max_depth': 10,\n",
       "   'n_estimators': 30,\n",
       "   'num_leaves': 60,\n",
       "   'random_state': 123456},\n",
       "  {'boosting_type': 'rf',\n",
       "   'learning_rate': 0.1,\n",
       "   'max_depth': -1,\n",
       "   'n_estimators': 10,\n",
       "   'num_leaves': 7,\n",
       "   'random_state': 123456},\n",
       "  {'boosting_type': 'rf',\n",
       "   'learning_rate': 0.1,\n",
       "   'max_depth': -1,\n",
       "   'n_estimators': 10,\n",
       "   'num_leaves': 31,\n",
       "   'random_state': 123456},\n",
       "  {'boosting_type': 'rf',\n",
       "   'learning_rate': 0.1,\n",
       "   'max_depth': -1,\n",
       "   'n_estimators': 10,\n",
       "   'num_leaves': 60,\n",
       "   'random_state': 123456},\n",
       "  {'boosting_type': 'rf',\n",
       "   'learning_rate': 0.1,\n",
       "   'max_depth': -1,\n",
       "   'n_estimators': 30,\n",
       "   'num_leaves': 7,\n",
       "   'random_state': 123456},\n",
       "  {'boosting_type': 'rf',\n",
       "   'learning_rate': 0.1,\n",
       "   'max_depth': -1,\n",
       "   'n_estimators': 30,\n",
       "   'num_leaves': 31,\n",
       "   'random_state': 123456},\n",
       "  {'boosting_type': 'rf',\n",
       "   'learning_rate': 0.1,\n",
       "   'max_depth': -1,\n",
       "   'n_estimators': 30,\n",
       "   'num_leaves': 60,\n",
       "   'random_state': 123456},\n",
       "  {'boosting_type': 'rf',\n",
       "   'learning_rate': 0.03,\n",
       "   'max_depth': 1,\n",
       "   'n_estimators': 10,\n",
       "   'num_leaves': 7,\n",
       "   'random_state': 123456},\n",
       "  {'boosting_type': 'rf',\n",
       "   'learning_rate': 0.03,\n",
       "   'max_depth': 1,\n",
       "   'n_estimators': 10,\n",
       "   'num_leaves': 31,\n",
       "   'random_state': 123456},\n",
       "  {'boosting_type': 'rf',\n",
       "   'learning_rate': 0.03,\n",
       "   'max_depth': 1,\n",
       "   'n_estimators': 10,\n",
       "   'num_leaves': 60,\n",
       "   'random_state': 123456},\n",
       "  {'boosting_type': 'rf',\n",
       "   'learning_rate': 0.03,\n",
       "   'max_depth': 1,\n",
       "   'n_estimators': 30,\n",
       "   'num_leaves': 7,\n",
       "   'random_state': 123456},\n",
       "  {'boosting_type': 'rf',\n",
       "   'learning_rate': 0.03,\n",
       "   'max_depth': 1,\n",
       "   'n_estimators': 30,\n",
       "   'num_leaves': 31,\n",
       "   'random_state': 123456},\n",
       "  {'boosting_type': 'rf',\n",
       "   'learning_rate': 0.03,\n",
       "   'max_depth': 1,\n",
       "   'n_estimators': 30,\n",
       "   'num_leaves': 60,\n",
       "   'random_state': 123456},\n",
       "  {'boosting_type': 'rf',\n",
       "   'learning_rate': 0.03,\n",
       "   'max_depth': 10,\n",
       "   'n_estimators': 10,\n",
       "   'num_leaves': 7,\n",
       "   'random_state': 123456},\n",
       "  {'boosting_type': 'rf',\n",
       "   'learning_rate': 0.03,\n",
       "   'max_depth': 10,\n",
       "   'n_estimators': 10,\n",
       "   'num_leaves': 31,\n",
       "   'random_state': 123456},\n",
       "  {'boosting_type': 'rf',\n",
       "   'learning_rate': 0.03,\n",
       "   'max_depth': 10,\n",
       "   'n_estimators': 10,\n",
       "   'num_leaves': 60,\n",
       "   'random_state': 123456},\n",
       "  {'boosting_type': 'rf',\n",
       "   'learning_rate': 0.03,\n",
       "   'max_depth': 10,\n",
       "   'n_estimators': 30,\n",
       "   'num_leaves': 7,\n",
       "   'random_state': 123456},\n",
       "  {'boosting_type': 'rf',\n",
       "   'learning_rate': 0.03,\n",
       "   'max_depth': 10,\n",
       "   'n_estimators': 30,\n",
       "   'num_leaves': 31,\n",
       "   'random_state': 123456},\n",
       "  {'boosting_type': 'rf',\n",
       "   'learning_rate': 0.03,\n",
       "   'max_depth': 10,\n",
       "   'n_estimators': 30,\n",
       "   'num_leaves': 60,\n",
       "   'random_state': 123456},\n",
       "  {'boosting_type': 'rf',\n",
       "   'learning_rate': 0.03,\n",
       "   'max_depth': -1,\n",
       "   'n_estimators': 10,\n",
       "   'num_leaves': 7,\n",
       "   'random_state': 123456},\n",
       "  {'boosting_type': 'rf',\n",
       "   'learning_rate': 0.03,\n",
       "   'max_depth': -1,\n",
       "   'n_estimators': 10,\n",
       "   'num_leaves': 31,\n",
       "   'random_state': 123456},\n",
       "  {'boosting_type': 'rf',\n",
       "   'learning_rate': 0.03,\n",
       "   'max_depth': -1,\n",
       "   'n_estimators': 10,\n",
       "   'num_leaves': 60,\n",
       "   'random_state': 123456},\n",
       "  {'boosting_type': 'rf',\n",
       "   'learning_rate': 0.03,\n",
       "   'max_depth': -1,\n",
       "   'n_estimators': 30,\n",
       "   'num_leaves': 7,\n",
       "   'random_state': 123456},\n",
       "  {'boosting_type': 'rf',\n",
       "   'learning_rate': 0.03,\n",
       "   'max_depth': -1,\n",
       "   'n_estimators': 30,\n",
       "   'num_leaves': 31,\n",
       "   'random_state': 123456},\n",
       "  {'boosting_type': 'rf',\n",
       "   'learning_rate': 0.03,\n",
       "   'max_depth': -1,\n",
       "   'n_estimators': 30,\n",
       "   'num_leaves': 60,\n",
       "   'random_state': 123456}],\n",
       " 'split0_test_score': array([-3725.84633718, -3725.84633718, -3725.84633718, -3141.22581498,\n",
       "        -3141.22581498, -3141.22581498, -2991.37324449, -2690.27418796,\n",
       "        -2613.31425339, -2291.73570009, -2003.45393204, -1931.44949849,\n",
       "        -2991.37324449, -2690.27418796, -2613.10026747, -2291.73570009,\n",
       "        -2002.19554757, -1924.28422048, -4209.03401576, -4209.03401576,\n",
       "        -4209.03401576, -3793.06317793, -3793.06317793, -3793.06317793,\n",
       "        -3903.93807936, -3743.94351547, -3708.23906854, -3100.24177431,\n",
       "        -2818.15026768, -2746.13828433, -3903.93807936, -3743.94351547,\n",
       "        -3708.23906854, -3100.24177431, -2818.15026768, -2746.30666652,\n",
       "                   nan,            nan,            nan,            nan,\n",
       "                   nan,            nan,            nan,            nan,\n",
       "                   nan,            nan,            nan,            nan,\n",
       "                   nan,            nan,            nan,            nan,\n",
       "                   nan,            nan,            nan,            nan,\n",
       "                   nan,            nan,            nan,            nan,\n",
       "                   nan,            nan,            nan,            nan,\n",
       "                   nan,            nan,            nan,            nan,\n",
       "                   nan,            nan,            nan,            nan]),\n",
       " 'split1_test_score': array([-3749.129799  , -3749.129799  , -3749.129799  , -3151.8086871 ,\n",
       "        -3151.8086871 , -3151.8086871 , -2998.31334122, -2691.80024661,\n",
       "        -2614.36610486, -2281.17086988, -1984.30866902, -1898.86121934,\n",
       "        -2998.31334122, -2691.80024661, -2613.99711572, -2281.17086988,\n",
       "        -1986.43796099, -1901.42232701, -4242.46933902, -4242.46933902,\n",
       "        -4242.46933902, -3818.40518581, -3818.40518581, -3818.40518581,\n",
       "        -3934.55988116, -3769.58613374, -3730.57588777, -3115.85575076,\n",
       "        -2824.12249411, -2745.38379008, -3934.55988116, -3769.58613374,\n",
       "        -3730.57588777, -3115.85575076, -2824.12249411, -2744.44927591,\n",
       "                   nan,            nan,            nan,            nan,\n",
       "                   nan,            nan,            nan,            nan,\n",
       "                   nan,            nan,            nan,            nan,\n",
       "                   nan,            nan,            nan,            nan,\n",
       "                   nan,            nan,            nan,            nan,\n",
       "                   nan,            nan,            nan,            nan,\n",
       "                   nan,            nan,            nan,            nan,\n",
       "                   nan,            nan,            nan,            nan,\n",
       "                   nan,            nan,            nan,            nan]),\n",
       " 'split2_test_score': array([-3742.29653586, -3742.29653586, -3742.29653586, -3147.24747847,\n",
       "        -3147.24747847, -3147.24747847, -3005.5879854 , -2708.32238541,\n",
       "        -2632.13691119, -2293.18537251, -2006.35483645, -1920.12502143,\n",
       "        -3005.5879854 , -2708.32238541, -2631.44026068, -2293.18537251,\n",
       "        -1999.21099725, -1915.1806122 , -4239.18636875, -4239.18636875,\n",
       "        -4239.18636875, -3812.34750856, -3812.34750856, -3812.34750856,\n",
       "        -3932.142017  , -3772.6386859 , -3734.55058723, -3118.83049613,\n",
       "        -2833.99100879, -2757.85039206, -3932.142017  , -3772.6386859 ,\n",
       "        -3734.55058723, -3118.83049613, -2833.99100879, -2757.2360926 ,\n",
       "                   nan,            nan,            nan,            nan,\n",
       "                   nan,            nan,            nan,            nan,\n",
       "                   nan,            nan,            nan,            nan,\n",
       "                   nan,            nan,            nan,            nan,\n",
       "                   nan,            nan,            nan,            nan,\n",
       "                   nan,            nan,            nan,            nan,\n",
       "                   nan,            nan,            nan,            nan,\n",
       "                   nan,            nan,            nan,            nan,\n",
       "                   nan,            nan,            nan,            nan]),\n",
       " 'split3_test_score': array([-3775.03328574, -3775.03328574, -3775.03328574, -3180.31699614,\n",
       "        -3180.31699614, -3180.31699614, -3023.37617547, -2719.95398786,\n",
       "        -2643.63064067, -2314.74035523, -2021.83111581, -1942.79004387,\n",
       "        -3023.37617547, -2719.95398786, -2643.14735445, -2314.74035523,\n",
       "        -2017.93488878, -1939.51219061, -4265.18764772, -4265.18764772,\n",
       "        -4265.18764772, -3844.0812954 , -3844.0812954 , -3844.0812954 ,\n",
       "        -3958.80991506, -3793.2680045 , -3755.01845291, -3137.64037669,\n",
       "        -2850.44018871, -2774.68387582, -3958.80991506, -3793.2680045 ,\n",
       "        -3755.01845291, -3137.64037669, -2850.44018871, -2774.21575462,\n",
       "                   nan,            nan,            nan,            nan,\n",
       "                   nan,            nan,            nan,            nan,\n",
       "                   nan,            nan,            nan,            nan,\n",
       "                   nan,            nan,            nan,            nan,\n",
       "                   nan,            nan,            nan,            nan,\n",
       "                   nan,            nan,            nan,            nan,\n",
       "                   nan,            nan,            nan,            nan,\n",
       "                   nan,            nan,            nan,            nan,\n",
       "                   nan,            nan,            nan,            nan]),\n",
       " 'split4_test_score': array([-3740.9016366 , -3740.9016366 , -3740.9016366 , -3149.72466872,\n",
       "        -3149.72466872, -3149.72466872, -3010.64980246, -2700.43683183,\n",
       "        -2624.21114393, -2283.49804014, -2005.41252481, -1920.6780806 ,\n",
       "        -3010.64980246, -2700.43683183, -2623.91593728, -2283.49804014,\n",
       "        -2003.76758586, -1922.40283059, -4231.70722133, -4231.70722133,\n",
       "        -4231.70722133, -3810.07041028, -3810.07041028, -3810.07041028,\n",
       "        -3927.78307245, -3764.38732658, -3727.03748141, -3111.8628475 ,\n",
       "        -2826.67855469, -2753.10000958, -3927.78307245, -3764.38732658,\n",
       "        -3727.03748141, -3111.8628475 , -2826.67855469, -2753.05310475,\n",
       "                   nan,            nan,            nan,            nan,\n",
       "                   nan,            nan,            nan,            nan,\n",
       "                   nan,            nan,            nan,            nan,\n",
       "                   nan,            nan,            nan,            nan,\n",
       "                   nan,            nan,            nan,            nan,\n",
       "                   nan,            nan,            nan,            nan,\n",
       "                   nan,            nan,            nan,            nan,\n",
       "                   nan,            nan,            nan,            nan,\n",
       "                   nan,            nan,            nan,            nan]),\n",
       " 'mean_test_score': array([-3746.64151888, -3746.64151888, -3746.64151888, -3154.06472908,\n",
       "        -3154.06472908, -3154.06472908, -3005.86010981, -2702.15752793,\n",
       "        -2625.53181081, -2292.86606757, -2004.27221563, -1922.78077274,\n",
       "        -3005.86010981, -2702.15752793, -2625.12018712, -2292.86606757,\n",
       "        -2001.90939609, -1920.56043618, -4237.51691852, -4237.51691852,\n",
       "        -4237.51691852, -3815.59351559, -3815.59351559, -3815.59351559,\n",
       "        -3931.44659301, -3768.76473324, -3731.08429557, -3116.88624908,\n",
       "        -2830.67650279, -2755.43127038, -3931.44659301, -3768.76473324,\n",
       "        -3731.08429557, -3116.88624908, -2830.67650279, -2755.05217888,\n",
       "                   nan,            nan,            nan,            nan,\n",
       "                   nan,            nan,            nan,            nan,\n",
       "                   nan,            nan,            nan,            nan,\n",
       "                   nan,            nan,            nan,            nan,\n",
       "                   nan,            nan,            nan,            nan,\n",
       "                   nan,            nan,            nan,            nan,\n",
       "                   nan,            nan,            nan,            nan,\n",
       "                   nan,            nan,            nan,            nan,\n",
       "                   nan,            nan,            nan,            nan]),\n",
       " 'std_test_score': array([16.10309704, 16.10309704, 16.10309704, 13.59720557, 13.59720557,\n",
       "        13.59720557, 10.923834  , 11.01060665, 11.37436462, 11.86930271,\n",
       "        11.94290896, 14.55429216, 10.923834  , 11.01060665, 11.26564242,\n",
       "        11.86930271, 10.06973513, 12.42287979, 18.09978518, 18.09978518,\n",
       "        18.09978518, 16.54156254, 16.54156254, 16.54156254, 17.48752285,\n",
       "        15.81990551, 14.98932051, 12.14783059, 11.11246522, 10.67015644,\n",
       "        17.48752285, 15.81990551, 14.98932051, 12.14783059, 11.11246522,\n",
       "        10.62933629,         nan,         nan,         nan,         nan,\n",
       "                nan,         nan,         nan,         nan,         nan,\n",
       "                nan,         nan,         nan,         nan,         nan,\n",
       "                nan,         nan,         nan,         nan,         nan,\n",
       "                nan,         nan,         nan,         nan,         nan,\n",
       "                nan,         nan,         nan,         nan,         nan,\n",
       "                nan,         nan,         nan,         nan,         nan,\n",
       "                nan,         nan]),\n",
       " 'rank_test_score': array([24, 24, 24, 19, 19, 19, 15,  9,  8,  5,  4,  2, 15,  9,  7,  5,  3,\n",
       "         1, 34, 34, 34, 29, 29, 29, 32, 27, 22, 17, 13, 12, 32, 27, 22, 17,\n",
       "        13, 11, 57, 58, 59, 60, 61, 62, 63, 64, 65, 66, 67, 54, 68, 69, 70,\n",
       "        55, 71, 53, 48, 38, 39, 40, 41, 42, 37, 43, 52, 45, 46, 47, 44, 49,\n",
       "        50, 51, 56, 72])}"
      ]
     },
     "execution_count": 91,
     "metadata": {},
     "output_type": "execute_result"
    }
   ],
   "source": [
    "t0 = timeit.default_timer()\n",
    "param_grid = {\n",
    "    'boosting_type': ['gbdt', 'rf'],\n",
    "    'max_depth': [1, 10, -1],\n",
    "    'n_estimators': [10, 30],\n",
    "    'num_leaves': [7, 31, 60],\n",
    "    'learning_rate': [0.1, 0.03],\n",
    "    'random_state': [123456]\n",
    "}\n",
    "lgbm_trf_gs = GridSearchCV(\n",
    "    LGBMRegressor(),\n",
    "    param_grid=param_grid,\n",
    "    scoring='neg_root_mean_squared_error',\n",
    "    refit=True,\n",
    "    verbose=1\n",
    ")\n",
    "lgbm_trf_gs.fit(features_trf_train, target_train)\n",
    "lgbm_trf_gs_dt = timeit.default_timer() - t0\n",
    "lgbm_trf_gs.cv_results_"
   ]
  },
  {
   "cell_type": "raw",
   "metadata": {
    "ExecuteTime": {
     "end_time": "2021-09-29T20:48:03.462274Z",
     "start_time": "2021-09-29T20:48:03.441941Z"
    }
   },
   "source": [
    "cat_features = ['VehicleType', 'Gearbox', 'Model', 'FuelType', 'NotRepaired', 'Brand']\n",
    "\n",
    "%%time\n",
    "model_LGBMR = LGBMRegressor(max_depth=14, \n",
    "                            n_estimators=120, \n",
    "                            random_state=12345, \n",
    "                            objective='regression',\n",
    "                            num_leaves=1400,\n",
    "                            metric='rmse')\n",
    "model_LGBMR.fit(features_train, target_train, categorical_feature=cat_features, verbose=10)\n",
    "predictions_valid = model_LGBMR.predict(features_valid, num_iteration=2)\n",
    "print(mean_squared_error(predictions_valid, target_valid) ** 0.5)"
   ]
  },
  {
   "cell_type": "markdown",
   "metadata": {},
   "source": [
    "Обучение модели случайного регрессионного леса для всех заданных комбинаций гиперпараметров в секундах."
   ]
  },
  {
   "cell_type": "code",
   "execution_count": 92,
   "metadata": {
    "ExecuteTime": {
     "end_time": "2021-10-16T13:36:16.937501Z",
     "start_time": "2021-10-16T13:36:16.923476Z"
    }
   },
   "outputs": [
    {
     "data": {
      "text/plain": [
       "98.92153200000001"
      ]
     },
     "execution_count": 92,
     "metadata": {},
     "output_type": "execute_result"
    }
   ],
   "source": [
    "lgbm_trf_gs_dt"
   ]
  },
  {
   "cell_type": "markdown",
   "metadata": {},
   "source": [
    "Среднее время обучения модели с лучшим набором гиперпараметров в секундах."
   ]
  },
  {
   "cell_type": "code",
   "execution_count": 93,
   "metadata": {
    "ExecuteTime": {
     "end_time": "2021-10-16T13:36:16.953186Z",
     "start_time": "2021-10-16T13:36:16.938567Z"
    }
   },
   "outputs": [
    {
     "data": {
      "text/plain": [
       "0.7446822643280029"
      ]
     },
     "execution_count": 93,
     "metadata": {},
     "output_type": "execute_result"
    }
   ],
   "source": [
    "lgbm_trf_gs.cv_results_['mean_fit_time'][lgbm_trf_gs.best_index_ ]"
   ]
  },
  {
   "cell_type": "markdown",
   "metadata": {},
   "source": [
    "Лучший набор гиперпараметров."
   ]
  },
  {
   "cell_type": "code",
   "execution_count": 94,
   "metadata": {
    "ExecuteTime": {
     "end_time": "2021-10-16T13:36:16.970428Z",
     "start_time": "2021-10-16T13:36:16.954096Z"
    }
   },
   "outputs": [
    {
     "data": {
      "text/plain": [
       "{'boosting_type': 'gbdt',\n",
       " 'learning_rate': 0.1,\n",
       " 'max_depth': -1,\n",
       " 'n_estimators': 30,\n",
       " 'num_leaves': 60,\n",
       " 'random_state': 123456}"
      ]
     },
     "execution_count": 94,
     "metadata": {},
     "output_type": "execute_result"
    }
   ],
   "source": [
    "lgbm_trf_gs.best_params_"
   ]
  },
  {
   "cell_type": "markdown",
   "metadata": {},
   "source": [
    "Лучшее достигнутое значение **RSME**, умноженное на -1."
   ]
  },
  {
   "cell_type": "code",
   "execution_count": 95,
   "metadata": {
    "ExecuteTime": {
     "end_time": "2021-10-16T13:36:16.985457Z",
     "start_time": "2021-10-16T13:36:16.972184Z"
    }
   },
   "outputs": [
    {
     "data": {
      "text/plain": [
       "-1920.5604361789763"
      ]
     },
     "execution_count": 95,
     "metadata": {},
     "output_type": "execute_result"
    }
   ],
   "source": [
    "lgbm_trf_gs.best_score_"
   ]
  },
  {
   "cell_type": "markdown",
   "metadata": {
    "ExecuteTime": {
     "end_time": "2021-09-28T20:06:19.753123Z",
     "start_time": "2021-09-28T20:06:19.737381Z"
    }
   },
   "source": [
    "Топ 10 самых важных признаков, влияющих на качество предсказания модели."
   ]
  },
  {
   "cell_type": "code",
   "execution_count": 96,
   "metadata": {
    "ExecuteTime": {
     "end_time": "2021-10-16T13:36:17.000880Z",
     "start_time": "2021-10-16T13:36:16.987421Z"
    },
    "scrolled": true
   },
   "outputs": [
    {
     "data": {
      "text/plain": [
       "RegistrationYear_OE        380\n",
       "Brand_OE                   325\n",
       "Power                      323\n",
       "Model_OE                   174\n",
       "Kilometer                  132\n",
       "NotRepaired_yes             95\n",
       "VehicleType_convertible     81\n",
       "ActivityDays                63\n",
       "VehicleType_suv             44\n",
       "VehicleType_unknown         35\n",
       "dtype: int32"
      ]
     },
     "execution_count": 96,
     "metadata": {},
     "output_type": "execute_result"
    }
   ],
   "source": [
    "lgbm_trf_fi = pd.Series(lgbm_trf_gs.best_estimator_.feature_importances_, index=features_trf)\n",
    "lgbm_trf_fi.sort_values(ascending=False, inplace=True)\n",
    "lgbm_trf_fi.head(10)"
   ]
  },
  {
   "cell_type": "code",
   "execution_count": 97,
   "metadata": {
    "ExecuteTime": {
     "end_time": "2021-10-16T13:36:17.165923Z",
     "start_time": "2021-10-16T13:36:17.002820Z"
    }
   },
   "outputs": [
    {
     "data": {
      "image/png": "[encoded data removed]",
      "text/plain": [
       "<Figure size 1152x576 with 1 Axes>"
      ]
     },
     "metadata": {},
     "output_type": "display_data"
    }
   ],
   "source": [
    "ax = lgbm_trf_fi.head(10).plot.barh(\\\n",
    "    figsize=(16, 8), title='Топ 10 наиболее важных признаков для лучшей модели \\\n",
    "LGBMRegressor (преобразованные категориальные признаки)');\n",
    "ax.invert_yaxis()"
   ]
  },
  {
   "cell_type": "markdown",
   "metadata": {},
   "source": [
    "Как и в случае случайного регрессионного леса, для **LGBMRegressor** признаки **RegistrationYear_OE** и **Power** также являются ключевыми. Но на третье и четвертное места переместились бренд **Brand_OE** и модель **Model_OE**, а пробег **Kilometer** сместился на 5 позицию. **ActivityDays** в десятке присутствует.\n",
    "\n",
    "**RMSE** на тестовой выборке."
   ]
  },
  {
   "cell_type": "code",
   "execution_count": 98,
   "metadata": {
    "ExecuteTime": {
     "end_time": "2021-10-16T13:36:17.215162Z",
     "start_time": "2021-10-16T13:36:17.166845Z"
    }
   },
   "outputs": [
    {
     "data": {
      "text/plain": [
       "1930.2545375700497"
      ]
     },
     "execution_count": 98,
     "metadata": {},
     "output_type": "execute_result"
    }
   ],
   "source": [
    "t0 = timeit.default_timer()\n",
    "lgbm_trf_predict = lgbm_trf_gs.best_estimator_.predict(features_trf_test)\n",
    "lgbm_trf_predict_dt = timeit.default_timer() - t0\n",
    "lgbm_trf_rmse_test = mean_squared_error(target_test, lgbm_trf_predict) ** 0.5\n",
    "lgbm_trf_rmse_test"
   ]
  },
  {
   "cell_type": "markdown",
   "metadata": {},
   "source": [
    "### Градиентный бустинг LGBMRegressor на непреобразованных данных"
   ]
  },
  {
   "cell_type": "code",
   "execution_count": 99,
   "metadata": {
    "ExecuteTime": {
     "end_time": "2021-10-16T13:37:32.951048Z",
     "start_time": "2021-10-16T13:36:17.216511Z"
    }
   },
   "outputs": [
    {
     "name": "stdout",
     "output_type": "stream",
     "text": [
      "Fitting 5 folds for each of 72 candidates, totalling 360 fits\n"
     ]
    },
    {
     "data": {
      "text/plain": [
       "{'mean_fit_time': array([0.14885716, 0.14752073, 0.15729337, 0.18081594, 0.17039785,\n",
       "        0.17801886, 0.16402464, 0.22446871, 0.2906918 , 0.212184  ,\n",
       "        0.44301105, 0.62974076, 0.17955365, 0.23102899, 0.28627715,\n",
       "        0.22790051, 0.42241449, 0.64775853, 0.16600599, 0.16348519,\n",
       "        0.15548697, 0.1758142 , 0.16466894, 0.16430864, 0.1704874 ,\n",
       "        0.23872457, 0.28758893, 0.23640637, 0.40993009, 0.63092861,\n",
       "        0.17551026, 0.20922179, 0.28557916, 0.24090028, 0.41404076,\n",
       "        0.65045252, 0.11590428, 0.11230669, 0.1139039 , 0.1105392 ,\n",
       "        0.10879531, 0.12159505, 0.10421076, 0.14076819, 0.13751998,\n",
       "        0.13714995, 0.11960111, 0.12207232, 0.10948   , 0.11868138,\n",
       "        0.10414157, 0.11076412, 0.1121944 , 0.11534352, 0.12126098,\n",
       "        0.11613169, 0.11712003, 0.12682705, 0.11724763, 0.11545534,\n",
       "        0.12772126, 0.12596583, 0.10760107, 0.10521421, 0.11414433,\n",
       "        0.11689076, 0.11397896, 0.1128696 , 0.12563009, 0.11764421,\n",
       "        0.10431828, 0.10800891]),\n",
       " 'std_fit_time': array([0.00975977, 0.00711152, 0.00909657, 0.00887192, 0.0063627 ,\n",
       "        0.01876587, 0.00710065, 0.00924102, 0.02190074, 0.01138562,\n",
       "        0.01840712, 0.03250895, 0.0053924 , 0.02577925, 0.00752392,\n",
       "        0.00844651, 0.02993711, 0.03655804, 0.01506489, 0.01611932,\n",
       "        0.01098095, 0.00663158, 0.00929238, 0.00825254, 0.0225942 ,\n",
       "        0.00759617, 0.01563797, 0.01453064, 0.02309963, 0.02992335,\n",
       "        0.02355736, 0.00945774, 0.01082651, 0.01239465, 0.02011531,\n",
       "        0.04143114, 0.00740396, 0.00622073, 0.01191832, 0.00611172,\n",
       "        0.00712383, 0.00709748, 0.00564497, 0.01518662, 0.01739646,\n",
       "        0.01953543, 0.00913851, 0.01180491, 0.00748073, 0.00523341,\n",
       "        0.00798268, 0.00778923, 0.01079165, 0.01137945, 0.01048728,\n",
       "        0.0134806 , 0.00601079, 0.01272511, 0.00881497, 0.0089539 ,\n",
       "        0.02645234, 0.01850809, 0.01164002, 0.00600562, 0.00560288,\n",
       "        0.01242555, 0.00749403, 0.01128056, 0.01297728, 0.02156294,\n",
       "        0.00427719, 0.00608395]),\n",
       " 'mean_score_time': array([0.01629291, 0.01740475, 0.01483836, 0.0187109 , 0.02055326,\n",
       "        0.01900177, 0.01888876, 0.02154598, 0.01975098, 0.02493596,\n",
       "        0.03022299, 0.03654585, 0.01786613, 0.01787891, 0.0209837 ,\n",
       "        0.02408037, 0.02908134, 0.0377924 , 0.01665535, 0.01764898,\n",
       "        0.01653953, 0.02071409, 0.02170372, 0.01726794, 0.01969514,\n",
       "        0.02254748, 0.02097282, 0.02198796, 0.02994452, 0.03193951,\n",
       "        0.01616216, 0.01709661, 0.02071953, 0.02309585, 0.02974992,\n",
       "        0.03936291, 0.        , 0.        , 0.        , 0.        ,\n",
       "        0.        , 0.        , 0.        , 0.        , 0.        ,\n",
       "        0.        , 0.        , 0.        , 0.        , 0.        ,\n",
       "        0.        , 0.        , 0.        , 0.        , 0.        ,\n",
       "        0.        , 0.        , 0.        , 0.        , 0.        ,\n",
       "        0.        , 0.        , 0.        , 0.        , 0.        ,\n",
       "        0.        , 0.        , 0.        , 0.        , 0.        ,\n",
       "        0.        , 0.        ]),\n",
       " 'std_score_time': array([0.00341454, 0.00207936, 0.00215969, 0.00214702, 0.00356336,\n",
       "        0.00304362, 0.0028069 , 0.00462412, 0.00200071, 0.00261212,\n",
       "        0.00320257, 0.00262252, 0.00275873, 0.00269587, 0.00563128,\n",
       "        0.00327288, 0.00300746, 0.0029882 , 0.00267634, 0.00619704,\n",
       "        0.00220974, 0.00453112, 0.00437776, 0.00180443, 0.00109601,\n",
       "        0.0056579 , 0.00181842, 0.00097004, 0.00353546, 0.00196389,\n",
       "        0.00175745, 0.00102825, 0.00157349, 0.00325935, 0.00519214,\n",
       "        0.00824743, 0.        , 0.        , 0.        , 0.        ,\n",
       "        0.        , 0.        , 0.        , 0.        , 0.        ,\n",
       "        0.        , 0.        , 0.        , 0.        , 0.        ,\n",
       "        0.        , 0.        , 0.        , 0.        , 0.        ,\n",
       "        0.        , 0.        , 0.        , 0.        , 0.        ,\n",
       "        0.        , 0.        , 0.        , 0.        , 0.        ,\n",
       "        0.        , 0.        , 0.        , 0.        , 0.        ,\n",
       "        0.        , 0.        ]),\n",
       " 'param_boosting_type': masked_array(data=['gbdt', 'gbdt', 'gbdt', 'gbdt', 'gbdt', 'gbdt', 'gbdt',\n",
       "                    'gbdt', 'gbdt', 'gbdt', 'gbdt', 'gbdt', 'gbdt', 'gbdt',\n",
       "                    'gbdt', 'gbdt', 'gbdt', 'gbdt', 'gbdt', 'gbdt', 'gbdt',\n",
       "                    'gbdt', 'gbdt', 'gbdt', 'gbdt', 'gbdt', 'gbdt', 'gbdt',\n",
       "                    'gbdt', 'gbdt', 'gbdt', 'gbdt', 'gbdt', 'gbdt', 'gbdt',\n",
       "                    'gbdt', 'rf', 'rf', 'rf', 'rf', 'rf', 'rf', 'rf', 'rf',\n",
       "                    'rf', 'rf', 'rf', 'rf', 'rf', 'rf', 'rf', 'rf', 'rf',\n",
       "                    'rf', 'rf', 'rf', 'rf', 'rf', 'rf', 'rf', 'rf', 'rf',\n",
       "                    'rf', 'rf', 'rf', 'rf', 'rf', 'rf', 'rf', 'rf', 'rf',\n",
       "                    'rf'],\n",
       "              mask=[False, False, False, False, False, False, False, False,\n",
       "                    False, False, False, False, False, False, False, False,\n",
       "                    False, False, False, False, False, False, False, False,\n",
       "                    False, False, False, False, False, False, False, False,\n",
       "                    False, False, False, False, False, False, False, False,\n",
       "                    False, False, False, False, False, False, False, False,\n",
       "                    False, False, False, False, False, False, False, False,\n",
       "                    False, False, False, False, False, False, False, False,\n",
       "                    False, False, False, False, False, False, False, False],\n",
       "        fill_value='?',\n",
       "             dtype=object),\n",
       " 'param_learning_rate': masked_array(data=[0.1, 0.1, 0.1, 0.1, 0.1, 0.1, 0.1, 0.1, 0.1, 0.1, 0.1,\n",
       "                    0.1, 0.1, 0.1, 0.1, 0.1, 0.1, 0.1, 0.03, 0.03, 0.03,\n",
       "                    0.03, 0.03, 0.03, 0.03, 0.03, 0.03, 0.03, 0.03, 0.03,\n",
       "                    0.03, 0.03, 0.03, 0.03, 0.03, 0.03, 0.1, 0.1, 0.1, 0.1,\n",
       "                    0.1, 0.1, 0.1, 0.1, 0.1, 0.1, 0.1, 0.1, 0.1, 0.1, 0.1,\n",
       "                    0.1, 0.1, 0.1, 0.03, 0.03, 0.03, 0.03, 0.03, 0.03,\n",
       "                    0.03, 0.03, 0.03, 0.03, 0.03, 0.03, 0.03, 0.03, 0.03,\n",
       "                    0.03, 0.03, 0.03],\n",
       "              mask=[False, False, False, False, False, False, False, False,\n",
       "                    False, False, False, False, False, False, False, False,\n",
       "                    False, False, False, False, False, False, False, False,\n",
       "                    False, False, False, False, False, False, False, False,\n",
       "                    False, False, False, False, False, False, False, False,\n",
       "                    False, False, False, False, False, False, False, False,\n",
       "                    False, False, False, False, False, False, False, False,\n",
       "                    False, False, False, False, False, False, False, False,\n",
       "                    False, False, False, False, False, False, False, False],\n",
       "        fill_value='?',\n",
       "             dtype=object),\n",
       " 'param_max_depth': masked_array(data=[1, 1, 1, 1, 1, 1, 10, 10, 10, 10, 10, 10, -1, -1, -1,\n",
       "                    -1, -1, -1, 1, 1, 1, 1, 1, 1, 10, 10, 10, 10, 10, 10,\n",
       "                    -1, -1, -1, -1, -1, -1, 1, 1, 1, 1, 1, 1, 10, 10, 10,\n",
       "                    10, 10, 10, -1, -1, -1, -1, -1, -1, 1, 1, 1, 1, 1, 1,\n",
       "                    10, 10, 10, 10, 10, 10, -1, -1, -1, -1, -1, -1],\n",
       "              mask=[False, False, False, False, False, False, False, False,\n",
       "                    False, False, False, False, False, False, False, False,\n",
       "                    False, False, False, False, False, False, False, False,\n",
       "                    False, False, False, False, False, False, False, False,\n",
       "                    False, False, False, False, False, False, False, False,\n",
       "                    False, False, False, False, False, False, False, False,\n",
       "                    False, False, False, False, False, False, False, False,\n",
       "                    False, False, False, False, False, False, False, False,\n",
       "                    False, False, False, False, False, False, False, False],\n",
       "        fill_value='?',\n",
       "             dtype=object),\n",
       " 'param_n_estimators': masked_array(data=[10, 10, 10, 30, 30, 30, 10, 10, 10, 30, 30, 30, 10, 10,\n",
       "                    10, 30, 30, 30, 10, 10, 10, 30, 30, 30, 10, 10, 10, 30,\n",
       "                    30, 30, 10, 10, 10, 30, 30, 30, 10, 10, 10, 30, 30, 30,\n",
       "                    10, 10, 10, 30, 30, 30, 10, 10, 10, 30, 30, 30, 10, 10,\n",
       "                    10, 30, 30, 30, 10, 10, 10, 30, 30, 30, 10, 10, 10, 30,\n",
       "                    30, 30],\n",
       "              mask=[False, False, False, False, False, False, False, False,\n",
       "                    False, False, False, False, False, False, False, False,\n",
       "                    False, False, False, False, False, False, False, False,\n",
       "                    False, False, False, False, False, False, False, False,\n",
       "                    False, False, False, False, False, False, False, False,\n",
       "                    False, False, False, False, False, False, False, False,\n",
       "                    False, False, False, False, False, False, False, False,\n",
       "                    False, False, False, False, False, False, False, False,\n",
       "                    False, False, False, False, False, False, False, False],\n",
       "        fill_value='?',\n",
       "             dtype=object),\n",
       " 'param_num_leaves': masked_array(data=[7, 31, 60, 7, 31, 60, 7, 31, 60, 7, 31, 60, 7, 31, 60,\n",
       "                    7, 31, 60, 7, 31, 60, 7, 31, 60, 7, 31, 60, 7, 31, 60,\n",
       "                    7, 31, 60, 7, 31, 60, 7, 31, 60, 7, 31, 60, 7, 31, 60,\n",
       "                    7, 31, 60, 7, 31, 60, 7, 31, 60, 7, 31, 60, 7, 31, 60,\n",
       "                    7, 31, 60, 7, 31, 60, 7, 31, 60, 7, 31, 60],\n",
       "              mask=[False, False, False, False, False, False, False, False,\n",
       "                    False, False, False, False, False, False, False, False,\n",
       "                    False, False, False, False, False, False, False, False,\n",
       "                    False, False, False, False, False, False, False, False,\n",
       "                    False, False, False, False, False, False, False, False,\n",
       "                    False, False, False, False, False, False, False, False,\n",
       "                    False, False, False, False, False, False, False, False,\n",
       "                    False, False, False, False, False, False, False, False,\n",
       "                    False, False, False, False, False, False, False, False],\n",
       "        fill_value='?',\n",
       "             dtype=object),\n",
       " 'param_random_state': masked_array(data=[123456, 123456, 123456, 123456, 123456, 123456, 123456,\n",
       "                    123456, 123456, 123456, 123456, 123456, 123456, 123456,\n",
       "                    123456, 123456, 123456, 123456, 123456, 123456, 123456,\n",
       "                    123456, 123456, 123456, 123456, 123456, 123456, 123456,\n",
       "                    123456, 123456, 123456, 123456, 123456, 123456, 123456,\n",
       "                    123456, 123456, 123456, 123456, 123456, 123456, 123456,\n",
       "                    123456, 123456, 123456, 123456, 123456, 123456, 123456,\n",
       "                    123456, 123456, 123456, 123456, 123456, 123456, 123456,\n",
       "                    123456, 123456, 123456, 123456, 123456, 123456, 123456,\n",
       "                    123456, 123456, 123456, 123456, 123456, 123456, 123456,\n",
       "                    123456, 123456],\n",
       "              mask=[False, False, False, False, False, False, False, False,\n",
       "                    False, False, False, False, False, False, False, False,\n",
       "                    False, False, False, False, False, False, False, False,\n",
       "                    False, False, False, False, False, False, False, False,\n",
       "                    False, False, False, False, False, False, False, False,\n",
       "                    False, False, False, False, False, False, False, False,\n",
       "                    False, False, False, False, False, False, False, False,\n",
       "                    False, False, False, False, False, False, False, False,\n",
       "                    False, False, False, False, False, False, False, False],\n",
       "        fill_value='?',\n",
       "             dtype=object),\n",
       " 'params': [{'boosting_type': 'gbdt',\n",
       "   'learning_rate': 0.1,\n",
       "   'max_depth': 1,\n",
       "   'n_estimators': 10,\n",
       "   'num_leaves': 7,\n",
       "   'random_state': 123456},\n",
       "  {'boosting_type': 'gbdt',\n",
       "   'learning_rate': 0.1,\n",
       "   'max_depth': 1,\n",
       "   'n_estimators': 10,\n",
       "   'num_leaves': 31,\n",
       "   'random_state': 123456},\n",
       "  {'boosting_type': 'gbdt',\n",
       "   'learning_rate': 0.1,\n",
       "   'max_depth': 1,\n",
       "   'n_estimators': 10,\n",
       "   'num_leaves': 60,\n",
       "   'random_state': 123456},\n",
       "  {'boosting_type': 'gbdt',\n",
       "   'learning_rate': 0.1,\n",
       "   'max_depth': 1,\n",
       "   'n_estimators': 30,\n",
       "   'num_leaves': 7,\n",
       "   'random_state': 123456},\n",
       "  {'boosting_type': 'gbdt',\n",
       "   'learning_rate': 0.1,\n",
       "   'max_depth': 1,\n",
       "   'n_estimators': 30,\n",
       "   'num_leaves': 31,\n",
       "   'random_state': 123456},\n",
       "  {'boosting_type': 'gbdt',\n",
       "   'learning_rate': 0.1,\n",
       "   'max_depth': 1,\n",
       "   'n_estimators': 30,\n",
       "   'num_leaves': 60,\n",
       "   'random_state': 123456},\n",
       "  {'boosting_type': 'gbdt',\n",
       "   'learning_rate': 0.1,\n",
       "   'max_depth': 10,\n",
       "   'n_estimators': 10,\n",
       "   'num_leaves': 7,\n",
       "   'random_state': 123456},\n",
       "  {'boosting_type': 'gbdt',\n",
       "   'learning_rate': 0.1,\n",
       "   'max_depth': 10,\n",
       "   'n_estimators': 10,\n",
       "   'num_leaves': 31,\n",
       "   'random_state': 123456},\n",
       "  {'boosting_type': 'gbdt',\n",
       "   'learning_rate': 0.1,\n",
       "   'max_depth': 10,\n",
       "   'n_estimators': 10,\n",
       "   'num_leaves': 60,\n",
       "   'random_state': 123456},\n",
       "  {'boosting_type': 'gbdt',\n",
       "   'learning_rate': 0.1,\n",
       "   'max_depth': 10,\n",
       "   'n_estimators': 30,\n",
       "   'num_leaves': 7,\n",
       "   'random_state': 123456},\n",
       "  {'boosting_type': 'gbdt',\n",
       "   'learning_rate': 0.1,\n",
       "   'max_depth': 10,\n",
       "   'n_estimators': 30,\n",
       "   'num_leaves': 31,\n",
       "   'random_state': 123456},\n",
       "  {'boosting_type': 'gbdt',\n",
       "   'learning_rate': 0.1,\n",
       "   'max_depth': 10,\n",
       "   'n_estimators': 30,\n",
       "   'num_leaves': 60,\n",
       "   'random_state': 123456},\n",
       "  {'boosting_type': 'gbdt',\n",
       "   'learning_rate': 0.1,\n",
       "   'max_depth': -1,\n",
       "   'n_estimators': 10,\n",
       "   'num_leaves': 7,\n",
       "   'random_state': 123456},\n",
       "  {'boosting_type': 'gbdt',\n",
       "   'learning_rate': 0.1,\n",
       "   'max_depth': -1,\n",
       "   'n_estimators': 10,\n",
       "   'num_leaves': 31,\n",
       "   'random_state': 123456},\n",
       "  {'boosting_type': 'gbdt',\n",
       "   'learning_rate': 0.1,\n",
       "   'max_depth': -1,\n",
       "   'n_estimators': 10,\n",
       "   'num_leaves': 60,\n",
       "   'random_state': 123456},\n",
       "  {'boosting_type': 'gbdt',\n",
       "   'learning_rate': 0.1,\n",
       "   'max_depth': -1,\n",
       "   'n_estimators': 30,\n",
       "   'num_leaves': 7,\n",
       "   'random_state': 123456},\n",
       "  {'boosting_type': 'gbdt',\n",
       "   'learning_rate': 0.1,\n",
       "   'max_depth': -1,\n",
       "   'n_estimators': 30,\n",
       "   'num_leaves': 31,\n",
       "   'random_state': 123456},\n",
       "  {'boosting_type': 'gbdt',\n",
       "   'learning_rate': 0.1,\n",
       "   'max_depth': -1,\n",
       "   'n_estimators': 30,\n",
       "   'num_leaves': 60,\n",
       "   'random_state': 123456},\n",
       "  {'boosting_type': 'gbdt',\n",
       "   'learning_rate': 0.03,\n",
       "   'max_depth': 1,\n",
       "   'n_estimators': 10,\n",
       "   'num_leaves': 7,\n",
       "   'random_state': 123456},\n",
       "  {'boosting_type': 'gbdt',\n",
       "   'learning_rate': 0.03,\n",
       "   'max_depth': 1,\n",
       "   'n_estimators': 10,\n",
       "   'num_leaves': 31,\n",
       "   'random_state': 123456},\n",
       "  {'boosting_type': 'gbdt',\n",
       "   'learning_rate': 0.03,\n",
       "   'max_depth': 1,\n",
       "   'n_estimators': 10,\n",
       "   'num_leaves': 60,\n",
       "   'random_state': 123456},\n",
       "  {'boosting_type': 'gbdt',\n",
       "   'learning_rate': 0.03,\n",
       "   'max_depth': 1,\n",
       "   'n_estimators': 30,\n",
       "   'num_leaves': 7,\n",
       "   'random_state': 123456},\n",
       "  {'boosting_type': 'gbdt',\n",
       "   'learning_rate': 0.03,\n",
       "   'max_depth': 1,\n",
       "   'n_estimators': 30,\n",
       "   'num_leaves': 31,\n",
       "   'random_state': 123456},\n",
       "  {'boosting_type': 'gbdt',\n",
       "   'learning_rate': 0.03,\n",
       "   'max_depth': 1,\n",
       "   'n_estimators': 30,\n",
       "   'num_leaves': 60,\n",
       "   'random_state': 123456},\n",
       "  {'boosting_type': 'gbdt',\n",
       "   'learning_rate': 0.03,\n",
       "   'max_depth': 10,\n",
       "   'n_estimators': 10,\n",
       "   'num_leaves': 7,\n",
       "   'random_state': 123456},\n",
       "  {'boosting_type': 'gbdt',\n",
       "   'learning_rate': 0.03,\n",
       "   'max_depth': 10,\n",
       "   'n_estimators': 10,\n",
       "   'num_leaves': 31,\n",
       "   'random_state': 123456},\n",
       "  {'boosting_type': 'gbdt',\n",
       "   'learning_rate': 0.03,\n",
       "   'max_depth': 10,\n",
       "   'n_estimators': 10,\n",
       "   'num_leaves': 60,\n",
       "   'random_state': 123456},\n",
       "  {'boosting_type': 'gbdt',\n",
       "   'learning_rate': 0.03,\n",
       "   'max_depth': 10,\n",
       "   'n_estimators': 30,\n",
       "   'num_leaves': 7,\n",
       "   'random_state': 123456},\n",
       "  {'boosting_type': 'gbdt',\n",
       "   'learning_rate': 0.03,\n",
       "   'max_depth': 10,\n",
       "   'n_estimators': 30,\n",
       "   'num_leaves': 31,\n",
       "   'random_state': 123456},\n",
       "  {'boosting_type': 'gbdt',\n",
       "   'learning_rate': 0.03,\n",
       "   'max_depth': 10,\n",
       "   'n_estimators': 30,\n",
       "   'num_leaves': 60,\n",
       "   'random_state': 123456},\n",
       "  {'boosting_type': 'gbdt',\n",
       "   'learning_rate': 0.03,\n",
       "   'max_depth': -1,\n",
       "   'n_estimators': 10,\n",
       "   'num_leaves': 7,\n",
       "   'random_state': 123456},\n",
       "  {'boosting_type': 'gbdt',\n",
       "   'learning_rate': 0.03,\n",
       "   'max_depth': -1,\n",
       "   'n_estimators': 10,\n",
       "   'num_leaves': 31,\n",
       "   'random_state': 123456},\n",
       "  {'boosting_type': 'gbdt',\n",
       "   'learning_rate': 0.03,\n",
       "   'max_depth': -1,\n",
       "   'n_estimators': 10,\n",
       "   'num_leaves': 60,\n",
       "   'random_state': 123456},\n",
       "  {'boosting_type': 'gbdt',\n",
       "   'learning_rate': 0.03,\n",
       "   'max_depth': -1,\n",
       "   'n_estimators': 30,\n",
       "   'num_leaves': 7,\n",
       "   'random_state': 123456},\n",
       "  {'boosting_type': 'gbdt',\n",
       "   'learning_rate': 0.03,\n",
       "   'max_depth': -1,\n",
       "   'n_estimators': 30,\n",
       "   'num_leaves': 31,\n",
       "   'random_state': 123456},\n",
       "  {'boosting_type': 'gbdt',\n",
       "   'learning_rate': 0.03,\n",
       "   'max_depth': -1,\n",
       "   'n_estimators': 30,\n",
       "   'num_leaves': 60,\n",
       "   'random_state': 123456},\n",
       "  {'boosting_type': 'rf',\n",
       "   'learning_rate': 0.1,\n",
       "   'max_depth': 1,\n",
       "   'n_estimators': 10,\n",
       "   'num_leaves': 7,\n",
       "   'random_state': 123456},\n",
       "  {'boosting_type': 'rf',\n",
       "   'learning_rate': 0.1,\n",
       "   'max_depth': 1,\n",
       "   'n_estimators': 10,\n",
       "   'num_leaves': 31,\n",
       "   'random_state': 123456},\n",
       "  {'boosting_type': 'rf',\n",
       "   'learning_rate': 0.1,\n",
       "   'max_depth': 1,\n",
       "   'n_estimators': 10,\n",
       "   'num_leaves': 60,\n",
       "   'random_state': 123456},\n",
       "  {'boosting_type': 'rf',\n",
       "   'learning_rate': 0.1,\n",
       "   'max_depth': 1,\n",
       "   'n_estimators': 30,\n",
       "   'num_leaves': 7,\n",
       "   'random_state': 123456},\n",
       "  {'boosting_type': 'rf',\n",
       "   'learning_rate': 0.1,\n",
       "   'max_depth': 1,\n",
       "   'n_estimators': 30,\n",
       "   'num_leaves': 31,\n",
       "   'random_state': 123456},\n",
       "  {'boosting_type': 'rf',\n",
       "   'learning_rate': 0.1,\n",
       "   'max_depth': 1,\n",
       "   'n_estimators': 30,\n",
       "   'num_leaves': 60,\n",
       "   'random_state': 123456},\n",
       "  {'boosting_type': 'rf',\n",
       "   'learning_rate': 0.1,\n",
       "   'max_depth': 10,\n",
       "   'n_estimators': 10,\n",
       "   'num_leaves': 7,\n",
       "   'random_state': 123456},\n",
       "  {'boosting_type': 'rf',\n",
       "   'learning_rate': 0.1,\n",
       "   'max_depth': 10,\n",
       "   'n_estimators': 10,\n",
       "   'num_leaves': 31,\n",
       "   'random_state': 123456},\n",
       "  {'boosting_type': 'rf',\n",
       "   'learning_rate': 0.1,\n",
       "   'max_depth': 10,\n",
       "   'n_estimators': 10,\n",
       "   'num_leaves': 60,\n",
       "   'random_state': 123456},\n",
       "  {'boosting_type': 'rf',\n",
       "   'learning_rate': 0.1,\n",
       "   'max_depth': 10,\n",
       "   'n_estimators': 30,\n",
       "   'num_leaves': 7,\n",
       "   'random_state': 123456},\n",
       "  {'boosting_type': 'rf',\n",
       "   'learning_rate': 0.1,\n",
       "   'max_depth': 10,\n",
       "   'n_estimators': 30,\n",
       "   'num_leaves': 31,\n",
       "   'random_state': 123456},\n",
       "  {'boosting_type': 'rf',\n",
       "   'learning_rate': 0.1,\n",
       "   'max_depth': 10,\n",
       "   'n_estimators': 30,\n",
       "   'num_leaves': 60,\n",
       "   'random_state': 123456},\n",
       "  {'boosting_type': 'rf',\n",
       "   'learning_rate': 0.1,\n",
       "   'max_depth': -1,\n",
       "   'n_estimators': 10,\n",
       "   'num_leaves': 7,\n",
       "   'random_state': 123456},\n",
       "  {'boosting_type': 'rf',\n",
       "   'learning_rate': 0.1,\n",
       "   'max_depth': -1,\n",
       "   'n_estimators': 10,\n",
       "   'num_leaves': 31,\n",
       "   'random_state': 123456},\n",
       "  {'boosting_type': 'rf',\n",
       "   'learning_rate': 0.1,\n",
       "   'max_depth': -1,\n",
       "   'n_estimators': 10,\n",
       "   'num_leaves': 60,\n",
       "   'random_state': 123456},\n",
       "  {'boosting_type': 'rf',\n",
       "   'learning_rate': 0.1,\n",
       "   'max_depth': -1,\n",
       "   'n_estimators': 30,\n",
       "   'num_leaves': 7,\n",
       "   'random_state': 123456},\n",
       "  {'boosting_type': 'rf',\n",
       "   'learning_rate': 0.1,\n",
       "   'max_depth': -1,\n",
       "   'n_estimators': 30,\n",
       "   'num_leaves': 31,\n",
       "   'random_state': 123456},\n",
       "  {'boosting_type': 'rf',\n",
       "   'learning_rate': 0.1,\n",
       "   'max_depth': -1,\n",
       "   'n_estimators': 30,\n",
       "   'num_leaves': 60,\n",
       "   'random_state': 123456},\n",
       "  {'boosting_type': 'rf',\n",
       "   'learning_rate': 0.03,\n",
       "   'max_depth': 1,\n",
       "   'n_estimators': 10,\n",
       "   'num_leaves': 7,\n",
       "   'random_state': 123456},\n",
       "  {'boosting_type': 'rf',\n",
       "   'learning_rate': 0.03,\n",
       "   'max_depth': 1,\n",
       "   'n_estimators': 10,\n",
       "   'num_leaves': 31,\n",
       "   'random_state': 123456},\n",
       "  {'boosting_type': 'rf',\n",
       "   'learning_rate': 0.03,\n",
       "   'max_depth': 1,\n",
       "   'n_estimators': 10,\n",
       "   'num_leaves': 60,\n",
       "   'random_state': 123456},\n",
       "  {'boosting_type': 'rf',\n",
       "   'learning_rate': 0.03,\n",
       "   'max_depth': 1,\n",
       "   'n_estimators': 30,\n",
       "   'num_leaves': 7,\n",
       "   'random_state': 123456},\n",
       "  {'boosting_type': 'rf',\n",
       "   'learning_rate': 0.03,\n",
       "   'max_depth': 1,\n",
       "   'n_estimators': 30,\n",
       "   'num_leaves': 31,\n",
       "   'random_state': 123456},\n",
       "  {'boosting_type': 'rf',\n",
       "   'learning_rate': 0.03,\n",
       "   'max_depth': 1,\n",
       "   'n_estimators': 30,\n",
       "   'num_leaves': 60,\n",
       "   'random_state': 123456},\n",
       "  {'boosting_type': 'rf',\n",
       "   'learning_rate': 0.03,\n",
       "   'max_depth': 10,\n",
       "   'n_estimators': 10,\n",
       "   'num_leaves': 7,\n",
       "   'random_state': 123456},\n",
       "  {'boosting_type': 'rf',\n",
       "   'learning_rate': 0.03,\n",
       "   'max_depth': 10,\n",
       "   'n_estimators': 10,\n",
       "   'num_leaves': 31,\n",
       "   'random_state': 123456},\n",
       "  {'boosting_type': 'rf',\n",
       "   'learning_rate': 0.03,\n",
       "   'max_depth': 10,\n",
       "   'n_estimators': 10,\n",
       "   'num_leaves': 60,\n",
       "   'random_state': 123456},\n",
       "  {'boosting_type': 'rf',\n",
       "   'learning_rate': 0.03,\n",
       "   'max_depth': 10,\n",
       "   'n_estimators': 30,\n",
       "   'num_leaves': 7,\n",
       "   'random_state': 123456},\n",
       "  {'boosting_type': 'rf',\n",
       "   'learning_rate': 0.03,\n",
       "   'max_depth': 10,\n",
       "   'n_estimators': 30,\n",
       "   'num_leaves': 31,\n",
       "   'random_state': 123456},\n",
       "  {'boosting_type': 'rf',\n",
       "   'learning_rate': 0.03,\n",
       "   'max_depth': 10,\n",
       "   'n_estimators': 30,\n",
       "   'num_leaves': 60,\n",
       "   'random_state': 123456},\n",
       "  {'boosting_type': 'rf',\n",
       "   'learning_rate': 0.03,\n",
       "   'max_depth': -1,\n",
       "   'n_estimators': 10,\n",
       "   'num_leaves': 7,\n",
       "   'random_state': 123456},\n",
       "  {'boosting_type': 'rf',\n",
       "   'learning_rate': 0.03,\n",
       "   'max_depth': -1,\n",
       "   'n_estimators': 10,\n",
       "   'num_leaves': 31,\n",
       "   'random_state': 123456},\n",
       "  {'boosting_type': 'rf',\n",
       "   'learning_rate': 0.03,\n",
       "   'max_depth': -1,\n",
       "   'n_estimators': 10,\n",
       "   'num_leaves': 60,\n",
       "   'random_state': 123456},\n",
       "  {'boosting_type': 'rf',\n",
       "   'learning_rate': 0.03,\n",
       "   'max_depth': -1,\n",
       "   'n_estimators': 30,\n",
       "   'num_leaves': 7,\n",
       "   'random_state': 123456},\n",
       "  {'boosting_type': 'rf',\n",
       "   'learning_rate': 0.03,\n",
       "   'max_depth': -1,\n",
       "   'n_estimators': 30,\n",
       "   'num_leaves': 31,\n",
       "   'random_state': 123456},\n",
       "  {'boosting_type': 'rf',\n",
       "   'learning_rate': 0.03,\n",
       "   'max_depth': -1,\n",
       "   'n_estimators': 30,\n",
       "   'num_leaves': 60,\n",
       "   'random_state': 123456}],\n",
       " 'split0_test_score': array([-3518.56035734, -3518.56035734, -3518.56035734, -2820.99714886,\n",
       "        -2820.99714886, -2820.99714886, -2870.37279302, -2574.48508083,\n",
       "        -2496.04814573, -2083.83726048, -1857.3625872 , -1805.32658451,\n",
       "        -2870.37279302, -2574.48508083, -2496.04814573, -2083.83726048,\n",
       "        -1856.7939761 , -1805.17139517, -4108.59175811, -4108.59175811,\n",
       "        -4108.59175811, -3600.63582509, -3600.63582509, -3600.63582509,\n",
       "        -3843.06535889, -3708.17552441, -3675.86770126, -2984.92475298,\n",
       "        -2710.86400734, -2638.80096292, -3843.06535889, -3708.17552441,\n",
       "        -3675.86770126, -2984.92475298, -2710.86400734, -2638.80096292,\n",
       "                   nan,            nan,            nan,            nan,\n",
       "                   nan,            nan,            nan,            nan,\n",
       "                   nan,            nan,            nan,            nan,\n",
       "                   nan,            nan,            nan,            nan,\n",
       "                   nan,            nan,            nan,            nan,\n",
       "                   nan,            nan,            nan,            nan,\n",
       "                   nan,            nan,            nan,            nan,\n",
       "                   nan,            nan,            nan,            nan,\n",
       "                   nan,            nan,            nan,            nan]),\n",
       " 'split1_test_score': array([-3534.19664171, -3534.19664171, -3534.19664171, -2826.51124371,\n",
       "        -2826.51124371, -2826.51124371, -2875.89496975, -2584.09002019,\n",
       "        -2506.2740129 , -2079.79754568, -1847.48804081, -1792.16860719,\n",
       "        -2875.89496975, -2584.09002019, -2506.2740129 , -2079.79754568,\n",
       "        -1847.22282164, -1793.05097807, -4138.47413335, -4138.47413335,\n",
       "        -4138.47413335, -3617.79941726, -3617.79941726, -3617.79941726,\n",
       "        -3871.77827258, -3735.58701106, -3701.58351069, -2995.26657158,\n",
       "        -2721.63286612, -2648.77053236, -3871.77827258, -3735.58701106,\n",
       "        -3701.58351069, -2995.26657158, -2721.63286612, -2648.77053236,\n",
       "                   nan,            nan,            nan,            nan,\n",
       "                   nan,            nan,            nan,            nan,\n",
       "                   nan,            nan,            nan,            nan,\n",
       "                   nan,            nan,            nan,            nan,\n",
       "                   nan,            nan,            nan,            nan,\n",
       "                   nan,            nan,            nan,            nan,\n",
       "                   nan,            nan,            nan,            nan,\n",
       "                   nan,            nan,            nan,            nan,\n",
       "                   nan,            nan,            nan,            nan]),\n",
       " 'split2_test_score': array([-3537.77098704, -3537.77098704, -3537.77098704, -2829.46487797,\n",
       "        -2829.46487797, -2829.46487797, -2879.33354051, -2583.72362287,\n",
       "        -2505.72579652, -2081.09054549, -1850.21484843, -1796.48867694,\n",
       "        -2879.33354051, -2583.72362287, -2505.72579652, -2081.09054549,\n",
       "        -1850.21484843, -1791.76965084, -4139.12989529, -4139.12989529,\n",
       "        -4139.12989529, -3621.15063893, -3621.15063893, -3621.15063893,\n",
       "        -3870.7995557 , -3732.66647004, -3699.07272882, -2999.92319688,\n",
       "        -2722.91019388, -2646.17071052, -3870.7995557 , -3732.66647004,\n",
       "        -3699.07272882, -2999.92319688, -2722.91019388, -2646.17071052,\n",
       "                   nan,            nan,            nan,            nan,\n",
       "                   nan,            nan,            nan,            nan,\n",
       "                   nan,            nan,            nan,            nan,\n",
       "                   nan,            nan,            nan,            nan,\n",
       "                   nan,            nan,            nan,            nan,\n",
       "                   nan,            nan,            nan,            nan,\n",
       "                   nan,            nan,            nan,            nan,\n",
       "                   nan,            nan,            nan,            nan,\n",
       "                   nan,            nan,            nan,            nan]),\n",
       " 'split3_test_score': array([-3561.52749322, -3561.52749322, -3561.52749322, -2852.6660517 ,\n",
       "        -2852.6660517 , -2852.6660517 , -2901.15563314, -2605.19344531,\n",
       "        -2528.53184846, -2107.55903403, -1877.51292222, -1825.3133034 ,\n",
       "        -2901.15563314, -2605.19344531, -2528.53184846, -2107.55903403,\n",
       "        -1877.8278177 , -1825.83012379, -4162.36901483, -4162.36901483,\n",
       "        -4162.36901483, -3645.5228034 , -3645.5228034 , -3645.5228034 ,\n",
       "        -3891.63171969, -3754.09386102, -3720.24096628, -3019.29156546,\n",
       "        -2742.19852198, -2669.05690458, -3891.63171969, -3754.09386102,\n",
       "        -3720.24096628, -3019.29156546, -2742.19852198, -2669.05690458,\n",
       "                   nan,            nan,            nan,            nan,\n",
       "                   nan,            nan,            nan,            nan,\n",
       "                   nan,            nan,            nan,            nan,\n",
       "                   nan,            nan,            nan,            nan,\n",
       "                   nan,            nan,            nan,            nan,\n",
       "                   nan,            nan,            nan,            nan,\n",
       "                   nan,            nan,            nan,            nan,\n",
       "                   nan,            nan,            nan,            nan,\n",
       "                   nan,            nan,            nan,            nan]),\n",
       " 'split4_test_score': array([-3533.84163527, -3533.84163527, -3533.84163527, -2831.76363034,\n",
       "        -2831.76363034, -2831.76363034, -2882.19067465, -2590.13488016,\n",
       "        -2507.76797948, -2090.2619357 , -1862.8707612 , -1805.13335169,\n",
       "        -2882.19067465, -2590.13488016, -2507.76797948, -2090.2619357 ,\n",
       "        -1862.65565278, -1804.14622989, -4130.89417932, -4130.89417932,\n",
       "        -4130.89417932, -3616.9551216 , -3616.9551216 , -3616.9551216 ,\n",
       "        -3868.10276281, -3728.13735412, -3695.95155524, -3001.27965051,\n",
       "        -2723.85913758, -2650.21605209, -3868.10276281, -3728.13735412,\n",
       "        -3695.95155524, -3001.27965051, -2723.85913758, -2650.21605209,\n",
       "                   nan,            nan,            nan,            nan,\n",
       "                   nan,            nan,            nan,            nan,\n",
       "                   nan,            nan,            nan,            nan,\n",
       "                   nan,            nan,            nan,            nan,\n",
       "                   nan,            nan,            nan,            nan,\n",
       "                   nan,            nan,            nan,            nan,\n",
       "                   nan,            nan,            nan,            nan,\n",
       "                   nan,            nan,            nan,            nan,\n",
       "                   nan,            nan,            nan,            nan]),\n",
       " 'mean_test_score': array([-3537.17942291, -3537.17942291, -3537.17942291, -2832.28059051,\n",
       "        -2832.28059051, -2832.28059051, -2881.78952221, -2587.52540987,\n",
       "        -2508.86955662, -2088.50926428, -1859.08983197, -1804.88610474,\n",
       "        -2881.78952221, -2587.52540987, -2508.86955662, -2088.50926428,\n",
       "        -1858.94302333, -1803.99367555, -4135.89179618, -4135.89179618,\n",
       "        -4135.89179618, -3620.41276126, -3620.41276126, -3620.41276126,\n",
       "        -3869.07553394, -3731.73204413, -3698.54329246, -3000.13714748,\n",
       "        -2724.29294538, -2650.6030325 , -3869.07553394, -3731.73204413,\n",
       "        -3698.54329246, -3000.13714748, -2724.29294538, -2650.6030325 ,\n",
       "                   nan,            nan,            nan,            nan,\n",
       "                   nan,            nan,            nan,            nan,\n",
       "                   nan,            nan,            nan,            nan,\n",
       "                   nan,            nan,            nan,            nan,\n",
       "                   nan,            nan,            nan,            nan,\n",
       "                   nan,            nan,            nan,            nan,\n",
       "                   nan,            nan,            nan,            nan,\n",
       "                   nan,            nan,            nan,            nan,\n",
       "                   nan,            nan,            nan,            nan]),\n",
       " 'std_test_score': array([13.85558291, 13.85558291, 13.85558291, 10.81077177, 10.81077177,\n",
       "        10.81077177, 10.45300413, 10.15159573, 10.66609436, 10.18552535,\n",
       "        10.67760222, 11.39979944, 10.45300413, 10.15159573, 10.66609436,\n",
       "        10.18552535, 10.84971561, 12.22628461, 17.25378284, 17.25378284,\n",
       "        17.25378284, 14.42893429, 14.42893429, 14.42893429, 15.46954461,\n",
       "        14.72152298, 14.15070187, 11.16586112, 10.10071545, 10.02983081,\n",
       "        15.46954461, 14.72152298, 14.15070187, 11.16586112, 10.10071545,\n",
       "        10.02983081,         nan,         nan,         nan,         nan,\n",
       "                nan,         nan,         nan,         nan,         nan,\n",
       "                nan,         nan,         nan,         nan,         nan,\n",
       "                nan,         nan,         nan,         nan,         nan,\n",
       "                nan,         nan,         nan,         nan,         nan,\n",
       "                nan,         nan,         nan,         nan,         nan,\n",
       "                nan,         nan,         nan,         nan,         nan,\n",
       "                nan,         nan]),\n",
       " 'rank_test_score': array([22, 22, 22, 15, 15, 15, 18,  9,  7,  5,  4,  2, 18,  9,  7,  5,  3,\n",
       "         1, 34, 34, 34, 25, 25, 25, 32, 30, 28, 20, 13, 11, 32, 30, 28, 20,\n",
       "        13, 11, 57, 58, 59, 60, 61, 62, 63, 64, 65, 66, 54, 67, 68, 69, 70,\n",
       "        55, 71, 53, 49, 38, 39, 40, 41, 42, 37, 43, 52, 45, 46, 47, 48, 44,\n",
       "        50, 51, 56, 72])}"
      ]
     },
     "execution_count": 99,
     "metadata": {},
     "output_type": "execute_result"
    }
   ],
   "source": [
    "t0 = timeit.default_timer()\n",
    "param_grid = {\n",
    "    'boosting_type': ['gbdt', 'rf'],\n",
    "    'max_depth': [1, 10, -1],\n",
    "    'n_estimators': [10, 30],\n",
    "    'num_leaves': [7, 31, 60],\n",
    "    'learning_rate': [0.1, 0.03],\n",
    "    'random_state': [123456]\n",
    "}\n",
    "lgbm_raw_gs = GridSearchCV(\n",
    "    LGBMRegressor(),\n",
    "    param_grid=param_grid,\n",
    "    scoring='neg_root_mean_squared_error',\n",
    "    refit=True,\n",
    "    verbose=1\n",
    ")\n",
    "lgbm_raw_gs.fit(features_raw_train, target_train)\n",
    "lgbm_raw_gs_dt = timeit.default_timer() - t0\n",
    "lgbm_raw_gs.cv_results_"
   ]
  },
  {
   "cell_type": "markdown",
   "metadata": {},
   "source": [
    "Обучение модели случайного регрессионного леса для всех заданных комбинаций гиперпараметров в секундах."
   ]
  },
  {
   "cell_type": "code",
   "execution_count": 100,
   "metadata": {
    "ExecuteTime": {
     "end_time": "2021-10-16T13:37:32.966490Z",
     "start_time": "2021-10-16T13:37:32.952754Z"
    }
   },
   "outputs": [
    {
     "data": {
      "text/plain": [
       "75.6950185"
      ]
     },
     "execution_count": 100,
     "metadata": {},
     "output_type": "execute_result"
    }
   ],
   "source": [
    "lgbm_raw_gs_dt"
   ]
  },
  {
   "cell_type": "markdown",
   "metadata": {},
   "source": [
    "Среднее время обучения модели с лучшим набором гиперпараметров в секундах."
   ]
  },
  {
   "cell_type": "code",
   "execution_count": 101,
   "metadata": {
    "ExecuteTime": {
     "end_time": "2021-10-16T13:37:32.982241Z",
     "start_time": "2021-10-16T13:37:32.968462Z"
    }
   },
   "outputs": [
    {
     "data": {
      "text/plain": [
       "0.6477585315704346"
      ]
     },
     "execution_count": 101,
     "metadata": {},
     "output_type": "execute_result"
    }
   ],
   "source": [
    "lgbm_raw_gs.cv_results_['mean_fit_time'][lgbm_raw_gs.best_index_ ]"
   ]
  },
  {
   "cell_type": "markdown",
   "metadata": {},
   "source": [
    "Лучший набор гиперпараметров."
   ]
  },
  {
   "cell_type": "code",
   "execution_count": 102,
   "metadata": {
    "ExecuteTime": {
     "end_time": "2021-10-16T13:37:32.997742Z",
     "start_time": "2021-10-16T13:37:32.983148Z"
    }
   },
   "outputs": [
    {
     "data": {
      "text/plain": [
       "{'boosting_type': 'gbdt',\n",
       " 'learning_rate': 0.1,\n",
       " 'max_depth': -1,\n",
       " 'n_estimators': 30,\n",
       " 'num_leaves': 60,\n",
       " 'random_state': 123456}"
      ]
     },
     "execution_count": 102,
     "metadata": {},
     "output_type": "execute_result"
    }
   ],
   "source": [
    "lgbm_raw_gs.best_params_"
   ]
  },
  {
   "cell_type": "markdown",
   "metadata": {},
   "source": [
    "Лучшее достигнутое значение **RSME**, умноженное на -1."
   ]
  },
  {
   "cell_type": "code",
   "execution_count": 103,
   "metadata": {
    "ExecuteTime": {
     "end_time": "2021-10-16T13:37:33.013357Z",
     "start_time": "2021-10-16T13:37:32.998767Z"
    }
   },
   "outputs": [
    {
     "data": {
      "text/plain": [
       "-1803.9936755503902"
      ]
     },
     "execution_count": 103,
     "metadata": {},
     "output_type": "execute_result"
    }
   ],
   "source": [
    "lgbm_raw_gs.best_score_"
   ]
  },
  {
   "cell_type": "markdown",
   "metadata": {
    "ExecuteTime": {
     "end_time": "2021-09-28T20:06:19.753123Z",
     "start_time": "2021-09-28T20:06:19.737381Z"
    }
   },
   "source": [
    "Топ 10 самых важных признаков, влияющих на качество предсказания модели."
   ]
  },
  {
   "cell_type": "code",
   "execution_count": 104,
   "metadata": {
    "ExecuteTime": {
     "end_time": "2021-10-16T13:37:33.030113Z",
     "start_time": "2021-10-16T13:37:33.014215Z"
    },
    "scrolled": true
   },
   "outputs": [
    {
     "data": {
      "text/plain": [
       "Model               436\n",
       "RegistrationYear    302\n",
       "Power               273\n",
       "Kilometer           258\n",
       "NotRepaired         135\n",
       "VehicleType         125\n",
       "Brand               121\n",
       "ActivityDays        105\n",
       "Gearbox              15\n",
       "FuelType              0\n",
       "dtype: int32"
      ]
     },
     "execution_count": 104,
     "metadata": {},
     "output_type": "execute_result"
    }
   ],
   "source": [
    "lgbm_raw_fi = pd.Series(lgbm_raw_gs.best_estimator_.feature_importances_, index=features_raw)\n",
    "lgbm_raw_fi.sort_values(ascending=False, inplace=True)\n",
    "lgbm_raw_fi.head(10)"
   ]
  },
  {
   "cell_type": "code",
   "execution_count": 105,
   "metadata": {
    "ExecuteTime": {
     "end_time": "2021-10-16T13:37:33.186215Z",
     "start_time": "2021-10-16T13:37:33.030831Z"
    }
   },
   "outputs": [
    {
     "data": {
      "image/png": "[encoded data removed]",
      "text/plain": [
       "<Figure size 1152x576 with 1 Axes>"
      ]
     },
     "metadata": {},
     "output_type": "display_data"
    }
   ],
   "source": [
    "ax = lgbm_raw_fi.head(10).plot.barh(\\\n",
    "    figsize=(16, 8), title='Топ 10 наиболее важных признаков для лучшей модели \\\n",
    "LGBMRegressor (непреобразованные категориальные признаки)');\n",
    "ax.invert_yaxis()"
   ]
  },
  {
   "cell_type": "markdown",
   "metadata": {},
   "source": [
    "В первой тройке модель **Model**, год регистрации **RegistraionYear** и мощность двигателя **Power**. Далее с небольшим отставанием пробег **Kilometer** и, уже с более заметным отставанием, информация о ремонте **NotRepaired**. **ActivityDays** на месте, а тип топлива **FuelType** никого не интересует.\n",
    "\n",
    "**RMSE** на тестовой выборке."
   ]
  },
  {
   "cell_type": "code",
   "execution_count": 106,
   "metadata": {
    "ExecuteTime": {
     "end_time": "2021-10-16T13:37:33.250105Z",
     "start_time": "2021-10-16T13:37:33.187728Z"
    }
   },
   "outputs": [
    {
     "data": {
      "text/plain": [
       "1805.316788104531"
      ]
     },
     "execution_count": 106,
     "metadata": {},
     "output_type": "execute_result"
    }
   ],
   "source": [
    "t0 = timeit.default_timer()\n",
    "lgbm_raw_predict = lgbm_raw_gs.best_estimator_.predict(features_raw_test)\n",
    "lgbm_raw_predict_dt = timeit.default_timer() - t0\n",
    "lgbm_raw_rmse_test = mean_squared_error(target_test, lgbm_raw_predict) ** 0.5\n",
    "lgbm_raw_rmse_test"
   ]
  },
  {
   "cell_type": "markdown",
   "metadata": {},
   "source": [
    "### Градиентный бустинг CatBoostRegressor на непреобразованных данных"
   ]
  },
  {
   "cell_type": "code",
   "execution_count": 107,
   "metadata": {
    "ExecuteTime": {
     "end_time": "2021-10-16T13:39:54.477902Z",
     "start_time": "2021-10-16T13:37:33.251877Z"
    },
    "scrolled": true
   },
   "outputs": [
    {
     "name": "stdout",
     "output_type": "stream",
     "text": [
      "Fitting 5 folds for each of 6 candidates, totalling 30 fits\n",
      "[CV] END depth=2, iterations=50, loss_function=RMSE, verbose=False; total time=   1.8s\n",
      "[CV] END depth=2, iterations=50, loss_function=RMSE, verbose=False; total time=   1.4s\n",
      "[CV] END depth=2, iterations=50, loss_function=RMSE, verbose=False; total time=   1.3s\n",
      "[CV] END depth=2, iterations=50, loss_function=RMSE, verbose=False; total time=   1.2s\n",
      "[CV] END depth=2, iterations=50, loss_function=RMSE, verbose=False; total time=   1.5s\n",
      "[CV] END depth=2, iterations=100, loss_function=RMSE, verbose=False; total time=   2.1s\n",
      "[CV] END depth=2, iterations=100, loss_function=RMSE, verbose=False; total time=   2.6s\n",
      "[CV] END depth=2, iterations=100, loss_function=RMSE, verbose=False; total time=   2.1s\n",
      "[CV] END depth=2, iterations=100, loss_function=RMSE, verbose=False; total time=   2.6s\n",
      "[CV] END depth=2, iterations=100, loss_function=RMSE, verbose=False; total time=   2.1s\n",
      "[CV] END depth=5, iterations=50, loss_function=RMSE, verbose=False; total time=   2.7s\n",
      "[CV] END depth=5, iterations=50, loss_function=RMSE, verbose=False; total time=   3.1s\n",
      "[CV] END depth=5, iterations=50, loss_function=RMSE, verbose=False; total time=   2.5s\n",
      "[CV] END depth=5, iterations=50, loss_function=RMSE, verbose=False; total time=   2.9s\n",
      "[CV] END depth=5, iterations=50, loss_function=RMSE, verbose=False; total time=   2.2s\n",
      "[CV] END depth=5, iterations=100, loss_function=RMSE, verbose=False; total time=   4.3s\n",
      "[CV] END depth=5, iterations=100, loss_function=RMSE, verbose=False; total time=   3.9s\n",
      "[CV] END depth=5, iterations=100, loss_function=RMSE, verbose=False; total time=   4.2s\n",
      "[CV] END depth=5, iterations=100, loss_function=RMSE, verbose=False; total time=   4.4s\n",
      "[CV] END depth=5, iterations=100, loss_function=RMSE, verbose=False; total time=   4.1s\n",
      "[CV] END depth=10, iterations=50, loss_function=RMSE, verbose=False; total time=   4.7s\n",
      "[CV] END depth=10, iterations=50, loss_function=RMSE, verbose=False; total time=   5.1s\n",
      "[CV] END depth=10, iterations=50, loss_function=RMSE, verbose=False; total time=   5.5s\n",
      "[CV] END depth=10, iterations=50, loss_function=RMSE, verbose=False; total time=   5.3s\n",
      "[CV] END depth=10, iterations=50, loss_function=RMSE, verbose=False; total time=   4.9s\n",
      "[CV] END depth=10, iterations=100, loss_function=RMSE, verbose=False; total time=   9.5s\n",
      "[CV] END depth=10, iterations=100, loss_function=RMSE, verbose=False; total time=   9.7s\n",
      "[CV] END depth=10, iterations=100, loss_function=RMSE, verbose=False; total time=   9.5s\n",
      "[CV] END depth=10, iterations=100, loss_function=RMSE, verbose=False; total time=  10.2s\n",
      "[CV] END depth=10, iterations=100, loss_function=RMSE, verbose=False; total time=   9.5s\n"
     ]
    },
    {
     "data": {
      "text/plain": [
       "{'mean_fit_time': array([1.50820913, 2.35555692, 2.73490491, 4.2293222 , 5.15880332,\n",
       "        9.73559551]),\n",
       " 'std_fit_time': array([0.17502979, 0.22925315, 0.3138119 , 0.16034105, 0.25926751,\n",
       "        0.27411679]),\n",
       " 'mean_score_time': array([0.04096437, 0.04460225, 0.04111643, 0.04689617, 0.044139  ,\n",
       "        0.04454217]),\n",
       " 'std_score_time': array([0.01040753, 0.00960373, 0.0120654 , 0.00610923, 0.01155128,\n",
       "        0.00713631]),\n",
       " 'param_depth': masked_array(data=[2, 2, 5, 5, 10, 10],\n",
       "              mask=[False, False, False, False, False, False],\n",
       "        fill_value='?',\n",
       "             dtype=object),\n",
       " 'param_iterations': masked_array(data=[50, 100, 50, 100, 50, 100],\n",
       "              mask=[False, False, False, False, False, False],\n",
       "        fill_value='?',\n",
       "             dtype=object),\n",
       " 'param_loss_function': masked_array(data=['RMSE', 'RMSE', 'RMSE', 'RMSE', 'RMSE', 'RMSE'],\n",
       "              mask=[False, False, False, False, False, False],\n",
       "        fill_value='?',\n",
       "             dtype=object),\n",
       " 'param_verbose': masked_array(data=[False, False, False, False, False, False],\n",
       "              mask=[False, False, False, False, False, False],\n",
       "        fill_value='?',\n",
       "             dtype=object),\n",
       " 'params': [{'depth': 2,\n",
       "   'iterations': 50,\n",
       "   'loss_function': 'RMSE',\n",
       "   'verbose': False},\n",
       "  {'depth': 2, 'iterations': 100, 'loss_function': 'RMSE', 'verbose': False},\n",
       "  {'depth': 5, 'iterations': 50, 'loss_function': 'RMSE', 'verbose': False},\n",
       "  {'depth': 5, 'iterations': 100, 'loss_function': 'RMSE', 'verbose': False},\n",
       "  {'depth': 10, 'iterations': 50, 'loss_function': 'RMSE', 'verbose': False},\n",
       "  {'depth': 10, 'iterations': 100, 'loss_function': 'RMSE', 'verbose': False}],\n",
       " 'split0_test_score': array([-2042.29614162, -1967.37769713, -1852.16892872, -1799.8729815 ,\n",
       "        -1742.63408837, -1716.69336373]),\n",
       " 'split1_test_score': array([-2033.24560018, -1949.27782594, -1825.08883555, -1781.69143654,\n",
       "        -1719.70070974, -1696.84061686]),\n",
       " 'split2_test_score': array([-2012.33283772, -1937.81379544, -1844.41283713, -1787.65244458,\n",
       "        -1727.78186049, -1702.04124724]),\n",
       " 'split3_test_score': array([-2062.99514422, -1979.24102959, -1870.09230196, -1823.13489103,\n",
       "        -1759.881315  , -1741.17985536]),\n",
       " 'split4_test_score': array([-2049.58202167, -1964.99569165, -1854.36340459, -1803.67177447,\n",
       "        -1752.41240211, -1717.00190358]),\n",
       " 'mean_test_score': array([-2040.09034908, -1959.74120795, -1849.22526159, -1799.20470563,\n",
       "        -1740.48207514, -1714.75139736]),\n",
       " 'std_test_score': array([16.95238646, 14.53590308, 14.67123413, 14.37514799, 14.94292455,\n",
       "        15.42493681]),\n",
       " 'rank_test_score': array([6, 5, 4, 3, 2, 1])}"
      ]
     },
     "execution_count": 107,
     "metadata": {},
     "output_type": "execute_result"
    }
   ],
   "source": [
    "param_grid = {\n",
    "    'iterations': [50, 100],\n",
    "    'depth': [2, 5, 10],\n",
    "    'loss_function': ['RMSE'],\n",
    "    'verbose': [False]\n",
    "}\n",
    "\n",
    "cb_raw_gs = GridSearchCV(\n",
    "    estimator=CatBoostRegressor(cat_features=features_categorical),\n",
    "    param_grid=param_grid,\n",
    "    scoring='neg_root_mean_squared_error',\n",
    "    refit=True,\n",
    "    verbose=2\n",
    ")\n",
    "cb_raw_gs.fit(features_raw_train, target_train)\n",
    "cb_raw_gs_dt = timeit.default_timer() - t0\n",
    "cb_raw_gs.cv_results_"
   ]
  },
  {
   "cell_type": "markdown",
   "metadata": {},
   "source": [
    "Обучение модели случайного регрессионного леса для всех заданных комбинаций гиперпараметров в секундах."
   ]
  },
  {
   "cell_type": "code",
   "execution_count": 108,
   "metadata": {
    "ExecuteTime": {
     "end_time": "2021-10-16T13:39:54.493912Z",
     "start_time": "2021-10-16T13:39:54.477902Z"
    }
   },
   "outputs": [
    {
     "data": {
      "text/plain": [
       "141.26820200000003"
      ]
     },
     "execution_count": 108,
     "metadata": {},
     "output_type": "execute_result"
    }
   ],
   "source": [
    "cb_raw_gs_dt"
   ]
  },
  {
   "cell_type": "markdown",
   "metadata": {},
   "source": [
    "Среднее время обучения модели с лучшим набором гиперпараметров в секундах."
   ]
  },
  {
   "cell_type": "code",
   "execution_count": 109,
   "metadata": {
    "ExecuteTime": {
     "end_time": "2021-10-16T13:39:54.524981Z",
     "start_time": "2021-10-16T13:39:54.495679Z"
    }
   },
   "outputs": [
    {
     "data": {
      "text/plain": [
       "9.735595512390137"
      ]
     },
     "execution_count": 109,
     "metadata": {},
     "output_type": "execute_result"
    }
   ],
   "source": [
    "cb_raw_gs.cv_results_['mean_fit_time'][cb_raw_gs.best_index_ ]"
   ]
  },
  {
   "cell_type": "markdown",
   "metadata": {},
   "source": [
    "Лучший набор гиперпараметров."
   ]
  },
  {
   "cell_type": "code",
   "execution_count": 110,
   "metadata": {
    "ExecuteTime": {
     "end_time": "2021-10-16T13:39:54.540776Z",
     "start_time": "2021-10-16T13:39:54.525887Z"
    }
   },
   "outputs": [
    {
     "data": {
      "text/plain": [
       "{'depth': 10, 'iterations': 100, 'loss_function': 'RMSE', 'verbose': False}"
      ]
     },
     "execution_count": 110,
     "metadata": {},
     "output_type": "execute_result"
    }
   ],
   "source": [
    "cb_raw_gs.best_params_"
   ]
  },
  {
   "cell_type": "markdown",
   "metadata": {},
   "source": [
    "Лучшее достигнутое значение **RSME**, умноженное на -1."
   ]
  },
  {
   "cell_type": "code",
   "execution_count": 111,
   "metadata": {
    "ExecuteTime": {
     "end_time": "2021-10-16T13:39:54.557991Z",
     "start_time": "2021-10-16T13:39:54.541883Z"
    }
   },
   "outputs": [
    {
     "data": {
      "text/plain": [
       "-1714.7513973553032"
      ]
     },
     "execution_count": 111,
     "metadata": {},
     "output_type": "execute_result"
    }
   ],
   "source": [
    "cb_raw_gs.best_score_"
   ]
  },
  {
   "cell_type": "markdown",
   "metadata": {
    "ExecuteTime": {
     "end_time": "2021-09-28T20:06:19.753123Z",
     "start_time": "2021-09-28T20:06:19.737381Z"
    }
   },
   "source": [
    "Топ 10 самых важных признаков, влияющих на качество предсказания модели."
   ]
  },
  {
   "cell_type": "code",
   "execution_count": 112,
   "metadata": {
    "ExecuteTime": {
     "end_time": "2021-10-16T13:39:54.573862Z",
     "start_time": "2021-10-16T13:39:54.558706Z"
    },
    "scrolled": true
   },
   "outputs": [
    {
     "data": {
      "text/plain": [
       "RegistrationYear    27.588561\n",
       "Power               27.548354\n",
       "Brand               11.192655\n",
       "Kilometer           10.975463\n",
       "VehicleType          9.157377\n",
       "Model                5.718312\n",
       "NotRepaired          3.581722\n",
       "ActivityDays         2.712651\n",
       "Gearbox              1.193775\n",
       "FuelType             0.331131\n",
       "dtype: float64"
      ]
     },
     "execution_count": 112,
     "metadata": {},
     "output_type": "execute_result"
    }
   ],
   "source": [
    "cb_raw_fi = pd.Series(cb_raw_gs.best_estimator_.feature_importances_, index=features_raw)\n",
    "cb_raw_fi.sort_values(ascending=False, inplace=True)\n",
    "cb_raw_fi.head(10)"
   ]
  },
  {
   "cell_type": "code",
   "execution_count": 113,
   "metadata": {
    "ExecuteTime": {
     "end_time": "2021-10-16T13:39:54.781760Z",
     "start_time": "2021-10-16T13:39:54.574760Z"
    }
   },
   "outputs": [
    {
     "data": {
      "image/png": "[encoded data removed]",
      "text/plain": [
       "<Figure size 1152x576 with 1 Axes>"
      ]
     },
     "metadata": {},
     "output_type": "display_data"
    }
   ],
   "source": [
    "ax = cb_raw_fi.head(10).plot.barh(\\\n",
    "    figsize=(16, 8), title='Топ 10 наиболее важных признаков для лучшей модели \\\n",
    "CatBoostRegressor (непреобразованные категориальные признаки)');\n",
    "ax.invert_yaxis()"
   ]
  },
  {
   "cell_type": "markdown",
   "metadata": {},
   "source": [
    "В первой тройке год регистрации **RegistraionYear**, мощность двигателя **Power** и бренд **Brand**.\n",
    "\n",
    "**RMSE** на тестовой выборке."
   ]
  },
  {
   "cell_type": "code",
   "execution_count": 114,
   "metadata": {
    "ExecuteTime": {
     "end_time": "2021-10-16T13:39:54.876752Z",
     "start_time": "2021-10-16T13:39:54.784787Z"
    }
   },
   "outputs": [
    {
     "data": {
      "text/plain": [
       "1712.0412684418643"
      ]
     },
     "execution_count": 114,
     "metadata": {},
     "output_type": "execute_result"
    }
   ],
   "source": [
    "t0 = timeit.default_timer()\n",
    "cb_raw_predict = cb_raw_gs.best_estimator_.predict(features_raw_test)\n",
    "cb_raw_predict_dt = timeit.default_timer() - t0\n",
    "cb_raw_rmse_test = mean_squared_error(target_test, cb_raw_predict) ** 0.5\n",
    "cb_raw_rmse_test"
   ]
  },
  {
   "cell_type": "markdown",
   "metadata": {
    "ExecuteTime": {
     "end_time": "2021-09-28T21:26:05.565612Z",
     "start_time": "2021-09-28T21:26:05.548150Z"
    }
   },
   "source": [
    "### Примитивный регрессор DummyRegressor"
   ]
  },
  {
   "cell_type": "markdown",
   "metadata": {},
   "source": [
    "Обученные модели необходимо сравнить с примитивным регрессором. Обучим **DummyRegressor** библиотеки **Scikit Learn** на обучающих выборках. В качестве стратегии выберем \"среднее\". При такой стратегии неважно на какой выборке обучать регрессор? на **features_trf_train** или **features_raw_train**, т.к. он усредняeт таргет."
   ]
  },
  {
   "cell_type": "code",
   "execution_count": 115,
   "metadata": {
    "ExecuteTime": {
     "end_time": "2021-10-16T13:39:54.892149Z",
     "start_time": "2021-10-16T13:39:54.878809Z"
    }
   },
   "outputs": [
    {
     "data": {
      "text/plain": [
       "DummyRegressor()"
      ]
     },
     "execution_count": 115,
     "metadata": {},
     "output_type": "execute_result"
    }
   ],
   "source": [
    "dr = DummyRegressor(strategy=\"mean\")\n",
    "dr.fit(features_trf_train, target_train)"
   ]
  },
  {
   "cell_type": "markdown",
   "metadata": {
    "ExecuteTime": {
     "end_time": "2021-09-29T00:21:37.991181Z",
     "start_time": "2021-09-29T00:21:37.973687Z"
    }
   },
   "source": [
    "**RMSE** на тестовой выборке."
   ]
  },
  {
   "cell_type": "code",
   "execution_count": 116,
   "metadata": {
    "ExecuteTime": {
     "end_time": "2021-10-16T13:39:54.907853Z",
     "start_time": "2021-10-16T13:39:54.895352Z"
    }
   },
   "outputs": [
    {
     "data": {
      "text/plain": [
       "4586.340622702719"
      ]
     },
     "execution_count": 116,
     "metadata": {},
     "output_type": "execute_result"
    }
   ],
   "source": [
    "t0 = timeit.default_timer()\n",
    "dr_predict = dr.predict(features_trf_test)\n",
    "dr_predict_dt = timeit.default_timer() - t0\n",
    "dr_rmse_test = mean_squared_error(target_test, dr_predict) ** 0.5\n",
    "dr_rmse_test"
   ]
  },
  {
   "cell_type": "markdown",
   "metadata": {},
   "source": [
    "## Анализ моделей"
   ]
  },
  {
   "cell_type": "markdown",
   "metadata": {},
   "source": [
    "Сравним обученные модели."
   ]
  },
  {
   "cell_type": "code",
   "execution_count": 117,
   "metadata": {
    "ExecuteTime": {
     "end_time": "2021-10-16T13:39:54.939207Z",
     "start_time": "2021-10-16T13:39:54.910748Z"
    }
   },
   "outputs": [
    {
     "data": {
      "text/html": [
       "<div>\n",
       "<style scoped>\n",
       "    .dataframe tbody tr th:only-of-type {\n",
       "        vertical-align: middle;\n",
       "    }\n",
       "\n",
       "    .dataframe tbody tr th {\n",
       "        vertical-align: top;\n",
       "    }\n",
       "\n",
       "    .dataframe thead th {\n",
       "        text-align: right;\n",
       "    }\n",
       "</style>\n",
       "<table border=\"1\" class=\"dataframe\">\n",
       "  <thead>\n",
       "    <tr style=\"text-align: right;\">\n",
       "      <th></th>\n",
       "      <th>Время подбора гиперпараметров, с</th>\n",
       "      <th>Среднее время обучения лучшей модели, с</th>\n",
       "      <th>Среднее RSME на валидационных выборках (CV)</th>\n",
       "      <th>RSME на тестовой выборке</th>\n",
       "    </tr>\n",
       "    <tr>\n",
       "      <th>Модель</th>\n",
       "      <th></th>\n",
       "      <th></th>\n",
       "      <th></th>\n",
       "      <th></th>\n",
       "    </tr>\n",
       "  </thead>\n",
       "  <tbody>\n",
       "    <tr>\n",
       "      <th>CatBoostRegressor (непреобразованные категориальные признаки)</th>\n",
       "      <td>141.3</td>\n",
       "      <td>9.7</td>\n",
       "      <td>1714.8</td>\n",
       "      <td>1712.0</td>\n",
       "    </tr>\n",
       "    <tr>\n",
       "      <th>LGBMRegressor (непреобразованные категориальные признаки)</th>\n",
       "      <td>75.7</td>\n",
       "      <td>0.6</td>\n",
       "      <td>1804.0</td>\n",
       "      <td>1805.3</td>\n",
       "    </tr>\n",
       "    <tr>\n",
       "      <th>LGBMRegressor (преобразованные категориальные признаки)</th>\n",
       "      <td>98.9</td>\n",
       "      <td>0.7</td>\n",
       "      <td>1920.6</td>\n",
       "      <td>1930.3</td>\n",
       "    </tr>\n",
       "    <tr>\n",
       "      <th>RandomForestRegressor (преобразованные категориальные признаки)</th>\n",
       "      <td>110.8</td>\n",
       "      <td>12.2</td>\n",
       "      <td>1989.9</td>\n",
       "      <td>2013.0</td>\n",
       "    </tr>\n",
       "    <tr>\n",
       "      <th>Ridge (преобразованные категориальные признаки)</th>\n",
       "      <td>2.9</td>\n",
       "      <td>0.1</td>\n",
       "      <td>2989.8</td>\n",
       "      <td>3033.4</td>\n",
       "    </tr>\n",
       "    <tr>\n",
       "      <th>LinearRegression (преобразованные категориальные признаки)</th>\n",
       "      <td>1.3</td>\n",
       "      <td>0.1</td>\n",
       "      <td>2989.8</td>\n",
       "      <td>3033.5</td>\n",
       "    </tr>\n",
       "    <tr>\n",
       "      <th>DummyRegressor</th>\n",
       "      <td>—</td>\n",
       "      <td>—</td>\n",
       "      <td>—</td>\n",
       "      <td>4586.3</td>\n",
       "    </tr>\n",
       "  </tbody>\n",
       "</table>\n",
       "</div>"
      ],
      "text/plain": [
       "                                                   Время подбора гиперпараметров, с  \\\n",
       "Модель                                                                                \n",
       "CatBoostRegressor (непреобразованные категориал...                            141.3   \n",
       "LGBMRegressor (непреобразованные категориальные...                             75.7   \n",
       "LGBMRegressor (преобразованные категориальные п...                             98.9   \n",
       "RandomForestRegressor (преобразованные категори...                            110.8   \n",
       "Ridge (преобразованные категориальные признаки)                                 2.9   \n",
       "LinearRegression (преобразованные категориальны...                              1.3   \n",
       "DummyRegressor                                                                    —   \n",
       "\n",
       "                                                   Среднее время обучения лучшей модели, с  \\\n",
       "Модель                                                                                       \n",
       "CatBoostRegressor (непреобразованные категориал...                                     9.7   \n",
       "LGBMRegressor (непреобразованные категориальные...                                     0.6   \n",
       "LGBMRegressor (преобразованные категориальные п...                                     0.7   \n",
       "RandomForestRegressor (преобразованные категори...                                    12.2   \n",
       "Ridge (преобразованные категориальные признаки)                                        0.1   \n",
       "LinearRegression (преобразованные категориальны...                                     0.1   \n",
       "DummyRegressor                                                                           —   \n",
       "\n",
       "                                                   Среднее RSME на валидационных выборках (CV)   \\\n",
       "Модель                                                                                            \n",
       "CatBoostRegressor (непреобразованные категориал...                                       1714.8   \n",
       "LGBMRegressor (непреобразованные категориальные...                                       1804.0   \n",
       "LGBMRegressor (преобразованные категориальные п...                                       1920.6   \n",
       "RandomForestRegressor (преобразованные категори...                                       1989.9   \n",
       "Ridge (преобразованные категориальные признаки)                                          2989.8   \n",
       "LinearRegression (преобразованные категориальны...                                       2989.8   \n",
       "DummyRegressor                                                                                —   \n",
       "\n",
       "                                                    RSME на тестовой выборке  \n",
       "Модель                                                                        \n",
       "CatBoostRegressor (непреобразованные категориал...                    1712.0  \n",
       "LGBMRegressor (непреобразованные категориальные...                    1805.3  \n",
       "LGBMRegressor (преобразованные категориальные п...                    1930.3  \n",
       "RandomForestRegressor (преобразованные категори...                    2013.0  \n",
       "Ridge (преобразованные категориальные признаки)                       3033.4  \n",
       "LinearRegression (преобразованные категориальны...                    3033.5  \n",
       "DummyRegressor                                                        4586.3  "
      ]
     },
     "execution_count": 117,
     "metadata": {},
     "output_type": "execute_result"
    }
   ],
   "source": [
    "comp = pd.DataFrame(\n",
    "    [\n",
    "        [\n",
    "            round(rfr_gs_dt, 1),\n",
    "            round(rfr_gs.cv_results_['mean_fit_time'][rfr_gs.best_index_], 1),\n",
    "            round(abs(rfr_gs.best_score_), 1),\n",
    "            round(rfr_rmse_test, 1)\n",
    "        ],\n",
    "        [\n",
    "            round(lr_gs_dt, 1),\n",
    "            round(lr_gs.cv_results_['mean_fit_time'][lr_gs.best_index_], 1),\n",
    "            round(abs(lr_gs.best_score_), 1),\n",
    "            round(lr_rmse_test, 1)\n",
    "        ],\n",
    "        [\n",
    "            round(rg_gs_dt, 1),\n",
    "            round(rg_gs.cv_results_['mean_fit_time'][rg_gs.best_index_], 1),\n",
    "            round(abs(rg_gs.best_score_), 1),\n",
    "            round(rg_rmse_test, 1)\n",
    "        ],\n",
    "        [\n",
    "            round(lgbm_trf_gs_dt, 1),\n",
    "            round(lgbm_trf_gs.cv_results_['mean_fit_time'][lgbm_trf_gs.best_index_], 1),\n",
    "            round(abs(lgbm_trf_gs.best_score_), 1),\n",
    "            round(lgbm_trf_rmse_test, 1)\n",
    "        ],\n",
    "        [\n",
    "            round(lgbm_raw_gs_dt, 1),\n",
    "            round(lgbm_raw_gs.cv_results_['mean_fit_time'][lgbm_raw_gs.best_index_], 1),\n",
    "            round(abs(lgbm_raw_gs.best_score_), 1),\n",
    "            round(lgbm_raw_rmse_test, 1)\n",
    "        ],\n",
    "        [\n",
    "            round(cb_raw_gs_dt, 1),\n",
    "            round(cb_raw_gs.cv_results_['mean_fit_time'][cb_raw_gs.best_index_], 1),\n",
    "            round(abs(cb_raw_gs.best_score_), 1),\n",
    "            round(cb_raw_rmse_test, 1)\n",
    "        ],\n",
    "        [\n",
    "            '—',\n",
    "            '—',\n",
    "            '—',\n",
    "            round(dr_rmse_test, 1)\n",
    "        ]\n",
    "    ],\n",
    "    columns=[\n",
    "        'Время подбора гиперпараметров, с',\n",
    "        'Среднее время обучения лучшей модели, с',\n",
    "        'Среднее RSME на валидационных выборках (CV) ',\n",
    "        'RSME на тестовой выборке'\n",
    "    ],\n",
    "    index=[\n",
    "        'RandomForestRegressor (преобразованные категориальные признаки)',\n",
    "        'LinearRegression (преобразованные категориальные признаки)',\n",
    "        'Ridge (преобразованные категориальные признаки)',\n",
    "        'LGBMRegressor (преобразованные категориальные признаки)',\n",
    "        'LGBMRegressor (непреобразованные категориальные признаки)',\n",
    "        'CatBoostRegressor (непреобразованные категориальные признаки)',\n",
    "        'DummyRegressor'\n",
    "    ]\n",
    ")\n",
    "comp.index.name = 'Модель'\n",
    "comp.sort_values(by='RSME на тестовой выборке')"
   ]
  },
  {
   "cell_type": "markdown",
   "metadata": {},
   "source": [
    "## Вывод"
   ]
  },
  {
   "cell_type": "markdown",
   "metadata": {},
   "source": [
    "Для определения стоимость автомобиля при размещении его анкеты на сервисе по продаже автомобилей \"Не бит, не крашен\" были обучены и сопоставлены следующие модели машинного обучения:\n",
    "- регрессор на основе случайного леса **RandomForestRegressor** библиотеки **Scikit Learn**;\n",
    "- линейная регрессия **LinearRegression** библиотеки **Scikit Learn**;\n",
    "- регрессор с L2-регуляризацией **Ridge** библиотеки **Scikit Learn**;\n",
    "- регрессор, использующий градиентный бустинг, **LGBMRegressor** библиотеки **LightGBM**;\n",
    "- регрессор, использующий градиентный бустинг, **CatBoostRegressor** библиотеки **CatBoost**.\n",
    "\n",
    "Для сравнения модели обучались на данных с преобразованными и непреобразованными категориальными признаками. Преобразование осуществлялось методами прямого (One-hot_encoding) и порядкового кодирования (Ordinal Encoding).\n",
    "\n",
    "Каждая модель обучалась для нескольких наборов гиперпараметров. Оценка качества предсказания моделей проводилась с использованием метрики **RSME**. Все модели сравнивались с примитивным регрессором **DummyRegressor** библиотеки **Scikit Learn** и между собой. Также оценивалось и сравнивалось время обучения и предсказания моделей.\n",
    "\n",
    "По качеству оценки на тестовых данных модели расположились в следующем порядке, начиная с лучшего (с наиболее низкого значения **RSME**):\n",
    "- **CatBoostRegressor** (1712.0);\n",
    "- **LGBMRegressor** (1805.3);\n",
    "- **RandomForestRegressor** (2013.0);\n",
    "- **Ridge** (3033.4);\n",
    "- **LinearRegression** (3033.5).\n",
    "\n",
    "Значение **RSME** **DummyRegressor** составило 4586.3.\n",
    "\n",
    "По среднему времени обучения с лучшим набором гиперпараметров (AMD Ryzen 9 5900X):\n",
    "- **LinearRegression** (0.1 с);\n",
    "- **Ridge** (0.1 с);\n",
    "- **LGBMRegressor** (0.6 с);\n",
    "- **CatBoostRegressor** (7.8 с);\n",
    "- **RandomForestRegressor** (11.2 с).\n",
    "\n",
    "Также заметим, что качество **LGBMRegressor** при обучении на непреобразованных признаках лучше, чем при обучении на преобразованных."
   ]
  },
  {
   "cell_type": "markdown",
   "metadata": {},
   "source": [
    "## Чек-лист проверки"
   ]
  },
  {
   "cell_type": "markdown",
   "metadata": {},
   "source": [
    "Поставьте 'x' в выполненных пунктах. Далее нажмите Shift+Enter."
   ]
  },
  {
   "cell_type": "markdown",
   "metadata": {},
   "source": [
    "- [x]  Jupyter Notebook открыт\n",
    "- [x]  Весь код выполняется без ошибок\n",
    "- [x]  Ячейки с кодом расположены в порядке исполнения\n",
    "- [x]  Выполнена загрузка и подготовка данных\n",
    "- [x]  Выполнено обучение моделей\n",
    "- [x]  Есть анализ скорости работы и качества моделей"
   ]
  }
 ],
 "metadata": {
  "ExecuteTimeLog": [
   {
    "duration": 1250,
    "start_time": "2021-09-29T01:31:38.227Z"
   },
   {
    "duration": 9,
    "start_time": "2021-09-29T01:31:47.412Z"
   },
   {
    "duration": 793,
    "start_time": "2021-09-29T01:31:47.772Z"
   },
   {
    "duration": 6,
    "start_time": "2021-09-29T01:31:50.900Z"
   },
   {
    "duration": 20,
    "start_time": "2021-09-29T01:31:51.927Z"
   },
   {
    "duration": 241,
    "start_time": "2021-09-29T01:31:54.511Z"
   },
   {
    "duration": 17,
    "start_time": "2021-09-29T01:31:56.944Z"
   },
   {
    "duration": 6,
    "start_time": "2021-09-29T01:31:57.358Z"
   },
   {
    "duration": 444,
    "start_time": "2021-09-29T01:31:58.034Z"
   },
   {
    "duration": 232,
    "start_time": "2021-09-29T01:31:59.622Z"
   },
   {
    "duration": 107,
    "start_time": "2021-09-29T01:32:02.570Z"
   },
   {
    "duration": 3,
    "start_time": "2021-09-29T01:32:02.988Z"
   },
   {
    "duration": 155,
    "start_time": "2021-09-29T01:32:03.485Z"
   },
   {
    "duration": 1251,
    "start_time": "2021-09-29T01:32:11.416Z"
   },
   {
    "duration": 8,
    "start_time": "2021-09-29T01:32:12.669Z"
   },
   {
    "duration": 811,
    "start_time": "2021-09-29T01:32:12.679Z"
   },
   {
    "duration": 5,
    "start_time": "2021-09-29T01:32:13.492Z"
   },
   {
    "duration": 20,
    "start_time": "2021-09-29T01:32:13.498Z"
   },
   {
    "duration": 253,
    "start_time": "2021-09-29T01:32:13.519Z"
   },
   {
    "duration": 18,
    "start_time": "2021-09-29T01:32:13.773Z"
   },
   {
    "duration": 6,
    "start_time": "2021-09-29T01:32:13.793Z"
   },
   {
    "duration": 451,
    "start_time": "2021-09-29T01:32:13.800Z"
   },
   {
    "duration": 238,
    "start_time": "2021-09-29T01:32:14.252Z"
   },
   {
    "duration": 112,
    "start_time": "2021-09-29T01:32:14.492Z"
   },
   {
    "duration": 2,
    "start_time": "2021-09-29T01:32:14.606Z"
   },
   {
    "duration": 174,
    "start_time": "2021-09-29T01:32:14.610Z"
   },
   {
    "duration": 18,
    "start_time": "2021-09-29T01:32:14.786Z"
   },
   {
    "duration": 156,
    "start_time": "2021-09-29T01:32:14.806Z"
   },
   {
    "duration": 16,
    "start_time": "2021-09-29T01:32:14.963Z"
   },
   {
    "duration": 8,
    "start_time": "2021-09-29T01:32:14.980Z"
   },
   {
    "duration": 8,
    "start_time": "2021-09-29T01:32:14.989Z"
   },
   {
    "duration": 6,
    "start_time": "2021-09-29T01:32:14.998Z"
   },
   {
    "duration": 91,
    "start_time": "2021-09-29T01:32:15.006Z"
   },
   {
    "duration": 3346,
    "start_time": "2021-09-29T01:32:15.099Z"
   },
   {
    "duration": 12,
    "start_time": "2021-09-29T01:32:18.447Z"
   },
   {
    "duration": 20,
    "start_time": "2021-09-29T01:32:18.463Z"
   },
   {
    "duration": 46,
    "start_time": "2021-09-29T01:32:18.486Z"
   },
   {
    "duration": 58,
    "start_time": "2021-09-29T01:32:18.533Z"
   },
   {
    "duration": 6,
    "start_time": "2021-09-29T01:32:18.593Z"
   },
   {
    "duration": 7,
    "start_time": "2021-09-29T01:32:18.601Z"
   },
   {
    "duration": 102288,
    "start_time": "2021-09-29T01:32:18.610Z"
   },
   {
    "duration": 17,
    "start_time": "2021-09-29T01:34:00.900Z"
   },
   {
    "duration": 6,
    "start_time": "2021-09-29T01:34:00.919Z"
   },
   {
    "duration": 67,
    "start_time": "2021-09-29T01:34:00.927Z"
   },
   {
    "duration": 38,
    "start_time": "2021-09-29T01:34:00.996Z"
   },
   {
    "duration": 12,
    "start_time": "2021-09-29T01:34:01.036Z"
   },
   {
    "duration": 56,
    "start_time": "2021-09-29T01:34:01.050Z"
   },
   {
    "duration": 17,
    "start_time": "2021-09-29T01:34:01.109Z"
   },
   {
    "duration": 51,
    "start_time": "2021-09-29T01:34:01.128Z"
   },
   {
    "duration": 44,
    "start_time": "2021-09-29T01:34:01.181Z"
   },
   {
    "duration": 42,
    "start_time": "2021-09-29T01:34:01.227Z"
   },
   {
    "duration": 24,
    "start_time": "2021-09-29T01:34:01.271Z"
   },
   {
    "duration": 26,
    "start_time": "2021-09-29T01:34:01.297Z"
   },
   {
    "duration": 38,
    "start_time": "2021-09-29T01:34:01.325Z"
   },
   {
    "duration": 28,
    "start_time": "2021-09-29T01:34:01.365Z"
   },
   {
    "duration": 30,
    "start_time": "2021-09-29T01:34:01.395Z"
   },
   {
    "duration": 46,
    "start_time": "2021-09-29T01:34:01.426Z"
   },
   {
    "duration": 17,
    "start_time": "2021-09-29T01:34:01.474Z"
   },
   {
    "duration": 804,
    "start_time": "2021-09-29T01:34:01.492Z"
   },
   {
    "duration": 5,
    "start_time": "2021-09-29T01:34:02.298Z"
   },
   {
    "duration": 18,
    "start_time": "2021-09-29T01:34:02.305Z"
   },
   {
    "duration": 4,
    "start_time": "2021-09-29T01:34:02.325Z"
   },
   {
    "duration": 16,
    "start_time": "2021-09-29T01:34:02.331Z"
   },
   {
    "duration": 28,
    "start_time": "2021-09-29T01:34:02.349Z"
   },
   {
    "duration": 6,
    "start_time": "2021-09-29T01:34:02.379Z"
   },
   {
    "duration": 33,
    "start_time": "2021-09-29T01:34:02.387Z"
   },
   {
    "duration": 15,
    "start_time": "2021-09-29T01:34:02.421Z"
   },
   {
    "duration": 7,
    "start_time": "2021-09-29T01:34:02.438Z"
   },
   {
    "duration": 54,
    "start_time": "2021-09-29T01:34:02.447Z"
   },
   {
    "duration": 26,
    "start_time": "2021-09-29T01:34:02.503Z"
   },
   {
    "duration": 20,
    "start_time": "2021-09-29T01:34:02.531Z"
   },
   {
    "duration": 8,
    "start_time": "2021-09-29T01:34:02.553Z"
   },
   {
    "duration": 18,
    "start_time": "2021-09-29T01:34:02.563Z"
   },
   {
    "duration": 17,
    "start_time": "2021-09-29T01:34:02.584Z"
   },
   {
    "duration": 19,
    "start_time": "2021-09-29T01:34:02.603Z"
   },
   {
    "duration": 147,
    "start_time": "2021-09-29T01:34:02.624Z"
   },
   {
    "duration": 3,
    "start_time": "2021-09-29T01:34:02.773Z"
   },
   {
    "duration": 49540,
    "start_time": "2021-09-29T01:34:02.779Z"
   },
   {
    "duration": 2333,
    "start_time": "2021-09-29T01:34:52.322Z"
   },
   {
    "duration": -37,
    "start_time": "2021-09-29T01:34:54.695Z"
   },
   {
    "duration": -41,
    "start_time": "2021-09-29T01:34:54.700Z"
   },
   {
    "duration": -52,
    "start_time": "2021-09-29T01:34:54.712Z"
   },
   {
    "duration": -56,
    "start_time": "2021-09-29T01:34:54.716Z"
   },
   {
    "duration": -59,
    "start_time": "2021-09-29T01:34:54.720Z"
   },
   {
    "duration": -62,
    "start_time": "2021-09-29T01:34:54.724Z"
   },
   {
    "duration": -68,
    "start_time": "2021-09-29T01:34:54.731Z"
   },
   {
    "duration": -60,
    "start_time": "2021-09-29T01:34:54.736Z"
   },
   {
    "duration": -63,
    "start_time": "2021-09-29T01:34:54.740Z"
   },
   {
    "duration": -66,
    "start_time": "2021-09-29T01:34:54.744Z"
   },
   {
    "duration": -69,
    "start_time": "2021-09-29T01:34:54.748Z"
   },
   {
    "duration": -71,
    "start_time": "2021-09-29T01:34:54.751Z"
   },
   {
    "duration": -75,
    "start_time": "2021-09-29T01:34:54.755Z"
   },
   {
    "duration": -78,
    "start_time": "2021-09-29T01:34:54.759Z"
   },
   {
    "duration": -82,
    "start_time": "2021-09-29T01:34:54.764Z"
   },
   {
    "duration": -84,
    "start_time": "2021-09-29T01:34:54.767Z"
   },
   {
    "duration": -87,
    "start_time": "2021-09-29T01:34:54.771Z"
   },
   {
    "duration": -90,
    "start_time": "2021-09-29T01:34:54.775Z"
   },
   {
    "duration": -93,
    "start_time": "2021-09-29T01:34:54.779Z"
   },
   {
    "duration": -96,
    "start_time": "2021-09-29T01:34:54.783Z"
   },
   {
    "duration": -100,
    "start_time": "2021-09-29T01:34:54.788Z"
   },
   {
    "duration": -103,
    "start_time": "2021-09-29T01:34:54.792Z"
   },
   {
    "duration": -106,
    "start_time": "2021-09-29T01:34:54.796Z"
   },
   {
    "duration": -110,
    "start_time": "2021-09-29T01:34:54.801Z"
   },
   {
    "duration": -113,
    "start_time": "2021-09-29T01:34:54.805Z"
   },
   {
    "duration": -115,
    "start_time": "2021-09-29T01:34:54.808Z"
   },
   {
    "duration": -119,
    "start_time": "2021-09-29T01:34:54.813Z"
   },
   {
    "duration": -122,
    "start_time": "2021-09-29T01:34:54.817Z"
   },
   {
    "duration": -126,
    "start_time": "2021-09-29T01:34:54.822Z"
   },
   {
    "duration": -130,
    "start_time": "2021-09-29T01:34:54.827Z"
   },
   {
    "duration": -134,
    "start_time": "2021-09-29T01:34:54.832Z"
   },
   {
    "duration": 35141,
    "start_time": "2021-09-29T01:39:12.947Z"
   },
   {
    "duration": 6,
    "start_time": "2021-09-29T01:39:48.090Z"
   },
   {
    "duration": 779,
    "start_time": "2021-09-29T01:39:48.099Z"
   },
   {
    "duration": 5,
    "start_time": "2021-09-29T01:39:48.880Z"
   },
   {
    "duration": 16,
    "start_time": "2021-09-29T01:39:48.887Z"
   },
   {
    "duration": 356,
    "start_time": "2021-09-29T01:39:48.905Z"
   },
   {
    "duration": 31,
    "start_time": "2021-09-29T01:39:49.263Z"
   },
   {
    "duration": 7,
    "start_time": "2021-09-29T01:39:49.296Z"
   },
   {
    "duration": 383,
    "start_time": "2021-09-29T01:39:49.307Z"
   },
   {
    "duration": 155,
    "start_time": "2021-09-29T01:39:49.693Z"
   },
   {
    "duration": 120,
    "start_time": "2021-09-29T01:39:49.850Z"
   },
   {
    "duration": 3,
    "start_time": "2021-09-29T01:39:49.977Z"
   },
   {
    "duration": 136,
    "start_time": "2021-09-29T01:39:49.983Z"
   },
   {
    "duration": 19,
    "start_time": "2021-09-29T01:39:50.120Z"
   },
   {
    "duration": 166,
    "start_time": "2021-09-29T01:39:50.141Z"
   },
   {
    "duration": 8,
    "start_time": "2021-09-29T01:39:50.309Z"
   },
   {
    "duration": 9,
    "start_time": "2021-09-29T01:39:50.319Z"
   },
   {
    "duration": 10,
    "start_time": "2021-09-29T01:39:50.329Z"
   },
   {
    "duration": 6,
    "start_time": "2021-09-29T01:39:50.340Z"
   },
   {
    "duration": 150,
    "start_time": "2021-09-29T01:39:50.348Z"
   },
   {
    "duration": 2917,
    "start_time": "2021-09-29T01:39:50.500Z"
   },
   {
    "duration": 63,
    "start_time": "2021-09-29T01:39:53.419Z"
   },
   {
    "duration": 1086,
    "start_time": "2021-09-29T01:39:53.484Z"
   },
   {
    "duration": 1110,
    "start_time": "2021-09-29T01:39:54.572Z"
   },
   {
    "duration": 221,
    "start_time": "2021-09-29T01:39:55.684Z"
   },
   {
    "duration": 6,
    "start_time": "2021-09-29T01:39:55.906Z"
   },
   {
    "duration": 6,
    "start_time": "2021-09-29T01:39:55.916Z"
   },
   {
    "duration": 87243,
    "start_time": "2021-09-29T01:39:55.925Z"
   },
   {
    "duration": 17,
    "start_time": "2021-09-29T01:41:23.170Z"
   },
   {
    "duration": 5,
    "start_time": "2021-09-29T01:41:23.189Z"
   },
   {
    "duration": 44,
    "start_time": "2021-09-29T01:41:23.196Z"
   },
   {
    "duration": 92,
    "start_time": "2021-09-29T01:41:23.242Z"
   },
   {
    "duration": 11,
    "start_time": "2021-09-29T01:41:23.335Z"
   },
   {
    "duration": 35,
    "start_time": "2021-09-29T01:41:23.348Z"
   },
   {
    "duration": 22,
    "start_time": "2021-09-29T01:41:23.385Z"
   },
   {
    "duration": 44,
    "start_time": "2021-09-29T01:41:23.408Z"
   },
   {
    "duration": 43,
    "start_time": "2021-09-29T01:41:23.454Z"
   },
   {
    "duration": 49,
    "start_time": "2021-09-29T01:41:23.499Z"
   },
   {
    "duration": 52,
    "start_time": "2021-09-29T01:41:23.549Z"
   },
   {
    "duration": 37,
    "start_time": "2021-09-29T01:41:23.603Z"
   },
   {
    "duration": 38,
    "start_time": "2021-09-29T01:41:23.642Z"
   },
   {
    "duration": 36,
    "start_time": "2021-09-29T01:41:23.682Z"
   },
   {
    "duration": 36,
    "start_time": "2021-09-29T01:41:23.719Z"
   },
   {
    "duration": 64,
    "start_time": "2021-09-29T01:41:23.756Z"
   },
   {
    "duration": 16,
    "start_time": "2021-09-29T01:41:23.822Z"
   },
   {
    "duration": 583,
    "start_time": "2021-09-29T01:41:23.840Z"
   },
   {
    "duration": 5,
    "start_time": "2021-09-29T01:41:24.425Z"
   },
   {
    "duration": 19,
    "start_time": "2021-09-29T01:41:24.432Z"
   },
   {
    "duration": 5,
    "start_time": "2021-09-29T01:41:24.452Z"
   },
   {
    "duration": 6,
    "start_time": "2021-09-29T01:41:24.477Z"
   },
   {
    "duration": 5,
    "start_time": "2021-09-29T01:41:24.485Z"
   },
   {
    "duration": 6,
    "start_time": "2021-09-29T01:41:24.492Z"
   },
   {
    "duration": 24,
    "start_time": "2021-09-29T01:41:24.499Z"
   },
   {
    "duration": 13,
    "start_time": "2021-09-29T01:41:24.525Z"
   },
   {
    "duration": 40,
    "start_time": "2021-09-29T01:41:24.540Z"
   },
   {
    "duration": 23,
    "start_time": "2021-09-29T01:41:24.582Z"
   },
   {
    "duration": 18,
    "start_time": "2021-09-29T01:41:24.607Z"
   },
   {
    "duration": 14,
    "start_time": "2021-09-29T01:41:24.628Z"
   },
   {
    "duration": 4,
    "start_time": "2021-09-29T01:41:24.644Z"
   },
   {
    "duration": 7,
    "start_time": "2021-09-29T01:41:24.677Z"
   },
   {
    "duration": 3,
    "start_time": "2021-09-29T01:41:24.686Z"
   },
   {
    "duration": 20,
    "start_time": "2021-09-29T01:41:24.691Z"
   },
   {
    "duration": 171,
    "start_time": "2021-09-29T01:41:24.713Z"
   },
   {
    "duration": 3,
    "start_time": "2021-09-29T01:41:24.885Z"
   },
   {
    "duration": 12842,
    "start_time": "2021-09-29T01:41:24.890Z"
   },
   {
    "duration": 345,
    "start_time": "2021-09-29T01:41:37.734Z"
   },
   {
    "duration": 736,
    "start_time": "2021-09-29T01:41:38.081Z"
   },
   {
    "duration": 4,
    "start_time": "2021-09-29T01:41:38.819Z"
   },
   {
    "duration": 14,
    "start_time": "2021-09-29T01:41:38.825Z"
   },
   {
    "duration": 113,
    "start_time": "2021-09-29T01:41:38.841Z"
   },
   {
    "duration": 760,
    "start_time": "2021-09-29T01:41:38.955Z"
   },
   {
    "duration": 666425,
    "start_time": "2021-09-29T01:41:39.716Z"
   },
   {
    "duration": 5,
    "start_time": "2021-09-29T01:52:46.143Z"
   },
   {
    "duration": 10,
    "start_time": "2021-09-29T01:52:46.150Z"
   },
   {
    "duration": 18,
    "start_time": "2021-09-29T01:52:46.162Z"
   },
   {
    "duration": 13,
    "start_time": "2021-09-29T01:52:46.182Z"
   },
   {
    "duration": 215,
    "start_time": "2021-09-29T01:52:46.197Z"
   },
   {
    "duration": 290,
    "start_time": "2021-09-29T01:52:46.414Z"
   },
   {
    "duration": 217677,
    "start_time": "2021-09-29T01:52:46.706Z"
   },
   {
    "duration": 3,
    "start_time": "2021-09-29T01:56:24.385Z"
   },
   {
    "duration": 119094,
    "start_time": "2021-09-29T01:56:24.394Z"
   },
   {
    "duration": 6,
    "start_time": "2021-09-29T01:58:23.579Z"
   },
   {
    "duration": 4,
    "start_time": "2021-09-29T01:58:23.677Z"
   },
   {
    "duration": 5,
    "start_time": "2021-09-29T01:58:23.683Z"
   },
   {
    "duration": 96,
    "start_time": "2021-09-29T01:58:23.689Z"
   },
   {
    "duration": 1626731,
    "start_time": "2021-09-29T01:58:23.878Z"
   },
   {
    "duration": 4,
    "start_time": "2021-09-29T02:25:30.612Z"
   },
   {
    "duration": 15,
    "start_time": "2021-09-29T02:25:30.619Z"
   },
   {
    "duration": 10,
    "start_time": "2021-09-29T02:25:30.636Z"
   },
   {
    "duration": 33,
    "start_time": "2021-09-29T02:25:30.649Z"
   },
   {
    "duration": 10,
    "start_time": "2021-09-29T02:25:30.684Z"
   },
   {
    "duration": 210,
    "start_time": "2021-09-29T02:25:30.696Z"
   },
   {
    "duration": 383,
    "start_time": "2021-09-29T02:25:30.908Z"
   },
   {
    "duration": 4,
    "start_time": "2021-09-29T02:25:31.293Z"
   },
   {
    "duration": 79,
    "start_time": "2021-09-29T02:25:31.299Z"
   },
   {
    "duration": 11,
    "start_time": "2021-09-29T02:25:31.380Z"
   },
   {
    "duration": 20,
    "start_time": "2021-09-29T02:25:31.392Z"
   },
   {
    "duration": 292314,
    "start_time": "2021-09-29T09:22:07.462Z"
   },
   {
    "duration": 291,
    "start_time": "2021-09-29T09:26:59.779Z"
   },
   {
    "duration": 10293,
    "start_time": "2021-09-29T09:27:00.073Z"
   },
   {
    "duration": 54847,
    "start_time": "2021-09-30T06:46:12.974Z"
   },
   {
    "duration": 11,
    "start_time": "2021-09-30T06:47:07.824Z"
   },
   {
    "duration": 1176,
    "start_time": "2021-09-30T06:47:07.838Z"
   },
   {
    "duration": 9,
    "start_time": "2021-09-30T06:47:09.018Z"
   },
   {
    "duration": 527,
    "start_time": "2021-09-30T06:47:09.031Z"
   },
   {
    "duration": 791,
    "start_time": "2021-09-30T06:47:09.561Z"
   },
   {
    "duration": 29,
    "start_time": "2021-09-30T06:47:10.355Z"
   },
   {
    "duration": 9,
    "start_time": "2021-09-30T06:47:10.389Z"
   },
   {
    "duration": 600,
    "start_time": "2021-09-30T06:47:10.402Z"
   },
   {
    "duration": 364,
    "start_time": "2021-09-30T06:47:11.005Z"
   },
   {
    "duration": 158,
    "start_time": "2021-09-30T06:47:11.372Z"
   },
   {
    "duration": 6,
    "start_time": "2021-09-30T06:47:11.533Z"
   },
   {
    "duration": 199,
    "start_time": "2021-09-30T06:47:11.541Z"
   },
   {
    "duration": 45,
    "start_time": "2021-09-30T06:47:11.742Z"
   },
   {
    "duration": 237,
    "start_time": "2021-09-30T06:47:11.790Z"
   },
   {
    "duration": 9,
    "start_time": "2021-09-30T06:47:12.029Z"
   },
   {
    "duration": 194,
    "start_time": "2021-09-30T06:47:12.041Z"
   },
   {
    "duration": 4746,
    "start_time": "2021-09-30T06:47:12.237Z"
   },
   {
    "duration": 101,
    "start_time": "2021-09-30T06:47:16.986Z"
   },
   {
    "duration": 8,
    "start_time": "2021-09-30T06:47:17.089Z"
   },
   {
    "duration": 81,
    "start_time": "2021-09-30T06:47:17.100Z"
   },
   {
    "duration": 65,
    "start_time": "2021-09-30T06:47:17.183Z"
   },
   {
    "duration": 13,
    "start_time": "2021-09-30T06:47:17.254Z"
   },
   {
    "duration": 7,
    "start_time": "2021-09-30T06:47:17.271Z"
   },
   {
    "duration": 194297,
    "start_time": "2021-09-30T06:47:17.280Z"
   },
   {
    "duration": 22,
    "start_time": "2021-09-30T06:50:31.580Z"
   },
   {
    "duration": 6,
    "start_time": "2021-09-30T06:50:31.605Z"
   },
   {
    "duration": 75,
    "start_time": "2021-09-30T06:50:31.614Z"
   },
   {
    "duration": 31,
    "start_time": "2021-09-30T06:50:31.692Z"
   },
   {
    "duration": 5,
    "start_time": "2021-09-30T06:50:31.725Z"
   },
   {
    "duration": 44,
    "start_time": "2021-09-30T06:50:31.732Z"
   },
   {
    "duration": 40,
    "start_time": "2021-09-30T06:50:31.779Z"
   },
   {
    "duration": 44,
    "start_time": "2021-09-30T06:50:31.822Z"
   },
   {
    "duration": 44,
    "start_time": "2021-09-30T06:50:31.869Z"
   },
   {
    "duration": 61,
    "start_time": "2021-09-30T06:50:31.915Z"
   },
   {
    "duration": 40,
    "start_time": "2021-09-30T06:50:31.978Z"
   },
   {
    "duration": 52,
    "start_time": "2021-09-30T06:50:32.020Z"
   },
   {
    "duration": 35,
    "start_time": "2021-09-30T06:50:32.074Z"
   },
   {
    "duration": 28,
    "start_time": "2021-09-30T06:50:32.111Z"
   },
   {
    "duration": 42,
    "start_time": "2021-09-30T06:50:32.142Z"
   },
   {
    "duration": 34,
    "start_time": "2021-09-30T06:50:32.186Z"
   },
   {
    "duration": 92,
    "start_time": "2021-09-30T06:50:32.222Z"
   },
   {
    "duration": 19,
    "start_time": "2021-09-30T06:50:32.316Z"
   },
   {
    "duration": 1144,
    "start_time": "2021-09-30T06:50:32.337Z"
   },
   {
    "duration": 7,
    "start_time": "2021-09-30T06:50:33.483Z"
   },
   {
    "duration": 98,
    "start_time": "2021-09-30T06:50:33.493Z"
   },
   {
    "duration": 7,
    "start_time": "2021-09-30T06:50:33.594Z"
   },
   {
    "duration": 20,
    "start_time": "2021-09-30T06:50:33.603Z"
   },
   {
    "duration": 8,
    "start_time": "2021-09-30T06:50:33.626Z"
   },
   {
    "duration": 32,
    "start_time": "2021-09-30T06:50:33.636Z"
   },
   {
    "duration": 55,
    "start_time": "2021-09-30T06:50:33.671Z"
   },
   {
    "duration": 40,
    "start_time": "2021-09-30T06:50:33.729Z"
   },
   {
    "duration": 15,
    "start_time": "2021-09-30T06:50:33.773Z"
   },
   {
    "duration": 49,
    "start_time": "2021-09-30T06:50:33.791Z"
   },
   {
    "duration": 38,
    "start_time": "2021-09-30T06:50:33.843Z"
   },
   {
    "duration": 18,
    "start_time": "2021-09-30T06:50:33.883Z"
   },
   {
    "duration": 9,
    "start_time": "2021-09-30T06:50:33.903Z"
   },
   {
    "duration": 14,
    "start_time": "2021-09-30T06:50:33.915Z"
   },
   {
    "duration": 4,
    "start_time": "2021-09-30T06:50:33.931Z"
   },
   {
    "duration": 17,
    "start_time": "2021-09-30T06:50:33.962Z"
   },
   {
    "duration": 231,
    "start_time": "2021-09-30T06:50:33.982Z"
   },
   {
    "duration": 4,
    "start_time": "2021-09-30T06:50:34.215Z"
   },
   {
    "duration": 20220,
    "start_time": "2021-09-30T06:50:34.221Z"
   },
   {
    "duration": 513,
    "start_time": "2021-09-30T06:50:54.443Z"
   },
   {
    "duration": 4,
    "start_time": "2021-09-30T06:50:54.961Z"
   },
   {
    "duration": 280,
    "start_time": "2021-09-30T06:50:54.968Z"
   },
   {
    "duration": 388,
    "start_time": "2021-09-30T06:50:55.251Z"
   },
   {
    "duration": 17,
    "start_time": "2021-09-30T06:50:55.649Z"
   },
   {
    "duration": 23,
    "start_time": "2021-09-30T06:50:55.670Z"
   },
   {
    "duration": 14,
    "start_time": "2021-09-30T06:50:55.696Z"
   },
   {
    "duration": 20,
    "start_time": "2021-09-30T06:50:55.713Z"
   },
   {
    "duration": 587,
    "start_time": "2021-09-30T06:50:55.736Z"
   },
   {
    "duration": 49,
    "start_time": "2021-09-30T06:50:56.326Z"
   },
   {
    "duration": 222862,
    "start_time": "2021-09-30T06:50:56.377Z"
   },
   {
    "duration": 19,
    "start_time": "2021-09-30T06:54:39.243Z"
   },
   {
    "duration": 9,
    "start_time": "2021-09-30T06:54:39.266Z"
   },
   {
    "duration": 6,
    "start_time": "2021-09-30T06:54:39.278Z"
   },
   {
    "duration": 20,
    "start_time": "2021-09-30T06:54:39.287Z"
   },
   {
    "duration": 451,
    "start_time": "2021-09-30T06:54:39.310Z"
   },
   {
    "duration": 393,
    "start_time": "2021-09-30T06:54:39.765Z"
   },
   {
    "duration": 7422,
    "start_time": "2021-09-30T06:54:40.163Z"
   },
   {
    "duration": 76,
    "start_time": "2021-09-30T06:54:47.588Z"
   },
   {
    "duration": 6,
    "start_time": "2021-09-30T06:54:47.667Z"
   },
   {
    "duration": 14,
    "start_time": "2021-09-30T06:54:47.676Z"
   },
   {
    "duration": 171,
    "start_time": "2021-09-30T06:54:47.692Z"
   },
   {
    "duration": 11403,
    "start_time": "2021-09-30T06:54:47.866Z"
   },
   {
    "duration": 5,
    "start_time": "2021-09-30T06:54:59.273Z"
   },
   {
    "duration": 95,
    "start_time": "2021-09-30T06:54:59.281Z"
   },
   {
    "duration": 13,
    "start_time": "2021-09-30T06:54:59.379Z"
   },
   {
    "duration": 172,
    "start_time": "2021-09-30T06:54:59.394Z"
   },
   {
    "duration": 1642432,
    "start_time": "2021-09-30T06:54:59.568Z"
   },
   {
    "duration": 6,
    "start_time": "2021-09-30T07:22:22.004Z"
   },
   {
    "duration": 18,
    "start_time": "2021-09-30T07:22:22.012Z"
   },
   {
    "duration": 30,
    "start_time": "2021-09-30T07:22:22.033Z"
   },
   {
    "duration": 11,
    "start_time": "2021-09-30T07:22:22.066Z"
   },
   {
    "duration": 22,
    "start_time": "2021-09-30T07:22:22.080Z"
   },
   {
    "duration": 416,
    "start_time": "2021-09-30T07:22:22.105Z"
   },
   {
    "duration": 250,
    "start_time": "2021-09-30T07:22:22.524Z"
   },
   {
    "duration": 508526,
    "start_time": "2021-09-30T07:22:22.777Z"
   },
   {
    "duration": 5,
    "start_time": "2021-09-30T07:30:51.305Z"
   },
   {
    "duration": 13,
    "start_time": "2021-09-30T07:30:51.312Z"
   },
   {
    "duration": 5,
    "start_time": "2021-09-30T07:30:51.363Z"
   },
   {
    "duration": 8,
    "start_time": "2021-09-30T07:30:51.370Z"
   },
   {
    "duration": 10,
    "start_time": "2021-09-30T07:30:51.380Z"
   },
   {
    "duration": 498,
    "start_time": "2021-09-30T07:30:51.393Z"
   },
   {
    "duration": 372,
    "start_time": "2021-09-30T07:30:51.893Z"
   },
   {
    "duration": 792807,
    "start_time": "2021-09-30T07:30:52.269Z"
   },
   {
    "duration": 4,
    "start_time": "2021-09-30T07:44:05.079Z"
   },
   {
    "duration": 10,
    "start_time": "2021-09-30T07:44:05.086Z"
   },
   {
    "duration": 16,
    "start_time": "2021-09-30T07:44:05.098Z"
   },
   {
    "duration": 15,
    "start_time": "2021-09-30T07:44:05.117Z"
   },
   {
    "duration": 36,
    "start_time": "2021-09-30T07:44:05.135Z"
   },
   {
    "duration": 350,
    "start_time": "2021-09-30T07:44:05.174Z"
   },
   {
    "duration": 150,
    "start_time": "2021-09-30T07:44:05.527Z"
   },
   {
    "duration": 7,
    "start_time": "2021-09-30T07:44:05.679Z"
   },
   {
    "duration": 10,
    "start_time": "2021-09-30T07:44:05.689Z"
   },
   {
    "duration": 76,
    "start_time": "2021-09-30T07:44:05.701Z"
   }
  ],
  "hide_input": false,
  "kernelspec": {
   "display_name": "Python 3",
   "language": "python",
   "name": "python3"
  },
  "language_info": {
   "codemirror_mode": {
    "name": "ipython",
    "version": 3
   },
   "file_extension": ".py",
   "mimetype": "text/x-python",
   "name": "python",
   "nbconvert_exporter": "python",
   "pygments_lexer": "ipython3",
   "version": "3.8.8"
  },
  "toc": {
   "base_numbering": 1,
   "nav_menu": {},
   "number_sections": true,
   "sideBar": true,
   "skip_h1_title": true,
   "title_cell": "Содержание",
   "title_sidebar": "Contents",
   "toc_cell": true,
   "toc_position": {},
   "toc_section_display": true,
   "toc_window_display": false
  }
 },
 "nbformat": 4,
 "nbformat_minor": 2
}
