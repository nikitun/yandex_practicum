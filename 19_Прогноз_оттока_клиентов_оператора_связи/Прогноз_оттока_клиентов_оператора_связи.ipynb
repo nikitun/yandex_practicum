{
 "cells": [
  {
   "cell_type": "markdown",
   "metadata": {},
   "source": [
    "# Прогноз оттока клиентов «Ниединогоразрыва.ком»"
   ]
  },
  {
   "cell_type": "markdown",
   "metadata": {},
   "source": [
    "## 1 Содержание <a id=\"1\"><a>"
   ]
  },
  {
   "cell_type": "markdown",
   "metadata": {
    "ExecuteTime": {
     "end_time": "2021-12-15T20:53:54.864119Z",
     "start_time": "2021-12-15T20:53:54.857685Z"
    },
    "hide_input": false
   },
   "source": [
    "- [1 Содержание](#1)\n",
    "- [2 Описание проекта](#2)\n",
    "- [3 Подготовка данных](#3)\n",
    "  - [3.1 Загрузка](#3_1)\n",
    "  - [3.2 Первичный анализ](#3_2)\n",
    "  - [3.3 Предобработка](#3_3)\n",
    "    - [3.3.1 Таблица contract](#3_3_1)\n",
    "    - [3.3.2 Таблица personal](#3_3_2)\n",
    "    - [3.3.3 Таблица internet](#3_3_3)\n",
    "    - [3.3.4 Таблица phone](#3_3_4)\n",
    "  - [3.4 Объединение таблиц](#3_4)\n",
    "  - [3.5 Кодирование признаков](#3_5)\n",
    "  - [3.6 Формирование обучающей и тестовой выборок](#3_6)\n",
    "  - [3.7 Масштабирование признаков](#3_7)\n",
    "  - [3.8 Проверка признаков на мультиколлинеарность](#3_8)\n",
    "  - [3.9 Анализ и устранение дисбаланса классов](#3_9)\n",
    "- [4. Обучение и сравнение моделей](#4)\n",
    "  - [4.1 RandomForestClassifier (Scikit Learn)](#4_1)\n",
    "  - [4.2 LogisticRegression (Scikit Learn)](#4_2)\n",
    "  - [4.3 LGBMClassifier (LightGBM)](#4_3)\n",
    "  - [4.4 CatBoostClassifier (CatBoost)](#4_4)\n",
    "  - [4.5 DummyClassifier (Scikit Learn)](#4_5)\n",
    "  - [4.6 Сравнение и выбор лучшей модели](#4_6)\n",
    "- [5 Вывод](#5)\n",
    "- [6 Чек-лист готовности проекта](#6)\n",
    "- [7 Отчет](#7)"
   ]
  },
  {
   "cell_type": "markdown",
   "metadata": {},
   "source": [
    "## 2 Описание проекта"
   ]
  },
  {
   "cell_type": "markdown",
   "metadata": {},
   "source": [
    "**Задача.**\n",
    "\n",
    "Оператор связи «Ниединогоразрыва.ком» хочет научиться прогнозировать отток клиентов. Если выяснится, что пользователь планирует уйти, ему будут предложены промокоды и специальные условия. Команда оператора собрала персональные данные о некоторых клиентах, информацию об их тарифах и договорах.\n",
    "\n",
    "**Описание услуг.**\n",
    "\n",
    "Оператор предоставляет два основных типа услуг: \n",
    "\n",
    "1. Стационарную телефонную связь. Возможно подключение телефонного аппарата к нескольким линиям одновременно.\n",
    "2. Интернет. Подключение может быть двух типов: через телефонную линию (DSL*,* от англ. *digital subscriber line*, «цифровая абонентская линия») или оптоволоконный кабель (*Fiber optic*).  \n",
    "\n",
    "Также доступны такие услуги:\n",
    "\n",
    "- Интернет-безопасность: антивирус (*DeviceProtection*) и блокировка небезопасных сайтов (*OnlineSecurity*);\n",
    "- Выделенная линия технической поддержки (*TechSupport*);\n",
    "- Облачное хранилище файлов для резервного копирования данных (*OnlineBackup*);\n",
    "- Стриминговое телевидение (*StreamingTV*) и каталог фильмов (*StreamingMovies*).\n",
    "\n",
    "За услуги клиенты могут платить каждый месяц или заключить договор на 1–2 года. Доступны различные способы расчёта и возможность получения электронного чека.\n",
    "\n",
    "**Описание данных.**\n",
    "\n",
    "Данные состоят из файлов, полученных из разных источников:\n",
    "\n",
    "- `contract.csv` — информация о договоре;\n",
    "- `personal.csv` — персональные данные клиента;\n",
    "- `internet.csv` — информация об интернет-услугах;\n",
    "- `phone.csv` — информация об услугах телефонии.\n",
    "\n",
    "Во всех файлах столбец *customerID* содержит код клиента.\n",
    "\n",
    "Информация о договорах актуальна на 1 февраля 2020.\n",
    "\n",
    "**Поля данных**.\n",
    "\n",
    "Таблица **contract**:\n",
    "- *BeginDate* – дата начала пользования услугами;\n",
    "- *EndDate* – дата окончания пользования услугами;\n",
    "- *Type* – тип оплаты: ежемесячный, годовой и т.д.;\n",
    "- *PaperlessBilling* – безналичный расчет;\n",
    "- *PaymentMethod* – способ оплаты;\n",
    "- *MonthlyCharges* – ежемесячные траты на услуги;\n",
    "- *TotalCharges* – всего потрачено денег на услуги.\n",
    "\n",
    "Таблица **personal**:\n",
    "- *gender* — пол;\n",
    "- *Dependents* – наличие иждивенцев;\n",
    "- *Senior Citizen* – наличие пенсионного статуса по возрасту;\n",
    "- *Partner* – наличие супруга(и).\n",
    "\n",
    "Таблица **internet**:\n",
    "- *InternetService* — тип интернет соединения;\n",
    "- *OnlineSecurity* — блокировка небезопасных сайтов;\n",
    "- *OnlineBackup* — облачное хранилище файлов для резервного копирования данных;\n",
    "- *DeviceProtection* — антивирус;\n",
    "- *TechSupport* — выделенная линия технической поддержки;\n",
    "- *StreamingTV* — стриминговое телевидение;\n",
    "- *StreamingMovies* — каталог фильмов.\n",
    "\n",
    "Таблица **phone**:\n",
    "- *MultipleLines* – наличие возможности ведения параллельных линий во время звонка."
   ]
  },
  {
   "cell_type": "markdown",
   "metadata": {},
   "source": [
    "## 3 Подготовка данных <a id=\"3\"></a>"
   ]
  },
  {
   "cell_type": "markdown",
   "metadata": {},
   "source": [
    "### 3.1 Загрузка <a id=\"3_1\"></a>"
   ]
  },
  {
   "cell_type": "markdown",
   "metadata": {},
   "source": [
    "Подключим модули Python и загрузим данные."
   ]
  },
  {
   "cell_type": "code",
   "execution_count": 1,
   "metadata": {
    "ExecuteTime": {
     "end_time": "2021-12-21T18:26:27.987738Z",
     "start_time": "2021-12-21T18:26:26.021441Z"
    }
   },
   "outputs": [
    {
     "name": "stdout",
     "output_type": "stream",
     "text": [
      "Defaulting to user installation because normal site-packages is not writeable\n",
      "Requirement already satisfied: scikit-learn==0.24.2 in /home/jovyan/.local/lib/python3.7/site-packages (0.24.2)\n",
      "Requirement already satisfied: numpy>=1.13.3 in /opt/conda/lib/python3.7/site-packages (from scikit-learn==0.24.2) (1.19.5)\n",
      "Requirement already satisfied: scipy>=0.19.1 in /opt/conda/lib/python3.7/site-packages (from scikit-learn==0.24.2) (1.4.1)\n",
      "Requirement already satisfied: joblib>=0.11 in /opt/conda/lib/python3.7/site-packages (from scikit-learn==0.24.2) (1.0.1)\n",
      "Requirement already satisfied: threadpoolctl>=2.0.0 in /home/jovyan/.local/lib/python3.7/site-packages (from scikit-learn==0.24.2) (3.0.0)\n",
      "Defaulting to user installation because normal site-packages is not writeable\n",
      "Collecting pandas==1.3.2\n",
      "  Downloading pandas-1.3.2-cp37-cp37m-manylinux_2_17_x86_64.manylinux2014_x86_64.whl (11.3 MB)\n",
      "\u001b[K     |████████████████████████████████| 11.3 MB 1.3 MB/s eta 0:00:01    |███████                         | 2.4 MB 1.3 MB/s eta 0:00:08\n",
      "\u001b[?25hRequirement already satisfied: python-dateutil>=2.7.3 in /opt/conda/lib/python3.7/site-packages (from pandas==1.3.2) (2.8.1)\n",
      "Requirement already satisfied: numpy>=1.17.3 in /opt/conda/lib/python3.7/site-packages (from pandas==1.3.2) (1.19.5)\n",
      "Requirement already satisfied: pytz>=2017.3 in /opt/conda/lib/python3.7/site-packages (from pandas==1.3.2) (2021.1)\n",
      "Requirement already satisfied: six>=1.5 in /opt/conda/lib/python3.7/site-packages (from python-dateutil>=2.7.3->pandas==1.3.2) (1.15.0)\n",
      "Installing collected packages: pandas\n",
      "Successfully installed pandas-1.3.2\n",
      "Defaulting to user installation because normal site-packages is not writeable\n",
      "Collecting numpy==1.20.3\n",
      "  Downloading numpy-1.20.3-cp37-cp37m-manylinux_2_12_x86_64.manylinux2010_x86_64.whl (15.3 MB)\n",
      "\u001b[K     |████████████████████████████████| 15.3 MB 122 kB/s eta 0:00:01\n",
      "\u001b[?25hInstalling collected packages: numpy\n",
      "\u001b[33m  WARNING: The scripts f2py, f2py3 and f2py3.7 are installed in '/home/jovyan/.local/bin' which is not on PATH.\n",
      "  Consider adding this directory to PATH or, if you prefer to suppress this warning, use --no-warn-script-location.\u001b[0m\n",
      "Successfully installed numpy-1.20.3\n",
      "Defaulting to user installation because normal site-packages is not writeable\n",
      "Collecting matplotlib==3.4.2\n",
      "  Downloading matplotlib-3.4.2-cp37-cp37m-manylinux1_x86_64.whl (10.3 MB)\n",
      "\u001b[K     |████████████████████████████████| 10.3 MB 2.0 MB/s eta 0:00:01   | 5.7 MB 2.0 MB/s eta 0:00:03\n",
      "\u001b[?25hRequirement already satisfied: kiwisolver>=1.0.1 in /opt/conda/lib/python3.7/site-packages (from matplotlib==3.4.2) (1.3.1)\n",
      "Requirement already satisfied: cycler>=0.10 in /opt/conda/lib/python3.7/site-packages (from matplotlib==3.4.2) (0.10.0)\n",
      "Requirement already satisfied: python-dateutil>=2.7 in /opt/conda/lib/python3.7/site-packages (from matplotlib==3.4.2) (2.8.1)\n",
      "Requirement already satisfied: numpy>=1.16 in /home/jovyan/.local/lib/python3.7/site-packages (from matplotlib==3.4.2) (1.20.3)\n",
      "Requirement already satisfied: pillow>=6.2.0 in /opt/conda/lib/python3.7/site-packages (from matplotlib==3.4.2) (7.0.0)\n",
      "Requirement already satisfied: pyparsing>=2.2.1 in /opt/conda/lib/python3.7/site-packages (from matplotlib==3.4.2) (2.4.7)\n",
      "Requirement already satisfied: six in /opt/conda/lib/python3.7/site-packages (from cycler>=0.10->matplotlib==3.4.2) (1.15.0)\n",
      "Installing collected packages: matplotlib\n",
      "Successfully installed matplotlib-3.4.2\n",
      "Defaulting to user installation because normal site-packages is not writeable\n",
      "Requirement already satisfied: seaborn==0.11.2 in /home/jovyan/.local/lib/python3.7/site-packages (0.11.2)\n",
      "Requirement already satisfied: numpy>=1.15 in /home/jovyan/.local/lib/python3.7/site-packages (from seaborn==0.11.2) (1.20.3)\n",
      "Requirement already satisfied: scipy>=1.0 in /opt/conda/lib/python3.7/site-packages (from seaborn==0.11.2) (1.4.1)\n",
      "Requirement already satisfied: pandas>=0.23 in /home/jovyan/.local/lib/python3.7/site-packages (from seaborn==0.11.2) (1.3.2)\n",
      "Requirement already satisfied: matplotlib>=2.2 in /home/jovyan/.local/lib/python3.7/site-packages (from seaborn==0.11.2) (3.4.2)\n",
      "Requirement already satisfied: pytz>=2017.3 in /opt/conda/lib/python3.7/site-packages (from pandas>=0.23->seaborn==0.11.2) (2021.1)\n",
      "Requirement already satisfied: python-dateutil>=2.7.3 in /opt/conda/lib/python3.7/site-packages (from pandas>=0.23->seaborn==0.11.2) (2.8.1)\n",
      "Requirement already satisfied: cycler>=0.10 in /opt/conda/lib/python3.7/site-packages (from matplotlib>=2.2->seaborn==0.11.2) (0.10.0)\n",
      "Requirement already satisfied: kiwisolver>=1.0.1 in /opt/conda/lib/python3.7/site-packages (from matplotlib>=2.2->seaborn==0.11.2) (1.3.1)\n",
      "Requirement already satisfied: pyparsing>=2.2.1 in /opt/conda/lib/python3.7/site-packages (from matplotlib>=2.2->seaborn==0.11.2) (2.4.7)\n",
      "Requirement already satisfied: pillow>=6.2.0 in /opt/conda/lib/python3.7/site-packages (from matplotlib>=2.2->seaborn==0.11.2) (7.0.0)\n",
      "Requirement already satisfied: six>=1.5 in /opt/conda/lib/python3.7/site-packages (from python-dateutil>=2.7.3->pandas>=0.23->seaborn==0.11.2) (1.15.0)\n",
      "Defaulting to user installation because normal site-packages is not writeable\n",
      "Collecting catboost==0.26.1\n",
      "  Downloading catboost-0.26.1-cp37-none-manylinux1_x86_64.whl (67.4 MB)\n",
      "\u001b[K     |████████████████████████████████| 67.4 MB 22 kB/s s eta 0:00:01     |█████████████████████▎          | 44.7 MB 40.6 MB/s eta 0:00:01\n",
      "\u001b[?25hRequirement already satisfied: scipy in /opt/conda/lib/python3.7/site-packages (from catboost==0.26.1) (1.4.1)\n",
      "Requirement already satisfied: plotly in /opt/conda/lib/python3.7/site-packages (from catboost==0.26.1) (4.1.0)\n",
      "Requirement already satisfied: matplotlib in /home/jovyan/.local/lib/python3.7/site-packages (from catboost==0.26.1) (3.4.2)\n",
      "Requirement already satisfied: six in /opt/conda/lib/python3.7/site-packages (from catboost==0.26.1) (1.15.0)\n",
      "Requirement already satisfied: numpy>=1.16.0 in /home/jovyan/.local/lib/python3.7/site-packages (from catboost==0.26.1) (1.20.3)\n",
      "Requirement already satisfied: pandas>=0.24.0 in /home/jovyan/.local/lib/python3.7/site-packages (from catboost==0.26.1) (1.3.2)\n",
      "Requirement already satisfied: graphviz in /opt/conda/lib/python3.7/site-packages (from catboost==0.26.1) (0.16)\n",
      "Requirement already satisfied: retrying>=1.3.3 in /opt/conda/lib/python3.7/site-packages (from plotly->catboost==0.26.1) (1.3.3)\n",
      "Requirement already satisfied: pyparsing>=2.2.1 in /opt/conda/lib/python3.7/site-packages (from matplotlib->catboost==0.26.1) (2.4.7)\n",
      "Requirement already satisfied: cycler>=0.10 in /opt/conda/lib/python3.7/site-packages (from matplotlib->catboost==0.26.1) (0.10.0)\n",
      "Requirement already satisfied: pillow>=6.2.0 in /opt/conda/lib/python3.7/site-packages (from matplotlib->catboost==0.26.1) (7.0.0)\n",
      "Requirement already satisfied: python-dateutil>=2.7 in /opt/conda/lib/python3.7/site-packages (from matplotlib->catboost==0.26.1) (2.8.1)\n",
      "Requirement already satisfied: kiwisolver>=1.0.1 in /opt/conda/lib/python3.7/site-packages (from matplotlib->catboost==0.26.1) (1.3.1)\n",
      "Requirement already satisfied: pytz>=2017.3 in /opt/conda/lib/python3.7/site-packages (from pandas>=0.24.0->catboost==0.26.1) (2021.1)\n",
      "Installing collected packages: catboost\n",
      "Successfully installed catboost-0.26.1\n"
     ]
    }
   ],
   "source": [
    "!pip install scikit-learn==0.24.2\n",
    "!pip install pandas==1.3.2\n",
    "!pip install numpy==1.20.3\n",
    "!pip install matplotlib==3.4.2\n",
    "!pip install seaborn==0.11.2\n",
    "!pip install catboost==0.26.1\n",
    "\n",
    "import pandas as pd\n",
    "import numpy as np\n",
    "\n",
    "import warnings\n",
    "warnings.filterwarnings('ignore')\n",
    "\n",
    "import os.path\n",
    "import requests\n",
    "from urllib.parse import urlencode\n",
    "from joblib import dump, load\n",
    "\n",
    "import matplotlib.pyplot as plt\n",
    "import matplotlib.ticker as mticker\n",
    "import seaborn as sns\n",
    "\n",
    "from lightgbm import LGBMClassifier\n",
    "from catboost import CatBoostClassifier\n",
    "from sklearn.preprocessing import StandardScaler, OrdinalEncoder\n",
    "from sklearn.model_selection import train_test_split, GridSearchCV\n",
    "from sklearn.ensemble import RandomForestClassifier\n",
    "from sklearn.linear_model import LogisticRegression\n",
    "from sklearn.dummy import DummyClassifier\n",
    "from sklearn.metrics import roc_auc_score, accuracy_score\n",
    "from sklearn.metrics import roc_curve"
   ]
  },
  {
   "cell_type": "code",
   "execution_count": 2,
   "metadata": {
    "ExecuteTime": {
     "end_time": "2021-12-21T18:26:28.003711Z",
     "start_time": "2021-12-21T18:26:27.989558Z"
    }
   },
   "outputs": [],
   "source": [
    "# Адреса обученных моделей на Яндекс.Диске\n",
    "MODEL_RFC_PUBLIC_URL = 'https://disk.yandex.ru/d/C8-3jXGfIjuSVA'\n",
    "MODEL_LR_PUBLIC_URL = 'https://disk.yandex.ru/d/9U4TqsUjvENd4w'\n",
    "MODEL_LGBMC_PUBLIC_URL = 'https://disk.yandex.ru/d/3WqsdiT26wL09A'\n",
    "MODEL_CBC_PUBLIC_URL = 'https://disk.yandex.ru/d/3anbjbPDskaeWA'\n",
    "\n",
    "def download_file_from_ydisk(file_url, file_name):\n",
    "    '''\n",
    "    Скачивает Яндекс.Диска открытый файл с адресом\n",
    "    file_url, сохраняет на диск с именем file_name\n",
    "    '''\n",
    "    # Полная URL для скачивания собирается из базовой и ULR файла на диске\n",
    "    base_download_url = 'https://cloud-api.yandex.net/v1/disk/public/resources/download?'\n",
    "    response_url = requests.get(base_download_url + urlencode(dict(public_key=file_url)), timeout=30)\n",
    "    # Статус не 200\n",
    "    if response_url.status_code != 200:\n",
    "        return 'Невозможно скачать файл: ' + file_url\n",
    "    # Полная URL для скачивания файла\n",
    "    full_download_url = response_url.json()['href']\n",
    "    content_response = requests.get(full_download_url)\n",
    "    with open(file_name, 'wb') as f:\n",
    "        f.write(content_response.content)\n",
    "    return 'Файл ' + file_url + ' скачан и сохранен под именем ' + file_name\n",
    "\n",
    "def df_info(data_frame, nulls_percentage_round=1, deep_memory_usage=False):\n",
    "    '''\n",
    "    Выводит общую информацию о таблице data_frame\n",
    "    Входные параметры:\n",
    "        data_frame             — таблица типа pd.DataFrame;\n",
    "        nulls_percentage_round — знак, до которого происходит округление в столбце nulls_percentage отображаемой таблицы;\n",
    "        deep_memory_usage      — глубокий анализ используемой памяти\n",
    "    '''\n",
    "    assert isinstance(data_frame, pd.DataFrame), 'Аргумент data_frame должен иметь тип pd.DataFrame'\n",
    "    t = pd.concat(\n",
    "        [\n",
    "         \n",
    "            data_frame.isna().sum().to_frame('nulls_count'),\n",
    "            (100 * data_frame.isna().sum() / len(data_frame)).round(nulls_percentage_round).to_frame('nulls_percentage'),\n",
    "            data_frame.dtypes.to_frame('dtype')\n",
    "        ],\n",
    "        axis=1\n",
    "    )\n",
    "    s = 'dtypes:'\n",
    "    c = data_frame.dtypes.value_counts()\n",
    "    for i in c.index:\n",
    "        s += ' {0}({1})'.format(i, c[i])\n",
    "    m = data_frame.memory_usage(deep=deep_memory_usage).sum()\n",
    "    if int(m / 1024 ** 3):\n",
    "        d, b = 1024 ** 3, 'GB'\n",
    "    elif int(m / 1024 ** 2):\n",
    "        d, b = 1024 ** 2, 'MB'\n",
    "    else:\n",
    "        d, b = 1024, 'KB'\n",
    "    print(t)\n",
    "    print('columns: ', data_frame.shape[1], ', rows: ', data_frame.shape[0], sep='')\n",
    "    print(s)\n",
    "    print('memory_usage: ', round(m / d, 1), '+ ' if not deep_memory_usage else ' ', b, sep='')\n",
    "    \n",
    "def value_counts_presentages(series):\n",
    "    '''\n",
    "    Для series типа pandas.Series выводит его\n",
    "    уникальные значения, их количество и долю\n",
    "    '''\n",
    "    return pd.concat(\n",
    "        [\n",
    "            series.value_counts().to_frame('Количество, шт'),\n",
    "            (100 * series.value_counts() / len(series)).round(2).to_frame('Доля, %')\n",
    "        ],\n",
    "        axis=1\n",
    "    )\n",
    "\n",
    "def chart_feature_imp(model, figsize=(16, 8), xlabel='', ylabel='', title=''):\n",
    "    '''\n",
    "    Андамания важности признаков модели\n",
    "    '''\n",
    "    feature_imp = pd.Series(model.feature_importances_, index=train_X.columns).sort_values(ascending=False)\n",
    "    _, ax = plt.subplots(figsize=figsize)\n",
    "    sns.barplot(ax=ax, x=feature_imp, y=feature_imp.index)\n",
    "    ax.set(xlabel=xlabel, ylabel=ylabel, title=title)\n",
    "    return ax"
   ]
  },
  {
   "cell_type": "code",
   "execution_count": 3,
   "metadata": {
    "ExecuteTime": {
     "end_time": "2021-12-21T18:26:28.067822Z",
     "start_time": "2021-12-21T18:26:28.005318Z"
    }
   },
   "outputs": [
    {
     "name": "stdout",
     "output_type": "stream",
     "text": [
      "Таблица contract из файла /datasets/final_provider/contract.csv загружена в переменную contract\n",
      "Таблица personal из файла /datasets/final_provider/personal.csv загружена в переменную personal\n",
      "Таблица internet из файла /datasets/final_provider/internet.csv загружена в переменную internet\n",
      "Таблица phone из файла /datasets/final_provider/phone.csv загружена в переменную phone\n"
     ]
    }
   ],
   "source": [
    "# Загрузка данных\n",
    "\n",
    "# Возможные пути расположения файлов\n",
    "filepaths = {\n",
    "    'contract': ['/datasets/final_provider/contract.csv', './final_provider/final_provider/contract.csv'],\n",
    "    'personal': ['/datasets/final_provider/personal.csv', './final_provider/final_provider/personal.csv'],\n",
    "    'internet': ['/datasets/final_provider/internet.csv', './final_provider/final_provider/internet.csv'],\n",
    "    'phone': ['/datasets/final_provider/phone.csv', './final_provider/final_provider/phone.csv']\n",
    "}\n",
    "# Загрузка данных по первому существующему пути\n",
    "data_list = []\n",
    "for dfname in filepaths.keys():\n",
    "    for filepath in filepaths[dfname]:\n",
    "        try:\n",
    "            exec(dfname + ' = pd.read_csv(filepath)')\n",
    "            exec(dfname + f'.name = \"{dfname}\"')\n",
    "            exec(f'data_list.append({dfname})')\n",
    "            print('Таблица ' + dfname + ' из файла ' + filepath + ' загружена в переменную ' + dfname)\n",
    "            break\n",
    "        except Exception:\n",
    "            continue\n",
    "    else:\n",
    "        raise SystemExit('Файл с таблицей ' + dfname + ' не найден ни по одному из путей в списке filepaths')"
   ]
  },
  {
   "cell_type": "markdown",
   "metadata": {
    "ExecuteTime": {
     "end_time": "2021-12-14T21:56:23.042314Z",
     "start_time": "2021-12-14T21:56:23.031222Z"
    }
   },
   "source": [
    "### 3.2 Первичный анализ <a id=\"3_2\"></a>"
   ]
  },
  {
   "cell_type": "markdown",
   "metadata": {},
   "source": [
    "Отобразим начало каждой загруженной таблицы.\n",
    "\n",
    "Таблица с информацией о договоре клиента **contact**."
   ]
  },
  {
   "cell_type": "code",
   "execution_count": 4,
   "metadata": {
    "ExecuteTime": {
     "end_time": "2021-12-21T18:26:28.082673Z",
     "start_time": "2021-12-21T18:26:28.069602Z"
    }
   },
   "outputs": [
    {
     "data": {
      "text/html": [
       "<div>\n",
       "<style scoped>\n",
       "    .dataframe tbody tr th:only-of-type {\n",
       "        vertical-align: middle;\n",
       "    }\n",
       "\n",
       "    .dataframe tbody tr th {\n",
       "        vertical-align: top;\n",
       "    }\n",
       "\n",
       "    .dataframe thead th {\n",
       "        text-align: right;\n",
       "    }\n",
       "</style>\n",
       "<table border=\"1\" class=\"dataframe\">\n",
       "  <thead>\n",
       "    <tr style=\"text-align: right;\">\n",
       "      <th></th>\n",
       "      <th>customerID</th>\n",
       "      <th>BeginDate</th>\n",
       "      <th>EndDate</th>\n",
       "      <th>Type</th>\n",
       "      <th>PaperlessBilling</th>\n",
       "      <th>PaymentMethod</th>\n",
       "      <th>MonthlyCharges</th>\n",
       "      <th>TotalCharges</th>\n",
       "    </tr>\n",
       "  </thead>\n",
       "  <tbody>\n",
       "    <tr>\n",
       "      <th>0</th>\n",
       "      <td>7590-VHVEG</td>\n",
       "      <td>2020-01-01</td>\n",
       "      <td>No</td>\n",
       "      <td>Month-to-month</td>\n",
       "      <td>Yes</td>\n",
       "      <td>Electronic check</td>\n",
       "      <td>29.85</td>\n",
       "      <td>29.85</td>\n",
       "    </tr>\n",
       "    <tr>\n",
       "      <th>1</th>\n",
       "      <td>5575-GNVDE</td>\n",
       "      <td>2017-04-01</td>\n",
       "      <td>No</td>\n",
       "      <td>One year</td>\n",
       "      <td>No</td>\n",
       "      <td>Mailed check</td>\n",
       "      <td>56.95</td>\n",
       "      <td>1889.5</td>\n",
       "    </tr>\n",
       "    <tr>\n",
       "      <th>2</th>\n",
       "      <td>3668-QPYBK</td>\n",
       "      <td>2019-10-01</td>\n",
       "      <td>2019-12-01 00:00:00</td>\n",
       "      <td>Month-to-month</td>\n",
       "      <td>Yes</td>\n",
       "      <td>Mailed check</td>\n",
       "      <td>53.85</td>\n",
       "      <td>108.15</td>\n",
       "    </tr>\n",
       "    <tr>\n",
       "      <th>3</th>\n",
       "      <td>7795-CFOCW</td>\n",
       "      <td>2016-05-01</td>\n",
       "      <td>No</td>\n",
       "      <td>One year</td>\n",
       "      <td>No</td>\n",
       "      <td>Bank transfer (automatic)</td>\n",
       "      <td>42.30</td>\n",
       "      <td>1840.75</td>\n",
       "    </tr>\n",
       "    <tr>\n",
       "      <th>4</th>\n",
       "      <td>9237-HQITU</td>\n",
       "      <td>2019-09-01</td>\n",
       "      <td>2019-11-01 00:00:00</td>\n",
       "      <td>Month-to-month</td>\n",
       "      <td>Yes</td>\n",
       "      <td>Electronic check</td>\n",
       "      <td>70.70</td>\n",
       "      <td>151.65</td>\n",
       "    </tr>\n",
       "  </tbody>\n",
       "</table>\n",
       "</div>"
      ],
      "text/plain": [
       "   customerID   BeginDate              EndDate            Type  \\\n",
       "0  7590-VHVEG  2020-01-01                   No  Month-to-month   \n",
       "1  5575-GNVDE  2017-04-01                   No        One year   \n",
       "2  3668-QPYBK  2019-10-01  2019-12-01 00:00:00  Month-to-month   \n",
       "3  7795-CFOCW  2016-05-01                   No        One year   \n",
       "4  9237-HQITU  2019-09-01  2019-11-01 00:00:00  Month-to-month   \n",
       "\n",
       "  PaperlessBilling              PaymentMethod  MonthlyCharges TotalCharges  \n",
       "0              Yes           Electronic check           29.85        29.85  \n",
       "1               No               Mailed check           56.95       1889.5  \n",
       "2              Yes               Mailed check           53.85       108.15  \n",
       "3               No  Bank transfer (automatic)           42.30      1840.75  \n",
       "4              Yes           Electronic check           70.70       151.65  "
      ]
     },
     "execution_count": 4,
     "metadata": {},
     "output_type": "execute_result"
    }
   ],
   "source": [
    "contract.head()"
   ]
  },
  {
   "cell_type": "markdown",
   "metadata": {
    "ExecuteTime": {
     "end_time": "2021-12-14T22:08:01.756414Z",
     "start_time": "2021-12-14T22:08:01.742509Z"
    }
   },
   "source": [
    "Таблица с информацией о персональных данных клиента **personal**."
   ]
  },
  {
   "cell_type": "code",
   "execution_count": 5,
   "metadata": {
    "ExecuteTime": {
     "end_time": "2021-12-21T18:26:28.098240Z",
     "start_time": "2021-12-21T18:26:28.083505Z"
    }
   },
   "outputs": [
    {
     "data": {
      "text/html": [
       "<div>\n",
       "<style scoped>\n",
       "    .dataframe tbody tr th:only-of-type {\n",
       "        vertical-align: middle;\n",
       "    }\n",
       "\n",
       "    .dataframe tbody tr th {\n",
       "        vertical-align: top;\n",
       "    }\n",
       "\n",
       "    .dataframe thead th {\n",
       "        text-align: right;\n",
       "    }\n",
       "</style>\n",
       "<table border=\"1\" class=\"dataframe\">\n",
       "  <thead>\n",
       "    <tr style=\"text-align: right;\">\n",
       "      <th></th>\n",
       "      <th>customerID</th>\n",
       "      <th>gender</th>\n",
       "      <th>SeniorCitizen</th>\n",
       "      <th>Partner</th>\n",
       "      <th>Dependents</th>\n",
       "    </tr>\n",
       "  </thead>\n",
       "  <tbody>\n",
       "    <tr>\n",
       "      <th>0</th>\n",
       "      <td>7590-VHVEG</td>\n",
       "      <td>Female</td>\n",
       "      <td>0</td>\n",
       "      <td>Yes</td>\n",
       "      <td>No</td>\n",
       "    </tr>\n",
       "    <tr>\n",
       "      <th>1</th>\n",
       "      <td>5575-GNVDE</td>\n",
       "      <td>Male</td>\n",
       "      <td>0</td>\n",
       "      <td>No</td>\n",
       "      <td>No</td>\n",
       "    </tr>\n",
       "    <tr>\n",
       "      <th>2</th>\n",
       "      <td>3668-QPYBK</td>\n",
       "      <td>Male</td>\n",
       "      <td>0</td>\n",
       "      <td>No</td>\n",
       "      <td>No</td>\n",
       "    </tr>\n",
       "    <tr>\n",
       "      <th>3</th>\n",
       "      <td>7795-CFOCW</td>\n",
       "      <td>Male</td>\n",
       "      <td>0</td>\n",
       "      <td>No</td>\n",
       "      <td>No</td>\n",
       "    </tr>\n",
       "    <tr>\n",
       "      <th>4</th>\n",
       "      <td>9237-HQITU</td>\n",
       "      <td>Female</td>\n",
       "      <td>0</td>\n",
       "      <td>No</td>\n",
       "      <td>No</td>\n",
       "    </tr>\n",
       "  </tbody>\n",
       "</table>\n",
       "</div>"
      ],
      "text/plain": [
       "   customerID  gender  SeniorCitizen Partner Dependents\n",
       "0  7590-VHVEG  Female              0     Yes         No\n",
       "1  5575-GNVDE    Male              0      No         No\n",
       "2  3668-QPYBK    Male              0      No         No\n",
       "3  7795-CFOCW    Male              0      No         No\n",
       "4  9237-HQITU  Female              0      No         No"
      ]
     },
     "execution_count": 5,
     "metadata": {},
     "output_type": "execute_result"
    }
   ],
   "source": [
    "personal.head()"
   ]
  },
  {
   "cell_type": "markdown",
   "metadata": {},
   "source": [
    "Таблица с информацией об интернет-услугах **internet**."
   ]
  },
  {
   "cell_type": "code",
   "execution_count": 6,
   "metadata": {
    "ExecuteTime": {
     "end_time": "2021-12-21T18:26:28.131408Z",
     "start_time": "2021-12-21T18:26:28.100083Z"
    }
   },
   "outputs": [
    {
     "data": {
      "text/html": [
       "<div>\n",
       "<style scoped>\n",
       "    .dataframe tbody tr th:only-of-type {\n",
       "        vertical-align: middle;\n",
       "    }\n",
       "\n",
       "    .dataframe tbody tr th {\n",
       "        vertical-align: top;\n",
       "    }\n",
       "\n",
       "    .dataframe thead th {\n",
       "        text-align: right;\n",
       "    }\n",
       "</style>\n",
       "<table border=\"1\" class=\"dataframe\">\n",
       "  <thead>\n",
       "    <tr style=\"text-align: right;\">\n",
       "      <th></th>\n",
       "      <th>customerID</th>\n",
       "      <th>InternetService</th>\n",
       "      <th>OnlineSecurity</th>\n",
       "      <th>OnlineBackup</th>\n",
       "      <th>DeviceProtection</th>\n",
       "      <th>TechSupport</th>\n",
       "      <th>StreamingTV</th>\n",
       "      <th>StreamingMovies</th>\n",
       "    </tr>\n",
       "  </thead>\n",
       "  <tbody>\n",
       "    <tr>\n",
       "      <th>0</th>\n",
       "      <td>7590-VHVEG</td>\n",
       "      <td>DSL</td>\n",
       "      <td>No</td>\n",
       "      <td>Yes</td>\n",
       "      <td>No</td>\n",
       "      <td>No</td>\n",
       "      <td>No</td>\n",
       "      <td>No</td>\n",
       "    </tr>\n",
       "    <tr>\n",
       "      <th>1</th>\n",
       "      <td>5575-GNVDE</td>\n",
       "      <td>DSL</td>\n",
       "      <td>Yes</td>\n",
       "      <td>No</td>\n",
       "      <td>Yes</td>\n",
       "      <td>No</td>\n",
       "      <td>No</td>\n",
       "      <td>No</td>\n",
       "    </tr>\n",
       "    <tr>\n",
       "      <th>2</th>\n",
       "      <td>3668-QPYBK</td>\n",
       "      <td>DSL</td>\n",
       "      <td>Yes</td>\n",
       "      <td>Yes</td>\n",
       "      <td>No</td>\n",
       "      <td>No</td>\n",
       "      <td>No</td>\n",
       "      <td>No</td>\n",
       "    </tr>\n",
       "    <tr>\n",
       "      <th>3</th>\n",
       "      <td>7795-CFOCW</td>\n",
       "      <td>DSL</td>\n",
       "      <td>Yes</td>\n",
       "      <td>No</td>\n",
       "      <td>Yes</td>\n",
       "      <td>Yes</td>\n",
       "      <td>No</td>\n",
       "      <td>No</td>\n",
       "    </tr>\n",
       "    <tr>\n",
       "      <th>4</th>\n",
       "      <td>9237-HQITU</td>\n",
       "      <td>Fiber optic</td>\n",
       "      <td>No</td>\n",
       "      <td>No</td>\n",
       "      <td>No</td>\n",
       "      <td>No</td>\n",
       "      <td>No</td>\n",
       "      <td>No</td>\n",
       "    </tr>\n",
       "  </tbody>\n",
       "</table>\n",
       "</div>"
      ],
      "text/plain": [
       "   customerID InternetService OnlineSecurity OnlineBackup DeviceProtection  \\\n",
       "0  7590-VHVEG             DSL             No          Yes               No   \n",
       "1  5575-GNVDE             DSL            Yes           No              Yes   \n",
       "2  3668-QPYBK             DSL            Yes          Yes               No   \n",
       "3  7795-CFOCW             DSL            Yes           No              Yes   \n",
       "4  9237-HQITU     Fiber optic             No           No               No   \n",
       "\n",
       "  TechSupport StreamingTV StreamingMovies  \n",
       "0          No          No              No  \n",
       "1          No          No              No  \n",
       "2          No          No              No  \n",
       "3         Yes          No              No  \n",
       "4          No          No              No  "
      ]
     },
     "execution_count": 6,
     "metadata": {},
     "output_type": "execute_result"
    }
   ],
   "source": [
    "internet.head()"
   ]
  },
  {
   "cell_type": "markdown",
   "metadata": {},
   "source": [
    "Таблица с информацией об услугах телефонии **phone**."
   ]
  },
  {
   "cell_type": "code",
   "execution_count": 7,
   "metadata": {
    "ExecuteTime": {
     "end_time": "2021-12-21T18:26:28.147180Z",
     "start_time": "2021-12-21T18:26:28.133516Z"
    }
   },
   "outputs": [
    {
     "data": {
      "text/html": [
       "<div>\n",
       "<style scoped>\n",
       "    .dataframe tbody tr th:only-of-type {\n",
       "        vertical-align: middle;\n",
       "    }\n",
       "\n",
       "    .dataframe tbody tr th {\n",
       "        vertical-align: top;\n",
       "    }\n",
       "\n",
       "    .dataframe thead th {\n",
       "        text-align: right;\n",
       "    }\n",
       "</style>\n",
       "<table border=\"1\" class=\"dataframe\">\n",
       "  <thead>\n",
       "    <tr style=\"text-align: right;\">\n",
       "      <th></th>\n",
       "      <th>customerID</th>\n",
       "      <th>MultipleLines</th>\n",
       "    </tr>\n",
       "  </thead>\n",
       "  <tbody>\n",
       "    <tr>\n",
       "      <th>0</th>\n",
       "      <td>5575-GNVDE</td>\n",
       "      <td>No</td>\n",
       "    </tr>\n",
       "    <tr>\n",
       "      <th>1</th>\n",
       "      <td>3668-QPYBK</td>\n",
       "      <td>No</td>\n",
       "    </tr>\n",
       "    <tr>\n",
       "      <th>2</th>\n",
       "      <td>9237-HQITU</td>\n",
       "      <td>No</td>\n",
       "    </tr>\n",
       "    <tr>\n",
       "      <th>3</th>\n",
       "      <td>9305-CDSKC</td>\n",
       "      <td>Yes</td>\n",
       "    </tr>\n",
       "    <tr>\n",
       "      <th>4</th>\n",
       "      <td>1452-KIOVK</td>\n",
       "      <td>Yes</td>\n",
       "    </tr>\n",
       "  </tbody>\n",
       "</table>\n",
       "</div>"
      ],
      "text/plain": [
       "   customerID MultipleLines\n",
       "0  5575-GNVDE            No\n",
       "1  3668-QPYBK            No\n",
       "2  9237-HQITU            No\n",
       "3  9305-CDSKC           Yes\n",
       "4  1452-KIOVK           Yes"
      ]
     },
     "execution_count": 7,
     "metadata": {},
     "output_type": "execute_result"
    }
   ],
   "source": [
    "phone.head()"
   ]
  },
  {
   "cell_type": "markdown",
   "metadata": {},
   "source": [
    "Также выведем общую информацию о количестве столбцов, строк, пропусков и типах данных для таблиц в том же порядке."
   ]
  },
  {
   "cell_type": "code",
   "execution_count": 8,
   "metadata": {
    "ExecuteTime": {
     "end_time": "2021-12-21T18:26:28.178180Z",
     "start_time": "2021-12-21T18:26:28.149112Z"
    }
   },
   "outputs": [
    {
     "name": "stdout",
     "output_type": "stream",
     "text": [
      "                  nulls_count  nulls_percentage    dtype\n",
      "customerID                  0               0.0   object\n",
      "BeginDate                   0               0.0   object\n",
      "EndDate                     0               0.0   object\n",
      "Type                        0               0.0   object\n",
      "PaperlessBilling            0               0.0   object\n",
      "PaymentMethod               0               0.0   object\n",
      "MonthlyCharges              0               0.0  float64\n",
      "TotalCharges                0               0.0   object\n",
      "columns: 8, rows: 7043\n",
      "dtypes: object(7) float64(1)\n",
      "memory_usage: 440.3+ KB\n"
     ]
    }
   ],
   "source": [
    "df_info(contract)"
   ]
  },
  {
   "cell_type": "code",
   "execution_count": 9,
   "metadata": {
    "ExecuteTime": {
     "end_time": "2021-12-21T18:26:28.195872Z",
     "start_time": "2021-12-21T18:26:28.181172Z"
    }
   },
   "outputs": [
    {
     "name": "stdout",
     "output_type": "stream",
     "text": [
      "               nulls_count  nulls_percentage   dtype\n",
      "customerID               0               0.0  object\n",
      "gender                   0               0.0  object\n",
      "SeniorCitizen            0               0.0   int64\n",
      "Partner                  0               0.0  object\n",
      "Dependents               0               0.0  object\n",
      "columns: 5, rows: 7043\n",
      "dtypes: object(4) int64(1)\n",
      "memory_usage: 275.2+ KB\n"
     ]
    }
   ],
   "source": [
    "df_info(personal)"
   ]
  },
  {
   "cell_type": "code",
   "execution_count": 10,
   "metadata": {
    "ExecuteTime": {
     "end_time": "2021-12-21T18:26:28.211719Z",
     "start_time": "2021-12-21T18:26:28.198823Z"
    }
   },
   "outputs": [
    {
     "name": "stdout",
     "output_type": "stream",
     "text": [
      "                  nulls_count  nulls_percentage   dtype\n",
      "customerID                  0               0.0  object\n",
      "InternetService             0               0.0  object\n",
      "OnlineSecurity              0               0.0  object\n",
      "OnlineBackup                0               0.0  object\n",
      "DeviceProtection            0               0.0  object\n",
      "TechSupport                 0               0.0  object\n",
      "StreamingTV                 0               0.0  object\n",
      "StreamingMovies             0               0.0  object\n",
      "columns: 8, rows: 5517\n",
      "dtypes: object(8)\n",
      "memory_usage: 344.9+ KB\n"
     ]
    }
   ],
   "source": [
    "df_info(internet)"
   ]
  },
  {
   "cell_type": "code",
   "execution_count": 11,
   "metadata": {
    "ExecuteTime": {
     "end_time": "2021-12-21T18:26:28.242888Z",
     "start_time": "2021-12-21T18:26:28.213012Z"
    }
   },
   "outputs": [
    {
     "name": "stdout",
     "output_type": "stream",
     "text": [
      "               nulls_count  nulls_percentage   dtype\n",
      "customerID               0               0.0  object\n",
      "MultipleLines            0               0.0  object\n",
      "columns: 2, rows: 6361\n",
      "dtypes: object(2)\n",
      "memory_usage: 99.5+ KB\n"
     ]
    }
   ],
   "source": [
    "df_info(phone)"
   ]
  },
  {
   "cell_type": "markdown",
   "metadata": {},
   "source": [
    "Все таблицы не имеют пропусков в данных. При этом таблицы **contact** и **personal** имеют одинаковую длину &mdash; 7043 строки. Таблицы **internet** и **phone** имеют меньшие размеры, что объясняется тем, что не все клиенты одновременно пользуются и интернет-услугами, и услугами телефонии.\n",
    "\n",
    "Каждая таблица содержит уникальный идентификатор клиента *customerID*. Проверим это. Для этого выведем информацию о том, являются ли значения идентификатора в каждой из таблиц уникальными."
   ]
  },
  {
   "cell_type": "code",
   "execution_count": 12,
   "metadata": {
    "ExecuteTime": {
     "end_time": "2021-12-21T18:26:28.258656Z",
     "start_time": "2021-12-21T18:26:28.244863Z"
    }
   },
   "outputs": [
    {
     "data": {
      "text/plain": [
       "True"
      ]
     },
     "execution_count": 12,
     "metadata": {},
     "output_type": "execute_result"
    }
   ],
   "source": [
    "contract.customerID.is_unique"
   ]
  },
  {
   "cell_type": "code",
   "execution_count": 13,
   "metadata": {
    "ExecuteTime": {
     "end_time": "2021-12-21T18:26:28.273976Z",
     "start_time": "2021-12-21T18:26:28.259652Z"
    }
   },
   "outputs": [
    {
     "data": {
      "text/plain": [
       "True"
      ]
     },
     "execution_count": 13,
     "metadata": {},
     "output_type": "execute_result"
    }
   ],
   "source": [
    "personal.customerID.is_unique"
   ]
  },
  {
   "cell_type": "code",
   "execution_count": 14,
   "metadata": {
    "ExecuteTime": {
     "end_time": "2021-12-21T18:26:28.289708Z",
     "start_time": "2021-12-21T18:26:28.274972Z"
    }
   },
   "outputs": [
    {
     "data": {
      "text/plain": [
       "True"
      ]
     },
     "execution_count": 14,
     "metadata": {},
     "output_type": "execute_result"
    }
   ],
   "source": [
    "internet.customerID.is_unique"
   ]
  },
  {
   "cell_type": "code",
   "execution_count": 15,
   "metadata": {
    "ExecuteTime": {
     "end_time": "2021-12-21T18:26:28.307214Z",
     "start_time": "2021-12-21T18:26:28.291690Z"
    }
   },
   "outputs": [
    {
     "data": {
      "text/plain": [
       "True"
      ]
     },
     "execution_count": 15,
     "metadata": {},
     "output_type": "execute_result"
    }
   ],
   "source": [
    "phone.customerID.is_unique"
   ]
  },
  {
   "cell_type": "markdown",
   "metadata": {},
   "source": [
    "В таблицах нет дубликатов идентификатора клиента.\n",
    "\n",
    "Как было обнаружено ранее, таблицы **contact** и **personal** имеют одинаковое количество строк. Проверим, есть ли в этих таблицах значения *customerID*, не принадлежащие одновременно обеим таблицам."
   ]
  },
  {
   "cell_type": "code",
   "execution_count": 16,
   "metadata": {
    "ExecuteTime": {
     "end_time": "2021-12-21T18:26:28.322701Z",
     "start_time": "2021-12-21T18:26:28.308195Z"
    }
   },
   "outputs": [
    {
     "data": {
      "text/plain": [
       "set()"
      ]
     },
     "execution_count": 16,
     "metadata": {},
     "output_type": "execute_result"
    }
   ],
   "source": [
    "set(contract.customerID) - set(personal.customerID)"
   ]
  },
  {
   "cell_type": "markdown",
   "metadata": {},
   "source": [
    "Пустое множество означает, что таблицы **contact** и **personal** описывают одних и тех же клиентов.\n",
    "\n",
    "Очевидно, что таблицы **contract** и **personal** из-за большего размера будут содержать значения *customerID*, отсутствующие в таблицах **internet** и **phone**. Проверим обратное. Содержат ли **internet** и **phone** значения *customerID*, отсутствующие в таблицах **contract** и **personal**. Если это так, это будет необходимо учесть при объединении таблиц."
   ]
  },
  {
   "cell_type": "code",
   "execution_count": 17,
   "metadata": {
    "ExecuteTime": {
     "end_time": "2021-12-21T18:26:28.338335Z",
     "start_time": "2021-12-21T18:26:28.324088Z"
    }
   },
   "outputs": [
    {
     "data": {
      "text/plain": [
       "set()"
      ]
     },
     "execution_count": 17,
     "metadata": {},
     "output_type": "execute_result"
    }
   ],
   "source": [
    "set(internet.customerID) - set(contract.customerID)"
   ]
  },
  {
   "cell_type": "code",
   "execution_count": 18,
   "metadata": {
    "ExecuteTime": {
     "end_time": "2021-12-21T18:26:28.354161Z",
     "start_time": "2021-12-21T18:26:28.339387Z"
    }
   },
   "outputs": [
    {
     "data": {
      "text/plain": [
       "set()"
      ]
     },
     "execution_count": 18,
     "metadata": {},
     "output_type": "execute_result"
    }
   ],
   "source": [
    "set(phone.customerID) - set(contract.customerID)"
   ]
  },
  {
   "cell_type": "markdown",
   "metadata": {},
   "source": [
    "В обоих случаях пустые множества означают, что таких значений *customerID* в таблицах **internet** и **phone** нет.\n",
    "\n",
    "С учетом всего этого, поле *customerID* в загруженных таблицах можно сделать индексом строки."
   ]
  },
  {
   "cell_type": "code",
   "execution_count": 19,
   "metadata": {
    "ExecuteTime": {
     "end_time": "2021-12-21T18:26:28.371771Z",
     "start_time": "2021-12-21T18:26:28.356162Z"
    }
   },
   "outputs": [],
   "source": [
    "contract.set_index('customerID', inplace=True)\n",
    "personal.set_index('customerID', inplace=True)\n",
    "internet.set_index('customerID', inplace=True)\n",
    "phone.set_index('customerID', inplace=True)"
   ]
  },
  {
   "cell_type": "markdown",
   "metadata": {},
   "source": [
    "Далее проанализируем каждую таблицу по отдельности."
   ]
  },
  {
   "cell_type": "markdown",
   "metadata": {},
   "source": [
    "### 3.3 Предобработка <a id=\"3_3\"></a>"
   ]
  },
  {
   "cell_type": "markdown",
   "metadata": {},
   "source": [
    "#### 3.3.1 Таблица сontract <a id=\"3_3_1\"></a>"
   ]
  },
  {
   "cell_type": "code",
   "execution_count": 20,
   "metadata": {
    "ExecuteTime": {
     "end_time": "2021-12-21T18:26:28.387253Z",
     "start_time": "2021-12-21T18:26:28.373489Z"
    }
   },
   "outputs": [
    {
     "data": {
      "text/html": [
       "<div>\n",
       "<style scoped>\n",
       "    .dataframe tbody tr th:only-of-type {\n",
       "        vertical-align: middle;\n",
       "    }\n",
       "\n",
       "    .dataframe tbody tr th {\n",
       "        vertical-align: top;\n",
       "    }\n",
       "\n",
       "    .dataframe thead th {\n",
       "        text-align: right;\n",
       "    }\n",
       "</style>\n",
       "<table border=\"1\" class=\"dataframe\">\n",
       "  <thead>\n",
       "    <tr style=\"text-align: right;\">\n",
       "      <th></th>\n",
       "      <th>BeginDate</th>\n",
       "      <th>EndDate</th>\n",
       "      <th>Type</th>\n",
       "      <th>PaperlessBilling</th>\n",
       "      <th>PaymentMethod</th>\n",
       "      <th>MonthlyCharges</th>\n",
       "      <th>TotalCharges</th>\n",
       "    </tr>\n",
       "    <tr>\n",
       "      <th>customerID</th>\n",
       "      <th></th>\n",
       "      <th></th>\n",
       "      <th></th>\n",
       "      <th></th>\n",
       "      <th></th>\n",
       "      <th></th>\n",
       "      <th></th>\n",
       "    </tr>\n",
       "  </thead>\n",
       "  <tbody>\n",
       "    <tr>\n",
       "      <th>7590-VHVEG</th>\n",
       "      <td>2020-01-01</td>\n",
       "      <td>No</td>\n",
       "      <td>Month-to-month</td>\n",
       "      <td>Yes</td>\n",
       "      <td>Electronic check</td>\n",
       "      <td>29.85</td>\n",
       "      <td>29.85</td>\n",
       "    </tr>\n",
       "    <tr>\n",
       "      <th>5575-GNVDE</th>\n",
       "      <td>2017-04-01</td>\n",
       "      <td>No</td>\n",
       "      <td>One year</td>\n",
       "      <td>No</td>\n",
       "      <td>Mailed check</td>\n",
       "      <td>56.95</td>\n",
       "      <td>1889.5</td>\n",
       "    </tr>\n",
       "    <tr>\n",
       "      <th>3668-QPYBK</th>\n",
       "      <td>2019-10-01</td>\n",
       "      <td>2019-12-01 00:00:00</td>\n",
       "      <td>Month-to-month</td>\n",
       "      <td>Yes</td>\n",
       "      <td>Mailed check</td>\n",
       "      <td>53.85</td>\n",
       "      <td>108.15</td>\n",
       "    </tr>\n",
       "  </tbody>\n",
       "</table>\n",
       "</div>"
      ],
      "text/plain": [
       "             BeginDate              EndDate            Type PaperlessBilling  \\\n",
       "customerID                                                                     \n",
       "7590-VHVEG  2020-01-01                   No  Month-to-month              Yes   \n",
       "5575-GNVDE  2017-04-01                   No        One year               No   \n",
       "3668-QPYBK  2019-10-01  2019-12-01 00:00:00  Month-to-month              Yes   \n",
       "\n",
       "               PaymentMethod  MonthlyCharges TotalCharges  \n",
       "customerID                                                 \n",
       "7590-VHVEG  Electronic check           29.85        29.85  \n",
       "5575-GNVDE      Mailed check           56.95       1889.5  \n",
       "3668-QPYBK      Mailed check           53.85       108.15  "
      ]
     },
     "execution_count": 20,
     "metadata": {},
     "output_type": "execute_result"
    }
   ],
   "source": [
    "contract.head(3)"
   ]
  },
  {
   "cell_type": "markdown",
   "metadata": {},
   "source": [
    "Столбцы *BeginDate* и *EndDate* с датой заключения и расторжения договора.\n",
    "\n",
    "Выведем уникальные значения *BeginDate*."
   ]
  },
  {
   "cell_type": "code",
   "execution_count": 21,
   "metadata": {
    "ExecuteTime": {
     "end_time": "2021-12-21T18:26:28.403182Z",
     "start_time": "2021-12-21T18:26:28.388246Z"
    }
   },
   "outputs": [
    {
     "data": {
      "text/plain": [
       "array(['2020-01-01', '2017-04-01', '2019-10-01', '2016-05-01',\n",
       "       '2019-09-01', '2019-03-01', '2018-04-01', '2019-04-01',\n",
       "       '2017-07-01', '2014-12-01', '2019-01-01', '2018-10-01',\n",
       "       '2015-04-01', '2015-09-01', '2018-01-01', '2014-05-01',\n",
       "       '2015-10-01', '2014-03-01', '2018-05-01', '2019-11-01',\n",
       "       '2019-02-01', '2016-01-01', '2017-08-01', '2015-12-01',\n",
       "       '2014-02-01', '2018-06-01', '2019-12-01', '2017-11-01',\n",
       "       '2019-06-01', '2016-04-01', '2017-02-01', '2018-12-01',\n",
       "       '2014-04-01', '2018-09-01', '2014-11-01', '2016-07-01',\n",
       "       '2015-02-01', '2018-07-01', '2014-08-01', '2016-03-01',\n",
       "       '2018-08-01', '2014-10-01', '2015-06-01', '2016-08-01',\n",
       "       '2019-05-01', '2017-03-01', '2016-02-01', '2017-09-01',\n",
       "       '2014-09-01', '2017-12-01', '2016-12-01', '2017-06-01',\n",
       "       '2015-05-01', '2016-10-01', '2016-09-01', '2019-08-01',\n",
       "       '2019-07-01', '2017-05-01', '2017-10-01', '2014-07-01',\n",
       "       '2018-03-01', '2015-01-01', '2018-11-01', '2015-03-01',\n",
       "       '2018-02-01', '2016-06-01', '2015-08-01', '2015-11-01',\n",
       "       '2014-06-01', '2017-01-01', '2015-07-01', '2020-02-01',\n",
       "       '2016-11-01', '2013-11-01', '2014-01-01', '2013-10-01',\n",
       "       '2013-12-01'], dtype=object)"
      ]
     },
     "execution_count": 21,
     "metadata": {},
     "output_type": "execute_result"
    }
   ],
   "source": [
    "contract.BeginDate.unique()"
   ]
  },
  {
   "cell_type": "markdown",
   "metadata": {},
   "source": [
    "Столбец *BeginDate* содержит только даты в строковом представлении. Приведем его тип к `pandas.Timestamp`, также выведем уникальные значения года, месяца и числа по отдельности"
   ]
  },
  {
   "cell_type": "code",
   "execution_count": 22,
   "metadata": {
    "ExecuteTime": {
     "end_time": "2021-12-21T18:26:28.418388Z",
     "start_time": "2021-12-21T18:26:28.404173Z"
    }
   },
   "outputs": [
    {
     "data": {
      "text/plain": [
       "array([2020, 2019, 2018, 2017, 2016, 2015, 2014, 2013])"
      ]
     },
     "execution_count": 22,
     "metadata": {},
     "output_type": "execute_result"
    }
   ],
   "source": [
    "contract.BeginDate = pd.to_datetime(contract.BeginDate)\n",
    "contract.BeginDate.dt.year.sort_values(ascending=False).unique()"
   ]
  },
  {
   "cell_type": "code",
   "execution_count": 23,
   "metadata": {
    "ExecuteTime": {
     "end_time": "2021-12-21T18:26:28.434392Z",
     "start_time": "2021-12-21T18:26:28.421406Z"
    }
   },
   "outputs": [
    {
     "data": {
      "text/plain": [
       "array([12, 11, 10,  9,  8,  7,  6,  5,  4,  3,  2,  1])"
      ]
     },
     "execution_count": 23,
     "metadata": {},
     "output_type": "execute_result"
    }
   ],
   "source": [
    "contract.BeginDate.dt.month.sort_values(ascending=False).unique()"
   ]
  },
  {
   "cell_type": "code",
   "execution_count": 24,
   "metadata": {
    "ExecuteTime": {
     "end_time": "2021-12-21T18:26:28.451368Z",
     "start_time": "2021-12-21T18:26:28.436360Z"
    }
   },
   "outputs": [
    {
     "data": {
      "text/plain": [
       "array([1])"
      ]
     },
     "execution_count": 24,
     "metadata": {},
     "output_type": "execute_result"
    }
   ],
   "source": [
    "contract.BeginDate.dt.day.unique()"
   ]
  },
  {
   "cell_type": "markdown",
   "metadata": {},
   "source": [
    "Самая ранняя и самая поздняя даты в *BeginDate*."
   ]
  },
  {
   "cell_type": "code",
   "execution_count": 25,
   "metadata": {
    "ExecuteTime": {
     "end_time": "2021-12-21T18:26:28.466471Z",
     "start_time": "2021-12-21T18:26:28.452837Z"
    }
   },
   "outputs": [
    {
     "data": {
      "text/plain": [
       "(Timestamp('2013-10-01 00:00:00'), Timestamp('2020-02-01 00:00:00'))"
      ]
     },
     "execution_count": 25,
     "metadata": {},
     "output_type": "execute_result"
    }
   ],
   "source": [
    "contract.BeginDate.min(), contract.BeginDate.max()"
   ]
  },
  {
   "cell_type": "markdown",
   "metadata": {},
   "source": [
    "*BeginDate* содержит даты с 2013-11-01 по 2020-02-01. Заключение каждого договора датируется началом месяца.\n",
    "\n",
    "Проанализируем распределение частоты заключения договоров по временной шкале. Для этого построим гистограмму для столбца *BegDate*."
   ]
  },
  {
   "cell_type": "code",
   "execution_count": 26,
   "metadata": {
    "ExecuteTime": {
     "end_time": "2021-12-21T18:26:28.481935Z",
     "start_time": "2021-12-21T18:26:28.468273Z"
    }
   },
   "outputs": [
    {
     "data": {
      "text/plain": [
       "2013       8\n",
       "2014    1344\n",
       "2015     852\n",
       "2016     763\n",
       "2017     845\n",
       "2018    1030\n",
       "2019    1957\n",
       "2020     244\n",
       "Name: BeginDate, dtype: int64"
      ]
     },
     "execution_count": 26,
     "metadata": {},
     "output_type": "execute_result"
    }
   ],
   "source": [
    "contract.BeginDate.dt.year.value_counts().sort_index()"
   ]
  },
  {
   "cell_type": "code",
   "execution_count": 27,
   "metadata": {
    "ExecuteTime": {
     "end_time": "2021-12-21T18:26:28.659008Z",
     "start_time": "2021-12-21T18:26:28.482872Z"
    }
   },
   "outputs": [
    {
     "data": {
      "image/png": "[encoded data removed]",
      "text/plain": [
       "<Figure size 1152x288 with 1 Axes>"
      ]
     },
     "metadata": {
      "needs_background": "light"
     },
     "output_type": "display_data"
    }
   ],
   "source": [
    "ax = contract.BeginDate.dt.year.hist(\n",
    "    bins=len(contract.BeginDate.dt.year.unique()),\n",
    "    figsize=(16, 4))\n",
    "ax.set_title('Распределение количества заключенных контрактов по годам');"
   ]
  },
  {
   "cell_type": "markdown",
   "metadata": {},
   "source": [
    "Популярность услуг компании сперва снижалась, потом росла. Небольшие значения крайних столбцов объясняются сбором данных по неполному году.\n",
    "\n",
    "Исследуем *EndDate*. Его уникальные значения, их количество и доля."
   ]
  },
  {
   "cell_type": "code",
   "execution_count": 28,
   "metadata": {
    "ExecuteTime": {
     "end_time": "2021-12-21T18:26:28.674233Z",
     "start_time": "2021-12-21T18:26:28.660005Z"
    }
   },
   "outputs": [
    {
     "data": {
      "text/html": [
       "<div>\n",
       "<style scoped>\n",
       "    .dataframe tbody tr th:only-of-type {\n",
       "        vertical-align: middle;\n",
       "    }\n",
       "\n",
       "    .dataframe tbody tr th {\n",
       "        vertical-align: top;\n",
       "    }\n",
       "\n",
       "    .dataframe thead th {\n",
       "        text-align: right;\n",
       "    }\n",
       "</style>\n",
       "<table border=\"1\" class=\"dataframe\">\n",
       "  <thead>\n",
       "    <tr style=\"text-align: right;\">\n",
       "      <th></th>\n",
       "      <th>Количество, шт</th>\n",
       "      <th>Доля, %</th>\n",
       "    </tr>\n",
       "  </thead>\n",
       "  <tbody>\n",
       "    <tr>\n",
       "      <th>No</th>\n",
       "      <td>5174</td>\n",
       "      <td>73.46</td>\n",
       "    </tr>\n",
       "    <tr>\n",
       "      <th>2019-11-01 00:00:00</th>\n",
       "      <td>485</td>\n",
       "      <td>6.89</td>\n",
       "    </tr>\n",
       "    <tr>\n",
       "      <th>2019-12-01 00:00:00</th>\n",
       "      <td>466</td>\n",
       "      <td>6.62</td>\n",
       "    </tr>\n",
       "    <tr>\n",
       "      <th>2020-01-01 00:00:00</th>\n",
       "      <td>460</td>\n",
       "      <td>6.53</td>\n",
       "    </tr>\n",
       "    <tr>\n",
       "      <th>2019-10-01 00:00:00</th>\n",
       "      <td>458</td>\n",
       "      <td>6.50</td>\n",
       "    </tr>\n",
       "  </tbody>\n",
       "</table>\n",
       "</div>"
      ],
      "text/plain": [
       "                     Количество, шт  Доля, %\n",
       "No                             5174    73.46\n",
       "2019-11-01 00:00:00             485     6.89\n",
       "2019-12-01 00:00:00             466     6.62\n",
       "2020-01-01 00:00:00             460     6.53\n",
       "2019-10-01 00:00:00             458     6.50"
      ]
     },
     "execution_count": 28,
     "metadata": {},
     "output_type": "execute_result"
    }
   ],
   "source": [
    "value_counts_presentages(contract.EndDate)"
   ]
  },
  {
   "cell_type": "markdown",
   "metadata": {},
   "source": [
    "Расторжение договора также датируется началом месяца. Все даты распределились между последними тремя месяцами 2019 и январем 2020. Возможно, этим датам предшествовали какие-то изменения в качестве или стоимости услуг.\n",
    "\n",
    "Даты имеют строковое представление. Также столбец содержит значение \"No\", что соответствует нерасторжению пользователем договора на 2020-01-01.\n",
    "\n",
    "Заменим данный признак на время жизни клиента *LTV* &mdash; разницу в днях между *EndDate* и *BegDate*. Значение \"No\" будем считать соответствующим 2020-02-01 (см. описание проекта)."
   ]
  },
  {
   "cell_type": "code",
   "execution_count": 29,
   "metadata": {
    "ExecuteTime": {
     "end_time": "2021-12-21T18:26:28.689955Z",
     "start_time": "2021-12-21T18:26:28.675222Z"
    }
   },
   "outputs": [],
   "source": [
    "contract['LTV'] =\\\n",
    "    ((pd.to_datetime(contract.EndDate.replace('No', '2020-02-01 00:00:00')) - contract.BeginDate).dt.days)\\\n",
    "    .astype('int16')"
   ]
  },
  {
   "cell_type": "markdown",
   "metadata": {
    "ExecuteTime": {
     "end_time": "2021-12-17T02:23:41.031302Z",
     "start_time": "2021-12-17T02:23:41.018879Z"
    }
   },
   "source": [
    "Описательная статистика и гастограмма для вычисленного столбца."
   ]
  },
  {
   "cell_type": "code",
   "execution_count": 30,
   "metadata": {
    "ExecuteTime": {
     "end_time": "2021-12-21T18:26:28.705526Z",
     "start_time": "2021-12-21T18:26:28.690940Z"
    }
   },
   "outputs": [
    {
     "data": {
      "text/plain": [
       "count    7043.000000\n",
       "mean      985.996166\n",
       "std       747.587844\n",
       "min         0.000000\n",
       "25%       273.000000\n",
       "50%       883.000000\n",
       "75%      1676.000000\n",
       "max      2191.000000\n",
       "Name: LTV, dtype: float64"
      ]
     },
     "execution_count": 30,
     "metadata": {},
     "output_type": "execute_result"
    }
   ],
   "source": [
    "contract.LTV.describe()"
   ]
  },
  {
   "cell_type": "code",
   "execution_count": 31,
   "metadata": {
    "ExecuteTime": {
     "end_time": "2021-12-21T18:26:28.830473Z",
     "start_time": "2021-12-21T18:26:28.706511Z"
    },
    "code_folding": []
   },
   "outputs": [
    {
     "data": {
      "image/png": "[encoded data removed]",
      "text/plain": [
       "<Figure size 1152x288 with 1 Axes>"
      ]
     },
     "metadata": {
      "needs_background": "light"
     },
     "output_type": "display_data"
    }
   ],
   "source": [
    "bins = range(100 * int(contract.LTV.min() / 100), 100 * int(contract.LTV.max() / 100 + 2), 100)\n",
    "ax = contract.LTV.hist(\n",
    "    bins=bins,\n",
    "    figsize=(16, 4))\n",
    "ax.set_title('Распределение времени жизни клиента');"
   ]
  },
  {
   "cell_type": "markdown",
   "metadata": {},
   "source": [
    "Много клиентов ушло в течении первых 100 дней. Также есть пик в районе максимального значения *LTV*. Есть нулевые значения. Пользователь подключился и отключился в течении одного месяца? Определим их количество."
   ]
  },
  {
   "cell_type": "code",
   "execution_count": 32,
   "metadata": {
    "ExecuteTime": {
     "end_time": "2021-12-21T18:26:28.846182Z",
     "start_time": "2021-12-21T18:26:28.831465Z"
    }
   },
   "outputs": [
    {
     "data": {
      "text/plain": [
       "11"
      ]
     },
     "execution_count": 32,
     "metadata": {},
     "output_type": "execute_result"
    }
   ],
   "source": [
    "(contract.LTV == 0).sum()"
   ]
  },
  {
   "cell_type": "markdown",
   "metadata": {},
   "source": [
    "Выведем этих пользователей."
   ]
  },
  {
   "cell_type": "code",
   "execution_count": 33,
   "metadata": {
    "ExecuteTime": {
     "end_time": "2021-12-21T18:26:28.861953Z",
     "start_time": "2021-12-21T18:26:28.847166Z"
    }
   },
   "outputs": [
    {
     "data": {
      "text/html": [
       "<div>\n",
       "<style scoped>\n",
       "    .dataframe tbody tr th:only-of-type {\n",
       "        vertical-align: middle;\n",
       "    }\n",
       "\n",
       "    .dataframe tbody tr th {\n",
       "        vertical-align: top;\n",
       "    }\n",
       "\n",
       "    .dataframe thead th {\n",
       "        text-align: right;\n",
       "    }\n",
       "</style>\n",
       "<table border=\"1\" class=\"dataframe\">\n",
       "  <thead>\n",
       "    <tr style=\"text-align: right;\">\n",
       "      <th></th>\n",
       "      <th>BeginDate</th>\n",
       "      <th>EndDate</th>\n",
       "      <th>Type</th>\n",
       "      <th>PaperlessBilling</th>\n",
       "      <th>PaymentMethod</th>\n",
       "      <th>MonthlyCharges</th>\n",
       "      <th>TotalCharges</th>\n",
       "      <th>LTV</th>\n",
       "    </tr>\n",
       "    <tr>\n",
       "      <th>customerID</th>\n",
       "      <th></th>\n",
       "      <th></th>\n",
       "      <th></th>\n",
       "      <th></th>\n",
       "      <th></th>\n",
       "      <th></th>\n",
       "      <th></th>\n",
       "      <th></th>\n",
       "    </tr>\n",
       "  </thead>\n",
       "  <tbody>\n",
       "    <tr>\n",
       "      <th>4472-LVYGI</th>\n",
       "      <td>2020-02-01</td>\n",
       "      <td>No</td>\n",
       "      <td>Two year</td>\n",
       "      <td>Yes</td>\n",
       "      <td>Bank transfer (automatic)</td>\n",
       "      <td>52.55</td>\n",
       "      <td></td>\n",
       "      <td>0</td>\n",
       "    </tr>\n",
       "    <tr>\n",
       "      <th>3115-CZMZD</th>\n",
       "      <td>2020-02-01</td>\n",
       "      <td>No</td>\n",
       "      <td>Two year</td>\n",
       "      <td>No</td>\n",
       "      <td>Mailed check</td>\n",
       "      <td>20.25</td>\n",
       "      <td></td>\n",
       "      <td>0</td>\n",
       "    </tr>\n",
       "    <tr>\n",
       "      <th>5709-LVOEQ</th>\n",
       "      <td>2020-02-01</td>\n",
       "      <td>No</td>\n",
       "      <td>Two year</td>\n",
       "      <td>No</td>\n",
       "      <td>Mailed check</td>\n",
       "      <td>80.85</td>\n",
       "      <td></td>\n",
       "      <td>0</td>\n",
       "    </tr>\n",
       "    <tr>\n",
       "      <th>4367-NUYAO</th>\n",
       "      <td>2020-02-01</td>\n",
       "      <td>No</td>\n",
       "      <td>Two year</td>\n",
       "      <td>No</td>\n",
       "      <td>Mailed check</td>\n",
       "      <td>25.75</td>\n",
       "      <td></td>\n",
       "      <td>0</td>\n",
       "    </tr>\n",
       "    <tr>\n",
       "      <th>1371-DWPAZ</th>\n",
       "      <td>2020-02-01</td>\n",
       "      <td>No</td>\n",
       "      <td>Two year</td>\n",
       "      <td>No</td>\n",
       "      <td>Credit card (automatic)</td>\n",
       "      <td>56.05</td>\n",
       "      <td></td>\n",
       "      <td>0</td>\n",
       "    </tr>\n",
       "    <tr>\n",
       "      <th>7644-OMVMY</th>\n",
       "      <td>2020-02-01</td>\n",
       "      <td>No</td>\n",
       "      <td>Two year</td>\n",
       "      <td>No</td>\n",
       "      <td>Mailed check</td>\n",
       "      <td>19.85</td>\n",
       "      <td></td>\n",
       "      <td>0</td>\n",
       "    </tr>\n",
       "    <tr>\n",
       "      <th>3213-VVOLG</th>\n",
       "      <td>2020-02-01</td>\n",
       "      <td>No</td>\n",
       "      <td>Two year</td>\n",
       "      <td>No</td>\n",
       "      <td>Mailed check</td>\n",
       "      <td>25.35</td>\n",
       "      <td></td>\n",
       "      <td>0</td>\n",
       "    </tr>\n",
       "    <tr>\n",
       "      <th>2520-SGTTA</th>\n",
       "      <td>2020-02-01</td>\n",
       "      <td>No</td>\n",
       "      <td>Two year</td>\n",
       "      <td>No</td>\n",
       "      <td>Mailed check</td>\n",
       "      <td>20.00</td>\n",
       "      <td></td>\n",
       "      <td>0</td>\n",
       "    </tr>\n",
       "    <tr>\n",
       "      <th>2923-ARZLG</th>\n",
       "      <td>2020-02-01</td>\n",
       "      <td>No</td>\n",
       "      <td>One year</td>\n",
       "      <td>Yes</td>\n",
       "      <td>Mailed check</td>\n",
       "      <td>19.70</td>\n",
       "      <td></td>\n",
       "      <td>0</td>\n",
       "    </tr>\n",
       "    <tr>\n",
       "      <th>4075-WKNIU</th>\n",
       "      <td>2020-02-01</td>\n",
       "      <td>No</td>\n",
       "      <td>Two year</td>\n",
       "      <td>No</td>\n",
       "      <td>Mailed check</td>\n",
       "      <td>73.35</td>\n",
       "      <td></td>\n",
       "      <td>0</td>\n",
       "    </tr>\n",
       "    <tr>\n",
       "      <th>2775-SEFEE</th>\n",
       "      <td>2020-02-01</td>\n",
       "      <td>No</td>\n",
       "      <td>Two year</td>\n",
       "      <td>Yes</td>\n",
       "      <td>Bank transfer (automatic)</td>\n",
       "      <td>61.90</td>\n",
       "      <td></td>\n",
       "      <td>0</td>\n",
       "    </tr>\n",
       "  </tbody>\n",
       "</table>\n",
       "</div>"
      ],
      "text/plain": [
       "            BeginDate EndDate      Type PaperlessBilling  \\\n",
       "customerID                                                 \n",
       "4472-LVYGI 2020-02-01      No  Two year              Yes   \n",
       "3115-CZMZD 2020-02-01      No  Two year               No   \n",
       "5709-LVOEQ 2020-02-01      No  Two year               No   \n",
       "4367-NUYAO 2020-02-01      No  Two year               No   \n",
       "1371-DWPAZ 2020-02-01      No  Two year               No   \n",
       "7644-OMVMY 2020-02-01      No  Two year               No   \n",
       "3213-VVOLG 2020-02-01      No  Two year               No   \n",
       "2520-SGTTA 2020-02-01      No  Two year               No   \n",
       "2923-ARZLG 2020-02-01      No  One year              Yes   \n",
       "4075-WKNIU 2020-02-01      No  Two year               No   \n",
       "2775-SEFEE 2020-02-01      No  Two year              Yes   \n",
       "\n",
       "                        PaymentMethod  MonthlyCharges TotalCharges  LTV  \n",
       "customerID                                                               \n",
       "4472-LVYGI  Bank transfer (automatic)           52.55                 0  \n",
       "3115-CZMZD               Mailed check           20.25                 0  \n",
       "5709-LVOEQ               Mailed check           80.85                 0  \n",
       "4367-NUYAO               Mailed check           25.75                 0  \n",
       "1371-DWPAZ    Credit card (automatic)           56.05                 0  \n",
       "7644-OMVMY               Mailed check           19.85                 0  \n",
       "3213-VVOLG               Mailed check           25.35                 0  \n",
       "2520-SGTTA               Mailed check           20.00                 0  \n",
       "2923-ARZLG               Mailed check           19.70                 0  \n",
       "4075-WKNIU               Mailed check           73.35                 0  \n",
       "2775-SEFEE  Bank transfer (automatic)           61.90                 0  "
      ]
     },
     "execution_count": 33,
     "metadata": {},
     "output_type": "execute_result"
    }
   ],
   "source": [
    "contract[contract.LTV == 0]"
   ]
  },
  {
   "cell_type": "markdown",
   "metadata": {},
   "source": [
    "Все эти пользователи подключились в феврале 2020, именно по эти год и месяц в датасете собраны данные, поэтому мы не располагаем информацией о возможном расторжении договора данными клиентами.\n",
    "\n",
    "Также для представленных клиентов в столбце *TotalCharges* отутствуют значения. Изучим это позже.\n",
    "\n",
    "Cформируем из столбца *EndDate*  целевой признак *Termination* со значениями True &mdash; на февраль 2020 пользователь расторг контракт, False &mdash; не расторг."
   ]
  },
  {
   "cell_type": "code",
   "execution_count": 34,
   "metadata": {
    "ExecuteTime": {
     "end_time": "2021-12-21T18:26:28.877704Z",
     "start_time": "2021-12-21T18:26:28.862942Z"
    }
   },
   "outputs": [],
   "source": [
    "contract['Termination'] = (contract.EndDate != 'No').astype('uint8')"
   ]
  },
  {
   "cell_type": "markdown",
   "metadata": {},
   "source": [
    "Теперь столбцы *BeginDate* и *EndDate* можно удалить. *BeginDate* логически не связан с причинами возникновения у клиента желания расторгнуть контракт. Более того, даже если разложить *BeginDate* на год и месяц заключения контракта, то их комбинации для новых клиентов окажутся за пределами диапазона значений дат, на которых обучалась модель. В случае *EndDate*, то обучение на предоставленных данных явно приведет к переобучению модели на тех четырех месяцах, в которые фиксировался отток клиентов."
   ]
  },
  {
   "cell_type": "code",
   "execution_count": 35,
   "metadata": {
    "ExecuteTime": {
     "end_time": "2021-12-21T18:26:28.893174Z",
     "start_time": "2021-12-21T18:26:28.878692Z"
    }
   },
   "outputs": [],
   "source": [
    "del contract['EndDate']\n",
    "del contract['BeginDate']"
   ]
  },
  {
   "cell_type": "markdown",
   "metadata": {},
   "source": [
    "Столбец *Type* с типом оплаты.\n",
    "\n",
    "Выведем его уникальные значения, их количество и долю."
   ]
  },
  {
   "cell_type": "code",
   "execution_count": 36,
   "metadata": {
    "ExecuteTime": {
     "end_time": "2021-12-21T18:26:28.908706Z",
     "start_time": "2021-12-21T18:26:28.894164Z"
    }
   },
   "outputs": [
    {
     "data": {
      "text/html": [
       "<div>\n",
       "<style scoped>\n",
       "    .dataframe tbody tr th:only-of-type {\n",
       "        vertical-align: middle;\n",
       "    }\n",
       "\n",
       "    .dataframe tbody tr th {\n",
       "        vertical-align: top;\n",
       "    }\n",
       "\n",
       "    .dataframe thead th {\n",
       "        text-align: right;\n",
       "    }\n",
       "</style>\n",
       "<table border=\"1\" class=\"dataframe\">\n",
       "  <thead>\n",
       "    <tr style=\"text-align: right;\">\n",
       "      <th></th>\n",
       "      <th>Количество, шт</th>\n",
       "      <th>Доля, %</th>\n",
       "    </tr>\n",
       "  </thead>\n",
       "  <tbody>\n",
       "    <tr>\n",
       "      <th>Month-to-month</th>\n",
       "      <td>3875</td>\n",
       "      <td>55.02</td>\n",
       "    </tr>\n",
       "    <tr>\n",
       "      <th>Two year</th>\n",
       "      <td>1695</td>\n",
       "      <td>24.07</td>\n",
       "    </tr>\n",
       "    <tr>\n",
       "      <th>One year</th>\n",
       "      <td>1473</td>\n",
       "      <td>20.91</td>\n",
       "    </tr>\n",
       "  </tbody>\n",
       "</table>\n",
       "</div>"
      ],
      "text/plain": [
       "                Количество, шт  Доля, %\n",
       "Month-to-month            3875    55.02\n",
       "Two year                  1695    24.07\n",
       "One year                  1473    20.91"
      ]
     },
     "execution_count": 36,
     "metadata": {},
     "output_type": "execute_result"
    }
   ],
   "source": [
    "value_counts_presentages(contract.Type)"
   ]
  },
  {
   "cell_type": "markdown",
   "metadata": {
    "ExecuteTime": {
     "end_time": "2021-12-15T13:12:57.072425Z",
     "start_time": "2021-12-15T13:12:57.055249Z"
    }
   },
   "source": [
    "Чуть больше половины клиентов предпочитает помесячную оплату. Остальные, поделившись примерно поровну, предпочитают оплачивать услуги на год или на два вперед. Этот столбец будет преобразован на этапе кодирования признаков."
   ]
  },
  {
   "cell_type": "markdown",
   "metadata": {
    "ExecuteTime": {
     "end_time": "2021-12-15T13:12:57.072425Z",
     "start_time": "2021-12-15T13:12:57.055249Z"
    }
   },
   "source": [
    "Столбцы *PaperlessBilling* и *PaymentMethod* с информацией о том, является ли расчет безналичным, и способе оплаты.\n",
    "\n",
    "Рассмотрим первый из них."
   ]
  },
  {
   "cell_type": "code",
   "execution_count": 37,
   "metadata": {
    "ExecuteTime": {
     "end_time": "2021-12-21T18:26:28.924466Z",
     "start_time": "2021-12-21T18:26:28.910666Z"
    }
   },
   "outputs": [
    {
     "data": {
      "text/html": [
       "<div>\n",
       "<style scoped>\n",
       "    .dataframe tbody tr th:only-of-type {\n",
       "        vertical-align: middle;\n",
       "    }\n",
       "\n",
       "    .dataframe tbody tr th {\n",
       "        vertical-align: top;\n",
       "    }\n",
       "\n",
       "    .dataframe thead th {\n",
       "        text-align: right;\n",
       "    }\n",
       "</style>\n",
       "<table border=\"1\" class=\"dataframe\">\n",
       "  <thead>\n",
       "    <tr style=\"text-align: right;\">\n",
       "      <th></th>\n",
       "      <th>Количество, шт</th>\n",
       "      <th>Доля, %</th>\n",
       "    </tr>\n",
       "  </thead>\n",
       "  <tbody>\n",
       "    <tr>\n",
       "      <th>Yes</th>\n",
       "      <td>4171</td>\n",
       "      <td>59.22</td>\n",
       "    </tr>\n",
       "    <tr>\n",
       "      <th>No</th>\n",
       "      <td>2872</td>\n",
       "      <td>40.78</td>\n",
       "    </tr>\n",
       "  </tbody>\n",
       "</table>\n",
       "</div>"
      ],
      "text/plain": [
       "     Количество, шт  Доля, %\n",
       "Yes            4171    59.22\n",
       "No             2872    40.78"
      ]
     },
     "execution_count": 37,
     "metadata": {},
     "output_type": "execute_result"
    }
   ],
   "source": [
    "value_counts_presentages(contract.PaperlessBilling)"
   ]
  },
  {
   "cell_type": "markdown",
   "metadata": {},
   "source": [
    "Почти 60% пользователей предпочитают безналичный расчет.\n",
    "\n",
    "Рассмотрим способ оплаты."
   ]
  },
  {
   "cell_type": "code",
   "execution_count": 38,
   "metadata": {
    "ExecuteTime": {
     "end_time": "2021-12-21T18:26:28.955677Z",
     "start_time": "2021-12-21T18:26:28.925450Z"
    }
   },
   "outputs": [
    {
     "data": {
      "text/html": [
       "<div>\n",
       "<style scoped>\n",
       "    .dataframe tbody tr th:only-of-type {\n",
       "        vertical-align: middle;\n",
       "    }\n",
       "\n",
       "    .dataframe tbody tr th {\n",
       "        vertical-align: top;\n",
       "    }\n",
       "\n",
       "    .dataframe thead th {\n",
       "        text-align: right;\n",
       "    }\n",
       "</style>\n",
       "<table border=\"1\" class=\"dataframe\">\n",
       "  <thead>\n",
       "    <tr style=\"text-align: right;\">\n",
       "      <th></th>\n",
       "      <th>Количество, шт</th>\n",
       "      <th>Доля, %</th>\n",
       "    </tr>\n",
       "  </thead>\n",
       "  <tbody>\n",
       "    <tr>\n",
       "      <th>Electronic check</th>\n",
       "      <td>2365</td>\n",
       "      <td>33.58</td>\n",
       "    </tr>\n",
       "    <tr>\n",
       "      <th>Mailed check</th>\n",
       "      <td>1612</td>\n",
       "      <td>22.89</td>\n",
       "    </tr>\n",
       "    <tr>\n",
       "      <th>Bank transfer (automatic)</th>\n",
       "      <td>1544</td>\n",
       "      <td>21.92</td>\n",
       "    </tr>\n",
       "    <tr>\n",
       "      <th>Credit card (automatic)</th>\n",
       "      <td>1522</td>\n",
       "      <td>21.61</td>\n",
       "    </tr>\n",
       "  </tbody>\n",
       "</table>\n",
       "</div>"
      ],
      "text/plain": [
       "                           Количество, шт  Доля, %\n",
       "Electronic check                     2365    33.58\n",
       "Mailed check                         1612    22.89\n",
       "Bank transfer (automatic)            1544    21.92\n",
       "Credit card (automatic)              1522    21.61"
      ]
     },
     "execution_count": 38,
     "metadata": {},
     "output_type": "execute_result"
    }
   ],
   "source": [
    "value_counts_presentages(contract.PaymentMethod)"
   ]
  },
  {
   "cell_type": "markdown",
   "metadata": {},
   "source": [
    "Большинство клиентов предпочитают электронный счет или счет на почту автоматическому списанию средств."
   ]
  },
  {
   "cell_type": "markdown",
   "metadata": {},
   "source": [
    "Столбцы *MonthlyCharges* и *TotalCharges* с информацией о платежах клиентов.\n",
    "\n",
    "Выведем описательную статистику для столбца с размером ежемесячных платежей *MonthlyCharges*, построим гистограмму."
   ]
  },
  {
   "cell_type": "code",
   "execution_count": 39,
   "metadata": {
    "ExecuteTime": {
     "end_time": "2021-12-21T18:26:28.970540Z",
     "start_time": "2021-12-21T18:26:28.956664Z"
    }
   },
   "outputs": [
    {
     "data": {
      "text/plain": [
       "count    7043.000000\n",
       "mean       64.761692\n",
       "std        30.090047\n",
       "min        18.250000\n",
       "25%        35.500000\n",
       "50%        70.350000\n",
       "75%        89.850000\n",
       "max       118.750000\n",
       "Name: MonthlyCharges, dtype: float64"
      ]
     },
     "execution_count": 39,
     "metadata": {},
     "output_type": "execute_result"
    }
   ],
   "source": [
    "contract.MonthlyCharges.describe()"
   ]
  },
  {
   "cell_type": "code",
   "execution_count": 40,
   "metadata": {
    "ExecuteTime": {
     "end_time": "2021-12-21T18:26:29.110526Z",
     "start_time": "2021-12-21T18:26:28.971540Z"
    }
   },
   "outputs": [
    {
     "data": {
      "image/png": "[encoded data removed]",
      "text/plain": [
       "<Figure size 1152x288 with 1 Axes>"
      ]
     },
     "metadata": {
      "needs_background": "light"
     },
     "output_type": "display_data"
    }
   ],
   "source": [
    "bins = range(10 * int(contract.MonthlyCharges.min() / 10), 10 * int(contract.MonthlyCharges.max() / 10 + 2), 10)\n",
    "ax = contract.MonthlyCharges.hist(bins=bins, figsize=(16, 4))\n",
    "ax.set_xticks(bins)\n",
    "ax.set_title('Распределение размера ежемесячного платежа клиентов');"
   ]
  },
  {
   "cell_type": "markdown",
   "metadata": {},
   "source": [
    "На общем фоне выделяется группа экономных клиентов.\n",
    "\n",
    "Как было показано ранее, данный столбец имеет тип `float64`. Такой тип является избыточным для хранения значений ежемесячных платежей, максимальный из которых равен 118.75. Изменим его тип на `float32`."
   ]
  },
  {
   "cell_type": "code",
   "execution_count": 41,
   "metadata": {
    "ExecuteTime": {
     "end_time": "2021-12-21T18:26:29.125754Z",
     "start_time": "2021-12-21T18:26:29.110885Z"
    }
   },
   "outputs": [],
   "source": [
    "contract.MonthlyCharges = contract.MonthlyCharges.astype('float32')"
   ]
  },
  {
   "cell_type": "markdown",
   "metadata": {
    "ExecuteTime": {
     "end_time": "2021-12-15T14:06:37.152412Z",
     "start_time": "2021-12-15T14:06:37.135071Z"
    }
   },
   "source": [
    "Тип столбца с суммарным платежом клиента *TotalCharges* строковый, хотя он хранит числовые значения. Перед преобразованием типа проверим наличие в нем символов, не являющихся цифрами или десятичным разделителем. Подсчитаем их количество."
   ]
  },
  {
   "cell_type": "code",
   "execution_count": 42,
   "metadata": {
    "ExecuteTime": {
     "end_time": "2021-12-21T18:26:29.141007Z",
     "start_time": "2021-12-21T18:26:29.126740Z"
    }
   },
   "outputs": [
    {
     "data": {
      "text/plain": [
       "11"
      ]
     },
     "execution_count": 42,
     "metadata": {},
     "output_type": "execute_result"
    }
   ],
   "source": [
    "bad_data_indices = contract.TotalCharges.apply(lambda x: not x.replace('.', '', 1).isdigit())\n",
    "bad_data_indices.sum()"
   ]
  },
  {
   "cell_type": "markdown",
   "metadata": {},
   "source": [
    "Выведем их."
   ]
  },
  {
   "cell_type": "code",
   "execution_count": 43,
   "metadata": {
    "ExecuteTime": {
     "end_time": "2021-12-21T18:26:29.155787Z",
     "start_time": "2021-12-21T18:26:29.142000Z"
    }
   },
   "outputs": [
    {
     "data": {
      "text/plain": [
       "array([' ', ' ', ' ', ' ', ' ', ' ', ' ', ' ', ' ', ' ', ' '],\n",
       "      dtype=object)"
      ]
     },
     "execution_count": 43,
     "metadata": {},
     "output_type": "execute_result"
    }
   ],
   "source": [
    "contract.TotalCharges[bad_data_indices].values"
   ]
  },
  {
   "cell_type": "markdown",
   "metadata": {},
   "source": [
    "Как было выяснено раньше, эти значения в столбце *TotalCharges* имеют пользователи, заключившие контракт в феврале 2020 (по эту дату собраны данные в анализируемом датасете). На тот момент эти пользователи еще не успели совершить ни одного платежа, и их суммарный платеж равен 0. Заменим пробелы в столбце *TotalCharges* на 0, а также поменяем тип столбца со строкового на число с плавающей запятой."
   ]
  },
  {
   "cell_type": "code",
   "execution_count": 44,
   "metadata": {
    "ExecuteTime": {
     "end_time": "2021-12-21T18:26:29.171542Z",
     "start_time": "2021-12-21T18:26:29.156773Z"
    }
   },
   "outputs": [],
   "source": [
    "contract.loc[bad_data_indices, 'TotalCharges'] = '0'\n",
    "contract.TotalCharges = contract.TotalCharges.astype('float32')"
   ]
  },
  {
   "cell_type": "code",
   "execution_count": 45,
   "metadata": {
    "ExecuteTime": {
     "end_time": "2021-12-21T18:26:29.187317Z",
     "start_time": "2021-12-21T18:26:29.172518Z"
    }
   },
   "outputs": [
    {
     "data": {
      "text/plain": [
       "count    7043.000000\n",
       "mean     2279.734375\n",
       "std      2266.794434\n",
       "min         0.000000\n",
       "25%       398.549988\n",
       "50%      1394.550049\n",
       "75%      3786.599976\n",
       "max      8684.799805\n",
       "Name: TotalCharges, dtype: float64"
      ]
     },
     "execution_count": 45,
     "metadata": {},
     "output_type": "execute_result"
    }
   ],
   "source": [
    "contract.TotalCharges.describe()"
   ]
  },
  {
   "cell_type": "code",
   "execution_count": 46,
   "metadata": {
    "ExecuteTime": {
     "end_time": "2021-12-21T18:26:29.312253Z",
     "start_time": "2021-12-21T18:26:29.188307Z"
    }
   },
   "outputs": [
    {
     "data": {
      "image/png": "[encoded data removed]",
      "text/plain": [
       "<Figure size 1152x288 with 1 Axes>"
      ]
     },
     "metadata": {
      "needs_background": "light"
     },
     "output_type": "display_data"
    }
   ],
   "source": [
    "bins = range(1000 * int(contract.TotalCharges.min() / 1000), 1000 * int(contract.TotalCharges.max() / 1000 + 2), 1000)\n",
    "ax = contract.TotalCharges.hist(bins=bins, figsize=(16, 4))\n",
    "ax.set_xticks(bins)\n",
    "ax.set_title('Распределение суммы платежей клиентов за все время');"
   ]
  },
  {
   "cell_type": "markdown",
   "metadata": {
    "ExecuteTime": {
     "end_time": "2021-12-17T13:08:56.494539Z",
     "start_time": "2021-12-17T13:08:56.483896Z"
    }
   },
   "source": [
    "Теперь таблица **contract** имеет следующий вид:"
   ]
  },
  {
   "cell_type": "code",
   "execution_count": 47,
   "metadata": {
    "ExecuteTime": {
     "end_time": "2021-12-21T18:26:29.331321Z",
     "start_time": "2021-12-21T18:26:29.313238Z"
    }
   },
   "outputs": [
    {
     "data": {
      "text/html": [
       "<div>\n",
       "<style scoped>\n",
       "    .dataframe tbody tr th:only-of-type {\n",
       "        vertical-align: middle;\n",
       "    }\n",
       "\n",
       "    .dataframe tbody tr th {\n",
       "        vertical-align: top;\n",
       "    }\n",
       "\n",
       "    .dataframe thead th {\n",
       "        text-align: right;\n",
       "    }\n",
       "</style>\n",
       "<table border=\"1\" class=\"dataframe\">\n",
       "  <thead>\n",
       "    <tr style=\"text-align: right;\">\n",
       "      <th></th>\n",
       "      <th>Type</th>\n",
       "      <th>PaperlessBilling</th>\n",
       "      <th>PaymentMethod</th>\n",
       "      <th>MonthlyCharges</th>\n",
       "      <th>TotalCharges</th>\n",
       "      <th>LTV</th>\n",
       "      <th>Termination</th>\n",
       "    </tr>\n",
       "    <tr>\n",
       "      <th>customerID</th>\n",
       "      <th></th>\n",
       "      <th></th>\n",
       "      <th></th>\n",
       "      <th></th>\n",
       "      <th></th>\n",
       "      <th></th>\n",
       "      <th></th>\n",
       "    </tr>\n",
       "  </thead>\n",
       "  <tbody>\n",
       "    <tr>\n",
       "      <th>7590-VHVEG</th>\n",
       "      <td>Month-to-month</td>\n",
       "      <td>Yes</td>\n",
       "      <td>Electronic check</td>\n",
       "      <td>29.850000</td>\n",
       "      <td>29.850000</td>\n",
       "      <td>31</td>\n",
       "      <td>0</td>\n",
       "    </tr>\n",
       "    <tr>\n",
       "      <th>5575-GNVDE</th>\n",
       "      <td>One year</td>\n",
       "      <td>No</td>\n",
       "      <td>Mailed check</td>\n",
       "      <td>56.950001</td>\n",
       "      <td>1889.500000</td>\n",
       "      <td>1036</td>\n",
       "      <td>0</td>\n",
       "    </tr>\n",
       "    <tr>\n",
       "      <th>3668-QPYBK</th>\n",
       "      <td>Month-to-month</td>\n",
       "      <td>Yes</td>\n",
       "      <td>Mailed check</td>\n",
       "      <td>53.849998</td>\n",
       "      <td>108.150002</td>\n",
       "      <td>61</td>\n",
       "      <td>1</td>\n",
       "    </tr>\n",
       "  </tbody>\n",
       "</table>\n",
       "</div>"
      ],
      "text/plain": [
       "                      Type PaperlessBilling     PaymentMethod  MonthlyCharges  \\\n",
       "customerID                                                                      \n",
       "7590-VHVEG  Month-to-month              Yes  Electronic check       29.850000   \n",
       "5575-GNVDE        One year               No      Mailed check       56.950001   \n",
       "3668-QPYBK  Month-to-month              Yes      Mailed check       53.849998   \n",
       "\n",
       "            TotalCharges   LTV  Termination  \n",
       "customerID                                   \n",
       "7590-VHVEG     29.850000    31            0  \n",
       "5575-GNVDE   1889.500000  1036            0  \n",
       "3668-QPYBK    108.150002    61            1  "
      ]
     },
     "execution_count": 47,
     "metadata": {},
     "output_type": "execute_result"
    }
   ],
   "source": [
    "contract.head(3)"
   ]
  },
  {
   "cell_type": "markdown",
   "metadata": {},
   "source": [
    "#### 3.3.2 Таблица personal <a id=\"3_3_2\"></a>"
   ]
  },
  {
   "cell_type": "code",
   "execution_count": 48,
   "metadata": {
    "ExecuteTime": {
     "end_time": "2021-12-21T18:26:29.347077Z",
     "start_time": "2021-12-21T18:26:29.332445Z"
    }
   },
   "outputs": [
    {
     "data": {
      "text/html": [
       "<div>\n",
       "<style scoped>\n",
       "    .dataframe tbody tr th:only-of-type {\n",
       "        vertical-align: middle;\n",
       "    }\n",
       "\n",
       "    .dataframe tbody tr th {\n",
       "        vertical-align: top;\n",
       "    }\n",
       "\n",
       "    .dataframe thead th {\n",
       "        text-align: right;\n",
       "    }\n",
       "</style>\n",
       "<table border=\"1\" class=\"dataframe\">\n",
       "  <thead>\n",
       "    <tr style=\"text-align: right;\">\n",
       "      <th></th>\n",
       "      <th>gender</th>\n",
       "      <th>SeniorCitizen</th>\n",
       "      <th>Partner</th>\n",
       "      <th>Dependents</th>\n",
       "    </tr>\n",
       "    <tr>\n",
       "      <th>customerID</th>\n",
       "      <th></th>\n",
       "      <th></th>\n",
       "      <th></th>\n",
       "      <th></th>\n",
       "    </tr>\n",
       "  </thead>\n",
       "  <tbody>\n",
       "    <tr>\n",
       "      <th>7590-VHVEG</th>\n",
       "      <td>Female</td>\n",
       "      <td>0</td>\n",
       "      <td>Yes</td>\n",
       "      <td>No</td>\n",
       "    </tr>\n",
       "    <tr>\n",
       "      <th>5575-GNVDE</th>\n",
       "      <td>Male</td>\n",
       "      <td>0</td>\n",
       "      <td>No</td>\n",
       "      <td>No</td>\n",
       "    </tr>\n",
       "    <tr>\n",
       "      <th>3668-QPYBK</th>\n",
       "      <td>Male</td>\n",
       "      <td>0</td>\n",
       "      <td>No</td>\n",
       "      <td>No</td>\n",
       "    </tr>\n",
       "  </tbody>\n",
       "</table>\n",
       "</div>"
      ],
      "text/plain": [
       "            gender  SeniorCitizen Partner Dependents\n",
       "customerID                                          \n",
       "7590-VHVEG  Female              0     Yes         No\n",
       "5575-GNVDE    Male              0      No         No\n",
       "3668-QPYBK    Male              0      No         No"
      ]
     },
     "execution_count": 48,
     "metadata": {},
     "output_type": "execute_result"
    }
   ],
   "source": [
    "personal.head(3)"
   ]
  },
  {
   "cell_type": "markdown",
   "metadata": {
    "ExecuteTime": {
     "end_time": "2021-12-15T14:43:13.073635Z",
     "start_time": "2021-12-15T14:43:13.058862Z"
    }
   },
   "source": [
    "Столбец *gender* с информацией о поле клиента.\n",
    "\n",
    "Выведем количество уникальных значений и их долю."
   ]
  },
  {
   "cell_type": "code",
   "execution_count": 49,
   "metadata": {
    "ExecuteTime": {
     "end_time": "2021-12-21T18:26:29.362769Z",
     "start_time": "2021-12-21T18:26:29.348069Z"
    }
   },
   "outputs": [
    {
     "data": {
      "text/html": [
       "<div>\n",
       "<style scoped>\n",
       "    .dataframe tbody tr th:only-of-type {\n",
       "        vertical-align: middle;\n",
       "    }\n",
       "\n",
       "    .dataframe tbody tr th {\n",
       "        vertical-align: top;\n",
       "    }\n",
       "\n",
       "    .dataframe thead th {\n",
       "        text-align: right;\n",
       "    }\n",
       "</style>\n",
       "<table border=\"1\" class=\"dataframe\">\n",
       "  <thead>\n",
       "    <tr style=\"text-align: right;\">\n",
       "      <th></th>\n",
       "      <th>Количество, шт</th>\n",
       "      <th>Доля, %</th>\n",
       "    </tr>\n",
       "  </thead>\n",
       "  <tbody>\n",
       "    <tr>\n",
       "      <th>Male</th>\n",
       "      <td>3555</td>\n",
       "      <td>50.48</td>\n",
       "    </tr>\n",
       "    <tr>\n",
       "      <th>Female</th>\n",
       "      <td>3488</td>\n",
       "      <td>49.52</td>\n",
       "    </tr>\n",
       "  </tbody>\n",
       "</table>\n",
       "</div>"
      ],
      "text/plain": [
       "        Количество, шт  Доля, %\n",
       "Male              3555    50.48\n",
       "Female            3488    49.52"
      ]
     },
     "execution_count": 49,
     "metadata": {},
     "output_type": "execute_result"
    }
   ],
   "source": [
    "value_counts_presentages(personal.gender)"
   ]
  },
  {
   "cell_type": "markdown",
   "metadata": {
    "ExecuteTime": {
     "end_time": "2021-12-15T14:43:37.626435Z",
     "start_time": "2021-12-15T14:43:37.608231Z"
    }
   },
   "source": [
    "Почти поровну.\n",
    "\n",
    "Столбец *SeniorCitizen* с информацией о том, является ли пользователь пенсионером по возрасту."
   ]
  },
  {
   "cell_type": "code",
   "execution_count": 50,
   "metadata": {
    "ExecuteTime": {
     "end_time": "2021-12-21T18:26:29.378472Z",
     "start_time": "2021-12-21T18:26:29.363763Z"
    }
   },
   "outputs": [
    {
     "data": {
      "text/html": [
       "<div>\n",
       "<style scoped>\n",
       "    .dataframe tbody tr th:only-of-type {\n",
       "        vertical-align: middle;\n",
       "    }\n",
       "\n",
       "    .dataframe tbody tr th {\n",
       "        vertical-align: top;\n",
       "    }\n",
       "\n",
       "    .dataframe thead th {\n",
       "        text-align: right;\n",
       "    }\n",
       "</style>\n",
       "<table border=\"1\" class=\"dataframe\">\n",
       "  <thead>\n",
       "    <tr style=\"text-align: right;\">\n",
       "      <th></th>\n",
       "      <th>Количество, шт</th>\n",
       "      <th>Доля, %</th>\n",
       "    </tr>\n",
       "  </thead>\n",
       "  <tbody>\n",
       "    <tr>\n",
       "      <th>0</th>\n",
       "      <td>5901</td>\n",
       "      <td>83.79</td>\n",
       "    </tr>\n",
       "    <tr>\n",
       "      <th>1</th>\n",
       "      <td>1142</td>\n",
       "      <td>16.21</td>\n",
       "    </tr>\n",
       "  </tbody>\n",
       "</table>\n",
       "</div>"
      ],
      "text/plain": [
       "   Количество, шт  Доля, %\n",
       "0            5901    83.79\n",
       "1            1142    16.21"
      ]
     },
     "execution_count": 50,
     "metadata": {},
     "output_type": "execute_result"
    }
   ],
   "source": [
    "value_counts_presentages(personal.SeniorCitizen)"
   ]
  },
  {
   "cell_type": "markdown",
   "metadata": {},
   "source": [
    "Доля пенсионеров 16.21 %.\n",
    "\n",
    "Столбец *Partner* с информацией о наличии у клиента супруга(и)."
   ]
  },
  {
   "cell_type": "code",
   "execution_count": 51,
   "metadata": {
    "ExecuteTime": {
     "end_time": "2021-12-21T18:26:29.395880Z",
     "start_time": "2021-12-21T18:26:29.379457Z"
    }
   },
   "outputs": [
    {
     "data": {
      "text/html": [
       "<div>\n",
       "<style scoped>\n",
       "    .dataframe tbody tr th:only-of-type {\n",
       "        vertical-align: middle;\n",
       "    }\n",
       "\n",
       "    .dataframe tbody tr th {\n",
       "        vertical-align: top;\n",
       "    }\n",
       "\n",
       "    .dataframe thead th {\n",
       "        text-align: right;\n",
       "    }\n",
       "</style>\n",
       "<table border=\"1\" class=\"dataframe\">\n",
       "  <thead>\n",
       "    <tr style=\"text-align: right;\">\n",
       "      <th></th>\n",
       "      <th>Количество, шт</th>\n",
       "      <th>Доля, %</th>\n",
       "    </tr>\n",
       "  </thead>\n",
       "  <tbody>\n",
       "    <tr>\n",
       "      <th>No</th>\n",
       "      <td>3641</td>\n",
       "      <td>51.7</td>\n",
       "    </tr>\n",
       "    <tr>\n",
       "      <th>Yes</th>\n",
       "      <td>3402</td>\n",
       "      <td>48.3</td>\n",
       "    </tr>\n",
       "  </tbody>\n",
       "</table>\n",
       "</div>"
      ],
      "text/plain": [
       "     Количество, шт  Доля, %\n",
       "No             3641     51.7\n",
       "Yes            3402     48.3"
      ]
     },
     "execution_count": 51,
     "metadata": {},
     "output_type": "execute_result"
    }
   ],
   "source": [
    "value_counts_presentages(personal.Partner)"
   ]
  },
  {
   "cell_type": "markdown",
   "metadata": {
    "ExecuteTime": {
     "end_time": "2021-12-15T14:48:33.711273Z",
     "start_time": "2021-12-15T14:48:33.693714Z"
    }
   },
   "source": [
    "Значения распределены почти поровну.\n",
    "\n",
    "Столбец *Dependents* с информацией о наличии у клиента иждивенцев."
   ]
  },
  {
   "cell_type": "code",
   "execution_count": 52,
   "metadata": {
    "ExecuteTime": {
     "end_time": "2021-12-21T18:26:29.411848Z",
     "start_time": "2021-12-21T18:26:29.397338Z"
    }
   },
   "outputs": [
    {
     "data": {
      "text/html": [
       "<div>\n",
       "<style scoped>\n",
       "    .dataframe tbody tr th:only-of-type {\n",
       "        vertical-align: middle;\n",
       "    }\n",
       "\n",
       "    .dataframe tbody tr th {\n",
       "        vertical-align: top;\n",
       "    }\n",
       "\n",
       "    .dataframe thead th {\n",
       "        text-align: right;\n",
       "    }\n",
       "</style>\n",
       "<table border=\"1\" class=\"dataframe\">\n",
       "  <thead>\n",
       "    <tr style=\"text-align: right;\">\n",
       "      <th></th>\n",
       "      <th>Количество, шт</th>\n",
       "      <th>Доля, %</th>\n",
       "    </tr>\n",
       "  </thead>\n",
       "  <tbody>\n",
       "    <tr>\n",
       "      <th>No</th>\n",
       "      <td>4933</td>\n",
       "      <td>70.04</td>\n",
       "    </tr>\n",
       "    <tr>\n",
       "      <th>Yes</th>\n",
       "      <td>2110</td>\n",
       "      <td>29.96</td>\n",
       "    </tr>\n",
       "  </tbody>\n",
       "</table>\n",
       "</div>"
      ],
      "text/plain": [
       "     Количество, шт  Доля, %\n",
       "No             4933    70.04\n",
       "Yes            2110    29.96"
      ]
     },
     "execution_count": 52,
     "metadata": {},
     "output_type": "execute_result"
    }
   ],
   "source": [
    "value_counts_presentages(personal.Dependents)"
   ]
  },
  {
   "cell_type": "markdown",
   "metadata": {
    "ExecuteTime": {
     "end_time": "2021-12-15T14:49:27.584174Z",
     "start_time": "2021-12-15T14:49:27.565266Z"
    }
   },
   "source": [
    "Почти 30% имеют иждивенцев.\n",
    "\n",
    "Таблица **personal** после предобработки почти не изменилась. Далее часть ее столбцов с категориальными признаками будет преобразована на этапе кодирования признаков."
   ]
  },
  {
   "cell_type": "code",
   "execution_count": 53,
   "metadata": {
    "ExecuteTime": {
     "end_time": "2021-12-21T18:26:29.427236Z",
     "start_time": "2021-12-21T18:26:29.412838Z"
    }
   },
   "outputs": [
    {
     "data": {
      "text/html": [
       "<div>\n",
       "<style scoped>\n",
       "    .dataframe tbody tr th:only-of-type {\n",
       "        vertical-align: middle;\n",
       "    }\n",
       "\n",
       "    .dataframe tbody tr th {\n",
       "        vertical-align: top;\n",
       "    }\n",
       "\n",
       "    .dataframe thead th {\n",
       "        text-align: right;\n",
       "    }\n",
       "</style>\n",
       "<table border=\"1\" class=\"dataframe\">\n",
       "  <thead>\n",
       "    <tr style=\"text-align: right;\">\n",
       "      <th></th>\n",
       "      <th>gender</th>\n",
       "      <th>SeniorCitizen</th>\n",
       "      <th>Partner</th>\n",
       "      <th>Dependents</th>\n",
       "    </tr>\n",
       "    <tr>\n",
       "      <th>customerID</th>\n",
       "      <th></th>\n",
       "      <th></th>\n",
       "      <th></th>\n",
       "      <th></th>\n",
       "    </tr>\n",
       "  </thead>\n",
       "  <tbody>\n",
       "    <tr>\n",
       "      <th>7590-VHVEG</th>\n",
       "      <td>Female</td>\n",
       "      <td>0</td>\n",
       "      <td>Yes</td>\n",
       "      <td>No</td>\n",
       "    </tr>\n",
       "    <tr>\n",
       "      <th>5575-GNVDE</th>\n",
       "      <td>Male</td>\n",
       "      <td>0</td>\n",
       "      <td>No</td>\n",
       "      <td>No</td>\n",
       "    </tr>\n",
       "    <tr>\n",
       "      <th>3668-QPYBK</th>\n",
       "      <td>Male</td>\n",
       "      <td>0</td>\n",
       "      <td>No</td>\n",
       "      <td>No</td>\n",
       "    </tr>\n",
       "  </tbody>\n",
       "</table>\n",
       "</div>"
      ],
      "text/plain": [
       "            gender  SeniorCitizen Partner Dependents\n",
       "customerID                                          \n",
       "7590-VHVEG  Female              0     Yes         No\n",
       "5575-GNVDE    Male              0      No         No\n",
       "3668-QPYBK    Male              0      No         No"
      ]
     },
     "execution_count": 53,
     "metadata": {},
     "output_type": "execute_result"
    }
   ],
   "source": [
    "personal.head(3)"
   ]
  },
  {
   "cell_type": "markdown",
   "metadata": {},
   "source": [
    "#### 3.3.3 Таблица internet <a id=\"3_3_3\"></a>"
   ]
  },
  {
   "cell_type": "code",
   "execution_count": 54,
   "metadata": {
    "ExecuteTime": {
     "end_time": "2021-12-21T18:26:29.442999Z",
     "start_time": "2021-12-21T18:26:29.428945Z"
    }
   },
   "outputs": [
    {
     "data": {
      "text/html": [
       "<div>\n",
       "<style scoped>\n",
       "    .dataframe tbody tr th:only-of-type {\n",
       "        vertical-align: middle;\n",
       "    }\n",
       "\n",
       "    .dataframe tbody tr th {\n",
       "        vertical-align: top;\n",
       "    }\n",
       "\n",
       "    .dataframe thead th {\n",
       "        text-align: right;\n",
       "    }\n",
       "</style>\n",
       "<table border=\"1\" class=\"dataframe\">\n",
       "  <thead>\n",
       "    <tr style=\"text-align: right;\">\n",
       "      <th></th>\n",
       "      <th>InternetService</th>\n",
       "      <th>OnlineSecurity</th>\n",
       "      <th>OnlineBackup</th>\n",
       "      <th>DeviceProtection</th>\n",
       "      <th>TechSupport</th>\n",
       "      <th>StreamingTV</th>\n",
       "      <th>StreamingMovies</th>\n",
       "    </tr>\n",
       "    <tr>\n",
       "      <th>customerID</th>\n",
       "      <th></th>\n",
       "      <th></th>\n",
       "      <th></th>\n",
       "      <th></th>\n",
       "      <th></th>\n",
       "      <th></th>\n",
       "      <th></th>\n",
       "    </tr>\n",
       "  </thead>\n",
       "  <tbody>\n",
       "    <tr>\n",
       "      <th>7590-VHVEG</th>\n",
       "      <td>DSL</td>\n",
       "      <td>No</td>\n",
       "      <td>Yes</td>\n",
       "      <td>No</td>\n",
       "      <td>No</td>\n",
       "      <td>No</td>\n",
       "      <td>No</td>\n",
       "    </tr>\n",
       "    <tr>\n",
       "      <th>5575-GNVDE</th>\n",
       "      <td>DSL</td>\n",
       "      <td>Yes</td>\n",
       "      <td>No</td>\n",
       "      <td>Yes</td>\n",
       "      <td>No</td>\n",
       "      <td>No</td>\n",
       "      <td>No</td>\n",
       "    </tr>\n",
       "    <tr>\n",
       "      <th>3668-QPYBK</th>\n",
       "      <td>DSL</td>\n",
       "      <td>Yes</td>\n",
       "      <td>Yes</td>\n",
       "      <td>No</td>\n",
       "      <td>No</td>\n",
       "      <td>No</td>\n",
       "      <td>No</td>\n",
       "    </tr>\n",
       "  </tbody>\n",
       "</table>\n",
       "</div>"
      ],
      "text/plain": [
       "           InternetService OnlineSecurity OnlineBackup DeviceProtection  \\\n",
       "customerID                                                                \n",
       "7590-VHVEG             DSL             No          Yes               No   \n",
       "5575-GNVDE             DSL            Yes           No              Yes   \n",
       "3668-QPYBK             DSL            Yes          Yes               No   \n",
       "\n",
       "           TechSupport StreamingTV StreamingMovies  \n",
       "customerID                                          \n",
       "7590-VHVEG          No          No              No  \n",
       "5575-GNVDE          No          No              No  \n",
       "3668-QPYBK          No          No              No  "
      ]
     },
     "execution_count": 54,
     "metadata": {},
     "output_type": "execute_result"
    }
   ],
   "source": [
    "internet.head(3)"
   ]
  },
  {
   "cell_type": "markdown",
   "metadata": {
    "ExecuteTime": {
     "end_time": "2021-12-17T14:30:58.854084Z",
     "start_time": "2021-12-17T14:30:58.845321Z"
    }
   },
   "source": [
    "Столбцы *InternetService*, *OnlineSecurity*, *OnlineBackup*, *DeviceProtection*, *TechSupport*, *StreamingTV* и *StreamingMovies*.\n",
    "\n",
    "Выведем в соответствующем порядке их уникальные значения, количество и долю каждого уникального значения."
   ]
  },
  {
   "cell_type": "code",
   "execution_count": 55,
   "metadata": {
    "ExecuteTime": {
     "end_time": "2021-12-21T18:26:29.458834Z",
     "start_time": "2021-12-21T18:26:29.443994Z"
    }
   },
   "outputs": [
    {
     "data": {
      "text/html": [
       "<div>\n",
       "<style scoped>\n",
       "    .dataframe tbody tr th:only-of-type {\n",
       "        vertical-align: middle;\n",
       "    }\n",
       "\n",
       "    .dataframe tbody tr th {\n",
       "        vertical-align: top;\n",
       "    }\n",
       "\n",
       "    .dataframe thead th {\n",
       "        text-align: right;\n",
       "    }\n",
       "</style>\n",
       "<table border=\"1\" class=\"dataframe\">\n",
       "  <thead>\n",
       "    <tr style=\"text-align: right;\">\n",
       "      <th></th>\n",
       "      <th>Количество, шт</th>\n",
       "      <th>Доля, %</th>\n",
       "    </tr>\n",
       "  </thead>\n",
       "  <tbody>\n",
       "    <tr>\n",
       "      <th>Fiber optic</th>\n",
       "      <td>3096</td>\n",
       "      <td>56.12</td>\n",
       "    </tr>\n",
       "    <tr>\n",
       "      <th>DSL</th>\n",
       "      <td>2421</td>\n",
       "      <td>43.88</td>\n",
       "    </tr>\n",
       "  </tbody>\n",
       "</table>\n",
       "</div>"
      ],
      "text/plain": [
       "             Количество, шт  Доля, %\n",
       "Fiber optic            3096    56.12\n",
       "DSL                    2421    43.88"
      ]
     },
     "execution_count": 55,
     "metadata": {},
     "output_type": "execute_result"
    }
   ],
   "source": [
    "value_counts_presentages(internet.InternetService)"
   ]
  },
  {
   "cell_type": "code",
   "execution_count": 56,
   "metadata": {
    "ExecuteTime": {
     "end_time": "2021-12-21T18:26:29.489946Z",
     "start_time": "2021-12-21T18:26:29.460249Z"
    }
   },
   "outputs": [
    {
     "data": {
      "text/html": [
       "<div>\n",
       "<style scoped>\n",
       "    .dataframe tbody tr th:only-of-type {\n",
       "        vertical-align: middle;\n",
       "    }\n",
       "\n",
       "    .dataframe tbody tr th {\n",
       "        vertical-align: top;\n",
       "    }\n",
       "\n",
       "    .dataframe thead th {\n",
       "        text-align: right;\n",
       "    }\n",
       "</style>\n",
       "<table border=\"1\" class=\"dataframe\">\n",
       "  <thead>\n",
       "    <tr style=\"text-align: right;\">\n",
       "      <th></th>\n",
       "      <th>Количество, шт</th>\n",
       "      <th>Доля, %</th>\n",
       "    </tr>\n",
       "  </thead>\n",
       "  <tbody>\n",
       "    <tr>\n",
       "      <th>No</th>\n",
       "      <td>3498</td>\n",
       "      <td>63.4</td>\n",
       "    </tr>\n",
       "    <tr>\n",
       "      <th>Yes</th>\n",
       "      <td>2019</td>\n",
       "      <td>36.6</td>\n",
       "    </tr>\n",
       "  </tbody>\n",
       "</table>\n",
       "</div>"
      ],
      "text/plain": [
       "     Количество, шт  Доля, %\n",
       "No             3498     63.4\n",
       "Yes            2019     36.6"
      ]
     },
     "execution_count": 56,
     "metadata": {},
     "output_type": "execute_result"
    }
   ],
   "source": [
    "value_counts_presentages(internet.OnlineSecurity)"
   ]
  },
  {
   "cell_type": "code",
   "execution_count": 57,
   "metadata": {
    "ExecuteTime": {
     "end_time": "2021-12-21T18:26:29.521216Z",
     "start_time": "2021-12-21T18:26:29.491673Z"
    }
   },
   "outputs": [
    {
     "data": {
      "text/html": [
       "<div>\n",
       "<style scoped>\n",
       "    .dataframe tbody tr th:only-of-type {\n",
       "        vertical-align: middle;\n",
       "    }\n",
       "\n",
       "    .dataframe tbody tr th {\n",
       "        vertical-align: top;\n",
       "    }\n",
       "\n",
       "    .dataframe thead th {\n",
       "        text-align: right;\n",
       "    }\n",
       "</style>\n",
       "<table border=\"1\" class=\"dataframe\">\n",
       "  <thead>\n",
       "    <tr style=\"text-align: right;\">\n",
       "      <th></th>\n",
       "      <th>Количество, шт</th>\n",
       "      <th>Доля, %</th>\n",
       "    </tr>\n",
       "  </thead>\n",
       "  <tbody>\n",
       "    <tr>\n",
       "      <th>No</th>\n",
       "      <td>3088</td>\n",
       "      <td>55.97</td>\n",
       "    </tr>\n",
       "    <tr>\n",
       "      <th>Yes</th>\n",
       "      <td>2429</td>\n",
       "      <td>44.03</td>\n",
       "    </tr>\n",
       "  </tbody>\n",
       "</table>\n",
       "</div>"
      ],
      "text/plain": [
       "     Количество, шт  Доля, %\n",
       "No             3088    55.97\n",
       "Yes            2429    44.03"
      ]
     },
     "execution_count": 57,
     "metadata": {},
     "output_type": "execute_result"
    }
   ],
   "source": [
    "value_counts_presentages(internet.OnlineBackup)"
   ]
  },
  {
   "cell_type": "code",
   "execution_count": 58,
   "metadata": {
    "ExecuteTime": {
     "end_time": "2021-12-21T18:26:29.552424Z",
     "start_time": "2021-12-21T18:26:29.522222Z"
    }
   },
   "outputs": [
    {
     "data": {
      "text/html": [
       "<div>\n",
       "<style scoped>\n",
       "    .dataframe tbody tr th:only-of-type {\n",
       "        vertical-align: middle;\n",
       "    }\n",
       "\n",
       "    .dataframe tbody tr th {\n",
       "        vertical-align: top;\n",
       "    }\n",
       "\n",
       "    .dataframe thead th {\n",
       "        text-align: right;\n",
       "    }\n",
       "</style>\n",
       "<table border=\"1\" class=\"dataframe\">\n",
       "  <thead>\n",
       "    <tr style=\"text-align: right;\">\n",
       "      <th></th>\n",
       "      <th>Количество, шт</th>\n",
       "      <th>Доля, %</th>\n",
       "    </tr>\n",
       "  </thead>\n",
       "  <tbody>\n",
       "    <tr>\n",
       "      <th>No</th>\n",
       "      <td>3095</td>\n",
       "      <td>56.1</td>\n",
       "    </tr>\n",
       "    <tr>\n",
       "      <th>Yes</th>\n",
       "      <td>2422</td>\n",
       "      <td>43.9</td>\n",
       "    </tr>\n",
       "  </tbody>\n",
       "</table>\n",
       "</div>"
      ],
      "text/plain": [
       "     Количество, шт  Доля, %\n",
       "No             3095     56.1\n",
       "Yes            2422     43.9"
      ]
     },
     "execution_count": 58,
     "metadata": {},
     "output_type": "execute_result"
    }
   ],
   "source": [
    "value_counts_presentages(internet.DeviceProtection)"
   ]
  },
  {
   "cell_type": "code",
   "execution_count": 59,
   "metadata": {
    "ExecuteTime": {
     "end_time": "2021-12-21T18:26:29.567792Z",
     "start_time": "2021-12-21T18:26:29.553427Z"
    }
   },
   "outputs": [
    {
     "data": {
      "text/html": [
       "<div>\n",
       "<style scoped>\n",
       "    .dataframe tbody tr th:only-of-type {\n",
       "        vertical-align: middle;\n",
       "    }\n",
       "\n",
       "    .dataframe tbody tr th {\n",
       "        vertical-align: top;\n",
       "    }\n",
       "\n",
       "    .dataframe thead th {\n",
       "        text-align: right;\n",
       "    }\n",
       "</style>\n",
       "<table border=\"1\" class=\"dataframe\">\n",
       "  <thead>\n",
       "    <tr style=\"text-align: right;\">\n",
       "      <th></th>\n",
       "      <th>Количество, шт</th>\n",
       "      <th>Доля, %</th>\n",
       "    </tr>\n",
       "  </thead>\n",
       "  <tbody>\n",
       "    <tr>\n",
       "      <th>No</th>\n",
       "      <td>3473</td>\n",
       "      <td>62.95</td>\n",
       "    </tr>\n",
       "    <tr>\n",
       "      <th>Yes</th>\n",
       "      <td>2044</td>\n",
       "      <td>37.05</td>\n",
       "    </tr>\n",
       "  </tbody>\n",
       "</table>\n",
       "</div>"
      ],
      "text/plain": [
       "     Количество, шт  Доля, %\n",
       "No             3473    62.95\n",
       "Yes            2044    37.05"
      ]
     },
     "execution_count": 59,
     "metadata": {},
     "output_type": "execute_result"
    }
   ],
   "source": [
    "value_counts_presentages(internet.TechSupport)"
   ]
  },
  {
   "cell_type": "code",
   "execution_count": 60,
   "metadata": {
    "ExecuteTime": {
     "end_time": "2021-12-21T18:26:29.583665Z",
     "start_time": "2021-12-21T18:26:29.568753Z"
    }
   },
   "outputs": [
    {
     "data": {
      "text/html": [
       "<div>\n",
       "<style scoped>\n",
       "    .dataframe tbody tr th:only-of-type {\n",
       "        vertical-align: middle;\n",
       "    }\n",
       "\n",
       "    .dataframe tbody tr th {\n",
       "        vertical-align: top;\n",
       "    }\n",
       "\n",
       "    .dataframe thead th {\n",
       "        text-align: right;\n",
       "    }\n",
       "</style>\n",
       "<table border=\"1\" class=\"dataframe\">\n",
       "  <thead>\n",
       "    <tr style=\"text-align: right;\">\n",
       "      <th></th>\n",
       "      <th>Количество, шт</th>\n",
       "      <th>Доля, %</th>\n",
       "    </tr>\n",
       "  </thead>\n",
       "  <tbody>\n",
       "    <tr>\n",
       "      <th>No</th>\n",
       "      <td>2810</td>\n",
       "      <td>50.93</td>\n",
       "    </tr>\n",
       "    <tr>\n",
       "      <th>Yes</th>\n",
       "      <td>2707</td>\n",
       "      <td>49.07</td>\n",
       "    </tr>\n",
       "  </tbody>\n",
       "</table>\n",
       "</div>"
      ],
      "text/plain": [
       "     Количество, шт  Доля, %\n",
       "No             2810    50.93\n",
       "Yes            2707    49.07"
      ]
     },
     "execution_count": 60,
     "metadata": {},
     "output_type": "execute_result"
    }
   ],
   "source": [
    "value_counts_presentages(internet.StreamingTV)"
   ]
  },
  {
   "cell_type": "code",
   "execution_count": 61,
   "metadata": {
    "ExecuteTime": {
     "end_time": "2021-12-21T18:26:29.614904Z",
     "start_time": "2021-12-21T18:26:29.584646Z"
    }
   },
   "outputs": [
    {
     "data": {
      "text/html": [
       "<div>\n",
       "<style scoped>\n",
       "    .dataframe tbody tr th:only-of-type {\n",
       "        vertical-align: middle;\n",
       "    }\n",
       "\n",
       "    .dataframe tbody tr th {\n",
       "        vertical-align: top;\n",
       "    }\n",
       "\n",
       "    .dataframe thead th {\n",
       "        text-align: right;\n",
       "    }\n",
       "</style>\n",
       "<table border=\"1\" class=\"dataframe\">\n",
       "  <thead>\n",
       "    <tr style=\"text-align: right;\">\n",
       "      <th></th>\n",
       "      <th>Количество, шт</th>\n",
       "      <th>Доля, %</th>\n",
       "    </tr>\n",
       "  </thead>\n",
       "  <tbody>\n",
       "    <tr>\n",
       "      <th>No</th>\n",
       "      <td>2785</td>\n",
       "      <td>50.48</td>\n",
       "    </tr>\n",
       "    <tr>\n",
       "      <th>Yes</th>\n",
       "      <td>2732</td>\n",
       "      <td>49.52</td>\n",
       "    </tr>\n",
       "  </tbody>\n",
       "</table>\n",
       "</div>"
      ],
      "text/plain": [
       "     Количество, шт  Доля, %\n",
       "No             2785    50.48\n",
       "Yes            2732    49.52"
      ]
     },
     "execution_count": 61,
     "metadata": {},
     "output_type": "execute_result"
    }
   ],
   "source": [
    "value_counts_presentages(internet.StreamingMovies)"
   ]
  },
  {
   "cell_type": "markdown",
   "metadata": {},
   "source": [
    "Данные категориальные столбцы не нуждаются в предобработке и будут преобразованы на этапе кодирования признаков."
   ]
  },
  {
   "cell_type": "markdown",
   "metadata": {},
   "source": [
    "#### 3.3.4 Таблица phone <a id=\"3_3_4\"></a>"
   ]
  },
  {
   "cell_type": "code",
   "execution_count": 62,
   "metadata": {
    "ExecuteTime": {
     "end_time": "2021-12-21T18:26:29.630568Z",
     "start_time": "2021-12-21T18:26:29.614904Z"
    }
   },
   "outputs": [
    {
     "data": {
      "text/html": [
       "<div>\n",
       "<style scoped>\n",
       "    .dataframe tbody tr th:only-of-type {\n",
       "        vertical-align: middle;\n",
       "    }\n",
       "\n",
       "    .dataframe tbody tr th {\n",
       "        vertical-align: top;\n",
       "    }\n",
       "\n",
       "    .dataframe thead th {\n",
       "        text-align: right;\n",
       "    }\n",
       "</style>\n",
       "<table border=\"1\" class=\"dataframe\">\n",
       "  <thead>\n",
       "    <tr style=\"text-align: right;\">\n",
       "      <th></th>\n",
       "      <th>MultipleLines</th>\n",
       "    </tr>\n",
       "    <tr>\n",
       "      <th>customerID</th>\n",
       "      <th></th>\n",
       "    </tr>\n",
       "  </thead>\n",
       "  <tbody>\n",
       "    <tr>\n",
       "      <th>5575-GNVDE</th>\n",
       "      <td>No</td>\n",
       "    </tr>\n",
       "    <tr>\n",
       "      <th>3668-QPYBK</th>\n",
       "      <td>No</td>\n",
       "    </tr>\n",
       "    <tr>\n",
       "      <th>9237-HQITU</th>\n",
       "      <td>No</td>\n",
       "    </tr>\n",
       "  </tbody>\n",
       "</table>\n",
       "</div>"
      ],
      "text/plain": [
       "           MultipleLines\n",
       "customerID              \n",
       "5575-GNVDE            No\n",
       "3668-QPYBK            No\n",
       "9237-HQITU            No"
      ]
     },
     "execution_count": 62,
     "metadata": {},
     "output_type": "execute_result"
    }
   ],
   "source": [
    "phone.head(3)"
   ]
  },
  {
   "cell_type": "markdown",
   "metadata": {},
   "source": [
    "Столбец *MultipleLines* с информацией о том, предоставляет ли телефонный тариф пользователя возможность ведения параллельных линий во время звонка."
   ]
  },
  {
   "cell_type": "code",
   "execution_count": 63,
   "metadata": {
    "ExecuteTime": {
     "end_time": "2021-12-21T18:26:29.646282Z",
     "start_time": "2021-12-21T18:26:29.631555Z"
    },
    "scrolled": true
   },
   "outputs": [
    {
     "data": {
      "text/html": [
       "<div>\n",
       "<style scoped>\n",
       "    .dataframe tbody tr th:only-of-type {\n",
       "        vertical-align: middle;\n",
       "    }\n",
       "\n",
       "    .dataframe tbody tr th {\n",
       "        vertical-align: top;\n",
       "    }\n",
       "\n",
       "    .dataframe thead th {\n",
       "        text-align: right;\n",
       "    }\n",
       "</style>\n",
       "<table border=\"1\" class=\"dataframe\">\n",
       "  <thead>\n",
       "    <tr style=\"text-align: right;\">\n",
       "      <th></th>\n",
       "      <th>Количество, шт</th>\n",
       "      <th>Доля, %</th>\n",
       "    </tr>\n",
       "  </thead>\n",
       "  <tbody>\n",
       "    <tr>\n",
       "      <th>No</th>\n",
       "      <td>3390</td>\n",
       "      <td>53.29</td>\n",
       "    </tr>\n",
       "    <tr>\n",
       "      <th>Yes</th>\n",
       "      <td>2971</td>\n",
       "      <td>46.71</td>\n",
       "    </tr>\n",
       "  </tbody>\n",
       "</table>\n",
       "</div>"
      ],
      "text/plain": [
       "     Количество, шт  Доля, %\n",
       "No             3390    53.29\n",
       "Yes            2971    46.71"
      ]
     },
     "execution_count": 63,
     "metadata": {},
     "output_type": "execute_result"
    }
   ],
   "source": [
    "value_counts_presentages(phone.MultipleLines)"
   ]
  },
  {
   "cell_type": "markdown",
   "metadata": {},
   "source": [
    "С небольшим перевесом побеждает тариф без такой возможности. Категориальный столбец *MultipleLines* не требует предобработки и также будет преобразован на этапе кодирования признаков."
   ]
  },
  {
   "cell_type": "markdown",
   "metadata": {},
   "source": [
    "### 3.4 Объединение таблиц <a id=\"3_4\"></a>"
   ]
  },
  {
   "cell_type": "markdown",
   "metadata": {
    "ExecuteTime": {
     "end_time": "2021-12-17T16:51:06.148601Z",
     "start_time": "2021-12-17T16:51:06.134794Z"
    }
   },
   "source": [
    "Объединим все таблицы в одну. Сперва объединим столбцы таблиц **contract**, **personal**. Так как индексы данных таблиц совпадают, ни в одной ячейке результирующей таблицы **data** не появится значения NaN (в исходных таблицах они отсутствуют)."
   ]
  },
  {
   "cell_type": "code",
   "execution_count": 64,
   "metadata": {
    "ExecuteTime": {
     "end_time": "2021-12-21T18:26:29.661776Z",
     "start_time": "2021-12-21T18:26:29.646282Z"
    }
   },
   "outputs": [],
   "source": [
    "data = contract.join(personal)"
   ]
  },
  {
   "cell_type": "markdown",
   "metadata": {},
   "source": [
    "Добавим к **data** столбцы таблицы **phone**. Так как длина таблицы **phone** меньше длины таблицы **data**, их объединение по уникальному индексу приведет к появлению в некоторых ячейках единственного столбца *MultipleLines* от таблицы **phone** значений NaN. NaN будет у тех пользователй, которые не пользуются услугами телефонии.\n",
    "\n",
    "Заполнение этих ячеек одним из значений *MultipleLines* не подходит, т.к. это изменит соотношение клиентов, пользующихся и не пользущихся параллельными линиями, но при этом не добавит в результрующую таблицу **data** информации о клиентах, вообще не пользующихся услугами телефонии.\n",
    "\n",
    "Заполним образовавшиеся NaN значениями \"Nothing\"."
   ]
  },
  {
   "cell_type": "code",
   "execution_count": 65,
   "metadata": {
    "ExecuteTime": {
     "end_time": "2021-12-21T18:26:29.692726Z",
     "start_time": "2021-12-21T18:26:29.662776Z"
    }
   },
   "outputs": [],
   "source": [
    "data = data.join(phone)\n",
    "data.fillna('Nothing', inplace=True)"
   ]
  },
  {
   "cell_type": "markdown",
   "metadata": {},
   "source": [
    "Добавим к **data** столбцы таблицы **internet**. Аналогичным образом в столбец *InternetService* объединенной таблицы внесем информацию о том, что клиент не пользуется интернет-услугами. В остальных столбцах, доставшихся от таблицы **internet**, заменим NaN на \"No\", т.к. формально с интернетом отсутстсвуют и соответствующие дополнительные сервисы."
   ]
  },
  {
   "cell_type": "code",
   "execution_count": 66,
   "metadata": {
    "ExecuteTime": {
     "end_time": "2021-12-21T18:26:29.708478Z",
     "start_time": "2021-12-21T18:26:29.693717Z"
    }
   },
   "outputs": [],
   "source": [
    "data = data.join(internet)\n",
    "data.InternetService.fillna('Nothing', inplace=True)"
   ]
  },
  {
   "cell_type": "code",
   "execution_count": 67,
   "metadata": {
    "ExecuteTime": {
     "end_time": "2021-12-21T18:26:29.724104Z",
     "start_time": "2021-12-21T18:26:29.709462Z"
    }
   },
   "outputs": [],
   "source": [
    "data.loc[:, ['OnlineSecurity', 'OnlineBackup', 'DeviceProtection', 'TechSupport', 'StreamingTV', 'StreamingMovies']]\\\n",
    "    .fillna('No', inplace=True)"
   ]
  },
  {
   "cell_type": "markdown",
   "metadata": {
    "ExecuteTime": {
     "end_time": "2021-12-17T21:44:05.403062Z",
     "start_time": "2021-12-17T21:44:05.385102Z"
    }
   },
   "source": [
    "Результат объединения таблиц."
   ]
  },
  {
   "cell_type": "code",
   "execution_count": 68,
   "metadata": {
    "ExecuteTime": {
     "end_time": "2021-12-21T18:26:29.755637Z",
     "start_time": "2021-12-21T18:26:29.729032Z"
    }
   },
   "outputs": [
    {
     "data": {
      "text/html": [
       "<div>\n",
       "<style scoped>\n",
       "    .dataframe tbody tr th:only-of-type {\n",
       "        vertical-align: middle;\n",
       "    }\n",
       "\n",
       "    .dataframe tbody tr th {\n",
       "        vertical-align: top;\n",
       "    }\n",
       "\n",
       "    .dataframe thead th {\n",
       "        text-align: right;\n",
       "    }\n",
       "</style>\n",
       "<table border=\"1\" class=\"dataframe\">\n",
       "  <thead>\n",
       "    <tr style=\"text-align: right;\">\n",
       "      <th></th>\n",
       "      <th>Type</th>\n",
       "      <th>PaperlessBilling</th>\n",
       "      <th>PaymentMethod</th>\n",
       "      <th>MonthlyCharges</th>\n",
       "      <th>TotalCharges</th>\n",
       "      <th>LTV</th>\n",
       "      <th>Termination</th>\n",
       "      <th>gender</th>\n",
       "      <th>SeniorCitizen</th>\n",
       "      <th>Partner</th>\n",
       "      <th>Dependents</th>\n",
       "      <th>MultipleLines</th>\n",
       "      <th>InternetService</th>\n",
       "      <th>OnlineSecurity</th>\n",
       "      <th>OnlineBackup</th>\n",
       "      <th>DeviceProtection</th>\n",
       "      <th>TechSupport</th>\n",
       "      <th>StreamingTV</th>\n",
       "      <th>StreamingMovies</th>\n",
       "    </tr>\n",
       "    <tr>\n",
       "      <th>customerID</th>\n",
       "      <th></th>\n",
       "      <th></th>\n",
       "      <th></th>\n",
       "      <th></th>\n",
       "      <th></th>\n",
       "      <th></th>\n",
       "      <th></th>\n",
       "      <th></th>\n",
       "      <th></th>\n",
       "      <th></th>\n",
       "      <th></th>\n",
       "      <th></th>\n",
       "      <th></th>\n",
       "      <th></th>\n",
       "      <th></th>\n",
       "      <th></th>\n",
       "      <th></th>\n",
       "      <th></th>\n",
       "      <th></th>\n",
       "    </tr>\n",
       "  </thead>\n",
       "  <tbody>\n",
       "    <tr>\n",
       "      <th>7590-VHVEG</th>\n",
       "      <td>Month-to-month</td>\n",
       "      <td>Yes</td>\n",
       "      <td>Electronic check</td>\n",
       "      <td>29.850000</td>\n",
       "      <td>29.850000</td>\n",
       "      <td>31</td>\n",
       "      <td>0</td>\n",
       "      <td>Female</td>\n",
       "      <td>0</td>\n",
       "      <td>Yes</td>\n",
       "      <td>No</td>\n",
       "      <td>Nothing</td>\n",
       "      <td>DSL</td>\n",
       "      <td>No</td>\n",
       "      <td>Yes</td>\n",
       "      <td>No</td>\n",
       "      <td>No</td>\n",
       "      <td>No</td>\n",
       "      <td>No</td>\n",
       "    </tr>\n",
       "    <tr>\n",
       "      <th>5575-GNVDE</th>\n",
       "      <td>One year</td>\n",
       "      <td>No</td>\n",
       "      <td>Mailed check</td>\n",
       "      <td>56.950001</td>\n",
       "      <td>1889.500000</td>\n",
       "      <td>1036</td>\n",
       "      <td>0</td>\n",
       "      <td>Male</td>\n",
       "      <td>0</td>\n",
       "      <td>No</td>\n",
       "      <td>No</td>\n",
       "      <td>No</td>\n",
       "      <td>DSL</td>\n",
       "      <td>Yes</td>\n",
       "      <td>No</td>\n",
       "      <td>Yes</td>\n",
       "      <td>No</td>\n",
       "      <td>No</td>\n",
       "      <td>No</td>\n",
       "    </tr>\n",
       "    <tr>\n",
       "      <th>3668-QPYBK</th>\n",
       "      <td>Month-to-month</td>\n",
       "      <td>Yes</td>\n",
       "      <td>Mailed check</td>\n",
       "      <td>53.849998</td>\n",
       "      <td>108.150002</td>\n",
       "      <td>61</td>\n",
       "      <td>1</td>\n",
       "      <td>Male</td>\n",
       "      <td>0</td>\n",
       "      <td>No</td>\n",
       "      <td>No</td>\n",
       "      <td>No</td>\n",
       "      <td>DSL</td>\n",
       "      <td>Yes</td>\n",
       "      <td>Yes</td>\n",
       "      <td>No</td>\n",
       "      <td>No</td>\n",
       "      <td>No</td>\n",
       "      <td>No</td>\n",
       "    </tr>\n",
       "  </tbody>\n",
       "</table>\n",
       "</div>"
      ],
      "text/plain": [
       "                      Type PaperlessBilling     PaymentMethod  MonthlyCharges  \\\n",
       "customerID                                                                      \n",
       "7590-VHVEG  Month-to-month              Yes  Electronic check       29.850000   \n",
       "5575-GNVDE        One year               No      Mailed check       56.950001   \n",
       "3668-QPYBK  Month-to-month              Yes      Mailed check       53.849998   \n",
       "\n",
       "            TotalCharges   LTV  Termination  gender  SeniorCitizen Partner  \\\n",
       "customerID                                                                   \n",
       "7590-VHVEG     29.850000    31            0  Female              0     Yes   \n",
       "5575-GNVDE   1889.500000  1036            0    Male              0      No   \n",
       "3668-QPYBK    108.150002    61            1    Male              0      No   \n",
       "\n",
       "           Dependents MultipleLines InternetService OnlineSecurity  \\\n",
       "customerID                                                           \n",
       "7590-VHVEG         No       Nothing             DSL             No   \n",
       "5575-GNVDE         No            No             DSL            Yes   \n",
       "3668-QPYBK         No            No             DSL            Yes   \n",
       "\n",
       "           OnlineBackup DeviceProtection TechSupport StreamingTV  \\\n",
       "customerID                                                         \n",
       "7590-VHVEG          Yes               No          No          No   \n",
       "5575-GNVDE           No              Yes          No          No   \n",
       "3668-QPYBK          Yes               No          No          No   \n",
       "\n",
       "           StreamingMovies  \n",
       "customerID                  \n",
       "7590-VHVEG              No  \n",
       "5575-GNVDE              No  \n",
       "3668-QPYBK              No  "
      ]
     },
     "execution_count": 68,
     "metadata": {},
     "output_type": "execute_result"
    }
   ],
   "source": [
    "data.head(3)"
   ]
  },
  {
   "cell_type": "markdown",
   "metadata": {},
   "source": [
    "### 3.5 Кодирование признаков <a id=\"3_5\"></a>"
   ]
  },
  {
   "cell_type": "markdown",
   "metadata": {},
   "source": [
    "Разобъем признаки на три списка:\n",
    "- количественные признаки;\n",
    "- категориальные признаки для прямого кодирования;\n",
    "- категориальные признаки для порядкового кодирования.\n",
    "\n",
    "Количественные признаки будут масштабированы, категориальные &mdash; закодированы. Выберем для бинарных признаков прямое кодирование, для признаков с 3 и более значениями будем использовать порядковое кодирование, чтобы не увеличивать количество столбцов."
   ]
  },
  {
   "cell_type": "code",
   "execution_count": 69,
   "metadata": {
    "ExecuteTime": {
     "end_time": "2021-12-21T18:26:29.771090Z",
     "start_time": "2021-12-21T18:26:29.757591Z"
    }
   },
   "outputs": [],
   "source": [
    "# Количественные признаки\n",
    "features_quantitative = [\n",
    "    'MonthlyCharges',\n",
    "    'TotalCharges',\n",
    "    'LTV'\n",
    "]\n",
    "# Категориальные признаки для прямого кодирования\n",
    "features_categorical_ohe = [\n",
    "    'PaperlessBilling',\n",
    "    'gender',\n",
    "    'SeniorCitizen',\n",
    "    'Partner',\n",
    "    'Dependents',\n",
    "    'OnlineSecurity',\n",
    "    'OnlineBackup',\n",
    "    'DeviceProtection',\n",
    "    'TechSupport',\n",
    "    'StreamingTV',\n",
    "    'StreamingMovies'\n",
    "]\n",
    "# Категориальные признаки для порядкового кодирования.\n",
    "features_categorical_oe = [\n",
    "    'Type',\n",
    "    'PaymentMethod',\n",
    "    'MultipleLines',\n",
    "    'InternetService'\n",
    "]\n",
    "# Все категориальны признаки\n",
    "features_categorical = features_categorical_ohe + features_categorical_oe\n",
    "# Все признаки\n",
    "features = features_categorical + features_quantitative"
   ]
  },
  {
   "cell_type": "markdown",
   "metadata": {},
   "source": [
    "Закодируем оговоренные категориальные признаки методом прямого кодирования (One-Hot Encoding, OHE)."
   ]
  },
  {
   "cell_type": "code",
   "execution_count": 70,
   "metadata": {
    "ExecuteTime": {
     "end_time": "2021-12-21T18:26:29.802112Z",
     "start_time": "2021-12-21T18:26:29.772073Z"
    }
   },
   "outputs": [],
   "source": [
    "data = pd.get_dummies(data, columns=features_categorical_ohe, drop_first=True)"
   ]
  },
  {
   "cell_type": "markdown",
   "metadata": {
    "ExecuteTime": {
     "end_time": "2021-12-17T23:33:36.456432Z",
     "start_time": "2021-12-17T23:33:36.449711Z"
    }
   },
   "source": [
    "Остальные &mdash; методом порядкового кодирования (One-Hot Encoding, OHE)."
   ]
  },
  {
   "cell_type": "code",
   "execution_count": 71,
   "metadata": {
    "ExecuteTime": {
     "end_time": "2021-12-21T18:26:29.833688Z",
     "start_time": "2021-12-21T18:26:29.803099Z"
    }
   },
   "outputs": [],
   "source": [
    "encoder = OrdinalEncoder()\n",
    "encoder.fit(data[features_categorical_oe])\n",
    "data[features_categorical_oe] =\\\n",
    "    pd.DataFrame(\n",
    "        encoder.transform(data[features_categorical_oe]),\n",
    "        columns=data[features_categorical_oe].columns,\n",
    "        index=data[features_categorical_oe].index\n",
    ")"
   ]
  },
  {
   "cell_type": "markdown",
   "metadata": {},
   "source": [
    "Отобразим результат кодирования признаков."
   ]
  },
  {
   "cell_type": "code",
   "execution_count": 72,
   "metadata": {
    "ExecuteTime": {
     "end_time": "2021-12-21T18:26:29.848953Z",
     "start_time": "2021-12-21T18:26:29.834680Z"
    }
   },
   "outputs": [
    {
     "data": {
      "text/html": [
       "<div>\n",
       "<style scoped>\n",
       "    .dataframe tbody tr th:only-of-type {\n",
       "        vertical-align: middle;\n",
       "    }\n",
       "\n",
       "    .dataframe tbody tr th {\n",
       "        vertical-align: top;\n",
       "    }\n",
       "\n",
       "    .dataframe thead th {\n",
       "        text-align: right;\n",
       "    }\n",
       "</style>\n",
       "<table border=\"1\" class=\"dataframe\">\n",
       "  <thead>\n",
       "    <tr style=\"text-align: right;\">\n",
       "      <th></th>\n",
       "      <th>Type</th>\n",
       "      <th>PaymentMethod</th>\n",
       "      <th>MonthlyCharges</th>\n",
       "      <th>TotalCharges</th>\n",
       "      <th>LTV</th>\n",
       "      <th>Termination</th>\n",
       "      <th>MultipleLines</th>\n",
       "      <th>InternetService</th>\n",
       "      <th>PaperlessBilling_Yes</th>\n",
       "      <th>gender_Male</th>\n",
       "      <th>SeniorCitizen_1</th>\n",
       "      <th>Partner_Yes</th>\n",
       "      <th>Dependents_Yes</th>\n",
       "      <th>OnlineSecurity_Yes</th>\n",
       "      <th>OnlineBackup_Yes</th>\n",
       "      <th>DeviceProtection_Yes</th>\n",
       "      <th>TechSupport_Yes</th>\n",
       "      <th>StreamingTV_Yes</th>\n",
       "      <th>StreamingMovies_Yes</th>\n",
       "    </tr>\n",
       "    <tr>\n",
       "      <th>customerID</th>\n",
       "      <th></th>\n",
       "      <th></th>\n",
       "      <th></th>\n",
       "      <th></th>\n",
       "      <th></th>\n",
       "      <th></th>\n",
       "      <th></th>\n",
       "      <th></th>\n",
       "      <th></th>\n",
       "      <th></th>\n",
       "      <th></th>\n",
       "      <th></th>\n",
       "      <th></th>\n",
       "      <th></th>\n",
       "      <th></th>\n",
       "      <th></th>\n",
       "      <th></th>\n",
       "      <th></th>\n",
       "      <th></th>\n",
       "    </tr>\n",
       "  </thead>\n",
       "  <tbody>\n",
       "    <tr>\n",
       "      <th>7590-VHVEG</th>\n",
       "      <td>0.0</td>\n",
       "      <td>2.0</td>\n",
       "      <td>29.850000</td>\n",
       "      <td>29.850000</td>\n",
       "      <td>31</td>\n",
       "      <td>0</td>\n",
       "      <td>1.0</td>\n",
       "      <td>0.0</td>\n",
       "      <td>1</td>\n",
       "      <td>0</td>\n",
       "      <td>0</td>\n",
       "      <td>1</td>\n",
       "      <td>0</td>\n",
       "      <td>0</td>\n",
       "      <td>1</td>\n",
       "      <td>0</td>\n",
       "      <td>0</td>\n",
       "      <td>0</td>\n",
       "      <td>0</td>\n",
       "    </tr>\n",
       "    <tr>\n",
       "      <th>5575-GNVDE</th>\n",
       "      <td>1.0</td>\n",
       "      <td>3.0</td>\n",
       "      <td>56.950001</td>\n",
       "      <td>1889.500000</td>\n",
       "      <td>1036</td>\n",
       "      <td>0</td>\n",
       "      <td>0.0</td>\n",
       "      <td>0.0</td>\n",
       "      <td>0</td>\n",
       "      <td>1</td>\n",
       "      <td>0</td>\n",
       "      <td>0</td>\n",
       "      <td>0</td>\n",
       "      <td>1</td>\n",
       "      <td>0</td>\n",
       "      <td>1</td>\n",
       "      <td>0</td>\n",
       "      <td>0</td>\n",
       "      <td>0</td>\n",
       "    </tr>\n",
       "    <tr>\n",
       "      <th>3668-QPYBK</th>\n",
       "      <td>0.0</td>\n",
       "      <td>3.0</td>\n",
       "      <td>53.849998</td>\n",
       "      <td>108.150002</td>\n",
       "      <td>61</td>\n",
       "      <td>1</td>\n",
       "      <td>0.0</td>\n",
       "      <td>0.0</td>\n",
       "      <td>1</td>\n",
       "      <td>1</td>\n",
       "      <td>0</td>\n",
       "      <td>0</td>\n",
       "      <td>0</td>\n",
       "      <td>1</td>\n",
       "      <td>1</td>\n",
       "      <td>0</td>\n",
       "      <td>0</td>\n",
       "      <td>0</td>\n",
       "      <td>0</td>\n",
       "    </tr>\n",
       "  </tbody>\n",
       "</table>\n",
       "</div>"
      ],
      "text/plain": [
       "            Type  PaymentMethod  MonthlyCharges  TotalCharges   LTV  \\\n",
       "customerID                                                            \n",
       "7590-VHVEG   0.0            2.0       29.850000     29.850000    31   \n",
       "5575-GNVDE   1.0            3.0       56.950001   1889.500000  1036   \n",
       "3668-QPYBK   0.0            3.0       53.849998    108.150002    61   \n",
       "\n",
       "            Termination  MultipleLines  InternetService  PaperlessBilling_Yes  \\\n",
       "customerID                                                                      \n",
       "7590-VHVEG            0            1.0              0.0                     1   \n",
       "5575-GNVDE            0            0.0              0.0                     0   \n",
       "3668-QPYBK            1            0.0              0.0                     1   \n",
       "\n",
       "            gender_Male  SeniorCitizen_1  Partner_Yes  Dependents_Yes  \\\n",
       "customerID                                                              \n",
       "7590-VHVEG            0                0            1               0   \n",
       "5575-GNVDE            1                0            0               0   \n",
       "3668-QPYBK            1                0            0               0   \n",
       "\n",
       "            OnlineSecurity_Yes  OnlineBackup_Yes  DeviceProtection_Yes  \\\n",
       "customerID                                                               \n",
       "7590-VHVEG                   0                 1                     0   \n",
       "5575-GNVDE                   1                 0                     1   \n",
       "3668-QPYBK                   1                 1                     0   \n",
       "\n",
       "            TechSupport_Yes  StreamingTV_Yes  StreamingMovies_Yes  \n",
       "customerID                                                         \n",
       "7590-VHVEG                0                0                    0  \n",
       "5575-GNVDE                0                0                    0  \n",
       "3668-QPYBK                0                0                    0  "
      ]
     },
     "execution_count": 72,
     "metadata": {},
     "output_type": "execute_result"
    }
   ],
   "source": [
    "data.head(3)"
   ]
  },
  {
   "cell_type": "code",
   "execution_count": 73,
   "metadata": {
    "ExecuteTime": {
     "end_time": "2021-12-21T18:26:29.864675Z",
     "start_time": "2021-12-21T18:26:29.849944Z"
    }
   },
   "outputs": [
    {
     "data": {
      "text/plain": [
       "Type                    float64\n",
       "PaymentMethod           float64\n",
       "MonthlyCharges          float32\n",
       "TotalCharges            float32\n",
       "LTV                       int16\n",
       "Termination               uint8\n",
       "MultipleLines           float64\n",
       "InternetService         float64\n",
       "PaperlessBilling_Yes      uint8\n",
       "gender_Male               uint8\n",
       "SeniorCitizen_1           uint8\n",
       "Partner_Yes               uint8\n",
       "Dependents_Yes            uint8\n",
       "OnlineSecurity_Yes        uint8\n",
       "OnlineBackup_Yes          uint8\n",
       "DeviceProtection_Yes      uint8\n",
       "TechSupport_Yes           uint8\n",
       "StreamingTV_Yes           uint8\n",
       "StreamingMovies_Yes       uint8\n",
       "dtype: object"
      ]
     },
     "execution_count": 73,
     "metadata": {},
     "output_type": "execute_result"
    }
   ],
   "source": [
    "data.dtypes"
   ]
  },
  {
   "cell_type": "markdown",
   "metadata": {},
   "source": [
    "### 3.6 Формирование обучающей и тестовой выборок <a id=\"3_6\"></a>"
   ]
  },
  {
   "cell_type": "markdown",
   "metadata": {},
   "source": [
    "Разобьем данные на обучающую и тестовую выборки в соотношении 4:1."
   ]
  },
  {
   "cell_type": "code",
   "execution_count": 74,
   "metadata": {
    "ExecuteTime": {
     "end_time": "2021-12-21T18:26:29.880203Z",
     "start_time": "2021-12-21T18:26:29.865602Z"
    }
   },
   "outputs": [],
   "source": [
    "train_X, test_X, train_y, test_y = train_test_split(\n",
    "    data.drop(columns='Termination'),\n",
    "    data.Termination,\n",
    "    test_size=0.2,\n",
    "    random_state=12345,\n",
    "    shuffle=True\n",
    ")"
   ]
  },
  {
   "cell_type": "markdown",
   "metadata": {},
   "source": [
    "### 3.7 Масштабирование признаков <a id=\"3_7\"></a>"
   ]
  },
  {
   "cell_type": "markdown",
   "metadata": {},
   "source": [
    "Масштабирование количественных признаков в обучающей и тестовой выборках будем проводить с помощью преобразователя масштаба, обученного на обучающей выборке."
   ]
  },
  {
   "cell_type": "code",
   "execution_count": 75,
   "metadata": {
    "ExecuteTime": {
     "end_time": "2021-12-21T18:26:29.896251Z",
     "start_time": "2021-12-21T18:26:29.881184Z"
    }
   },
   "outputs": [],
   "source": [
    "scaler = StandardScaler()\n",
    "scaler.fit(train_X[features_quantitative]) # Обучение только на трейне\n",
    "train_X[features_quantitative] = scaler.transform(train_X[features_quantitative])\n",
    "test_X[features_quantitative] = scaler.transform(test_X[features_quantitative])"
   ]
  },
  {
   "cell_type": "markdown",
   "metadata": {},
   "source": [
    "Результат."
   ]
  },
  {
   "cell_type": "code",
   "execution_count": 76,
   "metadata": {
    "ExecuteTime": {
     "end_time": "2021-12-21T18:26:29.911633Z",
     "start_time": "2021-12-21T18:26:29.897239Z"
    }
   },
   "outputs": [
    {
     "data": {
      "text/html": [
       "<div>\n",
       "<style scoped>\n",
       "    .dataframe tbody tr th:only-of-type {\n",
       "        vertical-align: middle;\n",
       "    }\n",
       "\n",
       "    .dataframe tbody tr th {\n",
       "        vertical-align: top;\n",
       "    }\n",
       "\n",
       "    .dataframe thead th {\n",
       "        text-align: right;\n",
       "    }\n",
       "</style>\n",
       "<table border=\"1\" class=\"dataframe\">\n",
       "  <thead>\n",
       "    <tr style=\"text-align: right;\">\n",
       "      <th></th>\n",
       "      <th>Type</th>\n",
       "      <th>PaymentMethod</th>\n",
       "      <th>MonthlyCharges</th>\n",
       "      <th>TotalCharges</th>\n",
       "      <th>LTV</th>\n",
       "      <th>MultipleLines</th>\n",
       "      <th>InternetService</th>\n",
       "      <th>PaperlessBilling_Yes</th>\n",
       "      <th>gender_Male</th>\n",
       "      <th>SeniorCitizen_1</th>\n",
       "      <th>Partner_Yes</th>\n",
       "      <th>Dependents_Yes</th>\n",
       "      <th>OnlineSecurity_Yes</th>\n",
       "      <th>OnlineBackup_Yes</th>\n",
       "      <th>DeviceProtection_Yes</th>\n",
       "      <th>TechSupport_Yes</th>\n",
       "      <th>StreamingTV_Yes</th>\n",
       "      <th>StreamingMovies_Yes</th>\n",
       "    </tr>\n",
       "    <tr>\n",
       "      <th>customerID</th>\n",
       "      <th></th>\n",
       "      <th></th>\n",
       "      <th></th>\n",
       "      <th></th>\n",
       "      <th></th>\n",
       "      <th></th>\n",
       "      <th></th>\n",
       "      <th></th>\n",
       "      <th></th>\n",
       "      <th></th>\n",
       "      <th></th>\n",
       "      <th></th>\n",
       "      <th></th>\n",
       "      <th></th>\n",
       "      <th></th>\n",
       "      <th></th>\n",
       "      <th></th>\n",
       "      <th></th>\n",
       "    </tr>\n",
       "  </thead>\n",
       "  <tbody>\n",
       "    <tr>\n",
       "      <th>7108-DGVUU</th>\n",
       "      <td>1.0</td>\n",
       "      <td>0.0</td>\n",
       "      <td>0.227892</td>\n",
       "      <td>-0.349146</td>\n",
       "      <td>-0.467212</td>\n",
       "      <td>2.0</td>\n",
       "      <td>0.0</td>\n",
       "      <td>0</td>\n",
       "      <td>0</td>\n",
       "      <td>1</td>\n",
       "      <td>1</td>\n",
       "      <td>0</td>\n",
       "      <td>0</td>\n",
       "      <td>1</td>\n",
       "      <td>1</td>\n",
       "      <td>0</td>\n",
       "      <td>0</td>\n",
       "      <td>1</td>\n",
       "    </tr>\n",
       "    <tr>\n",
       "      <th>1658-TJVOA</th>\n",
       "      <td>0.0</td>\n",
       "      <td>2.0</td>\n",
       "      <td>0.307749</td>\n",
       "      <td>-0.812519</td>\n",
       "      <td>-1.081316</td>\n",
       "      <td>0.0</td>\n",
       "      <td>1.0</td>\n",
       "      <td>1</td>\n",
       "      <td>0</td>\n",
       "      <td>1</td>\n",
       "      <td>0</td>\n",
       "      <td>0</td>\n",
       "      <td>1</td>\n",
       "      <td>0</td>\n",
       "      <td>0</td>\n",
       "      <td>0</td>\n",
       "      <td>0</td>\n",
       "      <td>0</td>\n",
       "    </tr>\n",
       "    <tr>\n",
       "      <th>0334-GDDSO</th>\n",
       "      <td>0.0</td>\n",
       "      <td>2.0</td>\n",
       "      <td>0.548983</td>\n",
       "      <td>-0.908724</td>\n",
       "      <td>-1.204943</td>\n",
       "      <td>2.0</td>\n",
       "      <td>1.0</td>\n",
       "      <td>1</td>\n",
       "      <td>1</td>\n",
       "      <td>1</td>\n",
       "      <td>0</td>\n",
       "      <td>0</td>\n",
       "      <td>0</td>\n",
       "      <td>1</td>\n",
       "      <td>0</td>\n",
       "      <td>0</td>\n",
       "      <td>0</td>\n",
       "      <td>0</td>\n",
       "    </tr>\n",
       "  </tbody>\n",
       "</table>\n",
       "</div>"
      ],
      "text/plain": [
       "            Type  PaymentMethod  MonthlyCharges  TotalCharges       LTV  \\\n",
       "customerID                                                                \n",
       "7108-DGVUU   1.0            0.0        0.227892     -0.349146 -0.467212   \n",
       "1658-TJVOA   0.0            2.0        0.307749     -0.812519 -1.081316   \n",
       "0334-GDDSO   0.0            2.0        0.548983     -0.908724 -1.204943   \n",
       "\n",
       "            MultipleLines  InternetService  PaperlessBilling_Yes  gender_Male  \\\n",
       "customerID                                                                      \n",
       "7108-DGVUU            2.0              0.0                     0            0   \n",
       "1658-TJVOA            0.0              1.0                     1            0   \n",
       "0334-GDDSO            2.0              1.0                     1            1   \n",
       "\n",
       "            SeniorCitizen_1  Partner_Yes  Dependents_Yes  OnlineSecurity_Yes  \\\n",
       "customerID                                                                     \n",
       "7108-DGVUU                1            1               0                   0   \n",
       "1658-TJVOA                1            0               0                   1   \n",
       "0334-GDDSO                1            0               0                   0   \n",
       "\n",
       "            OnlineBackup_Yes  DeviceProtection_Yes  TechSupport_Yes  \\\n",
       "customerID                                                            \n",
       "7108-DGVUU                 1                     1                0   \n",
       "1658-TJVOA                 0                     0                0   \n",
       "0334-GDDSO                 1                     0                0   \n",
       "\n",
       "            StreamingTV_Yes  StreamingMovies_Yes  \n",
       "customerID                                        \n",
       "7108-DGVUU                0                    1  \n",
       "1658-TJVOA                0                    0  \n",
       "0334-GDDSO                0                    0  "
      ]
     },
     "execution_count": 76,
     "metadata": {},
     "output_type": "execute_result"
    }
   ],
   "source": [
    "train_X.head(3)"
   ]
  },
  {
   "cell_type": "code",
   "execution_count": 77,
   "metadata": {
    "ExecuteTime": {
     "end_time": "2021-12-21T18:26:29.941795Z",
     "start_time": "2021-12-21T18:26:29.912618Z"
    }
   },
   "outputs": [
    {
     "data": {
      "text/html": [
       "<div>\n",
       "<style scoped>\n",
       "    .dataframe tbody tr th:only-of-type {\n",
       "        vertical-align: middle;\n",
       "    }\n",
       "\n",
       "    .dataframe tbody tr th {\n",
       "        vertical-align: top;\n",
       "    }\n",
       "\n",
       "    .dataframe thead th {\n",
       "        text-align: right;\n",
       "    }\n",
       "</style>\n",
       "<table border=\"1\" class=\"dataframe\">\n",
       "  <thead>\n",
       "    <tr style=\"text-align: right;\">\n",
       "      <th></th>\n",
       "      <th>Type</th>\n",
       "      <th>PaymentMethod</th>\n",
       "      <th>MonthlyCharges</th>\n",
       "      <th>TotalCharges</th>\n",
       "      <th>LTV</th>\n",
       "      <th>MultipleLines</th>\n",
       "      <th>InternetService</th>\n",
       "      <th>PaperlessBilling_Yes</th>\n",
       "      <th>gender_Male</th>\n",
       "      <th>SeniorCitizen_1</th>\n",
       "      <th>Partner_Yes</th>\n",
       "      <th>Dependents_Yes</th>\n",
       "      <th>OnlineSecurity_Yes</th>\n",
       "      <th>OnlineBackup_Yes</th>\n",
       "      <th>DeviceProtection_Yes</th>\n",
       "      <th>TechSupport_Yes</th>\n",
       "      <th>StreamingTV_Yes</th>\n",
       "      <th>StreamingMovies_Yes</th>\n",
       "    </tr>\n",
       "    <tr>\n",
       "      <th>customerID</th>\n",
       "      <th></th>\n",
       "      <th></th>\n",
       "      <th></th>\n",
       "      <th></th>\n",
       "      <th></th>\n",
       "      <th></th>\n",
       "      <th></th>\n",
       "      <th></th>\n",
       "      <th></th>\n",
       "      <th></th>\n",
       "      <th></th>\n",
       "      <th></th>\n",
       "      <th></th>\n",
       "      <th></th>\n",
       "      <th></th>\n",
       "      <th></th>\n",
       "      <th></th>\n",
       "      <th></th>\n",
       "    </tr>\n",
       "  </thead>\n",
       "  <tbody>\n",
       "    <tr>\n",
       "      <th>0098-BOWSO</th>\n",
       "      <td>0.0</td>\n",
       "      <td>2.0</td>\n",
       "      <td>-1.512322</td>\n",
       "      <td>-0.777572</td>\n",
       "      <td>-0.223990</td>\n",
       "      <td>0.0</td>\n",
       "      <td>2.0</td>\n",
       "      <td>1</td>\n",
       "      <td>1</td>\n",
       "      <td>0</td>\n",
       "      <td>0</td>\n",
       "      <td>0</td>\n",
       "      <td>0</td>\n",
       "      <td>0</td>\n",
       "      <td>0</td>\n",
       "      <td>0</td>\n",
       "      <td>0</td>\n",
       "      <td>0</td>\n",
       "    </tr>\n",
       "    <tr>\n",
       "      <th>9992-RRAMN</th>\n",
       "      <td>0.0</td>\n",
       "      <td>2.0</td>\n",
       "      <td>0.673760</td>\n",
       "      <td>-0.182316</td>\n",
       "      <td>-0.430930</td>\n",
       "      <td>2.0</td>\n",
       "      <td>1.0</td>\n",
       "      <td>1</td>\n",
       "      <td>1</td>\n",
       "      <td>0</td>\n",
       "      <td>1</td>\n",
       "      <td>0</td>\n",
       "      <td>0</td>\n",
       "      <td>0</td>\n",
       "      <td>0</td>\n",
       "      <td>0</td>\n",
       "      <td>0</td>\n",
       "      <td>1</td>\n",
       "    </tr>\n",
       "    <tr>\n",
       "      <th>8380-PEFPE</th>\n",
       "      <td>0.0</td>\n",
       "      <td>2.0</td>\n",
       "      <td>0.226228</td>\n",
       "      <td>-0.980501</td>\n",
       "      <td>-1.288257</td>\n",
       "      <td>0.0</td>\n",
       "      <td>1.0</td>\n",
       "      <td>1</td>\n",
       "      <td>1</td>\n",
       "      <td>0</td>\n",
       "      <td>0</td>\n",
       "      <td>1</td>\n",
       "      <td>0</td>\n",
       "      <td>0</td>\n",
       "      <td>0</td>\n",
       "      <td>0</td>\n",
       "      <td>0</td>\n",
       "      <td>0</td>\n",
       "    </tr>\n",
       "  </tbody>\n",
       "</table>\n",
       "</div>"
      ],
      "text/plain": [
       "            Type  PaymentMethod  MonthlyCharges  TotalCharges       LTV  \\\n",
       "customerID                                                                \n",
       "0098-BOWSO   0.0            2.0       -1.512322     -0.777572 -0.223990   \n",
       "9992-RRAMN   0.0            2.0        0.673760     -0.182316 -0.430930   \n",
       "8380-PEFPE   0.0            2.0        0.226228     -0.980501 -1.288257   \n",
       "\n",
       "            MultipleLines  InternetService  PaperlessBilling_Yes  gender_Male  \\\n",
       "customerID                                                                      \n",
       "0098-BOWSO            0.0              2.0                     1            1   \n",
       "9992-RRAMN            2.0              1.0                     1            1   \n",
       "8380-PEFPE            0.0              1.0                     1            1   \n",
       "\n",
       "            SeniorCitizen_1  Partner_Yes  Dependents_Yes  OnlineSecurity_Yes  \\\n",
       "customerID                                                                     \n",
       "0098-BOWSO                0            0               0                   0   \n",
       "9992-RRAMN                0            1               0                   0   \n",
       "8380-PEFPE                0            0               1                   0   \n",
       "\n",
       "            OnlineBackup_Yes  DeviceProtection_Yes  TechSupport_Yes  \\\n",
       "customerID                                                            \n",
       "0098-BOWSO                 0                     0                0   \n",
       "9992-RRAMN                 0                     0                0   \n",
       "8380-PEFPE                 0                     0                0   \n",
       "\n",
       "            StreamingTV_Yes  StreamingMovies_Yes  \n",
       "customerID                                        \n",
       "0098-BOWSO                0                    0  \n",
       "9992-RRAMN                0                    1  \n",
       "8380-PEFPE                0                    0  "
      ]
     },
     "execution_count": 77,
     "metadata": {},
     "output_type": "execute_result"
    }
   ],
   "source": [
    "test_X.head(3)"
   ]
  },
  {
   "cell_type": "markdown",
   "metadata": {},
   "source": [
    "### 3.8 Проверка признаков на мультиколлинеарность <a id=\"3_8\"></a>"
   ]
  },
  {
   "cell_type": "markdown",
   "metadata": {
    "ExecuteTime": {
     "end_time": "2021-12-18T01:00:57.285499Z",
     "start_time": "2021-12-18T01:00:57.277820Z"
    }
   },
   "source": [
    "Построим матрицу разброса количественных признаков."
   ]
  },
  {
   "cell_type": "code",
   "execution_count": 78,
   "metadata": {
    "ExecuteTime": {
     "end_time": "2021-12-21T18:26:30.723268Z",
     "start_time": "2021-12-21T18:26:29.942784Z"
    }
   },
   "outputs": [
    {
     "data": {
      "image/png": "[encoded data removed]",
      "text/plain": [
       "<Figure size 576x576 with 9 Axes>"
      ]
     },
     "metadata": {},
     "output_type": "display_data"
    }
   ],
   "source": [
    "sns.set_style('whitegrid')\n",
    "axes = pd.plotting.scatter_matrix(data[features_quantitative], alpha=0.2, figsize=(8, 8));\n",
    "for ax in axes.flatten():\n",
    "    ax.xaxis.label.set_rotation(90)\n",
    "    ax.yaxis.label.set_rotation(0)\n",
    "    ax.yaxis.label.set_ha('right')\n",
    "plt.suptitle('Разброс значений признаков', fontsize=16);\n",
    "plt.tight_layout();"
   ]
  },
  {
   "cell_type": "markdown",
   "metadata": {},
   "source": [
    "Из полученной диаграммы можно предположить, что существует заметная положительная зависимость между признаками *TotalCharges* и *LTV*, что и логично.\n",
    "\n",
    "Построим тепловую карту со значениями линейного коэффициента корреляции."
   ]
  },
  {
   "cell_type": "code",
   "execution_count": 79,
   "metadata": {
    "ExecuteTime": {
     "end_time": "2021-12-21T18:26:30.739702Z",
     "start_time": "2021-12-21T18:26:30.724197Z"
    }
   },
   "outputs": [
    {
     "data": {
      "text/html": [
       "<div>\n",
       "<style scoped>\n",
       "    .dataframe tbody tr th:only-of-type {\n",
       "        vertical-align: middle;\n",
       "    }\n",
       "\n",
       "    .dataframe tbody tr th {\n",
       "        vertical-align: top;\n",
       "    }\n",
       "\n",
       "    .dataframe thead th {\n",
       "        text-align: right;\n",
       "    }\n",
       "</style>\n",
       "<table border=\"1\" class=\"dataframe\">\n",
       "  <thead>\n",
       "    <tr style=\"text-align: right;\">\n",
       "      <th></th>\n",
       "      <th>MonthlyCharges</th>\n",
       "      <th>TotalCharges</th>\n",
       "      <th>LTV</th>\n",
       "      <th>Termination</th>\n",
       "    </tr>\n",
       "  </thead>\n",
       "  <tbody>\n",
       "    <tr>\n",
       "      <th>MonthlyCharges</th>\n",
       "      <td>1.000000</td>\n",
       "      <td>0.651174</td>\n",
       "      <td>0.247754</td>\n",
       "      <td>0.193356</td>\n",
       "    </tr>\n",
       "    <tr>\n",
       "      <th>TotalCharges</th>\n",
       "      <td>0.651174</td>\n",
       "      <td>1.000000</td>\n",
       "      <td>0.826109</td>\n",
       "      <td>-0.198324</td>\n",
       "    </tr>\n",
       "    <tr>\n",
       "      <th>LTV</th>\n",
       "      <td>0.247754</td>\n",
       "      <td>0.826109</td>\n",
       "      <td>1.000000</td>\n",
       "      <td>-0.352673</td>\n",
       "    </tr>\n",
       "    <tr>\n",
       "      <th>Termination</th>\n",
       "      <td>0.193356</td>\n",
       "      <td>-0.198324</td>\n",
       "      <td>-0.352673</td>\n",
       "      <td>1.000000</td>\n",
       "    </tr>\n",
       "  </tbody>\n",
       "</table>\n",
       "</div>"
      ],
      "text/plain": [
       "                MonthlyCharges  TotalCharges       LTV  Termination\n",
       "MonthlyCharges        1.000000      0.651174  0.247754     0.193356\n",
       "TotalCharges          0.651174      1.000000  0.826109    -0.198324\n",
       "LTV                   0.247754      0.826109  1.000000    -0.352673\n",
       "Termination           0.193356     -0.198324 -0.352673     1.000000"
      ]
     },
     "execution_count": 79,
     "metadata": {},
     "output_type": "execute_result"
    }
   ],
   "source": [
    "corr = data[features_quantitative + ['Termination']].corr()\n",
    "corr"
   ]
  },
  {
   "cell_type": "code",
   "execution_count": 80,
   "metadata": {
    "ExecuteTime": {
     "end_time": "2021-12-21T18:26:30.913375Z",
     "start_time": "2021-12-21T18:26:30.741285Z"
    }
   },
   "outputs": [
    {
     "data": {
      "image/png": "[encoded data removed]",
      "text/plain": [
       "<Figure size 576x576 with 2 Axes>"
      ]
     },
     "metadata": {},
     "output_type": "display_data"
    }
   ],
   "source": [
    "sns.set_style('whitegrid')\n",
    "_, axs = plt.subplots(figsize=(8, 8))\n",
    "mask = np.triu(np.ones_like(corr, dtype=bool))\n",
    "cmap = sns.diverging_palette(230, 20, as_cmap=True)\n",
    "sns.heatmap(\n",
    "    corr, mask=mask, cmap=cmap, annot=True, vmin=-1, vmax=1,\n",
    "    square=True, linewidths=0.5, cbar_kws={'shrink': 0.75}, ax=axs, fmt='.2g'\n",
    ").set_title('Линейная корреляция количественных признаков', fontsize=16);"
   ]
  },
  {
   "cell_type": "markdown",
   "metadata": {},
   "source": [
    "Ожидания подтвердились: *TotalCharges* и *LTV* имеют положительный линейный коэффициент корреляции, равный 0.83. Оставим оба признака."
   ]
  },
  {
   "cell_type": "markdown",
   "metadata": {},
   "source": [
    "С целевым признаком опасных корреляций нет."
   ]
  },
  {
   "cell_type": "markdown",
   "metadata": {},
   "source": [
    "### 3.9 Анализ и устранение дисбаланса классов <a id=\"3_9\"></a>"
   ]
  },
  {
   "cell_type": "markdown",
   "metadata": {
    "ExecuteTime": {
     "end_time": "2021-12-18T13:35:33.015072Z",
     "start_time": "2021-12-18T13:35:33.003798Z"
    }
   },
   "source": [
    "Для оценки величины дисбаланса положительного и отрицательного классов в обучающей выборке выведем их доли."
   ]
  },
  {
   "cell_type": "code",
   "execution_count": 81,
   "metadata": {
    "ExecuteTime": {
     "end_time": "2021-12-21T18:26:30.929171Z",
     "start_time": "2021-12-21T18:26:30.914368Z"
    }
   },
   "outputs": [
    {
     "data": {
      "text/html": [
       "<div>\n",
       "<style scoped>\n",
       "    .dataframe tbody tr th:only-of-type {\n",
       "        vertical-align: middle;\n",
       "    }\n",
       "\n",
       "    .dataframe tbody tr th {\n",
       "        vertical-align: top;\n",
       "    }\n",
       "\n",
       "    .dataframe thead th {\n",
       "        text-align: right;\n",
       "    }\n",
       "</style>\n",
       "<table border=\"1\" class=\"dataframe\">\n",
       "  <thead>\n",
       "    <tr style=\"text-align: right;\">\n",
       "      <th></th>\n",
       "      <th>Количество, шт</th>\n",
       "      <th>Доля, %</th>\n",
       "    </tr>\n",
       "  </thead>\n",
       "  <tbody>\n",
       "    <tr>\n",
       "      <th>0</th>\n",
       "      <td>4144</td>\n",
       "      <td>73.55</td>\n",
       "    </tr>\n",
       "    <tr>\n",
       "      <th>1</th>\n",
       "      <td>1490</td>\n",
       "      <td>26.45</td>\n",
       "    </tr>\n",
       "  </tbody>\n",
       "</table>\n",
       "</div>"
      ],
      "text/plain": [
       "   Количество, шт  Доля, %\n",
       "0            4144    73.55\n",
       "1            1490    26.45"
      ]
     },
     "execution_count": 81,
     "metadata": {},
     "output_type": "execute_result"
    }
   ],
   "source": [
    "value_counts_presentages(train_y)"
   ]
  },
  {
   "cell_type": "markdown",
   "metadata": {},
   "source": [
    "Проверим также баланс классов в тестовой выборке."
   ]
  },
  {
   "cell_type": "code",
   "execution_count": 82,
   "metadata": {
    "ExecuteTime": {
     "end_time": "2021-12-21T18:26:30.944716Z",
     "start_time": "2021-12-21T18:26:30.930160Z"
    }
   },
   "outputs": [
    {
     "data": {
      "text/html": [
       "<div>\n",
       "<style scoped>\n",
       "    .dataframe tbody tr th:only-of-type {\n",
       "        vertical-align: middle;\n",
       "    }\n",
       "\n",
       "    .dataframe tbody tr th {\n",
       "        vertical-align: top;\n",
       "    }\n",
       "\n",
       "    .dataframe thead th {\n",
       "        text-align: right;\n",
       "    }\n",
       "</style>\n",
       "<table border=\"1\" class=\"dataframe\">\n",
       "  <thead>\n",
       "    <tr style=\"text-align: right;\">\n",
       "      <th></th>\n",
       "      <th>Количество, шт</th>\n",
       "      <th>Доля, %</th>\n",
       "    </tr>\n",
       "  </thead>\n",
       "  <tbody>\n",
       "    <tr>\n",
       "      <th>0</th>\n",
       "      <td>1030</td>\n",
       "      <td>73.1</td>\n",
       "    </tr>\n",
       "    <tr>\n",
       "      <th>1</th>\n",
       "      <td>379</td>\n",
       "      <td>26.9</td>\n",
       "    </tr>\n",
       "  </tbody>\n",
       "</table>\n",
       "</div>"
      ],
      "text/plain": [
       "   Количество, шт  Доля, %\n",
       "0            1030     73.1\n",
       "1             379     26.9"
      ]
     },
     "execution_count": 82,
     "metadata": {},
     "output_type": "execute_result"
    }
   ],
   "source": [
    "value_counts_presentages(test_y)"
   ]
  },
  {
   "cell_type": "markdown",
   "metadata": {},
   "source": [
    "Соотношение долей приблизительно 1:3.\n",
    "\n",
    "Борьба с дисбалансом классов достигается как обучением со взвешиванием, так и увеличением (уменьшением) выборки дублированием (удалением) случайным образом объектов меньшего (большего) класса &mdash; upsampling (downsampling). Выведем длину обучающей выборки."
   ]
  },
  {
   "cell_type": "code",
   "execution_count": 83,
   "metadata": {
    "ExecuteTime": {
     "end_time": "2021-12-21T18:26:30.960474Z",
     "start_time": "2021-12-21T18:26:30.945708Z"
    }
   },
   "outputs": [
    {
     "data": {
      "text/plain": [
       "5634"
      ]
     },
     "execution_count": 83,
     "metadata": {},
     "output_type": "execute_result"
    }
   ],
   "source": [
    "len(train_y)"
   ]
  },
  {
   "cell_type": "markdown",
   "metadata": {},
   "source": [
    "Количество объектов сравнительно невелико, поэтому увеличение выборки дублированием объектов меньшего положительного класса приведет к приемлемому увеличению ее размера. Сбалансируем обучающую выборку методом upsampling."
   ]
  },
  {
   "cell_type": "code",
   "execution_count": 84,
   "metadata": {
    "ExecuteTime": {
     "end_time": "2021-12-21T18:26:30.976159Z",
     "start_time": "2021-12-21T18:26:30.961465Z"
    }
   },
   "outputs": [],
   "source": [
    "random_negative_indices =\\\n",
    "    np.random.choice(train_y[train_y == 1].index, (train_y == 0).sum() - (train_y == 1).sum())\n",
    "train_y = pd.concat([train_y, train_y[random_negative_indices]])\n",
    "train_X = pd.concat([train_X, train_X.loc[random_negative_indices]])"
   ]
  },
  {
   "cell_type": "markdown",
   "metadata": {},
   "source": [
    "Проверим баланс."
   ]
  },
  {
   "cell_type": "code",
   "execution_count": 85,
   "metadata": {
    "ExecuteTime": {
     "end_time": "2021-12-21T18:26:30.991456Z",
     "start_time": "2021-12-21T18:26:30.977146Z"
    }
   },
   "outputs": [
    {
     "data": {
      "text/html": [
       "<div>\n",
       "<style scoped>\n",
       "    .dataframe tbody tr th:only-of-type {\n",
       "        vertical-align: middle;\n",
       "    }\n",
       "\n",
       "    .dataframe tbody tr th {\n",
       "        vertical-align: top;\n",
       "    }\n",
       "\n",
       "    .dataframe thead th {\n",
       "        text-align: right;\n",
       "    }\n",
       "</style>\n",
       "<table border=\"1\" class=\"dataframe\">\n",
       "  <thead>\n",
       "    <tr style=\"text-align: right;\">\n",
       "      <th></th>\n",
       "      <th>Количество, шт</th>\n",
       "      <th>Доля, %</th>\n",
       "    </tr>\n",
       "  </thead>\n",
       "  <tbody>\n",
       "    <tr>\n",
       "      <th>0</th>\n",
       "      <td>4144</td>\n",
       "      <td>50.0</td>\n",
       "    </tr>\n",
       "    <tr>\n",
       "      <th>1</th>\n",
       "      <td>4144</td>\n",
       "      <td>50.0</td>\n",
       "    </tr>\n",
       "  </tbody>\n",
       "</table>\n",
       "</div>"
      ],
      "text/plain": [
       "   Количество, шт  Доля, %\n",
       "0            4144     50.0\n",
       "1            4144     50.0"
      ]
     },
     "execution_count": 85,
     "metadata": {},
     "output_type": "execute_result"
    }
   ],
   "source": [
    "value_counts_presentages(train_y)"
   ]
  },
  {
   "cell_type": "markdown",
   "metadata": {
    "ExecuteTime": {
     "end_time": "2021-12-18T14:34:37.742578Z",
     "start_time": "2021-12-18T14:34:37.723671Z"
    }
   },
   "source": [
    "Новый размер обучающей выборки."
   ]
  },
  {
   "cell_type": "code",
   "execution_count": 86,
   "metadata": {
    "ExecuteTime": {
     "end_time": "2021-12-21T18:26:31.007541Z",
     "start_time": "2021-12-21T18:26:30.992844Z"
    }
   },
   "outputs": [
    {
     "data": {
      "text/plain": [
       "7043"
      ]
     },
     "execution_count": 86,
     "metadata": {},
     "output_type": "execute_result"
    }
   ],
   "source": [
    "len(data)"
   ]
  },
  {
   "cell_type": "markdown",
   "metadata": {
    "ExecuteTime": {
     "end_time": "2021-12-19T14:23:59.537685Z",
     "start_time": "2021-12-19T14:23:59.519620Z"
    }
   },
   "source": [
    "Он соответствует балансу в тренировочной выборке до upsampling."
   ]
  },
  {
   "cell_type": "markdown",
   "metadata": {},
   "source": [
    "## 4 Обучение и сравнение моделей <a id=\"4\"></a>"
   ]
  },
  {
   "cell_type": "markdown",
   "metadata": {},
   "source": [
    "### 4.1 RandomForestClassifier (Scikit Learn) <a id=\"4_1\"></a>"
   ]
  },
  {
   "cell_type": "code",
   "execution_count": 87,
   "metadata": {
    "ExecuteTime": {
     "end_time": "2021-12-21T18:26:33.580530Z",
     "start_time": "2021-12-21T18:26:31.009094Z"
    }
   },
   "outputs": [
    {
     "name": "stdout",
     "output_type": "stream",
     "text": [
      "Файл https://disk.yandex.ru/d/C8-3jXGfIjuSVA скачан и сохранен под именем ./model_rfc\n"
     ]
    }
   ],
   "source": [
    "# Скачиваем обученную модель\n",
    "print(download_file_from_ydisk(MODEL_RFC_PUBLIC_URL, './model_rfc'))"
   ]
  },
  {
   "cell_type": "code",
   "execution_count": 88,
   "metadata": {
    "ExecuteTime": {
     "end_time": "2021-12-21T18:26:33.863626Z",
     "start_time": "2021-12-21T18:26:33.582507Z"
    }
   },
   "outputs": [
    {
     "name": "stdout",
     "output_type": "stream",
     "text": [
      "Модель загружена из файла ./model_rfc\n"
     ]
    }
   ],
   "source": [
    "# Если дамп модели лежит в папке проекта, то модель загружается из него, если нет - обучается\n",
    "if os.path.isfile('./model_rfc'):\n",
    "    rfc_gs = load('./model_rfc')\n",
    "    print('Модель загружена из файла ./model_rfc')\n",
    "else:\n",
    "    # Значения гиперпараметров\n",
    "    parameters = {\n",
    "        'n_estimators': [10, 50, 100, 200, 300],\n",
    "        'max_depth': [1, 10, 50],\n",
    "        'criterion': ['gini', 'entropy'],\n",
    "        'min_samples_split': [2, 5, 7, 15],\n",
    "        'random_state': [12345]\n",
    "    }\n",
    "    # Обучение и выбор лучшей модели\n",
    "    rfc_gs = GridSearchCV(\n",
    "        RandomForestClassifier(),\n",
    "        param_grid=parameters,\n",
    "        scoring='roc_auc',\n",
    "        cv=5,\n",
    "        refit=True,\n",
    "        verbose=0\n",
    "    )\n",
    "    rfc_gs.fit(train_X, train_y)\n",
    "    dump(rfc_gs, 'model_rfc')\n",
    "    print('Модель обучена и сохранена в файл ./model_rfc')"
   ]
  },
  {
   "cell_type": "markdown",
   "metadata": {},
   "source": [
    "ROC AUC лучшей модели классификатора на основе случайного решающего леса на валидационной выборке."
   ]
  },
  {
   "cell_type": "code",
   "execution_count": 89,
   "metadata": {
    "ExecuteTime": {
     "end_time": "2021-12-21T18:26:33.879381Z",
     "start_time": "2021-12-21T18:26:33.866388Z"
    }
   },
   "outputs": [
    {
     "data": {
      "text/plain": [
       "0.9828548897616498"
      ]
     },
     "execution_count": 89,
     "metadata": {},
     "output_type": "execute_result"
    }
   ],
   "source": [
    "rfc_gs.best_score_"
   ]
  },
  {
   "cell_type": "markdown",
   "metadata": {},
   "source": [
    "Гиперпараметры лучшей модели."
   ]
  },
  {
   "cell_type": "code",
   "execution_count": 90,
   "metadata": {
    "ExecuteTime": {
     "end_time": "2021-12-21T18:26:33.894656Z",
     "start_time": "2021-12-21T18:26:33.882271Z"
    }
   },
   "outputs": [
    {
     "data": {
      "text/plain": [
       "{'criterion': 'gini',\n",
       " 'max_depth': 50,\n",
       " 'min_samples_split': 2,\n",
       " 'n_estimators': 300,\n",
       " 'random_state': 12345}"
      ]
     },
     "execution_count": 90,
     "metadata": {},
     "output_type": "execute_result"
    }
   ],
   "source": [
    "rfc_gs.best_params_"
   ]
  },
  {
   "cell_type": "markdown",
   "metadata": {
    "ExecuteTime": {
     "end_time": "2021-12-19T11:49:04.891814Z",
     "start_time": "2021-12-19T11:49:04.884675Z"
    }
   },
   "source": [
    "Значение метрики Accuracy на тестовой выборке."
   ]
  },
  {
   "cell_type": "code",
   "execution_count": 91,
   "metadata": {
    "ExecuteTime": {
     "end_time": "2021-12-21T18:26:34.004143Z",
     "start_time": "2021-12-21T18:26:33.896529Z"
    }
   },
   "outputs": [
    {
     "data": {
      "text/plain": [
       "0.808374733853797"
      ]
     },
     "execution_count": 91,
     "metadata": {},
     "output_type": "execute_result"
    }
   ],
   "source": [
    "rfc_accuracy = accuracy_score(test_y, rfc_gs.predict(test_X))\n",
    "rfc_accuracy"
   ]
  },
  {
   "cell_type": "markdown",
   "metadata": {
    "ExecuteTime": {
     "end_time": "2021-12-19T11:33:34.954543Z",
     "start_time": "2021-12-19T11:33:34.942645Z"
    }
   },
   "source": [
    "Значение метрики ROC AUC на тестовой выборке."
   ]
  },
  {
   "cell_type": "code",
   "execution_count": 92,
   "metadata": {
    "ExecuteTime": {
     "end_time": "2021-12-21T18:26:34.131163Z",
     "start_time": "2021-12-21T18:26:34.005255Z"
    }
   },
   "outputs": [
    {
     "data": {
      "text/plain": [
       "0.8480928350026898"
      ]
     },
     "execution_count": 92,
     "metadata": {},
     "output_type": "execute_result"
    }
   ],
   "source": [
    "y_pred_prob = rfc_gs.predict_proba(test_X)[:, 1]\n",
    "rfc_roc_auc = roc_auc_score(test_y, y_pred_prob)\n",
    "rfc_roc_auc"
   ]
  },
  {
   "cell_type": "markdown",
   "metadata": {},
   "source": [
    "Соответствующая ROC-кривая."
   ]
  },
  {
   "cell_type": "code",
   "execution_count": 93,
   "metadata": {
    "ExecuteTime": {
     "end_time": "2021-12-21T18:26:34.291301Z",
     "start_time": "2021-12-21T18:26:34.132149Z"
    }
   },
   "outputs": [
    {
     "data": {
      "image/png": "[encoded data removed]",
      "text/plain": [
       "<Figure size 432x432 with 1 Axes>"
      ]
     },
     "metadata": {},
     "output_type": "display_data"
    }
   ],
   "source": [
    "fpr, tpr, _ = roc_curve(test_y, y_pred_prob)\n",
    "\n",
    "plt.figure(figsize=(6, 6))\n",
    "plt.plot(fpr, tpr, label='auc=' + str(round(rfc_roc_auc, 2)))\n",
    "plt.plot([0, 1], [0, 1], color='orange', linestyle='--')\n",
    "plt.xlabel('False Positive Rate')\n",
    "plt.ylabel('True Positive Rate')\n",
    "plt.title('RandomForestClassifier Receiver Operating Characteristic')\n",
    "plt.legend(loc='lower right')\n",
    "plt.show()"
   ]
  },
  {
   "cell_type": "markdown",
   "metadata": {},
   "source": [
    "Оценка важности признаков лучшей моделью RandomForestClassifier в порядке убывания."
   ]
  },
  {
   "cell_type": "code",
   "execution_count": 94,
   "metadata": {
    "ExecuteTime": {
     "end_time": "2021-12-21T18:26:34.339175Z",
     "start_time": "2021-12-21T18:26:34.292297Z"
    },
    "scrolled": true
   },
   "outputs": [
    {
     "data": {
      "text/plain": [
       "LTV                     0.206478\n",
       "MonthlyCharges          0.167555\n",
       "TotalCharges            0.166083\n",
       "Type                    0.118725\n",
       "PaymentMethod           0.052224\n",
       "InternetService         0.049585\n",
       "PaperlessBilling_Yes    0.025932\n",
       "gender_Male             0.023505\n",
       "MultipleLines           0.022200\n",
       "TechSupport_Yes         0.021652\n",
       "OnlineSecurity_Yes      0.021551\n",
       "Partner_Yes             0.020142\n",
       "SeniorCitizen_1         0.019032\n",
       "Dependents_Yes          0.018864\n",
       "OnlineBackup_Yes        0.018264\n",
       "DeviceProtection_Yes    0.017090\n",
       "StreamingTV_Yes         0.015660\n",
       "StreamingMovies_Yes     0.015459\n",
       "dtype: float64"
      ]
     },
     "execution_count": 94,
     "metadata": {},
     "output_type": "execute_result"
    }
   ],
   "source": [
    "rfc_fi = pd.Series(rfc_gs.best_estimator_.feature_importances_, index=train_X.columns).sort_values(ascending=False)\n",
    "rfc_fi"
   ]
  },
  {
   "cell_type": "code",
   "execution_count": 95,
   "metadata": {
    "ExecuteTime": {
     "end_time": "2021-12-21T18:26:34.579203Z",
     "start_time": "2021-12-21T18:26:34.342166Z"
    }
   },
   "outputs": [
    {
     "data": {
      "image/png": "[encoded data removed]",
      "text/plain": [
       "<Figure size 1152x576 with 1 Axes>"
      ]
     },
     "metadata": {},
     "output_type": "display_data"
    }
   ],
   "source": [
    "ax = rfc_fi.plot.barh(figsize=(16, 8))\n",
    "ax.set(xlabel='Оценка', ylabel='Признаки', title='Оценка важности признаков лучшей моделью RandomForestClassifier')\n",
    "ax.invert_yaxis()"
   ]
  },
  {
   "cell_type": "markdown",
   "metadata": {},
   "source": [
    "В случае классификатора на основе случайного леса RandomForestClassifier самыми важными признаками стали (по убыванию оценки важности) время жизни клиента *LTV*, размер ежемесячных *MonthlyCharges* и суммарных *TotalCharges* трат на услуги.\n",
    "\n",
    "С заметными отставанием идут тип *Type* и способ *PaymentMethod* оплаты, а также технология, по которой предоставляется интернет.\n",
    "\n",
    "Важность остальных признаков заметно ниже."
   ]
  },
  {
   "cell_type": "markdown",
   "metadata": {},
   "source": [
    "### 4.2 LogisticRegression (Scikit Learn) <a id=\"4_2\"></a>"
   ]
  },
  {
   "cell_type": "code",
   "execution_count": 97,
   "metadata": {
    "ExecuteTime": {
     "end_time": "2021-12-21T18:26:35.506019Z",
     "start_time": "2021-12-21T18:26:34.900661Z"
    }
   },
   "outputs": [
    {
     "name": "stdout",
     "output_type": "stream",
     "text": [
      "Файл https://disk.yandex.ru/d/9U4TqsUjvENd4w скачан и сохранен под именем ./model_lr\n"
     ]
    }
   ],
   "source": [
    "# Скачиваем обученную модель\n",
    "print(download_file_from_ydisk(MODEL_LR_PUBLIC_URL, './model_lr'))"
   ]
  },
  {
   "cell_type": "code",
   "execution_count": 98,
   "metadata": {
    "ExecuteTime": {
     "end_time": "2021-12-21T18:26:35.539232Z",
     "start_time": "2021-12-21T18:26:35.507939Z"
    }
   },
   "outputs": [
    {
     "name": "stdout",
     "output_type": "stream",
     "text": [
      "Модель загружена из файла ./model_lr\n"
     ]
    }
   ],
   "source": [
    "# Если дамп модели лежит в папке проекта, то модель загружается из него, если нет - обучается\n",
    "if os.path.isfile('./model_lr'):\n",
    "    lr_gs = load('./model_lr')\n",
    "    print('Модель загружена из файла ./model_lr')\n",
    "else:\n",
    "    # Значения гиперпараметров\n",
    "    parameters = [\n",
    "        {\n",
    "            'solver': ['lbfgs', 'sag'],\n",
    "            'max_iter': [100, 500],\n",
    "            'penalty': ['l2'],\n",
    "            'C': [0.5, 1.0, 2],\n",
    "            'random_state': [12345]\n",
    "        },\n",
    "        {\n",
    "            'solver': ['liblinear'],\n",
    "            'max_iter': [100, 500],\n",
    "            'penalty': ['l1', 'l2'],\n",
    "            'C': [0.5, 1.0, 2],\n",
    "            'random_state': [12345]\n",
    "        },\n",
    "        {\n",
    "            'solver': ['saga'],\n",
    "            'max_iter': [100, 500],\n",
    "            'penalty': ['l1', 'l2', 'elasticnet'],\n",
    "            'C': [0.5, 1.0, 2],\n",
    "            'random_state': [12345]\n",
    "        }\n",
    "    ]\n",
    "    # Обучение и выбор лучшей модели\n",
    "    lr_gs = GridSearchCV(\n",
    "        LogisticRegression(),\n",
    "        param_grid=parameters,\n",
    "        scoring='roc_auc',\n",
    "        cv=5,\n",
    "        refit=True,\n",
    "        verbose=0\n",
    "    )\n",
    "    lr_gs.fit(train_X, train_y)\n",
    "    dump(lr_gs, 'model_lr')\n",
    "    print('Модель обучена и сохранена в файл ./model_lr')"
   ]
  },
  {
   "cell_type": "markdown",
   "metadata": {},
   "source": [
    "ROC AUC лучшей модели классификатора на основе случайного решающего леса на валидационной выборке."
   ]
  },
  {
   "cell_type": "code",
   "execution_count": 99,
   "metadata": {
    "ExecuteTime": {
     "end_time": "2021-12-21T18:26:35.554831Z",
     "start_time": "2021-12-21T18:26:35.541260Z"
    }
   },
   "outputs": [
    {
     "data": {
      "text/plain": [
       "0.8389221578121864"
      ]
     },
     "execution_count": 99,
     "metadata": {},
     "output_type": "execute_result"
    }
   ],
   "source": [
    "lr_gs.best_score_"
   ]
  },
  {
   "cell_type": "markdown",
   "metadata": {},
   "source": [
    "Гиперпараметры лучшей модели."
   ]
  },
  {
   "cell_type": "code",
   "execution_count": 100,
   "metadata": {
    "ExecuteTime": {
     "end_time": "2021-12-21T18:26:35.571367Z",
     "start_time": "2021-12-21T18:26:35.556819Z"
    }
   },
   "outputs": [
    {
     "data": {
      "text/plain": [
       "{'C': 0.5,\n",
       " 'max_iter': 100,\n",
       " 'penalty': 'l1',\n",
       " 'random_state': 12345,\n",
       " 'solver': 'saga'}"
      ]
     },
     "execution_count": 100,
     "metadata": {},
     "output_type": "execute_result"
    }
   ],
   "source": [
    "lr_gs.best_params_"
   ]
  },
  {
   "cell_type": "markdown",
   "metadata": {
    "ExecuteTime": {
     "end_time": "2021-12-19T11:49:04.891814Z",
     "start_time": "2021-12-19T11:49:04.884675Z"
    }
   },
   "source": [
    "Значение метрики Accuracy на тестовой выборке."
   ]
  },
  {
   "cell_type": "code",
   "execution_count": 101,
   "metadata": {
    "ExecuteTime": {
     "end_time": "2021-12-21T18:26:35.587033Z",
     "start_time": "2021-12-21T18:26:35.573341Z"
    }
   },
   "outputs": [],
   "source": [
    "lr_accuracy = accuracy_score(test_y, lr_gs.predict(test_X))"
   ]
  },
  {
   "cell_type": "markdown",
   "metadata": {
    "ExecuteTime": {
     "end_time": "2021-12-19T11:33:34.954543Z",
     "start_time": "2021-12-19T11:33:34.942645Z"
    }
   },
   "source": [
    "Значение метрики ROC AUC на тестовой выборке."
   ]
  },
  {
   "cell_type": "code",
   "execution_count": 102,
   "metadata": {
    "ExecuteTime": {
     "end_time": "2021-12-21T18:26:35.602524Z",
     "start_time": "2021-12-21T18:26:35.588841Z"
    }
   },
   "outputs": [
    {
     "data": {
      "text/plain": [
       "0.8382022184081769"
      ]
     },
     "execution_count": 102,
     "metadata": {},
     "output_type": "execute_result"
    }
   ],
   "source": [
    "y_pred_prob = lr_gs.predict_proba(test_X)[:, 1]\n",
    "lr_roc_auc = roc_auc_score(test_y, y_pred_prob)\n",
    "lr_roc_auc"
   ]
  },
  {
   "cell_type": "markdown",
   "metadata": {},
   "source": [
    "Соответствующая ROC-кривая."
   ]
  },
  {
   "cell_type": "code",
   "execution_count": 103,
   "metadata": {
    "ExecuteTime": {
     "end_time": "2021-12-21T18:26:35.746223Z",
     "start_time": "2021-12-21T18:26:35.603617Z"
    }
   },
   "outputs": [
    {
     "data": {
      "image/png": "[encoded data removed]",
      "text/plain": [
       "<Figure size 432x432 with 1 Axes>"
      ]
     },
     "metadata": {},
     "output_type": "display_data"
    }
   ],
   "source": [
    "fpr, tpr, _ = roc_curve(test_y, y_pred_prob)\n",
    "\n",
    "plt.figure(figsize=(6, 6))\n",
    "plt.plot(fpr, tpr, label='auc=' + str(round(lr_roc_auc, 2)))\n",
    "plt.plot([0, 1], [0, 1], color='orange', linestyle='--')\n",
    "plt.xlabel('False Positive Rate')\n",
    "plt.ylabel('True Positive Rate')\n",
    "plt.title('LogisticRegression Receiver Operating Characteristic')\n",
    "plt.legend(loc='lower right')\n",
    "plt.show()"
   ]
  },
  {
   "cell_type": "markdown",
   "metadata": {
    "ExecuteTime": {
     "end_time": "2021-12-19T14:26:40.168504Z",
     "start_time": "2021-12-19T14:26:40.158731Z"
    }
   },
   "source": [
    "Логистическая регрессия LogisticRegression не ранжирует параметры по важности."
   ]
  },
  {
   "cell_type": "markdown",
   "metadata": {},
   "source": [
    "### 4.3 LGBMClassifier (LightGBM) <a id=\"4_3\"></a>"
   ]
  },
  {
   "cell_type": "code",
   "execution_count": 104,
   "metadata": {
    "ExecuteTime": {
     "end_time": "2021-12-21T18:26:36.566389Z",
     "start_time": "2021-12-21T18:26:35.747219Z"
    }
   },
   "outputs": [
    {
     "name": "stdout",
     "output_type": "stream",
     "text": [
      "Файл https://disk.yandex.ru/d/3WqsdiT26wL09A скачан и сохранен под именем ./model_lgbmc\n"
     ]
    }
   ],
   "source": [
    "# Скачиваем обученную модель\n",
    "print(download_file_from_ydisk(MODEL_LGBMC_PUBLIC_URL, './model_lgbmc'))"
   ]
  },
  {
   "cell_type": "code",
   "execution_count": 105,
   "metadata": {
    "ExecuteTime": {
     "end_time": "2021-12-21T18:26:36.644276Z",
     "start_time": "2021-12-21T18:26:36.568326Z"
    },
    "scrolled": true
   },
   "outputs": [
    {
     "name": "stdout",
     "output_type": "stream",
     "text": [
      "Модель загружена из файла ./model_lgbmc\n"
     ]
    }
   ],
   "source": [
    "# Если дамп модели лежит в папке проекта, то модель загружается из него, если нет - обучается\n",
    "if os.path.isfile('./model_lgbmc'):\n",
    "    lgbmc_gs = load('./model_lgbmc')\n",
    "    print('Модель загружена из файла ./model_lgbmc')\n",
    "else:\n",
    "    # Значения гиперпараметров\n",
    "    parameters = [\n",
    "        {\n",
    "            'n_estimators': [50, 100, 200], # Number of boosted trees to fit\n",
    "            'num_leaves': [11, 31, 91], # Maximum tree leaves for base learners\n",
    "            'max_depth': [1, 3, 20, -1], # Maximum tree depth for base learners, <=0 means no limit\n",
    "            'learning_rate': [0.01, 0.1, 1], # Boosting learning rate\n",
    "            'reg_alpha': [0, 0.1, 5], # L1 regularization term on weights\n",
    "            'reg_lambda': [0, 0.1, 5] # L2 regularization term on weights\n",
    "        }\n",
    "    ]\n",
    "    # Обучение и выбор лучшей модели\n",
    "    lgbmc_gs = GridSearchCV(\n",
    "        LGBMClassifier(),\n",
    "        param_grid=parameters,\n",
    "        scoring='roc_auc',\n",
    "        cv=5,\n",
    "        refit=True,\n",
    "        verbose=0\n",
    "    )\n",
    "    lgbmc_gs.fit(train_X, train_y)\n",
    "    dump(lgbmc_gs, 'model_lgbmc')\n",
    "    print('Модель обучена и сохранена в файл ./model_lgbmc')"
   ]
  },
  {
   "cell_type": "markdown",
   "metadata": {},
   "source": [
    "ROC AUC лучшей модели классификатора на основе случайного решающего леса на валидационной выборке."
   ]
  },
  {
   "cell_type": "code",
   "execution_count": 106,
   "metadata": {
    "ExecuteTime": {
     "end_time": "2021-12-21T18:26:36.660147Z",
     "start_time": "2021-12-21T18:26:36.645397Z"
    }
   },
   "outputs": [
    {
     "data": {
      "text/plain": [
       "0.9840673510963149"
      ]
     },
     "execution_count": 106,
     "metadata": {},
     "output_type": "execute_result"
    }
   ],
   "source": [
    "lgbmc_gs.best_score_"
   ]
  },
  {
   "cell_type": "markdown",
   "metadata": {},
   "source": [
    "Гиперпараметры лучшей модели."
   ]
  },
  {
   "cell_type": "code",
   "execution_count": 107,
   "metadata": {
    "ExecuteTime": {
     "end_time": "2021-12-21T18:26:36.675785Z",
     "start_time": "2021-12-21T18:26:36.661137Z"
    }
   },
   "outputs": [
    {
     "data": {
      "text/plain": [
       "{'learning_rate': 0.1,\n",
       " 'max_depth': -1,\n",
       " 'n_estimators': 200,\n",
       " 'num_leaves': 91,\n",
       " 'reg_alpha': 0,\n",
       " 'reg_lambda': 0}"
      ]
     },
     "execution_count": 107,
     "metadata": {},
     "output_type": "execute_result"
    }
   ],
   "source": [
    "lgbmc_gs.best_params_"
   ]
  },
  {
   "cell_type": "markdown",
   "metadata": {
    "ExecuteTime": {
     "end_time": "2021-12-19T11:49:04.891814Z",
     "start_time": "2021-12-19T11:49:04.884675Z"
    }
   },
   "source": [
    "Значение метрики Accuracy на тестовой выборке."
   ]
  },
  {
   "cell_type": "code",
   "execution_count": 108,
   "metadata": {
    "ExecuteTime": {
     "end_time": "2021-12-21T18:26:36.707349Z",
     "start_time": "2021-12-21T18:26:36.676775Z"
    }
   },
   "outputs": [
    {
     "data": {
      "text/plain": [
       "0.8559261887863733"
      ]
     },
     "execution_count": 108,
     "metadata": {},
     "output_type": "execute_result"
    }
   ],
   "source": [
    "lgbmc_accuracy = accuracy_score(test_y, lgbmc_gs.predict(test_X))\n",
    "lgbmc_accuracy"
   ]
  },
  {
   "cell_type": "markdown",
   "metadata": {
    "ExecuteTime": {
     "end_time": "2021-12-19T11:33:34.954543Z",
     "start_time": "2021-12-19T11:33:34.942645Z"
    }
   },
   "source": [
    "Значение метрики ROC AUC на тестовой выборке."
   ]
  },
  {
   "cell_type": "code",
   "execution_count": 109,
   "metadata": {
    "ExecuteTime": {
     "end_time": "2021-12-21T18:26:36.738259Z",
     "start_time": "2021-12-21T18:26:36.710304Z"
    }
   },
   "outputs": [
    {
     "data": {
      "text/plain": [
       "0.9048505264236493"
      ]
     },
     "execution_count": 109,
     "metadata": {},
     "output_type": "execute_result"
    }
   ],
   "source": [
    "y_pred_prob = lgbmc_gs.predict_proba(test_X)[:, 1]\n",
    "lgbmc_roc_auc = roc_auc_score(test_y, y_pred_prob)\n",
    "lgbmc_roc_auc"
   ]
  },
  {
   "cell_type": "markdown",
   "metadata": {},
   "source": [
    "Соответствующая ROC-кривая."
   ]
  },
  {
   "cell_type": "code",
   "execution_count": 110,
   "metadata": {
    "ExecuteTime": {
     "end_time": "2021-12-21T18:26:36.867526Z",
     "start_time": "2021-12-21T18:26:36.740134Z"
    }
   },
   "outputs": [
    {
     "data": {
      "image/png": "[encoded data removed]",
      "text/plain": [
       "<Figure size 432x432 with 1 Axes>"
      ]
     },
     "metadata": {},
     "output_type": "display_data"
    }
   ],
   "source": [
    "fpr, tpr, _ = roc_curve(test_y, y_pred_prob)\n",
    "\n",
    "plt.figure(figsize=(6, 6))\n",
    "plt.plot(fpr, tpr, label='auc=' + str(round(lgbmc_roc_auc, 2)))\n",
    "plt.plot([0, 1], [0, 1], color='orange', linestyle='--')\n",
    "plt.xlabel('False Positive Rate')\n",
    "plt.ylabel('True Positive Rate')\n",
    "plt.title('LGBMClassifier Receiver Operating Characteristic')\n",
    "plt.legend(loc='lower right')\n",
    "plt.show()"
   ]
  },
  {
   "cell_type": "markdown",
   "metadata": {},
   "source": [
    "Оценка важности признаков лучшей моделью LGBMClassifier в порядке убывания."
   ]
  },
  {
   "cell_type": "code",
   "execution_count": 111,
   "metadata": {
    "ExecuteTime": {
     "end_time": "2021-12-21T18:26:36.883644Z",
     "start_time": "2021-12-21T18:26:36.868534Z"
    }
   },
   "outputs": [
    {
     "data": {
      "text/plain": [
       "MonthlyCharges          4602\n",
       "LTV                     4579\n",
       "TotalCharges            3791\n",
       "PaymentMethod            899\n",
       "gender_Male              603\n",
       "Partner_Yes              428\n",
       "PaperlessBilling_Yes     353\n",
       "MultipleLines            331\n",
       "OnlineBackup_Yes         319\n",
       "Dependents_Yes           309\n",
       "Type                     295\n",
       "DeviceProtection_Yes     275\n",
       "SeniorCitizen_1          241\n",
       "OnlineSecurity_Yes       232\n",
       "StreamingTV_Yes          224\n",
       "TechSupport_Yes          210\n",
       "StreamingMovies_Yes      199\n",
       "InternetService          110\n",
       "dtype: int32"
      ]
     },
     "execution_count": 111,
     "metadata": {},
     "output_type": "execute_result"
    }
   ],
   "source": [
    "lgbmc_fi = pd.Series(lgbmc_gs.best_estimator_.feature_importances_, index=train_X.columns).sort_values(ascending=False)\n",
    "lgbmc_fi"
   ]
  },
  {
   "cell_type": "code",
   "execution_count": 112,
   "metadata": {
    "ExecuteTime": {
     "end_time": "2021-12-21T18:26:37.107297Z",
     "start_time": "2021-12-21T18:26:36.884841Z"
    }
   },
   "outputs": [
    {
     "data": {
      "image/png": "[encoded data removed]",
      "text/plain": [
       "<Figure size 1152x576 with 1 Axes>"
      ]
     },
     "metadata": {},
     "output_type": "display_data"
    }
   ],
   "source": [
    "ax = lgbmc_fi.plot.barh(figsize=(16, 8));\n",
    "ax.set(xlabel='Оценка', ylabel='Признаки', title='Оценка важности признаков лучшей моделью LGBMClassifier')\n",
    "ax.invert_yaxis()"
   ]
  },
  {
   "cell_type": "markdown",
   "metadata": {},
   "source": [
    "Лучшая модель LGBMClassifier выделила (в порядке убывания оценки важности) размер ежемесячных трат на услуги *MonthlyCharges*, время жизни клиента *LTV* и суммарные траты на услуги *TotalCharges*.\n",
    "\n",
    "Оценка важности остальных признаков по сравнению с *TotalCharges* резко падает."
   ]
  },
  {
   "cell_type": "markdown",
   "metadata": {},
   "source": [
    "### 4.4 CatBoostClassifier (CatBoost) <a id=\"4_4\"></a>"
   ]
  },
  {
   "cell_type": "code",
   "execution_count": 113,
   "metadata": {
    "ExecuteTime": {
     "end_time": "2021-12-21T18:26:37.923567Z",
     "start_time": "2021-12-21T18:26:37.109510Z"
    }
   },
   "outputs": [
    {
     "name": "stdout",
     "output_type": "stream",
     "text": [
      "Файл https://disk.yandex.ru/d/3anbjbPDskaeWA скачан и сохранен под именем ./model_cbc\n"
     ]
    }
   ],
   "source": [
    "# Скачиваем обученную модель\n",
    "print(download_file_from_ydisk(MODEL_CBC_PUBLIC_URL, './model_cbc'))"
   ]
  },
  {
   "cell_type": "code",
   "execution_count": 114,
   "metadata": {
    "ExecuteTime": {
     "end_time": "2021-12-21T18:26:37.955913Z",
     "start_time": "2021-12-21T18:26:37.924767Z"
    },
    "scrolled": true
   },
   "outputs": [
    {
     "name": "stdout",
     "output_type": "stream",
     "text": [
      "Модель загружена из файла ./model_cbc\n"
     ]
    }
   ],
   "source": [
    "# Если дамп модели лежит в папке проекта, то модель загружается из него, если нет - обучается\n",
    "if os.path.isfile('./model_cbc'):\n",
    "    cbc_gs = load('./model_cbc')\n",
    "    print('Модель загружена из файла ./model_cbc')\n",
    "else:\n",
    "    # Значения гиперпараметров\n",
    "    parameters = [\n",
    "        {\n",
    "            'n_estimators': [50, 100, 200], # Number of boosted trees to fit\n",
    "            'num_leaves': [11, 31, 91], # Maximum tree leaves for base learners\n",
    "            'max_depth': [1, 3, 20, -1], # Maximum tree depth for base learners, <=0 means no limit\n",
    "            'learning_rate': [0.01, 0.1, 1], # Boosting learning rate\n",
    "            'l2_leaf_reg': [0.1, 1, 3]\n",
    "        }\n",
    "    ]\n",
    "    # Обучение и выбор лучшей модели\n",
    "    cbc_gs = GridSearchCV(\n",
    "        CatBoostClassifier(),\n",
    "        param_grid=parameters,\n",
    "        scoring='roc_auc',\n",
    "        cv=5,\n",
    "        refit=True,\n",
    "        verbose=0\n",
    "    )\n",
    "    cbc_gs.fit(train_X, train_y)\n",
    "    dump(cbc_gs, 'model_cbc')\n",
    "    print('Модель обучена и сохранена в файл ./model_cbc')"
   ]
  },
  {
   "cell_type": "markdown",
   "metadata": {},
   "source": [
    "ROC AUC лучшей модели классификатора на основе случайного решающего леса на валидационной выборке."
   ]
  },
  {
   "cell_type": "code",
   "execution_count": 115,
   "metadata": {
    "ExecuteTime": {
     "end_time": "2021-12-21T18:26:37.970758Z",
     "start_time": "2021-12-21T18:26:37.955913Z"
    }
   },
   "outputs": [
    {
     "data": {
      "text/plain": [
       "0.9647510967100426"
      ]
     },
     "execution_count": 115,
     "metadata": {},
     "output_type": "execute_result"
    }
   ],
   "source": [
    "cbc_gs.best_score_"
   ]
  },
  {
   "cell_type": "markdown",
   "metadata": {},
   "source": [
    "Гиперпараметры лучшей модели."
   ]
  },
  {
   "cell_type": "code",
   "execution_count": 116,
   "metadata": {
    "ExecuteTime": {
     "end_time": "2021-12-21T18:26:37.986591Z",
     "start_time": "2021-12-21T18:26:37.972688Z"
    }
   },
   "outputs": [
    {
     "data": {
      "text/plain": [
       "{'l2_leaf_reg': 3,\n",
       " 'learning_rate': 1,\n",
       " 'max_depth': 3,\n",
       " 'n_estimators': 200,\n",
       " 'num_leaves': 31}"
      ]
     },
     "execution_count": 116,
     "metadata": {},
     "output_type": "execute_result"
    }
   ],
   "source": [
    "cbc_gs.best_params_"
   ]
  },
  {
   "cell_type": "markdown",
   "metadata": {
    "ExecuteTime": {
     "end_time": "2021-12-19T11:49:04.891814Z",
     "start_time": "2021-12-19T11:49:04.884675Z"
    }
   },
   "source": [
    "Значение метрики Accuracy на тестовой выборке."
   ]
  },
  {
   "cell_type": "code",
   "execution_count": 117,
   "metadata": {
    "ExecuteTime": {
     "end_time": "2021-12-21T18:26:38.001743Z",
     "start_time": "2021-12-21T18:26:37.988492Z"
    },
    "scrolled": true
   },
   "outputs": [
    {
     "data": {
      "text/plain": [
       "0.8545067423704755"
      ]
     },
     "execution_count": 117,
     "metadata": {},
     "output_type": "execute_result"
    }
   ],
   "source": [
    "cbc_accuracy = accuracy_score(test_y, cbc_gs.predict(test_X))\n",
    "cbc_accuracy"
   ]
  },
  {
   "cell_type": "markdown",
   "metadata": {
    "ExecuteTime": {
     "end_time": "2021-12-19T11:33:34.954543Z",
     "start_time": "2021-12-19T11:33:34.942645Z"
    }
   },
   "source": [
    "Значение метрики ROC AUC на тестовой выборке."
   ]
  },
  {
   "cell_type": "code",
   "execution_count": 118,
   "metadata": {
    "ExecuteTime": {
     "end_time": "2021-12-21T18:26:38.035164Z",
     "start_time": "2021-12-21T18:26:38.002638Z"
    }
   },
   "outputs": [
    {
     "data": {
      "text/plain": [
       "0.9143581730153445"
      ]
     },
     "execution_count": 118,
     "metadata": {},
     "output_type": "execute_result"
    }
   ],
   "source": [
    "y_pred_prob = cbc_gs.predict_proba(test_X)[:, 1]\n",
    "cbc_roc_auc = roc_auc_score(test_y, y_pred_prob)\n",
    "cbc_roc_auc"
   ]
  },
  {
   "cell_type": "code",
   "execution_count": 119,
   "metadata": {
    "ExecuteTime": {
     "end_time": "2021-12-21T18:26:38.194428Z",
     "start_time": "2021-12-21T18:26:38.037020Z"
    }
   },
   "outputs": [
    {
     "data": {
      "image/png": "[encoded data removed]",
      "text/plain": [
       "<Figure size 432x432 with 1 Axes>"
      ]
     },
     "metadata": {},
     "output_type": "display_data"
    }
   ],
   "source": [
    "fpr, tpr, _ = roc_curve(test_y, y_pred_prob)\n",
    "\n",
    "plt.figure(figsize=(6, 6))\n",
    "plt.plot(fpr, tpr, label='auc=' + str(round(cbc_roc_auc, 2)))\n",
    "plt.plot([0, 1], [0, 1], color='orange', linestyle='--')\n",
    "plt.xlabel('False Positive Rate')\n",
    "plt.ylabel('True Positive Rate')\n",
    "plt.title('CatBoostClassifier Receiver Operating Characteristic')\n",
    "plt.legend(loc='lower right')\n",
    "plt.show()"
   ]
  },
  {
   "cell_type": "markdown",
   "metadata": {},
   "source": [
    "Оценка важности признаков лучшей моделью CatBoostClassifier в порядке убывания."
   ]
  },
  {
   "cell_type": "code",
   "execution_count": 120,
   "metadata": {
    "ExecuteTime": {
     "end_time": "2021-12-21T18:26:38.209744Z",
     "start_time": "2021-12-21T18:26:38.195422Z"
    }
   },
   "outputs": [
    {
     "data": {
      "text/plain": [
       "LTV                     61.221675\n",
       "MonthlyCharges          12.735841\n",
       "TotalCharges            10.387000\n",
       "Type                     6.951193\n",
       "PaymentMethod            1.710528\n",
       "StreamingMovies_Yes      0.851920\n",
       "SeniorCitizen_1          0.828482\n",
       "MultipleLines            0.795537\n",
       "OnlineSecurity_Yes       0.692515\n",
       "Dependents_Yes           0.685369\n",
       "PaperlessBilling_Yes     0.680052\n",
       "OnlineBackup_Yes         0.469310\n",
       "TechSupport_Yes          0.456509\n",
       "InternetService          0.456459\n",
       "gender_Male              0.380872\n",
       "Partner_Yes              0.239437\n",
       "StreamingTV_Yes          0.237347\n",
       "DeviceProtection_Yes     0.219957\n",
       "dtype: float64"
      ]
     },
     "execution_count": 120,
     "metadata": {},
     "output_type": "execute_result"
    }
   ],
   "source": [
    "cbc_fi = pd.Series(cbc_gs.best_estimator_.feature_importances_, index=train_X.columns).sort_values(ascending=False)\n",
    "cbc_fi"
   ]
  },
  {
   "cell_type": "code",
   "execution_count": 121,
   "metadata": {
    "ExecuteTime": {
     "end_time": "2021-12-21T18:26:38.444513Z",
     "start_time": "2021-12-21T18:26:38.210743Z"
    }
   },
   "outputs": [
    {
     "data": {
      "image/png": "[encoded data removed]",
      "text/plain": [
       "<Figure size 1152x576 with 1 Axes>"
      ]
     },
     "metadata": {},
     "output_type": "display_data"
    }
   ],
   "source": [
    "ax = cbc_fi.plot.barh(figsize=(16, 8))\n",
    "ax.set(xlabel='Оценка', ylabel='Признаки', title='Оценка важности признаков лучшей моделью CatBoostClassifier')\n",
    "ax.invert_yaxis()"
   ]
  },
  {
   "cell_type": "markdown",
   "metadata": {},
   "source": [
    "Лучшая модель CatBoostClassifier выделяет четыре самых важных признака: время жизни клиента *LTV*, размер ежемесячных *MonthlyCharges* и суммарных *TotalCharges* трат и тип платежа *Type*. При этом *LTV* лидирует с огромным отрывом.\n",
    "\n",
    "Важность остальных признаков на фоне первых четырех незначительна."
   ]
  },
  {
   "cell_type": "markdown",
   "metadata": {},
   "source": [
    "### 4.5 DummyClassifier (Scikit Learn) <a id=\"4_5\"></a>"
   ]
  },
  {
   "cell_type": "markdown",
   "metadata": {},
   "source": [
    "Обучим примитивный классификатор со стратегией \"самый часто встречающийся класс\"."
   ]
  },
  {
   "cell_type": "code",
   "execution_count": 122,
   "metadata": {
    "ExecuteTime": {
     "end_time": "2021-12-21T18:26:38.459960Z",
     "start_time": "2021-12-21T18:26:38.445500Z"
    }
   },
   "outputs": [
    {
     "data": {
      "text/plain": [
       "DummyClassifier(strategy='most_frequent')"
      ]
     },
     "execution_count": 122,
     "metadata": {},
     "output_type": "execute_result"
    }
   ],
   "source": [
    "dc = DummyClassifier(strategy=\"most_frequent\")\n",
    "dc.fit(train_X, train_y)"
   ]
  },
  {
   "cell_type": "markdown",
   "metadata": {
    "ExecuteTime": {
     "end_time": "2021-12-19T18:12:49.134179Z",
     "start_time": "2021-12-19T18:12:49.124504Z"
    }
   },
   "source": [
    "Значение метрики ROC AUC на тестовой выборке."
   ]
  },
  {
   "cell_type": "code",
   "execution_count": 123,
   "metadata": {
    "ExecuteTime": {
     "end_time": "2021-12-21T18:26:38.475521Z",
     "start_time": "2021-12-21T18:26:38.461850Z"
    }
   },
   "outputs": [
    {
     "data": {
      "text/plain": [
       "0.5"
      ]
     },
     "execution_count": 123,
     "metadata": {},
     "output_type": "execute_result"
    }
   ],
   "source": [
    "y_pred_prob = dc.predict_proba(test_X)[:, 1]\n",
    "dc_roc_auc = roc_auc_score(test_y, y_pred_prob)\n",
    "dc_roc_auc"
   ]
  },
  {
   "cell_type": "markdown",
   "metadata": {
    "ExecuteTime": {
     "end_time": "2021-12-19T18:10:57.129061Z",
     "start_time": "2021-12-19T18:10:57.112460Z"
    }
   },
   "source": [
    "Логично. :)\n",
    "\n",
    "Значение метрики Accuracy на тестовой выборке."
   ]
  },
  {
   "cell_type": "code",
   "execution_count": 124,
   "metadata": {
    "ExecuteTime": {
     "end_time": "2021-12-21T18:26:38.491113Z",
     "start_time": "2021-12-21T18:26:38.477485Z"
    }
   },
   "outputs": [
    {
     "data": {
      "text/plain": [
       "0.7310149041873669"
      ]
     },
     "execution_count": 124,
     "metadata": {},
     "output_type": "execute_result"
    }
   ],
   "source": [
    "dc_accuracy = accuracy_score(test_y, dc.predict(test_X))\n",
    "dc_accuracy"
   ]
  },
  {
   "cell_type": "markdown",
   "metadata": {},
   "source": [
    "### 4.6 Сравнение и выбор лучшей модели <a id=\"4_6\"></a>"
   ]
  },
  {
   "cell_type": "markdown",
   "metadata": {},
   "source": [
    "Сведем полученные данные в таблицу для сравнения эффективности моделей."
   ]
  },
  {
   "cell_type": "code",
   "execution_count": 125,
   "metadata": {
    "ExecuteTime": {
     "end_time": "2021-12-21T18:26:38.615973Z",
     "start_time": "2021-12-21T18:26:38.493083Z"
    }
   },
   "outputs": [
    {
     "data": {
      "text/html": [
       "<div>\n",
       "<style scoped>\n",
       "    .dataframe tbody tr th:only-of-type {\n",
       "        vertical-align: middle;\n",
       "    }\n",
       "\n",
       "    .dataframe tbody tr th {\n",
       "        vertical-align: top;\n",
       "    }\n",
       "\n",
       "    .dataframe thead th {\n",
       "        text-align: right;\n",
       "    }\n",
       "</style>\n",
       "<table border=\"1\" class=\"dataframe\">\n",
       "  <thead>\n",
       "    <tr style=\"text-align: right;\">\n",
       "      <th></th>\n",
       "      <th>ROC AUC на тесте</th>\n",
       "      <th>Accuracy на тесте</th>\n",
       "      <th>Important feature №1</th>\n",
       "      <th>Important feature №2</th>\n",
       "      <th>Important feature №3</th>\n",
       "      <th>Important feature №4</th>\n",
       "      <th>Important feature №5</th>\n",
       "    </tr>\n",
       "  </thead>\n",
       "  <tbody>\n",
       "    <tr>\n",
       "      <th>CatBoostClassifier</th>\n",
       "      <td>0.914358</td>\n",
       "      <td>0.854507</td>\n",
       "      <td>LTV</td>\n",
       "      <td>MonthlyCharges</td>\n",
       "      <td>TotalCharges</td>\n",
       "      <td>Type</td>\n",
       "      <td>PaymentMethod</td>\n",
       "    </tr>\n",
       "    <tr>\n",
       "      <th>LGBMClassifier</th>\n",
       "      <td>0.904851</td>\n",
       "      <td>0.855926</td>\n",
       "      <td>MonthlyCharges</td>\n",
       "      <td>LTV</td>\n",
       "      <td>TotalCharges</td>\n",
       "      <td>PaymentMethod</td>\n",
       "      <td>gender_Male</td>\n",
       "    </tr>\n",
       "    <tr>\n",
       "      <th>RandomForestClassifier</th>\n",
       "      <td>0.848093</td>\n",
       "      <td>0.808375</td>\n",
       "      <td>LTV</td>\n",
       "      <td>MonthlyCharges</td>\n",
       "      <td>TotalCharges</td>\n",
       "      <td>Type</td>\n",
       "      <td>PaymentMethod</td>\n",
       "    </tr>\n",
       "    <tr>\n",
       "      <th>LogisticRegression</th>\n",
       "      <td>0.838202</td>\n",
       "      <td>0.732434</td>\n",
       "      <td>—</td>\n",
       "      <td>—</td>\n",
       "      <td>—</td>\n",
       "      <td>—</td>\n",
       "      <td>—</td>\n",
       "    </tr>\n",
       "    <tr>\n",
       "      <th>DummyClassifier</th>\n",
       "      <td>0.500000</td>\n",
       "      <td>0.731015</td>\n",
       "      <td>—</td>\n",
       "      <td>—</td>\n",
       "      <td>—</td>\n",
       "      <td>—</td>\n",
       "      <td>—</td>\n",
       "    </tr>\n",
       "  </tbody>\n",
       "</table>\n",
       "</div>"
      ],
      "text/plain": [
       "                        ROC AUC на тесте  Accuracy на тесте  \\\n",
       "CatBoostClassifier              0.914358           0.854507   \n",
       "LGBMClassifier                  0.904851           0.855926   \n",
       "RandomForestClassifier          0.848093           0.808375   \n",
       "LogisticRegression              0.838202           0.732434   \n",
       "DummyClassifier                 0.500000           0.731015   \n",
       "\n",
       "                       Important feature №1 Important feature №2  \\\n",
       "CatBoostClassifier                      LTV       MonthlyCharges   \n",
       "LGBMClassifier               MonthlyCharges                  LTV   \n",
       "RandomForestClassifier                  LTV       MonthlyCharges   \n",
       "LogisticRegression                        —                    —   \n",
       "DummyClassifier                           —                    —   \n",
       "\n",
       "                       Important feature №3 Important feature №4  \\\n",
       "CatBoostClassifier             TotalCharges                 Type   \n",
       "LGBMClassifier                 TotalCharges        PaymentMethod   \n",
       "RandomForestClassifier         TotalCharges                 Type   \n",
       "LogisticRegression                        —                    —   \n",
       "DummyClassifier                           —                    —   \n",
       "\n",
       "                       Important feature №5  \n",
       "CatBoostClassifier            PaymentMethod  \n",
       "LGBMClassifier                  gender_Male  \n",
       "RandomForestClassifier        PaymentMethod  \n",
       "LogisticRegression                        —  \n",
       "DummyClassifier                           —  "
      ]
     },
     "execution_count": 125,
     "metadata": {},
     "output_type": "execute_result"
    }
   ],
   "source": [
    "pd.DataFrame(\n",
    "    [\n",
    "        [rfc_roc_auc, rfc_accuracy] + list(rfc_fi.index[0:5]),\n",
    "        [lr_roc_auc, lr_accuracy] + ['—']*5,\n",
    "        [lgbmc_roc_auc, lgbmc_accuracy] + list(lgbmc_fi.index[0:5]),\n",
    "        [cbc_roc_auc, cbc_accuracy] + list(cbc_fi.index[0:5]),\n",
    "        [dc_roc_auc, dc_accuracy] + ['—']*5,\n",
    "    ],\n",
    "    index=[\n",
    "        'RandomForestClassifier',\n",
    "        'LogisticRegression',\n",
    "        'LGBMClassifier',\n",
    "        'CatBoostClassifier',\n",
    "        'DummyClassifier'\n",
    "    ],\n",
    "    columns=[\n",
    "        'ROC AUC на тесте',\n",
    "        'Accuracy на тесте',\n",
    "        'Important feature №1',\n",
    "        'Important feature №2',\n",
    "        'Important feature №3',\n",
    "        'Important feature №4',\n",
    "        'Important feature №5'\n",
    "    ]\n",
    ").sort_values(by='ROC AUC на тесте', ascending=False)"
   ]
  },
  {
   "cell_type": "markdown",
   "metadata": {},
   "source": [
    "## 5 Вывод <a id=\"5\"></a>"
   ]
  },
  {
   "cell_type": "markdown",
   "metadata": {},
   "source": [
    "Был проведен сравнительный анализ эффективности моделей машинного обучения для прогнозирования оттока клиентов оператора связи «Ниединогоразрыва.ком».\n",
    "\n",
    "Обучение моделей проводилось на данных, собранных в период с 2013-10-01 по 2020-02-01 и представленных в виде таблиц **contract**, **persoal**, **internet** и **phone**.\n",
    "\n",
    "Данные были загружены и предобработаны. На этапе предобработки были добавлены признаки \"время жизни клиента\" *LTV*, вычисленный на основе признаков *EndDate* и *BeginDate*, и целевой признак \"расторжение контракта\" *Termination*, вычисленный на основе признака *EndDate*. Признаки *BeginDate* и *EndDate* были удалены из набора данных.\n",
    "\n",
    "Предобработанные данные были объединены в таблицу **data**, после чего категориальные признаки были закодированы: если  признак содержал две категории, использовалось прямое кодирование (One-Hot Encoding, унитарный код), если больше &mdash; ранговое.\n",
    "\n",
    "Из закодированных данных были сформированы обучающая и тестовая выборки в соотношении 4:1.\n",
    "\n",
    "Количественные признаки обучающей и тестовой выборок были масштабированы с помощью преобразователя масштаба, обученного на обучающей выборке.\n",
    "\n",
    "Также количественные признаки были проверены на мультиколлинеарность: значений каждой пары признаков были отображены на диаграмме рассеяния. Также для каждой пары количественных признаков был вычислен линейный коэффициент корреляции Пирсона. Для их визуализации использовалась тепловая карта. Критически выскокой корреляции между собой и с целевым признаком обнаружено небыло.\n",
    "\n",
    "Также был проведен анализ дисбаланса классов в обучающей выборке. Отрицательный класс имел заметный перевес. Примерно 3:1. Балансировка была достигнута увеличением количества объектов меньшего положительного класса (upsampling).\n",
    "\n",
    "Для бинарной классификации были выбраны следующие распространенные модели:\n",
    "- случайный решающий лес RandomForestClassifier библиотеки Scikit Learn;\n",
    "- логистическая регрессия LogisticRegression библиотеки Scikit Learn;\n",
    "- случайный решающий лес LGBMClassifier библиотеки LightGBM;\n",
    "- случайный решающий лес CatBoostClassifier библиотеки CatBoost.\n",
    "\n",
    "Обучение осуществлялось для разных комбинаций гиперпараметров, использовалась кросс-валидация 4:1, при обучении оценка качества проводилась с помощью метрики ROC AUC. Каждая модель с лучшими гиперпараметрами проверялась на тестовой выборке, для чего вычислялись значения метрик ROC AUC и Accuracy. Для \"деревянных\" моделей выводился список признаков, ранжированный по оценке важности.\n",
    "\n",
    "Обученные модели сравнивались между собой и с примитивным классификатором DummyClassifier, использующим стратегию \"самый часто встречающийся класс\".\n",
    "\n",
    "Все модели оказались гораздо эффективней примитивного классификатора. В порядке уменьшения значения ROC AUC на тестовых данных:\n",
    "\n",
    "| Model | ROC AUC | Accurace |\n",
    "| --- | ----------- | ----------- |\n",
    "| CatBoostClassifier | 0.914358 | 0.854507 |\n",
    "| LGBMClassifier | 0.904851 | 0.855926 |\n",
    "| RandomForestClassifier | 0.848093 | 0.808375 |\n",
    "| LogisticRegression | 0.838202 | 0.732434 |\n",
    "| DummyClassifier | 0.500000 | 0.731015 |\n",
    "\n",
    "Модель CatBoostClassifier показала наивысшую эффективность, достигнув значения ROC AUC 0.91."
   ]
  },
  {
   "cell_type": "markdown",
   "metadata": {},
   "source": [
    "## 6 Чек-лист готовности проекта <a id=\"6\"></a>"
   ]
  },
  {
   "cell_type": "markdown",
   "metadata": {
    "ExecuteTime": {
     "end_time": "2021-12-16T01:04:32.643987Z",
     "start_time": "2021-12-16T01:04:32.624497Z"
    }
   },
   "source": [
    "- [x] Выполнена загрузка и подготовка данных\n",
    "- [x] Выполнено обучение моделей и сравнение их эффективности\n",
    "- [x] Выбрана лучшая модель\n",
    "- [x] Написан вывод"
   ]
  },
  {
   "cell_type": "markdown",
   "metadata": {},
   "source": [
    "## 7 Отчет<a id=\"7\"></a>"
   ]
  },
  {
   "cell_type": "markdown",
   "metadata": {},
   "source": [
    "Какие пункты плана были выполнены, а какие — нет:\n",
    "- удален пункт обучения и тестирования модели RidgeClassifier библиотеки Scikit Learn. Рассматривал RidgeClassifier, т.к. хотел попробовать разные виды регуляризации (L1, L2, elasticnet), но из документации оказалось, что модель LogisticRegression библиотеки Scikit Learn их все поддерживает. Поэтому решил остановиться на LogisticRegression;\n",
    "- удален пункт \"Тестирование лучшей модели\". В нем я хотел переобучить модель на полной тренировочной выборке, но позже уточнил в документации, что при выставлении в методе GridSearchCV() библиотеки Scikit Learn флага refit в True для лучшей модели это происходит автоматически;\n",
    "- некоторые пункты 3.x изменили порядок. Это связано с оптимизацией вычислений.\n",
    "\n",
    "Какие трудности возникли:\n",
    "- модель сильно переобучалась на данных, содержащих месяц даты заключения договора. Логистическая регрессия даже показывала ROC AUC и Accuracy, равные 1. Удалил этот признак. Единственным признаком, косвенно содержащим информацию о времени, остался вычисленный признак \"время жизни клиента\" *LTV*. После этого модели стали показывать более естественный для непереобученных моделей результат;\n",
    "- частый перезапуск проекта с долго обучающимися моделями потребовал скопипащивания из одного из моих старых проектов функций для загрузки дампов моделей с Яндекс.Диска.\n",
    "\n",
    "Какие ключевые шаги в решении задачи:\n",
    "- предобработка и объединение данных в одну таблицу.\n",
    "\n",
    "Итоговая модель и ее качество:\n",
    "- лучший результат бинарной классификации показала модель CatBoostClassifier, она достигла ROC AUC = 0.91 и Accuracy = 0.85."
   ]
  }
 ],
 "metadata": {
  "ExecuteTimeLog": [
   {
    "duration": 128,
    "start_time": "2021-12-16T10:30:25.556Z"
   },
   {
    "duration": 1248,
    "start_time": "2021-12-20T09:07:46.791Z"
   },
   {
    "duration": 9,
    "start_time": "2021-12-20T09:07:49.867Z"
   },
   {
    "duration": 89,
    "start_time": "2021-12-20T09:07:51.748Z"
   },
   {
    "duration": 13,
    "start_time": "2021-12-20T09:09:52.004Z"
   },
   {
    "duration": 8,
    "start_time": "2021-12-20T09:09:53.237Z"
   },
   {
    "duration": 9,
    "start_time": "2021-12-20T09:09:53.776Z"
   },
   {
    "duration": 6,
    "start_time": "2021-12-20T09:09:54.208Z"
   },
   {
    "duration": 18,
    "start_time": "2021-12-20T09:09:55.301Z"
   },
   {
    "duration": 12,
    "start_time": "2021-12-20T09:09:55.871Z"
   },
   {
    "duration": 12,
    "start_time": "2021-12-20T09:09:56.658Z"
   },
   {
    "duration": 10,
    "start_time": "2021-12-20T09:09:57.356Z"
   },
   {
    "duration": 4,
    "start_time": "2021-12-20T09:09:59.639Z"
   },
   {
    "duration": 4,
    "start_time": "2021-12-20T09:09:59.840Z"
   },
   {
    "duration": 4,
    "start_time": "2021-12-20T09:09:59.979Z"
   },
   {
    "duration": 4,
    "start_time": "2021-12-20T09:10:00.139Z"
   },
   {
    "duration": 6,
    "start_time": "2021-12-20T09:10:01.024Z"
   },
   {
    "duration": 7,
    "start_time": "2021-12-20T09:10:11.097Z"
   },
   {
    "duration": 6,
    "start_time": "2021-12-20T09:10:12.017Z"
   },
   {
    "duration": 6,
    "start_time": "2021-12-20T09:10:12.233Z"
   },
   {
    "duration": 7,
    "start_time": "2021-12-20T09:10:12.767Z"
   },
   {
    "duration": 7,
    "start_time": "2021-12-20T09:11:05.196Z"
   },
   {
    "duration": 11,
    "start_time": "2021-12-20T09:11:07.917Z"
   },
   {
    "duration": 6,
    "start_time": "2021-12-20T09:11:11.078Z"
   },
   {
    "duration": 5,
    "start_time": "2021-12-20T09:11:11.296Z"
   },
   {
    "duration": 6,
    "start_time": "2021-12-20T09:11:13.077Z"
   },
   {
    "duration": 8,
    "start_time": "2021-12-20T09:11:18.339Z"
   },
   {
    "duration": 311,
    "start_time": "2021-12-20T09:11:18.551Z"
   },
   {
    "duration": 15,
    "start_time": "2021-12-20T09:11:20.187Z"
   },
   {
    "duration": 10,
    "start_time": "2021-12-20T09:11:21.466Z"
   },
   {
    "duration": 12,
    "start_time": "2021-12-20T09:11:26.593Z"
   },
   {
    "duration": 277,
    "start_time": "2021-12-20T09:11:27.278Z"
   },
   {
    "duration": 4,
    "start_time": "2021-12-20T09:11:28.548Z"
   },
   {
    "duration": 14,
    "start_time": "2021-12-20T09:11:28.954Z"
   },
   {
    "duration": 4,
    "start_time": "2021-12-20T09:11:29.322Z"
   },
   {
    "duration": 4,
    "start_time": "2021-12-20T09:11:29.761Z"
   },
   {
    "duration": 6,
    "start_time": "2021-12-20T09:11:30.170Z"
   },
   {
    "duration": 14,
    "start_time": "2021-12-20T09:11:30.490Z"
   },
   {
    "duration": 11,
    "start_time": "2021-12-20T09:11:31.029Z"
   },
   {
    "duration": 14,
    "start_time": "2021-12-20T09:11:31.579Z"
   },
   {
    "duration": 11,
    "start_time": "2021-12-20T09:11:32.059Z"
   },
   {
    "duration": 285,
    "start_time": "2021-12-20T09:11:32.209Z"
   },
   {
    "duration": 3,
    "start_time": "2021-12-20T09:11:32.545Z"
   },
   {
    "duration": 8,
    "start_time": "2021-12-20T09:11:34.449Z"
   },
   {
    "duration": 20,
    "start_time": "2021-12-20T09:11:34.458Z"
   },
   {
    "duration": 12,
    "start_time": "2021-12-20T09:11:34.480Z"
   },
   {
    "duration": 15,
    "start_time": "2021-12-20T09:11:34.495Z"
   },
   {
    "duration": 214,
    "start_time": "2021-12-20T09:11:34.556Z"
   },
   {
    "duration": 11,
    "start_time": "2021-12-20T09:11:35.223Z"
   },
   {
    "duration": 8,
    "start_time": "2021-12-20T09:11:35.611Z"
   },
   {
    "duration": 11,
    "start_time": "2021-12-20T09:11:36.144Z"
   },
   {
    "duration": 11,
    "start_time": "2021-12-20T09:11:36.512Z"
   },
   {
    "duration": 11,
    "start_time": "2021-12-20T09:11:36.882Z"
   },
   {
    "duration": 10,
    "start_time": "2021-12-20T09:11:37.232Z"
   },
   {
    "duration": 7,
    "start_time": "2021-12-20T09:11:37.574Z"
   },
   {
    "duration": 15,
    "start_time": "2021-12-20T09:11:37.906Z"
   },
   {
    "duration": 12,
    "start_time": "2021-12-20T09:11:38.485Z"
   },
   {
    "duration": 12,
    "start_time": "2021-12-20T09:11:38.701Z"
   },
   {
    "duration": 10,
    "start_time": "2021-12-20T09:11:38.858Z"
   },
   {
    "duration": 9,
    "start_time": "2021-12-20T09:11:39.056Z"
   },
   {
    "duration": 10,
    "start_time": "2021-12-20T09:11:39.358Z"
   },
   {
    "duration": 9,
    "start_time": "2021-12-20T09:11:39.568Z"
   },
   {
    "duration": 10,
    "start_time": "2021-12-20T09:11:39.708Z"
   },
   {
    "duration": 7,
    "start_time": "2021-12-20T09:11:40.490Z"
   },
   {
    "duration": 11,
    "start_time": "2021-12-20T09:11:40.816Z"
   },
   {
    "duration": 7,
    "start_time": "2021-12-20T09:15:19.159Z"
   },
   {
    "duration": 12,
    "start_time": "2021-12-20T09:15:20.496Z"
   },
   {
    "duration": 8,
    "start_time": "2021-12-20T09:15:21.212Z"
   },
   {
    "duration": 8,
    "start_time": "2021-12-20T09:15:22.246Z"
   },
   {
    "duration": 21,
    "start_time": "2021-12-20T09:15:32.184Z"
   },
   {
    "duration": 3,
    "start_time": "2021-12-20T09:15:58.318Z"
   },
   {
    "duration": 23,
    "start_time": "2021-12-20T09:16:01.588Z"
   },
   {
    "duration": 19,
    "start_time": "2021-12-20T09:16:02.114Z"
   },
   {
    "duration": 15,
    "start_time": "2021-12-20T09:16:02.741Z"
   },
   {
    "duration": 6,
    "start_time": "2021-12-20T09:16:03.784Z"
   },
   {
    "duration": 3,
    "start_time": "2021-12-20T09:33:15.175Z"
   },
   {
    "duration": 415,
    "start_time": "2021-12-20T09:33:19.663Z"
   },
   {
    "duration": 8,
    "start_time": "2021-12-20T09:33:30.685Z"
   },
   {
    "duration": 16,
    "start_time": "2021-12-20T09:33:37.623Z"
   },
   {
    "duration": 15,
    "start_time": "2021-12-20T09:33:38.712Z"
   },
   {
    "duration": 13,
    "start_time": "2021-12-20T09:33:38.936Z"
   },
   {
    "duration": 10,
    "start_time": "2021-12-20T09:33:49.590Z"
   },
   {
    "duration": 10,
    "start_time": "2021-12-20T09:33:50.637Z"
   },
   {
    "duration": 4,
    "start_time": "2021-12-20T09:33:51.414Z"
   },
   {
    "duration": 12,
    "start_time": "2021-12-20T09:33:54.756Z"
   },
   {
    "duration": 9,
    "start_time": "2021-12-20T09:33:55.212Z"
   },
   {
    "duration": 3,
    "start_time": "2021-12-20T09:33:55.759Z"
   },
   {
    "duration": 6,
    "start_time": "2021-12-20T09:34:58.835Z"
   },
   {
    "duration": 20,
    "start_time": "2021-12-20T09:35:30.850Z"
   },
   {
    "duration": 2045,
    "start_time": "2021-12-21T08:42:04.853Z"
   },
   {
    "duration": 18,
    "start_time": "2021-12-21T08:42:06.903Z"
   },
   {
    "duration": 119,
    "start_time": "2021-12-21T08:42:06.924Z"
   },
   {
    "duration": 27,
    "start_time": "2021-12-21T08:42:08.592Z"
   },
   {
    "duration": 13,
    "start_time": "2021-12-21T08:42:08.950Z"
   },
   {
    "duration": 18,
    "start_time": "2021-12-21T08:42:09.264Z"
   },
   {
    "duration": 12,
    "start_time": "2021-12-21T08:42:09.598Z"
   },
   {
    "duration": 36,
    "start_time": "2021-12-21T08:42:10.016Z"
   },
   {
    "duration": 21,
    "start_time": "2021-12-21T08:42:11.697Z"
   },
   {
    "duration": 27,
    "start_time": "2021-12-21T08:42:11.959Z"
   },
   {
    "duration": 21,
    "start_time": "2021-12-21T08:42:12.188Z"
   },
   {
    "duration": 8,
    "start_time": "2021-12-21T08:42:12.543Z"
   },
   {
    "duration": 7,
    "start_time": "2021-12-21T08:42:12.744Z"
   },
   {
    "duration": 7,
    "start_time": "2021-12-21T08:42:12.969Z"
   },
   {
    "duration": 7,
    "start_time": "2021-12-21T08:42:13.197Z"
   },
   {
    "duration": 10,
    "start_time": "2021-12-21T08:42:13.540Z"
   },
   {
    "duration": 9,
    "start_time": "2021-12-21T08:42:13.939Z"
   },
   {
    "duration": 11,
    "start_time": "2021-12-21T08:42:14.093Z"
   },
   {
    "duration": 9,
    "start_time": "2021-12-21T08:42:14.452Z"
   },
   {
    "duration": 18,
    "start_time": "2021-12-21T08:42:15.375Z"
   },
   {
    "duration": 9,
    "start_time": "2021-12-21T08:42:15.772Z"
   },
   {
    "duration": 14,
    "start_time": "2021-12-21T08:42:16.123Z"
   },
   {
    "duration": 12,
    "start_time": "2021-12-21T08:42:16.868Z"
   },
   {
    "duration": 8,
    "start_time": "2021-12-21T08:42:17.277Z"
   },
   {
    "duration": 6,
    "start_time": "2021-12-21T08:42:17.653Z"
   },
   {
    "duration": 13,
    "start_time": "2021-12-21T08:42:17.999Z"
   },
   {
    "duration": 457,
    "start_time": "2021-12-21T08:42:18.158Z"
   },
   {
    "duration": 18,
    "start_time": "2021-12-21T08:42:18.618Z"
   },
   {
    "duration": 11,
    "start_time": "2021-12-21T08:42:19.029Z"
   },
   {
    "duration": 14,
    "start_time": "2021-12-21T08:42:19.774Z"
   },
   {
    "duration": 536,
    "start_time": "2021-12-21T08:42:19.986Z"
   },
   {
    "duration": 7,
    "start_time": "2021-12-21T08:42:20.525Z"
   },
   {
    "duration": 20,
    "start_time": "2021-12-21T08:42:20.801Z"
   },
   {
    "duration": 8,
    "start_time": "2021-12-21T08:42:21.418Z"
   },
   {
    "duration": 7,
    "start_time": "2021-12-21T08:42:22.178Z"
   },
   {
    "duration": 18,
    "start_time": "2021-12-21T08:42:23.517Z"
   },
   {
    "duration": 19,
    "start_time": "2021-12-21T08:42:24.087Z"
   },
   {
    "duration": 19,
    "start_time": "2021-12-21T08:42:24.452Z"
   },
   {
    "duration": 17,
    "start_time": "2021-12-21T08:42:24.962Z"
   },
   {
    "duration": 426,
    "start_time": "2021-12-21T08:42:25.117Z"
   },
   {
    "duration": 5,
    "start_time": "2021-12-21T08:42:25.581Z"
   },
   {
    "duration": 11,
    "start_time": "2021-12-21T08:42:25.918Z"
   },
   {
    "duration": 8,
    "start_time": "2021-12-21T08:42:26.232Z"
   },
   {
    "duration": 9,
    "start_time": "2021-12-21T08:42:26.550Z"
   },
   {
    "duration": 12,
    "start_time": "2021-12-21T08:42:26.731Z"
   },
   {
    "duration": 372,
    "start_time": "2021-12-21T08:42:26.873Z"
   },
   {
    "duration": 30,
    "start_time": "2021-12-21T08:42:27.248Z"
   },
   {
    "duration": 14,
    "start_time": "2021-12-21T08:42:27.564Z"
   },
   {
    "duration": 17,
    "start_time": "2021-12-21T08:42:28.708Z"
   },
   {
    "duration": 20,
    "start_time": "2021-12-21T08:42:29.063Z"
   },
   {
    "duration": 18,
    "start_time": "2021-12-21T08:42:29.536Z"
   },
   {
    "duration": 21,
    "start_time": "2021-12-21T08:42:29.873Z"
   },
   {
    "duration": 13,
    "start_time": "2021-12-21T08:42:30.236Z"
   },
   {
    "duration": 15,
    "start_time": "2021-12-21T08:42:30.891Z"
   },
   {
    "duration": 17,
    "start_time": "2021-12-21T08:42:31.250Z"
   },
   {
    "duration": 17,
    "start_time": "2021-12-21T08:42:31.426Z"
   },
   {
    "duration": 16,
    "start_time": "2021-12-21T08:42:31.634Z"
   },
   {
    "duration": 17,
    "start_time": "2021-12-21T08:42:31.787Z"
   },
   {
    "duration": 22,
    "start_time": "2021-12-21T08:42:31.938Z"
   },
   {
    "duration": 22,
    "start_time": "2021-12-21T08:42:32.161Z"
   },
   {
    "duration": 19,
    "start_time": "2021-12-21T08:42:32.327Z"
   },
   {
    "duration": 12,
    "start_time": "2021-12-21T08:42:32.848Z"
   },
   {
    "duration": 16,
    "start_time": "2021-12-21T08:42:33.183Z"
   },
   {
    "duration": 11,
    "start_time": "2021-12-21T08:42:34.075Z"
   },
   {
    "duration": 18,
    "start_time": "2021-12-21T08:42:34.438Z"
   },
   {
    "duration": 11,
    "start_time": "2021-12-21T08:42:34.805Z"
   },
   {
    "duration": 16,
    "start_time": "2021-12-21T08:42:35.001Z"
   },
   {
    "duration": 27,
    "start_time": "2021-12-21T08:42:35.273Z"
   },
   {
    "duration": 5,
    "start_time": "2021-12-21T08:42:35.994Z"
   },
   {
    "duration": 31,
    "start_time": "2021-12-21T08:42:36.323Z"
   },
   {
    "duration": 27,
    "start_time": "2021-12-21T08:42:36.685Z"
   },
   {
    "duration": 26,
    "start_time": "2021-12-21T08:42:37.049Z"
   },
   {
    "duration": 14,
    "start_time": "2021-12-21T08:42:37.261Z"
   },
   {
    "duration": 15,
    "start_time": "2021-12-21T08:42:38.192Z"
   },
   {
    "duration": 29,
    "start_time": "2021-12-21T08:42:38.924Z"
   },
   {
    "duration": 33,
    "start_time": "2021-12-21T08:42:39.262Z"
   },
   {
    "duration": 27,
    "start_time": "2021-12-21T08:42:39.464Z"
   },
   {
    "duration": 3972,
    "start_time": "2021-12-21T08:42:40.440Z"
   },
   {
    "duration": 17,
    "start_time": "2021-12-21T08:42:44.415Z"
   },
   {
    "duration": 1313,
    "start_time": "2021-12-21T08:42:44.435Z"
   },
   {
    "duration": -247,
    "start_time": "2021-12-21T08:42:45.998Z"
   },
   {
    "duration": 16,
    "start_time": "2021-12-21T08:42:45.913Z"
   },
   {
    "duration": 27,
    "start_time": "2021-12-21T08:43:06.569Z"
   },
   {
    "duration": 18,
    "start_time": "2021-12-21T08:43:07.686Z"
   },
   {
    "duration": 5,
    "start_time": "2021-12-21T08:43:11.238Z"
   },
   {
    "duration": 19,
    "start_time": "2021-12-21T08:43:11.846Z"
   },
   {
    "duration": 17,
    "start_time": "2021-12-21T08:43:12.221Z"
   },
   {
    "duration": 6,
    "start_time": "2021-12-21T08:43:12.581Z"
   },
   {
    "duration": 4108,
    "start_time": "2021-12-21T08:43:16.813Z"
   },
   {
    "duration": 2713,
    "start_time": "2021-12-21T08:43:32.318Z"
   },
   {
    "duration": 135,
    "start_time": "2021-12-21T08:46:20.715Z"
   },
   {
    "duration": 1256,
    "start_time": "2021-12-21T08:46:39.251Z"
   },
   {
    "duration": 366,
    "start_time": "2021-12-21T08:46:53.278Z"
   },
   {
    "duration": 345,
    "start_time": "2021-12-21T08:47:10.310Z"
   },
   {
    "duration": 417,
    "start_time": "2021-12-21T08:47:26.606Z"
   },
   {
    "duration": 24,
    "start_time": "2021-12-21T08:48:21.576Z"
   },
   {
    "duration": 159,
    "start_time": "2021-12-21T09:16:19.041Z"
   },
   {
    "duration": 108,
    "start_time": "2021-12-21T09:17:16.798Z"
   },
   {
    "duration": 6,
    "start_time": "2021-12-21T09:17:22.802Z"
   },
   {
    "duration": 635,
    "start_time": "2021-12-21T09:17:24.890Z"
   },
   {
    "duration": 1731,
    "start_time": "2021-12-21T10:40:28.965Z"
   },
   {
    "duration": 22,
    "start_time": "2021-12-21T10:40:30.698Z"
   },
   {
    "duration": 112,
    "start_time": "2021-12-21T10:40:30.724Z"
   },
   {
    "duration": 21,
    "start_time": "2021-12-21T10:40:30.839Z"
   },
   {
    "duration": 15,
    "start_time": "2021-12-21T10:40:30.862Z"
   },
   {
    "duration": 40,
    "start_time": "2021-12-21T10:40:30.879Z"
   },
   {
    "duration": 11,
    "start_time": "2021-12-21T10:40:30.922Z"
   },
   {
    "duration": 29,
    "start_time": "2021-12-21T10:40:30.937Z"
   },
   {
    "duration": 50,
    "start_time": "2021-12-21T10:40:30.969Z"
   },
   {
    "duration": 21,
    "start_time": "2021-12-21T10:40:31.021Z"
   },
   {
    "duration": 21,
    "start_time": "2021-12-21T10:40:31.045Z"
   },
   {
    "duration": 12,
    "start_time": "2021-12-21T10:40:31.068Z"
   },
   {
    "duration": 36,
    "start_time": "2021-12-21T10:40:31.083Z"
   },
   {
    "duration": 13,
    "start_time": "2021-12-21T10:40:31.121Z"
   },
   {
    "duration": 18,
    "start_time": "2021-12-21T10:40:31.137Z"
   },
   {
    "duration": 16,
    "start_time": "2021-12-21T10:40:31.157Z"
   },
   {
    "duration": 15,
    "start_time": "2021-12-21T10:40:31.176Z"
   },
   {
    "duration": 30,
    "start_time": "2021-12-21T10:40:31.194Z"
   },
   {
    "duration": 18,
    "start_time": "2021-12-21T10:40:31.226Z"
   },
   {
    "duration": 19,
    "start_time": "2021-12-21T10:40:31.246Z"
   },
   {
    "duration": 13,
    "start_time": "2021-12-21T10:40:31.267Z"
   },
   {
    "duration": 42,
    "start_time": "2021-12-21T10:40:31.282Z"
   },
   {
    "duration": 8,
    "start_time": "2021-12-21T10:40:31.331Z"
   },
   {
    "duration": 7,
    "start_time": "2021-12-21T10:40:31.344Z"
   },
   {
    "duration": 26,
    "start_time": "2021-12-21T10:40:31.353Z"
   },
   {
    "duration": 35,
    "start_time": "2021-12-21T10:40:31.381Z"
   },
   {
    "duration": 401,
    "start_time": "2021-12-21T10:40:31.418Z"
   },
   {
    "duration": 17,
    "start_time": "2021-12-21T10:40:31.822Z"
   },
   {
    "duration": 13,
    "start_time": "2021-12-21T10:40:31.841Z"
   },
   {
    "duration": 10,
    "start_time": "2021-12-21T10:40:31.856Z"
   },
   {
    "duration": 472,
    "start_time": "2021-12-21T10:40:31.868Z"
   },
   {
    "duration": 7,
    "start_time": "2021-12-21T10:40:32.342Z"
   },
   {
    "duration": 19,
    "start_time": "2021-12-21T10:40:32.351Z"
   },
   {
    "duration": 6,
    "start_time": "2021-12-21T10:40:32.373Z"
   },
   {
    "duration": 36,
    "start_time": "2021-12-21T10:40:32.381Z"
   },
   {
    "duration": 15,
    "start_time": "2021-12-21T10:40:32.420Z"
   },
   {
    "duration": 14,
    "start_time": "2021-12-21T10:40:32.438Z"
   },
   {
    "duration": 18,
    "start_time": "2021-12-21T10:40:32.455Z"
   },
   {
    "duration": 51,
    "start_time": "2021-12-21T10:40:32.476Z"
   },
   {
    "duration": 474,
    "start_time": "2021-12-21T10:40:32.530Z"
   },
   {
    "duration": 11,
    "start_time": "2021-12-21T10:40:33.006Z"
   },
   {
    "duration": 10,
    "start_time": "2021-12-21T10:40:33.020Z"
   },
   {
    "duration": 7,
    "start_time": "2021-12-21T10:40:33.033Z"
   },
   {
    "duration": 18,
    "start_time": "2021-12-21T10:40:33.042Z"
   },
   {
    "duration": 16,
    "start_time": "2021-12-21T10:40:33.063Z"
   },
   {
    "duration": 378,
    "start_time": "2021-12-21T10:40:33.082Z"
   },
   {
    "duration": 14,
    "start_time": "2021-12-21T10:40:33.462Z"
   },
   {
    "duration": 11,
    "start_time": "2021-12-21T10:40:33.478Z"
   },
   {
    "duration": 16,
    "start_time": "2021-12-21T10:40:33.517Z"
   },
   {
    "duration": 19,
    "start_time": "2021-12-21T10:40:33.535Z"
   },
   {
    "duration": 15,
    "start_time": "2021-12-21T10:40:33.557Z"
   },
   {
    "duration": 44,
    "start_time": "2021-12-21T10:40:33.575Z"
   },
   {
    "duration": 11,
    "start_time": "2021-12-21T10:40:33.621Z"
   },
   {
    "duration": 13,
    "start_time": "2021-12-21T10:40:33.635Z"
   },
   {
    "duration": 15,
    "start_time": "2021-12-21T10:40:33.650Z"
   },
   {
    "duration": 56,
    "start_time": "2021-12-21T10:40:33.667Z"
   },
   {
    "duration": 14,
    "start_time": "2021-12-21T10:40:33.725Z"
   },
   {
    "duration": 14,
    "start_time": "2021-12-21T10:40:33.741Z"
   },
   {
    "duration": 14,
    "start_time": "2021-12-21T10:40:33.758Z"
   },
   {
    "duration": 50,
    "start_time": "2021-12-21T10:40:33.774Z"
   },
   {
    "duration": 15,
    "start_time": "2021-12-21T10:40:33.826Z"
   },
   {
    "duration": 9,
    "start_time": "2021-12-21T10:40:33.843Z"
   },
   {
    "duration": 17,
    "start_time": "2021-12-21T10:40:33.854Z"
   },
   {
    "duration": 47,
    "start_time": "2021-12-21T10:40:33.874Z"
   },
   {
    "duration": 16,
    "start_time": "2021-12-21T10:40:33.923Z"
   },
   {
    "duration": 11,
    "start_time": "2021-12-21T10:40:33.941Z"
   },
   {
    "duration": 14,
    "start_time": "2021-12-21T10:40:33.954Z"
   },
   {
    "duration": 52,
    "start_time": "2021-12-21T10:40:33.977Z"
   },
   {
    "duration": 5,
    "start_time": "2021-12-21T10:40:34.033Z"
   },
   {
    "duration": 34,
    "start_time": "2021-12-21T10:40:34.040Z"
   },
   {
    "duration": 54,
    "start_time": "2021-12-21T10:40:34.076Z"
   },
   {
    "duration": 21,
    "start_time": "2021-12-21T10:40:34.132Z"
   },
   {
    "duration": 8,
    "start_time": "2021-12-21T10:40:34.156Z"
   },
   {
    "duration": 12,
    "start_time": "2021-12-21T10:40:34.166Z"
   },
   {
    "duration": 54,
    "start_time": "2021-12-21T10:40:34.180Z"
   },
   {
    "duration": 21,
    "start_time": "2021-12-21T10:40:34.236Z"
   },
   {
    "duration": 22,
    "start_time": "2021-12-21T10:40:34.259Z"
   },
   {
    "duration": 3283,
    "start_time": "2021-12-21T10:40:34.283Z"
   },
   {
    "duration": 15,
    "start_time": "2021-12-21T10:40:37.568Z"
   },
   {
    "duration": 1058,
    "start_time": "2021-12-21T10:40:37.585Z"
   },
   {
    "duration": -32,
    "start_time": "2021-12-21T10:40:38.678Z"
   },
   {
    "duration": -34,
    "start_time": "2021-12-21T10:40:38.682Z"
   },
   {
    "duration": -44,
    "start_time": "2021-12-21T10:40:38.693Z"
   },
   {
    "duration": -47,
    "start_time": "2021-12-21T10:40:38.698Z"
   },
   {
    "duration": -52,
    "start_time": "2021-12-21T10:40:38.705Z"
   },
   {
    "duration": -53,
    "start_time": "2021-12-21T10:40:38.708Z"
   },
   {
    "duration": -56,
    "start_time": "2021-12-21T10:40:38.712Z"
   },
   {
    "duration": -58,
    "start_time": "2021-12-21T10:40:38.716Z"
   },
   {
    "duration": -61,
    "start_time": "2021-12-21T10:40:38.720Z"
   },
   {
    "duration": -63,
    "start_time": "2021-12-21T10:40:38.723Z"
   },
   {
    "duration": -65,
    "start_time": "2021-12-21T10:40:38.727Z"
   },
   {
    "duration": -68,
    "start_time": "2021-12-21T10:40:38.731Z"
   },
   {
    "duration": -71,
    "start_time": "2021-12-21T10:40:38.735Z"
   },
   {
    "duration": -78,
    "start_time": "2021-12-21T10:40:38.743Z"
   },
   {
    "duration": -79,
    "start_time": "2021-12-21T10:40:38.745Z"
   },
   {
    "duration": -80,
    "start_time": "2021-12-21T10:40:38.748Z"
   },
   {
    "duration": -81,
    "start_time": "2021-12-21T10:40:38.750Z"
   },
   {
    "duration": -83,
    "start_time": "2021-12-21T10:40:38.753Z"
   },
   {
    "duration": -84,
    "start_time": "2021-12-21T10:40:38.755Z"
   },
   {
    "duration": -86,
    "start_time": "2021-12-21T10:40:38.758Z"
   },
   {
    "duration": -91,
    "start_time": "2021-12-21T10:40:38.764Z"
   },
   {
    "duration": -93,
    "start_time": "2021-12-21T10:40:38.767Z"
   },
   {
    "duration": -94,
    "start_time": "2021-12-21T10:40:38.769Z"
   },
   {
    "duration": -55,
    "start_time": "2021-12-21T10:40:38.772Z"
   },
   {
    "duration": -55,
    "start_time": "2021-12-21T10:40:38.774Z"
   },
   {
    "duration": -57,
    "start_time": "2021-12-21T10:40:38.777Z"
   },
   {
    "duration": -57,
    "start_time": "2021-12-21T10:40:38.779Z"
   },
   {
    "duration": -58,
    "start_time": "2021-12-21T10:40:38.782Z"
   },
   {
    "duration": -59,
    "start_time": "2021-12-21T10:40:38.784Z"
   },
   {
    "duration": -59,
    "start_time": "2021-12-21T10:40:38.786Z"
   },
   {
    "duration": -65,
    "start_time": "2021-12-21T10:40:38.793Z"
   },
   {
    "duration": -67,
    "start_time": "2021-12-21T10:40:38.796Z"
   },
   {
    "duration": -156,
    "start_time": "2021-12-21T10:40:38.887Z"
   },
   {
    "duration": -288,
    "start_time": "2021-12-21T10:40:39.021Z"
   },
   {
    "duration": -339,
    "start_time": "2021-12-21T10:40:39.073Z"
   },
   {
    "duration": -340,
    "start_time": "2021-12-21T10:40:39.076Z"
   },
   {
    "duration": -341,
    "start_time": "2021-12-21T10:40:39.078Z"
   },
   {
    "duration": -343,
    "start_time": "2021-12-21T10:40:39.081Z"
   },
   {
    "duration": -343,
    "start_time": "2021-12-21T10:40:39.083Z"
   },
   {
    "duration": -345,
    "start_time": "2021-12-21T10:40:39.086Z"
   },
   {
    "duration": -345,
    "start_time": "2021-12-21T10:40:39.088Z"
   },
   {
    "duration": -347,
    "start_time": "2021-12-21T10:40:39.091Z"
   },
   {
    "duration": -347,
    "start_time": "2021-12-21T10:40:39.093Z"
   },
   {
    "duration": -349,
    "start_time": "2021-12-21T10:40:39.096Z"
   },
   {
    "duration": -350,
    "start_time": "2021-12-21T10:40:39.098Z"
   },
   {
    "duration": -350,
    "start_time": "2021-12-21T10:40:39.100Z"
   },
   {
    "duration": -352,
    "start_time": "2021-12-21T10:40:39.103Z"
   },
   {
    "duration": -352,
    "start_time": "2021-12-21T10:40:39.105Z"
   },
   {
    "duration": -353,
    "start_time": "2021-12-21T10:40:39.107Z"
   },
   {
    "duration": -354,
    "start_time": "2021-12-21T10:40:39.110Z"
   },
   {
    "duration": -355,
    "start_time": "2021-12-21T10:40:39.112Z"
   },
   {
    "duration": 1779,
    "start_time": "2021-12-21T18:54:13.976Z"
   },
   {
    "duration": 28,
    "start_time": "2021-12-21T18:54:15.758Z"
   },
   {
    "duration": 220,
    "start_time": "2021-12-21T18:54:15.789Z"
   },
   {
    "duration": 23,
    "start_time": "2021-12-21T18:54:16.011Z"
   },
   {
    "duration": 11,
    "start_time": "2021-12-21T18:54:16.037Z"
   },
   {
    "duration": 20,
    "start_time": "2021-12-21T18:54:16.051Z"
   },
   {
    "duration": 10,
    "start_time": "2021-12-21T18:54:16.074Z"
   },
   {
    "duration": 33,
    "start_time": "2021-12-21T18:54:16.126Z"
   },
   {
    "duration": 23,
    "start_time": "2021-12-21T18:54:16.162Z"
   },
   {
    "duration": 46,
    "start_time": "2021-12-21T18:54:16.187Z"
   },
   {
    "duration": 18,
    "start_time": "2021-12-21T18:54:16.237Z"
   },
   {
    "duration": 11,
    "start_time": "2021-12-21T18:54:16.258Z"
   },
   {
    "duration": 7,
    "start_time": "2021-12-21T18:54:16.272Z"
   },
   {
    "duration": 12,
    "start_time": "2021-12-21T18:54:16.320Z"
   },
   {
    "duration": 8,
    "start_time": "2021-12-21T18:54:16.335Z"
   },
   {
    "duration": 11,
    "start_time": "2021-12-21T18:54:16.346Z"
   },
   {
    "duration": 9,
    "start_time": "2021-12-21T18:54:16.359Z"
   },
   {
    "duration": 49,
    "start_time": "2021-12-21T18:54:16.371Z"
   },
   {
    "duration": 15,
    "start_time": "2021-12-21T18:54:16.426Z"
   },
   {
    "duration": 14,
    "start_time": "2021-12-21T18:54:16.443Z"
   },
   {
    "duration": 9,
    "start_time": "2021-12-21T18:54:16.460Z"
   },
   {
    "duration": 62,
    "start_time": "2021-12-21T18:54:16.472Z"
   },
   {
    "duration": 8,
    "start_time": "2021-12-21T18:54:16.544Z"
   },
   {
    "duration": 6,
    "start_time": "2021-12-21T18:54:16.556Z"
   },
   {
    "duration": 5,
    "start_time": "2021-12-21T18:54:16.565Z"
   },
   {
    "duration": 47,
    "start_time": "2021-12-21T18:54:16.573Z"
   },
   {
    "duration": 423,
    "start_time": "2021-12-21T18:54:16.623Z"
   },
   {
    "duration": 16,
    "start_time": "2021-12-21T18:54:17.049Z"
   },
   {
    "duration": 12,
    "start_time": "2021-12-21T18:54:17.067Z"
   },
   {
    "duration": 47,
    "start_time": "2021-12-21T18:54:17.082Z"
   },
   {
    "duration": 634,
    "start_time": "2021-12-21T18:54:17.131Z"
   },
   {
    "duration": 8,
    "start_time": "2021-12-21T18:54:17.767Z"
   },
   {
    "duration": 54,
    "start_time": "2021-12-21T18:54:17.778Z"
   },
   {
    "duration": 5,
    "start_time": "2021-12-21T18:54:17.835Z"
   },
   {
    "duration": 7,
    "start_time": "2021-12-21T18:54:17.843Z"
   },
   {
    "duration": 17,
    "start_time": "2021-12-21T18:54:17.853Z"
   },
   {
    "duration": 46,
    "start_time": "2021-12-21T18:54:17.873Z"
   },
   {
    "duration": 22,
    "start_time": "2021-12-21T18:54:17.922Z"
   },
   {
    "duration": 11,
    "start_time": "2021-12-21T18:54:17.946Z"
   },
   {
    "duration": 409,
    "start_time": "2021-12-21T18:54:17.959Z"
   },
   {
    "duration": 4,
    "start_time": "2021-12-21T18:54:18.371Z"
   },
   {
    "duration": 14,
    "start_time": "2021-12-21T18:54:18.377Z"
   },
   {
    "duration": 27,
    "start_time": "2021-12-21T18:54:18.393Z"
   },
   {
    "duration": 15,
    "start_time": "2021-12-21T18:54:18.423Z"
   },
   {
    "duration": 19,
    "start_time": "2021-12-21T18:54:18.440Z"
   },
   {
    "duration": 376,
    "start_time": "2021-12-21T18:54:18.462Z"
   },
   {
    "duration": 15,
    "start_time": "2021-12-21T18:54:18.840Z"
   },
   {
    "duration": 16,
    "start_time": "2021-12-21T18:54:18.858Z"
   },
   {
    "duration": 46,
    "start_time": "2021-12-21T18:54:18.877Z"
   },
   {
    "duration": 17,
    "start_time": "2021-12-21T18:54:18.927Z"
   },
   {
    "duration": 17,
    "start_time": "2021-12-21T18:54:18.946Z"
   },
   {
    "duration": 57,
    "start_time": "2021-12-21T18:54:18.965Z"
   },
   {
    "duration": 15,
    "start_time": "2021-12-21T18:54:19.029Z"
   },
   {
    "duration": 16,
    "start_time": "2021-12-21T18:54:19.047Z"
   },
   {
    "duration": 18,
    "start_time": "2021-12-21T18:54:19.066Z"
   },
   {
    "duration": 48,
    "start_time": "2021-12-21T18:54:19.087Z"
   },
   {
    "duration": 15,
    "start_time": "2021-12-21T18:54:19.137Z"
   },
   {
    "duration": 21,
    "start_time": "2021-12-21T18:54:19.155Z"
   },
   {
    "duration": 55,
    "start_time": "2021-12-21T18:54:19.179Z"
   },
   {
    "duration": 15,
    "start_time": "2021-12-21T18:54:19.237Z"
   },
   {
    "duration": 17,
    "start_time": "2021-12-21T18:54:19.254Z"
   },
   {
    "duration": 49,
    "start_time": "2021-12-21T18:54:19.274Z"
   },
   {
    "duration": 21,
    "start_time": "2021-12-21T18:54:19.327Z"
   },
   {
    "duration": 12,
    "start_time": "2021-12-21T18:54:19.350Z"
   },
   {
    "duration": 17,
    "start_time": "2021-12-21T18:54:19.365Z"
   },
   {
    "duration": 44,
    "start_time": "2021-12-21T18:54:19.384Z"
   },
   {
    "duration": 15,
    "start_time": "2021-12-21T18:54:19.435Z"
   },
   {
    "duration": 23,
    "start_time": "2021-12-21T18:54:19.461Z"
   },
   {
    "duration": 29,
    "start_time": "2021-12-21T18:54:19.488Z"
   },
   {
    "duration": 39,
    "start_time": "2021-12-21T18:54:19.524Z"
   },
   {
    "duration": 24,
    "start_time": "2021-12-21T18:54:19.565Z"
   },
   {
    "duration": 37,
    "start_time": "2021-12-21T18:54:19.592Z"
   },
   {
    "duration": 8,
    "start_time": "2021-12-21T18:54:19.631Z"
   },
   {
    "duration": 14,
    "start_time": "2021-12-21T18:54:19.641Z"
   },
   {
    "duration": 21,
    "start_time": "2021-12-21T18:54:19.657Z"
   },
   {
    "duration": 24,
    "start_time": "2021-12-21T18:54:19.717Z"
   },
   {
    "duration": 21,
    "start_time": "2021-12-21T18:54:19.744Z"
   },
   {
    "duration": 3425,
    "start_time": "2021-12-21T18:54:19.767Z"
   },
   {
    "duration": 30,
    "start_time": "2021-12-21T18:54:23.194Z"
   },
   {
    "duration": 1066,
    "start_time": "2021-12-21T18:54:23.227Z"
   },
   {
    "duration": -40,
    "start_time": "2021-12-21T18:54:24.336Z"
   },
   {
    "duration": -52,
    "start_time": "2021-12-21T18:54:24.349Z"
   },
   {
    "duration": -56,
    "start_time": "2021-12-21T18:54:24.354Z"
   },
   {
    "duration": -58,
    "start_time": "2021-12-21T18:54:24.358Z"
   },
   {
    "duration": -61,
    "start_time": "2021-12-21T18:54:24.362Z"
   },
   {
    "duration": -49,
    "start_time": "2021-12-21T18:54:24.365Z"
   },
   {
    "duration": -51,
    "start_time": "2021-12-21T18:54:24.369Z"
   },
   {
    "duration": -54,
    "start_time": "2021-12-21T18:54:24.373Z"
   },
   {
    "duration": -57,
    "start_time": "2021-12-21T18:54:24.377Z"
   },
   {
    "duration": -58,
    "start_time": "2021-12-21T18:54:24.380Z"
   },
   {
    "duration": -67,
    "start_time": "2021-12-21T18:54:24.390Z"
   },
   {
    "duration": -70,
    "start_time": "2021-12-21T18:54:24.395Z"
   },
   {
    "duration": -70,
    "start_time": "2021-12-21T18:54:24.398Z"
   },
   {
    "duration": -71,
    "start_time": "2021-12-21T18:54:24.401Z"
   },
   {
    "duration": -71,
    "start_time": "2021-12-21T18:54:24.404Z"
   },
   {
    "duration": -72,
    "start_time": "2021-12-21T18:54:24.407Z"
   },
   {
    "duration": -75,
    "start_time": "2021-12-21T18:54:24.411Z"
   },
   {
    "duration": -76,
    "start_time": "2021-12-21T18:54:24.414Z"
   },
   {
    "duration": -77,
    "start_time": "2021-12-21T18:54:24.416Z"
   },
   {
    "duration": -78,
    "start_time": "2021-12-21T18:54:24.419Z"
   },
   {
    "duration": -80,
    "start_time": "2021-12-21T18:54:24.422Z"
   },
   {
    "duration": -82,
    "start_time": "2021-12-21T18:54:24.425Z"
   },
   {
    "duration": -111,
    "start_time": "2021-12-21T18:54:24.456Z"
   },
   {
    "duration": -139,
    "start_time": "2021-12-21T18:54:24.485Z"
   },
   {
    "duration": -141,
    "start_time": "2021-12-21T18:54:24.488Z"
   },
   {
    "duration": -144,
    "start_time": "2021-12-21T18:54:24.492Z"
   },
   {
    "duration": -145,
    "start_time": "2021-12-21T18:54:24.494Z"
   },
   {
    "duration": -147,
    "start_time": "2021-12-21T18:54:24.498Z"
   },
   {
    "duration": -148,
    "start_time": "2021-12-21T18:54:24.500Z"
   },
   {
    "duration": -150,
    "start_time": "2021-12-21T18:54:24.503Z"
   },
   {
    "duration": -152,
    "start_time": "2021-12-21T18:54:24.506Z"
   },
   {
    "duration": -203,
    "start_time": "2021-12-21T18:54:24.559Z"
   },
   {
    "duration": -205,
    "start_time": "2021-12-21T18:54:24.562Z"
   },
   {
    "duration": -148,
    "start_time": "2021-12-21T18:54:24.565Z"
   },
   {
    "duration": -149,
    "start_time": "2021-12-21T18:54:24.567Z"
   },
   {
    "duration": -151,
    "start_time": "2021-12-21T18:54:24.570Z"
   },
   {
    "duration": -152,
    "start_time": "2021-12-21T18:54:24.573Z"
   },
   {
    "duration": -154,
    "start_time": "2021-12-21T18:54:24.576Z"
   },
   {
    "duration": -156,
    "start_time": "2021-12-21T18:54:24.579Z"
   },
   {
    "duration": -157,
    "start_time": "2021-12-21T18:54:24.582Z"
   },
   {
    "duration": -156,
    "start_time": "2021-12-21T18:54:24.584Z"
   },
   {
    "duration": -165,
    "start_time": "2021-12-21T18:54:24.595Z"
   },
   {
    "duration": -166,
    "start_time": "2021-12-21T18:54:24.598Z"
   },
   {
    "duration": -166,
    "start_time": "2021-12-21T18:54:24.601Z"
   },
   {
    "duration": -167,
    "start_time": "2021-12-21T18:54:24.604Z"
   },
   {
    "duration": 900,
    "start_time": "2021-12-21T18:56:11.394Z"
   },
   {
    "duration": 865,
    "start_time": "2021-12-21T18:56:53.142Z"
   },
   {
    "duration": 366,
    "start_time": "2021-12-21T18:56:57.629Z"
   },
   {
    "duration": 4,
    "start_time": "2021-12-21T18:57:24.255Z"
   },
   {
    "duration": 453,
    "start_time": "2021-12-21T18:57:30.328Z"
   },
   {
    "duration": 434,
    "start_time": "2021-12-21T18:57:53.887Z"
   },
   {
    "duration": 13907,
    "start_time": "2021-12-21T18:59:06.003Z"
   },
   {
    "duration": 9240,
    "start_time": "2021-12-21T18:59:31.228Z"
   },
   {
    "duration": 17,
    "start_time": "2021-12-21T18:59:40.471Z"
   },
   {
    "duration": 105,
    "start_time": "2021-12-21T18:59:40.492Z"
   },
   {
    "duration": 20,
    "start_time": "2021-12-21T18:59:40.599Z"
   },
   {
    "duration": 15,
    "start_time": "2021-12-21T18:59:40.621Z"
   },
   {
    "duration": 15,
    "start_time": "2021-12-21T18:59:40.638Z"
   },
   {
    "duration": 11,
    "start_time": "2021-12-21T18:59:40.656Z"
   },
   {
    "duration": 60,
    "start_time": "2021-12-21T18:59:40.671Z"
   },
   {
    "duration": 20,
    "start_time": "2021-12-21T18:59:40.734Z"
   },
   {
    "duration": 21,
    "start_time": "2021-12-21T18:59:40.757Z"
   },
   {
    "duration": 49,
    "start_time": "2021-12-21T18:59:40.781Z"
   },
   {
    "duration": 7,
    "start_time": "2021-12-21T18:59:40.832Z"
   },
   {
    "duration": 6,
    "start_time": "2021-12-21T18:59:40.842Z"
   },
   {
    "duration": 7,
    "start_time": "2021-12-21T18:59:40.850Z"
   },
   {
    "duration": 7,
    "start_time": "2021-12-21T18:59:40.859Z"
   },
   {
    "duration": 55,
    "start_time": "2021-12-21T18:59:40.869Z"
   },
   {
    "duration": 10,
    "start_time": "2021-12-21T18:59:40.926Z"
   },
   {
    "duration": 11,
    "start_time": "2021-12-21T18:59:40.938Z"
   },
   {
    "duration": 12,
    "start_time": "2021-12-21T18:59:40.951Z"
   },
   {
    "duration": 54,
    "start_time": "2021-12-21T18:59:40.965Z"
   },
   {
    "duration": 29,
    "start_time": "2021-12-21T18:59:41.022Z"
   },
   {
    "duration": 17,
    "start_time": "2021-12-21T18:59:41.053Z"
   },
   {
    "duration": 8,
    "start_time": "2021-12-21T18:59:41.077Z"
   },
   {
    "duration": 8,
    "start_time": "2021-12-21T18:59:41.089Z"
   },
   {
    "duration": 8,
    "start_time": "2021-12-21T18:59:41.118Z"
   },
   {
    "duration": 15,
    "start_time": "2021-12-21T18:59:41.129Z"
   },
   {
    "duration": 406,
    "start_time": "2021-12-21T18:59:41.146Z"
   },
   {
    "duration": 16,
    "start_time": "2021-12-21T18:59:41.555Z"
   },
   {
    "duration": 11,
    "start_time": "2021-12-21T18:59:41.574Z"
   },
   {
    "duration": 37,
    "start_time": "2021-12-21T18:59:41.587Z"
   },
   {
    "duration": 387,
    "start_time": "2021-12-21T18:59:41.626Z"
   },
   {
    "duration": 7,
    "start_time": "2021-12-21T18:59:42.017Z"
   },
   {
    "duration": 29,
    "start_time": "2021-12-21T18:59:42.027Z"
   },
   {
    "duration": 5,
    "start_time": "2021-12-21T18:59:42.059Z"
   },
   {
    "duration": 9,
    "start_time": "2021-12-21T18:59:42.066Z"
   },
   {
    "duration": 56,
    "start_time": "2021-12-21T18:59:42.077Z"
   },
   {
    "duration": 15,
    "start_time": "2021-12-21T18:59:42.136Z"
   },
   {
    "duration": 20,
    "start_time": "2021-12-21T18:59:42.154Z"
   },
   {
    "duration": 45,
    "start_time": "2021-12-21T18:59:42.176Z"
   },
   {
    "duration": 368,
    "start_time": "2021-12-21T18:59:42.224Z"
   },
   {
    "duration": 5,
    "start_time": "2021-12-21T18:59:42.595Z"
   },
   {
    "duration": 28,
    "start_time": "2021-12-21T18:59:42.603Z"
   },
   {
    "duration": 13,
    "start_time": "2021-12-21T18:59:42.635Z"
   },
   {
    "duration": 1284,
    "start_time": "2021-12-21T18:59:42.651Z"
   },
   {
    "duration": 1249,
    "start_time": "2021-12-21T18:59:43.937Z"
   },
   {
    "duration": 380,
    "start_time": "2021-12-21T18:59:45.188Z"
   },
   {
    "duration": 14,
    "start_time": "2021-12-21T18:59:45.570Z"
   },
   {
    "duration": 31,
    "start_time": "2021-12-21T18:59:45.586Z"
   },
   {
    "duration": 15,
    "start_time": "2021-12-21T18:59:45.620Z"
   },
   {
    "duration": 15,
    "start_time": "2021-12-21T18:59:45.638Z"
   },
   {
    "duration": 16,
    "start_time": "2021-12-21T18:59:45.655Z"
   },
   {
    "duration": 54,
    "start_time": "2021-12-21T18:59:45.673Z"
   },
   {
    "duration": 12,
    "start_time": "2021-12-21T18:59:45.729Z"
   },
   {
    "duration": 14,
    "start_time": "2021-12-21T18:59:45.744Z"
   },
   {
    "duration": 19,
    "start_time": "2021-12-21T18:59:45.761Z"
   },
   {
    "duration": 47,
    "start_time": "2021-12-21T18:59:45.783Z"
   },
   {
    "duration": 15,
    "start_time": "2021-12-21T18:59:45.833Z"
   },
   {
    "duration": 16,
    "start_time": "2021-12-21T18:59:45.850Z"
   },
   {
    "duration": 50,
    "start_time": "2021-12-21T18:59:45.868Z"
   },
   {
    "duration": 16,
    "start_time": "2021-12-21T18:59:45.920Z"
   },
   {
    "duration": 16,
    "start_time": "2021-12-21T18:59:45.938Z"
   },
   {
    "duration": 10,
    "start_time": "2021-12-21T18:59:45.956Z"
   },
   {
    "duration": 54,
    "start_time": "2021-12-21T18:59:45.969Z"
   },
   {
    "duration": 10,
    "start_time": "2021-12-21T18:59:46.025Z"
   },
   {
    "duration": 17,
    "start_time": "2021-12-21T18:59:46.038Z"
   },
   {
    "duration": 12,
    "start_time": "2021-12-21T18:59:46.058Z"
   },
   {
    "duration": 54,
    "start_time": "2021-12-21T18:59:46.073Z"
   },
   {
    "duration": 23,
    "start_time": "2021-12-21T18:59:46.136Z"
   },
   {
    "duration": 5,
    "start_time": "2021-12-21T18:59:46.163Z"
   },
   {
    "duration": 62,
    "start_time": "2021-12-21T18:59:46.170Z"
   },
   {
    "duration": 25,
    "start_time": "2021-12-21T18:59:46.235Z"
   },
   {
    "duration": 27,
    "start_time": "2021-12-21T18:59:46.263Z"
   },
   {
    "duration": 26,
    "start_time": "2021-12-21T18:59:46.293Z"
   },
   {
    "duration": 12,
    "start_time": "2021-12-21T18:59:46.321Z"
   },
   {
    "duration": 26,
    "start_time": "2021-12-21T18:59:46.335Z"
   },
   {
    "duration": 56,
    "start_time": "2021-12-21T18:59:46.363Z"
   },
   {
    "duration": 19,
    "start_time": "2021-12-21T18:59:46.422Z"
   },
   {
    "duration": 3197,
    "start_time": "2021-12-21T18:59:46.443Z"
   },
   {
    "duration": 15,
    "start_time": "2021-12-21T18:59:49.643Z"
   },
   {
    "duration": 596,
    "start_time": "2021-12-21T18:59:49.660Z"
   },
   {
    "duration": 15,
    "start_time": "2021-12-21T18:59:50.259Z"
   },
   {
    "duration": 41,
    "start_time": "2021-12-21T18:59:50.276Z"
   },
   {
    "duration": 5,
    "start_time": "2021-12-21T18:59:50.319Z"
   },
   {
    "duration": 16,
    "start_time": "2021-12-21T18:59:50.326Z"
   },
   {
    "duration": 16,
    "start_time": "2021-12-21T18:59:50.345Z"
   },
   {
    "duration": 5,
    "start_time": "2021-12-21T18:59:50.363Z"
   },
   {
    "duration": 3115,
    "start_time": "2021-12-21T18:59:50.371Z"
   },
   {
    "duration": 2225,
    "start_time": "2021-12-21T18:59:53.489Z"
   },
   {
    "duration": 7,
    "start_time": "2021-12-21T18:59:55.718Z"
   },
   {
    "duration": 10,
    "start_time": "2021-12-21T18:59:55.728Z"
   },
   {
    "duration": 238,
    "start_time": "2021-12-21T18:59:55.741Z"
   },
   {
    "duration": 172,
    "start_time": "2021-12-21T18:59:55.982Z"
   },
   {
    "duration": 460,
    "start_time": "2021-12-21T18:59:56.156Z"
   },
   {
    "duration": 61,
    "start_time": "2021-12-21T18:59:56.618Z"
   },
   {
    "duration": 760,
    "start_time": "2021-12-21T18:59:56.682Z"
   },
   {
    "duration": 1094,
    "start_time": "2021-12-21T18:59:57.444Z"
   },
   {
    "duration": 402,
    "start_time": "2021-12-21T18:59:58.540Z"
   },
   {
    "duration": 84,
    "start_time": "2021-12-21T18:59:58.945Z"
   },
   {
    "duration": 5,
    "start_time": "2021-12-21T18:59:59.032Z"
   },
   {
    "duration": 7,
    "start_time": "2021-12-21T18:59:59.040Z"
   },
   {
    "duration": 11,
    "start_time": "2021-12-21T18:59:59.050Z"
   },
   {
    "duration": 111,
    "start_time": "2021-12-21T18:59:59.117Z"
   },
   {
    "duration": 547,
    "start_time": "2021-12-21T18:59:59.319Z"
   },
   {
    "duration": 730,
    "start_time": "2021-12-21T18:59:59.868Z"
   },
   {
    "duration": 253,
    "start_time": "2021-12-21T19:00:00.601Z"
   },
   {
    "duration": 5,
    "start_time": "2021-12-21T19:00:00.857Z"
   },
   {
    "duration": 10,
    "start_time": "2021-12-21T19:00:00.865Z"
   },
   {
    "duration": 52,
    "start_time": "2021-12-21T19:00:00.877Z"
   },
   {
    "duration": 106,
    "start_time": "2021-12-21T19:00:01.017Z"
   },
   {
    "duration": 505,
    "start_time": "2021-12-21T19:00:01.126Z"
   },
   {
    "duration": 9,
    "start_time": "2021-12-21T19:00:01.633Z"
   },
   {
    "duration": 721,
    "start_time": "2021-12-21T19:00:01.645Z"
   },
   {
    "duration": 650,
    "start_time": "2021-12-21T19:00:02.369Z"
   },
   {
    "duration": 112,
    "start_time": "2021-12-21T19:00:03.022Z"
   },
   {
    "duration": 5,
    "start_time": "2021-12-21T19:00:03.137Z"
   },
   {
    "duration": 11,
    "start_time": "2021-12-21T19:00:03.144Z"
   },
   {
    "duration": 2418,
    "start_time": "2021-12-21T19:00:03.157Z"
   },
   {
    "duration": -61,
    "start_time": "2021-12-21T19:00:05.639Z"
   },
   {
    "duration": -62,
    "start_time": "2021-12-21T19:00:05.643Z"
   },
   {
    "duration": -64,
    "start_time": "2021-12-21T19:00:05.646Z"
   },
   {
    "duration": -66,
    "start_time": "2021-12-21T19:00:05.650Z"
   },
   {
    "duration": -67,
    "start_time": "2021-12-21T19:00:05.652Z"
   },
   {
    "duration": -70,
    "start_time": "2021-12-21T19:00:05.656Z"
   },
   {
    "duration": -79,
    "start_time": "2021-12-21T19:00:05.667Z"
   },
   {
    "duration": -83,
    "start_time": "2021-12-21T19:00:05.672Z"
   },
   {
    "duration": 3040,
    "start_time": "2021-12-21T19:00:34.449Z"
   },
   {
    "duration": 8,
    "start_time": "2021-12-21T19:00:43.065Z"
   },
   {
    "duration": 89,
    "start_time": "2021-12-21T19:00:47.832Z"
   },
   {
    "duration": 1842,
    "start_time": "2021-12-21T19:00:50.969Z"
   },
   {
    "duration": 47663,
    "start_time": "2021-12-21T19:05:06.402Z"
   },
   {
    "duration": 18,
    "start_time": "2021-12-21T19:05:54.068Z"
   },
   {
    "duration": 113,
    "start_time": "2021-12-21T19:05:54.089Z"
   },
   {
    "duration": 21,
    "start_time": "2021-12-21T19:05:54.205Z"
   },
   {
    "duration": 11,
    "start_time": "2021-12-21T19:05:54.229Z"
   },
   {
    "duration": 17,
    "start_time": "2021-12-21T19:05:54.243Z"
   },
   {
    "duration": 10,
    "start_time": "2021-12-21T19:05:54.263Z"
   },
   {
    "duration": 61,
    "start_time": "2021-12-21T19:05:54.276Z"
   },
   {
    "duration": 20,
    "start_time": "2021-12-21T19:05:54.340Z"
   },
   {
    "duration": 19,
    "start_time": "2021-12-21T19:05:54.363Z"
   },
   {
    "duration": 43,
    "start_time": "2021-12-21T19:05:54.385Z"
   },
   {
    "duration": 6,
    "start_time": "2021-12-21T19:05:54.430Z"
   },
   {
    "duration": 8,
    "start_time": "2021-12-21T19:05:54.438Z"
   },
   {
    "duration": 7,
    "start_time": "2021-12-21T19:05:54.448Z"
   },
   {
    "duration": 7,
    "start_time": "2021-12-21T19:05:54.457Z"
   },
   {
    "duration": 54,
    "start_time": "2021-12-21T19:05:54.466Z"
   },
   {
    "duration": 9,
    "start_time": "2021-12-21T19:05:54.523Z"
   },
   {
    "duration": 10,
    "start_time": "2021-12-21T19:05:54.534Z"
   },
   {
    "duration": 6,
    "start_time": "2021-12-21T19:05:54.546Z"
   },
   {
    "duration": 17,
    "start_time": "2021-12-21T19:05:54.554Z"
   },
   {
    "duration": 45,
    "start_time": "2021-12-21T19:05:54.574Z"
   },
   {
    "duration": 12,
    "start_time": "2021-12-21T19:05:54.621Z"
   },
   {
    "duration": 8,
    "start_time": "2021-12-21T19:05:54.640Z"
   },
   {
    "duration": 6,
    "start_time": "2021-12-21T19:05:54.652Z"
   },
   {
    "duration": 6,
    "start_time": "2021-12-21T19:05:54.661Z"
   },
   {
    "duration": 9,
    "start_time": "2021-12-21T19:05:54.718Z"
   },
   {
    "duration": 286,
    "start_time": "2021-12-21T19:05:54.730Z"
   },
   {
    "duration": 14,
    "start_time": "2021-12-21T19:05:55.018Z"
   },
   {
    "duration": 10,
    "start_time": "2021-12-21T19:05:55.034Z"
   },
   {
    "duration": 10,
    "start_time": "2021-12-21T19:05:55.046Z"
   },
   {
    "duration": 254,
    "start_time": "2021-12-21T19:05:55.058Z"
   },
   {
    "duration": 6,
    "start_time": "2021-12-21T19:05:55.314Z"
   },
   {
    "duration": 21,
    "start_time": "2021-12-21T19:05:55.322Z"
   },
   {
    "duration": 6,
    "start_time": "2021-12-21T19:05:55.345Z"
   },
   {
    "duration": 7,
    "start_time": "2021-12-21T19:05:55.353Z"
   },
   {
    "duration": 14,
    "start_time": "2021-12-21T19:05:55.362Z"
   },
   {
    "duration": 50,
    "start_time": "2021-12-21T19:05:55.378Z"
   },
   {
    "duration": 13,
    "start_time": "2021-12-21T19:05:55.430Z"
   },
   {
    "duration": 10,
    "start_time": "2021-12-21T19:05:55.446Z"
   },
   {
    "duration": 278,
    "start_time": "2021-12-21T19:05:55.458Z"
   },
   {
    "duration": 6,
    "start_time": "2021-12-21T19:05:55.739Z"
   },
   {
    "duration": 13,
    "start_time": "2021-12-21T19:05:55.748Z"
   },
   {
    "duration": 7,
    "start_time": "2021-12-21T19:05:55.764Z"
   },
   {
    "duration": 44,
    "start_time": "2021-12-21T19:05:55.773Z"
   },
   {
    "duration": 11,
    "start_time": "2021-12-21T19:05:55.819Z"
   },
   {
    "duration": 256,
    "start_time": "2021-12-21T19:05:55.832Z"
   },
   {
    "duration": 26,
    "start_time": "2021-12-21T19:05:56.090Z"
   },
   {
    "duration": 12,
    "start_time": "2021-12-21T19:05:56.119Z"
   },
   {
    "duration": 14,
    "start_time": "2021-12-21T19:05:56.133Z"
   },
   {
    "duration": 12,
    "start_time": "2021-12-21T19:05:56.150Z"
   },
   {
    "duration": 55,
    "start_time": "2021-12-21T19:05:56.164Z"
   },
   {
    "duration": 13,
    "start_time": "2021-12-21T19:05:56.221Z"
   },
   {
    "duration": 11,
    "start_time": "2021-12-21T19:05:56.236Z"
   },
   {
    "duration": 13,
    "start_time": "2021-12-21T19:05:56.250Z"
   },
   {
    "duration": 52,
    "start_time": "2021-12-21T19:05:56.266Z"
   },
   {
    "duration": 13,
    "start_time": "2021-12-21T19:05:56.320Z"
   },
   {
    "duration": 13,
    "start_time": "2021-12-21T19:05:56.335Z"
   },
   {
    "duration": 12,
    "start_time": "2021-12-21T19:05:56.351Z"
   },
   {
    "duration": 13,
    "start_time": "2021-12-21T19:05:56.366Z"
   },
   {
    "duration": 13,
    "start_time": "2021-12-21T19:05:56.418Z"
   },
   {
    "duration": 18,
    "start_time": "2021-12-21T19:05:56.433Z"
   },
   {
    "duration": 16,
    "start_time": "2021-12-21T19:05:56.453Z"
   },
   {
    "duration": 15,
    "start_time": "2021-12-21T19:05:56.472Z"
   },
   {
    "duration": 35,
    "start_time": "2021-12-21T19:05:56.489Z"
   },
   {
    "duration": 15,
    "start_time": "2021-12-21T19:05:56.526Z"
   },
   {
    "duration": 11,
    "start_time": "2021-12-21T19:05:56.543Z"
   },
   {
    "duration": 12,
    "start_time": "2021-12-21T19:05:56.556Z"
   },
   {
    "duration": 56,
    "start_time": "2021-12-21T19:05:56.577Z"
   },
   {
    "duration": 4,
    "start_time": "2021-12-21T19:05:56.639Z"
   },
   {
    "duration": 37,
    "start_time": "2021-12-21T19:05:56.646Z"
   },
   {
    "duration": 52,
    "start_time": "2021-12-21T19:05:56.686Z"
   },
   {
    "duration": 22,
    "start_time": "2021-12-21T19:05:56.741Z"
   },
   {
    "duration": 6,
    "start_time": "2021-12-21T19:05:56.766Z"
   },
   {
    "duration": 50,
    "start_time": "2021-12-21T19:05:56.775Z"
   },
   {
    "duration": 17,
    "start_time": "2021-12-21T19:05:56.827Z"
   },
   {
    "duration": 20,
    "start_time": "2021-12-21T19:05:56.846Z"
   },
   {
    "duration": 50,
    "start_time": "2021-12-21T19:05:56.868Z"
   },
   {
    "duration": 1620,
    "start_time": "2021-12-21T19:05:56.922Z"
   },
   {
    "duration": 18,
    "start_time": "2021-12-21T19:05:58.545Z"
   },
   {
    "duration": 468,
    "start_time": "2021-12-21T19:05:58.566Z"
   },
   {
    "duration": 13,
    "start_time": "2021-12-21T19:05:59.036Z"
   },
   {
    "duration": 21,
    "start_time": "2021-12-21T19:05:59.052Z"
   },
   {
    "duration": 6,
    "start_time": "2021-12-21T19:05:59.076Z"
   },
   {
    "duration": 41,
    "start_time": "2021-12-21T19:05:59.085Z"
   },
   {
    "duration": 12,
    "start_time": "2021-12-21T19:05:59.129Z"
   },
   {
    "duration": 4,
    "start_time": "2021-12-21T19:05:59.144Z"
   },
   {
    "duration": 3941,
    "start_time": "2021-12-21T19:05:59.151Z"
   },
   {
    "duration": 2390,
    "start_time": "2021-12-21T19:06:03.094Z"
   },
   {
    "duration": 5,
    "start_time": "2021-12-21T19:06:05.487Z"
   },
   {
    "duration": 8,
    "start_time": "2021-12-21T19:06:05.495Z"
   },
   {
    "duration": 176,
    "start_time": "2021-12-21T19:06:05.505Z"
   },
   {
    "duration": 168,
    "start_time": "2021-12-21T19:06:05.683Z"
   },
   {
    "duration": 281,
    "start_time": "2021-12-21T19:06:05.853Z"
   },
   {
    "duration": 63,
    "start_time": "2021-12-21T19:06:06.137Z"
   },
   {
    "duration": 478,
    "start_time": "2021-12-21T19:06:06.202Z"
   },
   {
    "duration": 566,
    "start_time": "2021-12-21T19:06:06.682Z"
   },
   {
    "duration": 456,
    "start_time": "2021-12-21T19:06:07.250Z"
   },
   {
    "duration": 94,
    "start_time": "2021-12-21T19:06:07.709Z"
   },
   {
    "duration": 7,
    "start_time": "2021-12-21T19:06:07.805Z"
   },
   {
    "duration": 14,
    "start_time": "2021-12-21T19:06:07.814Z"
   },
   {
    "duration": 21,
    "start_time": "2021-12-21T19:06:07.831Z"
   },
   {
    "duration": 163,
    "start_time": "2021-12-21T19:06:07.856Z"
   },
   {
    "duration": 361,
    "start_time": "2021-12-21T19:06:08.023Z"
   },
   {
    "duration": 591,
    "start_time": "2021-12-21T19:06:08.387Z"
   },
   {
    "duration": 280,
    "start_time": "2021-12-21T19:06:08.981Z"
   },
   {
    "duration": 5,
    "start_time": "2021-12-21T19:06:09.264Z"
   },
   {
    "duration": 70,
    "start_time": "2021-12-21T19:06:09.272Z"
   },
   {
    "duration": 73,
    "start_time": "2021-12-21T19:06:09.344Z"
   },
   {
    "duration": 207,
    "start_time": "2021-12-21T19:06:09.420Z"
   },
   {
    "duration": 296,
    "start_time": "2021-12-21T19:06:09.630Z"
   },
   {
    "duration": 8,
    "start_time": "2021-12-21T19:06:09.929Z"
   },
   {
    "duration": 463,
    "start_time": "2021-12-21T19:06:09.940Z"
   },
   {
    "duration": 524,
    "start_time": "2021-12-21T19:06:10.406Z"
   },
   {
    "duration": 255,
    "start_time": "2021-12-21T19:06:10.933Z"
   },
   {
    "duration": 5,
    "start_time": "2021-12-21T19:06:11.191Z"
   },
   {
    "duration": 32,
    "start_time": "2021-12-21T19:06:11.199Z"
   },
   {
    "duration": 34,
    "start_time": "2021-12-21T19:06:11.234Z"
   },
   {
    "duration": 38,
    "start_time": "2021-12-21T19:06:11.271Z"
   },
   {
    "duration": 423,
    "start_time": "2021-12-21T19:06:11.312Z"
   },
   {
    "duration": 9,
    "start_time": "2021-12-21T19:06:11.738Z"
   },
   {
    "duration": 467,
    "start_time": "2021-12-21T19:06:11.750Z"
   },
   {
    "duration": 8,
    "start_time": "2021-12-21T19:06:12.220Z"
   },
   {
    "duration": 71,
    "start_time": "2021-12-21T19:06:12.230Z"
   },
   {
    "duration": 77,
    "start_time": "2021-12-21T19:06:12.303Z"
   },
   {
    "duration": 47,
    "start_time": "2021-12-21T19:06:12.383Z"
   },
   {
    "duration": 142,
    "start_time": "2021-12-22T18:42:34.684Z"
   }
  ],
  "hide_input": false,
  "kernelspec": {
   "display_name": "Python 3 (ipykernel)",
   "language": "python",
   "name": "python3"
  },
  "language_info": {
   "codemirror_mode": {
    "name": "ipython",
    "version": 3
   },
   "file_extension": ".py",
   "mimetype": "text/x-python",
   "name": "python",
   "nbconvert_exporter": "python",
   "pygments_lexer": "ipython3",
   "version": "3.10.5"
  },
  "toc": {
   "base_numbering": 1,
   "nav_menu": {
    "height": "399px",
    "width": "345px"
   },
   "number_sections": false,
   "sideBar": true,
   "skip_h1_title": false,
   "title_cell": "Table of Contents",
   "title_sidebar": "Contents",
   "toc_cell": false,
   "toc_position": {},
   "toc_section_display": true,
   "toc_window_display": false
  }
 },
 "nbformat": 4,
 "nbformat_minor": 4
}
